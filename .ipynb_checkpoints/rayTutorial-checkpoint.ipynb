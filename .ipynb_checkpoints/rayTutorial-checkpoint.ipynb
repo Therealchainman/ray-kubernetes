{
 "cells": [
  {
   "cell_type": "code",
   "execution_count": 2,
   "id": "522e320f-a01b-42bb-a228-e824f62e3dba",
   "metadata": {
    "tags": []
   },
   "outputs": [],
   "source": [
    "import ray"
   ]
  },
  {
   "cell_type": "code",
   "execution_count": 3,
   "id": "cddffae4-5a90-453d-a0ce-f41f02ca5d6d",
   "metadata": {
    "tags": []
   },
   "outputs": [
    {
     "name": "stderr",
     "output_type": "stream",
     "text": [
      "2021-06-23 16:03:41,744\tINFO services.py:1272 -- View the Ray dashboard at \u001b[1m\u001b[32mhttp://127.0.0.1:8265\u001b[39m\u001b[22m\n"
     ]
    },
    {
     "data": {
      "text/plain": [
       "{'node_ip_address': '192.168.1.106',\n",
       " 'raylet_ip_address': '192.168.1.106',\n",
       " 'redis_address': '192.168.1.106:6379',\n",
       " 'object_store_address': '/tmp/ray/session_2021-06-23_16-03-36_212311_4686/sockets/plasma_store',\n",
       " 'raylet_socket_name': '/tmp/ray/session_2021-06-23_16-03-36_212311_4686/sockets/raylet',\n",
       " 'webui_url': '127.0.0.1:8265',\n",
       " 'session_dir': '/tmp/ray/session_2021-06-23_16-03-36_212311_4686',\n",
       " 'metrics_export_port': 56706,\n",
       " 'node_id': 'b174e6d3a49767b88ee401ac705be065b0c98cc2d6cb1628f6ef2ee1'}"
      ]
     },
     "execution_count": 3,
     "metadata": {},
     "output_type": "execute_result"
    }
   ],
   "source": [
    "ray.init()"
   ]
  },
  {
   "cell_type": "markdown",
   "id": "a8293a47-b71e-4bef-b0fb-29204dc5243f",
   "metadata": {},
   "source": [
    "## 1. Delay ray.get()"
   ]
  },
  {
   "cell_type": "code",
   "execution_count": 3,
   "id": "f4181c17-950f-4204-97ee-328ad16165ea",
   "metadata": {
    "collapsed": true,
    "jupyter": {
     "outputs_hidden": true
    }
   },
   "outputs": [
    {
     "data": {
      "text/plain": [
       "[{'NodeID': '60dff3af7c2683a8c8960ebc06e1a68755dfc20bf734874751322734',\n",
       "  'Alive': True,\n",
       "  'NodeManagerAddress': '192.168.1.106',\n",
       "  'NodeManagerHostname': 'therealchainman',\n",
       "  'NodeManagerPort': 35235,\n",
       "  'ObjectManagerPort': 45249,\n",
       "  'ObjectStoreSocketName': '/tmp/ray/session_2021-06-22_12-13-12_898349_4069/sockets/plasma_store',\n",
       "  'RayletSocketName': '/tmp/ray/session_2021-06-22_12-13-12_898349_4069/sockets/raylet',\n",
       "  'MetricsExportPort': 58830,\n",
       "  'alive': True,\n",
       "  'Resources': {'object_store_memory': 4458224025.0,\n",
       "   'memory': 8916448052.0,\n",
       "   'node:192.168.1.106': 1.0,\n",
       "   'CPU': 8.0}}]"
      ]
     },
     "execution_count": 3,
     "metadata": {},
     "output_type": "execute_result"
    }
   ],
   "source": [
    "ray.nodes()"
   ]
  },
  {
   "cell_type": "code",
   "execution_count": 4,
   "id": "d66cad1e-029d-49a7-9cbb-60a594c0e95c",
   "metadata": {
    "collapsed": true,
    "jupyter": {
     "outputs_hidden": true
    }
   },
   "outputs": [
    {
     "name": "stdout",
     "output_type": "stream",
     "text": [
      "duration=4.003850936889648\n",
      "results=[0, 1, 2, 3]\n"
     ]
    }
   ],
   "source": [
    "import time\n",
    "\n",
    "def do_some_work(x):\n",
    "    time.sleep(1) \n",
    "    return x\n",
    "start = time.time() # Get the current time\n",
    "results = [do_some_work(x) for x in range(4)]\n",
    "print(f\"duration={time.time()-start}\")\n",
    "print(f\"results={results}\")"
   ]
  },
  {
   "cell_type": "code",
   "execution_count": 5,
   "id": "d9fa706b-ff19-4e53-8bb7-8eb08817c7c2",
   "metadata": {
    "collapsed": true,
    "jupyter": {
     "outputs_hidden": true
    }
   },
   "outputs": [
    {
     "name": "stdout",
     "output_type": "stream",
     "text": [
      "duration=0.046260833740234375\n",
      "results=[ObjectRef(a67dc375e60ddd1affffffffffffffffffffffff0100000001000000), ObjectRef(63964fa4841d4a2effffffffffffffffffffffff0100000001000000), ObjectRef(69a6825d641b4613ffffffffffffffffffffffff0100000001000000), ObjectRef(ee4e90da584ab0ebffffffffffffffffffffffff0100000001000000)]\n"
     ]
    }
   ],
   "source": [
    "import time\n",
    "import ray\n",
    "'''\n",
    "This finishes immediately, it doesn't even sleep 1 second.  That's interesting.  \n",
    "Why this returns immediately, doesn't even wait a second.  The reason is that \n",
    "this is returning futures or object ids instead of results themselves. \n",
    "\n",
    "'''\n",
    "\n",
    "@ray.remote\n",
    "def do_some_work(x):\n",
    "    time.sleep(1) \n",
    "    return x\n",
    "start = time.time() # Get the current time\n",
    "results = [do_some_work.remote(x) for x in range(4)]\n",
    "print(f\"duration={time.time()-start}\")\n",
    "print(f\"results={results}\")"
   ]
  },
  {
   "cell_type": "code",
   "execution_count": 8,
   "id": "eff2b747-6b8b-4362-b6b7-24c341f7b08e",
   "metadata": {
    "collapsed": true,
    "jupyter": {
     "outputs_hidden": true
    }
   },
   "outputs": [
    {
     "name": "stdout",
     "output_type": "stream",
     "text": [
      "duration=4.022318363189697\n",
      "results=[0, 1, 2, 3]\n"
     ]
    }
   ],
   "source": [
    "start = time.time()\n",
    "results = [ray.get(do_some_work.remote(x)) for x in range(4)]\n",
    "print(f\"duration={time.time()-start}\")\n",
    "print(f\"results={results}\")\n",
    "'''\n",
    "This is a blocking thing.  it still takes 4 seconds.  ray.get() is blocking.  \n",
    "So calling after each remote operation means that it waits for that operation to complete\n",
    "no parallelism.\n",
    "'''"
   ]
  },
  {
   "cell_type": "code",
   "execution_count": 9,
   "id": "e1f87336-6459-4e27-810b-babdf1a6cb63",
   "metadata": {
    "collapsed": true,
    "jupyter": {
     "outputs_hidden": true
    }
   },
   "outputs": [
    {
     "name": "stdout",
     "output_type": "stream",
     "text": [
      "duration=1.0063416957855225\n",
      "results=[0, 1, 2, 3]\n"
     ]
    }
   ],
   "source": [
    "start = time.time()\n",
    "results = ray.get([do_some_work.remote(x) for x in range(4)])\n",
    "print(f\"duration={time.time()-start}\")\n",
    "print(f\"results={results}\")\n",
    "'''\n",
    "So get is a performed synchronously.  Here you are calling get at the end after it \n",
    "generates the list of the futures.  and it will do it all at once I guess.  look at\n",
    "all these futures? \n",
    "I don't know if I understand this haha,  I guess they have already been computed the promises.  \n",
    "\n",
    "so before with remote() it just return futures or object ids which means it just how long\n",
    "to invoke the tasks.  Not their running times. \n",
    "\n",
    "and then get it actually runs the tasks. \n",
    "\n",
    "'''"
   ]
  },
  {
   "cell_type": "markdown",
   "id": "2f84b187-858c-4f05-98ad-44d2d96d5367",
   "metadata": {},
   "source": [
    "## 2. Avoid tiny tasks"
   ]
  },
  {
   "cell_type": "code",
   "execution_count": 10,
   "id": "0c741c59-e10b-4c8b-b0f5-bec28e6073e5",
   "metadata": {
    "collapsed": true,
    "jupyter": {
     "outputs_hidden": true
    }
   },
   "outputs": [
    {
     "name": "stdout",
     "output_type": "stream",
     "text": [
      "duration=17.84789252281189\n"
     ]
    }
   ],
   "source": [
    "import time\n",
    "\n",
    "def tiny_work(x):\n",
    "    time.sleep(0.0001)\n",
    "    return x\n",
    "\n",
    "start = time.time()\n",
    "results = [tiny_work(x) for x in range(100000)]\n",
    "print(f\"duration={time.time()-start}\")"
   ]
  },
  {
   "cell_type": "code",
   "execution_count": 12,
   "id": "ff3b2c74-fea6-466d-a014-49fae07dc5c9",
   "metadata": {
    "collapsed": true,
    "jupyter": {
     "outputs_hidden": true
    }
   },
   "outputs": [
    {
     "name": "stdout",
     "output_type": "stream",
     "text": [
      "duration=42.90978193283081\n"
     ]
    }
   ],
   "source": [
    "import time\n",
    "import ray\n",
    "\n",
    "@ray.remote\n",
    "def tiny_work(x):\n",
    "    time.sleep(0.0001)\n",
    "    return x\n",
    "\n",
    "start = time.time()\n",
    "results = [tiny_work.remote(x) for x in range(100000)]\n",
    "print(f\"duration={time.time()-start}\")\n",
    "'''\n",
    "ray is slower\n",
    "'''"
   ]
  },
  {
   "cell_type": "code",
   "execution_count": 14,
   "id": "d577c7a6-2a1f-46e0-8e20-e7ccbbddb483",
   "metadata": {
    "collapsed": true,
    "jupyter": {
     "outputs_hidden": true
    }
   },
   "outputs": [
    {
     "name": "stdout",
     "output_type": "stream",
     "text": [
      "duration=2.3094420433044434\n"
     ]
    }
   ],
   "source": [
    "import time\n",
    "import ray\n",
    "\n",
    "def tiny_work(x):\n",
    "    time.sleep(0.0001)\n",
    "    return x\n",
    "\n",
    "@ray.remote\n",
    "def mega_work(start, end):\n",
    "    return [tiny_work(x) for x in range(start, end)]\n",
    "\n",
    "start = time.time()\n",
    "result_ids = []\n",
    "[result_ids.append(mega_work.remote(x*1000, (x+1)*1000)) for x in range(100)]\n",
    "reults = ray.get(result_ids)\n",
    "print(f\"duration={time.time()-start}\")"
   ]
  },
  {
   "cell_type": "code",
   "execution_count": 15,
   "id": "fe2967f8-e1b7-40b1-ab57-2d3821216c7d",
   "metadata": {
    "collapsed": true,
    "jupyter": {
     "outputs_hidden": true
    }
   },
   "outputs": [
    {
     "name": "stdout",
     "output_type": "stream",
     "text": [
      "per task overhead (ms) =0.9690816402435303\n"
     ]
    }
   ],
   "source": [
    "@ray.remote\n",
    "def no_work(x):\n",
    "    return x\n",
    "\n",
    "start = time.time()\n",
    "num_calls = 1000\n",
    "[ray.get(no_work.remote(x)) for x in range(num_calls)]\n",
    "print(f\"per task overhead (ms) ={(time.time()-start)*1000/num_calls}\")"
   ]
  },
  {
   "cell_type": "markdown",
   "id": "17dac2bf-7524-4368-927b-72d278806e99",
   "metadata": {},
   "source": [
    "## 3. Avoid passing same object repeatedly to remote tasks"
   ]
  },
  {
   "cell_type": "code",
   "execution_count": 17,
   "id": "5ed00257-0341-444c-81e4-00cb35fe4007",
   "metadata": {
    "collapsed": true,
    "jupyter": {
     "outputs_hidden": true
    }
   },
   "outputs": [
    {
     "name": "stdout",
     "output_type": "stream",
     "text": [
      "duration=0.9758002758026123\n"
     ]
    }
   ],
   "source": [
    "import time\n",
    "import numpy as np\n",
    "import ray\n",
    "\n",
    "@ray.remote\n",
    "def no_work(a):\n",
    "    return\n",
    "start = time.time()\n",
    "a = np.zeros((5000,5000))\n",
    "result_ids = [no_work.remote(a) for x in range(10)]\n",
    "print(f\"duration={time.time()-start}\")\n",
    "\n",
    "'''\n",
    "Each time we call no_work(a) ray calls ray.put(a) which is copying the array a\n",
    "to the object store\n",
    "'''"
   ]
  },
  {
   "cell_type": "code",
   "execution_count": 19,
   "id": "6c3e7cab-8456-42ca-b40a-c146bacd20c9",
   "metadata": {
    "collapsed": true,
    "jupyter": {
     "outputs_hidden": true
    }
   },
   "outputs": [
    {
     "name": "stdout",
     "output_type": "stream",
     "text": [
      "ObjectRef(ffffffffffffffffffffffffffffffffffffffff010000000c000000)\n",
      "duration=0.0674903392791748\n"
     ]
    }
   ],
   "source": [
    "import time\n",
    "import numpy as np\n",
    "import ray\n",
    "\n",
    "@ray.remote\n",
    "def no_work(a):\n",
    "    return\n",
    "start = time.time()\n",
    "b = ray.put(np.zeros((5000,5000)))\n",
    "print(b)\n",
    "'''\n",
    "object reference to something in the object store. \n",
    "'''\n",
    "result_ids = [no_work.remote(b) for x in range(10)]\n",
    "print(f\"duration={time.time()-start}\")"
   ]
  },
  {
   "cell_type": "markdown",
   "id": "5676ff4f-1c25-4bd4-8ebd-c29cf2acad18",
   "metadata": {},
   "source": [
    "## 4. Pipeline data processing"
   ]
  },
  {
   "cell_type": "code",
   "execution_count": 21,
   "id": "c2c31c05-f4de-4d62-83f6-2afd8d85e43c",
   "metadata": {
    "collapsed": true,
    "jupyter": {
     "outputs_hidden": true
    }
   },
   "outputs": [
    {
     "name": "stdout",
     "output_type": "stream",
     "text": [
      "duration = 7.420053958892822\n",
      "result = 6\n"
     ]
    }
   ],
   "source": [
    "import time\n",
    "import random\n",
    "import ray\n",
    "\n",
    "@ray.remote\n",
    "def do_some_work(x):\n",
    "    time.sleep(random.uniform(0,4))\n",
    "    return x\n",
    "\n",
    "def process_results(results):\n",
    "    sum = 0\n",
    "    for x in results:\n",
    "        time.sleep(1)\n",
    "        sum += x\n",
    "    return sum\n",
    "\n",
    "start = time.time()\n",
    "data_list = ray.get([do_some_work.remote(x) for x in range(4)])\n",
    "sum = process_results(data_list)\n",
    "print(f\"duration = {time.time()-start}\\nresult = {sum}\")\n",
    "\n",
    "'''\n",
    "so this take 4 seconds to process the results, and the time it takes to execute\n",
    "the slowest part of do_some_work\n",
    "'''"
   ]
  },
  {
   "cell_type": "code",
   "execution_count": 23,
   "id": "422cec00-4259-41e0-9fa5-aaa4f075545d",
   "metadata": {
    "collapsed": true,
    "jupyter": {
     "outputs_hidden": true
    }
   },
   "outputs": [
    {
     "name": "stdout",
     "output_type": "stream",
     "text": [
      "duration = 4.400123357772827\n",
      "result = 6\n"
     ]
    }
   ],
   "source": [
    "import time\n",
    "import random\n",
    "import ray\n",
    "\n",
    "@ray.remote\n",
    "def do_some_work(x):\n",
    "    time.sleep(random.uniform(0,4))\n",
    "    return x\n",
    "\n",
    "def process_incremental(sum, result):\n",
    "    time.sleep(1)\n",
    "    return sum + result\n",
    "\n",
    "start = time.time()\n",
    "result_ids = [do_some_work.remote(x) for x in range(4)]\n",
    "sum = 0\n",
    "while len(result_ids):\n",
    "    done_id, result_ids = ray.wait(result_ids)\n",
    "    sum = process_incremental(sum, ray.get(done_id[0]))\n",
    "print(f\"duration = {time.time()-start}\\nresult = {sum}\")\n"
   ]
  },
  {
   "cell_type": "code",
   "execution_count": 25,
   "id": "4f7f6b1e-5e45-471f-bb98-e3a2526b9a95",
   "metadata": {
    "collapsed": true,
    "jupyter": {
     "outputs_hidden": true
    }
   },
   "outputs": [
    {
     "name": "stderr",
     "output_type": "stream",
     "text": [
      "2021-06-22 14:21:30,693\tINFO services.py:1272 -- View the Ray dashboard at \u001b[1m\u001b[32mhttp://127.0.0.1:8265\u001b[39m\u001b[22m\n"
     ]
    },
    {
     "data": {
      "text/plain": [
       "{'node_ip_address': '192.168.1.106',\n",
       " 'raylet_ip_address': '192.168.1.106',\n",
       " 'redis_address': '192.168.1.106:6379',\n",
       " 'object_store_address': '/tmp/ray/session_2021-06-22_14-21-29_222494_4069/sockets/plasma_store',\n",
       " 'raylet_socket_name': '/tmp/ray/session_2021-06-22_14-21-29_222494_4069/sockets/raylet',\n",
       " 'webui_url': '127.0.0.1:8265',\n",
       " 'session_dir': '/tmp/ray/session_2021-06-22_14-21-29_222494_4069',\n",
       " 'metrics_export_port': 37003,\n",
       " 'node_id': 'b07f706e74e93f84fe7513aeab783d7514964f63f0648f77c73997fc'}"
      ]
     },
     "execution_count": 25,
     "metadata": {},
     "output_type": "execute_result"
    }
   ],
   "source": [
    "ray.init()"
   ]
  },
  {
   "cell_type": "markdown",
   "id": "5a3fac6b-469e-4344-8085-60731a694c4c",
   "metadata": {},
   "source": [
    "## Tutorial Two"
   ]
  },
  {
   "cell_type": "code",
   "execution_count": 1,
   "id": "bae47583-bd88-4751-8c83-0e22cb70eb83",
   "metadata": {
    "collapsed": true,
    "jupyter": {
     "outputs_hidden": true
    }
   },
   "outputs": [
    {
     "name": "stderr",
     "output_type": "stream",
     "text": [
      "/home/therealchainman/miniconda3/lib/python3.8/site-packages/ray/autoscaler/_private/cli_logger.py:57: FutureWarning: Not all Ray CLI dependencies were found. In Ray 1.4+, the Ray CLI, autoscaler, and dashboard will only be usable via `pip install 'ray[default]'`. Please update your install command.\n",
      "  warnings.warn(\n"
     ]
    }
   ],
   "source": [
    "from asyncio import Event\n",
    "from typing import Tuple\n",
    "from time import sleep\n",
    "import ray\n",
    "from ray.actor import ActorHandle\n",
    "from tqdm import tqdm"
   ]
  },
  {
   "cell_type": "code",
   "execution_count": 2,
   "id": "8a405970-3bb9-4e22-985f-b83bcfd8668d",
   "metadata": {
    "collapsed": true,
    "jupyter": {
     "outputs_hidden": true
    }
   },
   "outputs": [],
   "source": [
    "@ray.remote\n",
    "class ProgressBarActor:\n",
    "    counter: int\n",
    "    delta: int\n",
    "    event: Event\n",
    "    def __init__(self) -> None:\n",
    "        self.counter = 0\n",
    "        self.delta = 0\n",
    "        self.event = Event()\n",
    "    \n",
    "    def update(self, num_items_completed: int) -> None:\n",
    "        \"\"\"\n",
    "        Updates the ProgressBar with the incremental\n",
    "        number of items that were just completed.\n",
    "        \"\"\"\n",
    "        self.counter += num_items_completed\n",
    "        self.delta += num_items_completed\n",
    "        self.event.set()\n",
    "    async def wait_for_update(self) -> Tuple[int, int]:\n",
    "        \"\"\"\n",
    "        Blocking call.\n",
    "        Waits until somebody calls `update`, then returns a tuple of\n",
    "        the number of updates since the last call to\n",
    "        `wait_for_update`, and the total number of completed items.\n",
    "        \"\"\"\n",
    "        await self.event.wait()\n",
    "        self.event.clear()\n",
    "        saved_delta = self.delta\n",
    "        self.delta = 0\n",
    "        return saved_delta, self.counter\n",
    "    def get_counter(self) -> int:\n",
    "        \"\"\"\n",
    "        Returns the total number of complete items.\n",
    "        \"\"\"\n",
    "        return self.counter"
   ]
  },
  {
   "cell_type": "code",
   "execution_count": 3,
   "id": "a7683a6d-96cc-41f8-8ac5-d8c1c2304d4d",
   "metadata": {
    "collapsed": true,
    "jupyter": {
     "outputs_hidden": true
    }
   },
   "outputs": [],
   "source": [
    "class ProgressBar:\n",
    "    progress_actor: ActorHandle\n",
    "    total: int\n",
    "    description: str\n",
    "    pbar: tqdm\n",
    "    \n",
    "    def __init__(self, total: int, description: str = \"\"):\n",
    "        self.progress_actor = ProgressBarActor.remote()\n",
    "        self.total = total\n",
    "        self.description = description\n",
    "        \n",
    "    @property\n",
    "    def actor(self) -> ActorHandle:\n",
    "        \"\"\"\n",
    "        Returns a reference to the remote `ProgressBarActor`.\n",
    "        When you complete tasks, call `update` on the actor.\n",
    "        \"\"\"\n",
    "        return self.progress_actor\n",
    "    def print_until_done(self) -> None:\n",
    "        \"\"\"Blocking call\n",
    "        \n",
    "        Do this after starting a series of remote Ray tasks, to which you've \n",
    "        passed the actor handle. Each of them calls `update` on the actor. \n",
    "        When the progress meter reaches 100%, this method returns.\n",
    "        \"\"\"\n",
    "        pbar = tqdm(desc=self.description, total=self.total)\n",
    "        while True:\n",
    "            delta, counter = ray.get(self.actor.wait_for_update.remote())\n",
    "            pbar.update(delta)\n",
    "            if counter >= self.total:\n",
    "                pbar.close()\n",
    "                return\n",
    "            "
   ]
  },
  {
   "cell_type": "code",
   "execution_count": 4,
   "id": "44f7a35a-ea6d-425f-9765-f60042a5d90e",
   "metadata": {
    "collapsed": true,
    "jupyter": {
     "outputs_hidden": true
    }
   },
   "outputs": [],
   "source": [
    "@ray.remote\n",
    "def sleep_then_increment(i: int, pba: ActorHandle) -> int:\n",
    "    sleep(i/2.0)\n",
    "    pba.update.remote(1)\n",
    "    return i"
   ]
  },
  {
   "cell_type": "code",
   "execution_count": 5,
   "id": "317a1b20-398d-4ffb-9f7d-f980c0402b44",
   "metadata": {
    "collapsed": true,
    "jupyter": {
     "outputs_hidden": true
    }
   },
   "outputs": [],
   "source": [
    "def run():\n",
    "    num_ticks = 6\n",
    "    pb = ProgressBar(num_ticks)\n",
    "    actor = pb.actor\n",
    "    # replace with arbitrary Ray task/actor.\n",
    "    tasks_pre_launch = [sleep_then_increment.remote(i, actor) for i in range(0, num_ticks)]\n",
    "    pb.print_until_done()\n",
    "    tasks = ray.get(tasks_pre_launch)\n",
    "    tasks == list(range(num_ticks))\n",
    "    num_ticks == ray.get(actor.get_counter.remote())\n",
    "    "
   ]
  },
  {
   "cell_type": "code",
   "execution_count": 8,
   "id": "1416c9b4-7bfc-421a-b76e-fb6287840997",
   "metadata": {
    "collapsed": true,
    "jupyter": {
     "outputs_hidden": true
    }
   },
   "outputs": [
    {
     "name": "stderr",
     "output_type": "stream",
     "text": [
      "100%|██████████| 6/6 [00:02<00:00,  2.25it/s]\n"
     ]
    }
   ],
   "source": [
    "run()"
   ]
  },
  {
   "cell_type": "code",
   "execution_count": 18,
   "id": "80606e56-778e-4137-b2ab-c3ad69a301cc",
   "metadata": {
    "collapsed": true,
    "jupyter": {
     "outputs_hidden": true
    }
   },
   "outputs": [],
   "source": [
    "ray.shutdown()"
   ]
  },
  {
   "cell_type": "code",
   "execution_count": 4,
   "id": "60f449ba-c3e9-477d-90c3-dd6794e4b444",
   "metadata": {
    "tags": []
   },
   "outputs": [],
   "source": [
    "import numpy as np\n",
    "import torch\n",
    "import torch.optim as optim\n",
    "import torch.nn as nn\n",
    "from torchvision import datasets, transforms\n",
    "from torch.utils.data import DataLoader\n",
    "import torch.nn.functional as F\n",
    "\n",
    "from ray import tune\n",
    "from ray.tune.schedulers import ASHAScheduler"
   ]
  },
  {
   "cell_type": "code",
   "execution_count": 5,
   "id": "8d4caab2-dc98-4fd8-8f7f-34f685f1bae7",
   "metadata": {
    "tags": []
   },
   "outputs": [],
   "source": [
    "class ConvNet(nn.Module):\n",
    "    def __init__(self):\n",
    "        super(ConvNet, self).__init__()\n",
    "        self.conv1 = nn.Conv2d(1,3,kernel_size=3)\n",
    "        self.fc = nn.Linear(192,10)\n",
    "    def forward(self, x):\n",
    "        x = F.relu(F.max_pool2d(self.conv1(x),3))\n",
    "        x = x.view(-1, 192)\n",
    "        x = self.fc(x)\n",
    "        return F.log_softmax(x, dim=1)"
   ]
  },
  {
   "cell_type": "code",
   "execution_count": 6,
   "id": "4937a871-13fc-42f1-8d93-e65361bbdbb8",
   "metadata": {
    "tags": []
   },
   "outputs": [],
   "source": [
    "EPOCH_SIZE = 512\n",
    "TEST_SIZE = 256\n",
    "\n",
    "def train(model, optimizer, train_loader):\n",
    "    device = torch.device(\"cuda\" if torch.cuda.is_available() else \"cpu\")\n",
    "    model.train()\n",
    "    for batch_idx, (data, target) in enumerate(train_loader):\n",
    "        # We set this just for the example to run quickly.\n",
    "        if batch_idx * len(data) > EPOCH_SIZE:\n",
    "            return\n",
    "        data, target = data.to(device), target.to(device)\n",
    "        optimizer.zero_grad()\n",
    "        output = model(data)\n",
    "        loss = F.nll_loss(output, target)\n",
    "        loss.backward()\n",
    "        optimizer.step()\n",
    "\n",
    "\n",
    "def test(model, data_loader):\n",
    "    device = torch.device(\"cuda\" if torch.cuda.is_available() else \"cpu\")\n",
    "    model.eval()\n",
    "    correct = 0\n",
    "    total = 0\n",
    "    with torch.no_grad():\n",
    "        for batch_idx, (data, target) in enumerate(data_loader):\n",
    "            # We set this just for the example to run quickly.\n",
    "            if batch_idx * len(data) > TEST_SIZE:\n",
    "                break\n",
    "            data, target = data.to(device), target.to(device)\n",
    "            outputs = model(data)\n",
    "            _, predicted = torch.max(outputs.data, 1)\n",
    "            total += target.size(0)\n",
    "            correct += (predicted == target).sum().item()\n",
    "\n",
    "    return correct / total"
   ]
  },
  {
   "cell_type": "code",
   "execution_count": 7,
   "id": "f6867a38-c00e-4109-ad66-1a39afa8281f",
   "metadata": {
    "tags": []
   },
   "outputs": [],
   "source": [
    "import os\n",
    "cwd = os.getcwd()"
   ]
  },
  {
   "cell_type": "code",
   "execution_count": 11,
   "id": "54776fd5-39ea-48aa-b9ea-b347d9e7e054",
   "metadata": {
    "tags": []
   },
   "outputs": [],
   "source": [
    "def train_mnist(config):\n",
    "    # Data Setup\n",
    "    mnist_transforms = transforms.Compose(\n",
    "        [transforms.ToTensor(),\n",
    "         transforms.Normalize((0.1307, ), (0.3081, ))])\n",
    "\n",
    "    train_loader = DataLoader(\n",
    "        datasets.MNIST(\"{cwd}/data\", train=True, download=True, transform=mnist_transforms),\n",
    "        batch_size=64,\n",
    "        shuffle=True)\n",
    "    test_loader = DataLoader(\n",
    "        datasets.MNIST(f\"{cwd}/data\", train=False, download=True, transform=mnist_transforms),\n",
    "        batch_size=64,\n",
    "        shuffle=True)\n",
    "\n",
    "    device = torch.device(\"cuda\" if torch.cuda.is_available() else \"cpu\")\n",
    "\n",
    "    model = ConvNet()\n",
    "    model.to(device)\n",
    "\n",
    "    optimizer = optim.SGD(\n",
    "        model.parameters(), lr=config[\"lr\"], momentum=config[\"momentum\"])\n",
    "    for i in range(10):\n",
    "        train(model, optimizer, train_loader)\n",
    "        acc = test(model, test_loader)\n",
    "\n",
    "        # Send the current training result back to Tune\n",
    "        tune.report(mean_accuracy=acc)\n",
    "\n",
    "        if i % 5 == 0:\n",
    "            # This saves the model to the trial directory\n",
    "            torch.save(model.state_dict(), \"./model.pth\")"
   ]
  },
  {
   "cell_type": "code",
   "execution_count": null,
   "id": "63f2287d-c4ac-4893-bc81-67841c12bebe",
   "metadata": {
    "collapsed": true,
    "jupyter": {
     "outputs_hidden": true
    }
   },
   "outputs": [],
   "source": []
  },
  {
   "cell_type": "code",
   "execution_count": 12,
   "id": "a8fa31f1-0c82-4000-845a-ec05dca6a601",
   "metadata": {
    "tags": []
   },
   "outputs": [
    {
     "data": {
      "text/plain": [
       "Dataset MNIST\n",
       "    Number of datapoints: 60000\n",
       "    Root location: /home/therealchainman/ml/ray-kubernetes/data\n",
       "    Split: Train"
      ]
     },
     "execution_count": 12,
     "metadata": {},
     "output_type": "execute_result"
    }
   ],
   "source": [
    "search_space = {\n",
    "    \"lr\": tune.sample_from(lambda spec: 10**(-10 * np.random.rand())),\n",
    "    \"momentum\": tune.uniform(0.1, 0.9)\n",
    "}\n",
    "\n",
    "# Uncomment this to enable distributed execution\n",
    "# ray.init(address=\"auto\")\n",
    "\n",
    "# Download the dataset first\n",
    "datasets.MNIST(f\"{cwd}/data\", train=True, download=False)\n",
    "\n"
   ]
  },
  {
   "cell_type": "code",
   "execution_count": null,
   "id": "e0f2b801-739c-45b2-b5af-c42bdb3285ce",
   "metadata": {
    "collapsed": true,
    "jupyter": {
     "outputs_hidden": true
    }
   },
   "outputs": [],
   "source": [
    "analysis = tune.run(train_mnist, config=search_space)"
   ]
  },
  {
   "cell_type": "code",
   "execution_count": 18,
   "id": "685820d1-a335-4665-84d3-c83902b0c467",
   "metadata": {
    "collapsed": true,
    "jupyter": {
     "outputs_hidden": true
    }
   },
   "outputs": [],
   "source": [
    "%matplotlib inline"
   ]
  },
  {
   "cell_type": "code",
   "execution_count": 19,
   "id": "9f086f00-a7e2-4bf9-9888-859bafcb5268",
   "metadata": {
    "collapsed": true,
    "jupyter": {
     "outputs_hidden": true
    }
   },
   "outputs": [
    {
     "data": {
      "text/plain": [
       "[<AxesSubplot:>]"
      ]
     },
     "execution_count": 19,
     "metadata": {},
     "output_type": "execute_result"
    },
    {
     "data": {
      "image/png": "[encoded data removed]",
      "text/plain": [
       "<Figure size 432x288 with 1 Axes>"
      ]
     },
     "metadata": {
      "needs_background": "light"
     },
     "output_type": "display_data"
    }
   ],
   "source": [
    "dfs = analysis.trial_dataframes\n",
    "[d.mean_accuracy.plot() for d in dfs.values()]"
   ]
  },
  {
   "cell_type": "code",
   "execution_count": 13,
   "id": "f85df2a3-01c6-49cb-b581-51c3b4252f83",
   "metadata": {
    "tags": []
   },
   "outputs": [
    {
     "name": "stderr",
     "output_type": "stream",
     "text": [
      "2021-06-23 16:05:26,795\tWARNING function_runner.py:544 -- Function checkpointing is disabled. This may result in unexpected behavior when using checkpointing features or certain schedulers. To enable, set the train function arguments to be `func(config, checkpoint_dir=None)`.\n"
     ]
    },
    {
     "data": {
      "text/html": [
       "== Status ==<br>Memory usage on this node: 4.0/15.5 GiB<br>Using FIFO scheduling algorithm.<br>Resources requested: 0/8 CPUs, 0/0 GPUs, 0.0/8.34 GiB heap, 0.0/4.17 GiB objects<br>Result logdir: /home/therealchainman/ray_results/train_mnist_2021-06-23_16-05-26<br>Number of trials: 16/20 (16 PENDING)<br><table>\n",
       "<thead>\n",
       "<tr><th>Trial name             </th><th>status  </th><th>loc  </th><th style=\"text-align: right;\">         lr</th><th style=\"text-align: right;\">  momentum</th></tr>\n",
       "</thead>\n",
       "<tbody>\n",
       "<tr><td>train_mnist_bbf8f_00000</td><td>PENDING </td><td>     </td><td style=\"text-align: right;\">0.00079759 </td><td style=\"text-align: right;\">  0.511843</td></tr>\n",
       "<tr><td>train_mnist_bbf8f_00001</td><td>PENDING </td><td>     </td><td style=\"text-align: right;\">1.68399e-06</td><td style=\"text-align: right;\">  0.501628</td></tr>\n",
       "<tr><td>train_mnist_bbf8f_00002</td><td>PENDING </td><td>     </td><td style=\"text-align: right;\">0.00318452 </td><td style=\"text-align: right;\">  0.471165</td></tr>\n",
       "<tr><td>train_mnist_bbf8f_00003</td><td>PENDING </td><td>     </td><td style=\"text-align: right;\">0.000134866</td><td style=\"text-align: right;\">  0.320262</td></tr>\n",
       "<tr><td>train_mnist_bbf8f_00004</td><td>PENDING </td><td>     </td><td style=\"text-align: right;\">0.00543249 </td><td style=\"text-align: right;\">  0.649584</td></tr>\n",
       "<tr><td>train_mnist_bbf8f_00005</td><td>PENDING </td><td>     </td><td style=\"text-align: right;\">0.000439039</td><td style=\"text-align: right;\">  0.79882 </td></tr>\n",
       "<tr><td>train_mnist_bbf8f_00006</td><td>PENDING </td><td>     </td><td style=\"text-align: right;\">0.00447357 </td><td style=\"text-align: right;\">  0.409483</td></tr>\n",
       "<tr><td>train_mnist_bbf8f_00007</td><td>PENDING </td><td>     </td><td style=\"text-align: right;\">0.000745227</td><td style=\"text-align: right;\">  0.219831</td></tr>\n",
       "<tr><td>train_mnist_bbf8f_00008</td><td>PENDING </td><td>     </td><td style=\"text-align: right;\">0.0145477  </td><td style=\"text-align: right;\">  0.473439</td></tr>\n",
       "<tr><td>train_mnist_bbf8f_00009</td><td>PENDING </td><td>     </td><td style=\"text-align: right;\">0.000378187</td><td style=\"text-align: right;\">  0.730264</td></tr>\n",
       "<tr><td>train_mnist_bbf8f_00010</td><td>PENDING </td><td>     </td><td style=\"text-align: right;\">1.09399e-07</td><td style=\"text-align: right;\">  0.228719</td></tr>\n",
       "<tr><td>train_mnist_bbf8f_00011</td><td>PENDING </td><td>     </td><td style=\"text-align: right;\">5.86371e-08</td><td style=\"text-align: right;\">  0.357454</td></tr>\n",
       "<tr><td>train_mnist_bbf8f_00012</td><td>PENDING </td><td>     </td><td style=\"text-align: right;\">0.00132057 </td><td style=\"text-align: right;\">  0.635444</td></tr>\n",
       "<tr><td>train_mnist_bbf8f_00013</td><td>PENDING </td><td>     </td><td style=\"text-align: right;\">0.0723701  </td><td style=\"text-align: right;\">  0.55429 </td></tr>\n",
       "<tr><td>train_mnist_bbf8f_00014</td><td>PENDING </td><td>     </td><td style=\"text-align: right;\">0.567137   </td><td style=\"text-align: right;\">  0.699913</td></tr>\n",
       "<tr><td>train_mnist_bbf8f_00015</td><td>PENDING </td><td>     </td><td style=\"text-align: right;\">2.09078e-06</td><td style=\"text-align: right;\">  0.202252</td></tr>\n",
       "</tbody>\n",
       "</table><br><br>"
      ],
      "text/plain": [
       "<IPython.core.display.HTML object>"
      ]
     },
     "metadata": {},
     "output_type": "display_data"
    },
    {
     "name": "stderr",
     "output_type": "stream",
     "text": [
      "\u001b[2m\u001b[36m(pid=7689)\u001b[0m 2021-06-23 16:05:29,039\tERROR function_runner.py:254 -- Runner Thread raised error.\n",
      "\u001b[2m\u001b[36m(pid=7689)\u001b[0m Traceback (most recent call last):\n",
      "\u001b[2m\u001b[36m(pid=7689)\u001b[0m   File \"/home/therealchainman/miniconda3/lib/python3.8/site-packages/ray/tune/function_runner.py\", line 248, in run\n",
      "\u001b[2m\u001b[36m(pid=7689)\u001b[0m     self._entrypoint()\n",
      "\u001b[2m\u001b[36m(pid=7689)\u001b[0m   File \"/home/therealchainman/miniconda3/lib/python3.8/site-packages/ray/tune/function_runner.py\", line 315, in entrypoint\n",
      "\u001b[2m\u001b[36m(pid=7689)\u001b[0m     return self._trainable_func(self.config, self._status_reporter,\n",
      "\u001b[2m\u001b[36m(pid=7689)\u001b[0m   File \"/home/therealchainman/miniconda3/lib/python3.8/site-packages/ray/tune/function_runner.py\", line 580, in _trainable_func\n",
      "\u001b[2m\u001b[36m(pid=7689)\u001b[0m     output = fn()\n",
      "\u001b[2m\u001b[36m(pid=7689)\u001b[0m   File \"<ipython-input-11-26a293f4f9ec>\", line 8, in train_mnist\n",
      "\u001b[2m\u001b[36m(pid=7689)\u001b[0m   File \"/home/therealchainman/miniconda3/lib/python3.8/site-packages/torchvision/datasets/mnist.py\", line 90, in __init__\n",
      "\u001b[2m\u001b[36m(pid=7689)\u001b[0m     raise RuntimeError('Dataset not found.' +\n",
      "\u001b[2m\u001b[36m(pid=7689)\u001b[0m RuntimeError: Dataset not found. You can use download=True to download it\n",
      "\u001b[2m\u001b[36m(pid=7689)\u001b[0m Exception in thread Thread-2:\n",
      "\u001b[2m\u001b[36m(pid=7689)\u001b[0m Traceback (most recent call last):\n",
      "\u001b[2m\u001b[36m(pid=7689)\u001b[0m   File \"/home/therealchainman/miniconda3/lib/python3.8/threading.py\", line 932, in _bootstrap_inner\n",
      "\u001b[2m\u001b[36m(pid=7689)\u001b[0m     self.run()\n",
      "\u001b[2m\u001b[36m(pid=7689)\u001b[0m   File \"/home/therealchainman/miniconda3/lib/python3.8/site-packages/ray/tune/function_runner.py\", line 267, in run\n",
      "\u001b[2m\u001b[36m(pid=7689)\u001b[0m     raise e\n",
      "\u001b[2m\u001b[36m(pid=7689)\u001b[0m   File \"/home/therealchainman/miniconda3/lib/python3.8/site-packages/ray/tune/function_runner.py\", line 248, in run\n",
      "\u001b[2m\u001b[36m(pid=7689)\u001b[0m     self._entrypoint()\n",
      "\u001b[2m\u001b[36m(pid=7689)\u001b[0m   File \"/home/therealchainman/miniconda3/lib/python3.8/site-packages/ray/tune/function_runner.py\", line 315, in entrypoint\n",
      "\u001b[2m\u001b[36m(pid=7689)\u001b[0m     return self._trainable_func(self.config, self._status_reporter,\n",
      "\u001b[2m\u001b[36m(pid=7689)\u001b[0m   File \"/home/therealchainman/miniconda3/lib/python3.8/site-packages/ray/tune/function_runner.py\", line 580, in _trainable_func\n",
      "\u001b[2m\u001b[36m(pid=7689)\u001b[0m     output = fn()\n",
      "\u001b[2m\u001b[36m(pid=7689)\u001b[0m   File \"<ipython-input-11-26a293f4f9ec>\", line 8, in train_mnist\n",
      "\u001b[2m\u001b[36m(pid=7689)\u001b[0m   File \"/home/therealchainman/miniconda3/lib/python3.8/site-packages/torchvision/datasets/mnist.py\", line 90, in __init__\n",
      "\u001b[2m\u001b[36m(pid=7689)\u001b[0m     raise RuntimeError('Dataset not found.' +\n",
      "\u001b[2m\u001b[36m(pid=7689)\u001b[0m RuntimeError: Dataset not found. You can use download=True to download it\n",
      "\u001b[2m\u001b[36m(pid=7706)\u001b[0m 2021-06-23 16:05:29,144\tERROR function_runner.py:254 -- Runner Thread raised error.\n",
      "\u001b[2m\u001b[36m(pid=7706)\u001b[0m Traceback (most recent call last):\n",
      "\u001b[2m\u001b[36m(pid=7706)\u001b[0m   File \"/home/therealchainman/miniconda3/lib/python3.8/site-packages/ray/tune/function_runner.py\", line 248, in run\n",
      "\u001b[2m\u001b[36m(pid=7706)\u001b[0m     self._entrypoint()\n",
      "\u001b[2m\u001b[36m(pid=7706)\u001b[0m   File \"/home/therealchainman/miniconda3/lib/python3.8/site-packages/ray/tune/function_runner.py\", line 315, in entrypoint\n",
      "\u001b[2m\u001b[36m(pid=7706)\u001b[0m     return self._trainable_func(self.config, self._status_reporter,\n",
      "\u001b[2m\u001b[36m(pid=7706)\u001b[0m   File \"/home/therealchainman/miniconda3/lib/python3.8/site-packages/ray/tune/function_runner.py\", line 580, in _trainable_func\n",
      "\u001b[2m\u001b[36m(pid=7706)\u001b[0m     output = fn()\n",
      "\u001b[2m\u001b[36m(pid=7706)\u001b[0m   File \"<ipython-input-11-26a293f4f9ec>\", line 8, in train_mnist\n",
      "\u001b[2m\u001b[36m(pid=7706)\u001b[0m   File \"/home/therealchainman/miniconda3/lib/python3.8/site-packages/torchvision/datasets/mnist.py\", line 90, in __init__\n",
      "\u001b[2m\u001b[36m(pid=7706)\u001b[0m     raise RuntimeError('Dataset not found.' +\n",
      "\u001b[2m\u001b[36m(pid=7706)\u001b[0m RuntimeError: Dataset not found. You can use download=True to download it\n",
      "\u001b[2m\u001b[36m(pid=7706)\u001b[0m Exception in thread Thread-2:\n",
      "\u001b[2m\u001b[36m(pid=7706)\u001b[0m Traceback (most recent call last):\n",
      "\u001b[2m\u001b[36m(pid=7706)\u001b[0m   File \"/home/therealchainman/miniconda3/lib/python3.8/threading.py\", line 932, in _bootstrap_inner\n",
      "\u001b[2m\u001b[36m(pid=7706)\u001b[0m     self.run()\n",
      "\u001b[2m\u001b[36m(pid=7706)\u001b[0m   File \"/home/therealchainman/miniconda3/lib/python3.8/site-packages/ray/tune/function_runner.py\", line 267, in run\n",
      "\u001b[2m\u001b[36m(pid=7706)\u001b[0m     raise e\n",
      "\u001b[2m\u001b[36m(pid=7706)\u001b[0m   File \"/home/therealchainman/miniconda3/lib/python3.8/site-packages/ray/tune/function_runner.py\", line 248, in run\n",
      "\u001b[2m\u001b[36m(pid=7706)\u001b[0m     self._entrypoint()\n",
      "\u001b[2m\u001b[36m(pid=7706)\u001b[0m   File \"/home/therealchainman/miniconda3/lib/python3.8/site-packages/ray/tune/function_runner.py\", line 315, in entrypoint\n",
      "\u001b[2m\u001b[36m(pid=7706)\u001b[0m     return self._trainable_func(self.config, self._status_reporter,\n",
      "\u001b[2m\u001b[36m(pid=7706)\u001b[0m   File \"/home/therealchainman/miniconda3/lib/python3.8/site-packages/ray/tune/function_runner.py\", line 580, in _trainable_func\n",
      "\u001b[2m\u001b[36m(pid=7706)\u001b[0m     output = fn()\n",
      "\u001b[2m\u001b[36m(pid=7706)\u001b[0m   File \"<ipython-input-11-26a293f4f9ec>\", line 8, in train_mnist\n",
      "\u001b[2m\u001b[36m(pid=7706)\u001b[0m   File \"/home/therealchainman/miniconda3/lib/python3.8/site-packages/torchvision/datasets/mnist.py\", line 90, in __init__\n",
      "\u001b[2m\u001b[36m(pid=7706)\u001b[0m     raise RuntimeError('Dataset not found.' +\n",
      "\u001b[2m\u001b[36m(pid=7706)\u001b[0m RuntimeError: Dataset not found. You can use download=True to download it\n",
      "\u001b[2m\u001b[36m(pid=7688)\u001b[0m 2021-06-23 16:05:29,102\tERROR function_runner.py:254 -- Runner Thread raised error.\n",
      "\u001b[2m\u001b[36m(pid=7688)\u001b[0m Traceback (most recent call last):\n",
      "\u001b[2m\u001b[36m(pid=7688)\u001b[0m   File \"/home/therealchainman/miniconda3/lib/python3.8/site-packages/ray/tune/function_runner.py\", line 248, in run\n",
      "\u001b[2m\u001b[36m(pid=7688)\u001b[0m     self._entrypoint()\n",
      "\u001b[2m\u001b[36m(pid=7688)\u001b[0m   File \"/home/therealchainman/miniconda3/lib/python3.8/site-packages/ray/tune/function_runner.py\", line 315, in entrypoint\n",
      "\u001b[2m\u001b[36m(pid=7688)\u001b[0m     return self._trainable_func(self.config, self._status_reporter,\n",
      "\u001b[2m\u001b[36m(pid=7688)\u001b[0m   File \"/home/therealchainman/miniconda3/lib/python3.8/site-packages/ray/tune/function_runner.py\", line 580, in _trainable_func\n",
      "\u001b[2m\u001b[36m(pid=7688)\u001b[0m     output = fn()\n",
      "\u001b[2m\u001b[36m(pid=7688)\u001b[0m   File \"<ipython-input-11-26a293f4f9ec>\", line 8, in train_mnist\n",
      "\u001b[2m\u001b[36m(pid=7688)\u001b[0m   File \"/home/therealchainman/miniconda3/lib/python3.8/site-packages/torchvision/datasets/mnist.py\", line 90, in __init__\n",
      "\u001b[2m\u001b[36m(pid=7688)\u001b[0m     raise RuntimeError('Dataset not found.' +\n",
      "\u001b[2m\u001b[36m(pid=7688)\u001b[0m RuntimeError: Dataset not found. You can use download=True to download it\n",
      "\u001b[2m\u001b[36m(pid=7688)\u001b[0m Exception in thread Thread-2:\n",
      "\u001b[2m\u001b[36m(pid=7688)\u001b[0m Traceback (most recent call last):\n",
      "\u001b[2m\u001b[36m(pid=7688)\u001b[0m   File \"/home/therealchainman/miniconda3/lib/python3.8/threading.py\", line 932, in _bootstrap_inner\n",
      "\u001b[2m\u001b[36m(pid=7688)\u001b[0m     self.run()\n",
      "\u001b[2m\u001b[36m(pid=7688)\u001b[0m   File \"/home/therealchainman/miniconda3/lib/python3.8/site-packages/ray/tune/function_runner.py\", line 267, in run\n",
      "\u001b[2m\u001b[36m(pid=7688)\u001b[0m     raise e\n",
      "\u001b[2m\u001b[36m(pid=7688)\u001b[0m   File \"/home/therealchainman/miniconda3/lib/python3.8/site-packages/ray/tune/function_runner.py\", line 248, in run\n",
      "\u001b[2m\u001b[36m(pid=7688)\u001b[0m     self._entrypoint()\n",
      "\u001b[2m\u001b[36m(pid=7688)\u001b[0m   File \"/home/therealchainman/miniconda3/lib/python3.8/site-packages/ray/tune/function_runner.py\", line 315, in entrypoint\n",
      "\u001b[2m\u001b[36m(pid=7688)\u001b[0m     return self._trainable_func(self.config, self._status_reporter,\n",
      "\u001b[2m\u001b[36m(pid=7688)\u001b[0m   File \"/home/therealchainman/miniconda3/lib/python3.8/site-packages/ray/tune/function_runner.py\", line 580, in _trainable_func\n",
      "\u001b[2m\u001b[36m(pid=7688)\u001b[0m     output = fn()\n",
      "\u001b[2m\u001b[36m(pid=7688)\u001b[0m   File \"<ipython-input-11-26a293f4f9ec>\", line 8, in train_mnist\n",
      "\u001b[2m\u001b[36m(pid=7688)\u001b[0m   File \"/home/therealchainman/miniconda3/lib/python3.8/site-packages/torchvision/datasets/mnist.py\", line 90, in __init__\n",
      "\u001b[2m\u001b[36m(pid=7688)\u001b[0m     raise RuntimeError('Dataset not found.' +\n",
      "\u001b[2m\u001b[36m(pid=7688)\u001b[0m RuntimeError: Dataset not found. You can use download=True to download it\n",
      "\u001b[2m\u001b[36m(pid=7691)\u001b[0m 2021-06-23 16:05:29,148\tERROR function_runner.py:254 -- Runner Thread raised error.\n",
      "\u001b[2m\u001b[36m(pid=7691)\u001b[0m Traceback (most recent call last):\n",
      "\u001b[2m\u001b[36m(pid=7691)\u001b[0m   File \"/home/therealchainman/miniconda3/lib/python3.8/site-packages/ray/tune/function_runner.py\", line 248, in run\n",
      "\u001b[2m\u001b[36m(pid=7691)\u001b[0m     self._entrypoint()\n",
      "\u001b[2m\u001b[36m(pid=7691)\u001b[0m   File \"/home/therealchainman/miniconda3/lib/python3.8/site-packages/ray/tune/function_runner.py\", line 315, in entrypoint\n",
      "\u001b[2m\u001b[36m(pid=7691)\u001b[0m     return self._trainable_func(self.config, self._status_reporter,\n",
      "\u001b[2m\u001b[36m(pid=7691)\u001b[0m   File \"/home/therealchainman/miniconda3/lib/python3.8/site-packages/ray/tune/function_runner.py\", line 580, in _trainable_func\n",
      "\u001b[2m\u001b[36m(pid=7691)\u001b[0m     output = fn()\n",
      "\u001b[2m\u001b[36m(pid=7691)\u001b[0m   File \"<ipython-input-11-26a293f4f9ec>\", line 8, in train_mnist\n",
      "\u001b[2m\u001b[36m(pid=7691)\u001b[0m   File \"/home/therealchainman/miniconda3/lib/python3.8/site-packages/torchvision/datasets/mnist.py\", line 90, in __init__\n",
      "\u001b[2m\u001b[36m(pid=7691)\u001b[0m     raise RuntimeError('Dataset not found.' +\n",
      "\u001b[2m\u001b[36m(pid=7691)\u001b[0m RuntimeError: Dataset not found. You can use download=True to download it\n",
      "\u001b[2m\u001b[36m(pid=7691)\u001b[0m Exception in thread Thread-2:\n",
      "\u001b[2m\u001b[36m(pid=7691)\u001b[0m Traceback (most recent call last):\n",
      "\u001b[2m\u001b[36m(pid=7691)\u001b[0m   File \"/home/therealchainman/miniconda3/lib/python3.8/threading.py\", line 932, in _bootstrap_inner\n",
      "\u001b[2m\u001b[36m(pid=7691)\u001b[0m     self.run()\n",
      "\u001b[2m\u001b[36m(pid=7691)\u001b[0m   File \"/home/therealchainman/miniconda3/lib/python3.8/site-packages/ray/tune/function_runner.py\", line 267, in run\n",
      "\u001b[2m\u001b[36m(pid=7691)\u001b[0m     raise e\n",
      "\u001b[2m\u001b[36m(pid=7691)\u001b[0m   File \"/home/therealchainman/miniconda3/lib/python3.8/site-packages/ray/tune/function_runner.py\", line 248, in run\n",
      "\u001b[2m\u001b[36m(pid=7691)\u001b[0m     self._entrypoint()\n",
      "\u001b[2m\u001b[36m(pid=7691)\u001b[0m   File \"/home/therealchainman/miniconda3/lib/python3.8/site-packages/ray/tune/function_runner.py\", line 315, in entrypoint\n",
      "\u001b[2m\u001b[36m(pid=7691)\u001b[0m     return self._trainable_func(self.config, self._status_reporter,\n",
      "\u001b[2m\u001b[36m(pid=7691)\u001b[0m   File \"/home/therealchainman/miniconda3/lib/python3.8/site-packages/ray/tune/function_runner.py\", line 580, in _trainable_func\n",
      "\u001b[2m\u001b[36m(pid=7691)\u001b[0m     output = fn()\n",
      "\u001b[2m\u001b[36m(pid=7691)\u001b[0m   File \"<ipython-input-11-26a293f4f9ec>\", line 8, in train_mnist\n",
      "\u001b[2m\u001b[36m(pid=7691)\u001b[0m   File \"/home/therealchainman/miniconda3/lib/python3.8/site-packages/torchvision/datasets/mnist.py\", line 90, in __init__\n",
      "\u001b[2m\u001b[36m(pid=7691)\u001b[0m     raise RuntimeError('Dataset not found.' +\n",
      "\u001b[2m\u001b[36m(pid=7691)\u001b[0m RuntimeError: Dataset not found. You can use download=True to download it\n",
      "\u001b[2m\u001b[36m(pid=7695)\u001b[0m 2021-06-23 16:05:29,160\tERROR function_runner.py:254 -- Runner Thread raised error.\n",
      "\u001b[2m\u001b[36m(pid=7695)\u001b[0m Traceback (most recent call last):\n",
      "\u001b[2m\u001b[36m(pid=7695)\u001b[0m   File \"/home/therealchainman/miniconda3/lib/python3.8/site-packages/ray/tune/function_runner.py\", line 248, in run\n",
      "\u001b[2m\u001b[36m(pid=7695)\u001b[0m     self._entrypoint()\n",
      "\u001b[2m\u001b[36m(pid=7695)\u001b[0m   File \"/home/therealchainman/miniconda3/lib/python3.8/site-packages/ray/tune/function_runner.py\", line 315, in entrypoint\n",
      "\u001b[2m\u001b[36m(pid=7695)\u001b[0m     return self._trainable_func(self.config, self._status_reporter,\n",
      "\u001b[2m\u001b[36m(pid=7695)\u001b[0m   File \"/home/therealchainman/miniconda3/lib/python3.8/site-packages/ray/tune/function_runner.py\", line 580, in _trainable_func\n",
      "\u001b[2m\u001b[36m(pid=7695)\u001b[0m     output = fn()\n",
      "\u001b[2m\u001b[36m(pid=7695)\u001b[0m   File \"<ipython-input-11-26a293f4f9ec>\", line 8, in train_mnist\n",
      "\u001b[2m\u001b[36m(pid=7695)\u001b[0m   File \"/home/therealchainman/miniconda3/lib/python3.8/site-packages/torchvision/datasets/mnist.py\", line 90, in __init__\n",
      "\u001b[2m\u001b[36m(pid=7695)\u001b[0m     raise RuntimeError('Dataset not found.' +\n",
      "\u001b[2m\u001b[36m(pid=7695)\u001b[0m RuntimeError: Dataset not found. You can use download=True to download it\n",
      "\u001b[2m\u001b[36m(pid=7695)\u001b[0m Exception in thread Thread-2:\n",
      "\u001b[2m\u001b[36m(pid=7695)\u001b[0m Traceback (most recent call last):\n",
      "\u001b[2m\u001b[36m(pid=7695)\u001b[0m   File \"/home/therealchainman/miniconda3/lib/python3.8/threading.py\", line 932, in _bootstrap_inner\n",
      "\u001b[2m\u001b[36m(pid=7695)\u001b[0m     self.run()\n",
      "\u001b[2m\u001b[36m(pid=7695)\u001b[0m   File \"/home/therealchainman/miniconda3/lib/python3.8/site-packages/ray/tune/function_runner.py\", line 267, in run\n",
      "\u001b[2m\u001b[36m(pid=7695)\u001b[0m     raise e\n",
      "\u001b[2m\u001b[36m(pid=7695)\u001b[0m   File \"/home/therealchainman/miniconda3/lib/python3.8/site-packages/ray/tune/function_runner.py\", line 248, in run\n",
      "\u001b[2m\u001b[36m(pid=7695)\u001b[0m     self._entrypoint()\n",
      "\u001b[2m\u001b[36m(pid=7695)\u001b[0m   File \"/home/therealchainman/miniconda3/lib/python3.8/site-packages/ray/tune/function_runner.py\", line 315, in entrypoint\n",
      "\u001b[2m\u001b[36m(pid=7695)\u001b[0m     return self._trainable_func(self.config, self._status_reporter,\n",
      "\u001b[2m\u001b[36m(pid=7695)\u001b[0m   File \"/home/therealchainman/miniconda3/lib/python3.8/site-packages/ray/tune/function_runner.py\", line 580, in _trainable_func\n",
      "\u001b[2m\u001b[36m(pid=7695)\u001b[0m     output = fn()\n",
      "\u001b[2m\u001b[36m(pid=7695)\u001b[0m   File \"<ipython-input-11-26a293f4f9ec>\", line 8, in train_mnist\n",
      "\u001b[2m\u001b[36m(pid=7695)\u001b[0m   File \"/home/therealchainman/miniconda3/lib/python3.8/site-packages/torchvision/datasets/mnist.py\", line 90, in __init__\n",
      "\u001b[2m\u001b[36m(pid=7695)\u001b[0m     raise RuntimeError('Dataset not found.' +\n",
      "\u001b[2m\u001b[36m(pid=7695)\u001b[0m RuntimeError: Dataset not found. You can use download=True to download it\n",
      "\u001b[2m\u001b[36m(pid=7692)\u001b[0m 2021-06-23 16:05:29,156\tERROR function_runner.py:254 -- Runner Thread raised error.\n",
      "\u001b[2m\u001b[36m(pid=7692)\u001b[0m Traceback (most recent call last):\n",
      "\u001b[2m\u001b[36m(pid=7692)\u001b[0m   File \"/home/therealchainman/miniconda3/lib/python3.8/site-packages/ray/tune/function_runner.py\", line 248, in run\n",
      "\u001b[2m\u001b[36m(pid=7692)\u001b[0m     self._entrypoint()\n",
      "\u001b[2m\u001b[36m(pid=7692)\u001b[0m   File \"/home/therealchainman/miniconda3/lib/python3.8/site-packages/ray/tune/function_runner.py\", line 315, in entrypoint\n",
      "\u001b[2m\u001b[36m(pid=7692)\u001b[0m     return self._trainable_func(self.config, self._status_reporter,\n",
      "\u001b[2m\u001b[36m(pid=7692)\u001b[0m   File \"/home/therealchainman/miniconda3/lib/python3.8/site-packages/ray/tune/function_runner.py\", line 580, in _trainable_func\n",
      "\u001b[2m\u001b[36m(pid=7692)\u001b[0m     output = fn()\n",
      "\u001b[2m\u001b[36m(pid=7692)\u001b[0m   File \"<ipython-input-11-26a293f4f9ec>\", line 8, in train_mnist\n",
      "\u001b[2m\u001b[36m(pid=7692)\u001b[0m   File \"/home/therealchainman/miniconda3/lib/python3.8/site-packages/torchvision/datasets/mnist.py\", line 90, in __init__\n",
      "\u001b[2m\u001b[36m(pid=7692)\u001b[0m     raise RuntimeError('Dataset not found.' +\n",
      "\u001b[2m\u001b[36m(pid=7692)\u001b[0m RuntimeError: Dataset not found. You can use download=True to download it\n",
      "\u001b[2m\u001b[36m(pid=7692)\u001b[0m Exception in thread Thread-2:\n",
      "\u001b[2m\u001b[36m(pid=7692)\u001b[0m Traceback (most recent call last):\n",
      "\u001b[2m\u001b[36m(pid=7692)\u001b[0m   File \"/home/therealchainman/miniconda3/lib/python3.8/threading.py\", line 932, in _bootstrap_inner\n",
      "\u001b[2m\u001b[36m(pid=7692)\u001b[0m     self.run()\n",
      "\u001b[2m\u001b[36m(pid=7692)\u001b[0m   File \"/home/therealchainman/miniconda3/lib/python3.8/site-packages/ray/tune/function_runner.py\", line 267, in run\n",
      "\u001b[2m\u001b[36m(pid=7692)\u001b[0m     raise e\n",
      "\u001b[2m\u001b[36m(pid=7692)\u001b[0m   File \"/home/therealchainman/miniconda3/lib/python3.8/site-packages/ray/tune/function_runner.py\", line 248, in run\n",
      "\u001b[2m\u001b[36m(pid=7692)\u001b[0m     self._entrypoint()\n",
      "\u001b[2m\u001b[36m(pid=7692)\u001b[0m   File \"/home/therealchainman/miniconda3/lib/python3.8/site-packages/ray/tune/function_runner.py\", line 315, in entrypoint\n",
      "\u001b[2m\u001b[36m(pid=7692)\u001b[0m     return self._trainable_func(self.config, self._status_reporter,\n",
      "\u001b[2m\u001b[36m(pid=7692)\u001b[0m   File \"/home/therealchainman/miniconda3/lib/python3.8/site-packages/ray/tune/function_runner.py\", line 580, in _trainable_func\n",
      "\u001b[2m\u001b[36m(pid=7692)\u001b[0m     output = fn()\n",
      "\u001b[2m\u001b[36m(pid=7692)\u001b[0m   File \"<ipython-input-11-26a293f4f9ec>\", line 8, in train_mnist\n",
      "\u001b[2m\u001b[36m(pid=7692)\u001b[0m   File \"/home/therealchainman/miniconda3/lib/python3.8/site-packages/torchvision/datasets/mnist.py\", line 90, in __init__\n",
      "\u001b[2m\u001b[36m(pid=7692)\u001b[0m     raise RuntimeError('Dataset not found.' +\n",
      "\u001b[2m\u001b[36m(pid=7692)\u001b[0m RuntimeError: Dataset not found. You can use download=True to download it\n",
      "2021-06-23 16:05:29,242\tERROR trial_runner.py:748 -- Trial train_mnist_bbf8f_00002: Error processing event.\n",
      "Traceback (most recent call last):\n",
      "  File \"/home/therealchainman/miniconda3/lib/python3.8/site-packages/ray/tune/trial_runner.py\", line 718, in _process_trial\n",
      "    results = self.trial_executor.fetch_result(trial)\n",
      "  File \"/home/therealchainman/miniconda3/lib/python3.8/site-packages/ray/tune/ray_trial_executor.py\", line 688, in fetch_result\n",
      "    result = ray.get(trial_future[0], timeout=DEFAULT_GET_TIMEOUT)\n",
      "  File \"/home/therealchainman/miniconda3/lib/python3.8/site-packages/ray/_private/client_mode_hook.py\", line 62, in wrapper\n",
      "    return func(*args, **kwargs)\n",
      "  File \"/home/therealchainman/miniconda3/lib/python3.8/site-packages/ray/worker.py\", line 1494, in get\n",
      "    raise value.as_instanceof_cause()\n",
      "ray.exceptions.RayTaskError(TuneError): \u001b[36mray::ImplicitFunc.train_buffered()\u001b[39m (pid=7689, ip=192.168.1.106)\n",
      "  File \"python/ray/_raylet.pyx\", line 501, in ray._raylet.execute_task\n",
      "  File \"python/ray/_raylet.pyx\", line 451, in ray._raylet.execute_task.function_executor\n",
      "  File \"/home/therealchainman/miniconda3/lib/python3.8/site-packages/ray/_private/function_manager.py\", line 563, in actor_method_executor\n",
      "    return method(__ray_actor, *args, **kwargs)\n",
      "  File \"/home/therealchainman/miniconda3/lib/python3.8/site-packages/ray/tune/trainable.py\", line 173, in train_buffered\n",
      "    result = self.train()\n",
      "  File \"/home/therealchainman/miniconda3/lib/python3.8/site-packages/ray/tune/trainable.py\", line 232, in train\n",
      "    result = self.step()\n",
      "  File \"/home/therealchainman/miniconda3/lib/python3.8/site-packages/ray/tune/function_runner.py\", line 366, in step\n",
      "    self._report_thread_runner_error(block=True)\n",
      "  File \"/home/therealchainman/miniconda3/lib/python3.8/site-packages/ray/tune/function_runner.py\", line 512, in _report_thread_runner_error\n",
      "    raise TuneError(\n",
      "ray.tune.error.TuneError: Trial raised an exception. Traceback:\n",
      "\u001b[36mray::ImplicitFunc.train_buffered()\u001b[39m (pid=7689, ip=192.168.1.106)\n",
      "  File \"/home/therealchainman/miniconda3/lib/python3.8/site-packages/ray/tune/function_runner.py\", line 248, in run\n",
      "    self._entrypoint()\n",
      "  File \"/home/therealchainman/miniconda3/lib/python3.8/site-packages/ray/tune/function_runner.py\", line 315, in entrypoint\n",
      "    return self._trainable_func(self.config, self._status_reporter,\n",
      "  File \"/home/therealchainman/miniconda3/lib/python3.8/site-packages/ray/tune/function_runner.py\", line 580, in _trainable_func\n",
      "    output = fn()\n",
      "  File \"<ipython-input-11-26a293f4f9ec>\", line 8, in train_mnist\n",
      "  File \"/home/therealchainman/miniconda3/lib/python3.8/site-packages/torchvision/datasets/mnist.py\", line 90, in __init__\n",
      "    raise RuntimeError('Dataset not found.' +\n",
      "RuntimeError: Dataset not found. You can use download=True to download it\n",
      "2021-06-23 16:05:29,304\tERROR trial_runner.py:748 -- Trial train_mnist_bbf8f_00003: Error processing event.\n",
      "Traceback (most recent call last):\n",
      "  File \"/home/therealchainman/miniconda3/lib/python3.8/site-packages/ray/tune/trial_runner.py\", line 718, in _process_trial\n",
      "    results = self.trial_executor.fetch_result(trial)\n",
      "  File \"/home/therealchainman/miniconda3/lib/python3.8/site-packages/ray/tune/ray_trial_executor.py\", line 688, in fetch_result\n",
      "    result = ray.get(trial_future[0], timeout=DEFAULT_GET_TIMEOUT)\n",
      "  File \"/home/therealchainman/miniconda3/lib/python3.8/site-packages/ray/_private/client_mode_hook.py\", line 62, in wrapper\n",
      "    return func(*args, **kwargs)\n",
      "  File \"/home/therealchainman/miniconda3/lib/python3.8/site-packages/ray/worker.py\", line 1494, in get\n",
      "    raise value.as_instanceof_cause()\n",
      "ray.exceptions.RayTaskError(TuneError): \u001b[36mray::ImplicitFunc.train_buffered()\u001b[39m (pid=7688, ip=192.168.1.106)\n",
      "  File \"python/ray/_raylet.pyx\", line 501, in ray._raylet.execute_task\n",
      "  File \"python/ray/_raylet.pyx\", line 451, in ray._raylet.execute_task.function_executor\n",
      "  File \"/home/therealchainman/miniconda3/lib/python3.8/site-packages/ray/_private/function_manager.py\", line 563, in actor_method_executor\n",
      "    return method(__ray_actor, *args, **kwargs)\n",
      "  File \"/home/therealchainman/miniconda3/lib/python3.8/site-packages/ray/tune/trainable.py\", line 173, in train_buffered\n",
      "    result = self.train()\n",
      "  File \"/home/therealchainman/miniconda3/lib/python3.8/site-packages/ray/tune/trainable.py\", line 232, in train\n",
      "    result = self.step()\n",
      "  File \"/home/therealchainman/miniconda3/lib/python3.8/site-packages/ray/tune/function_runner.py\", line 366, in step\n",
      "    self._report_thread_runner_error(block=True)\n",
      "  File \"/home/therealchainman/miniconda3/lib/python3.8/site-packages/ray/tune/function_runner.py\", line 512, in _report_thread_runner_error\n",
      "    raise TuneError(\n",
      "ray.tune.error.TuneError: Trial raised an exception. Traceback:\n",
      "\u001b[36mray::ImplicitFunc.train_buffered()\u001b[39m (pid=7688, ip=192.168.1.106)\n",
      "  File \"/home/therealchainman/miniconda3/lib/python3.8/site-packages/ray/tune/function_runner.py\", line 248, in run\n",
      "    self._entrypoint()\n",
      "  File \"/home/therealchainman/miniconda3/lib/python3.8/site-packages/ray/tune/function_runner.py\", line 315, in entrypoint\n",
      "    return self._trainable_func(self.config, self._status_reporter,\n",
      "  File \"/home/therealchainman/miniconda3/lib/python3.8/site-packages/ray/tune/function_runner.py\", line 580, in _trainable_func\n",
      "    output = fn()\n",
      "  File \"<ipython-input-11-26a293f4f9ec>\", line 8, in train_mnist\n",
      "  File \"/home/therealchainman/miniconda3/lib/python3.8/site-packages/torchvision/datasets/mnist.py\", line 90, in __init__\n",
      "    raise RuntimeError('Dataset not found.' +\n",
      "RuntimeError: Dataset not found. You can use download=True to download it\n",
      "\u001b[2m\u001b[36m(pid=7690)\u001b[0m 2021-06-23 16:05:29,266\tERROR function_runner.py:254 -- Runner Thread raised error.\n",
      "\u001b[2m\u001b[36m(pid=7690)\u001b[0m Traceback (most recent call last):\n",
      "\u001b[2m\u001b[36m(pid=7690)\u001b[0m   File \"/home/therealchainman/miniconda3/lib/python3.8/site-packages/ray/tune/function_runner.py\", line 248, in run\n",
      "\u001b[2m\u001b[36m(pid=7690)\u001b[0m     self._entrypoint()\n",
      "\u001b[2m\u001b[36m(pid=7690)\u001b[0m   File \"/home/therealchainman/miniconda3/lib/python3.8/site-packages/ray/tune/function_runner.py\", line 315, in entrypoint\n",
      "\u001b[2m\u001b[36m(pid=7690)\u001b[0m     return self._trainable_func(self.config, self._status_reporter,\n",
      "\u001b[2m\u001b[36m(pid=7690)\u001b[0m   File \"/home/therealchainman/miniconda3/lib/python3.8/site-packages/ray/tune/function_runner.py\", line 580, in _trainable_func\n",
      "\u001b[2m\u001b[36m(pid=7690)\u001b[0m     output = fn()\n",
      "\u001b[2m\u001b[36m(pid=7690)\u001b[0m   File \"<ipython-input-11-26a293f4f9ec>\", line 8, in train_mnist\n",
      "\u001b[2m\u001b[36m(pid=7690)\u001b[0m   File \"/home/therealchainman/miniconda3/lib/python3.8/site-packages/torchvision/datasets/mnist.py\", line 90, in __init__\n",
      "\u001b[2m\u001b[36m(pid=7690)\u001b[0m     raise RuntimeError('Dataset not found.' +\n",
      "\u001b[2m\u001b[36m(pid=7690)\u001b[0m RuntimeError: Dataset not found. You can use download=True to download it\n",
      "\u001b[2m\u001b[36m(pid=7690)\u001b[0m Exception in thread Thread-2:\n",
      "\u001b[2m\u001b[36m(pid=7690)\u001b[0m Traceback (most recent call last):\n",
      "\u001b[2m\u001b[36m(pid=7690)\u001b[0m   File \"/home/therealchainman/miniconda3/lib/python3.8/threading.py\", line 932, in _bootstrap_inner\n",
      "\u001b[2m\u001b[36m(pid=7690)\u001b[0m     self.run()\n",
      "\u001b[2m\u001b[36m(pid=7690)\u001b[0m   File \"/home/therealchainman/miniconda3/lib/python3.8/site-packages/ray/tune/function_runner.py\", line 267, in run\n",
      "\u001b[2m\u001b[36m(pid=7690)\u001b[0m     raise e\n",
      "\u001b[2m\u001b[36m(pid=7690)\u001b[0m   File \"/home/therealchainman/miniconda3/lib/python3.8/site-packages/ray/tune/function_runner.py\", line 248, in run\n",
      "\u001b[2m\u001b[36m(pid=7690)\u001b[0m     self._entrypoint()\n",
      "\u001b[2m\u001b[36m(pid=7690)\u001b[0m   File \"/home/therealchainman/miniconda3/lib/python3.8/site-packages/ray/tune/function_runner.py\", line 315, in entrypoint\n",
      "\u001b[2m\u001b[36m(pid=7690)\u001b[0m     return self._trainable_func(self.config, self._status_reporter,\n",
      "\u001b[2m\u001b[36m(pid=7690)\u001b[0m   File \"/home/therealchainman/miniconda3/lib/python3.8/site-packages/ray/tune/function_runner.py\", line 580, in _trainable_func\n",
      "\u001b[2m\u001b[36m(pid=7690)\u001b[0m     output = fn()\n",
      "\u001b[2m\u001b[36m(pid=7690)\u001b[0m   File \"<ipython-input-11-26a293f4f9ec>\", line 8, in train_mnist\n",
      "\u001b[2m\u001b[36m(pid=7690)\u001b[0m   File \"/home/therealchainman/miniconda3/lib/python3.8/site-packages/torchvision/datasets/mnist.py\", line 90, in __init__\n",
      "\u001b[2m\u001b[36m(pid=7690)\u001b[0m     raise RuntimeError('Dataset not found.' +\n",
      "\u001b[2m\u001b[36m(pid=7690)\u001b[0m RuntimeError: Dataset not found. You can use download=True to download it\n",
      "2021-06-23 16:05:29,355\tERROR trial_runner.py:748 -- Trial train_mnist_bbf8f_00005: Error processing event.\n",
      "Traceback (most recent call last):\n",
      "  File \"/home/therealchainman/miniconda3/lib/python3.8/site-packages/ray/tune/trial_runner.py\", line 718, in _process_trial\n",
      "    results = self.trial_executor.fetch_result(trial)\n",
      "  File \"/home/therealchainman/miniconda3/lib/python3.8/site-packages/ray/tune/ray_trial_executor.py\", line 688, in fetch_result\n",
      "    result = ray.get(trial_future[0], timeout=DEFAULT_GET_TIMEOUT)\n",
      "  File \"/home/therealchainman/miniconda3/lib/python3.8/site-packages/ray/_private/client_mode_hook.py\", line 62, in wrapper\n",
      "    return func(*args, **kwargs)\n",
      "  File \"/home/therealchainman/miniconda3/lib/python3.8/site-packages/ray/worker.py\", line 1494, in get\n",
      "    raise value.as_instanceof_cause()\n",
      "ray.exceptions.RayTaskError(TuneError): \u001b[36mray::ImplicitFunc.train_buffered()\u001b[39m (pid=7691, ip=192.168.1.106)\n",
      "  File \"python/ray/_raylet.pyx\", line 501, in ray._raylet.execute_task\n",
      "  File \"python/ray/_raylet.pyx\", line 451, in ray._raylet.execute_task.function_executor\n",
      "  File \"/home/therealchainman/miniconda3/lib/python3.8/site-packages/ray/_private/function_manager.py\", line 563, in actor_method_executor\n",
      "    return method(__ray_actor, *args, **kwargs)\n",
      "  File \"/home/therealchainman/miniconda3/lib/python3.8/site-packages/ray/tune/trainable.py\", line 173, in train_buffered\n",
      "    result = self.train()\n",
      "  File \"/home/therealchainman/miniconda3/lib/python3.8/site-packages/ray/tune/trainable.py\", line 232, in train\n",
      "    result = self.step()\n",
      "  File \"/home/therealchainman/miniconda3/lib/python3.8/site-packages/ray/tune/function_runner.py\", line 366, in step\n",
      "    self._report_thread_runner_error(block=True)\n",
      "  File \"/home/therealchainman/miniconda3/lib/python3.8/site-packages/ray/tune/function_runner.py\", line 512, in _report_thread_runner_error\n",
      "    raise TuneError(\n",
      "ray.tune.error.TuneError: Trial raised an exception. Traceback:\n",
      "\u001b[36mray::ImplicitFunc.train_buffered()\u001b[39m (pid=7691, ip=192.168.1.106)\n",
      "  File \"/home/therealchainman/miniconda3/lib/python3.8/site-packages/ray/tune/function_runner.py\", line 248, in run\n",
      "    self._entrypoint()\n",
      "  File \"/home/therealchainman/miniconda3/lib/python3.8/site-packages/ray/tune/function_runner.py\", line 315, in entrypoint\n",
      "    return self._trainable_func(self.config, self._status_reporter,\n",
      "  File \"/home/therealchainman/miniconda3/lib/python3.8/site-packages/ray/tune/function_runner.py\", line 580, in _trainable_func\n",
      "    output = fn()\n",
      "  File \"<ipython-input-11-26a293f4f9ec>\", line 8, in train_mnist\n",
      "  File \"/home/therealchainman/miniconda3/lib/python3.8/site-packages/torchvision/datasets/mnist.py\", line 90, in __init__\n",
      "    raise RuntimeError('Dataset not found.' +\n",
      "RuntimeError: Dataset not found. You can use download=True to download it\n"
     ]
    },
    {
     "name": "stdout",
     "output_type": "stream",
     "text": [
      "Result for train_mnist_bbf8f_00002:\n",
      "  {}\n",
      "  \n",
      "Result for train_mnist_bbf8f_00003:\n",
      "  {}\n",
      "  \n",
      "Result for train_mnist_bbf8f_00005:\n",
      "  {}\n",
      "  \n"
     ]
    },
    {
     "name": "stderr",
     "output_type": "stream",
     "text": [
      "\u001b[2m\u001b[36m(pid=7693)\u001b[0m 2021-06-23 16:05:29,372\tERROR function_runner.py:254 -- Runner Thread raised error.\n",
      "\u001b[2m\u001b[36m(pid=7693)\u001b[0m Traceback (most recent call last):\n",
      "\u001b[2m\u001b[36m(pid=7693)\u001b[0m   File \"/home/therealchainman/miniconda3/lib/python3.8/site-packages/ray/tune/function_runner.py\", line 248, in run\n",
      "\u001b[2m\u001b[36m(pid=7693)\u001b[0m     self._entrypoint()\n",
      "\u001b[2m\u001b[36m(pid=7693)\u001b[0m   File \"/home/therealchainman/miniconda3/lib/python3.8/site-packages/ray/tune/function_runner.py\", line 315, in entrypoint\n",
      "\u001b[2m\u001b[36m(pid=7693)\u001b[0m     return self._trainable_func(self.config, self._status_reporter,\n",
      "\u001b[2m\u001b[36m(pid=7693)\u001b[0m   File \"/home/therealchainman/miniconda3/lib/python3.8/site-packages/ray/tune/function_runner.py\", line 580, in _trainable_func\n",
      "\u001b[2m\u001b[36m(pid=7693)\u001b[0m     output = fn()\n",
      "\u001b[2m\u001b[36m(pid=7693)\u001b[0m   File \"<ipython-input-11-26a293f4f9ec>\", line 8, in train_mnist\n",
      "\u001b[2m\u001b[36m(pid=7693)\u001b[0m   File \"/home/therealchainman/miniconda3/lib/python3.8/site-packages/torchvision/datasets/mnist.py\", line 90, in __init__\n",
      "\u001b[2m\u001b[36m(pid=7693)\u001b[0m     raise RuntimeError('Dataset not found.' +\n",
      "\u001b[2m\u001b[36m(pid=7693)\u001b[0m RuntimeError: Dataset not found. You can use download=True to download it\n",
      "\u001b[2m\u001b[36m(pid=7693)\u001b[0m Exception in thread Thread-2:\n",
      "\u001b[2m\u001b[36m(pid=7693)\u001b[0m Traceback (most recent call last):\n",
      "\u001b[2m\u001b[36m(pid=7693)\u001b[0m   File \"/home/therealchainman/miniconda3/lib/python3.8/threading.py\", line 932, in _bootstrap_inner\n",
      "\u001b[2m\u001b[36m(pid=7693)\u001b[0m     self.run()\n",
      "\u001b[2m\u001b[36m(pid=7693)\u001b[0m   File \"/home/therealchainman/miniconda3/lib/python3.8/site-packages/ray/tune/function_runner.py\", line 267, in run\n",
      "\u001b[2m\u001b[36m(pid=7693)\u001b[0m     raise e\n",
      "\u001b[2m\u001b[36m(pid=7693)\u001b[0m   File \"/home/therealchainman/miniconda3/lib/python3.8/site-packages/ray/tune/function_runner.py\", line 248, in run\n",
      "\u001b[2m\u001b[36m(pid=7693)\u001b[0m     self._entrypoint()\n",
      "\u001b[2m\u001b[36m(pid=7693)\u001b[0m   File \"/home/therealchainman/miniconda3/lib/python3.8/site-packages/ray/tune/function_runner.py\", line 315, in entrypoint\n",
      "\u001b[2m\u001b[36m(pid=7693)\u001b[0m     return self._trainable_func(self.config, self._status_reporter,\n",
      "\u001b[2m\u001b[36m(pid=7693)\u001b[0m   File \"/home/therealchainman/miniconda3/lib/python3.8/site-packages/ray/tune/function_runner.py\", line 580, in _trainable_func\n",
      "\u001b[2m\u001b[36m(pid=7693)\u001b[0m     output = fn()\n",
      "\u001b[2m\u001b[36m(pid=7693)\u001b[0m   File \"<ipython-input-11-26a293f4f9ec>\", line 8, in train_mnist\n",
      "\u001b[2m\u001b[36m(pid=7693)\u001b[0m   File \"/home/therealchainman/miniconda3/lib/python3.8/site-packages/torchvision/datasets/mnist.py\", line 90, in __init__\n",
      "\u001b[2m\u001b[36m(pid=7693)\u001b[0m     raise RuntimeError('Dataset not found.' +\n",
      "\u001b[2m\u001b[36m(pid=7693)\u001b[0m RuntimeError: Dataset not found. You can use download=True to download it\n",
      "2021-06-23 16:05:29,457\tERROR trial_runner.py:748 -- Trial train_mnist_bbf8f_00001: Error processing event.\n",
      "Traceback (most recent call last):\n",
      "  File \"/home/therealchainman/miniconda3/lib/python3.8/site-packages/ray/tune/trial_runner.py\", line 718, in _process_trial\n",
      "    results = self.trial_executor.fetch_result(trial)\n",
      "  File \"/home/therealchainman/miniconda3/lib/python3.8/site-packages/ray/tune/ray_trial_executor.py\", line 688, in fetch_result\n",
      "    result = ray.get(trial_future[0], timeout=DEFAULT_GET_TIMEOUT)\n",
      "  File \"/home/therealchainman/miniconda3/lib/python3.8/site-packages/ray/_private/client_mode_hook.py\", line 62, in wrapper\n",
      "    return func(*args, **kwargs)\n",
      "  File \"/home/therealchainman/miniconda3/lib/python3.8/site-packages/ray/worker.py\", line 1494, in get\n",
      "    raise value.as_instanceof_cause()\n",
      "ray.exceptions.RayTaskError(TuneError): \u001b[36mray::ImplicitFunc.train_buffered()\u001b[39m (pid=7706, ip=192.168.1.106)\n",
      "  File \"python/ray/_raylet.pyx\", line 501, in ray._raylet.execute_task\n",
      "  File \"python/ray/_raylet.pyx\", line 451, in ray._raylet.execute_task.function_executor\n",
      "  File \"/home/therealchainman/miniconda3/lib/python3.8/site-packages/ray/_private/function_manager.py\", line 563, in actor_method_executor\n",
      "    return method(__ray_actor, *args, **kwargs)\n",
      "  File \"/home/therealchainman/miniconda3/lib/python3.8/site-packages/ray/tune/trainable.py\", line 173, in train_buffered\n",
      "    result = self.train()\n",
      "  File \"/home/therealchainman/miniconda3/lib/python3.8/site-packages/ray/tune/trainable.py\", line 232, in train\n",
      "    result = self.step()\n",
      "  File \"/home/therealchainman/miniconda3/lib/python3.8/site-packages/ray/tune/function_runner.py\", line 366, in step\n",
      "    self._report_thread_runner_error(block=True)\n",
      "  File \"/home/therealchainman/miniconda3/lib/python3.8/site-packages/ray/tune/function_runner.py\", line 512, in _report_thread_runner_error\n",
      "    raise TuneError(\n",
      "ray.tune.error.TuneError: Trial raised an exception. Traceback:\n",
      "\u001b[36mray::ImplicitFunc.train_buffered()\u001b[39m (pid=7706, ip=192.168.1.106)\n",
      "  File \"/home/therealchainman/miniconda3/lib/python3.8/site-packages/ray/tune/function_runner.py\", line 248, in run\n",
      "    self._entrypoint()\n",
      "  File \"/home/therealchainman/miniconda3/lib/python3.8/site-packages/ray/tune/function_runner.py\", line 315, in entrypoint\n",
      "    return self._trainable_func(self.config, self._status_reporter,\n",
      "  File \"/home/therealchainman/miniconda3/lib/python3.8/site-packages/ray/tune/function_runner.py\", line 580, in _trainable_func\n",
      "    output = fn()\n",
      "  File \"<ipython-input-11-26a293f4f9ec>\", line 8, in train_mnist\n",
      "  File \"/home/therealchainman/miniconda3/lib/python3.8/site-packages/torchvision/datasets/mnist.py\", line 90, in __init__\n",
      "    raise RuntimeError('Dataset not found.' +\n",
      "RuntimeError: Dataset not found. You can use download=True to download it\n",
      "2021-06-23 16:05:29,569\tERROR trial_runner.py:748 -- Trial train_mnist_bbf8f_00000: Error processing event.\n",
      "Traceback (most recent call last):\n",
      "  File \"/home/therealchainman/miniconda3/lib/python3.8/site-packages/ray/tune/trial_runner.py\", line 718, in _process_trial\n",
      "    results = self.trial_executor.fetch_result(trial)\n",
      "  File \"/home/therealchainman/miniconda3/lib/python3.8/site-packages/ray/tune/ray_trial_executor.py\", line 688, in fetch_result\n",
      "    result = ray.get(trial_future[0], timeout=DEFAULT_GET_TIMEOUT)\n",
      "  File \"/home/therealchainman/miniconda3/lib/python3.8/site-packages/ray/_private/client_mode_hook.py\", line 62, in wrapper\n",
      "    return func(*args, **kwargs)\n",
      "  File \"/home/therealchainman/miniconda3/lib/python3.8/site-packages/ray/worker.py\", line 1494, in get\n",
      "    raise value.as_instanceof_cause()\n",
      "ray.exceptions.RayTaskError(TuneError): \u001b[36mray::ImplicitFunc.train_buffered()\u001b[39m (pid=7695, ip=192.168.1.106)\n",
      "  File \"python/ray/_raylet.pyx\", line 501, in ray._raylet.execute_task\n",
      "  File \"python/ray/_raylet.pyx\", line 451, in ray._raylet.execute_task.function_executor\n",
      "  File \"/home/therealchainman/miniconda3/lib/python3.8/site-packages/ray/_private/function_manager.py\", line 563, in actor_method_executor\n",
      "    return method(__ray_actor, *args, **kwargs)\n",
      "  File \"/home/therealchainman/miniconda3/lib/python3.8/site-packages/ray/tune/trainable.py\", line 173, in train_buffered\n",
      "    result = self.train()\n",
      "  File \"/home/therealchainman/miniconda3/lib/python3.8/site-packages/ray/tune/trainable.py\", line 232, in train\n",
      "    result = self.step()\n",
      "  File \"/home/therealchainman/miniconda3/lib/python3.8/site-packages/ray/tune/function_runner.py\", line 366, in step\n",
      "    self._report_thread_runner_error(block=True)\n",
      "  File \"/home/therealchainman/miniconda3/lib/python3.8/site-packages/ray/tune/function_runner.py\", line 512, in _report_thread_runner_error\n",
      "    raise TuneError(\n",
      "ray.tune.error.TuneError: Trial raised an exception. Traceback:\n",
      "\u001b[36mray::ImplicitFunc.train_buffered()\u001b[39m (pid=7695, ip=192.168.1.106)\n",
      "  File \"/home/therealchainman/miniconda3/lib/python3.8/site-packages/ray/tune/function_runner.py\", line 248, in run\n",
      "    self._entrypoint()\n",
      "  File \"/home/therealchainman/miniconda3/lib/python3.8/site-packages/ray/tune/function_runner.py\", line 315, in entrypoint\n",
      "    return self._trainable_func(self.config, self._status_reporter,\n",
      "  File \"/home/therealchainman/miniconda3/lib/python3.8/site-packages/ray/tune/function_runner.py\", line 580, in _trainable_func\n",
      "    output = fn()\n",
      "  File \"<ipython-input-11-26a293f4f9ec>\", line 8, in train_mnist\n",
      "  File \"/home/therealchainman/miniconda3/lib/python3.8/site-packages/torchvision/datasets/mnist.py\", line 90, in __init__\n",
      "    raise RuntimeError('Dataset not found.' +\n",
      "RuntimeError: Dataset not found. You can use download=True to download it\n",
      "2021-06-23 16:05:29,639\tERROR trial_runner.py:748 -- Trial train_mnist_bbf8f_00006: Error processing event.\n",
      "Traceback (most recent call last):\n",
      "  File \"/home/therealchainman/miniconda3/lib/python3.8/site-packages/ray/tune/trial_runner.py\", line 718, in _process_trial\n",
      "    results = self.trial_executor.fetch_result(trial)\n",
      "  File \"/home/therealchainman/miniconda3/lib/python3.8/site-packages/ray/tune/ray_trial_executor.py\", line 688, in fetch_result\n",
      "    result = ray.get(trial_future[0], timeout=DEFAULT_GET_TIMEOUT)\n",
      "  File \"/home/therealchainman/miniconda3/lib/python3.8/site-packages/ray/_private/client_mode_hook.py\", line 62, in wrapper\n",
      "    return func(*args, **kwargs)\n",
      "  File \"/home/therealchainman/miniconda3/lib/python3.8/site-packages/ray/worker.py\", line 1494, in get\n",
      "    raise value.as_instanceof_cause()\n",
      "ray.exceptions.RayTaskError(TuneError): \u001b[36mray::ImplicitFunc.train_buffered()\u001b[39m (pid=7690, ip=192.168.1.106)\n",
      "  File \"python/ray/_raylet.pyx\", line 501, in ray._raylet.execute_task\n",
      "  File \"python/ray/_raylet.pyx\", line 451, in ray._raylet.execute_task.function_executor\n",
      "  File \"/home/therealchainman/miniconda3/lib/python3.8/site-packages/ray/_private/function_manager.py\", line 563, in actor_method_executor\n",
      "    return method(__ray_actor, *args, **kwargs)\n",
      "  File \"/home/therealchainman/miniconda3/lib/python3.8/site-packages/ray/tune/trainable.py\", line 173, in train_buffered\n",
      "    result = self.train()\n",
      "  File \"/home/therealchainman/miniconda3/lib/python3.8/site-packages/ray/tune/trainable.py\", line 232, in train\n",
      "    result = self.step()\n",
      "  File \"/home/therealchainman/miniconda3/lib/python3.8/site-packages/ray/tune/function_runner.py\", line 366, in step\n",
      "    self._report_thread_runner_error(block=True)\n",
      "  File \"/home/therealchainman/miniconda3/lib/python3.8/site-packages/ray/tune/function_runner.py\", line 512, in _report_thread_runner_error\n",
      "    raise TuneError(\n",
      "ray.tune.error.TuneError: Trial raised an exception. Traceback:\n",
      "\u001b[36mray::ImplicitFunc.train_buffered()\u001b[39m (pid=7690, ip=192.168.1.106)\n",
      "  File \"/home/therealchainman/miniconda3/lib/python3.8/site-packages/ray/tune/function_runner.py\", line 248, in run\n",
      "    self._entrypoint()\n",
      "  File \"/home/therealchainman/miniconda3/lib/python3.8/site-packages/ray/tune/function_runner.py\", line 315, in entrypoint\n",
      "    return self._trainable_func(self.config, self._status_reporter,\n",
      "  File \"/home/therealchainman/miniconda3/lib/python3.8/site-packages/ray/tune/function_runner.py\", line 580, in _trainable_func\n",
      "    output = fn()\n",
      "  File \"<ipython-input-11-26a293f4f9ec>\", line 8, in train_mnist\n",
      "  File \"/home/therealchainman/miniconda3/lib/python3.8/site-packages/torchvision/datasets/mnist.py\", line 90, in __init__\n",
      "    raise RuntimeError('Dataset not found.' +\n",
      "RuntimeError: Dataset not found. You can use download=True to download it\n",
      "2021-06-23 16:05:29,664\tERROR trial_runner.py:748 -- Trial train_mnist_bbf8f_00004: Error processing event.\n",
      "Traceback (most recent call last):\n",
      "  File \"/home/therealchainman/miniconda3/lib/python3.8/site-packages/ray/tune/trial_runner.py\", line 718, in _process_trial\n",
      "    results = self.trial_executor.fetch_result(trial)\n",
      "  File \"/home/therealchainman/miniconda3/lib/python3.8/site-packages/ray/tune/ray_trial_executor.py\", line 688, in fetch_result\n",
      "    result = ray.get(trial_future[0], timeout=DEFAULT_GET_TIMEOUT)\n",
      "  File \"/home/therealchainman/miniconda3/lib/python3.8/site-packages/ray/_private/client_mode_hook.py\", line 62, in wrapper\n",
      "    return func(*args, **kwargs)\n",
      "  File \"/home/therealchainman/miniconda3/lib/python3.8/site-packages/ray/worker.py\", line 1494, in get\n",
      "    raise value.as_instanceof_cause()\n",
      "ray.exceptions.RayTaskError(TuneError): \u001b[36mray::ImplicitFunc.train_buffered()\u001b[39m (pid=7692, ip=192.168.1.106)\n",
      "  File \"python/ray/_raylet.pyx\", line 501, in ray._raylet.execute_task\n",
      "  File \"python/ray/_raylet.pyx\", line 451, in ray._raylet.execute_task.function_executor\n",
      "  File \"/home/therealchainman/miniconda3/lib/python3.8/site-packages/ray/_private/function_manager.py\", line 563, in actor_method_executor\n",
      "    return method(__ray_actor, *args, **kwargs)\n",
      "  File \"/home/therealchainman/miniconda3/lib/python3.8/site-packages/ray/tune/trainable.py\", line 173, in train_buffered\n",
      "    result = self.train()\n",
      "  File \"/home/therealchainman/miniconda3/lib/python3.8/site-packages/ray/tune/trainable.py\", line 232, in train\n",
      "    result = self.step()\n",
      "  File \"/home/therealchainman/miniconda3/lib/python3.8/site-packages/ray/tune/function_runner.py\", line 366, in step\n",
      "    self._report_thread_runner_error(block=True)\n",
      "  File \"/home/therealchainman/miniconda3/lib/python3.8/site-packages/ray/tune/function_runner.py\", line 512, in _report_thread_runner_error\n",
      "    raise TuneError(\n",
      "ray.tune.error.TuneError: Trial raised an exception. Traceback:\n",
      "\u001b[36mray::ImplicitFunc.train_buffered()\u001b[39m (pid=7692, ip=192.168.1.106)\n",
      "  File \"/home/therealchainman/miniconda3/lib/python3.8/site-packages/ray/tune/function_runner.py\", line 248, in run\n",
      "    self._entrypoint()\n",
      "  File \"/home/therealchainman/miniconda3/lib/python3.8/site-packages/ray/tune/function_runner.py\", line 315, in entrypoint\n",
      "    return self._trainable_func(self.config, self._status_reporter,\n",
      "  File \"/home/therealchainman/miniconda3/lib/python3.8/site-packages/ray/tune/function_runner.py\", line 580, in _trainable_func\n",
      "    output = fn()\n",
      "  File \"<ipython-input-11-26a293f4f9ec>\", line 8, in train_mnist\n",
      "  File \"/home/therealchainman/miniconda3/lib/python3.8/site-packages/torchvision/datasets/mnist.py\", line 90, in __init__\n",
      "    raise RuntimeError('Dataset not found.' +\n",
      "RuntimeError: Dataset not found. You can use download=True to download it\n"
     ]
    },
    {
     "name": "stdout",
     "output_type": "stream",
     "text": [
      "Result for train_mnist_bbf8f_00001:\n",
      "  {}\n",
      "  \n",
      "Result for train_mnist_bbf8f_00000:\n",
      "  {}\n",
      "  \n",
      "Result for train_mnist_bbf8f_00006:\n",
      "  {}\n",
      "  \n",
      "Result for train_mnist_bbf8f_00004:"
     ]
    },
    {
     "name": "stderr",
     "output_type": "stream",
     "text": [
      "2021-06-23 16:05:29,702\tERROR trial_runner.py:748 -- Trial train_mnist_bbf8f_00007: Error processing event.\n",
      "Traceback (most recent call last):\n",
      "  File \"/home/therealchainman/miniconda3/lib/python3.8/site-packages/ray/tune/trial_runner.py\", line 718, in _process_trial\n",
      "    results = self.trial_executor.fetch_result(trial)\n",
      "  File \"/home/therealchainman/miniconda3/lib/python3.8/site-packages/ray/tune/ray_trial_executor.py\", line 688, in fetch_result\n",
      "    result = ray.get(trial_future[0], timeout=DEFAULT_GET_TIMEOUT)\n",
      "  File \"/home/therealchainman/miniconda3/lib/python3.8/site-packages/ray/_private/client_mode_hook.py\", line 62, in wrapper\n",
      "    return func(*args, **kwargs)\n",
      "  File \"/home/therealchainman/miniconda3/lib/python3.8/site-packages/ray/worker.py\", line 1494, in get\n",
      "    raise value.as_instanceof_cause()\n",
      "ray.exceptions.RayTaskError(TuneError): \u001b[36mray::ImplicitFunc.train_buffered()\u001b[39m (pid=7693, ip=192.168.1.106)\n",
      "  File \"python/ray/_raylet.pyx\", line 501, in ray._raylet.execute_task\n",
      "  File \"python/ray/_raylet.pyx\", line 451, in ray._raylet.execute_task.function_executor\n",
      "  File \"/home/therealchainman/miniconda3/lib/python3.8/site-packages/ray/_private/function_manager.py\", line 563, in actor_method_executor\n",
      "    return method(__ray_actor, *args, **kwargs)\n",
      "  File \"/home/therealchainman/miniconda3/lib/python3.8/site-packages/ray/tune/trainable.py\", line 173, in train_buffered\n",
      "    result = self.train()\n",
      "  File \"/home/therealchainman/miniconda3/lib/python3.8/site-packages/ray/tune/trainable.py\", line 232, in train\n",
      "    result = self.step()\n",
      "  File \"/home/therealchainman/miniconda3/lib/python3.8/site-packages/ray/tune/function_runner.py\", line 366, in step\n",
      "    self._report_thread_runner_error(block=True)\n",
      "  File \"/home/therealchainman/miniconda3/lib/python3.8/site-packages/ray/tune/function_runner.py\", line 512, in _report_thread_runner_error\n",
      "    raise TuneError(\n",
      "ray.tune.error.TuneError: Trial raised an exception. Traceback:\n",
      "\u001b[36mray::ImplicitFunc.train_buffered()\u001b[39m (pid=7693, ip=192.168.1.106)\n",
      "  File \"/home/therealchainman/miniconda3/lib/python3.8/site-packages/ray/tune/function_runner.py\", line 248, in run\n",
      "    self._entrypoint()\n",
      "  File \"/home/therealchainman/miniconda3/lib/python3.8/site-packages/ray/tune/function_runner.py\", line 315, in entrypoint\n",
      "    return self._trainable_func(self.config, self._status_reporter,\n",
      "  File \"/home/therealchainman/miniconda3/lib/python3.8/site-packages/ray/tune/function_runner.py\", line 580, in _trainable_func\n",
      "    output = fn()\n",
      "  File \"<ipython-input-11-26a293f4f9ec>\", line 8, in train_mnist\n",
      "  File \"/home/therealchainman/miniconda3/lib/python3.8/site-packages/torchvision/datasets/mnist.py\", line 90, in __init__\n",
      "    raise RuntimeError('Dataset not found.' +\n",
      "RuntimeError: Dataset not found. You can use download=True to download it\n"
     ]
    },
    {
     "name": "stdout",
     "output_type": "stream",
     "text": [
      "\n",
      "  {}\n",
      "  \n",
      "Result for train_mnist_bbf8f_00007:\n",
      "  {}\n",
      "  \n"
     ]
    },
    {
     "name": "stderr",
     "output_type": "stream",
     "text": [
      "\u001b[2m\u001b[33m(raylet)\u001b[0m /home/therealchainman/miniconda3/lib/python3.8/site-packages/ray/autoscaler/_private/cli_logger.py:57: FutureWarning: Not all Ray CLI dependencies were found. In Ray 1.4+, the Ray CLI, autoscaler, and dashboard will only be usable via `pip install 'ray[default]'`. Please update your install command.\n",
      "\u001b[2m\u001b[33m(raylet)\u001b[0m   warnings.warn(\n",
      "\u001b[2m\u001b[33m(raylet)\u001b[0m /home/therealchainman/miniconda3/lib/python3.8/site-packages/ray/autoscaler/_private/cli_logger.py:57: FutureWarning: Not all Ray CLI dependencies were found. In Ray 1.4+, the Ray CLI, autoscaler, and dashboard will only be usable via `pip install 'ray[default]'`. Please update your install command.\n",
      "\u001b[2m\u001b[33m(raylet)\u001b[0m   warnings.warn(\n",
      "\u001b[2m\u001b[33m(raylet)\u001b[0m /home/therealchainman/miniconda3/lib/python3.8/site-packages/ray/autoscaler/_private/cli_logger.py:57: FutureWarning: Not all Ray CLI dependencies were found. In Ray 1.4+, the Ray CLI, autoscaler, and dashboard will only be usable via `pip install 'ray[default]'`. Please update your install command.\n",
      "\u001b[2m\u001b[33m(raylet)\u001b[0m   warnings.warn(\n",
      "\u001b[2m\u001b[33m(raylet)\u001b[0m /home/therealchainman/miniconda3/lib/python3.8/site-packages/ray/autoscaler/_private/cli_logger.py:57: FutureWarning: Not all Ray CLI dependencies were found. In Ray 1.4+, the Ray CLI, autoscaler, and dashboard will only be usable via `pip install 'ray[default]'`. Please update your install command.\n",
      "\u001b[2m\u001b[33m(raylet)\u001b[0m   warnings.warn(\n",
      "\u001b[2m\u001b[33m(raylet)\u001b[0m /home/therealchainman/miniconda3/lib/python3.8/site-packages/ray/autoscaler/_private/cli_logger.py:57: FutureWarning: Not all Ray CLI dependencies were found. In Ray 1.4+, the Ray CLI, autoscaler, and dashboard will only be usable via `pip install 'ray[default]'`. Please update your install command.\n",
      "\u001b[2m\u001b[33m(raylet)\u001b[0m   warnings.warn(\n",
      "\u001b[2m\u001b[33m(raylet)\u001b[0m /home/therealchainman/miniconda3/lib/python3.8/site-packages/ray/autoscaler/_private/cli_logger.py:57: FutureWarning: Not all Ray CLI dependencies were found. In Ray 1.4+, the Ray CLI, autoscaler, and dashboard will only be usable via `pip install 'ray[default]'`. Please update your install command.\n",
      "\u001b[2m\u001b[33m(raylet)\u001b[0m   warnings.warn(\n",
      "\u001b[2m\u001b[33m(raylet)\u001b[0m /home/therealchainman/miniconda3/lib/python3.8/site-packages/ray/autoscaler/_private/cli_logger.py:57: FutureWarning: Not all Ray CLI dependencies were found. In Ray 1.4+, the Ray CLI, autoscaler, and dashboard will only be usable via `pip install 'ray[default]'`. Please update your install command.\n",
      "\u001b[2m\u001b[33m(raylet)\u001b[0m   warnings.warn(\n",
      "\u001b[2m\u001b[33m(raylet)\u001b[0m /home/therealchainman/miniconda3/lib/python3.8/site-packages/ray/autoscaler/_private/cli_logger.py:57: FutureWarning: Not all Ray CLI dependencies were found. In Ray 1.4+, the Ray CLI, autoscaler, and dashboard will only be usable via `pip install 'ray[default]'`. Please update your install command.\n",
      "\u001b[2m\u001b[33m(raylet)\u001b[0m   warnings.warn(\n",
      "\u001b[2m\u001b[33m(raylet)\u001b[0m /home/therealchainman/miniconda3/lib/python3.8/site-packages/ray/autoscaler/_private/cli_logger.py:57: FutureWarning: Not all Ray CLI dependencies were found. In Ray 1.4+, the Ray CLI, autoscaler, and dashboard will only be usable via `pip install 'ray[default]'`. Please update your install command.\n",
      "\u001b[2m\u001b[33m(raylet)\u001b[0m   warnings.warn(\n",
      "\u001b[2m\u001b[33m(raylet)\u001b[0m /home/therealchainman/miniconda3/lib/python3.8/site-packages/ray/autoscaler/_private/cli_logger.py:57: FutureWarning: Not all Ray CLI dependencies were found. In Ray 1.4+, the Ray CLI, autoscaler, and dashboard will only be usable via `pip install 'ray[default]'`. Please update your install command.\n",
      "\u001b[2m\u001b[33m(raylet)\u001b[0m   warnings.warn(\n",
      "\u001b[2m\u001b[33m(raylet)\u001b[0m /home/therealchainman/miniconda3/lib/python3.8/site-packages/ray/autoscaler/_private/cli_logger.py:57: FutureWarning: Not all Ray CLI dependencies were found. In Ray 1.4+, the Ray CLI, autoscaler, and dashboard will only be usable via `pip install 'ray[default]'`. Please update your install command.\n",
      "\u001b[2m\u001b[33m(raylet)\u001b[0m   warnings.warn(\n",
      "\u001b[2m\u001b[33m(raylet)\u001b[0m /home/therealchainman/miniconda3/lib/python3.8/site-packages/ray/autoscaler/_private/cli_logger.py:57: FutureWarning: Not all Ray CLI dependencies were found. In Ray 1.4+, the Ray CLI, autoscaler, and dashboard will only be usable via `pip install 'ray[default]'`. Please update your install command.\n",
      "\u001b[2m\u001b[33m(raylet)\u001b[0m   warnings.warn(\n",
      "\u001b[2m\u001b[33m(raylet)\u001b[0m /home/therealchainman/miniconda3/lib/python3.8/site-packages/ray/autoscaler/_private/cli_logger.py:57: FutureWarning: Not all Ray CLI dependencies were found. In Ray 1.4+, the Ray CLI, autoscaler, and dashboard will only be usable via `pip install 'ray[default]'`. Please update your install command.\n",
      "\u001b[2m\u001b[33m(raylet)\u001b[0m   warnings.warn(\n",
      "\u001b[2m\u001b[33m(raylet)\u001b[0m /home/therealchainman/miniconda3/lib/python3.8/site-packages/ray/autoscaler/_private/cli_logger.py:57: FutureWarning: Not all Ray CLI dependencies were found. In Ray 1.4+, the Ray CLI, autoscaler, and dashboard will only be usable via `pip install 'ray[default]'`. Please update your install command.\n",
      "\u001b[2m\u001b[33m(raylet)\u001b[0m   warnings.warn(\n",
      "\u001b[2m\u001b[33m(raylet)\u001b[0m /home/therealchainman/miniconda3/lib/python3.8/site-packages/ray/autoscaler/_private/cli_logger.py:57: FutureWarning: Not all Ray CLI dependencies were found. In Ray 1.4+, the Ray CLI, autoscaler, and dashboard will only be usable via `pip install 'ray[default]'`. Please update your install command.\n",
      "\u001b[2m\u001b[33m(raylet)\u001b[0m   warnings.warn(\n"
     ]
    },
    {
     "data": {
      "text/html": [
       "== Status ==<br>Memory usage on this node: 4.7/15.5 GiB<br>Using FIFO scheduling algorithm.<br>Resources requested: 8.0/8 CPUs, 0/0 GPUs, 0.0/8.34 GiB heap, 0.0/4.17 GiB objects<br>Result logdir: /home/therealchainman/ray_results/train_mnist_2021-06-23_16-05-26<br>Number of trials: 20/20 (8 ERROR, 4 PENDING, 8 RUNNING)<br><table>\n",
       "<thead>\n",
       "<tr><th>Trial name             </th><th>status  </th><th>loc  </th><th style=\"text-align: right;\">         lr</th><th style=\"text-align: right;\">  momentum</th></tr>\n",
       "</thead>\n",
       "<tbody>\n",
       "<tr><td>train_mnist_bbf8f_00008</td><td>RUNNING </td><td>     </td><td style=\"text-align: right;\">0.0145477  </td><td style=\"text-align: right;\">  0.473439</td></tr>\n",
       "<tr><td>train_mnist_bbf8f_00009</td><td>RUNNING </td><td>     </td><td style=\"text-align: right;\">0.000378187</td><td style=\"text-align: right;\">  0.730264</td></tr>\n",
       "<tr><td>train_mnist_bbf8f_00010</td><td>RUNNING </td><td>     </td><td style=\"text-align: right;\">1.09399e-07</td><td style=\"text-align: right;\">  0.228719</td></tr>\n",
       "<tr><td>train_mnist_bbf8f_00011</td><td>RUNNING </td><td>     </td><td style=\"text-align: right;\">5.86371e-08</td><td style=\"text-align: right;\">  0.357454</td></tr>\n",
       "<tr><td>train_mnist_bbf8f_00012</td><td>RUNNING </td><td>     </td><td style=\"text-align: right;\">0.00132057 </td><td style=\"text-align: right;\">  0.635444</td></tr>\n",
       "<tr><td>train_mnist_bbf8f_00013</td><td>RUNNING </td><td>     </td><td style=\"text-align: right;\">0.0723701  </td><td style=\"text-align: right;\">  0.55429 </td></tr>\n",
       "<tr><td>train_mnist_bbf8f_00014</td><td>RUNNING </td><td>     </td><td style=\"text-align: right;\">0.567137   </td><td style=\"text-align: right;\">  0.699913</td></tr>\n",
       "<tr><td>train_mnist_bbf8f_00015</td><td>RUNNING </td><td>     </td><td style=\"text-align: right;\">2.09078e-06</td><td style=\"text-align: right;\">  0.202252</td></tr>\n",
       "<tr><td>train_mnist_bbf8f_00016</td><td>PENDING </td><td>     </td><td style=\"text-align: right;\">1.3664e-08 </td><td style=\"text-align: right;\">  0.371185</td></tr>\n",
       "<tr><td>train_mnist_bbf8f_00017</td><td>PENDING </td><td>     </td><td style=\"text-align: right;\">0.000773308</td><td style=\"text-align: right;\">  0.758946</td></tr>\n",
       "<tr><td>train_mnist_bbf8f_00018</td><td>PENDING </td><td>     </td><td style=\"text-align: right;\">0.0137393  </td><td style=\"text-align: right;\">  0.60156 </td></tr>\n",
       "<tr><td>train_mnist_bbf8f_00019</td><td>PENDING </td><td>     </td><td style=\"text-align: right;\">9.36453e-05</td><td style=\"text-align: right;\">  0.234719</td></tr>\n",
       "<tr><td>train_mnist_bbf8f_00000</td><td>ERROR   </td><td>     </td><td style=\"text-align: right;\">0.00079759 </td><td style=\"text-align: right;\">  0.511843</td></tr>\n",
       "<tr><td>train_mnist_bbf8f_00001</td><td>ERROR   </td><td>     </td><td style=\"text-align: right;\">1.68399e-06</td><td style=\"text-align: right;\">  0.501628</td></tr>\n",
       "<tr><td>train_mnist_bbf8f_00002</td><td>ERROR   </td><td>     </td><td style=\"text-align: right;\">0.00318452 </td><td style=\"text-align: right;\">  0.471165</td></tr>\n",
       "<tr><td>train_mnist_bbf8f_00003</td><td>ERROR   </td><td>     </td><td style=\"text-align: right;\">0.000134866</td><td style=\"text-align: right;\">  0.320262</td></tr>\n",
       "<tr><td>train_mnist_bbf8f_00004</td><td>ERROR   </td><td>     </td><td style=\"text-align: right;\">0.00543249 </td><td style=\"text-align: right;\">  0.649584</td></tr>\n",
       "<tr><td>train_mnist_bbf8f_00005</td><td>ERROR   </td><td>     </td><td style=\"text-align: right;\">0.000439039</td><td style=\"text-align: right;\">  0.79882 </td></tr>\n",
       "<tr><td>train_mnist_bbf8f_00006</td><td>ERROR   </td><td>     </td><td style=\"text-align: right;\">0.00447357 </td><td style=\"text-align: right;\">  0.409483</td></tr>\n",
       "<tr><td>train_mnist_bbf8f_00007</td><td>ERROR   </td><td>     </td><td style=\"text-align: right;\">0.000745227</td><td style=\"text-align: right;\">  0.219831</td></tr>\n",
       "</tbody>\n",
       "</table><br>Number of errored trials: 8<br><table>\n",
       "<thead>\n",
       "<tr><th>Trial name             </th><th style=\"text-align: right;\">  # failures</th><th>error file                                                                                                                                              </th></tr>\n",
       "</thead>\n",
       "<tbody>\n",
       "<tr><td>train_mnist_bbf8f_00000</td><td style=\"text-align: right;\">           1</td><td>/home/therealchainman/ray_results/train_mnist_2021-06-23_16-05-26/train_mnist_bbf8f_00000_0_lr=0.00079759,momentum=0.51184_2021-06-23_16-05-27/error.txt</td></tr>\n",
       "<tr><td>train_mnist_bbf8f_00001</td><td style=\"text-align: right;\">           1</td><td>/home/therealchainman/ray_results/train_mnist_2021-06-23_16-05-26/train_mnist_bbf8f_00001_1_lr=1.684e-06,momentum=0.50163_2021-06-23_16-05-27/error.txt </td></tr>\n",
       "<tr><td>train_mnist_bbf8f_00002</td><td style=\"text-align: right;\">           1</td><td>/home/therealchainman/ray_results/train_mnist_2021-06-23_16-05-26/train_mnist_bbf8f_00002_2_lr=0.0031845,momentum=0.47116_2021-06-23_16-05-27/error.txt </td></tr>\n",
       "<tr><td>train_mnist_bbf8f_00003</td><td style=\"text-align: right;\">           1</td><td>/home/therealchainman/ray_results/train_mnist_2021-06-23_16-05-26/train_mnist_bbf8f_00003_3_lr=0.00013487,momentum=0.32026_2021-06-23_16-05-27/error.txt</td></tr>\n",
       "<tr><td>train_mnist_bbf8f_00004</td><td style=\"text-align: right;\">           1</td><td>/home/therealchainman/ray_results/train_mnist_2021-06-23_16-05-26/train_mnist_bbf8f_00004_4_lr=0.0054325,momentum=0.64958_2021-06-23_16-05-27/error.txt </td></tr>\n",
       "<tr><td>train_mnist_bbf8f_00005</td><td style=\"text-align: right;\">           1</td><td>/home/therealchainman/ray_results/train_mnist_2021-06-23_16-05-26/train_mnist_bbf8f_00005_5_lr=0.00043904,momentum=0.79882_2021-06-23_16-05-27/error.txt</td></tr>\n",
       "<tr><td>train_mnist_bbf8f_00006</td><td style=\"text-align: right;\">           1</td><td>/home/therealchainman/ray_results/train_mnist_2021-06-23_16-05-26/train_mnist_bbf8f_00006_6_lr=0.0044736,momentum=0.40948_2021-06-23_16-05-27/error.txt </td></tr>\n",
       "<tr><td>train_mnist_bbf8f_00007</td><td style=\"text-align: right;\">           1</td><td>/home/therealchainman/ray_results/train_mnist_2021-06-23_16-05-26/train_mnist_bbf8f_00007_7_lr=0.00074523,momentum=0.21983_2021-06-23_16-05-27/error.txt</td></tr>\n",
       "</tbody>\n",
       "</table><br>"
      ],
      "text/plain": [
       "<IPython.core.display.HTML object>"
      ]
     },
     "metadata": {},
     "output_type": "display_data"
    },
    {
     "name": "stderr",
     "output_type": "stream",
     "text": [
      "\u001b[2m\u001b[36m(pid=10279)\u001b[0m 2021-06-23 16:05:32,858\tERROR function_runner.py:254 -- Runner Thread raised error.\n",
      "\u001b[2m\u001b[36m(pid=10279)\u001b[0m Traceback (most recent call last):\n",
      "\u001b[2m\u001b[36m(pid=10279)\u001b[0m   File \"/home/therealchainman/miniconda3/lib/python3.8/site-packages/ray/tune/function_runner.py\", line 248, in run\n",
      "\u001b[2m\u001b[36m(pid=10279)\u001b[0m     self._entrypoint()\n",
      "\u001b[2m\u001b[36m(pid=10279)\u001b[0m   File \"/home/therealchainman/miniconda3/lib/python3.8/site-packages/ray/tune/function_runner.py\", line 315, in entrypoint\n",
      "\u001b[2m\u001b[36m(pid=10279)\u001b[0m     return self._trainable_func(self.config, self._status_reporter,\n",
      "\u001b[2m\u001b[36m(pid=10279)\u001b[0m   File \"/home/therealchainman/miniconda3/lib/python3.8/site-packages/ray/tune/function_runner.py\", line 580, in _trainable_func\n",
      "\u001b[2m\u001b[36m(pid=10279)\u001b[0m     output = fn()\n",
      "\u001b[2m\u001b[36m(pid=10279)\u001b[0m   File \"<ipython-input-11-26a293f4f9ec>\", line 8, in train_mnist\n",
      "\u001b[2m\u001b[36m(pid=10279)\u001b[0m   File \"/home/therealchainman/miniconda3/lib/python3.8/site-packages/torchvision/datasets/mnist.py\", line 90, in __init__\n",
      "\u001b[2m\u001b[36m(pid=10279)\u001b[0m     raise RuntimeError('Dataset not found.' +\n",
      "\u001b[2m\u001b[36m(pid=10279)\u001b[0m RuntimeError: Dataset not found. You can use download=True to download it\n",
      "\u001b[2m\u001b[36m(pid=10279)\u001b[0m Exception in thread Thread-2:\n",
      "\u001b[2m\u001b[36m(pid=10279)\u001b[0m Traceback (most recent call last):\n",
      "\u001b[2m\u001b[36m(pid=10279)\u001b[0m   File \"/home/therealchainman/miniconda3/lib/python3.8/threading.py\", line 932, in _bootstrap_inner\n",
      "\u001b[2m\u001b[36m(pid=10279)\u001b[0m     self.run()\n",
      "\u001b[2m\u001b[36m(pid=10279)\u001b[0m   File \"/home/therealchainman/miniconda3/lib/python3.8/site-packages/ray/tune/function_runner.py\", line 267, in run\n",
      "\u001b[2m\u001b[36m(pid=10279)\u001b[0m     raise e\n",
      "\u001b[2m\u001b[36m(pid=10279)\u001b[0m   File \"/home/therealchainman/miniconda3/lib/python3.8/site-packages/ray/tune/function_runner.py\", line 248, in run\n",
      "\u001b[2m\u001b[36m(pid=10279)\u001b[0m     self._entrypoint()\n",
      "\u001b[2m\u001b[36m(pid=10279)\u001b[0m   File \"/home/therealchainman/miniconda3/lib/python3.8/site-packages/ray/tune/function_runner.py\", line 315, in entrypoint\n",
      "\u001b[2m\u001b[36m(pid=10279)\u001b[0m     return self._trainable_func(self.config, self._status_reporter,\n",
      "\u001b[2m\u001b[36m(pid=10279)\u001b[0m   File \"/home/therealchainman/miniconda3/lib/python3.8/site-packages/ray/tune/function_runner.py\", line 580, in _trainable_func\n",
      "\u001b[2m\u001b[36m(pid=10279)\u001b[0m     output = fn()\n",
      "\u001b[2m\u001b[36m(pid=10279)\u001b[0m   File \"<ipython-input-11-26a293f4f9ec>\", line 8, in train_mnist\n",
      "\u001b[2m\u001b[36m(pid=10279)\u001b[0m   File \"/home/therealchainman/miniconda3/lib/python3.8/site-packages/torchvision/datasets/mnist.py\", line 90, in __init__\n",
      "\u001b[2m\u001b[36m(pid=10279)\u001b[0m     raise RuntimeError('Dataset not found.' +\n",
      "\u001b[2m\u001b[36m(pid=10279)\u001b[0m RuntimeError: Dataset not found. You can use download=True to download it\n",
      "\u001b[2m\u001b[36m(pid=10283)\u001b[0m 2021-06-23 16:05:32,850\tERROR function_runner.py:254 -- Runner Thread raised error.\n",
      "\u001b[2m\u001b[36m(pid=10283)\u001b[0m Traceback (most recent call last):\n",
      "\u001b[2m\u001b[36m(pid=10283)\u001b[0m   File \"/home/therealchainman/miniconda3/lib/python3.8/site-packages/ray/tune/function_runner.py\", line 248, in run\n",
      "\u001b[2m\u001b[36m(pid=10283)\u001b[0m     self._entrypoint()\n",
      "\u001b[2m\u001b[36m(pid=10283)\u001b[0m   File \"/home/therealchainman/miniconda3/lib/python3.8/site-packages/ray/tune/function_runner.py\", line 315, in entrypoint\n",
      "\u001b[2m\u001b[36m(pid=10283)\u001b[0m     return self._trainable_func(self.config, self._status_reporter,\n",
      "\u001b[2m\u001b[36m(pid=10283)\u001b[0m   File \"/home/therealchainman/miniconda3/lib/python3.8/site-packages/ray/tune/function_runner.py\", line 580, in _trainable_func\n",
      "\u001b[2m\u001b[36m(pid=10283)\u001b[0m     output = fn()\n",
      "\u001b[2m\u001b[36m(pid=10283)\u001b[0m   File \"<ipython-input-11-26a293f4f9ec>\", line 8, in train_mnist\n",
      "\u001b[2m\u001b[36m(pid=10283)\u001b[0m   File \"/home/therealchainman/miniconda3/lib/python3.8/site-packages/torchvision/datasets/mnist.py\", line 90, in __init__\n",
      "\u001b[2m\u001b[36m(pid=10283)\u001b[0m     raise RuntimeError('Dataset not found.' +\n",
      "\u001b[2m\u001b[36m(pid=10283)\u001b[0m RuntimeError: Dataset not found. You can use download=True to download it\n",
      "\u001b[2m\u001b[36m(pid=10283)\u001b[0m Exception in thread Thread-2:\n",
      "\u001b[2m\u001b[36m(pid=10283)\u001b[0m Traceback (most recent call last):\n",
      "\u001b[2m\u001b[36m(pid=10283)\u001b[0m   File \"/home/therealchainman/miniconda3/lib/python3.8/threading.py\", line 932, in _bootstrap_inner\n",
      "\u001b[2m\u001b[36m(pid=10283)\u001b[0m     self.run()\n",
      "\u001b[2m\u001b[36m(pid=10283)\u001b[0m   File \"/home/therealchainman/miniconda3/lib/python3.8/site-packages/ray/tune/function_runner.py\", line 267, in run\n",
      "\u001b[2m\u001b[36m(pid=10283)\u001b[0m     raise e\n",
      "\u001b[2m\u001b[36m(pid=10283)\u001b[0m   File \"/home/therealchainman/miniconda3/lib/python3.8/site-packages/ray/tune/function_runner.py\", line 248, in run\n",
      "\u001b[2m\u001b[36m(pid=10283)\u001b[0m     self._entrypoint()\n",
      "\u001b[2m\u001b[36m(pid=10283)\u001b[0m   File \"/home/therealchainman/miniconda3/lib/python3.8/site-packages/ray/tune/function_runner.py\", line 315, in entrypoint\n",
      "\u001b[2m\u001b[36m(pid=10283)\u001b[0m     return self._trainable_func(self.config, self._status_reporter,\n",
      "\u001b[2m\u001b[36m(pid=10283)\u001b[0m   File \"/home/therealchainman/miniconda3/lib/python3.8/site-packages/ray/tune/function_runner.py\", line 580, in _trainable_func\n",
      "\u001b[2m\u001b[36m(pid=10283)\u001b[0m     output = fn()\n",
      "\u001b[2m\u001b[36m(pid=10283)\u001b[0m   File \"<ipython-input-11-26a293f4f9ec>\", line 8, in train_mnist\n",
      "\u001b[2m\u001b[36m(pid=10283)\u001b[0m   File \"/home/therealchainman/miniconda3/lib/python3.8/site-packages/torchvision/datasets/mnist.py\", line 90, in __init__\n",
      "\u001b[2m\u001b[36m(pid=10283)\u001b[0m     raise RuntimeError('Dataset not found.' +\n",
      "\u001b[2m\u001b[36m(pid=10283)\u001b[0m RuntimeError: Dataset not found. You can use download=True to download it\n",
      "\u001b[2m\u001b[36m(pid=10289)\u001b[0m 2021-06-23 16:05:32,966\tERROR function_runner.py:254 -- Runner Thread raised error.\n",
      "\u001b[2m\u001b[36m(pid=10289)\u001b[0m Traceback (most recent call last):\n",
      "\u001b[2m\u001b[36m(pid=10289)\u001b[0m   File \"/home/therealchainman/miniconda3/lib/python3.8/site-packages/ray/tune/function_runner.py\", line 248, in run\n",
      "\u001b[2m\u001b[36m(pid=10289)\u001b[0m     self._entrypoint()\n",
      "\u001b[2m\u001b[36m(pid=10289)\u001b[0m   File \"/home/therealchainman/miniconda3/lib/python3.8/site-packages/ray/tune/function_runner.py\", line 315, in entrypoint\n",
      "\u001b[2m\u001b[36m(pid=10289)\u001b[0m     return self._trainable_func(self.config, self._status_reporter,\n",
      "\u001b[2m\u001b[36m(pid=10289)\u001b[0m   File \"/home/therealchainman/miniconda3/lib/python3.8/site-packages/ray/tune/function_runner.py\", line 580, in _trainable_func\n",
      "\u001b[2m\u001b[36m(pid=10289)\u001b[0m     output = fn()\n",
      "\u001b[2m\u001b[36m(pid=10289)\u001b[0m   File \"<ipython-input-11-26a293f4f9ec>\", line 8, in train_mnist\n",
      "\u001b[2m\u001b[36m(pid=10289)\u001b[0m   File \"/home/therealchainman/miniconda3/lib/python3.8/site-packages/torchvision/datasets/mnist.py\", line 90, in __init__\n",
      "\u001b[2m\u001b[36m(pid=10289)\u001b[0m     raise RuntimeError('Dataset not found.' +\n",
      "\u001b[2m\u001b[36m(pid=10289)\u001b[0m RuntimeError: Dataset not found. You can use download=True to download it\n",
      "\u001b[2m\u001b[36m(pid=10289)\u001b[0m Exception in thread Thread-2:\n",
      "\u001b[2m\u001b[36m(pid=10289)\u001b[0m Traceback (most recent call last):\n",
      "\u001b[2m\u001b[36m(pid=10289)\u001b[0m   File \"/home/therealchainman/miniconda3/lib/python3.8/threading.py\", line 932, in _bootstrap_inner\n",
      "\u001b[2m\u001b[36m(pid=10289)\u001b[0m     self.run()\n",
      "\u001b[2m\u001b[36m(pid=10289)\u001b[0m   File \"/home/therealchainman/miniconda3/lib/python3.8/site-packages/ray/tune/function_runner.py\", line 267, in run\n",
      "\u001b[2m\u001b[36m(pid=10289)\u001b[0m     raise e\n",
      "\u001b[2m\u001b[36m(pid=10289)\u001b[0m   File \"/home/therealchainman/miniconda3/lib/python3.8/site-packages/ray/tune/function_runner.py\", line 248, in run\n",
      "\u001b[2m\u001b[36m(pid=10289)\u001b[0m     self._entrypoint()\n",
      "\u001b[2m\u001b[36m(pid=10289)\u001b[0m   File \"/home/therealchainman/miniconda3/lib/python3.8/site-packages/ray/tune/function_runner.py\", line 315, in entrypoint\n",
      "\u001b[2m\u001b[36m(pid=10289)\u001b[0m     return self._trainable_func(self.config, self._status_reporter,\n",
      "\u001b[2m\u001b[36m(pid=10289)\u001b[0m   File \"/home/therealchainman/miniconda3/lib/python3.8/site-packages/ray/tune/function_runner.py\", line 580, in _trainable_func\n",
      "\u001b[2m\u001b[36m(pid=10289)\u001b[0m     output = fn()\n",
      "\u001b[2m\u001b[36m(pid=10289)\u001b[0m   File \"<ipython-input-11-26a293f4f9ec>\", line 8, in train_mnist\n",
      "\u001b[2m\u001b[36m(pid=10289)\u001b[0m   File \"/home/therealchainman/miniconda3/lib/python3.8/site-packages/torchvision/datasets/mnist.py\", line 90, in __init__\n",
      "\u001b[2m\u001b[36m(pid=10289)\u001b[0m     raise RuntimeError('Dataset not found.' +\n",
      "\u001b[2m\u001b[36m(pid=10289)\u001b[0m RuntimeError: Dataset not found. You can use download=True to download it\n",
      "\u001b[2m\u001b[36m(pid=10286)\u001b[0m 2021-06-23 16:05:32,995\tERROR function_runner.py:254 -- Runner Thread raised error.\n",
      "\u001b[2m\u001b[36m(pid=10286)\u001b[0m Traceback (most recent call last):\n",
      "\u001b[2m\u001b[36m(pid=10286)\u001b[0m   File \"/home/therealchainman/miniconda3/lib/python3.8/site-packages/ray/tune/function_runner.py\", line 248, in run\n",
      "\u001b[2m\u001b[36m(pid=10286)\u001b[0m     self._entrypoint()\n",
      "\u001b[2m\u001b[36m(pid=10286)\u001b[0m   File \"/home/therealchainman/miniconda3/lib/python3.8/site-packages/ray/tune/function_runner.py\", line 315, in entrypoint\n",
      "\u001b[2m\u001b[36m(pid=10286)\u001b[0m     return self._trainable_func(self.config, self._status_reporter,\n",
      "\u001b[2m\u001b[36m(pid=10286)\u001b[0m   File \"/home/therealchainman/miniconda3/lib/python3.8/site-packages/ray/tune/function_runner.py\", line 580, in _trainable_func\n",
      "\u001b[2m\u001b[36m(pid=10286)\u001b[0m     output = fn()\n",
      "\u001b[2m\u001b[36m(pid=10286)\u001b[0m   File \"<ipython-input-11-26a293f4f9ec>\", line 8, in train_mnist\n",
      "\u001b[2m\u001b[36m(pid=10286)\u001b[0m   File \"/home/therealchainman/miniconda3/lib/python3.8/site-packages/torchvision/datasets/mnist.py\", line 90, in __init__\n",
      "\u001b[2m\u001b[36m(pid=10286)\u001b[0m     raise RuntimeError('Dataset not found.' +\n",
      "\u001b[2m\u001b[36m(pid=10286)\u001b[0m RuntimeError: Dataset not found. You can use download=True to download it\n",
      "\u001b[2m\u001b[36m(pid=10286)\u001b[0m Exception in thread Thread-2:\n",
      "\u001b[2m\u001b[36m(pid=10286)\u001b[0m Traceback (most recent call last):\n",
      "\u001b[2m\u001b[36m(pid=10286)\u001b[0m   File \"/home/therealchainman/miniconda3/lib/python3.8/threading.py\", line 932, in _bootstrap_inner\n",
      "\u001b[2m\u001b[36m(pid=10286)\u001b[0m     self.run()\n",
      "\u001b[2m\u001b[36m(pid=10286)\u001b[0m   File \"/home/therealchainman/miniconda3/lib/python3.8/site-packages/ray/tune/function_runner.py\", line 267, in run\n",
      "\u001b[2m\u001b[36m(pid=10286)\u001b[0m     raise e\n",
      "\u001b[2m\u001b[36m(pid=10286)\u001b[0m   File \"/home/therealchainman/miniconda3/lib/python3.8/site-packages/ray/tune/function_runner.py\", line 248, in run\n",
      "\u001b[2m\u001b[36m(pid=10286)\u001b[0m     self._entrypoint()\n",
      "\u001b[2m\u001b[36m(pid=10286)\u001b[0m   File \"/home/therealchainman/miniconda3/lib/python3.8/site-packages/ray/tune/function_runner.py\", line 315, in entrypoint\n",
      "\u001b[2m\u001b[36m(pid=10286)\u001b[0m     return self._trainable_func(self.config, self._status_reporter,\n",
      "\u001b[2m\u001b[36m(pid=10286)\u001b[0m   File \"/home/therealchainman/miniconda3/lib/python3.8/site-packages/ray/tune/function_runner.py\", line 580, in _trainable_func\n",
      "\u001b[2m\u001b[36m(pid=10286)\u001b[0m     output = fn()\n",
      "\u001b[2m\u001b[36m(pid=10286)\u001b[0m   File \"<ipython-input-11-26a293f4f9ec>\", line 8, in train_mnist\n",
      "\u001b[2m\u001b[36m(pid=10286)\u001b[0m   File \"/home/therealchainman/miniconda3/lib/python3.8/site-packages/torchvision/datasets/mnist.py\", line 90, in __init__\n",
      "\u001b[2m\u001b[36m(pid=10286)\u001b[0m     raise RuntimeError('Dataset not found.' +\n",
      "\u001b[2m\u001b[36m(pid=10286)\u001b[0m RuntimeError: Dataset not found. You can use download=True to download it\n",
      "\u001b[2m\u001b[36m(pid=10291)\u001b[0m 2021-06-23 16:05:32,981\tERROR function_runner.py:254 -- Runner Thread raised error.\n",
      "\u001b[2m\u001b[36m(pid=10291)\u001b[0m Traceback (most recent call last):\n",
      "\u001b[2m\u001b[36m(pid=10291)\u001b[0m   File \"/home/therealchainman/miniconda3/lib/python3.8/site-packages/ray/tune/function_runner.py\", line 248, in run\n",
      "\u001b[2m\u001b[36m(pid=10291)\u001b[0m     self._entrypoint()\n",
      "\u001b[2m\u001b[36m(pid=10291)\u001b[0m   File \"/home/therealchainman/miniconda3/lib/python3.8/site-packages/ray/tune/function_runner.py\", line 315, in entrypoint\n",
      "\u001b[2m\u001b[36m(pid=10291)\u001b[0m     return self._trainable_func(self.config, self._status_reporter,\n",
      "\u001b[2m\u001b[36m(pid=10291)\u001b[0m   File \"/home/therealchainman/miniconda3/lib/python3.8/site-packages/ray/tune/function_runner.py\", line 580, in _trainable_func\n",
      "\u001b[2m\u001b[36m(pid=10291)\u001b[0m     output = fn()\n",
      "\u001b[2m\u001b[36m(pid=10291)\u001b[0m   File \"<ipython-input-11-26a293f4f9ec>\", line 8, in train_mnist\n",
      "\u001b[2m\u001b[36m(pid=10291)\u001b[0m   File \"/home/therealchainman/miniconda3/lib/python3.8/site-packages/torchvision/datasets/mnist.py\", line 90, in __init__\n",
      "\u001b[2m\u001b[36m(pid=10291)\u001b[0m     raise RuntimeError('Dataset not found.' +\n",
      "\u001b[2m\u001b[36m(pid=10291)\u001b[0m RuntimeError: Dataset not found. You can use download=True to download it\n",
      "\u001b[2m\u001b[36m(pid=10291)\u001b[0m Exception in thread Thread-2:\n",
      "\u001b[2m\u001b[36m(pid=10291)\u001b[0m Traceback (most recent call last):\n",
      "\u001b[2m\u001b[36m(pid=10291)\u001b[0m   File \"/home/therealchainman/miniconda3/lib/python3.8/threading.py\", line 932, in _bootstrap_inner\n",
      "\u001b[2m\u001b[36m(pid=10291)\u001b[0m     self.run()\n",
      "\u001b[2m\u001b[36m(pid=10291)\u001b[0m   File \"/home/therealchainman/miniconda3/lib/python3.8/site-packages/ray/tune/function_runner.py\", line 267, in run\n",
      "\u001b[2m\u001b[36m(pid=10291)\u001b[0m     raise e\n",
      "\u001b[2m\u001b[36m(pid=10291)\u001b[0m   File \"/home/therealchainman/miniconda3/lib/python3.8/site-packages/ray/tune/function_runner.py\", line 248, in run\n",
      "\u001b[2m\u001b[36m(pid=10291)\u001b[0m     self._entrypoint()\n",
      "\u001b[2m\u001b[36m(pid=10291)\u001b[0m   File \"/home/therealchainman/miniconda3/lib/python3.8/site-packages/ray/tune/function_runner.py\", line 315, in entrypoint\n",
      "\u001b[2m\u001b[36m(pid=10291)\u001b[0m     return self._trainable_func(self.config, self._status_reporter,\n",
      "\u001b[2m\u001b[36m(pid=10291)\u001b[0m   File \"/home/therealchainman/miniconda3/lib/python3.8/site-packages/ray/tune/function_runner.py\", line 580, in _trainable_func\n",
      "\u001b[2m\u001b[36m(pid=10291)\u001b[0m     output = fn()\n",
      "\u001b[2m\u001b[36m(pid=10291)\u001b[0m   File \"<ipython-input-11-26a293f4f9ec>\", line 8, in train_mnist\n",
      "\u001b[2m\u001b[36m(pid=10291)\u001b[0m   File \"/home/therealchainman/miniconda3/lib/python3.8/site-packages/torchvision/datasets/mnist.py\", line 90, in __init__\n",
      "\u001b[2m\u001b[36m(pid=10291)\u001b[0m     raise RuntimeError('Dataset not found.' +\n",
      "\u001b[2m\u001b[36m(pid=10291)\u001b[0m RuntimeError: Dataset not found. You can use download=True to download it\n",
      "2021-06-23 16:05:33,053\tERROR trial_runner.py:748 -- Trial train_mnist_bbf8f_00012: Error processing event.\n",
      "Traceback (most recent call last):\n",
      "  File \"/home/therealchainman/miniconda3/lib/python3.8/site-packages/ray/tune/trial_runner.py\", line 718, in _process_trial\n",
      "    results = self.trial_executor.fetch_result(trial)\n",
      "  File \"/home/therealchainman/miniconda3/lib/python3.8/site-packages/ray/tune/ray_trial_executor.py\", line 688, in fetch_result\n",
      "    result = ray.get(trial_future[0], timeout=DEFAULT_GET_TIMEOUT)\n",
      "  File \"/home/therealchainman/miniconda3/lib/python3.8/site-packages/ray/_private/client_mode_hook.py\", line 62, in wrapper\n",
      "    return func(*args, **kwargs)\n",
      "  File \"/home/therealchainman/miniconda3/lib/python3.8/site-packages/ray/worker.py\", line 1494, in get\n",
      "    raise value.as_instanceof_cause()\n",
      "ray.exceptions.RayTaskError(TuneError): \u001b[36mray::ImplicitFunc.train_buffered()\u001b[39m (pid=10283, ip=192.168.1.106)\n",
      "  File \"python/ray/_raylet.pyx\", line 501, in ray._raylet.execute_task\n",
      "  File \"python/ray/_raylet.pyx\", line 451, in ray._raylet.execute_task.function_executor\n",
      "  File \"/home/therealchainman/miniconda3/lib/python3.8/site-packages/ray/_private/function_manager.py\", line 563, in actor_method_executor\n",
      "    return method(__ray_actor, *args, **kwargs)\n",
      "  File \"/home/therealchainman/miniconda3/lib/python3.8/site-packages/ray/tune/trainable.py\", line 173, in train_buffered\n",
      "    result = self.train()\n",
      "  File \"/home/therealchainman/miniconda3/lib/python3.8/site-packages/ray/tune/trainable.py\", line 232, in train\n",
      "    result = self.step()\n",
      "  File \"/home/therealchainman/miniconda3/lib/python3.8/site-packages/ray/tune/function_runner.py\", line 366, in step\n",
      "    self._report_thread_runner_error(block=True)\n",
      "  File \"/home/therealchainman/miniconda3/lib/python3.8/site-packages/ray/tune/function_runner.py\", line 512, in _report_thread_runner_error\n",
      "    raise TuneError(\n",
      "ray.tune.error.TuneError: Trial raised an exception. Traceback:\n",
      "\u001b[36mray::ImplicitFunc.train_buffered()\u001b[39m (pid=10283, ip=192.168.1.106)\n",
      "  File \"/home/therealchainman/miniconda3/lib/python3.8/site-packages/ray/tune/function_runner.py\", line 248, in run\n",
      "    self._entrypoint()\n",
      "  File \"/home/therealchainman/miniconda3/lib/python3.8/site-packages/ray/tune/function_runner.py\", line 315, in entrypoint\n",
      "    return self._trainable_func(self.config, self._status_reporter,\n",
      "  File \"/home/therealchainman/miniconda3/lib/python3.8/site-packages/ray/tune/function_runner.py\", line 580, in _trainable_func\n",
      "    output = fn()\n",
      "  File \"<ipython-input-11-26a293f4f9ec>\", line 8, in train_mnist\n",
      "  File \"/home/therealchainman/miniconda3/lib/python3.8/site-packages/torchvision/datasets/mnist.py\", line 90, in __init__\n",
      "    raise RuntimeError('Dataset not found.' +\n",
      "RuntimeError: Dataset not found. You can use download=True to download it\n",
      "2021-06-23 16:05:33,090\tERROR trial_runner.py:748 -- Trial train_mnist_bbf8f_00015: Error processing event.\n",
      "Traceback (most recent call last):\n",
      "  File \"/home/therealchainman/miniconda3/lib/python3.8/site-packages/ray/tune/trial_runner.py\", line 718, in _process_trial\n",
      "    results = self.trial_executor.fetch_result(trial)\n",
      "  File \"/home/therealchainman/miniconda3/lib/python3.8/site-packages/ray/tune/ray_trial_executor.py\", line 688, in fetch_result\n",
      "    result = ray.get(trial_future[0], timeout=DEFAULT_GET_TIMEOUT)\n",
      "  File \"/home/therealchainman/miniconda3/lib/python3.8/site-packages/ray/_private/client_mode_hook.py\", line 62, in wrapper\n",
      "    return func(*args, **kwargs)\n",
      "  File \"/home/therealchainman/miniconda3/lib/python3.8/site-packages/ray/worker.py\", line 1494, in get\n",
      "    raise value.as_instanceof_cause()\n",
      "ray.exceptions.RayTaskError(TuneError): \u001b[36mray::ImplicitFunc.train_buffered()\u001b[39m (pid=10279, ip=192.168.1.106)\n",
      "  File \"python/ray/_raylet.pyx\", line 501, in ray._raylet.execute_task\n",
      "  File \"python/ray/_raylet.pyx\", line 451, in ray._raylet.execute_task.function_executor\n",
      "  File \"/home/therealchainman/miniconda3/lib/python3.8/site-packages/ray/_private/function_manager.py\", line 563, in actor_method_executor\n",
      "    return method(__ray_actor, *args, **kwargs)\n",
      "  File \"/home/therealchainman/miniconda3/lib/python3.8/site-packages/ray/tune/trainable.py\", line 173, in train_buffered\n",
      "    result = self.train()\n",
      "  File \"/home/therealchainman/miniconda3/lib/python3.8/site-packages/ray/tune/trainable.py\", line 232, in train\n",
      "    result = self.step()\n",
      "  File \"/home/therealchainman/miniconda3/lib/python3.8/site-packages/ray/tune/function_runner.py\", line 366, in step\n",
      "    self._report_thread_runner_error(block=True)\n",
      "  File \"/home/therealchainman/miniconda3/lib/python3.8/site-packages/ray/tune/function_runner.py\", line 512, in _report_thread_runner_error\n",
      "    raise TuneError(\n",
      "ray.tune.error.TuneError: Trial raised an exception. Traceback:\n",
      "\u001b[36mray::ImplicitFunc.train_buffered()\u001b[39m (pid=10279, ip=192.168.1.106)\n",
      "  File \"/home/therealchainman/miniconda3/lib/python3.8/site-packages/ray/tune/function_runner.py\", line 248, in run\n",
      "    self._entrypoint()\n",
      "  File \"/home/therealchainman/miniconda3/lib/python3.8/site-packages/ray/tune/function_runner.py\", line 315, in entrypoint\n",
      "    return self._trainable_func(self.config, self._status_reporter,\n",
      "  File \"/home/therealchainman/miniconda3/lib/python3.8/site-packages/ray/tune/function_runner.py\", line 580, in _trainable_func\n",
      "    output = fn()\n",
      "  File \"<ipython-input-11-26a293f4f9ec>\", line 8, in train_mnist\n",
      "  File \"/home/therealchainman/miniconda3/lib/python3.8/site-packages/torchvision/datasets/mnist.py\", line 90, in __init__\n",
      "    raise RuntimeError('Dataset not found.' +\n",
      "RuntimeError: Dataset not found. You can use download=True to download it\n",
      "\u001b[2m\u001b[36m(pid=10293)\u001b[0m 2021-06-23 16:05:33,075\tERROR function_runner.py:254 -- Runner Thread raised error.\n",
      "\u001b[2m\u001b[36m(pid=10293)\u001b[0m Traceback (most recent call last):\n",
      "\u001b[2m\u001b[36m(pid=10293)\u001b[0m   File \"/home/therealchainman/miniconda3/lib/python3.8/site-packages/ray/tune/function_runner.py\", line 248, in run\n",
      "\u001b[2m\u001b[36m(pid=10293)\u001b[0m     self._entrypoint()\n",
      "\u001b[2m\u001b[36m(pid=10293)\u001b[0m   File \"/home/therealchainman/miniconda3/lib/python3.8/site-packages/ray/tune/function_runner.py\", line 315, in entrypoint\n",
      "\u001b[2m\u001b[36m(pid=10293)\u001b[0m     return self._trainable_func(self.config, self._status_reporter,\n",
      "\u001b[2m\u001b[36m(pid=10293)\u001b[0m   File \"/home/therealchainman/miniconda3/lib/python3.8/site-packages/ray/tune/function_runner.py\", line 580, in _trainable_func\n",
      "\u001b[2m\u001b[36m(pid=10293)\u001b[0m     output = fn()\n",
      "\u001b[2m\u001b[36m(pid=10293)\u001b[0m   File \"<ipython-input-11-26a293f4f9ec>\", line 8, in train_mnist\n",
      "\u001b[2m\u001b[36m(pid=10293)\u001b[0m   File \"/home/therealchainman/miniconda3/lib/python3.8/site-packages/torchvision/datasets/mnist.py\", line 90, in __init__\n",
      "\u001b[2m\u001b[36m(pid=10293)\u001b[0m     raise RuntimeError('Dataset not found.' +\n",
      "\u001b[2m\u001b[36m(pid=10293)\u001b[0m RuntimeError: Dataset not found. You can use download=True to download it\n",
      "\u001b[2m\u001b[36m(pid=10293)\u001b[0m Exception in thread Thread-2:\n",
      "\u001b[2m\u001b[36m(pid=10293)\u001b[0m Traceback (most recent call last):\n",
      "\u001b[2m\u001b[36m(pid=10293)\u001b[0m   File \"/home/therealchainman/miniconda3/lib/python3.8/threading.py\", line 932, in _bootstrap_inner\n",
      "\u001b[2m\u001b[36m(pid=10293)\u001b[0m     self.run()\n",
      "\u001b[2m\u001b[36m(pid=10293)\u001b[0m   File \"/home/therealchainman/miniconda3/lib/python3.8/site-packages/ray/tune/function_runner.py\", line 267, in run\n",
      "\u001b[2m\u001b[36m(pid=10293)\u001b[0m     raise e\n",
      "\u001b[2m\u001b[36m(pid=10293)\u001b[0m   File \"/home/therealchainman/miniconda3/lib/python3.8/site-packages/ray/tune/function_runner.py\", line 248, in run\n",
      "\u001b[2m\u001b[36m(pid=10293)\u001b[0m     self._entrypoint()\n",
      "\u001b[2m\u001b[36m(pid=10293)\u001b[0m   File \"/home/therealchainman/miniconda3/lib/python3.8/site-packages/ray/tune/function_runner.py\", line 315, in entrypoint\n",
      "\u001b[2m\u001b[36m(pid=10293)\u001b[0m     return self._trainable_func(self.config, self._status_reporter,\n",
      "\u001b[2m\u001b[36m(pid=10293)\u001b[0m   File \"/home/therealchainman/miniconda3/lib/python3.8/site-packages/ray/tune/function_runner.py\", line 580, in _trainable_func\n",
      "\u001b[2m\u001b[36m(pid=10293)\u001b[0m     output = fn()\n",
      "\u001b[2m\u001b[36m(pid=10293)\u001b[0m   File \"<ipython-input-11-26a293f4f9ec>\", line 8, in train_mnist\n",
      "\u001b[2m\u001b[36m(pid=10293)\u001b[0m   File \"/home/therealchainman/miniconda3/lib/python3.8/site-packages/torchvision/datasets/mnist.py\", line 90, in __init__\n",
      "\u001b[2m\u001b[36m(pid=10293)\u001b[0m     raise RuntimeError('Dataset not found.' +\n",
      "\u001b[2m\u001b[36m(pid=10293)\u001b[0m RuntimeError: Dataset not found. You can use download=True to download it\n",
      "\u001b[2m\u001b[36m(pid=10284)\u001b[0m 2021-06-23 16:05:33,075\tERROR function_runner.py:254 -- Runner Thread raised error.\n",
      "\u001b[2m\u001b[36m(pid=10284)\u001b[0m Traceback (most recent call last):\n",
      "\u001b[2m\u001b[36m(pid=10284)\u001b[0m   File \"/home/therealchainman/miniconda3/lib/python3.8/site-packages/ray/tune/function_runner.py\", line 248, in run\n",
      "\u001b[2m\u001b[36m(pid=10284)\u001b[0m     self._entrypoint()\n",
      "\u001b[2m\u001b[36m(pid=10284)\u001b[0m   File \"/home/therealchainman/miniconda3/lib/python3.8/site-packages/ray/tune/function_runner.py\", line 315, in entrypoint\n",
      "\u001b[2m\u001b[36m(pid=10284)\u001b[0m     return self._trainable_func(self.config, self._status_reporter,\n",
      "\u001b[2m\u001b[36m(pid=10284)\u001b[0m   File \"/home/therealchainman/miniconda3/lib/python3.8/site-packages/ray/tune/function_runner.py\", line 580, in _trainable_func\n",
      "\u001b[2m\u001b[36m(pid=10284)\u001b[0m     output = fn()\n",
      "\u001b[2m\u001b[36m(pid=10284)\u001b[0m   File \"<ipython-input-11-26a293f4f9ec>\", line 8, in train_mnist\n",
      "\u001b[2m\u001b[36m(pid=10284)\u001b[0m   File \"/home/therealchainman/miniconda3/lib/python3.8/site-packages/torchvision/datasets/mnist.py\", line 90, in __init__\n",
      "\u001b[2m\u001b[36m(pid=10284)\u001b[0m     raise RuntimeError('Dataset not found.' +\n",
      "\u001b[2m\u001b[36m(pid=10284)\u001b[0m RuntimeError: Dataset not found. You can use download=True to download it\n",
      "\u001b[2m\u001b[36m(pid=10284)\u001b[0m Exception in thread Thread-2:\n",
      "\u001b[2m\u001b[36m(pid=10284)\u001b[0m Traceback (most recent call last):\n",
      "\u001b[2m\u001b[36m(pid=10284)\u001b[0m   File \"/home/therealchainman/miniconda3/lib/python3.8/threading.py\", line 932, in _bootstrap_inner\n",
      "\u001b[2m\u001b[36m(pid=10284)\u001b[0m     self.run()\n",
      "\u001b[2m\u001b[36m(pid=10284)\u001b[0m   File \"/home/therealchainman/miniconda3/lib/python3.8/site-packages/ray/tune/function_runner.py\", line 267, in run\n",
      "\u001b[2m\u001b[36m(pid=10284)\u001b[0m     raise e\n",
      "\u001b[2m\u001b[36m(pid=10284)\u001b[0m   File \"/home/therealchainman/miniconda3/lib/python3.8/site-packages/ray/tune/function_runner.py\", line 248, in run\n",
      "\u001b[2m\u001b[36m(pid=10284)\u001b[0m     self._entrypoint()\n",
      "\u001b[2m\u001b[36m(pid=10284)\u001b[0m   File \"/home/therealchainman/miniconda3/lib/python3.8/site-packages/ray/tune/function_runner.py\", line 315, in entrypoint\n",
      "\u001b[2m\u001b[36m(pid=10284)\u001b[0m     return self._trainable_func(self.config, self._status_reporter,\n",
      "\u001b[2m\u001b[36m(pid=10284)\u001b[0m   File \"/home/therealchainman/miniconda3/lib/python3.8/site-packages/ray/tune/function_runner.py\", line 580, in _trainable_func\n",
      "\u001b[2m\u001b[36m(pid=10284)\u001b[0m     output = fn()\n",
      "\u001b[2m\u001b[36m(pid=10284)\u001b[0m   File \"<ipython-input-11-26a293f4f9ec>\", line 8, in train_mnist\n",
      "\u001b[2m\u001b[36m(pid=10284)\u001b[0m   File \"/home/therealchainman/miniconda3/lib/python3.8/site-packages/torchvision/datasets/mnist.py\", line 90, in __init__\n",
      "\u001b[2m\u001b[36m(pid=10284)\u001b[0m     raise RuntimeError('Dataset not found.' +\n",
      "\u001b[2m\u001b[36m(pid=10284)\u001b[0m RuntimeError: Dataset not found. You can use download=True to download it\n",
      "2021-06-23 16:05:33,107\tERROR trial_runner.py:748 -- Trial train_mnist_bbf8f_00010: Error processing event.\n",
      "Traceback (most recent call last):\n",
      "  File \"/home/therealchainman/miniconda3/lib/python3.8/site-packages/ray/tune/trial_runner.py\", line 718, in _process_trial\n",
      "    results = self.trial_executor.fetch_result(trial)\n",
      "  File \"/home/therealchainman/miniconda3/lib/python3.8/site-packages/ray/tune/ray_trial_executor.py\", line 688, in fetch_result\n",
      "    result = ray.get(trial_future[0], timeout=DEFAULT_GET_TIMEOUT)\n",
      "  File \"/home/therealchainman/miniconda3/lib/python3.8/site-packages/ray/_private/client_mode_hook.py\", line 62, in wrapper\n",
      "    return func(*args, **kwargs)\n",
      "  File \"/home/therealchainman/miniconda3/lib/python3.8/site-packages/ray/worker.py\", line 1494, in get\n",
      "    raise value.as_instanceof_cause()\n",
      "ray.exceptions.RayTaskError(TuneError): \u001b[36mray::ImplicitFunc.train_buffered()\u001b[39m (pid=10293, ip=192.168.1.106)\n",
      "  File \"python/ray/_raylet.pyx\", line 501, in ray._raylet.execute_task\n",
      "  File \"python/ray/_raylet.pyx\", line 451, in ray._raylet.execute_task.function_executor\n",
      "  File \"/home/therealchainman/miniconda3/lib/python3.8/site-packages/ray/_private/function_manager.py\", line 563, in actor_method_executor\n",
      "    return method(__ray_actor, *args, **kwargs)\n",
      "  File \"/home/therealchainman/miniconda3/lib/python3.8/site-packages/ray/tune/trainable.py\", line 173, in train_buffered\n",
      "    result = self.train()\n",
      "  File \"/home/therealchainman/miniconda3/lib/python3.8/site-packages/ray/tune/trainable.py\", line 232, in train\n",
      "    result = self.step()\n",
      "  File \"/home/therealchainman/miniconda3/lib/python3.8/site-packages/ray/tune/function_runner.py\", line 366, in step\n",
      "    self._report_thread_runner_error(block=True)\n",
      "  File \"/home/therealchainman/miniconda3/lib/python3.8/site-packages/ray/tune/function_runner.py\", line 512, in _report_thread_runner_error\n",
      "    raise TuneError(\n",
      "ray.tune.error.TuneError: Trial raised an exception. Traceback:\n",
      "\u001b[36mray::ImplicitFunc.train_buffered()\u001b[39m (pid=10293, ip=192.168.1.106)\n",
      "  File \"/home/therealchainman/miniconda3/lib/python3.8/site-packages/ray/tune/function_runner.py\", line 248, in run\n",
      "    self._entrypoint()\n",
      "  File \"/home/therealchainman/miniconda3/lib/python3.8/site-packages/ray/tune/function_runner.py\", line 315, in entrypoint\n",
      "    return self._trainable_func(self.config, self._status_reporter,\n",
      "  File \"/home/therealchainman/miniconda3/lib/python3.8/site-packages/ray/tune/function_runner.py\", line 580, in _trainable_func\n",
      "    output = fn()\n",
      "  File \"<ipython-input-11-26a293f4f9ec>\", line 8, in train_mnist\n",
      "  File \"/home/therealchainman/miniconda3/lib/python3.8/site-packages/torchvision/datasets/mnist.py\", line 90, in __init__\n",
      "    raise RuntimeError('Dataset not found.' +\n",
      "RuntimeError: Dataset not found. You can use download=True to download it\n",
      "2021-06-23 16:05:33,178\tERROR trial_runner.py:748 -- Trial train_mnist_bbf8f_00011: Error processing event.\n",
      "Traceback (most recent call last):\n",
      "  File \"/home/therealchainman/miniconda3/lib/python3.8/site-packages/ray/tune/trial_runner.py\", line 718, in _process_trial\n",
      "    results = self.trial_executor.fetch_result(trial)\n",
      "  File \"/home/therealchainman/miniconda3/lib/python3.8/site-packages/ray/tune/ray_trial_executor.py\", line 688, in fetch_result\n",
      "    result = ray.get(trial_future[0], timeout=DEFAULT_GET_TIMEOUT)\n",
      "  File \"/home/therealchainman/miniconda3/lib/python3.8/site-packages/ray/_private/client_mode_hook.py\", line 62, in wrapper\n",
      "    return func(*args, **kwargs)\n",
      "  File \"/home/therealchainman/miniconda3/lib/python3.8/site-packages/ray/worker.py\", line 1494, in get\n",
      "    raise value.as_instanceof_cause()\n",
      "ray.exceptions.RayTaskError(TuneError): \u001b[36mray::ImplicitFunc.train_buffered()\u001b[39m (pid=10289, ip=192.168.1.106)\n",
      "  File \"python/ray/_raylet.pyx\", line 501, in ray._raylet.execute_task\n",
      "  File \"python/ray/_raylet.pyx\", line 451, in ray._raylet.execute_task.function_executor\n",
      "  File \"/home/therealchainman/miniconda3/lib/python3.8/site-packages/ray/_private/function_manager.py\", line 563, in actor_method_executor\n",
      "    return method(__ray_actor, *args, **kwargs)\n",
      "  File \"/home/therealchainman/miniconda3/lib/python3.8/site-packages/ray/tune/trainable.py\", line 173, in train_buffered\n",
      "    result = self.train()\n",
      "  File \"/home/therealchainman/miniconda3/lib/python3.8/site-packages/ray/tune/trainable.py\", line 232, in train\n",
      "    result = self.step()\n",
      "  File \"/home/therealchainman/miniconda3/lib/python3.8/site-packages/ray/tune/function_runner.py\", line 366, in step\n",
      "    self._report_thread_runner_error(block=True)\n",
      "  File \"/home/therealchainman/miniconda3/lib/python3.8/site-packages/ray/tune/function_runner.py\", line 512, in _report_thread_runner_error\n",
      "    raise TuneError(\n",
      "ray.tune.error.TuneError: Trial raised an exception. Traceback:\n",
      "\u001b[36mray::ImplicitFunc.train_buffered()\u001b[39m (pid=10289, ip=192.168.1.106)\n",
      "  File \"/home/therealchainman/miniconda3/lib/python3.8/site-packages/ray/tune/function_runner.py\", line 248, in run\n",
      "    self._entrypoint()\n",
      "  File \"/home/therealchainman/miniconda3/lib/python3.8/site-packages/ray/tune/function_runner.py\", line 315, in entrypoint\n",
      "    return self._trainable_func(self.config, self._status_reporter,\n",
      "  File \"/home/therealchainman/miniconda3/lib/python3.8/site-packages/ray/tune/function_runner.py\", line 580, in _trainable_func\n",
      "    output = fn()\n",
      "  File \"<ipython-input-11-26a293f4f9ec>\", line 8, in train_mnist\n",
      "  File \"/home/therealchainman/miniconda3/lib/python3.8/site-packages/torchvision/datasets/mnist.py\", line 90, in __init__\n",
      "    raise RuntimeError('Dataset not found.' +\n",
      "RuntimeError: Dataset not found. You can use download=True to download it\n",
      "2021-06-23 16:05:33,214\tERROR trial_runner.py:748 -- Trial train_mnist_bbf8f_00013: Error processing event.\n",
      "Traceback (most recent call last):\n",
      "  File \"/home/therealchainman/miniconda3/lib/python3.8/site-packages/ray/tune/trial_runner.py\", line 718, in _process_trial\n",
      "    results = self.trial_executor.fetch_result(trial)\n",
      "  File \"/home/therealchainman/miniconda3/lib/python3.8/site-packages/ray/tune/ray_trial_executor.py\", line 688, in fetch_result\n",
      "    result = ray.get(trial_future[0], timeout=DEFAULT_GET_TIMEOUT)\n",
      "  File \"/home/therealchainman/miniconda3/lib/python3.8/site-packages/ray/_private/client_mode_hook.py\", line 62, in wrapper\n",
      "    return func(*args, **kwargs)\n",
      "  File \"/home/therealchainman/miniconda3/lib/python3.8/site-packages/ray/worker.py\", line 1494, in get\n",
      "    raise value.as_instanceof_cause()\n",
      "ray.exceptions.RayTaskError(TuneError): \u001b[36mray::ImplicitFunc.train_buffered()\u001b[39m (pid=10291, ip=192.168.1.106)\n",
      "  File \"python/ray/_raylet.pyx\", line 501, in ray._raylet.execute_task\n",
      "  File \"python/ray/_raylet.pyx\", line 451, in ray._raylet.execute_task.function_executor\n",
      "  File \"/home/therealchainman/miniconda3/lib/python3.8/site-packages/ray/_private/function_manager.py\", line 563, in actor_method_executor\n",
      "    return method(__ray_actor, *args, **kwargs)\n",
      "  File \"/home/therealchainman/miniconda3/lib/python3.8/site-packages/ray/tune/trainable.py\", line 173, in train_buffered\n",
      "    result = self.train()\n",
      "  File \"/home/therealchainman/miniconda3/lib/python3.8/site-packages/ray/tune/trainable.py\", line 232, in train\n",
      "    result = self.step()\n",
      "  File \"/home/therealchainman/miniconda3/lib/python3.8/site-packages/ray/tune/function_runner.py\", line 366, in step\n",
      "    self._report_thread_runner_error(block=True)\n",
      "  File \"/home/therealchainman/miniconda3/lib/python3.8/site-packages/ray/tune/function_runner.py\", line 512, in _report_thread_runner_error\n",
      "    raise TuneError(\n",
      "ray.tune.error.TuneError: Trial raised an exception. Traceback:\n",
      "\u001b[36mray::ImplicitFunc.train_buffered()\u001b[39m (pid=10291, ip=192.168.1.106)\n",
      "  File \"/home/therealchainman/miniconda3/lib/python3.8/site-packages/ray/tune/function_runner.py\", line 248, in run\n",
      "    self._entrypoint()\n",
      "  File \"/home/therealchainman/miniconda3/lib/python3.8/site-packages/ray/tune/function_runner.py\", line 315, in entrypoint\n",
      "    return self._trainable_func(self.config, self._status_reporter,\n",
      "  File \"/home/therealchainman/miniconda3/lib/python3.8/site-packages/ray/tune/function_runner.py\", line 580, in _trainable_func\n",
      "    output = fn()\n",
      "  File \"<ipython-input-11-26a293f4f9ec>\", line 8, in train_mnist\n",
      "  File \"/home/therealchainman/miniconda3/lib/python3.8/site-packages/torchvision/datasets/mnist.py\", line 90, in __init__\n",
      "    raise RuntimeError('Dataset not found.' +\n",
      "RuntimeError: Dataset not found. You can use download=True to download it\n",
      "2021-06-23 16:05:33,225\tERROR trial_runner.py:748 -- Trial train_mnist_bbf8f_00014: Error processing event.\n",
      "Traceback (most recent call last):\n",
      "  File \"/home/therealchainman/miniconda3/lib/python3.8/site-packages/ray/tune/trial_runner.py\", line 718, in _process_trial\n",
      "    results = self.trial_executor.fetch_result(trial)\n",
      "  File \"/home/therealchainman/miniconda3/lib/python3.8/site-packages/ray/tune/ray_trial_executor.py\", line 688, in fetch_result\n",
      "    result = ray.get(trial_future[0], timeout=DEFAULT_GET_TIMEOUT)\n",
      "  File \"/home/therealchainman/miniconda3/lib/python3.8/site-packages/ray/_private/client_mode_hook.py\", line 62, in wrapper\n",
      "    return func(*args, **kwargs)\n",
      "  File \"/home/therealchainman/miniconda3/lib/python3.8/site-packages/ray/worker.py\", line 1494, in get\n",
      "    raise value.as_instanceof_cause()\n",
      "ray.exceptions.RayTaskError(TuneError): \u001b[36mray::ImplicitFunc.train_buffered()\u001b[39m (pid=10286, ip=192.168.1.106)\n",
      "  File \"python/ray/_raylet.pyx\", line 501, in ray._raylet.execute_task\n",
      "  File \"python/ray/_raylet.pyx\", line 451, in ray._raylet.execute_task.function_executor\n",
      "  File \"/home/therealchainman/miniconda3/lib/python3.8/site-packages/ray/_private/function_manager.py\", line 563, in actor_method_executor\n",
      "    return method(__ray_actor, *args, **kwargs)\n",
      "  File \"/home/therealchainman/miniconda3/lib/python3.8/site-packages/ray/tune/trainable.py\", line 173, in train_buffered\n",
      "    result = self.train()\n",
      "  File \"/home/therealchainman/miniconda3/lib/python3.8/site-packages/ray/tune/trainable.py\", line 232, in train\n",
      "    result = self.step()\n",
      "  File \"/home/therealchainman/miniconda3/lib/python3.8/site-packages/ray/tune/function_runner.py\", line 366, in step\n",
      "    self._report_thread_runner_error(block=True)\n",
      "  File \"/home/therealchainman/miniconda3/lib/python3.8/site-packages/ray/tune/function_runner.py\", line 512, in _report_thread_runner_error\n",
      "    raise TuneError(\n",
      "ray.tune.error.TuneError: Trial raised an exception. Traceback:\n",
      "\u001b[36mray::ImplicitFunc.train_buffered()\u001b[39m (pid=10286, ip=192.168.1.106)\n",
      "  File \"/home/therealchainman/miniconda3/lib/python3.8/site-packages/ray/tune/function_runner.py\", line 248, in run\n",
      "    self._entrypoint()\n",
      "  File \"/home/therealchainman/miniconda3/lib/python3.8/site-packages/ray/tune/function_runner.py\", line 315, in entrypoint\n",
      "    return self._trainable_func(self.config, self._status_reporter,\n",
      "  File \"/home/therealchainman/miniconda3/lib/python3.8/site-packages/ray/tune/function_runner.py\", line 580, in _trainable_func\n",
      "    output = fn()\n",
      "  File \"<ipython-input-11-26a293f4f9ec>\", line 8, in train_mnist\n",
      "  File \"/home/therealchainman/miniconda3/lib/python3.8/site-packages/torchvision/datasets/mnist.py\", line 90, in __init__\n",
      "    raise RuntimeError('Dataset not found.' +\n",
      "RuntimeError: Dataset not found. You can use download=True to download it\n"
     ]
    },
    {
     "name": "stdout",
     "output_type": "stream",
     "text": [
      "Result for train_mnist_bbf8f_00012:\n",
      "  {}\n",
      "  \n",
      "Result for train_mnist_bbf8f_00015:\n",
      "  {}\n",
      "  \n",
      "Result for train_mnist_bbf8f_00010:\n",
      "  {}\n",
      "  \n",
      "Result for train_mnist_bbf8f_00011:\n",
      "  {}\n",
      "  \n",
      "Result for train_mnist_bbf8f_00013:\n",
      "  {}\n",
      "  \n",
      "Result for train_mnist_bbf8f_00014:\n",
      "  {}\n",
      "  \n"
     ]
    },
    {
     "name": "stderr",
     "output_type": "stream",
     "text": [
      "2021-06-23 16:05:33,285\tERROR trial_runner.py:748 -- Trial train_mnist_bbf8f_00009: Error processing event.\n",
      "Traceback (most recent call last):\n",
      "  File \"/home/therealchainman/miniconda3/lib/python3.8/site-packages/ray/tune/trial_runner.py\", line 718, in _process_trial\n",
      "    results = self.trial_executor.fetch_result(trial)\n",
      "  File \"/home/therealchainman/miniconda3/lib/python3.8/site-packages/ray/tune/ray_trial_executor.py\", line 688, in fetch_result\n",
      "    result = ray.get(trial_future[0], timeout=DEFAULT_GET_TIMEOUT)\n",
      "  File \"/home/therealchainman/miniconda3/lib/python3.8/site-packages/ray/_private/client_mode_hook.py\", line 62, in wrapper\n",
      "    return func(*args, **kwargs)\n",
      "  File \"/home/therealchainman/miniconda3/lib/python3.8/site-packages/ray/worker.py\", line 1494, in get\n",
      "    raise value.as_instanceof_cause()\n",
      "ray.exceptions.RayTaskError(TuneError): \u001b[36mray::ImplicitFunc.train_buffered()\u001b[39m (pid=10284, ip=192.168.1.106)\n",
      "  File \"python/ray/_raylet.pyx\", line 501, in ray._raylet.execute_task\n",
      "  File \"python/ray/_raylet.pyx\", line 451, in ray._raylet.execute_task.function_executor\n",
      "  File \"/home/therealchainman/miniconda3/lib/python3.8/site-packages/ray/_private/function_manager.py\", line 563, in actor_method_executor\n",
      "    return method(__ray_actor, *args, **kwargs)\n",
      "  File \"/home/therealchainman/miniconda3/lib/python3.8/site-packages/ray/tune/trainable.py\", line 173, in train_buffered\n",
      "    result = self.train()\n",
      "  File \"/home/therealchainman/miniconda3/lib/python3.8/site-packages/ray/tune/trainable.py\", line 232, in train\n",
      "    result = self.step()\n",
      "  File \"/home/therealchainman/miniconda3/lib/python3.8/site-packages/ray/tune/function_runner.py\", line 366, in step\n",
      "    self._report_thread_runner_error(block=True)\n",
      "  File \"/home/therealchainman/miniconda3/lib/python3.8/site-packages/ray/tune/function_runner.py\", line 512, in _report_thread_runner_error\n",
      "    raise TuneError(\n",
      "ray.tune.error.TuneError: Trial raised an exception. Traceback:\n",
      "\u001b[36mray::ImplicitFunc.train_buffered()\u001b[39m (pid=10284, ip=192.168.1.106)\n",
      "  File \"/home/therealchainman/miniconda3/lib/python3.8/site-packages/ray/tune/function_runner.py\", line 248, in run\n",
      "    self._entrypoint()\n",
      "  File \"/home/therealchainman/miniconda3/lib/python3.8/site-packages/ray/tune/function_runner.py\", line 315, in entrypoint\n",
      "    return self._trainable_func(self.config, self._status_reporter,\n",
      "  File \"/home/therealchainman/miniconda3/lib/python3.8/site-packages/ray/tune/function_runner.py\", line 580, in _trainable_func\n",
      "    output = fn()\n",
      "  File \"<ipython-input-11-26a293f4f9ec>\", line 8, in train_mnist\n",
      "  File \"/home/therealchainman/miniconda3/lib/python3.8/site-packages/torchvision/datasets/mnist.py\", line 90, in __init__\n",
      "    raise RuntimeError('Dataset not found.' +\n",
      "RuntimeError: Dataset not found. You can use download=True to download it\n"
     ]
    },
    {
     "name": "stdout",
     "output_type": "stream",
     "text": [
      "Result for train_mnist_bbf8f_00009:\n",
      "  {}\n",
      "  \n"
     ]
    },
    {
     "name": "stderr",
     "output_type": "stream",
     "text": [
      "\u001b[2m\u001b[36m(pid=10294)\u001b[0m 2021-06-23 16:05:33,715\tERROR function_runner.py:254 -- Runner Thread raised error.\n",
      "\u001b[2m\u001b[36m(pid=10294)\u001b[0m Traceback (most recent call last):\n",
      "\u001b[2m\u001b[36m(pid=10294)\u001b[0m   File \"/home/therealchainman/miniconda3/lib/python3.8/site-packages/ray/tune/function_runner.py\", line 248, in run\n",
      "\u001b[2m\u001b[36m(pid=10294)\u001b[0m     self._entrypoint()\n",
      "\u001b[2m\u001b[36m(pid=10294)\u001b[0m   File \"/home/therealchainman/miniconda3/lib/python3.8/site-packages/ray/tune/function_runner.py\", line 315, in entrypoint\n",
      "\u001b[2m\u001b[36m(pid=10294)\u001b[0m     return self._trainable_func(self.config, self._status_reporter,\n",
      "\u001b[2m\u001b[36m(pid=10294)\u001b[0m   File \"/home/therealchainman/miniconda3/lib/python3.8/site-packages/ray/tune/function_runner.py\", line 580, in _trainable_func\n",
      "\u001b[2m\u001b[36m(pid=10294)\u001b[0m     output = fn()\n",
      "\u001b[2m\u001b[36m(pid=10294)\u001b[0m   File \"<ipython-input-11-26a293f4f9ec>\", line 8, in train_mnist\n",
      "\u001b[2m\u001b[36m(pid=10294)\u001b[0m   File \"/home/therealchainman/miniconda3/lib/python3.8/site-packages/torchvision/datasets/mnist.py\", line 90, in __init__\n",
      "\u001b[2m\u001b[36m(pid=10294)\u001b[0m     raise RuntimeError('Dataset not found.' +\n",
      "\u001b[2m\u001b[36m(pid=10294)\u001b[0m RuntimeError: Dataset not found. You can use download=True to download it\n",
      "\u001b[2m\u001b[36m(pid=10294)\u001b[0m Exception in thread Thread-2:\n",
      "\u001b[2m\u001b[36m(pid=10294)\u001b[0m Traceback (most recent call last):\n",
      "\u001b[2m\u001b[36m(pid=10294)\u001b[0m   File \"/home/therealchainman/miniconda3/lib/python3.8/threading.py\", line 932, in _bootstrap_inner\n",
      "\u001b[2m\u001b[36m(pid=10294)\u001b[0m     self.run()\n",
      "\u001b[2m\u001b[36m(pid=10294)\u001b[0m   File \"/home/therealchainman/miniconda3/lib/python3.8/site-packages/ray/tune/function_runner.py\", line 267, in run\n",
      "\u001b[2m\u001b[36m(pid=10294)\u001b[0m     raise e\n",
      "\u001b[2m\u001b[36m(pid=10294)\u001b[0m   File \"/home/therealchainman/miniconda3/lib/python3.8/site-packages/ray/tune/function_runner.py\", line 248, in run\n",
      "\u001b[2m\u001b[36m(pid=10294)\u001b[0m     self._entrypoint()\n",
      "\u001b[2m\u001b[36m(pid=10294)\u001b[0m   File \"/home/therealchainman/miniconda3/lib/python3.8/site-packages/ray/tune/function_runner.py\", line 315, in entrypoint\n",
      "\u001b[2m\u001b[36m(pid=10294)\u001b[0m     return self._trainable_func(self.config, self._status_reporter,\n",
      "\u001b[2m\u001b[36m(pid=10294)\u001b[0m   File \"/home/therealchainman/miniconda3/lib/python3.8/site-packages/ray/tune/function_runner.py\", line 580, in _trainable_func\n",
      "\u001b[2m\u001b[36m(pid=10294)\u001b[0m     output = fn()\n",
      "\u001b[2m\u001b[36m(pid=10294)\u001b[0m   File \"<ipython-input-11-26a293f4f9ec>\", line 8, in train_mnist\n",
      "\u001b[2m\u001b[36m(pid=10294)\u001b[0m   File \"/home/therealchainman/miniconda3/lib/python3.8/site-packages/torchvision/datasets/mnist.py\", line 90, in __init__\n",
      "\u001b[2m\u001b[36m(pid=10294)\u001b[0m     raise RuntimeError('Dataset not found.' +\n",
      "\u001b[2m\u001b[36m(pid=10294)\u001b[0m RuntimeError: Dataset not found. You can use download=True to download it\n",
      "\u001b[2m\u001b[33m(raylet)\u001b[0m /home/therealchainman/miniconda3/lib/python3.8/site-packages/ray/autoscaler/_private/cli_logger.py:57: FutureWarning: Not all Ray CLI dependencies were found. In Ray 1.4+, the Ray CLI, autoscaler, and dashboard will only be usable via `pip install 'ray[default]'`. Please update your install command.\n",
      "\u001b[2m\u001b[33m(raylet)\u001b[0m   warnings.warn(\n",
      "2021-06-23 16:05:33,917\tERROR trial_runner.py:748 -- Trial train_mnist_bbf8f_00008: Error processing event.\n",
      "Traceback (most recent call last):\n",
      "  File \"/home/therealchainman/miniconda3/lib/python3.8/site-packages/ray/tune/trial_runner.py\", line 718, in _process_trial\n",
      "    results = self.trial_executor.fetch_result(trial)\n",
      "  File \"/home/therealchainman/miniconda3/lib/python3.8/site-packages/ray/tune/ray_trial_executor.py\", line 688, in fetch_result\n",
      "    result = ray.get(trial_future[0], timeout=DEFAULT_GET_TIMEOUT)\n",
      "  File \"/home/therealchainman/miniconda3/lib/python3.8/site-packages/ray/_private/client_mode_hook.py\", line 62, in wrapper\n",
      "    return func(*args, **kwargs)\n",
      "  File \"/home/therealchainman/miniconda3/lib/python3.8/site-packages/ray/worker.py\", line 1494, in get\n",
      "    raise value.as_instanceof_cause()\n",
      "ray.exceptions.RayTaskError(TuneError): \u001b[36mray::ImplicitFunc.train_buffered()\u001b[39m (pid=10294, ip=192.168.1.106)\n",
      "  File \"python/ray/_raylet.pyx\", line 501, in ray._raylet.execute_task\n",
      "  File \"python/ray/_raylet.pyx\", line 451, in ray._raylet.execute_task.function_executor\n",
      "  File \"/home/therealchainman/miniconda3/lib/python3.8/site-packages/ray/_private/function_manager.py\", line 563, in actor_method_executor\n",
      "    return method(__ray_actor, *args, **kwargs)\n",
      "  File \"/home/therealchainman/miniconda3/lib/python3.8/site-packages/ray/tune/trainable.py\", line 173, in train_buffered\n",
      "    result = self.train()\n",
      "  File \"/home/therealchainman/miniconda3/lib/python3.8/site-packages/ray/tune/trainable.py\", line 232, in train\n",
      "    result = self.step()\n",
      "  File \"/home/therealchainman/miniconda3/lib/python3.8/site-packages/ray/tune/function_runner.py\", line 366, in step\n",
      "    self._report_thread_runner_error(block=True)\n",
      "  File \"/home/therealchainman/miniconda3/lib/python3.8/site-packages/ray/tune/function_runner.py\", line 512, in _report_thread_runner_error\n",
      "    raise TuneError(\n",
      "ray.tune.error.TuneError: Trial raised an exception. Traceback:\n",
      "\u001b[36mray::ImplicitFunc.train_buffered()\u001b[39m (pid=10294, ip=192.168.1.106)\n",
      "  File \"/home/therealchainman/miniconda3/lib/python3.8/site-packages/ray/tune/function_runner.py\", line 248, in run\n",
      "    self._entrypoint()\n",
      "  File \"/home/therealchainman/miniconda3/lib/python3.8/site-packages/ray/tune/function_runner.py\", line 315, in entrypoint\n",
      "    return self._trainable_func(self.config, self._status_reporter,\n",
      "  File \"/home/therealchainman/miniconda3/lib/python3.8/site-packages/ray/tune/function_runner.py\", line 580, in _trainable_func\n",
      "    output = fn()\n",
      "  File \"<ipython-input-11-26a293f4f9ec>\", line 8, in train_mnist\n",
      "  File \"/home/therealchainman/miniconda3/lib/python3.8/site-packages/torchvision/datasets/mnist.py\", line 90, in __init__\n",
      "    raise RuntimeError('Dataset not found.' +\n",
      "RuntimeError: Dataset not found. You can use download=True to download it\n"
     ]
    },
    {
     "name": "stdout",
     "output_type": "stream",
     "text": [
      "Result for train_mnist_bbf8f_00008:\n",
      "  {}\n",
      "  \n"
     ]
    },
    {
     "name": "stderr",
     "output_type": "stream",
     "text": [
      "\u001b[2m\u001b[33m(raylet)\u001b[0m /home/therealchainman/miniconda3/lib/python3.8/site-packages/ray/autoscaler/_private/cli_logger.py:57: FutureWarning: Not all Ray CLI dependencies were found. In Ray 1.4+, the Ray CLI, autoscaler, and dashboard will only be usable via `pip install 'ray[default]'`. Please update your install command.\n",
      "\u001b[2m\u001b[33m(raylet)\u001b[0m   warnings.warn(\n",
      "\u001b[2m\u001b[33m(raylet)\u001b[0m /home/therealchainman/miniconda3/lib/python3.8/site-packages/ray/autoscaler/_private/cli_logger.py:57: FutureWarning: Not all Ray CLI dependencies were found. In Ray 1.4+, the Ray CLI, autoscaler, and dashboard will only be usable via `pip install 'ray[default]'`. Please update your install command.\n",
      "\u001b[2m\u001b[33m(raylet)\u001b[0m   warnings.warn(\n",
      "\u001b[2m\u001b[33m(raylet)\u001b[0m /home/therealchainman/miniconda3/lib/python3.8/site-packages/ray/autoscaler/_private/cli_logger.py:57: FutureWarning: Not all Ray CLI dependencies were found. In Ray 1.4+, the Ray CLI, autoscaler, and dashboard will only be usable via `pip install 'ray[default]'`. Please update your install command.\n",
      "\u001b[2m\u001b[33m(raylet)\u001b[0m   warnings.warn(\n",
      "\u001b[2m\u001b[33m(raylet)\u001b[0m /home/therealchainman/miniconda3/lib/python3.8/site-packages/ray/autoscaler/_private/cli_logger.py:57: FutureWarning: Not all Ray CLI dependencies were found. In Ray 1.4+, the Ray CLI, autoscaler, and dashboard will only be usable via `pip install 'ray[default]'`. Please update your install command.\n",
      "\u001b[2m\u001b[33m(raylet)\u001b[0m   warnings.warn(\n",
      "\u001b[2m\u001b[33m(raylet)\u001b[0m /home/therealchainman/miniconda3/lib/python3.8/site-packages/ray/autoscaler/_private/cli_logger.py:57: FutureWarning: Not all Ray CLI dependencies were found. In Ray 1.4+, the Ray CLI, autoscaler, and dashboard will only be usable via `pip install 'ray[default]'`. Please update your install command.\n",
      "\u001b[2m\u001b[33m(raylet)\u001b[0m   warnings.warn(\n",
      "\u001b[2m\u001b[36m(pid=10457)\u001b[0m 2021-06-23 16:05:34,485\tERROR function_runner.py:254 -- Runner Thread raised error.\n",
      "\u001b[2m\u001b[36m(pid=10457)\u001b[0m Traceback (most recent call last):\n",
      "\u001b[2m\u001b[36m(pid=10457)\u001b[0m   File \"/home/therealchainman/miniconda3/lib/python3.8/site-packages/ray/tune/function_runner.py\", line 248, in run\n",
      "\u001b[2m\u001b[36m(pid=10457)\u001b[0m     self._entrypoint()\n",
      "\u001b[2m\u001b[36m(pid=10457)\u001b[0m   File \"/home/therealchainman/miniconda3/lib/python3.8/site-packages/ray/tune/function_runner.py\", line 315, in entrypoint\n",
      "\u001b[2m\u001b[36m(pid=10457)\u001b[0m     return self._trainable_func(self.config, self._status_reporter,\n",
      "\u001b[2m\u001b[36m(pid=10457)\u001b[0m   File \"/home/therealchainman/miniconda3/lib/python3.8/site-packages/ray/tune/function_runner.py\", line 580, in _trainable_func\n",
      "\u001b[2m\u001b[36m(pid=10457)\u001b[0m     output = fn()\n",
      "\u001b[2m\u001b[36m(pid=10457)\u001b[0m   File \"<ipython-input-11-26a293f4f9ec>\", line 8, in train_mnist\n",
      "\u001b[2m\u001b[36m(pid=10457)\u001b[0m   File \"/home/therealchainman/miniconda3/lib/python3.8/site-packages/torchvision/datasets/mnist.py\", line 90, in __init__\n",
      "\u001b[2m\u001b[36m(pid=10457)\u001b[0m     raise RuntimeError('Dataset not found.' +\n",
      "\u001b[2m\u001b[36m(pid=10457)\u001b[0m RuntimeError: Dataset not found. You can use download=True to download it\n",
      "\u001b[2m\u001b[36m(pid=10457)\u001b[0m Exception in thread Thread-2:\n",
      "\u001b[2m\u001b[36m(pid=10457)\u001b[0m Traceback (most recent call last):\n",
      "\u001b[2m\u001b[36m(pid=10457)\u001b[0m   File \"/home/therealchainman/miniconda3/lib/python3.8/threading.py\", line 932, in _bootstrap_inner\n",
      "\u001b[2m\u001b[36m(pid=10457)\u001b[0m     self.run()\n",
      "\u001b[2m\u001b[36m(pid=10457)\u001b[0m   File \"/home/therealchainman/miniconda3/lib/python3.8/site-packages/ray/tune/function_runner.py\", line 267, in run\n",
      "\u001b[2m\u001b[36m(pid=10457)\u001b[0m     raise e\n",
      "\u001b[2m\u001b[36m(pid=10457)\u001b[0m   File \"/home/therealchainman/miniconda3/lib/python3.8/site-packages/ray/tune/function_runner.py\", line 248, in run\n",
      "\u001b[2m\u001b[36m(pid=10457)\u001b[0m     self._entrypoint()\n",
      "\u001b[2m\u001b[36m(pid=10457)\u001b[0m   File \"/home/therealchainman/miniconda3/lib/python3.8/site-packages/ray/tune/function_runner.py\", line 315, in entrypoint\n",
      "\u001b[2m\u001b[36m(pid=10457)\u001b[0m     return self._trainable_func(self.config, self._status_reporter,\n",
      "\u001b[2m\u001b[36m(pid=10457)\u001b[0m   File \"/home/therealchainman/miniconda3/lib/python3.8/site-packages/ray/tune/function_runner.py\", line 580, in _trainable_func\n",
      "\u001b[2m\u001b[36m(pid=10457)\u001b[0m     output = fn()\n",
      "\u001b[2m\u001b[36m(pid=10457)\u001b[0m   File \"<ipython-input-11-26a293f4f9ec>\", line 8, in train_mnist\n",
      "\u001b[2m\u001b[36m(pid=10457)\u001b[0m   File \"/home/therealchainman/miniconda3/lib/python3.8/site-packages/torchvision/datasets/mnist.py\", line 90, in __init__\n",
      "\u001b[2m\u001b[36m(pid=10457)\u001b[0m     raise RuntimeError('Dataset not found.' +\n",
      "\u001b[2m\u001b[36m(pid=10457)\u001b[0m RuntimeError: Dataset not found. You can use download=True to download it\n",
      "\u001b[2m\u001b[36m(pid=10416)\u001b[0m 2021-06-23 16:05:34,554\tERROR function_runner.py:254 -- Runner Thread raised error.\n",
      "\u001b[2m\u001b[36m(pid=10416)\u001b[0m Traceback (most recent call last):\n",
      "\u001b[2m\u001b[36m(pid=10416)\u001b[0m   File \"/home/therealchainman/miniconda3/lib/python3.8/site-packages/ray/tune/function_runner.py\", line 248, in run\n",
      "\u001b[2m\u001b[36m(pid=10416)\u001b[0m     self._entrypoint()\n",
      "\u001b[2m\u001b[36m(pid=10416)\u001b[0m   File \"/home/therealchainman/miniconda3/lib/python3.8/site-packages/ray/tune/function_runner.py\", line 315, in entrypoint\n",
      "\u001b[2m\u001b[36m(pid=10416)\u001b[0m     return self._trainable_func(self.config, self._status_reporter,\n",
      "\u001b[2m\u001b[36m(pid=10416)\u001b[0m   File \"/home/therealchainman/miniconda3/lib/python3.8/site-packages/ray/tune/function_runner.py\", line 580, in _trainable_func\n",
      "\u001b[2m\u001b[36m(pid=10416)\u001b[0m     output = fn()\n",
      "\u001b[2m\u001b[36m(pid=10416)\u001b[0m   File \"<ipython-input-11-26a293f4f9ec>\", line 8, in train_mnist\n",
      "\u001b[2m\u001b[36m(pid=10416)\u001b[0m   File \"/home/therealchainman/miniconda3/lib/python3.8/site-packages/torchvision/datasets/mnist.py\", line 90, in __init__\n",
      "\u001b[2m\u001b[36m(pid=10416)\u001b[0m     raise RuntimeError('Dataset not found.' +\n",
      "\u001b[2m\u001b[36m(pid=10416)\u001b[0m RuntimeError: Dataset not found. You can use download=True to download it\n",
      "\u001b[2m\u001b[36m(pid=10416)\u001b[0m Exception in thread Thread-2:\n",
      "\u001b[2m\u001b[36m(pid=10416)\u001b[0m Traceback (most recent call last):\n",
      "\u001b[2m\u001b[36m(pid=10416)\u001b[0m   File \"/home/therealchainman/miniconda3/lib/python3.8/threading.py\", line 932, in _bootstrap_inner\n",
      "\u001b[2m\u001b[36m(pid=10416)\u001b[0m     self.run()\n",
      "\u001b[2m\u001b[36m(pid=10416)\u001b[0m   File \"/home/therealchainman/miniconda3/lib/python3.8/site-packages/ray/tune/function_runner.py\", line 267, in run\n",
      "\u001b[2m\u001b[36m(pid=10416)\u001b[0m     raise e\n",
      "\u001b[2m\u001b[36m(pid=10416)\u001b[0m   File \"/home/therealchainman/miniconda3/lib/python3.8/site-packages/ray/tune/function_runner.py\", line 248, in run\n",
      "\u001b[2m\u001b[36m(pid=10416)\u001b[0m     self._entrypoint()\n",
      "\u001b[2m\u001b[36m(pid=10416)\u001b[0m   File \"/home/therealchainman/miniconda3/lib/python3.8/site-packages/ray/tune/function_runner.py\", line 315, in entrypoint\n",
      "\u001b[2m\u001b[36m(pid=10416)\u001b[0m     return self._trainable_func(self.config, self._status_reporter,\n",
      "\u001b[2m\u001b[36m(pid=10416)\u001b[0m   File \"/home/therealchainman/miniconda3/lib/python3.8/site-packages/ray/tune/function_runner.py\", line 580, in _trainable_func\n",
      "\u001b[2m\u001b[36m(pid=10416)\u001b[0m     output = fn()\n",
      "\u001b[2m\u001b[36m(pid=10416)\u001b[0m   File \"<ipython-input-11-26a293f4f9ec>\", line 8, in train_mnist\n",
      "\u001b[2m\u001b[36m(pid=10416)\u001b[0m   File \"/home/therealchainman/miniconda3/lib/python3.8/site-packages/torchvision/datasets/mnist.py\", line 90, in __init__\n",
      "\u001b[2m\u001b[36m(pid=10416)\u001b[0m     raise RuntimeError('Dataset not found.' +\n",
      "\u001b[2m\u001b[36m(pid=10416)\u001b[0m RuntimeError: Dataset not found. You can use download=True to download it\n",
      "\u001b[2m\u001b[36m(pid=10362)\u001b[0m 2021-06-23 16:05:34,531\tERROR function_runner.py:254 -- Runner Thread raised error.\n",
      "\u001b[2m\u001b[36m(pid=10362)\u001b[0m Traceback (most recent call last):\n",
      "\u001b[2m\u001b[36m(pid=10362)\u001b[0m   File \"/home/therealchainman/miniconda3/lib/python3.8/site-packages/ray/tune/function_runner.py\", line 248, in run\n",
      "\u001b[2m\u001b[36m(pid=10362)\u001b[0m     self._entrypoint()\n",
      "\u001b[2m\u001b[36m(pid=10362)\u001b[0m   File \"/home/therealchainman/miniconda3/lib/python3.8/site-packages/ray/tune/function_runner.py\", line 315, in entrypoint\n",
      "\u001b[2m\u001b[36m(pid=10362)\u001b[0m     return self._trainable_func(self.config, self._status_reporter,\n",
      "\u001b[2m\u001b[36m(pid=10362)\u001b[0m   File \"/home/therealchainman/miniconda3/lib/python3.8/site-packages/ray/tune/function_runner.py\", line 580, in _trainable_func\n",
      "\u001b[2m\u001b[36m(pid=10362)\u001b[0m     output = fn()\n",
      "\u001b[2m\u001b[36m(pid=10362)\u001b[0m   File \"<ipython-input-11-26a293f4f9ec>\", line 8, in train_mnist\n",
      "\u001b[2m\u001b[36m(pid=10362)\u001b[0m   File \"/home/therealchainman/miniconda3/lib/python3.8/site-packages/torchvision/datasets/mnist.py\", line 90, in __init__\n",
      "\u001b[2m\u001b[36m(pid=10362)\u001b[0m     raise RuntimeError('Dataset not found.' +\n",
      "\u001b[2m\u001b[36m(pid=10362)\u001b[0m RuntimeError: Dataset not found. You can use download=True to download it\n",
      "\u001b[2m\u001b[36m(pid=10362)\u001b[0m Exception in thread Thread-2:\n",
      "\u001b[2m\u001b[36m(pid=10362)\u001b[0m Traceback (most recent call last):\n",
      "\u001b[2m\u001b[36m(pid=10362)\u001b[0m   File \"/home/therealchainman/miniconda3/lib/python3.8/threading.py\", line 932, in _bootstrap_inner\n",
      "\u001b[2m\u001b[36m(pid=10362)\u001b[0m     self.run()\n",
      "\u001b[2m\u001b[36m(pid=10362)\u001b[0m   File \"/home/therealchainman/miniconda3/lib/python3.8/site-packages/ray/tune/function_runner.py\", line 267, in run\n",
      "\u001b[2m\u001b[36m(pid=10362)\u001b[0m     raise e\n",
      "\u001b[2m\u001b[36m(pid=10362)\u001b[0m   File \"/home/therealchainman/miniconda3/lib/python3.8/site-packages/ray/tune/function_runner.py\", line 248, in run\n",
      "\u001b[2m\u001b[36m(pid=10362)\u001b[0m     self._entrypoint()\n",
      "\u001b[2m\u001b[36m(pid=10362)\u001b[0m   File \"/home/therealchainman/miniconda3/lib/python3.8/site-packages/ray/tune/function_runner.py\", line 315, in entrypoint\n",
      "\u001b[2m\u001b[36m(pid=10362)\u001b[0m     return self._trainable_func(self.config, self._status_reporter,\n",
      "\u001b[2m\u001b[36m(pid=10362)\u001b[0m   File \"/home/therealchainman/miniconda3/lib/python3.8/site-packages/ray/tune/function_runner.py\", line 580, in _trainable_func\n",
      "\u001b[2m\u001b[36m(pid=10362)\u001b[0m     output = fn()\n",
      "\u001b[2m\u001b[36m(pid=10362)\u001b[0m   File \"<ipython-input-11-26a293f4f9ec>\", line 8, in train_mnist\n",
      "\u001b[2m\u001b[36m(pid=10362)\u001b[0m   File \"/home/therealchainman/miniconda3/lib/python3.8/site-packages/torchvision/datasets/mnist.py\", line 90, in __init__\n",
      "\u001b[2m\u001b[36m(pid=10362)\u001b[0m     raise RuntimeError('Dataset not found.' +\n",
      "\u001b[2m\u001b[36m(pid=10362)\u001b[0m RuntimeError: Dataset not found. You can use download=True to download it\n",
      "2021-06-23 16:05:34,688\tERROR trial_runner.py:748 -- Trial train_mnist_bbf8f_00016: Error processing event.\n",
      "Traceback (most recent call last):\n",
      "  File \"/home/therealchainman/miniconda3/lib/python3.8/site-packages/ray/tune/trial_runner.py\", line 718, in _process_trial\n",
      "    results = self.trial_executor.fetch_result(trial)\n",
      "  File \"/home/therealchainman/miniconda3/lib/python3.8/site-packages/ray/tune/ray_trial_executor.py\", line 688, in fetch_result\n",
      "    result = ray.get(trial_future[0], timeout=DEFAULT_GET_TIMEOUT)\n",
      "  File \"/home/therealchainman/miniconda3/lib/python3.8/site-packages/ray/_private/client_mode_hook.py\", line 62, in wrapper\n",
      "    return func(*args, **kwargs)\n",
      "  File \"/home/therealchainman/miniconda3/lib/python3.8/site-packages/ray/worker.py\", line 1494, in get\n",
      "    raise value.as_instanceof_cause()\n",
      "ray.exceptions.RayTaskError(TuneError): \u001b[36mray::ImplicitFunc.train_buffered()\u001b[39m (pid=10457, ip=192.168.1.106)\n",
      "  File \"python/ray/_raylet.pyx\", line 501, in ray._raylet.execute_task\n",
      "  File \"python/ray/_raylet.pyx\", line 451, in ray._raylet.execute_task.function_executor\n",
      "  File \"/home/therealchainman/miniconda3/lib/python3.8/site-packages/ray/_private/function_manager.py\", line 563, in actor_method_executor\n",
      "    return method(__ray_actor, *args, **kwargs)\n",
      "  File \"/home/therealchainman/miniconda3/lib/python3.8/site-packages/ray/tune/trainable.py\", line 173, in train_buffered\n",
      "    result = self.train()\n",
      "  File \"/home/therealchainman/miniconda3/lib/python3.8/site-packages/ray/tune/trainable.py\", line 232, in train\n",
      "    result = self.step()\n",
      "  File \"/home/therealchainman/miniconda3/lib/python3.8/site-packages/ray/tune/function_runner.py\", line 366, in step\n",
      "    self._report_thread_runner_error(block=True)\n",
      "  File \"/home/therealchainman/miniconda3/lib/python3.8/site-packages/ray/tune/function_runner.py\", line 512, in _report_thread_runner_error\n",
      "    raise TuneError(\n",
      "ray.tune.error.TuneError: Trial raised an exception. Traceback:\n",
      "\u001b[36mray::ImplicitFunc.train_buffered()\u001b[39m (pid=10457, ip=192.168.1.106)\n",
      "  File \"/home/therealchainman/miniconda3/lib/python3.8/site-packages/ray/tune/function_runner.py\", line 248, in run\n",
      "    self._entrypoint()\n",
      "  File \"/home/therealchainman/miniconda3/lib/python3.8/site-packages/ray/tune/function_runner.py\", line 315, in entrypoint\n",
      "    return self._trainable_func(self.config, self._status_reporter,\n",
      "  File \"/home/therealchainman/miniconda3/lib/python3.8/site-packages/ray/tune/function_runner.py\", line 580, in _trainable_func\n",
      "    output = fn()\n",
      "  File \"<ipython-input-11-26a293f4f9ec>\", line 8, in train_mnist\n",
      "  File \"/home/therealchainman/miniconda3/lib/python3.8/site-packages/torchvision/datasets/mnist.py\", line 90, in __init__\n",
      "    raise RuntimeError('Dataset not found.' +\n",
      "RuntimeError: Dataset not found. You can use download=True to download it\n",
      "2021-06-23 16:05:34,734\tERROR trial_runner.py:748 -- Trial train_mnist_bbf8f_00018: Error processing event.\n",
      "Traceback (most recent call last):\n",
      "  File \"/home/therealchainman/miniconda3/lib/python3.8/site-packages/ray/tune/trial_runner.py\", line 718, in _process_trial\n",
      "    results = self.trial_executor.fetch_result(trial)\n",
      "  File \"/home/therealchainman/miniconda3/lib/python3.8/site-packages/ray/tune/ray_trial_executor.py\", line 688, in fetch_result\n",
      "    result = ray.get(trial_future[0], timeout=DEFAULT_GET_TIMEOUT)\n",
      "  File \"/home/therealchainman/miniconda3/lib/python3.8/site-packages/ray/_private/client_mode_hook.py\", line 62, in wrapper\n",
      "    return func(*args, **kwargs)\n",
      "  File \"/home/therealchainman/miniconda3/lib/python3.8/site-packages/ray/worker.py\", line 1494, in get\n",
      "    raise value.as_instanceof_cause()\n",
      "ray.exceptions.RayTaskError(TuneError): \u001b[36mray::ImplicitFunc.train_buffered()\u001b[39m (pid=10362, ip=192.168.1.106)\n",
      "  File \"python/ray/_raylet.pyx\", line 501, in ray._raylet.execute_task\n",
      "  File \"python/ray/_raylet.pyx\", line 451, in ray._raylet.execute_task.function_executor\n",
      "  File \"/home/therealchainman/miniconda3/lib/python3.8/site-packages/ray/_private/function_manager.py\", line 563, in actor_method_executor\n",
      "    return method(__ray_actor, *args, **kwargs)\n",
      "  File \"/home/therealchainman/miniconda3/lib/python3.8/site-packages/ray/tune/trainable.py\", line 173, in train_buffered\n",
      "    result = self.train()\n",
      "  File \"/home/therealchainman/miniconda3/lib/python3.8/site-packages/ray/tune/trainable.py\", line 232, in train\n",
      "    result = self.step()\n",
      "  File \"/home/therealchainman/miniconda3/lib/python3.8/site-packages/ray/tune/function_runner.py\", line 366, in step\n",
      "    self._report_thread_runner_error(block=True)\n",
      "  File \"/home/therealchainman/miniconda3/lib/python3.8/site-packages/ray/tune/function_runner.py\", line 512, in _report_thread_runner_error\n",
      "    raise TuneError(\n",
      "ray.tune.error.TuneError: Trial raised an exception. Traceback:\n",
      "\u001b[36mray::ImplicitFunc.train_buffered()\u001b[39m (pid=10362, ip=192.168.1.106)\n",
      "  File \"/home/therealchainman/miniconda3/lib/python3.8/site-packages/ray/tune/function_runner.py\", line 248, in run\n",
      "    self._entrypoint()\n",
      "  File \"/home/therealchainman/miniconda3/lib/python3.8/site-packages/ray/tune/function_runner.py\", line 315, in entrypoint\n",
      "    return self._trainable_func(self.config, self._status_reporter,\n",
      "  File \"/home/therealchainman/miniconda3/lib/python3.8/site-packages/ray/tune/function_runner.py\", line 580, in _trainable_func\n",
      "    output = fn()\n",
      "  File \"<ipython-input-11-26a293f4f9ec>\", line 8, in train_mnist\n",
      "  File \"/home/therealchainman/miniconda3/lib/python3.8/site-packages/torchvision/datasets/mnist.py\", line 90, in __init__\n",
      "    raise RuntimeError('Dataset not found.' +\n",
      "RuntimeError: Dataset not found. You can use download=True to download it\n",
      "2021-06-23 16:05:34,767\tERROR trial_runner.py:748 -- Trial train_mnist_bbf8f_00017: Error processing event.\n",
      "Traceback (most recent call last):\n",
      "  File \"/home/therealchainman/miniconda3/lib/python3.8/site-packages/ray/tune/trial_runner.py\", line 718, in _process_trial\n",
      "    results = self.trial_executor.fetch_result(trial)\n",
      "  File \"/home/therealchainman/miniconda3/lib/python3.8/site-packages/ray/tune/ray_trial_executor.py\", line 688, in fetch_result\n",
      "    result = ray.get(trial_future[0], timeout=DEFAULT_GET_TIMEOUT)\n",
      "  File \"/home/therealchainman/miniconda3/lib/python3.8/site-packages/ray/_private/client_mode_hook.py\", line 62, in wrapper\n",
      "    return func(*args, **kwargs)\n",
      "  File \"/home/therealchainman/miniconda3/lib/python3.8/site-packages/ray/worker.py\", line 1494, in get\n",
      "    raise value.as_instanceof_cause()\n",
      "ray.exceptions.RayTaskError(TuneError): \u001b[36mray::ImplicitFunc.train_buffered()\u001b[39m (pid=10416, ip=192.168.1.106)\n",
      "  File \"python/ray/_raylet.pyx\", line 501, in ray._raylet.execute_task\n",
      "  File \"python/ray/_raylet.pyx\", line 451, in ray._raylet.execute_task.function_executor\n",
      "  File \"/home/therealchainman/miniconda3/lib/python3.8/site-packages/ray/_private/function_manager.py\", line 563, in actor_method_executor\n",
      "    return method(__ray_actor, *args, **kwargs)\n",
      "  File \"/home/therealchainman/miniconda3/lib/python3.8/site-packages/ray/tune/trainable.py\", line 173, in train_buffered\n",
      "    result = self.train()\n",
      "  File \"/home/therealchainman/miniconda3/lib/python3.8/site-packages/ray/tune/trainable.py\", line 232, in train\n",
      "    result = self.step()\n",
      "  File \"/home/therealchainman/miniconda3/lib/python3.8/site-packages/ray/tune/function_runner.py\", line 366, in step\n",
      "    self._report_thread_runner_error(block=True)\n",
      "  File \"/home/therealchainman/miniconda3/lib/python3.8/site-packages/ray/tune/function_runner.py\", line 512, in _report_thread_runner_error\n",
      "    raise TuneError(\n",
      "ray.tune.error.TuneError: Trial raised an exception. Traceback:\n",
      "\u001b[36mray::ImplicitFunc.train_buffered()\u001b[39m (pid=10416, ip=192.168.1.106)\n",
      "  File \"/home/therealchainman/miniconda3/lib/python3.8/site-packages/ray/tune/function_runner.py\", line 248, in run\n",
      "    self._entrypoint()\n",
      "  File \"/home/therealchainman/miniconda3/lib/python3.8/site-packages/ray/tune/function_runner.py\", line 315, in entrypoint\n",
      "    return self._trainable_func(self.config, self._status_reporter,\n",
      "  File \"/home/therealchainman/miniconda3/lib/python3.8/site-packages/ray/tune/function_runner.py\", line 580, in _trainable_func\n",
      "    output = fn()\n",
      "  File \"<ipython-input-11-26a293f4f9ec>\", line 8, in train_mnist\n",
      "  File \"/home/therealchainman/miniconda3/lib/python3.8/site-packages/torchvision/datasets/mnist.py\", line 90, in __init__\n",
      "    raise RuntimeError('Dataset not found.' +\n",
      "RuntimeError: Dataset not found. You can use download=True to download it\n"
     ]
    },
    {
     "name": "stdout",
     "output_type": "stream",
     "text": [
      "Result for train_mnist_bbf8f_00016:\n",
      "  {}\n",
      "  \n",
      "Result for train_mnist_bbf8f_00018:\n",
      "  {}\n",
      "  \n",
      "Result for train_mnist_bbf8f_00017:\n",
      "  {}\n",
      "  \n"
     ]
    },
    {
     "name": "stderr",
     "output_type": "stream",
     "text": [
      "\u001b[2m\u001b[36m(pid=10642)\u001b[0m 2021-06-23 16:05:35,025\tERROR function_runner.py:254 -- Runner Thread raised error.\n",
      "\u001b[2m\u001b[36m(pid=10642)\u001b[0m Traceback (most recent call last):\n",
      "\u001b[2m\u001b[36m(pid=10642)\u001b[0m   File \"/home/therealchainman/miniconda3/lib/python3.8/site-packages/ray/tune/function_runner.py\", line 248, in run\n",
      "\u001b[2m\u001b[36m(pid=10642)\u001b[0m     self._entrypoint()\n",
      "\u001b[2m\u001b[36m(pid=10642)\u001b[0m   File \"/home/therealchainman/miniconda3/lib/python3.8/site-packages/ray/tune/function_runner.py\", line 315, in entrypoint\n",
      "\u001b[2m\u001b[36m(pid=10642)\u001b[0m     return self._trainable_func(self.config, self._status_reporter,\n",
      "\u001b[2m\u001b[36m(pid=10642)\u001b[0m   File \"/home/therealchainman/miniconda3/lib/python3.8/site-packages/ray/tune/function_runner.py\", line 580, in _trainable_func\n",
      "\u001b[2m\u001b[36m(pid=10642)\u001b[0m     output = fn()\n",
      "\u001b[2m\u001b[36m(pid=10642)\u001b[0m   File \"<ipython-input-11-26a293f4f9ec>\", line 8, in train_mnist\n",
      "\u001b[2m\u001b[36m(pid=10642)\u001b[0m   File \"/home/therealchainman/miniconda3/lib/python3.8/site-packages/torchvision/datasets/mnist.py\", line 90, in __init__\n",
      "\u001b[2m\u001b[36m(pid=10642)\u001b[0m     raise RuntimeError('Dataset not found.' +\n",
      "\u001b[2m\u001b[36m(pid=10642)\u001b[0m RuntimeError: Dataset not found. You can use download=True to download it\n",
      "\u001b[2m\u001b[36m(pid=10642)\u001b[0m Exception in thread Thread-2:\n",
      "\u001b[2m\u001b[36m(pid=10642)\u001b[0m Traceback (most recent call last):\n",
      "\u001b[2m\u001b[36m(pid=10642)\u001b[0m   File \"/home/therealchainman/miniconda3/lib/python3.8/threading.py\", line 932, in _bootstrap_inner\n",
      "\u001b[2m\u001b[36m(pid=10642)\u001b[0m     self.run()\n",
      "\u001b[2m\u001b[36m(pid=10642)\u001b[0m   File \"/home/therealchainman/miniconda3/lib/python3.8/site-packages/ray/tune/function_runner.py\", line 267, in run\n",
      "\u001b[2m\u001b[36m(pid=10642)\u001b[0m     raise e\n",
      "\u001b[2m\u001b[36m(pid=10642)\u001b[0m   File \"/home/therealchainman/miniconda3/lib/python3.8/site-packages/ray/tune/function_runner.py\", line 248, in run\n",
      "\u001b[2m\u001b[36m(pid=10642)\u001b[0m     self._entrypoint()\n",
      "\u001b[2m\u001b[36m(pid=10642)\u001b[0m   File \"/home/therealchainman/miniconda3/lib/python3.8/site-packages/ray/tune/function_runner.py\", line 315, in entrypoint\n",
      "\u001b[2m\u001b[36m(pid=10642)\u001b[0m     return self._trainable_func(self.config, self._status_reporter,\n",
      "\u001b[2m\u001b[36m(pid=10642)\u001b[0m   File \"/home/therealchainman/miniconda3/lib/python3.8/site-packages/ray/tune/function_runner.py\", line 580, in _trainable_func\n",
      "\u001b[2m\u001b[36m(pid=10642)\u001b[0m     output = fn()\n",
      "\u001b[2m\u001b[36m(pid=10642)\u001b[0m   File \"<ipython-input-11-26a293f4f9ec>\", line 8, in train_mnist\n",
      "\u001b[2m\u001b[36m(pid=10642)\u001b[0m   File \"/home/therealchainman/miniconda3/lib/python3.8/site-packages/torchvision/datasets/mnist.py\", line 90, in __init__\n",
      "\u001b[2m\u001b[36m(pid=10642)\u001b[0m     raise RuntimeError('Dataset not found.' +\n",
      "\u001b[2m\u001b[36m(pid=10642)\u001b[0m RuntimeError: Dataset not found. You can use download=True to download it\n",
      "2021-06-23 16:05:35,230\tERROR trial_runner.py:748 -- Trial train_mnist_bbf8f_00019: Error processing event.\n",
      "Traceback (most recent call last):\n",
      "  File \"/home/therealchainman/miniconda3/lib/python3.8/site-packages/ray/tune/trial_runner.py\", line 718, in _process_trial\n",
      "    results = self.trial_executor.fetch_result(trial)\n",
      "  File \"/home/therealchainman/miniconda3/lib/python3.8/site-packages/ray/tune/ray_trial_executor.py\", line 688, in fetch_result\n",
      "    result = ray.get(trial_future[0], timeout=DEFAULT_GET_TIMEOUT)\n",
      "  File \"/home/therealchainman/miniconda3/lib/python3.8/site-packages/ray/_private/client_mode_hook.py\", line 62, in wrapper\n",
      "    return func(*args, **kwargs)\n",
      "  File \"/home/therealchainman/miniconda3/lib/python3.8/site-packages/ray/worker.py\", line 1494, in get\n",
      "    raise value.as_instanceof_cause()\n",
      "ray.exceptions.RayTaskError(TuneError): \u001b[36mray::ImplicitFunc.train_buffered()\u001b[39m (pid=10642, ip=192.168.1.106)\n",
      "  File \"python/ray/_raylet.pyx\", line 501, in ray._raylet.execute_task\n",
      "  File \"python/ray/_raylet.pyx\", line 451, in ray._raylet.execute_task.function_executor\n",
      "  File \"/home/therealchainman/miniconda3/lib/python3.8/site-packages/ray/_private/function_manager.py\", line 563, in actor_method_executor\n",
      "    return method(__ray_actor, *args, **kwargs)\n",
      "  File \"/home/therealchainman/miniconda3/lib/python3.8/site-packages/ray/tune/trainable.py\", line 173, in train_buffered\n",
      "    result = self.train()\n",
      "  File \"/home/therealchainman/miniconda3/lib/python3.8/site-packages/ray/tune/trainable.py\", line 232, in train\n",
      "    result = self.step()\n",
      "  File \"/home/therealchainman/miniconda3/lib/python3.8/site-packages/ray/tune/function_runner.py\", line 366, in step\n",
      "    self._report_thread_runner_error(block=True)\n",
      "  File \"/home/therealchainman/miniconda3/lib/python3.8/site-packages/ray/tune/function_runner.py\", line 512, in _report_thread_runner_error\n",
      "    raise TuneError(\n",
      "ray.tune.error.TuneError: Trial raised an exception. Traceback:\n",
      "\u001b[36mray::ImplicitFunc.train_buffered()\u001b[39m (pid=10642, ip=192.168.1.106)\n",
      "  File \"/home/therealchainman/miniconda3/lib/python3.8/site-packages/ray/tune/function_runner.py\", line 248, in run\n",
      "    self._entrypoint()\n",
      "  File \"/home/therealchainman/miniconda3/lib/python3.8/site-packages/ray/tune/function_runner.py\", line 315, in entrypoint\n",
      "    return self._trainable_func(self.config, self._status_reporter,\n",
      "  File \"/home/therealchainman/miniconda3/lib/python3.8/site-packages/ray/tune/function_runner.py\", line 580, in _trainable_func\n",
      "    output = fn()\n",
      "  File \"<ipython-input-11-26a293f4f9ec>\", line 8, in train_mnist\n",
      "  File \"/home/therealchainman/miniconda3/lib/python3.8/site-packages/torchvision/datasets/mnist.py\", line 90, in __init__\n",
      "    raise RuntimeError('Dataset not found.' +\n",
      "RuntimeError: Dataset not found. You can use download=True to download it\n"
     ]
    },
    {
     "name": "stdout",
     "output_type": "stream",
     "text": [
      "Result for train_mnist_bbf8f_00019:\n",
      "  {}\n",
      "  \n"
     ]
    },
    {
     "data": {
      "text/html": [
       "== Status ==<br>Memory usage on this node: 3.8/15.5 GiB<br>Using FIFO scheduling algorithm.<br>Resources requested: 0/8 CPUs, 0/0 GPUs, 0.0/8.34 GiB heap, 0.0/4.17 GiB objects<br>Result logdir: /home/therealchainman/ray_results/train_mnist_2021-06-23_16-05-26<br>Number of trials: 20/20 (20 ERROR)<br><table>\n",
       "<thead>\n",
       "<tr><th>Trial name             </th><th>status  </th><th>loc  </th><th style=\"text-align: right;\">         lr</th><th style=\"text-align: right;\">  momentum</th></tr>\n",
       "</thead>\n",
       "<tbody>\n",
       "<tr><td>train_mnist_bbf8f_00000</td><td>ERROR   </td><td>     </td><td style=\"text-align: right;\">0.00079759 </td><td style=\"text-align: right;\">  0.511843</td></tr>\n",
       "<tr><td>train_mnist_bbf8f_00001</td><td>ERROR   </td><td>     </td><td style=\"text-align: right;\">1.68399e-06</td><td style=\"text-align: right;\">  0.501628</td></tr>\n",
       "<tr><td>train_mnist_bbf8f_00002</td><td>ERROR   </td><td>     </td><td style=\"text-align: right;\">0.00318452 </td><td style=\"text-align: right;\">  0.471165</td></tr>\n",
       "<tr><td>train_mnist_bbf8f_00003</td><td>ERROR   </td><td>     </td><td style=\"text-align: right;\">0.000134866</td><td style=\"text-align: right;\">  0.320262</td></tr>\n",
       "<tr><td>train_mnist_bbf8f_00004</td><td>ERROR   </td><td>     </td><td style=\"text-align: right;\">0.00543249 </td><td style=\"text-align: right;\">  0.649584</td></tr>\n",
       "<tr><td>train_mnist_bbf8f_00005</td><td>ERROR   </td><td>     </td><td style=\"text-align: right;\">0.000439039</td><td style=\"text-align: right;\">  0.79882 </td></tr>\n",
       "<tr><td>train_mnist_bbf8f_00006</td><td>ERROR   </td><td>     </td><td style=\"text-align: right;\">0.00447357 </td><td style=\"text-align: right;\">  0.409483</td></tr>\n",
       "<tr><td>train_mnist_bbf8f_00007</td><td>ERROR   </td><td>     </td><td style=\"text-align: right;\">0.000745227</td><td style=\"text-align: right;\">  0.219831</td></tr>\n",
       "<tr><td>train_mnist_bbf8f_00008</td><td>ERROR   </td><td>     </td><td style=\"text-align: right;\">0.0145477  </td><td style=\"text-align: right;\">  0.473439</td></tr>\n",
       "<tr><td>train_mnist_bbf8f_00009</td><td>ERROR   </td><td>     </td><td style=\"text-align: right;\">0.000378187</td><td style=\"text-align: right;\">  0.730264</td></tr>\n",
       "<tr><td>train_mnist_bbf8f_00010</td><td>ERROR   </td><td>     </td><td style=\"text-align: right;\">1.09399e-07</td><td style=\"text-align: right;\">  0.228719</td></tr>\n",
       "<tr><td>train_mnist_bbf8f_00011</td><td>ERROR   </td><td>     </td><td style=\"text-align: right;\">5.86371e-08</td><td style=\"text-align: right;\">  0.357454</td></tr>\n",
       "<tr><td>train_mnist_bbf8f_00012</td><td>ERROR   </td><td>     </td><td style=\"text-align: right;\">0.00132057 </td><td style=\"text-align: right;\">  0.635444</td></tr>\n",
       "<tr><td>train_mnist_bbf8f_00013</td><td>ERROR   </td><td>     </td><td style=\"text-align: right;\">0.0723701  </td><td style=\"text-align: right;\">  0.55429 </td></tr>\n",
       "<tr><td>train_mnist_bbf8f_00014</td><td>ERROR   </td><td>     </td><td style=\"text-align: right;\">0.567137   </td><td style=\"text-align: right;\">  0.699913</td></tr>\n",
       "<tr><td>train_mnist_bbf8f_00015</td><td>ERROR   </td><td>     </td><td style=\"text-align: right;\">2.09078e-06</td><td style=\"text-align: right;\">  0.202252</td></tr>\n",
       "<tr><td>train_mnist_bbf8f_00016</td><td>ERROR   </td><td>     </td><td style=\"text-align: right;\">1.3664e-08 </td><td style=\"text-align: right;\">  0.371185</td></tr>\n",
       "<tr><td>train_mnist_bbf8f_00017</td><td>ERROR   </td><td>     </td><td style=\"text-align: right;\">0.000773308</td><td style=\"text-align: right;\">  0.758946</td></tr>\n",
       "<tr><td>train_mnist_bbf8f_00018</td><td>ERROR   </td><td>     </td><td style=\"text-align: right;\">0.0137393  </td><td style=\"text-align: right;\">  0.60156 </td></tr>\n",
       "<tr><td>train_mnist_bbf8f_00019</td><td>ERROR   </td><td>     </td><td style=\"text-align: right;\">9.36453e-05</td><td style=\"text-align: right;\">  0.234719</td></tr>\n",
       "</tbody>\n",
       "</table><br>Number of errored trials: 20<br><table>\n",
       "<thead>\n",
       "<tr><th>Trial name             </th><th style=\"text-align: right;\">  # failures</th><th>error file                                                                                                                                               </th></tr>\n",
       "</thead>\n",
       "<tbody>\n",
       "<tr><td>train_mnist_bbf8f_00000</td><td style=\"text-align: right;\">           1</td><td>/home/therealchainman/ray_results/train_mnist_2021-06-23_16-05-26/train_mnist_bbf8f_00000_0_lr=0.00079759,momentum=0.51184_2021-06-23_16-05-27/error.txt </td></tr>\n",
       "<tr><td>train_mnist_bbf8f_00001</td><td style=\"text-align: right;\">           1</td><td>/home/therealchainman/ray_results/train_mnist_2021-06-23_16-05-26/train_mnist_bbf8f_00001_1_lr=1.684e-06,momentum=0.50163_2021-06-23_16-05-27/error.txt  </td></tr>\n",
       "<tr><td>train_mnist_bbf8f_00002</td><td style=\"text-align: right;\">           1</td><td>/home/therealchainman/ray_results/train_mnist_2021-06-23_16-05-26/train_mnist_bbf8f_00002_2_lr=0.0031845,momentum=0.47116_2021-06-23_16-05-27/error.txt  </td></tr>\n",
       "<tr><td>train_mnist_bbf8f_00003</td><td style=\"text-align: right;\">           1</td><td>/home/therealchainman/ray_results/train_mnist_2021-06-23_16-05-26/train_mnist_bbf8f_00003_3_lr=0.00013487,momentum=0.32026_2021-06-23_16-05-27/error.txt </td></tr>\n",
       "<tr><td>train_mnist_bbf8f_00004</td><td style=\"text-align: right;\">           1</td><td>/home/therealchainman/ray_results/train_mnist_2021-06-23_16-05-26/train_mnist_bbf8f_00004_4_lr=0.0054325,momentum=0.64958_2021-06-23_16-05-27/error.txt  </td></tr>\n",
       "<tr><td>train_mnist_bbf8f_00005</td><td style=\"text-align: right;\">           1</td><td>/home/therealchainman/ray_results/train_mnist_2021-06-23_16-05-26/train_mnist_bbf8f_00005_5_lr=0.00043904,momentum=0.79882_2021-06-23_16-05-27/error.txt </td></tr>\n",
       "<tr><td>train_mnist_bbf8f_00006</td><td style=\"text-align: right;\">           1</td><td>/home/therealchainman/ray_results/train_mnist_2021-06-23_16-05-26/train_mnist_bbf8f_00006_6_lr=0.0044736,momentum=0.40948_2021-06-23_16-05-27/error.txt  </td></tr>\n",
       "<tr><td>train_mnist_bbf8f_00007</td><td style=\"text-align: right;\">           1</td><td>/home/therealchainman/ray_results/train_mnist_2021-06-23_16-05-26/train_mnist_bbf8f_00007_7_lr=0.00074523,momentum=0.21983_2021-06-23_16-05-27/error.txt </td></tr>\n",
       "<tr><td>train_mnist_bbf8f_00008</td><td style=\"text-align: right;\">           1</td><td>/home/therealchainman/ray_results/train_mnist_2021-06-23_16-05-26/train_mnist_bbf8f_00008_8_lr=0.014548,momentum=0.47344_2021-06-23_16-05-27/error.txt   </td></tr>\n",
       "<tr><td>train_mnist_bbf8f_00009</td><td style=\"text-align: right;\">           1</td><td>/home/therealchainman/ray_results/train_mnist_2021-06-23_16-05-26/train_mnist_bbf8f_00009_9_lr=0.00037819,momentum=0.73026_2021-06-23_16-05-29/error.txt </td></tr>\n",
       "<tr><td>train_mnist_bbf8f_00010</td><td style=\"text-align: right;\">           1</td><td>/home/therealchainman/ray_results/train_mnist_2021-06-23_16-05-26/train_mnist_bbf8f_00010_10_lr=1.094e-07,momentum=0.22872_2021-06-23_16-05-29/error.txt </td></tr>\n",
       "<tr><td>train_mnist_bbf8f_00011</td><td style=\"text-align: right;\">           1</td><td>/home/therealchainman/ray_results/train_mnist_2021-06-23_16-05-26/train_mnist_bbf8f_00011_11_lr=5.8637e-08,momentum=0.35745_2021-06-23_16-05-29/error.txt</td></tr>\n",
       "<tr><td>train_mnist_bbf8f_00012</td><td style=\"text-align: right;\">           1</td><td>/home/therealchainman/ray_results/train_mnist_2021-06-23_16-05-26/train_mnist_bbf8f_00012_12_lr=0.0013206,momentum=0.63544_2021-06-23_16-05-29/error.txt </td></tr>\n",
       "<tr><td>train_mnist_bbf8f_00013</td><td style=\"text-align: right;\">           1</td><td>/home/therealchainman/ray_results/train_mnist_2021-06-23_16-05-26/train_mnist_bbf8f_00013_13_lr=0.07237,momentum=0.55429_2021-06-23_16-05-29/error.txt   </td></tr>\n",
       "<tr><td>train_mnist_bbf8f_00014</td><td style=\"text-align: right;\">           1</td><td>/home/therealchainman/ray_results/train_mnist_2021-06-23_16-05-26/train_mnist_bbf8f_00014_14_lr=0.56714,momentum=0.69991_2021-06-23_16-05-29/error.txt   </td></tr>\n",
       "<tr><td>train_mnist_bbf8f_00015</td><td style=\"text-align: right;\">           1</td><td>/home/therealchainman/ray_results/train_mnist_2021-06-23_16-05-26/train_mnist_bbf8f_00015_15_lr=2.0908e-06,momentum=0.20225_2021-06-23_16-05-29/error.txt</td></tr>\n",
       "<tr><td>train_mnist_bbf8f_00016</td><td style=\"text-align: right;\">           1</td><td>/home/therealchainman/ray_results/train_mnist_2021-06-23_16-05-26/train_mnist_bbf8f_00016_16_lr=1.3664e-08,momentum=0.37119_2021-06-23_16-05-29/error.txt</td></tr>\n",
       "<tr><td>train_mnist_bbf8f_00017</td><td style=\"text-align: right;\">           1</td><td>/home/therealchainman/ray_results/train_mnist_2021-06-23_16-05-26/train_mnist_bbf8f_00017_17_lr=0.00077331,momentum=0.75895_2021-06-23_16-05-33/error.txt</td></tr>\n",
       "<tr><td>train_mnist_bbf8f_00018</td><td style=\"text-align: right;\">           1</td><td>/home/therealchainman/ray_results/train_mnist_2021-06-23_16-05-26/train_mnist_bbf8f_00018_18_lr=0.013739,momentum=0.60156_2021-06-23_16-05-33/error.txt  </td></tr>\n",
       "<tr><td>train_mnist_bbf8f_00019</td><td style=\"text-align: right;\">           1</td><td>/home/therealchainman/ray_results/train_mnist_2021-06-23_16-05-26/train_mnist_bbf8f_00019_19_lr=9.3645e-05,momentum=0.23472_2021-06-23_16-05-33/error.txt</td></tr>\n",
       "</tbody>\n",
       "</table><br>"
      ],
      "text/plain": [
       "<IPython.core.display.HTML object>"
      ]
     },
     "metadata": {},
     "output_type": "display_data"
    },
    {
     "ename": "TuneError",
     "evalue": "('Trials did not complete', [train_mnist_bbf8f_00000, train_mnist_bbf8f_00001, train_mnist_bbf8f_00002, train_mnist_bbf8f_00003, train_mnist_bbf8f_00004, train_mnist_bbf8f_00005, train_mnist_bbf8f_00006, train_mnist_bbf8f_00007, train_mnist_bbf8f_00008, train_mnist_bbf8f_00009, train_mnist_bbf8f_00010, train_mnist_bbf8f_00011, train_mnist_bbf8f_00012, train_mnist_bbf8f_00013, train_mnist_bbf8f_00014, train_mnist_bbf8f_00015, train_mnist_bbf8f_00016, train_mnist_bbf8f_00017, train_mnist_bbf8f_00018, train_mnist_bbf8f_00019])",
     "output_type": "error",
     "traceback": [
      "\u001b[0;31m---------------------------------------------------------------------------\u001b[0m",
      "\u001b[0;31mTuneError\u001b[0m                                 Traceback (most recent call last)",
      "\u001b[0;32m<ipython-input-13-9a9971b4ca33>\u001b[0m in \u001b[0;36m<module>\u001b[0;34m\u001b[0m\n\u001b[1;32m      1\u001b[0m \u001b[0;32mimport\u001b[0m \u001b[0mtime\u001b[0m\u001b[0;34m\u001b[0m\u001b[0;34m\u001b[0m\u001b[0m\n\u001b[1;32m      2\u001b[0m \u001b[0mstart\u001b[0m \u001b[0;34m=\u001b[0m \u001b[0mtime\u001b[0m\u001b[0;34m.\u001b[0m\u001b[0mtime\u001b[0m\u001b[0;34m(\u001b[0m\u001b[0;34m)\u001b[0m\u001b[0;34m\u001b[0m\u001b[0;34m\u001b[0m\u001b[0m\n\u001b[0;32m----> 3\u001b[0;31m analysis = tune.run(\n\u001b[0m\u001b[1;32m      4\u001b[0m     \u001b[0mtrain_mnist\u001b[0m\u001b[0;34m,\u001b[0m\u001b[0;34m\u001b[0m\u001b[0;34m\u001b[0m\u001b[0m\n\u001b[1;32m      5\u001b[0m     \u001b[0mnum_samples\u001b[0m\u001b[0;34m=\u001b[0m\u001b[0;36m20\u001b[0m\u001b[0;34m,\u001b[0m\u001b[0;34m\u001b[0m\u001b[0;34m\u001b[0m\u001b[0m\n",
      "\u001b[0;32m~/miniconda3/lib/python3.8/site-packages/ray/tune/tune.py\u001b[0m in \u001b[0;36mrun\u001b[0;34m(run_or_experiment, name, metric, mode, stop, time_budget_s, config, resources_per_trial, num_samples, local_dir, search_alg, scheduler, keep_checkpoints_num, checkpoint_score_attr, checkpoint_freq, checkpoint_at_end, verbose, progress_reporter, log_to_file, trial_name_creator, trial_dirname_creator, sync_config, export_formats, max_failures, fail_fast, restore, server_port, resume, queue_trials, reuse_actors, trial_executor, raise_on_failed_trial, callbacks, loggers, ray_auto_init, run_errored_only, global_checkpoint_period, with_server, upload_dir, sync_to_cloud, sync_to_driver, sync_on_checkpoint, _remote)\u001b[0m\n\u001b[1;32m    541\u001b[0m     \u001b[0;32mif\u001b[0m \u001b[0mincomplete_trials\u001b[0m\u001b[0;34m:\u001b[0m\u001b[0;34m\u001b[0m\u001b[0;34m\u001b[0m\u001b[0m\n\u001b[1;32m    542\u001b[0m         \u001b[0;32mif\u001b[0m \u001b[0mraise_on_failed_trial\u001b[0m \u001b[0;32mand\u001b[0m \u001b[0;32mnot\u001b[0m \u001b[0mstate\u001b[0m\u001b[0;34m[\u001b[0m\u001b[0msignal\u001b[0m\u001b[0;34m.\u001b[0m\u001b[0mSIGINT\u001b[0m\u001b[0;34m]\u001b[0m\u001b[0;34m:\u001b[0m\u001b[0;34m\u001b[0m\u001b[0;34m\u001b[0m\u001b[0m\n\u001b[0;32m--> 543\u001b[0;31m             \u001b[0;32mraise\u001b[0m \u001b[0mTuneError\u001b[0m\u001b[0;34m(\u001b[0m\u001b[0;34m\"Trials did not complete\"\u001b[0m\u001b[0;34m,\u001b[0m \u001b[0mincomplete_trials\u001b[0m\u001b[0;34m)\u001b[0m\u001b[0;34m\u001b[0m\u001b[0;34m\u001b[0m\u001b[0m\n\u001b[0m\u001b[1;32m    544\u001b[0m         \u001b[0;32melse\u001b[0m\u001b[0;34m:\u001b[0m\u001b[0;34m\u001b[0m\u001b[0;34m\u001b[0m\u001b[0m\n\u001b[1;32m    545\u001b[0m             \u001b[0mlogger\u001b[0m\u001b[0;34m.\u001b[0m\u001b[0merror\u001b[0m\u001b[0;34m(\u001b[0m\u001b[0;34m\"Trials did not complete: %s\"\u001b[0m\u001b[0;34m,\u001b[0m \u001b[0mincomplete_trials\u001b[0m\u001b[0;34m)\u001b[0m\u001b[0;34m\u001b[0m\u001b[0;34m\u001b[0m\u001b[0m\n",
      "\u001b[0;31mTuneError\u001b[0m: ('Trials did not complete', [train_mnist_bbf8f_00000, train_mnist_bbf8f_00001, train_mnist_bbf8f_00002, train_mnist_bbf8f_00003, train_mnist_bbf8f_00004, train_mnist_bbf8f_00005, train_mnist_bbf8f_00006, train_mnist_bbf8f_00007, train_mnist_bbf8f_00008, train_mnist_bbf8f_00009, train_mnist_bbf8f_00010, train_mnist_bbf8f_00011, train_mnist_bbf8f_00012, train_mnist_bbf8f_00013, train_mnist_bbf8f_00014, train_mnist_bbf8f_00015, train_mnist_bbf8f_00016, train_mnist_bbf8f_00017, train_mnist_bbf8f_00018, train_mnist_bbf8f_00019])"
     ]
    }
   ],
   "source": [
    "import time\n",
    "start = time.time()\n",
    "analysis = tune.run(\n",
    "    train_mnist,\n",
    "    num_samples=20,\n",
    "#     scheduler=ASHAScheduler(metric=\"mean_accuracy\", mode=\"max\"),\n",
    "    config=search_space)\n",
    "print(f\"duration (s)= {start-time.time()}\")\n",
    "# Obtain a trial dataframe from all run trials of this `tune.run` call.\n",
    "dfs = analysis.trial_dataframes"
   ]
  },
  {
   "cell_type": "code",
   "execution_count": 21,
   "id": "2b7402de-e34b-4bb0-bdd9-980376b04c56",
   "metadata": {
    "collapsed": true,
    "jupyter": {
     "outputs_hidden": true
    }
   },
   "outputs": [
    {
     "data": {
      "image/png": "[encoded data removed]",
      "text/plain": [
       "<Figure size 432x288 with 1 Axes>"
      ]
     },
     "metadata": {
      "needs_background": "light"
     },
     "output_type": "display_data"
    }
   ],
   "source": [
    "# Plot by epoch\n",
    "ax = None  # This plots everything on the same plot\n",
    "for d in dfs.values():\n",
    "    ax = d.mean_accuracy.plot(ax=ax, legend=False)"
   ]
  },
  {
   "cell_type": "code",
   "execution_count": 26,
   "id": "5c72b881-d4b3-4b4d-b04a-6d1c427cbf2c",
   "metadata": {
    "collapsed": true,
    "jupyter": {
     "outputs_hidden": true
    }
   },
   "outputs": [
    {
     "data": {
      "text/html": [
       "== Status ==<br>Memory usage on this node: 3.9/15.5 GiB<br>Using FIFO scheduling algorithm.<br>Resources requested: 0/8 CPUs, 0/0 GPUs, 0.0/8.04 GiB heap, 0.0/4.02 GiB objects<br>Result logdir: /home/therealchainman/ray_results/train_mnist_2021-06-22_16-33-11<br>Number of trials: 1/10 (1 PENDING)<br><table>\n",
       "<thead>\n",
       "<tr><th>Trial name          </th><th>status  </th><th>loc  </th><th style=\"text-align: right;\">     lr</th><th style=\"text-align: right;\">  momentum</th></tr>\n",
       "</thead>\n",
       "<tbody>\n",
       "<tr><td>train_mnist_71abf396</td><td>PENDING </td><td>     </td><td style=\"text-align: right;\">1.09208</td><td style=\"text-align: right;\">  0.166771</td></tr>\n",
       "</tbody>\n",
       "</table><br><br>"
      ],
      "text/plain": [
       "<IPython.core.display.HTML object>"
      ]
     },
     "metadata": {},
     "output_type": "display_data"
    },
    {
     "name": "stderr",
     "output_type": "stream",
     "text": [
      "\u001b[2m\u001b[33m(raylet)\u001b[0m /home/therealchainman/miniconda3/lib/python3.8/site-packages/ray/autoscaler/_private/cli_logger.py:57: FutureWarning: Not all Ray CLI dependencies were found. In Ray 1.4+, the Ray CLI, autoscaler, and dashboard will only be usable via `pip install 'ray[default]'`. Please update your install command.\n",
      "\u001b[2m\u001b[33m(raylet)\u001b[0m   warnings.warn(\n"
     ]
    },
    {
     "name": "stdout",
     "output_type": "stream",
     "text": [
      "\u001b[2m\u001b[36m(pid=15534)\u001b[0m Downloading http://yann.lecun.com/exdb/mnist/train-images-idx3-ubyte.gz\n",
      "\u001b[2m\u001b[36m(pid=15534)\u001b[0m Failed to download (trying next):\n",
      "\u001b[2m\u001b[36m(pid=15534)\u001b[0m HTTP Error 503: Service Unavailable\n",
      "\u001b[2m\u001b[36m(pid=15534)\u001b[0m \n",
      "\u001b[2m\u001b[36m(pid=15534)\u001b[0m Downloading https://ossci-datasets.s3.amazonaws.com/mnist/train-images-idx3-ubyte.gz\n"
     ]
    },
    {
     "name": "stderr",
     "output_type": "stream",
     "text": [
      "\u001b[2m\u001b[33m(raylet)\u001b[0m /home/therealchainman/miniconda3/lib/python3.8/site-packages/ray/autoscaler/_private/cli_logger.py:57: FutureWarning: Not all Ray CLI dependencies were found. In Ray 1.4+, the Ray CLI, autoscaler, and dashboard will only be usable via `pip install 'ray[default]'`. Please update your install command.\n",
      "\u001b[2m\u001b[33m(raylet)\u001b[0m   warnings.warn(\n",
      "\u001b[2m\u001b[33m(raylet)\u001b[0m /home/therealchainman/miniconda3/lib/python3.8/site-packages/ray/autoscaler/_private/cli_logger.py:57: FutureWarning: Not all Ray CLI dependencies were found. In Ray 1.4+, the Ray CLI, autoscaler, and dashboard will only be usable via `pip install 'ray[default]'`. Please update your install command.\n",
      "\u001b[2m\u001b[33m(raylet)\u001b[0m   warnings.warn(\n"
     ]
    },
    {
     "name": "stdout",
     "output_type": "stream",
     "text": [
      "\u001b[2m\u001b[36m(pid=15534)\u001b[0m Downloading https://ossci-datasets.s3.amazonaws.com/mnist/train-images-idx3-ubyte.gz to {cwd}/data/MNIST/raw/train-images-idx3-ubyte.gz\n"
     ]
    },
    {
     "name": "stderr",
     "output_type": "stream",
     "text": [
      "  0%|          | 0/9912422 [00:00<?, ?it/s]\n",
      "  1%|          | 87040/9912422 [00:00<00:14, 697008.65it/s]\n",
      "  6%|▌         | 574464/9912422 [00:00<00:09, 936825.13it/s]\n",
      " 22%|██▏       | 2158592/9912422 [00:00<00:05, 1304721.98it/s]\n"
     ]
    },
    {
     "name": "stdout",
     "output_type": "stream",
     "text": [
      "\u001b[2m\u001b[36m(pid=15729)\u001b[0m Downloading http://yann.lecun.com/exdb/mnist/train-images-idx3-ubyte.gz\n",
      "\u001b[2m\u001b[36m(pid=15729)\u001b[0m Failed to download (trying next):\n",
      "\u001b[2m\u001b[36m(pid=15729)\u001b[0m HTTP Error 503: Service Unavailable\n",
      "\u001b[2m\u001b[36m(pid=15729)\u001b[0m \n",
      "\u001b[2m\u001b[36m(pid=15729)\u001b[0m Downloading https://ossci-datasets.s3.amazonaws.com/mnist/train-images-idx3-ubyte.gz\n"
     ]
    },
    {
     "name": "stderr",
     "output_type": "stream",
     "text": [
      " 44%|████▍     | 4337664/9912422 [00:00<00:03, 1805513.04it/s]\n",
      "\u001b[2m\u001b[33m(raylet)\u001b[0m /home/therealchainman/miniconda3/lib/python3.8/site-packages/ray/autoscaler/_private/cli_logger.py:57: FutureWarning: Not all Ray CLI dependencies were found. In Ray 1.4+, the Ray CLI, autoscaler, and dashboard will only be usable via `pip install 'ray[default]'`. Please update your install command.\n",
      "\u001b[2m\u001b[33m(raylet)\u001b[0m   warnings.warn(\n",
      " 53%|█████▎    | 5261312/9912422 [00:00<00:01, 2325727.14it/s]\n",
      " 86%|████████▋ | 8562688/9912422 [00:00<00:00, 3225074.11it/s]\n",
      "\u001b[2m\u001b[33m(raylet)\u001b[0m /home/therealchainman/miniconda3/lib/python3.8/site-packages/ray/autoscaler/_private/cli_logger.py:57: FutureWarning: Not all Ray CLI dependencies were found. In Ray 1.4+, the Ray CLI, autoscaler, and dashboard will only be usable via `pip install 'ray[default]'`. Please update your install command.\n",
      "\u001b[2m\u001b[33m(raylet)\u001b[0m   warnings.warn(\n",
      "9913344it [00:00, 11691854.48it/s]                            \n"
     ]
    },
    {
     "name": "stdout",
     "output_type": "stream",
     "text": [
      "\u001b[2m\u001b[36m(pid=15534)\u001b[0m Extracting {cwd}/data/MNIST/raw/train-images-idx3-ubyte.gz to {cwd}/data/MNIST/raw\n",
      "\u001b[2m\u001b[36m(pid=15729)\u001b[0m Downloading https://ossci-datasets.s3.amazonaws.com/mnist/train-images-idx3-ubyte.gz to {cwd}/data/MNIST/raw/train-images-idx3-ubyte.gz\n"
     ]
    },
    {
     "name": "stderr",
     "output_type": "stream",
     "text": [
      "\u001b[2m\u001b[33m(raylet)\u001b[0m /home/therealchainman/miniconda3/lib/python3.8/site-packages/ray/autoscaler/_private/cli_logger.py:57: FutureWarning: Not all Ray CLI dependencies were found. In Ray 1.4+, the Ray CLI, autoscaler, and dashboard will only be usable via `pip install 'ray[default]'`. Please update your install command.\n",
      "\u001b[2m\u001b[33m(raylet)\u001b[0m   warnings.warn(\n",
      "  0%|          | 0/9912422 [00:00<?, ?it/s]\n",
      "  1%|          | 89088/9912422 [00:00<00:11, 841554.89it/s]\n",
      "  7%|▋         | 663552/9912422 [00:00<00:08, 1106140.44it/s]\n",
      " 15%|█▌        | 1533952/9912422 [00:00<00:05, 1497122.33it/s]\n",
      " 27%|██▋       | 2700288/9912422 [00:00<00:03, 2022011.48it/s]\n",
      "\u001b[2m\u001b[33m(raylet)\u001b[0m /home/therealchainman/miniconda3/lib/python3.8/site-packages/ray/autoscaler/_private/cli_logger.py:57: FutureWarning: Not all Ray CLI dependencies were found. In Ray 1.4+, the Ray CLI, autoscaler, and dashboard will only be usable via `pip install 'ray[default]'`. Please update your install command.\n",
      "\u001b[2m\u001b[33m(raylet)\u001b[0m   warnings.warn(\n",
      " 38%|███▊      | 3779584/9912422 [00:00<00:02, 2667591.13it/s]\n"
     ]
    },
    {
     "name": "stdout",
     "output_type": "stream",
     "text": [
      "\u001b[2m\u001b[36m(pid=15753)\u001b[0m Downloading http://yann.lecun.com/exdb/mnist/train-images-idx3-ubyte.gz\n",
      "\u001b[2m\u001b[36m(pid=15534)\u001b[0m \n",
      "\u001b[2m\u001b[36m(pid=15534)\u001b[0m Downloading http://yann.lecun.com/exdb/mnist/train-labels-idx1-ubyte.gz\n",
      "\u001b[2m\u001b[36m(pid=15753)\u001b[0m Failed to download (trying next):\n",
      "\u001b[2m\u001b[36m(pid=15753)\u001b[0m HTTP Error 503: Service Unavailable\n",
      "\u001b[2m\u001b[36m(pid=15753)\u001b[0m \n",
      "\u001b[2m\u001b[36m(pid=15753)\u001b[0m Downloading https://ossci-datasets.s3.amazonaws.com/mnist/train-images-idx3-ubyte.gz\n",
      "\u001b[2m\u001b[36m(pid=15534)\u001b[0m Failed to download (trying next):\n",
      "\u001b[2m\u001b[36m(pid=15534)\u001b[0m HTTP Error 503: Service Unavailable\n",
      "\u001b[2m\u001b[36m(pid=15534)\u001b[0m \n",
      "\u001b[2m\u001b[36m(pid=15534)\u001b[0m Downloading https://ossci-datasets.s3.amazonaws.com/mnist/train-labels-idx1-ubyte.gz\n"
     ]
    },
    {
     "name": "stderr",
     "output_type": "stream",
     "text": [
      " 49%|████▉     | 4904960/9912422 [00:00<00:01, 3459403.14it/s]\n",
      "\u001b[2m\u001b[33m(raylet)\u001b[0m /home/therealchainman/miniconda3/lib/python3.8/site-packages/ray/autoscaler/_private/cli_logger.py:57: FutureWarning: Not all Ray CLI dependencies were found. In Ray 1.4+, the Ray CLI, autoscaler, and dashboard will only be usable via `pip install 'ray[default]'`. Please update your install command.\n",
      "\u001b[2m\u001b[33m(raylet)\u001b[0m   warnings.warn(\n",
      " 58%|█████▊    | 5747712/9912422 [00:00<00:00, 4199431.25it/s]\n"
     ]
    },
    {
     "name": "stdout",
     "output_type": "stream",
     "text": [
      "\u001b[2m\u001b[36m(pid=15534)\u001b[0m Downloading https://ossci-datasets.s3.amazonaws.com/mnist/train-labels-idx1-ubyte.gz to {cwd}/data/MNIST/raw/train-labels-idx1-ubyte.gz\n",
      "\u001b[2m\u001b[36m(pid=15753)\u001b[0m Downloading https://ossci-datasets.s3.amazonaws.com/mnist/train-images-idx3-ubyte.gz to {cwd}/data/MNIST/raw/train-images-idx3-ubyte.gz\n"
     ]
    },
    {
     "name": "stderr",
     "output_type": "stream",
     "text": [
      " 71%|███████▏  | 7071744/9912422 [00:00<00:00, 5271083.97it/s]\n",
      " 81%|████████  | 8051712/9912422 [00:00<00:00, 5924021.84it/s]\n"
     ]
    },
    {
     "name": "stdout",
     "output_type": "stream",
     "text": [
      "\u001b[2m\u001b[36m(pid=15534)\u001b[0m Extracting {cwd}/data/MNIST/raw/train-labels-idx1-ubyte.gz to {cwd}/data/MNIST/raw\n",
      "\u001b[2m\u001b[36m(pid=15534)\u001b[0m \n",
      "\u001b[2m\u001b[36m(pid=15534)\u001b[0m Downloading http://yann.lecun.com/exdb/mnist/t10k-images-idx3-ubyte.gz\n",
      "\u001b[2m\u001b[36m(pid=15729)\u001b[0m Extracting {cwd}/data/MNIST/raw/train-images-idx3-ubyte.gz to {cwd}/data/MNIST/raw\n",
      "\u001b[2m\u001b[36m(pid=15534)\u001b[0m Failed to download (trying next):\n",
      "\u001b[2m\u001b[36m(pid=15534)\u001b[0m HTTP Error 503: Service Unavailable\n",
      "\u001b[2m\u001b[36m(pid=15534)\u001b[0m \n",
      "\u001b[2m\u001b[36m(pid=15534)\u001b[0m Downloading https://ossci-datasets.s3.amazonaws.com/mnist/t10k-images-idx3-ubyte.gz\n"
     ]
    },
    {
     "name": "stderr",
     "output_type": "stream",
     "text": [
      "  0%|          | 0/28881 [00:00<?, ?it/s]\n",
      "9913344it [00:01, 9059671.20it/s]                             \n",
      "29696it [00:00, 664043.91it/s]           \n",
      "  0%|          | 0/9912422 [00:00<?, ?it/s]\n",
      "  1%|          | 87040/9912422 [00:00<00:13, 742010.68it/s]\n",
      "  3%|▎         | 278528/9912422 [00:00<00:10, 906175.18it/s]\n",
      "  9%|▉         | 886784/9912422 [00:00<00:07, 1212785.63it/s]\n"
     ]
    },
    {
     "name": "stdout",
     "output_type": "stream",
     "text": [
      "\u001b[2m\u001b[36m(pid=15534)\u001b[0m Downloading https://ossci-datasets.s3.amazonaws.com/mnist/t10k-images-idx3-ubyte.gz to {cwd}/data/MNIST/raw/t10k-images-idx3-ubyte.gz\n",
      "\u001b[2m\u001b[36m(pid=15755)\u001b[0m Downloading http://yann.lecun.com/exdb/mnist/train-images-idx3-ubyte.gz\n",
      "\u001b[2m\u001b[36m(pid=15755)\u001b[0m Failed to download (trying next):\n",
      "\u001b[2m\u001b[36m(pid=15755)\u001b[0m HTTP Error 503: Service Unavailable\n",
      "\u001b[2m\u001b[36m(pid=15755)\u001b[0m \n",
      "\u001b[2m\u001b[36m(pid=15755)\u001b[0m Downloading https://ossci-datasets.s3.amazonaws.com/mnist/train-images-idx3-ubyte.gz\n"
     ]
    },
    {
     "name": "stderr",
     "output_type": "stream",
     "text": [
      " 16%|█▌        | 1549312/9912422 [00:00<00:05, 1599803.85it/s]\n",
      " 23%|██▎       | 2296832/9912422 [00:00<00:03, 2090316.41it/s]\n",
      " 33%|███▎      | 3255296/9912422 [00:00<00:02, 2730873.11it/s]\n",
      "\u001b[2m\u001b[33m(raylet)\u001b[0m /home/therealchainman/miniconda3/lib/python3.8/site-packages/ray/autoscaler/_private/cli_logger.py:57: FutureWarning: Not all Ray CLI dependencies were found. In Ray 1.4+, the Ray CLI, autoscaler, and dashboard will only be usable via `pip install 'ray[default]'`. Please update your install command.\n",
      "\u001b[2m\u001b[33m(raylet)\u001b[0m   warnings.warn(\n",
      " 43%|████▎     | 4219904/9912422 [00:00<00:01, 3479072.93it/s]\n",
      "\u001b[2m\u001b[33m(raylet)\u001b[0m /home/therealchainman/miniconda3/lib/python3.8/site-packages/ray/autoscaler/_private/cli_logger.py:57: FutureWarning: Not all Ray CLI dependencies were found. In Ray 1.4+, the Ray CLI, autoscaler, and dashboard will only be usable via `pip install 'ray[default]'`. Please update your install command.\n",
      "\u001b[2m\u001b[33m(raylet)\u001b[0m   warnings.warn(\n",
      " 52%|█████▏    | 5187584/9912422 [00:00<00:01, 4284796.27it/s]\n",
      "  0%|          | 0/1648877 [00:00<?, ?it/s]\n",
      " 64%|██████▍   | 6379520/9912422 [00:00<00:00, 5303488.34it/s]\n",
      "  2%|▏         | 36864/1648877 [00:00<00:07, 205492.09it/s]\n",
      " 73%|███████▎  | 7284736/9912422 [00:01<00:00, 5431486.41it/s]\n"
     ]
    },
    {
     "name": "stdout",
     "output_type": "stream",
     "text": [
      "\u001b[2m\u001b[36m(pid=15755)\u001b[0m Downloading https://ossci-datasets.s3.amazonaws.com/mnist/train-images-idx3-ubyte.gz to {cwd}/data/MNIST/raw/train-images-idx3-ubyte.gz\n"
     ]
    },
    {
     "name": "stderr",
     "output_type": "stream",
     "text": [
      "  9%|▊         | 141312/1648877 [00:00<00:05, 266335.93it/s]\n",
      " 83%|████████▎ | 8265728/9912422 [00:01<00:00, 6212323.46it/s]\n",
      " 24%|██▍       | 402432/1648877 [00:00<00:03, 361123.08it/s]\n",
      "9913344it [00:01, 7404084.86it/s]                             \n",
      " 45%|████▌     | 742400/1648877 [00:00<00:01, 493427.30it/s]\n"
     ]
    },
    {
     "data": {
      "text/html": [
       "== Status ==<br>Memory usage on this node: 4.8/15.5 GiB<br>Using FIFO scheduling algorithm.<br>Resources requested: 8.0/8 CPUs, 0/0 GPUs, 0.0/8.04 GiB heap, 0.0/4.02 GiB objects<br>Result logdir: /home/therealchainman/ray_results/train_mnist_2021-06-22_16-33-11<br>Number of trials: 9/10 (1 PENDING, 8 RUNNING)<br><table>\n",
       "<thead>\n",
       "<tr><th>Trial name          </th><th>status  </th><th>loc  </th><th style=\"text-align: right;\">     lr</th><th style=\"text-align: right;\">  momentum</th></tr>\n",
       "</thead>\n",
       "<tbody>\n",
       "<tr><td>train_mnist_71abf396</td><td>RUNNING </td><td>     </td><td style=\"text-align: right;\">1.09208</td><td style=\"text-align: right;\">  0.166771</td></tr>\n",
       "<tr><td>train_mnist_71abf397</td><td>RUNNING </td><td>     </td><td style=\"text-align: right;\">1.06363</td><td style=\"text-align: right;\">  0.376857</td></tr>\n",
       "<tr><td>train_mnist_71abf398</td><td>RUNNING </td><td>     </td><td style=\"text-align: right;\">1.01239</td><td style=\"text-align: right;\">  0.149677</td></tr>\n",
       "<tr><td>train_mnist_71abf399</td><td>RUNNING </td><td>     </td><td style=\"text-align: right;\">1.06761</td><td style=\"text-align: right;\">  0.250371</td></tr>\n",
       "<tr><td>train_mnist_71abf39a</td><td>RUNNING </td><td>     </td><td style=\"text-align: right;\">1.0686 </td><td style=\"text-align: right;\">  0.144051</td></tr>\n",
       "<tr><td>train_mnist_73012b26</td><td>RUNNING </td><td>     </td><td style=\"text-align: right;\">1.07137</td><td style=\"text-align: right;\">  0.192747</td></tr>\n",
       "<tr><td>train_mnist_73012b27</td><td>RUNNING </td><td>     </td><td style=\"text-align: right;\">1.09214</td><td style=\"text-align: right;\">  0.261777</td></tr>\n",
       "<tr><td>train_mnist_73012b28</td><td>RUNNING </td><td>     </td><td style=\"text-align: right;\">1.00548</td><td style=\"text-align: right;\">  0.483111</td></tr>\n",
       "<tr><td>train_mnist_73d4ab04</td><td>PENDING </td><td>     </td><td style=\"text-align: right;\">1.04986</td><td style=\"text-align: right;\">  0.617687</td></tr>\n",
       "</tbody>\n",
       "</table><br><br>"
      ],
      "text/plain": [
       "<IPython.core.display.HTML object>"
      ]
     },
     "metadata": {},
     "output_type": "display_data"
    },
    {
     "name": "stderr",
     "output_type": "stream",
     "text": [
      " 67%|██████▋   | 1098752/1648877 [00:00<00:00, 664617.94it/s]\n",
      "  0%|          | 0/9912422 [00:00<?, ?it/s]\n",
      "1649664it [00:00, 2165299.32it/s]                            \n",
      "  2%|▏         | 199680/9912422 [00:00<00:06, 1469196.89it/s]\n"
     ]
    },
    {
     "name": "stdout",
     "output_type": "stream",
     "text": [
      "\u001b[2m\u001b[36m(pid=15753)\u001b[0m Extracting {cwd}/data/MNIST/raw/train-images-idx3-ubyte.gz to {cwd}/data/MNIST/raw\n",
      "\u001b[2m\u001b[36m(pid=15534)\u001b[0m Extracting {cwd}/data/MNIST/raw/t10k-images-idx3-ubyte.gz to {cwd}/data/MNIST/raw\n"
     ]
    },
    {
     "name": "stderr",
     "output_type": "stream",
     "text": [
      "  9%|▉         | 936960/9912422 [00:00<00:04, 1933688.87it/s]\n",
      " 19%|█▉        | 1914880/9912422 [00:00<00:03, 2546594.68it/s]\n",
      " 30%|███       | 2993152/9912422 [00:00<00:02, 3303586.35it/s]\n",
      " 40%|████      | 3972096/9912422 [00:00<00:01, 4106322.20it/s]\n"
     ]
    },
    {
     "name": "stdout",
     "output_type": "stream",
     "text": [
      "\u001b[2m\u001b[36m(pid=15793)\u001b[0m Downloading http://yann.lecun.com/exdb/mnist/train-images-idx3-ubyte.gz\n",
      "\u001b[2m\u001b[36m(pid=15534)\u001b[0m \n",
      "\u001b[2m\u001b[36m(pid=15534)\u001b[0m Downloading http://yann.lecun.com/exdb/mnist/t10k-labels-idx1-ubyte.gz\n",
      "\u001b[2m\u001b[36m(pid=15793)\u001b[0m Failed to download (trying next):\n",
      "\u001b[2m\u001b[36m(pid=15793)\u001b[0m HTTP Error 503: Service Unavailable\n",
      "\u001b[2m\u001b[36m(pid=15793)\u001b[0m \n",
      "\u001b[2m\u001b[36m(pid=15793)\u001b[0m Downloading https://ossci-datasets.s3.amazonaws.com/mnist/train-images-idx3-ubyte.gz\n",
      "\u001b[2m\u001b[36m(pid=15534)\u001b[0m Failed to download (trying next):\n",
      "\u001b[2m\u001b[36m(pid=15534)\u001b[0m HTTP Error 503: Service Unavailable\n",
      "\u001b[2m\u001b[36m(pid=15534)\u001b[0m \n",
      "\u001b[2m\u001b[36m(pid=15534)\u001b[0m Downloading https://ossci-datasets.s3.amazonaws.com/mnist/t10k-labels-idx1-ubyte.gz\n"
     ]
    },
    {
     "name": "stderr",
     "output_type": "stream",
     "text": [
      " 56%|█████▌    | 5523456/9912422 [00:00<00:00, 5268283.82it/s]\n",
      " 66%|██████▌   | 6507520/9912422 [00:00<00:00, 5791237.15it/s]\n",
      " 77%|███████▋  | 7658496/9912422 [00:00<00:00, 6717323.71it/s]\n",
      "9913344it [00:00, 10185381.30it/s]                            \n"
     ]
    },
    {
     "name": "stdout",
     "output_type": "stream",
     "text": [
      "\u001b[2m\u001b[36m(pid=15534)\u001b[0m Downloading https://ossci-datasets.s3.amazonaws.com/mnist/t10k-labels-idx1-ubyte.gz to {cwd}/data/MNIST/raw/t10k-labels-idx1-ubyte.gz\n",
      "\u001b[2m\u001b[36m(pid=15755)\u001b[0m Extracting {cwd}/data/MNIST/raw/train-images-idx3-ubyte.gz to {cwd}/data/MNIST/raw\n",
      "\u001b[2m\u001b[36m(pid=15793)\u001b[0m Downloading https://ossci-datasets.s3.amazonaws.com/mnist/train-images-idx3-ubyte.gz to {cwd}/data/MNIST/raw/train-images-idx3-ubyte.gz\n",
      "\u001b[2m\u001b[36m(pid=15805)\u001b[0m Downloading http://yann.lecun.com/exdb/mnist/train-images-idx3-ubyte.gz\n",
      "\u001b[2m\u001b[36m(pid=15729)\u001b[0m \n",
      "\u001b[2m\u001b[36m(pid=15729)\u001b[0m Downloading http://yann.lecun.com/exdb/mnist/train-labels-idx1-ubyte.gz\n",
      "\u001b[2m\u001b[36m(pid=15805)\u001b[0m Failed to download (trying next):\n",
      "\u001b[2m\u001b[36m(pid=15805)\u001b[0m HTTP Error 503: Service Unavailable\n",
      "\u001b[2m\u001b[36m(pid=15805)\u001b[0m \n",
      "\u001b[2m\u001b[36m(pid=15805)\u001b[0m Downloading https://ossci-datasets.s3.amazonaws.com/mnist/train-images-idx3-ubyte.gz\n",
      "\u001b[2m\u001b[36m(pid=15729)\u001b[0m Failed to download (trying next):\n",
      "\u001b[2m\u001b[36m(pid=15729)\u001b[0m HTTP Error 503: Service Unavailable\n",
      "\u001b[2m\u001b[36m(pid=15729)\u001b[0m \n",
      "\u001b[2m\u001b[36m(pid=15729)\u001b[0m Downloading https://ossci-datasets.s3.amazonaws.com/mnist/train-labels-idx1-ubyte.gz\n",
      "\u001b[2m\u001b[36m(pid=15534)\u001b[0m Extracting {cwd}/data/MNIST/raw/t10k-labels-idx1-ubyte.gz to {cwd}/data/MNIST/raw\n",
      "\u001b[2m\u001b[36m(pid=15534)\u001b[0m \n",
      "\u001b[2m\u001b[36m(pid=15805)\u001b[0m Downloading https://ossci-datasets.s3.amazonaws.com/mnist/train-images-idx3-ubyte.gz to {cwd}/data/MNIST/raw/train-images-idx3-ubyte.gz\n"
     ]
    },
    {
     "name": "stderr",
     "output_type": "stream",
     "text": [
      "  0%|          | 0/9912422 [00:00<?, ?it/s]\n",
      "5120it [00:00, 1307289.00it/s]          \n",
      "\u001b[2m\u001b[36m(pid=15534)\u001b[0m /home/therealchainman/miniconda3/lib/python3.8/site-packages/torchvision/datasets/mnist.py:498: UserWarning: The given NumPy array is not writeable, and PyTorch does not support non-writeable tensors. This means you can write to the underlying (supposedly non-writeable) NumPy array using the tensor. You may want to copy the array to protect its data or make it writeable before converting it to a tensor. This type of warning will be suppressed for the rest of this program. (Triggered internally at  /pytorch/torch/csrc/utils/tensor_numpy.cpp:180.)\n",
      "\u001b[2m\u001b[36m(pid=15534)\u001b[0m   return torch.from_numpy(parsed.astype(m[2], copy=False)).view(*s)\n",
      "  1%|          | 87040/9912422 [00:00<00:13, 736600.00it/s]\n"
     ]
    },
    {
     "name": "stdout",
     "output_type": "stream",
     "text": [
      "\u001b[2m\u001b[36m(pid=15729)\u001b[0m Downloading https://ossci-datasets.s3.amazonaws.com/mnist/train-labels-idx1-ubyte.gz to {cwd}/data/MNIST/raw/train-labels-idx1-ubyte.gz\n",
      "\u001b[2m\u001b[36m(pid=15807)\u001b[0m Downloading http://yann.lecun.com/exdb/mnist/train-images-idx3-ubyte.gz\n"
     ]
    },
    {
     "name": "stderr",
     "output_type": "stream",
     "text": [
      "\u001b[2m\u001b[36m(pid=15534)\u001b[0m /home/therealchainman/miniconda3/lib/python3.8/site-packages/torch/nn/functional.py:718: UserWarning: Named tensors and all their associated APIs are an experimental feature and subject to change. Please do not use them for anything important until they are released as stable. (Triggered internally at  /pytorch/c10/core/TensorImpl.h:1156.)\n",
      "\u001b[2m\u001b[36m(pid=15534)\u001b[0m   return torch.max_pool2d(input, kernel_size, stride, padding, dilation, ceil_mode)\n",
      "  5%|▌         | 522240/9912422 [00:00<00:09, 955203.14it/s]\n",
      " 14%|█▎        | 1357824/9912422 [00:00<00:06, 1292973.36it/s]\n",
      " 22%|██▏       | 2131968/9912422 [00:00<00:04, 1723646.76it/s]\n",
      "  0%|          | 0/9912422 [00:00<?, ?it/s]\n",
      "  0%|          | 0/28881 [00:00<?, ?it/s]\n"
     ]
    },
    {
     "name": "stdout",
     "output_type": "stream",
     "text": [
      "\u001b[2m\u001b[36m(pid=15807)\u001b[0m Failed to download (trying next):\n",
      "\u001b[2m\u001b[36m(pid=15807)\u001b[0m HTTP Error 503: Service Unavailable\n",
      "\u001b[2m\u001b[36m(pid=15807)\u001b[0m \n",
      "\u001b[2m\u001b[36m(pid=15807)\u001b[0m Downloading https://ossci-datasets.s3.amazonaws.com/mnist/train-images-idx3-ubyte.gz\n",
      "\u001b[2m\u001b[36m(pid=15729)\u001b[0m Extracting {cwd}/data/MNIST/raw/train-labels-idx1-ubyte.gz to {cwd}/data/MNIST/raw\n",
      "\u001b[2m\u001b[36m(pid=15729)\u001b[0m \n",
      "\u001b[2m\u001b[36m(pid=15729)\u001b[0m Downloading http://yann.lecun.com/exdb/mnist/t10k-images-idx3-ubyte.gz\n"
     ]
    },
    {
     "name": "stderr",
     "output_type": "stream",
     "text": [
      "29696it [00:00, 564563.74it/s]           \n",
      "  1%|          | 86016/9912422 [00:00<00:14, 684281.68it/s]\n",
      " 31%|███▏      | 3119104/9912422 [00:00<00:02, 2290905.00it/s]\n",
      " 41%|████▏     | 4108288/9912422 [00:00<00:01, 2963678.28it/s]\n",
      "  4%|▍         | 435200/9912422 [00:00<00:10, 901788.41it/s]\n"
     ]
    },
    {
     "name": "stdout",
     "output_type": "stream",
     "text": [
      "\u001b[2m\u001b[36m(pid=15729)\u001b[0m Failed to download (trying next):\n",
      "\u001b[2m\u001b[36m(pid=15729)\u001b[0m HTTP Error 503: Service Unavailable\n",
      "\u001b[2m\u001b[36m(pid=15729)\u001b[0m \n",
      "\u001b[2m\u001b[36m(pid=15729)\u001b[0m Downloading https://ossci-datasets.s3.amazonaws.com/mnist/t10k-images-idx3-ubyte.gz\n",
      "\u001b[2m\u001b[36m(pid=15807)\u001b[0m Downloading https://ossci-datasets.s3.amazonaws.com/mnist/train-images-idx3-ubyte.gz to {cwd}/data/MNIST/raw/train-images-idx3-ubyte.gz\n"
     ]
    },
    {
     "name": "stderr",
     "output_type": "stream",
     "text": [
      " 52%|█████▏    | 5203968/9912422 [00:00<00:01, 3793960.62it/s]\n",
      " 14%|█▎        | 1356800/9912422 [00:00<00:06, 1236380.73it/s]\n",
      " 61%|██████    | 6027264/9912422 [00:00<00:00, 4399742.22it/s]\n",
      " 22%|██▏       | 2227200/9912422 [00:00<00:04, 1638917.71it/s]\n",
      " 73%|███████▎  | 7219200/9912422 [00:00<00:00, 5426762.70it/s]\n",
      " 28%|██▊       | 2813952/9912422 [00:00<00:03, 2056629.54it/s]\n"
     ]
    },
    {
     "name": "stdout",
     "output_type": "stream",
     "text": [
      "\u001b[2m\u001b[36m(pid=15753)\u001b[0m \n",
      "\u001b[2m\u001b[36m(pid=15753)\u001b[0m Downloading http://yann.lecun.com/exdb/mnist/train-labels-idx1-ubyte.gz\n",
      "\u001b[2m\u001b[36m(pid=15753)\u001b[0m Failed to download (trying next):\n",
      "\u001b[2m\u001b[36m(pid=15753)\u001b[0m HTTP Error 503: Service Unavailable\n",
      "\u001b[2m\u001b[36m(pid=15753)\u001b[0m \n",
      "\u001b[2m\u001b[36m(pid=15753)\u001b[0m Downloading https://ossci-datasets.s3.amazonaws.com/mnist/train-labels-idx1-ubyte.gz\n"
     ]
    },
    {
     "name": "stderr",
     "output_type": "stream",
     "text": [
      " 84%|████████▍ | 8305664/9912422 [00:01<00:00, 6385513.47it/s]\n",
      " 39%|███▉      | 3911680/9912422 [00:00<00:02, 2692187.11it/s]\n",
      " 96%|█████████▌| 9476096/9912422 [00:01<00:00, 7378524.79it/s]\n",
      "9913344it [00:01, 8024477.88it/s]                             \n",
      " 46%|████▌     | 4532224/9912422 [00:00<00:01, 3224367.40it/s]\n"
     ]
    },
    {
     "name": "stdout",
     "output_type": "stream",
     "text": [
      "\u001b[2m\u001b[36m(pid=15729)\u001b[0m Downloading https://ossci-datasets.s3.amazonaws.com/mnist/t10k-images-idx3-ubyte.gz to {cwd}/data/MNIST/raw/t10k-images-idx3-ubyte.gz\n",
      "\u001b[2m\u001b[36m(pid=15793)\u001b[0m Extracting {cwd}/data/MNIST/raw/train-images-idx3-ubyte.gz to {cwd}/data/MNIST/raw\n",
      "\u001b[2m\u001b[36m(pid=15753)\u001b[0m Downloading https://ossci-datasets.s3.amazonaws.com/mnist/train-labels-idx1-ubyte.gz to {cwd}/data/MNIST/raw/train-labels-idx1-ubyte.gz\n",
      "Result for train_mnist_71abf396:\n",
      "  date: 2021-06-22_16-33-19\n",
      "  done: false\n",
      "  experiment_id: da1b15ec361544e6af5851dc8e80b1a4\n",
      "  hostname: therealchainman\n",
      "  iterations_since_restore: 1\n",
      "  mean_accuracy: 0.165625\n",
      "  node_ip: 192.168.1.106\n",
      "  pid: 15534\n",
      "  time_since_restore: 7.245242595672607\n",
      "  time_this_iter_s: 7.245242595672607\n",
      "  time_total_s: 7.245242595672607\n",
      "  timestamp: 1624397599\n",
      "  timesteps_since_restore: 0\n",
      "  training_iteration: 1\n",
      "  trial_id: 71abf396\n",
      "  \n",
      "\u001b[2m\u001b[36m(pid=15755)\u001b[0m \n",
      "\u001b[2m\u001b[36m(pid=15755)\u001b[0m Downloading http://yann.lecun.com/exdb/mnist/train-labels-idx1-ubyte.gz\n"
     ]
    },
    {
     "name": "stderr",
     "output_type": "stream",
     "text": [
      " 52%|█████▏    | 5145600/9912422 [00:00<00:01, 3582956.18it/s]\n",
      " 59%|█████▉    | 5853184/9912422 [00:01<00:00, 4137705.84it/s]\n",
      " 71%|███████   | 7030784/9912422 [00:01<00:00, 5137262.75it/s]\n",
      "  0%|          | 0/1648877 [00:00<?, ?it/s]\n",
      " 79%|███████▉  | 7860224/9912422 [00:01<00:00, 5765144.67it/s]\n",
      "  5%|▌         | 89088/1648877 [00:00<00:02, 674675.28it/s]\n",
      "  0%|          | 0/28881 [00:00<?, ?it/s]\n",
      " 90%|█████████ | 8925184/9912422 [00:01<00:00, 6541971.33it/s]\n"
     ]
    },
    {
     "name": "stdout",
     "output_type": "stream",
     "text": [
      "\u001b[2m\u001b[36m(pid=15755)\u001b[0m Failed to download (trying next):\n",
      "\u001b[2m\u001b[36m(pid=15755)\u001b[0m HTTP Error 503: Service Unavailable\n",
      "\u001b[2m\u001b[36m(pid=15755)\u001b[0m \n",
      "\u001b[2m\u001b[36m(pid=15755)\u001b[0m Downloading https://ossci-datasets.s3.amazonaws.com/mnist/train-labels-idx1-ubyte.gz\n"
     ]
    },
    {
     "name": "stderr",
     "output_type": "stream",
     "text": [
      " 21%|██        | 350208/1648877 [00:00<00:01, 867668.86it/s]\n",
      "29696it [00:00, 522499.91it/s]           \n",
      "9913344it [00:01, 6903942.14it/s]                             \n",
      " 43%|████▎     | 715776/1648877 [00:00<00:00, 1123170.98it/s]\n"
     ]
    },
    {
     "name": "stdout",
     "output_type": "stream",
     "text": [
      "\u001b[2m\u001b[36m(pid=15753)\u001b[0m Extracting {cwd}/data/MNIST/raw/train-labels-idx1-ubyte.gz to {cwd}/data/MNIST/raw\n",
      "\u001b[2m\u001b[36m(pid=15753)\u001b[0m \n",
      "\u001b[2m\u001b[36m(pid=15753)\u001b[0m Downloading http://yann.lecun.com/exdb/mnist/t10k-images-idx3-ubyte.gz\n",
      "\u001b[2m\u001b[36m(pid=15755)\u001b[0m Downloading https://ossci-datasets.s3.amazonaws.com/mnist/train-labels-idx1-ubyte.gz to {cwd}/data/MNIST/raw/train-labels-idx1-ubyte.gz\n",
      "\u001b[2m\u001b[36m(pid=15866)\u001b[0m Downloading http://yann.lecun.com/exdb/mnist/train-images-idx3-ubyte.gz\n",
      "\u001b[2m\u001b[36m(pid=15753)\u001b[0m Failed to download (trying next):\n",
      "\u001b[2m\u001b[36m(pid=15753)\u001b[0m HTTP Error 503: Service Unavailable\n",
      "\u001b[2m\u001b[36m(pid=15753)\u001b[0m \n",
      "\u001b[2m\u001b[36m(pid=15753)\u001b[0m Downloading https://ossci-datasets.s3.amazonaws.com/mnist/t10k-images-idx3-ubyte.gz\n",
      "\u001b[2m\u001b[36m(pid=15805)\u001b[0m Extracting {cwd}/data/MNIST/raw/train-images-idx3-ubyte.gz to {cwd}/data/MNIST/raw\n",
      "\u001b[2m\u001b[36m(pid=15866)\u001b[0m Failed to download (trying next):\n",
      "\u001b[2m\u001b[36m(pid=15866)\u001b[0m HTTP Error 503: Service Unavailable\n",
      "\u001b[2m\u001b[36m(pid=15866)\u001b[0m \n",
      "\u001b[2m\u001b[36m(pid=15866)\u001b[0m Downloading https://ossci-datasets.s3.amazonaws.com/mnist/train-images-idx3-ubyte.gz\n"
     ]
    },
    {
     "name": "stderr",
     "output_type": "stream",
     "text": [
      " 67%|██████▋   | 1098752/1648877 [00:00<00:00, 1394902.54it/s]\n",
      " 91%|█████████ | 1499136/1648877 [00:00<00:00, 1733549.60it/s]\n",
      "  0%|          | 0/28881 [00:00<?, ?it/s]\n",
      "  0%|          | 0/9912422 [00:00<?, ?it/s]\n",
      "1649664it [00:00, 2933698.44it/s]                             \n",
      "29696it [00:00, 629353.29it/s]           \n",
      "  1%|          | 87040/9912422 [00:00<00:14, 697982.79it/s]\n"
     ]
    },
    {
     "name": "stdout",
     "output_type": "stream",
     "text": [
      "\u001b[2m\u001b[36m(pid=15755)\u001b[0m Extracting {cwd}/data/MNIST/raw/train-labels-idx1-ubyte.gz to {cwd}/data/MNIST/raw\n",
      "\u001b[2m\u001b[36m(pid=15755)\u001b[0m \n",
      "\u001b[2m\u001b[36m(pid=15755)\u001b[0m Downloading http://yann.lecun.com/exdb/mnist/t10k-images-idx3-ubyte.gz\n",
      "\u001b[2m\u001b[36m(pid=15729)\u001b[0m Extracting {cwd}/data/MNIST/raw/t10k-images-idx3-ubyte.gz to {cwd}/data/MNIST/raw\n",
      "\u001b[2m\u001b[36m(pid=15753)\u001b[0m Downloading https://ossci-datasets.s3.amazonaws.com/mnist/t10k-images-idx3-ubyte.gz to {cwd}/data/MNIST/raw/t10k-images-idx3-ubyte.gz\n",
      "\u001b[2m\u001b[36m(pid=15866)\u001b[0m Downloading https://ossci-datasets.s3.amazonaws.com/mnist/train-images-idx3-ubyte.gz to {cwd}/data/MNIST/raw/train-images-idx3-ubyte.gz\n",
      "\u001b[2m\u001b[36m(pid=15755)\u001b[0m Failed to download (trying next):\n",
      "\u001b[2m\u001b[36m(pid=15755)\u001b[0m HTTP Error 503: Service Unavailable\n",
      "\u001b[2m\u001b[36m(pid=15755)\u001b[0m \n",
      "\u001b[2m\u001b[36m(pid=15755)\u001b[0m Downloading https://ossci-datasets.s3.amazonaws.com/mnist/t10k-images-idx3-ubyte.gz\n"
     ]
    },
    {
     "name": "stderr",
     "output_type": "stream",
     "text": [
      "  4%|▍         | 414720/9912422 [00:00<00:10, 913695.19it/s]\n",
      " 16%|█▌        | 1601536/9912422 [00:00<00:06, 1259556.52it/s]\n",
      "  0%|          | 0/1648877 [00:00<?, ?it/s]\n"
     ]
    },
    {
     "name": "stdout",
     "output_type": "stream",
     "text": [
      "\u001b[2m\u001b[36m(pid=15729)\u001b[0m \n",
      "\u001b[2m\u001b[36m(pid=15729)\u001b[0m Downloading http://yann.lecun.com/exdb/mnist/t10k-labels-idx1-ubyte.gz\n",
      "\u001b[2m\u001b[36m(pid=15729)\u001b[0m Failed to download (trying next):\n",
      "\u001b[2m\u001b[36m(pid=15729)\u001b[0m HTTP Error 503: Service Unavailable\n",
      "\u001b[2m\u001b[36m(pid=15729)\u001b[0m \n",
      "\u001b[2m\u001b[36m(pid=15729)\u001b[0m Downloading https://ossci-datasets.s3.amazonaws.com/mnist/t10k-labels-idx1-ubyte.gz\n"
     ]
    },
    {
     "name": "stderr",
     "output_type": "stream",
     "text": [
      " 38%|███▊      | 3768320/9912422 [00:00<00:03, 1755626.57it/s]\n",
      "  2%|▏         | 34816/1648877 [00:00<00:04, 323546.63it/s]\n",
      " 60%|█████▉    | 5906432/9912422 [00:00<00:01, 2422766.76it/s]\n",
      "  8%|▊         | 139264/1648877 [00:00<00:03, 407133.49it/s]\n",
      "  0%|          | 0/9912422 [00:00<?, ?it/s]\n",
      " 81%|████████  | 8048640/9912422 [00:00<00:00, 3298408.93it/s]\n"
     ]
    },
    {
     "name": "stdout",
     "output_type": "stream",
     "text": [
      "\u001b[2m\u001b[36m(pid=15755)\u001b[0m Downloading https://ossci-datasets.s3.amazonaws.com/mnist/t10k-images-idx3-ubyte.gz to {cwd}/data/MNIST/raw/t10k-images-idx3-ubyte.gz\n"
     ]
    },
    {
     "name": "stderr",
     "output_type": "stream",
     "text": [
      " 17%|█▋        | 279552/1648877 [00:00<00:02, 517262.26it/s]\n",
      "  0%|          | 34816/9912422 [00:00<00:39, 250977.74it/s]\n",
      " 35%|███▍      | 575488/1648877 [00:00<00:01, 687436.79it/s]\n",
      "9913344it [00:00, 12664896.89it/s]                            \n",
      "  2%|▏         | 208896/9912422 [00:00<00:28, 337669.40it/s]\n",
      " 51%|█████     | 835584/1648877 [00:00<00:00, 882083.08it/s]\n",
      "  0%|          | 0/1648877 [00:00<?, ?it/s]\n"
     ]
    },
    {
     "name": "stdout",
     "output_type": "stream",
     "text": [
      "\u001b[2m\u001b[36m(pid=15807)\u001b[0m Extracting {cwd}/data/MNIST/raw/train-images-idx3-ubyte.gz to {cwd}/data/MNIST/raw\n",
      "\u001b[2m\u001b[36m(pid=15729)\u001b[0m Downloading https://ossci-datasets.s3.amazonaws.com/mnist/t10k-labels-idx1-ubyte.gz to {cwd}/data/MNIST/raw/t10k-labels-idx1-ubyte.gz\n",
      "\u001b[2m\u001b[36m(pid=15793)\u001b[0m \n",
      "\u001b[2m\u001b[36m(pid=15793)\u001b[0m Downloading http://yann.lecun.com/exdb/mnist/train-labels-idx1-ubyte.gz\n"
     ]
    },
    {
     "name": "stderr",
     "output_type": "stream",
     "text": [
      "  8%|▊         | 835584/9912422 [00:00<00:19, 470606.82it/s]\n",
      " 63%|██████▎   | 1044480/1648877 [00:00<00:00, 1057101.98it/s]\n",
      "  2%|▏         | 34816/1648877 [00:00<00:05, 284339.11it/s]\n",
      " 20%|██        | 2020352/9912422 [00:00<00:11, 661040.68it/s]\n",
      " 82%|████████▏ | 1357824/1648877 [00:00<00:00, 1303066.40it/s]\n"
     ]
    },
    {
     "name": "stdout",
     "output_type": "stream",
     "text": [
      "\u001b[2m\u001b[36m(pid=15793)\u001b[0m Failed to download (trying next):\n",
      "\u001b[2m\u001b[36m(pid=15793)\u001b[0m HTTP Error 503: Service Unavailable\n",
      "\u001b[2m\u001b[36m(pid=15793)\u001b[0m \n",
      "\u001b[2m\u001b[36m(pid=15793)\u001b[0m Downloading https://ossci-datasets.s3.amazonaws.com/mnist/train-labels-idx1-ubyte.gz\n",
      "\u001b[2m\u001b[36m(pid=15753)\u001b[0m Extracting {cwd}/data/MNIST/raw/t10k-images-idx3-ubyte.gz to {cwd}/data/MNIST/raw\n"
     ]
    },
    {
     "name": "stderr",
     "output_type": "stream",
     "text": [
      " 34%|███▍      | 3407872/9912422 [00:00<00:07, 912802.68it/s]\n",
      " 11%|█         | 174080/1648877 [00:00<00:04, 347537.70it/s]\n",
      "1649664it [00:00, 1873157.37it/s]                             \n",
      " 47%|████▋     | 4651008/9912422 [00:00<00:04, 1262065.69it/s]\n",
      " 21%|██        | 348160/1648877 [00:00<00:02, 436384.73it/s]\n"
     ]
    },
    {
     "name": "stdout",
     "output_type": "stream",
     "text": [
      "\u001b[2m\u001b[36m(pid=15729)\u001b[0m Extracting {cwd}/data/MNIST/raw/t10k-labels-idx1-ubyte.gz to {cwd}/data/MNIST/raw\n",
      "\u001b[2m\u001b[36m(pid=15729)\u001b[0m \n",
      "\u001b[2m\u001b[36m(pid=15793)\u001b[0m Downloading https://ossci-datasets.s3.amazonaws.com/mnist/train-labels-idx1-ubyte.gz to {cwd}/data/MNIST/raw/train-labels-idx1-ubyte.gz\n",
      "\u001b[2m\u001b[36m(pid=15805)\u001b[0m \n",
      "\u001b[2m\u001b[36m(pid=15805)\u001b[0m Downloading http://yann.lecun.com/exdb/mnist/train-labels-idx1-ubyte.gz\n"
     ]
    },
    {
     "name": "stderr",
     "output_type": "stream",
     "text": [
      " 55%|█████▍    | 5424128/9912422 [00:00<00:02, 1676675.88it/s]\n",
      " 31%|███       | 504832/1648877 [00:00<00:02, 556456.23it/s]\n",
      "5120it [00:00, 1097727.16it/s]          \n",
      " 77%|███████▋  | 7602176/9912422 [00:00<00:01, 2309687.54it/s]\n",
      "\u001b[2m\u001b[36m(pid=15729)\u001b[0m /home/therealchainman/miniconda3/lib/python3.8/site-packages/torchvision/datasets/mnist.py:498: UserWarning: The given NumPy array is not writeable, and PyTorch does not support non-writeable tensors. This means you can write to the underlying (supposedly non-writeable) NumPy array using the tensor. You may want to copy the array to protect its data or make it writeable before converting it to a tensor. This type of warning will be suppressed for the rest of this program. (Triggered internally at  /pytorch/torch/csrc/utils/tensor_numpy.cpp:180.)"
     ]
    },
    {
     "data": {
      "text/html": [
       "== Status ==<br>Memory usage on this node: 5.0/15.5 GiB<br>Using FIFO scheduling algorithm.<br>Resources requested: 8.0/8 CPUs, 0/0 GPUs, 0.0/8.04 GiB heap, 0.0/4.02 GiB objects<br>Result logdir: /home/therealchainman/ray_results/train_mnist_2021-06-22_16-33-11<br>Number of trials: 9/10 (1 PENDING, 8 RUNNING)<br><table>\n",
       "<thead>\n",
       "<tr><th>Trial name          </th><th>status  </th><th>loc                </th><th style=\"text-align: right;\">     lr</th><th style=\"text-align: right;\">  momentum</th><th style=\"text-align: right;\">    acc</th><th style=\"text-align: right;\">  iter</th><th style=\"text-align: right;\">  total time (s)</th></tr>\n",
       "</thead>\n",
       "<tbody>\n",
       "<tr><td>train_mnist_71abf396</td><td>RUNNING </td><td>192.168.1.106:15534</td><td style=\"text-align: right;\">1.09208</td><td style=\"text-align: right;\">  0.166771</td><td style=\"text-align: right;\">0.09375</td><td style=\"text-align: right;\">     2</td><td style=\"text-align: right;\">         8.39725</td></tr>\n",
       "<tr><td>train_mnist_71abf397</td><td>RUNNING </td><td>                   </td><td style=\"text-align: right;\">1.06363</td><td style=\"text-align: right;\">  0.376857</td><td style=\"text-align: right;\">       </td><td style=\"text-align: right;\">      </td><td style=\"text-align: right;\">                </td></tr>\n",
       "<tr><td>train_mnist_71abf398</td><td>RUNNING </td><td>                   </td><td style=\"text-align: right;\">1.01239</td><td style=\"text-align: right;\">  0.149677</td><td style=\"text-align: right;\">       </td><td style=\"text-align: right;\">      </td><td style=\"text-align: right;\">                </td></tr>\n",
       "<tr><td>train_mnist_71abf399</td><td>RUNNING </td><td>                   </td><td style=\"text-align: right;\">1.06761</td><td style=\"text-align: right;\">  0.250371</td><td style=\"text-align: right;\">       </td><td style=\"text-align: right;\">      </td><td style=\"text-align: right;\">                </td></tr>\n",
       "<tr><td>train_mnist_71abf39a</td><td>RUNNING </td><td>                   </td><td style=\"text-align: right;\">1.0686 </td><td style=\"text-align: right;\">  0.144051</td><td style=\"text-align: right;\">       </td><td style=\"text-align: right;\">      </td><td style=\"text-align: right;\">                </td></tr>\n",
       "<tr><td>train_mnist_73012b26</td><td>RUNNING </td><td>                   </td><td style=\"text-align: right;\">1.07137</td><td style=\"text-align: right;\">  0.192747</td><td style=\"text-align: right;\">       </td><td style=\"text-align: right;\">      </td><td style=\"text-align: right;\">                </td></tr>\n",
       "<tr><td>train_mnist_73012b27</td><td>RUNNING </td><td>                   </td><td style=\"text-align: right;\">1.09214</td><td style=\"text-align: right;\">  0.261777</td><td style=\"text-align: right;\">       </td><td style=\"text-align: right;\">      </td><td style=\"text-align: right;\">                </td></tr>\n",
       "<tr><td>train_mnist_73012b28</td><td>RUNNING </td><td>                   </td><td style=\"text-align: right;\">1.00548</td><td style=\"text-align: right;\">  0.483111</td><td style=\"text-align: right;\">       </td><td style=\"text-align: right;\">      </td><td style=\"text-align: right;\">                </td></tr>\n",
       "<tr><td>train_mnist_73d4ab04</td><td>PENDING </td><td>                   </td><td style=\"text-align: right;\">1.04986</td><td style=\"text-align: right;\">  0.617687</td><td style=\"text-align: right;\">       </td><td style=\"text-align: right;\">      </td><td style=\"text-align: right;\">                </td></tr>\n",
       "</tbody>\n",
       "</table><br><br>"
      ],
      "text/plain": [
       "<IPython.core.display.HTML object>"
      ]
     },
     "metadata": {},
     "output_type": "display_data"
    },
    {
     "name": "stderr",
     "output_type": "stream",
     "text": [
      "\n",
      "\u001b[2m\u001b[36m(pid=15729)\u001b[0m   return torch.from_numpy(parsed.astype(m[2], copy=False)).view(*s)\n",
      " 41%|████      | 678912/1648877 [00:00<00:01, 686547.81it/s]\n",
      "\u001b[2m\u001b[36m(pid=15729)\u001b[0m /home/therealchainman/miniconda3/lib/python3.8/site-packages/torch/nn/functional.py:718: UserWarning: Named tensors and all their associated APIs are an experimental feature and subject to change. Please do not use them for anything important until they are released as stable. (Triggered internally at  /pytorch/c10/core/TensorImpl.h:1156.)\n",
      "\u001b[2m\u001b[36m(pid=15729)\u001b[0m   return torch.max_pool2d(input, kernel_size, stride, padding, dilation, ceil_mode)\n",
      " 92%|█████████▏| 9076736/9912422 [00:01<00:00, 3077187.47it/s]\n"
     ]
    },
    {
     "name": "stdout",
     "output_type": "stream",
     "text": [
      "\u001b[2m\u001b[36m(pid=15753)\u001b[0m \n",
      "\u001b[2m\u001b[36m(pid=15753)\u001b[0m Downloading http://yann.lecun.com/exdb/mnist/t10k-labels-idx1-ubyte.gz\n"
     ]
    },
    {
     "name": "stderr",
     "output_type": "stream",
     "text": [
      " 52%|█████▏    | 851968/1648877 [00:00<00:00, 832180.28it/s]\n",
      "9913344it [00:01, 8966240.70it/s]                             \n",
      " 67%|██████▋   | 1096704/1648877 [00:00<00:00, 1000806.62it/s]\n",
      "  0%|          | 0/28881 [00:00<?, ?it/s]\n"
     ]
    },
    {
     "name": "stdout",
     "output_type": "stream",
     "text": [
      "\u001b[2m\u001b[36m(pid=15866)\u001b[0m Extracting {cwd}/data/MNIST/raw/train-images-idx3-ubyte.gz to {cwd}/data/MNIST/raw\n",
      "\u001b[2m\u001b[36m(pid=15753)\u001b[0m Failed to download (trying next):\n",
      "\u001b[2m\u001b[36m(pid=15753)\u001b[0m HTTP Error 503: Service Unavailable\n",
      "\u001b[2m\u001b[36m(pid=15753)\u001b[0m \n",
      "\u001b[2m\u001b[36m(pid=15753)\u001b[0m Downloading https://ossci-datasets.s3.amazonaws.com/mnist/t10k-labels-idx1-ubyte.gz\n",
      "\u001b[2m\u001b[36m(pid=15805)\u001b[0m Failed to download (trying next):\n",
      "\u001b[2m\u001b[36m(pid=15805)\u001b[0m HTTP Error 503: Service Unavailable\n",
      "\u001b[2m\u001b[36m(pid=15805)\u001b[0m \n",
      "\u001b[2m\u001b[36m(pid=15805)\u001b[0m Downloading https://ossci-datasets.s3.amazonaws.com/mnist/train-labels-idx1-ubyte.gz\n"
     ]
    },
    {
     "name": "stderr",
     "output_type": "stream",
     "text": [
      "29696it [00:00, 648499.47it/s]           \n"
     ]
    },
    {
     "name": "stdout",
     "output_type": "stream",
     "text": [
      "\u001b[2m\u001b[36m(pid=15793)\u001b[0m Extracting {cwd}/data/MNIST/raw/train-labels-idx1-ubyte.gz to {cwd}/data/MNIST/raw\n",
      "\u001b[2m\u001b[36m(pid=15793)\u001b[0m \n",
      "\u001b[2m\u001b[36m(pid=15793)\u001b[0m Downloading http://yann.lecun.com/exdb/mnist/t10k-images-idx3-ubyte.gz\n",
      "\u001b[2m\u001b[36m(pid=15753)\u001b[0m Downloading https://ossci-datasets.s3.amazonaws.com/mnist/t10k-labels-idx1-ubyte.gz to {cwd}/data/MNIST/raw/t10k-labels-idx1-ubyte.gz\n",
      "\u001b[2m\u001b[36m(pid=15805)\u001b[0m Downloading https://ossci-datasets.s3.amazonaws.com/mnist/train-labels-idx1-ubyte.gz to {cwd}/data/MNIST/raw/train-labels-idx1-ubyte.gz\n",
      "\u001b[2m\u001b[36m(pid=15807)\u001b[0m \n",
      "\u001b[2m\u001b[36m(pid=15807)\u001b[0m Downloading http://yann.lecun.com/exdb/mnist/train-labels-idx1-ubyte.gz\n",
      "Result for train_mnist_71abf397:\n",
      "  date: 2021-06-22_16-33-22\n",
      "  done: false\n",
      "  experiment_id: 1d80906909414938bd5c0d2f98373d3e\n",
      "  hostname: therealchainman\n",
      "  iterations_since_restore: 1\n",
      "  mean_accuracy: 0.0875\n",
      "  node_ip: 192.168.1.106\n",
      "  pid: 15729\n",
      "  time_since_restore: 9.006824970245361\n",
      "  time_this_iter_s: 9.006824970245361\n",
      "  time_total_s: 9.006824970245361\n",
      "  timestamp: 1624397602\n",
      "  timesteps_since_restore: 0\n",
      "  training_iteration: 1\n",
      "  trial_id: 71abf397\n",
      "  \n",
      "\u001b[2m\u001b[36m(pid=15793)\u001b[0m Failed to download (trying next):\n",
      "\u001b[2m\u001b[36m(pid=15793)\u001b[0m HTTP Error 503: Service Unavailable\n",
      "\u001b[2m\u001b[36m(pid=15793)\u001b[0m \n",
      "\u001b[2m\u001b[36m(pid=15793)\u001b[0m Downloading https://ossci-datasets.s3.amazonaws.com/mnist/t10k-images-idx3-ubyte.gz\n"
     ]
    },
    {
     "name": "stderr",
     "output_type": "stream",
     "text": [
      " 80%|████████  | 1323008/1648877 [00:01<00:00, 1193228.95it/s]\n"
     ]
    },
    {
     "name": "stdout",
     "output_type": "stream",
     "text": [
      "\u001b[2m\u001b[36m(pid=15755)\u001b[0m Extracting {cwd}/data/MNIST/raw/t10k-images-idx3-ubyte.gz to {cwd}/data/MNIST/raw\n"
     ]
    },
    {
     "name": "stderr",
     "output_type": "stream",
     "text": [
      "1649664it [00:01, 1387281.70it/s]                             \n"
     ]
    },
    {
     "name": "stdout",
     "output_type": "stream",
     "text": [
      "\u001b[2m\u001b[36m(pid=15755)\u001b[0m \n",
      "\u001b[2m\u001b[36m(pid=15755)\u001b[0m Downloading http://yann.lecun.com/exdb/mnist/t10k-labels-idx1-ubyte.gz\n",
      "\u001b[2m\u001b[36m(pid=15753)\u001b[0m Extracting {cwd}/data/MNIST/raw/t10k-labels-idx1-ubyte.gz to {cwd}/data/MNIST/raw\n",
      "\u001b[2m\u001b[36m(pid=15753)\u001b[0m \n",
      "\u001b[2m\u001b[36m(pid=15866)\u001b[0m \n",
      "\u001b[2m\u001b[36m(pid=15866)\u001b[0m Downloading http://yann.lecun.com/exdb/mnist/train-labels-idx1-ubyte.gz\n",
      "\u001b[2m\u001b[36m(pid=15793)\u001b[0m Downloading https://ossci-datasets.s3.amazonaws.com/mnist/t10k-images-idx3-ubyte.gz to {cwd}/data/MNIST/raw/t10k-images-idx3-ubyte.gz\n",
      "\u001b[2m\u001b[36m(pid=15805)\u001b[0m Extracting {cwd}/data/MNIST/raw/train-labels-idx1-ubyte.gz to {cwd}/data/MNIST/raw\n",
      "\u001b[2m\u001b[36m(pid=15805)\u001b[0m \n",
      "\u001b[2m\u001b[36m(pid=15805)\u001b[0m Downloading http://yann.lecun.com/exdb/mnist/t10k-images-idx3-ubyte.gz\n",
      "\u001b[2m\u001b[36m(pid=15755)\u001b[0m Failed to download (trying next):\n",
      "\u001b[2m\u001b[36m(pid=15755)\u001b[0m HTTP Error 503: Service Unavailable\n",
      "\u001b[2m\u001b[36m(pid=15755)\u001b[0m \n",
      "\u001b[2m\u001b[36m(pid=15755)\u001b[0m Downloading https://ossci-datasets.s3.amazonaws.com/mnist/t10k-labels-idx1-ubyte.gz\n"
     ]
    },
    {
     "name": "stderr",
     "output_type": "stream",
     "text": [
      "5120it [00:00, 3281607.04it/s]          \n",
      "  0%|          | 0/28881 [00:00<?, ?it/s]\n",
      "\u001b[2m\u001b[36m(pid=15753)\u001b[0m /home/therealchainman/miniconda3/lib/python3.8/site-packages/torchvision/datasets/mnist.py:498: UserWarning: The given NumPy array is not writeable, and PyTorch does not support non-writeable tensors. This means you can write to the underlying (supposedly non-writeable) NumPy array using the tensor. You may want to copy the array to protect its data or make it writeable before converting it to a tensor. This type of warning will be suppressed for the rest of this program. (Triggered internally at  /pytorch/torch/csrc/utils/tensor_numpy.cpp:180.)\n",
      "\u001b[2m\u001b[36m(pid=15753)\u001b[0m   return torch.from_numpy(parsed.astype(m[2], copy=False)).view(*s)\n",
      "\u001b[2m\u001b[36m(pid=15753)\u001b[0m /home/therealchainman/miniconda3/lib/python3.8/site-packages/torch/nn/functional.py:718: UserWarning: Named tensors and all their associated APIs are an experimental feature and subject to change. Please do not use them for anything important until they are released as stable. (Triggered internally at  /pytorch/c10/core/TensorImpl.h:1156.)\n",
      "\u001b[2m\u001b[36m(pid=15753)\u001b[0m   return torch.max_pool2d(input, kernel_size, stride, padding, dilation, ceil_mode)\n",
      "29696it [00:00, 693006.46it/s]           \n"
     ]
    },
    {
     "name": "stdout",
     "output_type": "stream",
     "text": [
      "\u001b[2m\u001b[36m(pid=15805)\u001b[0m Failed to download (trying next):\n",
      "\u001b[2m\u001b[36m(pid=15805)\u001b[0m HTTP Error 503: Service Unavailable\n",
      "\u001b[2m\u001b[36m(pid=15805)\u001b[0m \n",
      "\u001b[2m\u001b[36m(pid=15805)\u001b[0m Downloading https://ossci-datasets.s3.amazonaws.com/mnist/t10k-images-idx3-ubyte.gz\n",
      "\u001b[2m\u001b[36m(pid=15866)\u001b[0m Failed to download (trying next):\n",
      "\u001b[2m\u001b[36m(pid=15866)\u001b[0m HTTP Error 503: Service Unavailable\n",
      "\u001b[2m\u001b[36m(pid=15866)\u001b[0m \n",
      "\u001b[2m\u001b[36m(pid=15866)\u001b[0m Downloading https://ossci-datasets.s3.amazonaws.com/mnist/train-labels-idx1-ubyte.gz\n",
      "\u001b[2m\u001b[36m(pid=15755)\u001b[0m Downloading https://ossci-datasets.s3.amazonaws.com/mnist/t10k-labels-idx1-ubyte.gz to {cwd}/data/MNIST/raw/t10k-labels-idx1-ubyte.gz\n",
      "\u001b[2m\u001b[36m(pid=15807)\u001b[0m Failed to download (trying next):\n",
      "\u001b[2m\u001b[36m(pid=15807)\u001b[0m HTTP Error 503: Service Unavailable\n",
      "\u001b[2m\u001b[36m(pid=15807)\u001b[0m \n",
      "\u001b[2m\u001b[36m(pid=15807)\u001b[0m Downloading https://ossci-datasets.s3.amazonaws.com/mnist/train-labels-idx1-ubyte.gz\n",
      "\u001b[2m\u001b[36m(pid=15866)\u001b[0m Downloading https://ossci-datasets.s3.amazonaws.com/mnist/train-labels-idx1-ubyte.gz to {cwd}/data/MNIST/raw/train-labels-idx1-ubyte.gz\n"
     ]
    },
    {
     "name": "stderr",
     "output_type": "stream",
     "text": [
      "  0%|          | 0/1648877 [00:00<?, ?it/s]\n",
      "  5%|▌         | 87040/1648877 [00:00<00:02, 669964.23it/s]\n"
     ]
    },
    {
     "name": "stdout",
     "output_type": "stream",
     "text": [
      "\u001b[2m\u001b[36m(pid=15805)\u001b[0m Downloading https://ossci-datasets.s3.amazonaws.com/mnist/t10k-images-idx3-ubyte.gz to {cwd}/data/MNIST/raw/t10k-images-idx3-ubyte.gz\n",
      "Result for train_mnist_71abf398:\n",
      "  date: 2021-06-22_16-33-22\n",
      "  done: false\n",
      "  experiment_id: 303fee2bd3874ed7b430abe748593453\n",
      "  hostname: therealchainman\n",
      "  iterations_since_restore: 1\n",
      "  mean_accuracy: 0.025\n",
      "  node_ip: 192.168.1.106\n",
      "  pid: 15753\n",
      "  time_since_restore: 8.491253852844238\n",
      "  time_this_iter_s: 8.491253852844238\n",
      "  time_total_s: 8.491253852844238\n",
      "  timestamp: 1624397602\n",
      "  timesteps_since_restore: 0\n",
      "  training_iteration: 1\n",
      "  trial_id: 71abf398\n",
      "  \n",
      "\u001b[2m\u001b[36m(pid=15755)\u001b[0m Extracting {cwd}/data/MNIST/raw/t10k-labels-idx1-ubyte.gz to {cwd}/data/MNIST/raw\n",
      "\u001b[2m\u001b[36m(pid=15755)\u001b[0m \n",
      "\u001b[2m\u001b[36m(pid=15807)\u001b[0m Downloading https://ossci-datasets.s3.amazonaws.com/mnist/train-labels-idx1-ubyte.gz to {cwd}/data/MNIST/raw/train-labels-idx1-ubyte.gz\n"
     ]
    },
    {
     "name": "stderr",
     "output_type": "stream",
     "text": [
      "5120it [00:00, 2951867.56it/s]          \n",
      "\u001b[2m\u001b[36m(pid=15755)\u001b[0m /home/therealchainman/miniconda3/lib/python3.8/site-packages/torchvision/datasets/mnist.py:498: UserWarning: The given NumPy array is not writeable, and PyTorch does not support non-writeable tensors. This means you can write to the underlying (supposedly non-writeable) NumPy array using the tensor. You may want to copy the array to protect its data or make it writeable before converting it to a tensor. This type of warning will be suppressed for the rest of this program. (Triggered internally at  /pytorch/torch/csrc/utils/tensor_numpy.cpp:180.)\n",
      "\u001b[2m\u001b[36m(pid=15755)\u001b[0m   return torch.from_numpy(parsed.astype(m[2], copy=False)).view(*s)\n",
      "  8%|▊         | 139264/1648877 [00:00<00:02, 581898.66it/s]\n",
      "\u001b[2m\u001b[36m(pid=15755)\u001b[0m /home/therealchainman/miniconda3/lib/python3.8/site-packages/torch/nn/functional.py:718: UserWarning: Named tensors and all their associated APIs are an experimental feature and subject to change. Please do not use them for anything important until they are released as stable. (Triggered internally at  /pytorch/c10/core/TensorImpl.h:1156.)\n",
      "\u001b[2m\u001b[36m(pid=15755)\u001b[0m   return torch.max_pool2d(input, kernel_size, stride, padding, dilation, ceil_mode)\n",
      " 33%|███▎      | 539648/1648877 [00:00<00:01, 781241.53it/s]\n",
      "29696it [00:00, 607157.21it/s]           \n",
      " 60%|██████    | 992256/1648877 [00:00<00:00, 1034526.97it/s]\n",
      "  0%|          | 0/28881 [00:00<?, ?it/s]\n"
     ]
    },
    {
     "name": "stdout",
     "output_type": "stream",
     "text": [
      "\u001b[2m\u001b[36m(pid=15866)\u001b[0m Extracting {cwd}/data/MNIST/raw/train-labels-idx1-ubyte.gz to {cwd}/data/MNIST/raw\n",
      "\u001b[2m\u001b[36m(pid=15866)\u001b[0m \n",
      "\u001b[2m\u001b[36m(pid=15866)\u001b[0m Downloading http://yann.lecun.com/exdb/mnist/t10k-images-idx3-ubyte.gz\n",
      "\u001b[2m\u001b[36m(pid=15807)\u001b[0m Extracting {cwd}/data/MNIST/raw/train-labels-idx1-ubyte.gz to {cwd}/data/MNIST/raw\n",
      "\u001b[2m\u001b[36m(pid=15807)\u001b[0m \n",
      "\u001b[2m\u001b[36m(pid=15807)\u001b[0m Downloading http://yann.lecun.com/exdb/mnist/t10k-images-idx3-ubyte.gz\n",
      "\u001b[2m\u001b[36m(pid=15866)\u001b[0m Failed to download (trying next):\n",
      "\u001b[2m\u001b[36m(pid=15866)\u001b[0m HTTP Error 503: Service Unavailable\n",
      "\u001b[2m\u001b[36m(pid=15866)\u001b[0m \n",
      "\u001b[2m\u001b[36m(pid=15866)\u001b[0m Downloading https://ossci-datasets.s3.amazonaws.com/mnist/t10k-images-idx3-ubyte.gz\n"
     ]
    },
    {
     "name": "stderr",
     "output_type": "stream",
     "text": [
      "29696it [00:00, 607166.09it/s]           \n",
      "1649664it [00:00, 2725335.03it/s]                             \n",
      "  0%|          | 0/1648877 [00:00<?, ?it/s]\n"
     ]
    },
    {
     "name": "stdout",
     "output_type": "stream",
     "text": [
      "\u001b[2m\u001b[36m(pid=15793)\u001b[0m Extracting {cwd}/data/MNIST/raw/t10k-images-idx3-ubyte.gz to {cwd}/data/MNIST/raw\n",
      "\u001b[2m\u001b[36m(pid=15793)\u001b[0m \n",
      "\u001b[2m\u001b[36m(pid=15793)\u001b[0m Downloading http://yann.lecun.com/exdb/mnist/t10k-labels-idx1-ubyte.gz\n",
      "\u001b[2m\u001b[36m(pid=15807)\u001b[0m Failed to download (trying next):\n",
      "\u001b[2m\u001b[36m(pid=15807)\u001b[0m HTTP Error 503: Service Unavailable\n",
      "\u001b[2m\u001b[36m(pid=15807)\u001b[0m \n",
      "\u001b[2m\u001b[36m(pid=15807)\u001b[0m Downloading https://ossci-datasets.s3.amazonaws.com/mnist/t10k-images-idx3-ubyte.gz\n",
      "Result for train_mnist_71abf399:\n",
      "  date: 2021-06-22_16-33-23\n",
      "  done: false\n",
      "  experiment_id: 1b8a696e184e4fc79a367689845945af\n",
      "  hostname: therealchainman\n",
      "  iterations_since_restore: 1\n",
      "  mean_accuracy: 0.090625\n",
      "  node_ip: 192.168.1.106\n",
      "  pid: 15755\n",
      "  time_since_restore: 7.787755966186523\n",
      "  time_this_iter_s: 7.787755966186523\n",
      "  time_total_s: 7.787755966186523\n",
      "  timestamp: 1624397603\n",
      "  timesteps_since_restore: 0\n",
      "  training_iteration: 1\n",
      "  trial_id: 71abf399\n",
      "  \n",
      "\u001b[2m\u001b[36m(pid=15866)\u001b[0m Downloading https://ossci-datasets.s3.amazonaws.com/mnist/t10k-images-idx3-ubyte.gz to {cwd}/data/MNIST/raw/t10k-images-idx3-ubyte.gz\n",
      "\u001b[2m\u001b[36m(pid=15793)\u001b[0m Failed to download (trying next):\n",
      "\u001b[2m\u001b[36m(pid=15793)\u001b[0m HTTP Error 503: Service Unavailable\n",
      "\u001b[2m\u001b[36m(pid=15793)\u001b[0m \n",
      "\u001b[2m\u001b[36m(pid=15793)\u001b[0m Downloading https://ossci-datasets.s3.amazonaws.com/mnist/t10k-labels-idx1-ubyte.gz\n"
     ]
    },
    {
     "name": "stderr",
     "output_type": "stream",
     "text": [
      "  4%|▍         | 69632/1648877 [00:00<00:02, 552772.26it/s]\n",
      " 30%|██▉       | 487424/1648877 [00:00<00:01, 731390.91it/s]\n"
     ]
    },
    {
     "name": "stdout",
     "output_type": "stream",
     "text": [
      "\u001b[2m\u001b[36m(pid=15807)\u001b[0m Downloading https://ossci-datasets.s3.amazonaws.com/mnist/t10k-images-idx3-ubyte.gz to {cwd}/data/MNIST/raw/t10k-images-idx3-ubyte.gz\n",
      "\u001b[2m\u001b[36m(pid=15793)\u001b[0m Downloading https://ossci-datasets.s3.amazonaws.com/mnist/t10k-labels-idx1-ubyte.gz to {cwd}/data/MNIST/raw/t10k-labels-idx1-ubyte.gz\n",
      "\u001b[2m\u001b[36m(pid=15805)\u001b[0m Extracting {cwd}/data/MNIST/raw/t10k-images-idx3-ubyte.gz to {cwd}/data/MNIST/raw\n"
     ]
    },
    {
     "name": "stderr",
     "output_type": "stream",
     "text": [
      " 67%|██████▋   | 1103872/1648877 [00:00<00:00, 994283.01it/s]\n",
      "  0%|          | 0/1648877 [00:00<?, ?it/s]\n",
      " 96%|█████████▌| 1584128/1648877 [00:00<00:00, 1304484.15it/s]\n",
      "1649664it [00:00, 3219880.86it/s]                             \n",
      "  0%|          | 0/1648877 [00:00<?, ?it/s]\n",
      "  4%|▍         | 69632/1648877 [00:00<00:03, 453531.22it/s]\n"
     ]
    },
    {
     "name": "stdout",
     "output_type": "stream",
     "text": [
      "\u001b[2m\u001b[36m(pid=15805)\u001b[0m \n",
      "\u001b[2m\u001b[36m(pid=15805)\u001b[0m Downloading http://yann.lecun.com/exdb/mnist/t10k-labels-idx1-ubyte.gz\n",
      "\u001b[2m\u001b[36m(pid=15793)\u001b[0m Extracting {cwd}/data/MNIST/raw/t10k-labels-idx1-ubyte.gz to {cwd}/data/MNIST/raw\n",
      "\u001b[2m\u001b[36m(pid=15793)\u001b[0m \n",
      "\u001b[2m\u001b[36m(pid=15805)\u001b[0m Failed to download (trying next):\n",
      "\u001b[2m\u001b[36m(pid=15805)\u001b[0m HTTP Error 503: Service Unavailable\n",
      "\u001b[2m\u001b[36m(pid=15805)\u001b[0m \n",
      "\u001b[2m\u001b[36m(pid=15805)\u001b[0m Downloading https://ossci-datasets.s3.amazonaws.com/mnist/t10k-labels-idx1-ubyte.gz\n"
     ]
    },
    {
     "name": "stderr",
     "output_type": "stream",
     "text": [
      " 21%|██        | 348160/1648877 [00:00<00:02, 605369.00it/s]\n",
      "5120it [00:00, 3247857.91it/s]          \n",
      "  4%|▍         | 69632/1648877 [00:00<00:02, 545899.32it/s]\n",
      "\u001b[2m\u001b[36m(pid=15793)\u001b[0m /home/therealchainman/miniconda3/lib/python3.8/site-packages/torchvision/datasets/mnist.py:498: UserWarning: The given NumPy array is not writeable, and PyTorch does not support non-writeable tensors. This means you can write to the underlying (supposedly non-writeable) NumPy array using the tensor. You may want to copy the array to protect its data or make it writeable before converting it to a tensor. This type of warning will be suppressed for the rest of this program. (Triggered internally at  /pytorch/torch/csrc/utils/tensor_numpy.cpp:180.)\n",
      "\u001b[2m\u001b[36m(pid=15793)\u001b[0m   return torch.from_numpy(parsed.astype(m[2], copy=False)).view(*s)\n",
      " 39%|███▉      | 644096/1648877 [00:00<00:01, 782470.11it/s]\n",
      "\u001b[2m\u001b[36m(pid=15793)\u001b[0m /home/therealchainman/miniconda3/lib/python3.8/site-packages/torch/nn/functional.py:718: UserWarning: Named tensors and all their associated APIs are an experimental feature and subject to change. Please do not use them for anything important until they are released as stable. (Triggered internally at  /pytorch/c10/core/TensorImpl.h:1156.)\n",
      "\u001b[2m\u001b[36m(pid=15793)\u001b[0m   return torch.max_pool2d(input, kernel_size, stride, padding, dilation, ceil_mode)\n",
      " 30%|██▉       | 487424/1648877 [00:00<00:01, 723847.15it/s]\n",
      " 67%|██████▋   | 1096704/1648877 [00:00<00:00, 1018663.37it/s]\n",
      " 58%|█████▊    | 957440/1648877 [00:00<00:00, 965796.06it/s]\n",
      " 90%|████████▉ | 1479680/1648877 [00:00<00:00, 1295625.58it/s]\n",
      "1649664it [00:00, 3290423.95it/s]                             \n",
      "1649664it [00:00, 2542492.44it/s]                             \n"
     ]
    },
    {
     "name": "stdout",
     "output_type": "stream",
     "text": [
      "\u001b[2m\u001b[36m(pid=15805)\u001b[0m Downloading https://ossci-datasets.s3.amazonaws.com/mnist/t10k-labels-idx1-ubyte.gz to {cwd}/data/MNIST/raw/t10k-labels-idx1-ubyte.gz\n",
      "\u001b[2m\u001b[36m(pid=15807)\u001b[0m Extracting {cwd}/data/MNIST/raw/t10k-images-idx3-ubyte.gz to {cwd}/data/MNIST/raw\n",
      "\u001b[2m\u001b[36m(pid=15866)\u001b[0m Extracting {cwd}/data/MNIST/raw/t10k-images-idx3-ubyte.gz to {cwd}/data/MNIST/raw\n",
      "\u001b[2m\u001b[36m(pid=15866)\u001b[0m \n",
      "\u001b[2m\u001b[36m(pid=15866)\u001b[0m Downloading http://yann.lecun.com/exdb/mnist/t10k-labels-idx1-ubyte.gz\n",
      "\u001b[2m\u001b[36m(pid=15807)\u001b[0m \n",
      "\u001b[2m\u001b[36m(pid=15807)\u001b[0m Downloading http://yann.lecun.com/exdb/mnist/t10k-labels-idx1-ubyte.gz\n",
      "\u001b[2m\u001b[36m(pid=15866)\u001b[0m Failed to download (trying next):\n",
      "\u001b[2m\u001b[36m(pid=15866)\u001b[0m HTTP Error 503: Service Unavailable\n",
      "\u001b[2m\u001b[36m(pid=15866)\u001b[0m \n",
      "\u001b[2m\u001b[36m(pid=15866)\u001b[0m Downloading https://ossci-datasets.s3.amazonaws.com/mnist/t10k-labels-idx1-ubyte.gz\n",
      "\u001b[2m\u001b[36m(pid=15805)\u001b[0m Extracting {cwd}/data/MNIST/raw/t10k-labels-idx1-ubyte.gz to {cwd}/data/MNIST/raw\n",
      "\u001b[2m\u001b[36m(pid=15805)\u001b[0m \n",
      "\u001b[2m\u001b[36m(pid=15807)\u001b[0m Failed to download (trying next):\n",
      "\u001b[2m\u001b[36m(pid=15807)\u001b[0m HTTP Error 503: Service Unavailable\n",
      "\u001b[2m\u001b[36m(pid=15807)\u001b[0m \n",
      "\u001b[2m\u001b[36m(pid=15807)\u001b[0m Downloading https://ossci-datasets.s3.amazonaws.com/mnist/t10k-labels-idx1-ubyte.gz\n",
      "Result for train_mnist_71abf39a:\n",
      "  date: 2021-06-22_16-33-24\n",
      "  done: false\n",
      "  experiment_id: f38dc07ad2f145219359edf9f1498cb4\n",
      "  hostname: therealchainman\n",
      "  iterations_since_restore: 1\n",
      "  mean_accuracy: 0.040625\n",
      "  node_ip: 192.168.1.106\n",
      "  pid: 15793\n",
      "  time_since_restore: 7.453770160675049\n",
      "  time_this_iter_s: 7.453770160675049\n",
      "  time_total_s: 7.453770160675049\n",
      "  timestamp: 1624397604\n",
      "  timesteps_since_restore: 0\n",
      "  training_iteration: 1\n",
      "  trial_id: 71abf39a\n",
      "  \n"
     ]
    },
    {
     "name": "stderr",
     "output_type": "stream",
     "text": [
      "5120it [00:00, 659081.01it/s]           \n",
      "\u001b[2m\u001b[36m(pid=15805)\u001b[0m /home/therealchainman/miniconda3/lib/python3.8/site-packages/torchvision/datasets/mnist.py:498: UserWarning: The given NumPy array is not writeable, and PyTorch does not support non-writeable tensors. This means you can write to the underlying (supposedly non-writeable) NumPy array using the tensor. You may want to copy the array to protect its data or make it writeable before converting it to a tensor. This type of warning will be suppressed for the rest of this program. (Triggered internally at  /pytorch/torch/csrc/utils/tensor_numpy.cpp:180.)\n",
      "\u001b[2m\u001b[36m(pid=15805)\u001b[0m   return torch.from_numpy(parsed.astype(m[2], copy=False)).view(*s)\n"
     ]
    },
    {
     "name": "stdout",
     "output_type": "stream",
     "text": [
      "\u001b[2m\u001b[36m(pid=15866)\u001b[0m Downloading https://ossci-datasets.s3.amazonaws.com/mnist/t10k-labels-idx1-ubyte.gz to {cwd}/data/MNIST/raw/t10k-labels-idx1-ubyte.gz\n",
      "\u001b[2m\u001b[36m(pid=15807)\u001b[0m Downloading https://ossci-datasets.s3.amazonaws.com/mnist/t10k-labels-idx1-ubyte.gz to {cwd}/data/MNIST/raw/t10k-labels-idx1-ubyte.gz\n"
     ]
    },
    {
     "name": "stderr",
     "output_type": "stream",
     "text": [
      "\u001b[2m\u001b[36m(pid=15805)\u001b[0m /home/therealchainman/miniconda3/lib/python3.8/site-packages/torch/nn/functional.py:718: UserWarning: Named tensors and all their associated APIs are an experimental feature and subject to change. Please do not use them for anything important until they are released as stable. (Triggered internally at  /pytorch/c10/core/TensorImpl.h:1156.)\n",
      "\u001b[2m\u001b[36m(pid=15805)\u001b[0m   return torch.max_pool2d(input, kernel_size, stride, padding, dilation, ceil_mode)\n"
     ]
    },
    {
     "name": "stdout",
     "output_type": "stream",
     "text": [
      "\u001b[2m\u001b[36m(pid=15866)\u001b[0m Extracting {cwd}/data/MNIST/raw/t10k-labels-idx1-ubyte.gz to {cwd}/data/MNIST/raw\n",
      "\u001b[2m\u001b[36m(pid=15866)\u001b[0m \n",
      "\u001b[2m\u001b[36m(pid=15807)\u001b[0m Extracting {cwd}/data/MNIST/raw/t10k-labels-idx1-ubyte.gz to {cwd}/data/MNIST/raw\n",
      "\u001b[2m\u001b[36m(pid=15807)\u001b[0m \n"
     ]
    },
    {
     "name": "stderr",
     "output_type": "stream",
     "text": [
      "5120it [00:00, 1260260.36it/s]          \n",
      "5120it [00:00, 276684.10it/s]           \n",
      "\u001b[2m\u001b[36m(pid=15866)\u001b[0m /home/therealchainman/miniconda3/lib/python3.8/site-packages/torchvision/datasets/mnist.py:498: UserWarning: The given NumPy array is not writeable, and PyTorch does not support non-writeable tensors. This means you can write to the underlying (supposedly non-writeable) NumPy array using the tensor. You may want to copy the array to protect its data or make it writeable before converting it to a tensor. This type of warning will be suppressed for the rest of this program. (Triggered internally at  /pytorch/torch/csrc/utils/tensor_numpy.cpp:180.)\n",
      "\u001b[2m\u001b[36m(pid=15866)\u001b[0m   return torch.from_numpy(parsed.astype(m[2], copy=False)).view(*s)\n",
      "\u001b[2m\u001b[36m(pid=15807)\u001b[0m /home/therealchainman/miniconda3/lib/python3.8/site-packages/torchvision/datasets/mnist.py:498: UserWarning: The given NumPy array is not writeable, and PyTorch does not support non-writeable tensors. This means you can write to the underlying (supposedly non-writeable) NumPy array using the tensor. You may want to copy the array to protect its data or make it writeable before converting it to a tensor. This type of warning will be suppressed for the rest of this program. (Triggered internally at  /pytorch/torch/csrc/utils/tensor_numpy.cpp:180.)\n",
      "\u001b[2m\u001b[36m(pid=15807)\u001b[0m   return torch.from_numpy(parsed.astype(m[2], copy=False)).view(*s)\n",
      "\u001b[2m\u001b[36m(pid=15866)\u001b[0m /home/therealchainman/miniconda3/lib/python3.8/site-packages/torch/nn/functional.py:718: UserWarning: Named tensors and all their associated APIs are an experimental feature and subject to change. Please do not use them for anything important until they are released as stable. (Triggered internally at  /pytorch/c10/core/TensorImpl.h:1156.)\n",
      "\u001b[2m\u001b[36m(pid=15866)\u001b[0m   return torch.max_pool2d(input, kernel_size, stride, padding, dilation, ceil_mode)\n",
      "\u001b[2m\u001b[36m(pid=15807)\u001b[0m /home/therealchainman/miniconda3/lib/python3.8/site-packages/torch/nn/functional.py:718: UserWarning: Named tensors and all their associated APIs are an experimental feature and subject to change. Please do not use them for anything important until they are released as stable. (Triggered internally at  /pytorch/c10/core/TensorImpl.h:1156.)\n",
      "\u001b[2m\u001b[36m(pid=15807)\u001b[0m   return torch.max_pool2d(input, kernel_size, stride, padding, dilation, ceil_mode)\n"
     ]
    },
    {
     "name": "stdout",
     "output_type": "stream",
     "text": [
      "Result for train_mnist_71abf396:\n",
      "  date: 2021-06-22_16-33-25\n",
      "  done: false\n",
      "  experiment_id: da1b15ec361544e6af5851dc8e80b1a4\n",
      "  hostname: therealchainman\n",
      "  iterations_since_restore: 10\n",
      "  mean_accuracy: 0.1\n",
      "  node_ip: 192.168.1.106\n",
      "  pid: 15534\n",
      "  time_since_restore: 13.248454809188843\n",
      "  time_this_iter_s: 1.4119195938110352\n",
      "  time_total_s: 13.248454809188843\n",
      "  timestamp: 1624397605\n",
      "  timesteps_since_restore: 0\n",
      "  training_iteration: 10\n",
      "  trial_id: 71abf396\n",
      "  \n",
      "Result for train_mnist_71abf396:\n",
      "  date: 2021-06-22_16-33-25\n",
      "  done: true\n",
      "  experiment_id: da1b15ec361544e6af5851dc8e80b1a4\n",
      "  experiment_tag: 1_lr=1.0921,momentum=0.16677\n",
      "  hostname: therealchainman\n",
      "  iterations_since_restore: 10\n",
      "  mean_accuracy: 0.1\n",
      "  node_ip: 192.168.1.106\n",
      "  pid: 15534\n",
      "  time_since_restore: 13.248454809188843\n",
      "  time_this_iter_s: 1.4119195938110352\n",
      "  time_total_s: 13.248454809188843\n",
      "  timestamp: 1624397605\n",
      "  timesteps_since_restore: 0\n",
      "  training_iteration: 10\n",
      "  trial_id: 71abf396\n",
      "  \n",
      "Result for train_mnist_73012b26:\n",
      "  date: 2021-06-22_16-33-26\n",
      "  done: false\n",
      "  experiment_id: 2a4483be3abf49d49131e350bbd7884c\n",
      "  hostname: therealchainman\n",
      "  iterations_since_restore: 1\n",
      "  mean_accuracy: 0.1\n",
      "  node_ip: 192.168.1.106\n",
      "  pid: 15805\n",
      "  time_since_restore: 8.606948614120483\n",
      "  time_this_iter_s: 8.606948614120483\n",
      "  time_total_s: 8.606948614120483\n",
      "  timestamp: 1624397606\n",
      "  timesteps_since_restore: 0\n",
      "  training_iteration: 1\n",
      "  trial_id: 73012b26\n",
      "  \n",
      "Result for train_mnist_73012b27:\n",
      "  date: 2021-06-22_16-33-26\n",
      "  done: false\n",
      "  experiment_id: f47bd0592cac4f8baf979506dc643404\n",
      "  hostname: therealchainman\n",
      "  iterations_since_restore: 1\n",
      "  mean_accuracy: 0.090625\n",
      "  node_ip: 192.168.1.106\n",
      "  pid: 15807\n",
      "  time_since_restore: 8.471354484558105\n",
      "  time_this_iter_s: 8.471354484558105\n",
      "  time_total_s: 8.471354484558105\n",
      "  timestamp: 1624397606\n",
      "  timesteps_since_restore: 0\n",
      "  training_iteration: 1\n",
      "  trial_id: 73012b27\n",
      "  \n"
     ]
    },
    {
     "data": {
      "text/html": [
       "== Status ==<br>Memory usage on this node: 5.1/15.5 GiB<br>Using FIFO scheduling algorithm.<br>Resources requested: 8.0/8 CPUs, 0/0 GPUs, 0.0/8.04 GiB heap, 0.0/4.02 GiB objects<br>Result logdir: /home/therealchainman/ray_results/train_mnist_2021-06-22_16-33-11<br>Number of trials: 10/10 (1 PENDING, 8 RUNNING, 1 TERMINATED)<br><table>\n",
       "<thead>\n",
       "<tr><th>Trial name          </th><th>status    </th><th>loc                </th><th style=\"text-align: right;\">     lr</th><th style=\"text-align: right;\">  momentum</th><th style=\"text-align: right;\">     acc</th><th style=\"text-align: right;\">  iter</th><th style=\"text-align: right;\">  total time (s)</th></tr>\n",
       "</thead>\n",
       "<tbody>\n",
       "<tr><td>train_mnist_71abf397</td><td>RUNNING   </td><td>192.168.1.106:15729</td><td style=\"text-align: right;\">1.06363</td><td style=\"text-align: right;\">  0.376857</td><td style=\"text-align: right;\">0.13125 </td><td style=\"text-align: right;\">     8</td><td style=\"text-align: right;\">        13.0978 </td></tr>\n",
       "<tr><td>train_mnist_71abf398</td><td>RUNNING   </td><td>192.168.1.106:15753</td><td style=\"text-align: right;\">1.01239</td><td style=\"text-align: right;\">  0.149677</td><td style=\"text-align: right;\">0.115625</td><td style=\"text-align: right;\">     6</td><td style=\"text-align: right;\">        12.4023 </td></tr>\n",
       "<tr><td>train_mnist_71abf399</td><td>RUNNING   </td><td>192.168.1.106:15755</td><td style=\"text-align: right;\">1.06761</td><td style=\"text-align: right;\">  0.250371</td><td style=\"text-align: right;\">0.1     </td><td style=\"text-align: right;\">     4</td><td style=\"text-align: right;\">        10.4452 </td></tr>\n",
       "<tr><td>train_mnist_71abf39a</td><td>RUNNING   </td><td>192.168.1.106:15793</td><td style=\"text-align: right;\">1.0686 </td><td style=\"text-align: right;\">  0.144051</td><td style=\"text-align: right;\">0.078125</td><td style=\"text-align: right;\">     2</td><td style=\"text-align: right;\">         9.19134</td></tr>\n",
       "<tr><td>train_mnist_73012b26</td><td>RUNNING   </td><td>192.168.1.106:15805</td><td style=\"text-align: right;\">1.07137</td><td style=\"text-align: right;\">  0.192747</td><td style=\"text-align: right;\">0.1     </td><td style=\"text-align: right;\">     1</td><td style=\"text-align: right;\">         8.60695</td></tr>\n",
       "<tr><td>train_mnist_73012b27</td><td>RUNNING   </td><td>192.168.1.106:15807</td><td style=\"text-align: right;\">1.09214</td><td style=\"text-align: right;\">  0.261777</td><td style=\"text-align: right;\">0.090625</td><td style=\"text-align: right;\">     1</td><td style=\"text-align: right;\">         8.47135</td></tr>\n",
       "<tr><td>train_mnist_73012b28</td><td>RUNNING   </td><td>                   </td><td style=\"text-align: right;\">1.00548</td><td style=\"text-align: right;\">  0.483111</td><td style=\"text-align: right;\">        </td><td style=\"text-align: right;\">      </td><td style=\"text-align: right;\">                </td></tr>\n",
       "<tr><td>train_mnist_73d4ab04</td><td>RUNNING   </td><td>                   </td><td style=\"text-align: right;\">1.04986</td><td style=\"text-align: right;\">  0.617687</td><td style=\"text-align: right;\">        </td><td style=\"text-align: right;\">      </td><td style=\"text-align: right;\">                </td></tr>\n",
       "<tr><td>train_mnist_7a2a5cd8</td><td>PENDING   </td><td>                   </td><td style=\"text-align: right;\">1.01336</td><td style=\"text-align: right;\">  0.415122</td><td style=\"text-align: right;\">        </td><td style=\"text-align: right;\">      </td><td style=\"text-align: right;\">                </td></tr>\n",
       "<tr><td>train_mnist_71abf396</td><td>TERMINATED</td><td>                   </td><td style=\"text-align: right;\">1.09208</td><td style=\"text-align: right;\">  0.166771</td><td style=\"text-align: right;\">0.1     </td><td style=\"text-align: right;\">    10</td><td style=\"text-align: right;\">        13.2485 </td></tr>\n",
       "</tbody>\n",
       "</table><br><br>"
      ],
      "text/plain": [
       "<IPython.core.display.HTML object>"
      ]
     },
     "metadata": {},
     "output_type": "display_data"
    },
    {
     "name": "stdout",
     "output_type": "stream",
     "text": [
      "Result for train_mnist_73012b28:\n",
      "  date: 2021-06-22_16-33-27\n",
      "  done: false\n",
      "  experiment_id: 535c34dc0c134937b8b37dcaa6e7f123\n",
      "  hostname: therealchainman\n",
      "  iterations_since_restore: 1\n",
      "  mean_accuracy: 0.140625\n",
      "  node_ip: 192.168.1.106\n",
      "  pid: 15866\n",
      "  time_since_restore: 7.11986231803894\n",
      "  time_this_iter_s: 7.11986231803894\n",
      "  time_total_s: 7.11986231803894\n",
      "  timestamp: 1624397607\n",
      "  timesteps_since_restore: 0\n",
      "  training_iteration: 1\n",
      "  trial_id: 73012b28\n",
      "  \n",
      "Result for train_mnist_71abf397:\n",
      "  date: 2021-06-22_16-33-28\n",
      "  done: false\n",
      "  experiment_id: 1d80906909414938bd5c0d2f98373d3e\n",
      "  hostname: therealchainman\n",
      "  iterations_since_restore: 9\n",
      "  mean_accuracy: 0.109375\n",
      "  node_ip: 192.168.1.106\n",
      "  pid: 15729\n",
      "  time_since_restore: 14.91342282295227\n",
      "  time_this_iter_s: 1.8156371116638184\n",
      "  time_total_s: 14.91342282295227\n",
      "  timestamp: 1624397608\n",
      "  timesteps_since_restore: 0\n",
      "  training_iteration: 9\n",
      "  trial_id: 71abf397\n",
      "  \n",
      "Result for train_mnist_71abf398:\n",
      "  date: 2021-06-22_16-33-28\n",
      "  done: false\n",
      "  experiment_id: 303fee2bd3874ed7b430abe748593453\n",
      "  hostname: therealchainman\n",
      "  iterations_since_restore: 7\n",
      "  mean_accuracy: 0.103125\n",
      "  node_ip: 192.168.1.106\n",
      "  pid: 15753\n",
      "  time_since_restore: 14.097975969314575\n",
      "  time_this_iter_s: 1.6957204341888428\n",
      "  time_total_s: 14.097975969314575\n",
      "  timestamp: 1624397608\n",
      "  timesteps_since_restore: 0\n",
      "  training_iteration: 7\n",
      "  trial_id: 71abf398\n",
      "  \n"
     ]
    },
    {
     "name": "stderr",
     "output_type": "stream",
     "text": [
      "\u001b[2m\u001b[33m(raylet)\u001b[0m /home/therealchainman/miniconda3/lib/python3.8/site-packages/ray/autoscaler/_private/cli_logger.py:57: FutureWarning: Not all Ray CLI dependencies were found. In Ray 1.4+, the Ray CLI, autoscaler, and dashboard will only be usable via `pip install 'ray[default]'`. Please update your install command.\n",
      "\u001b[2m\u001b[33m(raylet)\u001b[0m   warnings.warn(\n"
     ]
    },
    {
     "name": "stdout",
     "output_type": "stream",
     "text": [
      "Result for train_mnist_71abf399:\n",
      "  date: 2021-06-22_16-33-28\n",
      "  done: false\n",
      "  experiment_id: 1b8a696e184e4fc79a367689845945af\n",
      "  hostname: therealchainman\n",
      "  iterations_since_restore: 6\n",
      "  mean_accuracy: 0.078125\n",
      "  node_ip: 192.168.1.106\n",
      "  pid: 15755\n",
      "  time_since_restore: 13.306444644927979\n",
      "  time_this_iter_s: 1.5223569869995117\n",
      "  time_total_s: 13.306444644927979\n",
      "  timestamp: 1624397608\n",
      "  timesteps_since_restore: 0\n",
      "  training_iteration: 6\n",
      "  trial_id: 71abf399\n",
      "  \n",
      "Result for train_mnist_71abf397:\n",
      "  date: 2021-06-22_16-33-29\n",
      "  done: true\n",
      "  experiment_id: 1d80906909414938bd5c0d2f98373d3e\n",
      "  experiment_tag: 2_lr=1.0636,momentum=0.37686\n",
      "  hostname: therealchainman\n",
      "  iterations_since_restore: 10\n",
      "  mean_accuracy: 0.115625\n",
      "  node_ip: 192.168.1.106\n",
      "  pid: 15729\n",
      "  time_since_restore: 16.443101167678833\n",
      "  time_this_iter_s: 1.5296783447265625\n",
      "  time_total_s: 16.443101167678833\n",
      "  timestamp: 1624397609\n",
      "  timesteps_since_restore: 0\n",
      "  training_iteration: 10\n",
      "  trial_id: 71abf397\n",
      "  \n",
      "Result for train_mnist_71abf39a:\n",
      "  date: 2021-06-22_16-33-30\n",
      "  done: false\n",
      "  experiment_id: f38dc07ad2f145219359edf9f1498cb4\n",
      "  hostname: therealchainman\n",
      "  iterations_since_restore: 4\n",
      "  mean_accuracy: 0.103125\n",
      "  node_ip: 192.168.1.106\n",
      "  pid: 15793\n",
      "  time_since_restore: 12.70448613166809\n",
      "  time_this_iter_s: 1.5164756774902344\n",
      "  time_total_s: 12.70448613166809\n",
      "  timestamp: 1624397610\n",
      "  timesteps_since_restore: 0\n",
      "  training_iteration: 4\n",
      "  trial_id: 71abf39a\n",
      "  \n"
     ]
    },
    {
     "name": "stderr",
     "output_type": "stream",
     "text": [
      "\u001b[2m\u001b[33m(raylet)\u001b[0m /home/therealchainman/miniconda3/lib/python3.8/site-packages/ray/autoscaler/_private/cli_logger.py:57: FutureWarning: Not all Ray CLI dependencies were found. In Ray 1.4+, the Ray CLI, autoscaler, and dashboard will only be usable via `pip install 'ray[default]'`. Please update your install command.\n",
      "\u001b[2m\u001b[33m(raylet)\u001b[0m   warnings.warn(\n"
     ]
    },
    {
     "name": "stdout",
     "output_type": "stream",
     "text": [
      "Result for train_mnist_73012b26:\n",
      "  date: 2021-06-22_16-33-31\n",
      "  done: false\n",
      "  experiment_id: 2a4483be3abf49d49131e350bbd7884c\n",
      "  hostname: therealchainman\n",
      "  iterations_since_restore: 5\n",
      "  mean_accuracy: 0.1\n",
      "  node_ip: 192.168.1.106\n",
      "  pid: 15805\n",
      "  time_since_restore: 14.100631475448608\n",
      "  time_this_iter_s: 1.2674229145050049\n",
      "  time_total_s: 14.100631475448608\n",
      "  timestamp: 1624397611\n",
      "  timesteps_since_restore: 0\n",
      "  training_iteration: 5\n",
      "  trial_id: 73012b26\n",
      "  \n"
     ]
    },
    {
     "data": {
      "text/html": [
       "== Status ==<br>Memory usage on this node: 5.1/15.5 GiB<br>Using FIFO scheduling algorithm.<br>Resources requested: 8.0/8 CPUs, 0/0 GPUs, 0.0/8.04 GiB heap, 0.0/4.02 GiB objects<br>Result logdir: /home/therealchainman/ray_results/train_mnist_2021-06-22_16-33-11<br>Number of trials: 10/10 (8 RUNNING, 2 TERMINATED)<br><table>\n",
       "<thead>\n",
       "<tr><th>Trial name          </th><th>status    </th><th>loc                </th><th style=\"text-align: right;\">     lr</th><th style=\"text-align: right;\">  momentum</th><th style=\"text-align: right;\">     acc</th><th style=\"text-align: right;\">  iter</th><th style=\"text-align: right;\">  total time (s)</th></tr>\n",
       "</thead>\n",
       "<tbody>\n",
       "<tr><td>train_mnist_71abf398</td><td>RUNNING   </td><td>192.168.1.106:15753</td><td style=\"text-align: right;\">1.01239</td><td style=\"text-align: right;\">  0.149677</td><td style=\"text-align: right;\">0.09375 </td><td style=\"text-align: right;\">     9</td><td style=\"text-align: right;\">         16.7504</td></tr>\n",
       "<tr><td>train_mnist_71abf399</td><td>RUNNING   </td><td>192.168.1.106:15755</td><td style=\"text-align: right;\">1.06761</td><td style=\"text-align: right;\">  0.250371</td><td style=\"text-align: right;\">0.1     </td><td style=\"text-align: right;\">     7</td><td style=\"text-align: right;\">         14.6479</td></tr>\n",
       "<tr><td>train_mnist_71abf39a</td><td>RUNNING   </td><td>192.168.1.106:15793</td><td style=\"text-align: right;\">1.0686 </td><td style=\"text-align: right;\">  0.144051</td><td style=\"text-align: right;\">0.1125  </td><td style=\"text-align: right;\">     5</td><td style=\"text-align: right;\">         14.0867</td></tr>\n",
       "<tr><td>train_mnist_73012b26</td><td>RUNNING   </td><td>192.168.1.106:15805</td><td style=\"text-align: right;\">1.07137</td><td style=\"text-align: right;\">  0.192747</td><td style=\"text-align: right;\">0.1     </td><td style=\"text-align: right;\">     5</td><td style=\"text-align: right;\">         14.1006</td></tr>\n",
       "<tr><td>train_mnist_73012b27</td><td>RUNNING   </td><td>192.168.1.106:15807</td><td style=\"text-align: right;\">1.09214</td><td style=\"text-align: right;\">  0.261777</td><td style=\"text-align: right;\">0.121875</td><td style=\"text-align: right;\">     3</td><td style=\"text-align: right;\">         11.8747</td></tr>\n",
       "<tr><td>train_mnist_73012b28</td><td>RUNNING   </td><td>192.168.1.106:15866</td><td style=\"text-align: right;\">1.00548</td><td style=\"text-align: right;\">  0.483111</td><td style=\"text-align: right;\">0.109375</td><td style=\"text-align: right;\">     3</td><td style=\"text-align: right;\">         10.7155</td></tr>\n",
       "<tr><td>train_mnist_73d4ab04</td><td>RUNNING   </td><td>                   </td><td style=\"text-align: right;\">1.04986</td><td style=\"text-align: right;\">  0.617687</td><td style=\"text-align: right;\">        </td><td style=\"text-align: right;\">      </td><td style=\"text-align: right;\">                </td></tr>\n",
       "<tr><td>train_mnist_7a2a5cd8</td><td>RUNNING   </td><td>                   </td><td style=\"text-align: right;\">1.01336</td><td style=\"text-align: right;\">  0.415122</td><td style=\"text-align: right;\">        </td><td style=\"text-align: right;\">      </td><td style=\"text-align: right;\">                </td></tr>\n",
       "<tr><td>train_mnist_71abf396</td><td>TERMINATED</td><td>                   </td><td style=\"text-align: right;\">1.09208</td><td style=\"text-align: right;\">  0.166771</td><td style=\"text-align: right;\">0.1     </td><td style=\"text-align: right;\">    10</td><td style=\"text-align: right;\">         13.2485</td></tr>\n",
       "<tr><td>train_mnist_71abf397</td><td>TERMINATED</td><td>                   </td><td style=\"text-align: right;\">1.06363</td><td style=\"text-align: right;\">  0.376857</td><td style=\"text-align: right;\">0.115625</td><td style=\"text-align: right;\">    10</td><td style=\"text-align: right;\">         16.4431</td></tr>\n",
       "</tbody>\n",
       "</table><br><br>"
      ],
      "text/plain": [
       "<IPython.core.display.HTML object>"
      ]
     },
     "metadata": {},
     "output_type": "display_data"
    },
    {
     "name": "stdout",
     "output_type": "stream",
     "text": [
      "Result for train_mnist_73012b27:\n",
      "  date: 2021-06-22_16-33-31\n",
      "  done: false\n",
      "  experiment_id: f47bd0592cac4f8baf979506dc643404\n",
      "  hostname: therealchainman\n",
      "  iterations_since_restore: 4\n",
      "  mean_accuracy: 0.06875\n",
      "  node_ip: 192.168.1.106\n",
      "  pid: 15807\n",
      "  time_since_restore: 13.625557661056519\n",
      "  time_this_iter_s: 1.7509076595306396\n",
      "  time_total_s: 13.625557661056519\n",
      "  timestamp: 1624397611\n",
      "  timesteps_since_restore: 0\n",
      "  training_iteration: 4\n",
      "  trial_id: 73012b27\n",
      "  \n",
      "Result for train_mnist_73012b28:\n",
      "  date: 2021-06-22_16-33-32\n",
      "  done: false\n",
      "  experiment_id: 535c34dc0c134937b8b37dcaa6e7f123\n",
      "  hostname: therealchainman\n",
      "  iterations_since_restore: 4\n",
      "  mean_accuracy: 0.128125\n",
      "  node_ip: 192.168.1.106\n",
      "  pid: 15866\n",
      "  time_since_restore: 12.177461385726929\n",
      "  time_this_iter_s: 1.462005853652954\n",
      "  time_total_s: 12.177461385726929\n",
      "  timestamp: 1624397612\n",
      "  timesteps_since_restore: 0\n",
      "  training_iteration: 4\n",
      "  trial_id: 73012b28\n",
      "  \n",
      "Result for train_mnist_71abf398:\n",
      "  date: 2021-06-22_16-33-32\n",
      "  done: true\n",
      "  experiment_id: 303fee2bd3874ed7b430abe748593453\n",
      "  experiment_tag: 3_lr=1.0124,momentum=0.14968\n",
      "  hostname: therealchainman\n",
      "  iterations_since_restore: 10\n",
      "  mean_accuracy: 0.075\n",
      "  node_ip: 192.168.1.106\n",
      "  pid: 15753\n",
      "  time_since_restore: 17.81476616859436\n",
      "  time_this_iter_s: 1.0643806457519531\n",
      "  time_total_s: 17.81476616859436\n",
      "  timestamp: 1624397612\n",
      "  timesteps_since_restore: 0\n",
      "  training_iteration: 10\n",
      "  trial_id: 71abf398\n",
      "  \n",
      "\u001b[2m\u001b[36m(pid=15987)\u001b[0m Downloading http://yann.lecun.com/exdb/mnist/train-images-idx3-ubyte.gz\n",
      "Result for train_mnist_71abf399:\n",
      "  date: 2021-06-22_16-33-32\n",
      "  done: true\n",
      "  experiment_id: 1b8a696e184e4fc79a367689845945af\n",
      "  experiment_tag: 4_lr=1.0676,momentum=0.25037\n",
      "  hostname: therealchainman\n",
      "  iterations_since_restore: 10\n",
      "  mean_accuracy: 0.09375\n",
      "  node_ip: 192.168.1.106\n",
      "  pid: 15755\n",
      "  time_since_restore: 17.31457781791687\n",
      "  time_this_iter_s: 0.3507719039916992\n",
      "  time_total_s: 17.31457781791687\n",
      "  timestamp: 1624397612\n",
      "  timesteps_since_restore: 0\n",
      "  training_iteration: 10\n",
      "  trial_id: 71abf399\n",
      "  \n",
      "\u001b[2m\u001b[36m(pid=15987)\u001b[0m Failed to download (trying next):\n",
      "\u001b[2m\u001b[36m(pid=15987)\u001b[0m HTTP Error 503: Service Unavailable\n",
      "\u001b[2m\u001b[36m(pid=15987)\u001b[0m \n",
      "\u001b[2m\u001b[36m(pid=15987)\u001b[0m Downloading https://ossci-datasets.s3.amazonaws.com/mnist/train-images-idx3-ubyte.gz\n",
      "\u001b[2m\u001b[36m(pid=15987)\u001b[0m Downloading https://ossci-datasets.s3.amazonaws.com/mnist/train-images-idx3-ubyte.gz to {cwd}/data/MNIST/raw/train-images-idx3-ubyte.gz\n",
      "\u001b[2m\u001b[36m(pid=16011)\u001b[0m Downloading http://yann.lecun.com/exdb/mnist/train-images-idx3-ubyte.gz\n"
     ]
    },
    {
     "name": "stderr",
     "output_type": "stream",
     "text": [
      "  0%|          | 0/9912422 [00:00<?, ?it/s]\n",
      "  1%|          | 68608/9912422 [00:00<00:19, 514769.44it/s]\n"
     ]
    },
    {
     "name": "stdout",
     "output_type": "stream",
     "text": [
      "\u001b[2m\u001b[36m(pid=16011)\u001b[0m Failed to download (trying next):\n",
      "\u001b[2m\u001b[36m(pid=16011)\u001b[0m HTTP Error 503: Service Unavailable\n",
      "\u001b[2m\u001b[36m(pid=16011)\u001b[0m \n",
      "\u001b[2m\u001b[36m(pid=16011)\u001b[0m Downloading https://ossci-datasets.s3.amazonaws.com/mnist/train-images-idx3-ubyte.gz\n"
     ]
    },
    {
     "name": "stderr",
     "output_type": "stream",
     "text": [
      "  5%|▍         | 482304/9912422 [00:00<00:13, 698151.50it/s]\n",
      " 10%|█         | 1008640/9912422 [00:00<00:09, 942742.48it/s]\n",
      " 19%|█▊        | 1854464/9912422 [00:00<00:06, 1285361.92it/s]\n",
      " 27%|██▋       | 2635776/9912422 [00:00<00:04, 1715259.00it/s]\n"
     ]
    },
    {
     "name": "stdout",
     "output_type": "stream",
     "text": [
      "\u001b[2m\u001b[36m(pid=16011)\u001b[0m Downloading https://ossci-datasets.s3.amazonaws.com/mnist/train-images-idx3-ubyte.gz to {cwd}/data/MNIST/raw/train-images-idx3-ubyte.gz\n"
     ]
    },
    {
     "name": "stderr",
     "output_type": "stream",
     "text": [
      " 34%|███▎      | 3341312/9912422 [00:00<00:02, 2205333.15it/s]\n",
      "  0%|          | 0/9912422 [00:00<?, ?it/s]\n",
      " 43%|████▎     | 4263936/9912422 [00:00<00:02, 2821410.38it/s]\n",
      " 52%|█████▏    | 5116928/9912422 [00:00<00:01, 3521502.30it/s]\n",
      "  1%|          | 77824/9912422 [00:00<00:18, 540944.90it/s]\n",
      " 61%|██████▏   | 6074368/9912422 [00:00<00:00, 4328562.52it/s]\n",
      "  3%|▎         | 269312/9912422 [00:00<00:14, 686330.61it/s]\n"
     ]
    },
    {
     "name": "stdout",
     "output_type": "stream",
     "text": [
      "Result for train_mnist_73012b26:\n",
      "  date: 2021-06-22_16-33-34\n",
      "  done: true\n",
      "  experiment_id: 2a4483be3abf49d49131e350bbd7884c\n",
      "  experiment_tag: 6_lr=1.0714,momentum=0.19275\n",
      "  hostname: therealchainman\n",
      "  iterations_since_restore: 10\n",
      "  mean_accuracy: 0.10625\n",
      "  node_ip: 192.168.1.106\n",
      "  pid: 15805\n",
      "  time_since_restore: 16.674837589263916\n",
      "  time_this_iter_s: 0.9560546875\n",
      "  time_total_s: 16.674837589263916\n",
      "  timestamp: 1624397614\n",
      "  timesteps_since_restore: 0\n",
      "  training_iteration: 10\n",
      "  trial_id: 73012b26\n",
      "  \n"
     ]
    },
    {
     "name": "stderr",
     "output_type": "stream",
     "text": [
      " 72%|███████▏  | 7135232/9912422 [00:01<00:00, 5116566.87it/s]\n",
      "  6%|▋         | 633856/9912422 [00:00<00:10, 907265.89it/s]\n",
      " 80%|████████  | 7942144/9912422 [00:01<00:00, 5187591.96it/s]\n",
      " 11%|█         | 1052672/9912422 [00:00<00:07, 1163848.75it/s]\n"
     ]
    },
    {
     "name": "stdout",
     "output_type": "stream",
     "text": [
      "Result for train_mnist_71abf39a:\n",
      "  date: 2021-06-22_16-33-34\n",
      "  done: true\n",
      "  experiment_id: f38dc07ad2f145219359edf9f1498cb4\n",
      "  experiment_tag: 5_lr=1.0686,momentum=0.14405\n",
      "  hostname: therealchainman\n",
      "  iterations_since_restore: 10\n",
      "  mean_accuracy: 0.128125\n",
      "  node_ip: 192.168.1.106\n",
      "  pid: 15793\n",
      "  time_since_restore: 17.540234088897705\n",
      "  time_this_iter_s: 1.138627052307129\n",
      "  time_total_s: 17.540234088897705\n",
      "  timestamp: 1624397614\n",
      "  timesteps_since_restore: 0\n",
      "  training_iteration: 10\n",
      "  trial_id: 71abf39a\n",
      "  \n"
     ]
    },
    {
     "name": "stderr",
     "output_type": "stream",
     "text": [
      " 16%|█▌        | 1557504/9912422 [00:00<00:05, 1484470.34it/s]\n",
      " 87%|████████▋ | 8668160/9912422 [00:01<00:00, 4560768.30it/s]\n",
      " 22%|██▏       | 2166784/9912422 [00:00<00:04, 1916545.53it/s]\n",
      " 94%|█████████▎| 9282560/9912422 [00:01<00:00, 4741112.69it/s]\n",
      " 29%|██▉       | 2909184/9912422 [00:00<00:02, 2463328.14it/s]\n",
      "100%|█████████▉| 9869312/9912422 [00:01<00:00, 4977042.54it/s]\n",
      " 36%|███▌      | 3564544/9912422 [00:00<00:02, 3024706.62it/s]\n",
      "9913344it [00:01, 5908784.44it/s]                             \n",
      " 47%|████▋     | 4670464/9912422 [00:00<00:01, 3867391.44it/s]\n"
     ]
    },
    {
     "name": "stdout",
     "output_type": "stream",
     "text": [
      "\u001b[2m\u001b[36m(pid=15987)\u001b[0m Extracting {cwd}/data/MNIST/raw/train-images-idx3-ubyte.gz to {cwd}/data/MNIST/raw\n",
      "Result for train_mnist_73012b28:\n"
     ]
    },
    {
     "name": "stderr",
     "output_type": "stream",
     "text": [
      " 55%|█████▌    | 5481472/9912422 [00:01<00:00, 4460184.22it/s]\n",
      " 70%|███████   | 6956032/9912422 [00:01<00:00, 5519173.00it/s]\n"
     ]
    },
    {
     "name": "stdout",
     "output_type": "stream",
     "text": [
      "  date: 2021-06-22_16-33-35\n",
      "  done: true\n",
      "  experiment_id: 535c34dc0c134937b8b37dcaa6e7f123\n",
      "  experiment_tag: 8_lr=1.0055,momentum=0.48311\n",
      "  hostname: therealchainman\n",
      "  iterations_since_restore: 10\n",
      "  mean_accuracy: 0.06875\n",
      "  node_ip: 192.168.1.106\n",
      "  pid: 15866\n",
      "  time_since_restore: 15.45313310623169\n",
      "  time_this_iter_s: 1.0120062828063965\n",
      "  time_total_s: 15.45313310623169\n",
      "  timestamp: 1624397615\n",
      "  timesteps_since_restore: 0\n",
      "  training_iteration: 10\n",
      "  trial_id: 73012b28\n",
      "  \n"
     ]
    },
    {
     "name": "stderr",
     "output_type": "stream",
     "text": [
      " 82%|████████▏ | 8095744/9912422 [00:01<00:00, 6529388.44it/s]\n",
      "9913344it [00:01, 6668463.72it/s]                             \n"
     ]
    },
    {
     "name": "stdout",
     "output_type": "stream",
     "text": [
      "\u001b[2m\u001b[36m(pid=16011)\u001b[0m Extracting {cwd}/data/MNIST/raw/train-images-idx3-ubyte.gz to {cwd}/data/MNIST/raw\n",
      "Result for train_mnist_73012b27:\n",
      "  date: 2021-06-22_16-33-35\n",
      "  done: true\n",
      "  experiment_id: f47bd0592cac4f8baf979506dc643404\n",
      "  experiment_tag: 7_lr=1.0921,momentum=0.26178\n",
      "  hostname: therealchainman\n",
      "  iterations_since_restore: 10\n",
      "  mean_accuracy: 0.084375\n",
      "  node_ip: 192.168.1.106\n",
      "  pid: 15807\n",
      "  time_since_restore: 17.545503616333008\n",
      "  time_this_iter_s: 1.0389115810394287\n",
      "  time_total_s: 17.545503616333008\n",
      "  timestamp: 1624397615\n",
      "  timesteps_since_restore: 0\n",
      "  training_iteration: 10\n",
      "  trial_id: 73012b27\n",
      "  \n",
      "\u001b[2m\u001b[36m(pid=15987)\u001b[0m \n",
      "\u001b[2m\u001b[36m(pid=15987)\u001b[0m Downloading http://yann.lecun.com/exdb/mnist/train-labels-idx1-ubyte.gz\n",
      "\u001b[2m\u001b[36m(pid=15987)\u001b[0m Failed to download (trying next):\n",
      "\u001b[2m\u001b[36m(pid=15987)\u001b[0m HTTP Error 503: Service Unavailable\n",
      "\u001b[2m\u001b[36m(pid=15987)\u001b[0m \n",
      "\u001b[2m\u001b[36m(pid=15987)\u001b[0m Downloading https://ossci-datasets.s3.amazonaws.com/mnist/train-labels-idx1-ubyte.gz\n",
      "\u001b[2m\u001b[36m(pid=15987)\u001b[0m Downloading https://ossci-datasets.s3.amazonaws.com/mnist/train-labels-idx1-ubyte.gz to {cwd}/data/MNIST/raw/train-labels-idx1-ubyte.gz\n",
      "\u001b[2m\u001b[36m(pid=16011)\u001b[0m \n",
      "\u001b[2m\u001b[36m(pid=16011)\u001b[0m Downloading http://yann.lecun.com/exdb/mnist/train-labels-idx1-ubyte.gz\n",
      "\u001b[2m\u001b[36m(pid=16011)\u001b[0m Failed to download (trying next):\n",
      "\u001b[2m\u001b[36m(pid=16011)\u001b[0m HTTP Error 503: Service Unavailable\n",
      "\u001b[2m\u001b[36m(pid=16011)\u001b[0m \n",
      "\u001b[2m\u001b[36m(pid=16011)\u001b[0m Downloading https://ossci-datasets.s3.amazonaws.com/mnist/train-labels-idx1-ubyte.gz\n",
      "\u001b[2m\u001b[36m(pid=15987)\u001b[0m Extracting {cwd}/data/MNIST/raw/train-labels-idx1-ubyte.gz to {cwd}/data/MNIST/raw\n",
      "\u001b[2m\u001b[36m(pid=15987)\u001b[0m \n",
      "\u001b[2m\u001b[36m(pid=15987)\u001b[0m Downloading http://yann.lecun.com/exdb/mnist/t10k-images-idx3-ubyte.gz\n",
      "\u001b[2m\u001b[36m(pid=16011)\u001b[0m Downloading https://ossci-datasets.s3.amazonaws.com/mnist/train-labels-idx1-ubyte.gz to {cwd}/data/MNIST/raw/train-labels-idx1-ubyte.gz\n",
      "\u001b[2m\u001b[36m(pid=15987)\u001b[0m Failed to download (trying next):\n",
      "\u001b[2m\u001b[36m(pid=15987)\u001b[0m HTTP Error 503: Service Unavailable\n",
      "\u001b[2m\u001b[36m(pid=15987)\u001b[0m \n",
      "\u001b[2m\u001b[36m(pid=15987)\u001b[0m Downloading https://ossci-datasets.s3.amazonaws.com/mnist/t10k-images-idx3-ubyte.gz\n"
     ]
    },
    {
     "name": "stderr",
     "output_type": "stream",
     "text": [
      "29696it [00:00, 660606.49it/s]           \n"
     ]
    },
    {
     "name": "stdout",
     "output_type": "stream",
     "text": [
      "\u001b[2m\u001b[36m(pid=16011)\u001b[0m Extracting {cwd}/data/MNIST/raw/train-labels-idx1-ubyte.gz to {cwd}/data/MNIST/raw\n",
      "\u001b[2m\u001b[36m(pid=16011)\u001b[0m \n",
      "\u001b[2m\u001b[36m(pid=16011)\u001b[0m Downloading http://yann.lecun.com/exdb/mnist/t10k-images-idx3-ubyte.gz\n",
      "\u001b[2m\u001b[36m(pid=15987)\u001b[0m Downloading https://ossci-datasets.s3.amazonaws.com/mnist/t10k-images-idx3-ubyte.gz to {cwd}/data/MNIST/raw/t10k-images-idx3-ubyte.gz\n",
      "\u001b[2m\u001b[36m(pid=16011)\u001b[0m Failed to download (trying next):\n",
      "\u001b[2m\u001b[36m(pid=16011)\u001b[0m HTTP Error 503: Service Unavailable\n",
      "\u001b[2m\u001b[36m(pid=16011)\u001b[0m \n",
      "\u001b[2m\u001b[36m(pid=16011)\u001b[0m Downloading https://ossci-datasets.s3.amazonaws.com/mnist/t10k-images-idx3-ubyte.gz\n"
     ]
    },
    {
     "name": "stderr",
     "output_type": "stream",
     "text": [
      "29696it [00:00, 696303.38it/s]           \n",
      "  0%|          | 0/1648877 [00:00<?, ?it/s]\n",
      " 26%|██▌       | 425984/1648877 [00:00<00:01, 837832.25it/s]\n"
     ]
    },
    {
     "name": "stdout",
     "output_type": "stream",
     "text": [
      "\u001b[2m\u001b[36m(pid=16011)\u001b[0m Downloading https://ossci-datasets.s3.amazonaws.com/mnist/t10k-images-idx3-ubyte.gz to {cwd}/data/MNIST/raw/t10k-images-idx3-ubyte.gz\n"
     ]
    },
    {
     "name": "stderr",
     "output_type": "stream",
     "text": [
      " 57%|█████▋    | 944128/1648877 [00:00<00:00, 1119303.27it/s]\n",
      "  0%|          | 0/1648877 [00:00<?, ?it/s]\n",
      "1649664it [00:00, 3476677.07it/s]                             \n",
      "  5%|▌         | 87040/1648877 [00:00<00:02, 656444.14it/s]\n"
     ]
    },
    {
     "name": "stdout",
     "output_type": "stream",
     "text": [
      "\u001b[2m\u001b[36m(pid=15987)\u001b[0m Extracting {cwd}/data/MNIST/raw/t10k-images-idx3-ubyte.gz to {cwd}/data/MNIST/raw\n",
      "\u001b[2m\u001b[36m(pid=15987)\u001b[0m \n",
      "\u001b[2m\u001b[36m(pid=15987)\u001b[0m Downloading http://yann.lecun.com/exdb/mnist/t10k-labels-idx1-ubyte.gz\n"
     ]
    },
    {
     "name": "stderr",
     "output_type": "stream",
     "text": [
      " 24%|██▍       | 400384/1648877 [00:00<00:01, 831087.12it/s]\n",
      " 42%|████▏     | 696320/1648877 [00:00<00:00, 1051931.21it/s]\n",
      " 64%|██████▍   | 1060864/1648877 [00:00<00:00, 1337367.09it/s]\n"
     ]
    },
    {
     "name": "stdout",
     "output_type": "stream",
     "text": [
      "\u001b[2m\u001b[36m(pid=15987)\u001b[0m Failed to download (trying next):\n",
      "\u001b[2m\u001b[36m(pid=15987)\u001b[0m HTTP Error 503: Service Unavailable\n",
      "\u001b[2m\u001b[36m(pid=15987)\u001b[0m \n",
      "\u001b[2m\u001b[36m(pid=15987)\u001b[0m Downloading https://ossci-datasets.s3.amazonaws.com/mnist/t10k-labels-idx1-ubyte.gz\n",
      "\u001b[2m\u001b[36m(pid=16011)\u001b[0m Extracting {cwd}/data/MNIST/raw/t10k-images-idx3-ubyte.gz to {cwd}/data/MNIST/raw\n"
     ]
    },
    {
     "name": "stderr",
     "output_type": "stream",
     "text": [
      " 88%|████████▊ | 1444864/1648877 [00:00<00:00, 1657858.93it/s]\n",
      "1649664it [00:00, 2623052.31it/s]                             \n"
     ]
    },
    {
     "name": "stdout",
     "output_type": "stream",
     "text": [
      "\u001b[2m\u001b[36m(pid=15987)\u001b[0m Downloading https://ossci-datasets.s3.amazonaws.com/mnist/t10k-labels-idx1-ubyte.gz to {cwd}/data/MNIST/raw/t10k-labels-idx1-ubyte.gz\n",
      "\u001b[2m\u001b[36m(pid=16011)\u001b[0m \n",
      "\u001b[2m\u001b[36m(pid=16011)\u001b[0m Downloading http://yann.lecun.com/exdb/mnist/t10k-labels-idx1-ubyte.gz\n",
      "\u001b[2m\u001b[36m(pid=15987)\u001b[0m Extracting {cwd}/data/MNIST/raw/t10k-labels-idx1-ubyte.gz to {cwd}/data/MNIST/raw\n",
      "\u001b[2m\u001b[36m(pid=15987)\u001b[0m \n"
     ]
    },
    {
     "name": "stderr",
     "output_type": "stream",
     "text": [
      "  0%|          | 0/4542 [00:00<?, ?it/s]\n",
      "5120it [00:00, 1021006.82it/s]          \n",
      "\u001b[2m\u001b[36m(pid=15987)\u001b[0m /home/therealchainman/miniconda3/lib/python3.8/site-packages/torchvision/datasets/mnist.py:498: UserWarning: The given NumPy array is not writeable, and PyTorch does not support non-writeable tensors. This means you can write to the underlying (supposedly non-writeable) NumPy array using the tensor. You may want to copy the array to protect its data or make it writeable before converting it to a tensor. This type of warning will be suppressed for the rest of this program. (Triggered internally at  /pytorch/torch/csrc/utils/tensor_numpy.cpp:180.)\n",
      "\u001b[2m\u001b[36m(pid=15987)\u001b[0m   return torch.from_numpy(parsed.astype(m[2], copy=False)).view(*s)\n"
     ]
    },
    {
     "name": "stdout",
     "output_type": "stream",
     "text": [
      "\u001b[2m\u001b[36m(pid=16011)\u001b[0m Failed to download (trying next):\n",
      "\u001b[2m\u001b[36m(pid=16011)\u001b[0m HTTP Error 503: Service Unavailable\n",
      "\u001b[2m\u001b[36m(pid=16011)\u001b[0m \n",
      "\u001b[2m\u001b[36m(pid=16011)\u001b[0m Downloading https://ossci-datasets.s3.amazonaws.com/mnist/t10k-labels-idx1-ubyte.gz\n"
     ]
    },
    {
     "name": "stderr",
     "output_type": "stream",
     "text": [
      "\u001b[2m\u001b[36m(pid=15987)\u001b[0m /home/therealchainman/miniconda3/lib/python3.8/site-packages/torch/nn/functional.py:718: UserWarning: Named tensors and all their associated APIs are an experimental feature and subject to change. Please do not use them for anything important until they are released as stable. (Triggered internally at  /pytorch/c10/core/TensorImpl.h:1156.)\n",
      "\u001b[2m\u001b[36m(pid=15987)\u001b[0m   return torch.max_pool2d(input, kernel_size, stride, padding, dilation, ceil_mode)\n"
     ]
    },
    {
     "name": "stdout",
     "output_type": "stream",
     "text": [
      "\u001b[2m\u001b[36m(pid=16011)\u001b[0m Downloading https://ossci-datasets.s3.amazonaws.com/mnist/t10k-labels-idx1-ubyte.gz to {cwd}/data/MNIST/raw/t10k-labels-idx1-ubyte.gz\n",
      "\u001b[2m\u001b[36m(pid=16011)\u001b[0m Extracting {cwd}/data/MNIST/raw/t10k-labels-idx1-ubyte.gz to {cwd}/data/MNIST/raw\n",
      "\u001b[2m\u001b[36m(pid=16011)\u001b[0m \n"
     ]
    },
    {
     "name": "stderr",
     "output_type": "stream",
     "text": [
      "5120it [00:00, 2387950.24it/s]          \n",
      "\u001b[2m\u001b[36m(pid=16011)\u001b[0m /home/therealchainman/miniconda3/lib/python3.8/site-packages/torchvision/datasets/mnist.py:498: UserWarning: The given NumPy array is not writeable, and PyTorch does not support non-writeable tensors. This means you can write to the underlying (supposedly non-writeable) NumPy array using the tensor. You may want to copy the array to protect its data or make it writeable before converting it to a tensor. This type of warning will be suppressed for the rest of this program. (Triggered internally at  /pytorch/torch/csrc/utils/tensor_numpy.cpp:180.)\n",
      "\u001b[2m\u001b[36m(pid=16011)\u001b[0m   return torch.from_numpy(parsed.astype(m[2], copy=False)).view(*s)\n",
      "\u001b[2m\u001b[36m(pid=16011)\u001b[0m /home/therealchainman/miniconda3/lib/python3.8/site-packages/torch/nn/functional.py:718: UserWarning: Named tensors and all their associated APIs are an experimental feature and subject to change. Please do not use them for anything important until they are released as stable. (Triggered internally at  /pytorch/c10/core/TensorImpl.h:1156.)\n",
      "\u001b[2m\u001b[36m(pid=16011)\u001b[0m   return torch.max_pool2d(input, kernel_size, stride, padding, dilation, ceil_mode)\n"
     ]
    },
    {
     "name": "stdout",
     "output_type": "stream",
     "text": [
      "Result for train_mnist_73d4ab04:\n",
      "  date: 2021-06-22_16-33-40\n",
      "  done: false\n",
      "  experiment_id: 9c3c83f7b0ab4f419d16fec2ed71077e\n",
      "  hostname: therealchainman\n",
      "  iterations_since_restore: 1\n",
      "  mean_accuracy: 0.084375\n",
      "  node_ip: 192.168.1.106\n",
      "  pid: 15987\n",
      "  time_since_restore: 7.305110931396484\n",
      "  time_this_iter_s: 7.305110931396484\n",
      "  time_total_s: 7.305110931396484\n",
      "  timestamp: 1624397620\n",
      "  timesteps_since_restore: 0\n",
      "  training_iteration: 1\n",
      "  trial_id: 73d4ab04\n",
      "  \n"
     ]
    },
    {
     "data": {
      "text/html": [
       "== Status ==<br>Memory usage on this node: 4.2/15.5 GiB<br>Using FIFO scheduling algorithm.<br>Resources requested: 2.0/8 CPUs, 0/0 GPUs, 0.0/8.04 GiB heap, 0.0/4.02 GiB objects<br>Result logdir: /home/therealchainman/ray_results/train_mnist_2021-06-22_16-33-11<br>Number of trials: 10/10 (2 RUNNING, 8 TERMINATED)<br><table>\n",
       "<thead>\n",
       "<tr><th>Trial name          </th><th>status    </th><th>loc                </th><th style=\"text-align: right;\">     lr</th><th style=\"text-align: right;\">  momentum</th><th style=\"text-align: right;\">     acc</th><th style=\"text-align: right;\">  iter</th><th style=\"text-align: right;\">  total time (s)</th></tr>\n",
       "</thead>\n",
       "<tbody>\n",
       "<tr><td>train_mnist_73d4ab04</td><td>RUNNING   </td><td>192.168.1.106:15987</td><td style=\"text-align: right;\">1.04986</td><td style=\"text-align: right;\">  0.617687</td><td style=\"text-align: right;\">0.084375</td><td style=\"text-align: right;\">     1</td><td style=\"text-align: right;\">         7.30511</td></tr>\n",
       "<tr><td>train_mnist_7a2a5cd8</td><td>RUNNING   </td><td>                   </td><td style=\"text-align: right;\">1.01336</td><td style=\"text-align: right;\">  0.415122</td><td style=\"text-align: right;\">        </td><td style=\"text-align: right;\">      </td><td style=\"text-align: right;\">                </td></tr>\n",
       "<tr><td>train_mnist_71abf396</td><td>TERMINATED</td><td>                   </td><td style=\"text-align: right;\">1.09208</td><td style=\"text-align: right;\">  0.166771</td><td style=\"text-align: right;\">0.1     </td><td style=\"text-align: right;\">    10</td><td style=\"text-align: right;\">        13.2485 </td></tr>\n",
       "<tr><td>train_mnist_71abf397</td><td>TERMINATED</td><td>                   </td><td style=\"text-align: right;\">1.06363</td><td style=\"text-align: right;\">  0.376857</td><td style=\"text-align: right;\">0.115625</td><td style=\"text-align: right;\">    10</td><td style=\"text-align: right;\">        16.4431 </td></tr>\n",
       "<tr><td>train_mnist_71abf398</td><td>TERMINATED</td><td>                   </td><td style=\"text-align: right;\">1.01239</td><td style=\"text-align: right;\">  0.149677</td><td style=\"text-align: right;\">0.075   </td><td style=\"text-align: right;\">    10</td><td style=\"text-align: right;\">        17.8148 </td></tr>\n",
       "<tr><td>train_mnist_71abf399</td><td>TERMINATED</td><td>                   </td><td style=\"text-align: right;\">1.06761</td><td style=\"text-align: right;\">  0.250371</td><td style=\"text-align: right;\">0.09375 </td><td style=\"text-align: right;\">    10</td><td style=\"text-align: right;\">        17.3146 </td></tr>\n",
       "<tr><td>train_mnist_71abf39a</td><td>TERMINATED</td><td>                   </td><td style=\"text-align: right;\">1.0686 </td><td style=\"text-align: right;\">  0.144051</td><td style=\"text-align: right;\">0.128125</td><td style=\"text-align: right;\">    10</td><td style=\"text-align: right;\">        17.5402 </td></tr>\n",
       "<tr><td>train_mnist_73012b26</td><td>TERMINATED</td><td>                   </td><td style=\"text-align: right;\">1.07137</td><td style=\"text-align: right;\">  0.192747</td><td style=\"text-align: right;\">0.10625 </td><td style=\"text-align: right;\">    10</td><td style=\"text-align: right;\">        16.6748 </td></tr>\n",
       "<tr><td>train_mnist_73012b27</td><td>TERMINATED</td><td>                   </td><td style=\"text-align: right;\">1.09214</td><td style=\"text-align: right;\">  0.261777</td><td style=\"text-align: right;\">0.084375</td><td style=\"text-align: right;\">    10</td><td style=\"text-align: right;\">        17.5455 </td></tr>\n",
       "<tr><td>train_mnist_73012b28</td><td>TERMINATED</td><td>                   </td><td style=\"text-align: right;\">1.00548</td><td style=\"text-align: right;\">  0.483111</td><td style=\"text-align: right;\">0.06875 </td><td style=\"text-align: right;\">    10</td><td style=\"text-align: right;\">        15.4531 </td></tr>\n",
       "</tbody>\n",
       "</table><br><br>"
      ],
      "text/plain": [
       "<IPython.core.display.HTML object>"
      ]
     },
     "metadata": {},
     "output_type": "display_data"
    },
    {
     "name": "stdout",
     "output_type": "stream",
     "text": [
      "Result for train_mnist_7a2a5cd8:\n",
      "  date: 2021-06-22_16-33-40\n",
      "  done: false\n",
      "  experiment_id: 02b763175b0d4c3bbdc67a70534d3338\n",
      "  hostname: therealchainman\n",
      "  iterations_since_restore: 1\n",
      "  mean_accuracy: 0.1\n",
      "  node_ip: 192.168.1.106\n",
      "  pid: 16011\n",
      "  time_since_restore: 7.154386520385742\n",
      "  time_this_iter_s: 7.154386520385742\n",
      "  time_total_s: 7.154386520385742\n",
      "  timestamp: 1624397620\n",
      "  timesteps_since_restore: 0\n",
      "  training_iteration: 1\n",
      "  trial_id: 7a2a5cd8\n",
      "  \n",
      "Result for train_mnist_73d4ab04:\n",
      "  date: 2021-06-22_16-33-42\n",
      "  done: true\n",
      "  experiment_id: 9c3c83f7b0ab4f419d16fec2ed71077e\n",
      "  experiment_tag: 9_lr=1.0499,momentum=0.61769\n",
      "  hostname: therealchainman\n",
      "  iterations_since_restore: 10\n",
      "  mean_accuracy: 0.121875\n",
      "  node_ip: 192.168.1.106\n",
      "  pid: 15987\n",
      "  time_since_restore: 9.354254245758057\n",
      "  time_this_iter_s: 0.17636561393737793\n",
      "  time_total_s: 9.354254245758057\n",
      "  timestamp: 1624397622\n",
      "  timesteps_since_restore: 0\n",
      "  training_iteration: 10\n",
      "  trial_id: 73d4ab04\n",
      "  \n",
      "Result for train_mnist_7a2a5cd8:\n",
      "  date: 2021-06-22_16-33-42\n",
      "  done: true\n",
      "  experiment_id: 02b763175b0d4c3bbdc67a70534d3338\n",
      "  experiment_tag: 10_lr=1.0134,momentum=0.41512\n",
      "  hostname: therealchainman\n",
      "  iterations_since_restore: 10\n",
      "  mean_accuracy: 0.1125\n",
      "  node_ip: 192.168.1.106\n",
      "  pid: 16011\n",
      "  time_since_restore: 8.875086069107056\n",
      "  time_this_iter_s: 0.18169307708740234\n",
      "  time_total_s: 8.875086069107056\n",
      "  timestamp: 1624397622\n",
      "  timesteps_since_restore: 0\n",
      "  training_iteration: 10\n",
      "  trial_id: 7a2a5cd8\n",
      "  \n"
     ]
    },
    {
     "data": {
      "text/html": [
       "== Status ==<br>Memory usage on this node: 3.9/15.5 GiB<br>Using FIFO scheduling algorithm.<br>Resources requested: 0/8 CPUs, 0/0 GPUs, 0.0/8.04 GiB heap, 0.0/4.02 GiB objects<br>Result logdir: /home/therealchainman/ray_results/train_mnist_2021-06-22_16-33-11<br>Number of trials: 10/10 (10 TERMINATED)<br><table>\n",
       "<thead>\n",
       "<tr><th>Trial name          </th><th>status    </th><th>loc  </th><th style=\"text-align: right;\">     lr</th><th style=\"text-align: right;\">  momentum</th><th style=\"text-align: right;\">     acc</th><th style=\"text-align: right;\">  iter</th><th style=\"text-align: right;\">  total time (s)</th></tr>\n",
       "</thead>\n",
       "<tbody>\n",
       "<tr><td>train_mnist_71abf396</td><td>TERMINATED</td><td>     </td><td style=\"text-align: right;\">1.09208</td><td style=\"text-align: right;\">  0.166771</td><td style=\"text-align: right;\">0.1     </td><td style=\"text-align: right;\">    10</td><td style=\"text-align: right;\">        13.2485 </td></tr>\n",
       "<tr><td>train_mnist_71abf397</td><td>TERMINATED</td><td>     </td><td style=\"text-align: right;\">1.06363</td><td style=\"text-align: right;\">  0.376857</td><td style=\"text-align: right;\">0.115625</td><td style=\"text-align: right;\">    10</td><td style=\"text-align: right;\">        16.4431 </td></tr>\n",
       "<tr><td>train_mnist_71abf398</td><td>TERMINATED</td><td>     </td><td style=\"text-align: right;\">1.01239</td><td style=\"text-align: right;\">  0.149677</td><td style=\"text-align: right;\">0.075   </td><td style=\"text-align: right;\">    10</td><td style=\"text-align: right;\">        17.8148 </td></tr>\n",
       "<tr><td>train_mnist_71abf399</td><td>TERMINATED</td><td>     </td><td style=\"text-align: right;\">1.06761</td><td style=\"text-align: right;\">  0.250371</td><td style=\"text-align: right;\">0.09375 </td><td style=\"text-align: right;\">    10</td><td style=\"text-align: right;\">        17.3146 </td></tr>\n",
       "<tr><td>train_mnist_71abf39a</td><td>TERMINATED</td><td>     </td><td style=\"text-align: right;\">1.0686 </td><td style=\"text-align: right;\">  0.144051</td><td style=\"text-align: right;\">0.128125</td><td style=\"text-align: right;\">    10</td><td style=\"text-align: right;\">        17.5402 </td></tr>\n",
       "<tr><td>train_mnist_73012b26</td><td>TERMINATED</td><td>     </td><td style=\"text-align: right;\">1.07137</td><td style=\"text-align: right;\">  0.192747</td><td style=\"text-align: right;\">0.10625 </td><td style=\"text-align: right;\">    10</td><td style=\"text-align: right;\">        16.6748 </td></tr>\n",
       "<tr><td>train_mnist_73012b27</td><td>TERMINATED</td><td>     </td><td style=\"text-align: right;\">1.09214</td><td style=\"text-align: right;\">  0.261777</td><td style=\"text-align: right;\">0.084375</td><td style=\"text-align: right;\">    10</td><td style=\"text-align: right;\">        17.5455 </td></tr>\n",
       "<tr><td>train_mnist_73012b28</td><td>TERMINATED</td><td>     </td><td style=\"text-align: right;\">1.00548</td><td style=\"text-align: right;\">  0.483111</td><td style=\"text-align: right;\">0.06875 </td><td style=\"text-align: right;\">    10</td><td style=\"text-align: right;\">        15.4531 </td></tr>\n",
       "<tr><td>train_mnist_73d4ab04</td><td>TERMINATED</td><td>     </td><td style=\"text-align: right;\">1.04986</td><td style=\"text-align: right;\">  0.617687</td><td style=\"text-align: right;\">0.121875</td><td style=\"text-align: right;\">    10</td><td style=\"text-align: right;\">         9.35425</td></tr>\n",
       "<tr><td>train_mnist_7a2a5cd8</td><td>TERMINATED</td><td>     </td><td style=\"text-align: right;\">1.01336</td><td style=\"text-align: right;\">  0.415122</td><td style=\"text-align: right;\">0.1125  </td><td style=\"text-align: right;\">    10</td><td style=\"text-align: right;\">         8.87509</td></tr>\n",
       "</tbody>\n",
       "</table><br><br>"
      ],
      "text/plain": [
       "<IPython.core.display.HTML object>"
      ]
     },
     "metadata": {},
     "output_type": "display_data"
    },
    {
     "name": "stderr",
     "output_type": "stream",
     "text": [
      "2021-06-22 16:33:42,514\tINFO tune.py:549 -- Total run time: 31.00 seconds (30.88 seconds for the tuning loop).\n"
     ]
    }
   ],
   "source": [
    "from hyperopt import hp\n",
    "from ray.tune.suggest.hyperopt import HyperOptSearch\n",
    "\n",
    "space = {\n",
    "    \"lr\": hp.loguniform(\"lr\", 1e-10, 0.1),\n",
    "    \"momentum\": hp.uniform(\"momentum\", 0.1, 0.9),\n",
    "}\n",
    "\n",
    "hyperopt_search = HyperOptSearch(space, metric=\"mean_accuracy\", mode=\"max\")\n",
    "\n",
    "analysis = tune.run(train_mnist, num_samples=10, search_alg=hyperopt_search)\n",
    "\n",
    "# To enable GPUs, use this instead:\n",
    "# analysis = tune.run(\n",
    "#     train_mnist, config=search_space, resources_per_trial={'gpu': 1})\n"
   ]
  },
  {
   "cell_type": "markdown",
   "id": "d31cee2f-2e53-43c5-9e0f-a7b9f5d88bf1",
   "metadata": {
    "jupyter": {
     "outputs_hidden": true
    },
    "tags": []
   },
   "source": [
    "## Testing speed with ray backend and without"
   ]
  },
  {
   "cell_type": "code",
   "execution_count": null,
   "id": "523d942e-ad36-4980-ae90-b0f9a7ea0961",
   "metadata": {},
   "outputs": [],
   "source": [
    "ray.shutdown()\n",
    "times = []"
   ]
  },
  {
   "cell_type": "code",
   "execution_count": null,
   "id": "b601543c-cf55-4393-bf08-6d4e2f042dd1",
   "metadata": {},
   "outputs": [],
   "source": [
    "def train_mnist2():\n",
    "    # Data Setup\n",
    "    mnist_transforms = transforms.Compose(\n",
    "        [transforms.ToTensor(),\n",
    "         transforms.Normalize((0.1307, ), (0.3081, ))])\n",
    "\n",
    "    train_loader = DataLoader(\n",
    "        datasets.MNIST(\"{cwd}/data\", train=True, download=True, transform=mnist_transforms),\n",
    "        batch_size=64,\n",
    "        shuffle=True)\n",
    "    test_loader = DataLoader(\n",
    "        datasets.MNIST(f\"{cwd}/data\", train=False, transform=mnist_transforms),\n",
    "        batch_size=64,\n",
    "        shuffle=True)\n",
    "\n",
    "    device = torch.device(\"cuda\" if torch.cuda.is_available() else \"cpu\")\n",
    "\n",
    "    model = ConvNet()\n",
    "    model.to(device)\n",
    "\n",
    "    optimizer = optim.SGD(\n",
    "        model.parameters(), lr=config[\"lr\"], momentum=config[\"momentum\"])\n",
    "    for i in range(10):\n",
    "        train(model, optimizer, train_loader)\n",
    "        acc = test(model, test_loader)\n",
    "\n",
    "        if i % 5 == 0:\n",
    "            # This saves the model to the trial directory\n",
    "            torch.save(model.state_dict(), \"./model.pth\")"
   ]
  },
  {
   "cell_type": "code",
   "execution_count": null,
   "id": "03c9e6a6-46f4-48f9-8e0d-2114f95a5345",
   "metadata": {},
   "outputs": [],
   "source": [
    "start = time.time()\n",
    "for _ in range(10):\n",
    "    train_mnist2()\n",
    "times.append(time.time()-start)"
   ]
  },
  {
   "cell_type": "code",
   "execution_count": null,
   "id": "f77c9709-7f3c-4763-bd71-5747751ea369",
   "metadata": {},
   "outputs": [],
   "source": [
    "ray.init()"
   ]
  },
  {
   "cell_type": "code",
   "execution_count": 28,
   "id": "90333520-24ce-488c-9b37-76b2af108eed",
   "metadata": {
    "collapsed": true,
    "jupyter": {
     "outputs_hidden": true
    }
   },
   "outputs": [
    {
     "data": {
      "text/html": [
       "== Status ==<br>Memory usage on this node: 4.2/15.5 GiB<br>Using FIFO scheduling algorithm.<br>Resources requested: 0/8 CPUs, 0/0 GPUs, 0.0/8.04 GiB heap, 0.0/4.02 GiB objects<br>Result logdir: /home/therealchainman/ray_results/train_mnist_2021-06-22_16-42-04<br>Number of trials: 16/20 (16 PENDING)<br><table>\n",
       "<thead>\n",
       "<tr><th>Trial name             </th><th>status  </th><th>loc  </th><th style=\"text-align: right;\">         lr</th><th style=\"text-align: right;\">  momentum</th></tr>\n",
       "</thead>\n",
       "<tbody>\n",
       "<tr><td>train_mnist_af561_00000</td><td>PENDING </td><td>     </td><td style=\"text-align: right;\">6.41811e-07</td><td style=\"text-align: right;\">  0.189627</td></tr>\n",
       "<tr><td>train_mnist_af561_00001</td><td>PENDING </td><td>     </td><td style=\"text-align: right;\">2.92354e-09</td><td style=\"text-align: right;\">  0.501897</td></tr>\n",
       "<tr><td>train_mnist_af561_00002</td><td>PENDING </td><td>     </td><td style=\"text-align: right;\">1.01225e-08</td><td style=\"text-align: right;\">  0.383448</td></tr>\n",
       "<tr><td>train_mnist_af561_00003</td><td>PENDING </td><td>     </td><td style=\"text-align: right;\">1.55157e-06</td><td style=\"text-align: right;\">  0.778785</td></tr>\n",
       "<tr><td>train_mnist_af561_00004</td><td>PENDING </td><td>     </td><td style=\"text-align: right;\">6.29387e-09</td><td style=\"text-align: right;\">  0.252046</td></tr>\n",
       "<tr><td>train_mnist_af561_00005</td><td>PENDING </td><td>     </td><td style=\"text-align: right;\">2.83837e-05</td><td style=\"text-align: right;\">  0.635141</td></tr>\n",
       "<tr><td>train_mnist_af561_00006</td><td>PENDING </td><td>     </td><td style=\"text-align: right;\">2.12237e-09</td><td style=\"text-align: right;\">  0.881509</td></tr>\n",
       "<tr><td>train_mnist_af561_00007</td><td>PENDING </td><td>     </td><td style=\"text-align: right;\">3.41018e-08</td><td style=\"text-align: right;\">  0.485819</td></tr>\n",
       "<tr><td>train_mnist_af561_00008</td><td>PENDING </td><td>     </td><td style=\"text-align: right;\">8.61318e-08</td><td style=\"text-align: right;\">  0.189483</td></tr>\n",
       "<tr><td>train_mnist_af561_00009</td><td>PENDING </td><td>     </td><td style=\"text-align: right;\">0.00177473 </td><td style=\"text-align: right;\">  0.293255</td></tr>\n",
       "<tr><td>train_mnist_af561_00010</td><td>PENDING </td><td>     </td><td style=\"text-align: right;\">0.00564488 </td><td style=\"text-align: right;\">  0.869707</td></tr>\n",
       "<tr><td>train_mnist_af561_00011</td><td>PENDING </td><td>     </td><td style=\"text-align: right;\">0.158022   </td><td style=\"text-align: right;\">  0.285643</td></tr>\n",
       "<tr><td>train_mnist_af561_00012</td><td>PENDING </td><td>     </td><td style=\"text-align: right;\">4.68526e-05</td><td style=\"text-align: right;\">  0.233772</td></tr>\n",
       "<tr><td>train_mnist_af561_00013</td><td>PENDING </td><td>     </td><td style=\"text-align: right;\">1.47123e-08</td><td style=\"text-align: right;\">  0.773651</td></tr>\n",
       "<tr><td>train_mnist_af561_00014</td><td>PENDING </td><td>     </td><td style=\"text-align: right;\">1.25491e-10</td><td style=\"text-align: right;\">  0.838552</td></tr>\n",
       "<tr><td>train_mnist_af561_00015</td><td>PENDING </td><td>     </td><td style=\"text-align: right;\">3.72716e-09</td><td style=\"text-align: right;\">  0.462565</td></tr>\n",
       "</tbody>\n",
       "</table><br><br>"
      ],
      "text/plain": [
       "<IPython.core.display.HTML object>"
      ]
     },
     "metadata": {},
     "output_type": "display_data"
    },
    {
     "name": "stderr",
     "output_type": "stream",
     "text": [
      "\u001b[2m\u001b[33m(raylet)\u001b[0m /home/therealchainman/miniconda3/lib/python3.8/site-packages/ray/autoscaler/_private/cli_logger.py:57: FutureWarning: Not all Ray CLI dependencies were found. In Ray 1.4+, the Ray CLI, autoscaler, and dashboard will only be usable via `pip install 'ray[default]'`. Please update your install command.\n",
      "\u001b[2m\u001b[33m(raylet)\u001b[0m   warnings.warn(\n",
      "\u001b[2m\u001b[33m(raylet)\u001b[0m /home/therealchainman/miniconda3/lib/python3.8/site-packages/ray/autoscaler/_private/cli_logger.py:57: FutureWarning: Not all Ray CLI dependencies were found. In Ray 1.4+, the Ray CLI, autoscaler, and dashboard will only be usable via `pip install 'ray[default]'`. Please update your install command.\n",
      "\u001b[2m\u001b[33m(raylet)\u001b[0m   warnings.warn(\n",
      "\u001b[2m\u001b[33m(raylet)\u001b[0m /home/therealchainman/miniconda3/lib/python3.8/site-packages/ray/autoscaler/_private/cli_logger.py:57: FutureWarning: Not all Ray CLI dependencies were found. In Ray 1.4+, the Ray CLI, autoscaler, and dashboard will only be usable via `pip install 'ray[default]'`. Please update your install command.\n",
      "\u001b[2m\u001b[33m(raylet)\u001b[0m   warnings.warn(\n",
      "\u001b[2m\u001b[33m(raylet)\u001b[0m /home/therealchainman/miniconda3/lib/python3.8/site-packages/ray/autoscaler/_private/cli_logger.py:57: FutureWarning: Not all Ray CLI dependencies were found. In Ray 1.4+, the Ray CLI, autoscaler, and dashboard will only be usable via `pip install 'ray[default]'`. Please update your install command.\n",
      "\u001b[2m\u001b[33m(raylet)\u001b[0m   warnings.warn(\n",
      "\u001b[2m\u001b[33m(raylet)\u001b[0m /home/therealchainman/miniconda3/lib/python3.8/site-packages/ray/autoscaler/_private/cli_logger.py:57: FutureWarning: Not all Ray CLI dependencies were found. In Ray 1.4+, the Ray CLI, autoscaler, and dashboard will only be usable via `pip install 'ray[default]'`. Please update your install command.\n",
      "\u001b[2m\u001b[33m(raylet)\u001b[0m   warnings.warn(\n",
      "\u001b[2m\u001b[33m(raylet)\u001b[0m /home/therealchainman/miniconda3/lib/python3.8/site-packages/ray/autoscaler/_private/cli_logger.py:57: FutureWarning: Not all Ray CLI dependencies were found. In Ray 1.4+, the Ray CLI, autoscaler, and dashboard will only be usable via `pip install 'ray[default]'`. Please update your install command.\n",
      "\u001b[2m\u001b[33m(raylet)\u001b[0m   warnings.warn(\n",
      "\u001b[2m\u001b[33m(raylet)\u001b[0m /home/therealchainman/miniconda3/lib/python3.8/site-packages/ray/autoscaler/_private/cli_logger.py:57: FutureWarning: Not all Ray CLI dependencies were found. In Ray 1.4+, the Ray CLI, autoscaler, and dashboard will only be usable via `pip install 'ray[default]'`. Please update your install command.\n",
      "\u001b[2m\u001b[33m(raylet)\u001b[0m   warnings.warn(\n",
      "\u001b[2m\u001b[33m(raylet)\u001b[0m /home/therealchainman/miniconda3/lib/python3.8/site-packages/ray/autoscaler/_private/cli_logger.py:57: FutureWarning: Not all Ray CLI dependencies were found. In Ray 1.4+, the Ray CLI, autoscaler, and dashboard will only be usable via `pip install 'ray[default]'`. Please update your install command.\n",
      "\u001b[2m\u001b[33m(raylet)\u001b[0m   warnings.warn(\n",
      "\u001b[2m\u001b[33m(raylet)\u001b[0m /home/therealchainman/miniconda3/lib/python3.8/site-packages/ray/autoscaler/_private/cli_logger.py:57: FutureWarning: Not all Ray CLI dependencies were found. In Ray 1.4+, the Ray CLI, autoscaler, and dashboard will only be usable via `pip install 'ray[default]'`. Please update your install command.\n",
      "\u001b[2m\u001b[33m(raylet)\u001b[0m   warnings.warn(\n",
      "\u001b[2m\u001b[33m(raylet)\u001b[0m /home/therealchainman/miniconda3/lib/python3.8/site-packages/ray/autoscaler/_private/cli_logger.py:57: FutureWarning: Not all Ray CLI dependencies were found. In Ray 1.4+, the Ray CLI, autoscaler, and dashboard will only be usable via `pip install 'ray[default]'`. Please update your install command.\n",
      "\u001b[2m\u001b[33m(raylet)\u001b[0m   warnings.warn(\n",
      "\u001b[2m\u001b[33m(raylet)\u001b[0m /home/therealchainman/miniconda3/lib/python3.8/site-packages/ray/autoscaler/_private/cli_logger.py:57: FutureWarning: Not all Ray CLI dependencies were found. In Ray 1.4+, the Ray CLI, autoscaler, and dashboard will only be usable via `pip install 'ray[default]'`. Please update your install command.\n",
      "\u001b[2m\u001b[33m(raylet)\u001b[0m   warnings.warn(\n"
     ]
    },
    {
     "name": "stdout",
     "output_type": "stream",
     "text": [
      "\u001b[2m\u001b[36m(pid=16299)\u001b[0m Downloading http://yann.lecun.com/exdb/mnist/train-images-idx3-ubyte.gz\n",
      "\u001b[2m\u001b[36m(pid=16305)\u001b[0m Downloading http://yann.lecun.com/exdb/mnist/train-images-idx3-ubyte.gz\n",
      "\u001b[2m\u001b[36m(pid=16299)\u001b[0m Downloading http://yann.lecun.com/exdb/mnist/train-images-idx3-ubyte.gz to {cwd}/data/MNIST/raw/train-images-idx3-ubyte.gz\n",
      "\u001b[2m\u001b[36m(pid=16304)\u001b[0m Downloading http://yann.lecun.com/exdb/mnist/train-images-idx3-ubyte.gz\n",
      "\u001b[2m\u001b[36m(pid=16301)\u001b[0m Downloading http://yann.lecun.com/exdb/mnist/train-images-idx3-ubyte.gz\n",
      "\u001b[2m\u001b[36m(pid=16306)\u001b[0m Downloading http://yann.lecun.com/exdb/mnist/train-images-idx3-ubyte.gz\n",
      "\u001b[2m\u001b[36m(pid=16303)\u001b[0m Downloading http://yann.lecun.com/exdb/mnist/train-images-idx3-ubyte.gz\n",
      "\u001b[2m\u001b[36m(pid=16302)\u001b[0m Downloading http://yann.lecun.com/exdb/mnist/train-images-idx3-ubyte.gz\n",
      "\u001b[2m\u001b[36m(pid=16300)\u001b[0m Downloading http://yann.lecun.com/exdb/mnist/train-images-idx3-ubyte.gz\n",
      "\u001b[2m\u001b[36m(pid=16299)\u001b[0m Failed to download (trying next):\n",
      "\u001b[2m\u001b[36m(pid=16299)\u001b[0m HTTP Error 503: Service Unavailable\n",
      "\u001b[2m\u001b[36m(pid=16299)\u001b[0m \n",
      "\u001b[2m\u001b[36m(pid=16299)\u001b[0m Downloading https://ossci-datasets.s3.amazonaws.com/mnist/train-images-idx3-ubyte.gz\n",
      "\u001b[2m\u001b[36m(pid=16305)\u001b[0m Failed to download (trying next):\n",
      "\u001b[2m\u001b[36m(pid=16305)\u001b[0m HTTP Error 503: Service Unavailable\n",
      "\u001b[2m\u001b[36m(pid=16305)\u001b[0m \n",
      "\u001b[2m\u001b[36m(pid=16305)\u001b[0m Downloading https://ossci-datasets.s3.amazonaws.com/mnist/train-images-idx3-ubyte.gz\n",
      "\u001b[2m\u001b[36m(pid=16304)\u001b[0m Failed to download (trying next):\n",
      "\u001b[2m\u001b[36m(pid=16304)\u001b[0m HTTP Error 503: Service Unavailable\n",
      "\u001b[2m\u001b[36m(pid=16304)\u001b[0m \n",
      "\u001b[2m\u001b[36m(pid=16304)\u001b[0m Downloading https://ossci-datasets.s3.amazonaws.com/mnist/train-images-idx3-ubyte.gz\n",
      "\u001b[2m\u001b[36m(pid=16306)\u001b[0m Failed to download (trying next):\n",
      "\u001b[2m\u001b[36m(pid=16306)\u001b[0m HTTP Error 503: Service Unavailable\n",
      "\u001b[2m\u001b[36m(pid=16306)\u001b[0m \n",
      "\u001b[2m\u001b[36m(pid=16306)\u001b[0m Downloading https://ossci-datasets.s3.amazonaws.com/mnist/train-images-idx3-ubyte.gz\n",
      "\u001b[2m\u001b[36m(pid=16303)\u001b[0m Failed to download (trying next):\n",
      "\u001b[2m\u001b[36m(pid=16303)\u001b[0m HTTP Error 503: Service Unavailable\n",
      "\u001b[2m\u001b[36m(pid=16303)\u001b[0m \n",
      "\u001b[2m\u001b[36m(pid=16303)\u001b[0m Downloading https://ossci-datasets.s3.amazonaws.com/mnist/train-images-idx3-ubyte.gz\n",
      "\u001b[2m\u001b[36m(pid=16302)\u001b[0m Failed to download (trying next):\n",
      "\u001b[2m\u001b[36m(pid=16302)\u001b[0m HTTP Error 503: Service Unavailable\n",
      "\u001b[2m\u001b[36m(pid=16302)\u001b[0m \n",
      "\u001b[2m\u001b[36m(pid=16302)\u001b[0m Downloading https://ossci-datasets.s3.amazonaws.com/mnist/train-images-idx3-ubyte.gz\n",
      "\u001b[2m\u001b[36m(pid=16300)\u001b[0m Failed to download (trying next):\n",
      "\u001b[2m\u001b[36m(pid=16300)\u001b[0m HTTP Error 503: Service Unavailable\n",
      "\u001b[2m\u001b[36m(pid=16300)\u001b[0m \n",
      "\u001b[2m\u001b[36m(pid=16300)\u001b[0m Downloading https://ossci-datasets.s3.amazonaws.com/mnist/train-images-idx3-ubyte.gz\n",
      "\u001b[2m\u001b[36m(pid=16301)\u001b[0m Failed to download (trying next):\n",
      "\u001b[2m\u001b[36m(pid=16301)\u001b[0m HTTP Error 503: Service Unavailable\n",
      "\u001b[2m\u001b[36m(pid=16301)\u001b[0m \n",
      "\u001b[2m\u001b[36m(pid=16301)\u001b[0m Downloading https://ossci-datasets.s3.amazonaws.com/mnist/train-images-idx3-ubyte.gz\n",
      "\u001b[2m\u001b[36m(pid=16299)\u001b[0m Downloading https://ossci-datasets.s3.amazonaws.com/mnist/train-images-idx3-ubyte.gz to {cwd}/data/MNIST/raw/train-images-idx3-ubyte.gz\n",
      "\u001b[2m\u001b[36m(pid=16305)\u001b[0m Downloading https://ossci-datasets.s3.amazonaws.com/mnist/train-images-idx3-ubyte.gz to {cwd}/data/MNIST/raw/train-images-idx3-ubyte.gz\n",
      "\u001b[2m\u001b[36m(pid=16306)\u001b[0m Downloading https://ossci-datasets.s3.amazonaws.com/mnist/train-images-idx3-ubyte.gz to {cwd}/data/MNIST/raw/train-images-idx3-ubyte.gz\n",
      "\u001b[2m\u001b[36m(pid=16302)\u001b[0m Downloading https://ossci-datasets.s3.amazonaws.com/mnist/train-images-idx3-ubyte.gz to {cwd}/data/MNIST/raw/train-images-idx3-ubyte.gz\n",
      "\u001b[2m\u001b[36m(pid=16300)\u001b[0m Downloading https://ossci-datasets.s3.amazonaws.com/mnist/train-images-idx3-ubyte.gz to {cwd}/data/MNIST/raw/train-images-idx3-ubyte.gz\n",
      "\u001b[2m\u001b[36m(pid=16304)\u001b[0m Downloading https://ossci-datasets.s3.amazonaws.com/mnist/train-images-idx3-ubyte.gz to {cwd}/data/MNIST/raw/train-images-idx3-ubyte.gz\n",
      "\u001b[2m\u001b[36m(pid=16303)\u001b[0m Downloading https://ossci-datasets.s3.amazonaws.com/mnist/train-images-idx3-ubyte.gz to {cwd}/data/MNIST/raw/train-images-idx3-ubyte.gz\n",
      "\u001b[2m\u001b[36m(pid=16301)\u001b[0m Downloading https://ossci-datasets.s3.amazonaws.com/mnist/train-images-idx3-ubyte.gz to {cwd}/data/MNIST/raw/train-images-idx3-ubyte.gz\n"
     ]
    },
    {
     "name": "stderr",
     "output_type": "stream",
     "text": [
      "  0%|          | 0/9912422 [00:00<?, ?it/s]\n",
      "  0%|          | 0/9912422 [00:00<?, ?it/s]\n",
      "  0%|          | 0/9912422 [00:00<?, ?it/s]\n",
      "  0%|          | 0/9912422 [00:00<?, ?it/s]\n",
      "  0%|          | 0/9912422 [00:00<?, ?it/s]\n",
      "  0%|          | 33792/9912422 [00:00<00:30, 323627.41it/s]\n",
      "  0%|          | 26624/9912422 [00:00<00:38, 256982.44it/s]\n",
      "  0%|          | 0/9912422 [00:00<?, ?it/s]\n",
      "  0%|          | 0/9912422 [00:00<?, ?it/s]\n",
      "  0%|          | 0/9912422 [00:00<?, ?it/s]\n",
      "  1%|          | 91136/9912422 [00:00<00:12, 774941.09it/s]\n",
      "  1%|          | 55296/9912422 [00:00<00:17, 548634.81it/s]\n",
      "  1%|          | 95232/9912422 [00:00<00:12, 775051.24it/s]\n",
      "  0%|          | 33792/9912422 [00:00<00:36, 268282.01it/s]\n",
      "  1%|          | 53248/9912422 [00:00<00:19, 510401.21it/s]\n",
      "  0%|          | 34816/9912422 [00:00<00:30, 321452.70it/s]\n",
      "  3%|▎         | 321536/9912422 [00:00<00:09, 963940.00it/s]\n",
      "  2%|▏         | 190464/9912422 [00:00<00:23, 414858.33it/s]\n",
      "  3%|▎         | 334848/9912422 [00:00<00:10, 944297.74it/s]\n",
      "  2%|▏         | 165888/9912422 [00:00<00:29, 330669.15it/s]\n",
      "  1%|▏         | 143360/9912422 [00:00<00:17, 551976.89it/s]\n",
      "  1%|          | 90112/9912422 [00:00<00:26, 367596.04it/s]\n",
      "  1%|          | 103424/9912422 [00:00<00:30, 319479.22it/s]\n",
      "  2%|▏         | 192512/9912422 [00:00<00:16, 597320.14it/s]\n",
      "  5%|▍         | 460800/9912422 [00:00<00:09, 1049541.41it/s]\n",
      "  3%|▎         | 294912/9912422 [00:00<00:19, 493844.19it/s]\n",
      "  5%|▍         | 491520/9912422 [00:00<00:09, 1045895.44it/s]\n",
      "  3%|▎         | 304128/9912422 [00:00<00:22, 421764.37it/s]\n",
      "  2%|▏         | 195584/9912422 [00:00<00:18, 513705.23it/s]\n",
      "  2%|▏         | 174080/9912422 [00:00<00:22, 438522.42it/s]\n",
      "  2%|▏         | 206848/9912422 [00:00<00:24, 400089.79it/s]\n",
      "  3%|▎         | 296960/9912422 [00:00<00:14, 667546.04it/s]\n",
      "  4%|▍         | 399360/9912422 [00:00<00:16, 585429.23it/s]\n",
      "  7%|▋         | 665600/9912422 [00:00<00:08, 1148079.04it/s]\n",
      "  2%|▏         | 247808/9912422 [00:00<00:19, 489624.75it/s]\n",
      "  4%|▍         | 427008/9912422 [00:00<00:18, 516410.80it/s]\n",
      "  6%|▋         | 634880/9912422 [00:00<00:08, 1154809.72it/s]\n",
      "  3%|▎         | 278528/9912422 [00:00<00:18, 522948.61it/s]\n",
      "  3%|▎         | 268288/9912422 [00:00<00:21, 446768.53it/s]\n",
      "  4%|▍         | 401408/9912422 [00:00<00:13, 727069.49it/s]\n",
      "  5%|▌         | 503808/9912422 [00:00<00:14, 657804.95it/s]\n",
      "  8%|▊         | 822272/9912422 [00:00<00:07, 1235183.92it/s]\n",
      "  8%|▊         | 774144/9912422 [00:00<00:07, 1208662.17it/s]\n",
      "  6%|▌         | 582656/9912422 [00:00<00:14, 624684.38it/s]\n",
      "  3%|▎         | 317440/9912422 [00:00<00:19, 484674.21it/s]\n",
      "  4%|▍         | 382976/9912422 [00:00<00:16, 577073.50it/s]\n",
      "  5%|▌         | 505856/9912422 [00:00<00:12, 763681.54it/s]\n",
      "  4%|▍         | 381952/9912422 [00:00<00:18, 507513.62it/s]\n",
      " 10%|▉         | 948224/9912422 [00:00<00:07, 1232307.24it/s]\n",
      "  6%|▋         | 625664/9912422 [00:00<00:13, 698169.56it/s]\n",
      " 10%|▉         | 978944/9912422 [00:00<00:07, 1208668.12it/s]\n",
      "  7%|▋         | 722944/9912422 [00:00<00:13, 695680.94it/s]\n",
      "  6%|▋         | 627712/9912422 [00:00<00:10, 844556.60it/s]\n",
      " 12%|█▏        | 1153024/9912422 [00:00<00:06, 1315152.90it/s]\n",
      "  4%|▍         | 387072/9912422 [00:00<00:18, 511967.79it/s]\n",
      " 11%|█▏        | 1139712/9912422 [00:00<00:06, 1319893.92it/s]\n",
      "  5%|▍         | 487424/9912422 [00:00<00:14, 663286.69it/s]\n",
      "  5%|▌         | 503808/9912422 [00:00<00:15, 597592.65it/s]\n",
      "  8%|▊         | 764928/9912422 [00:00<00:11, 803144.60it/s]\n",
      "  6%|▌         | 608256/9912422 [00:00<00:12, 758423.48it/s]\n",
      "  7%|▋         | 732160/9912422 [00:00<00:10, 841234.08it/s]\n",
      "  9%|▉         | 879616/9912422 [00:00<00:11, 767448.47it/s]\n",
      " 13%|█▎        | 1296384/9912422 [00:00<00:06, 1379075.33it/s]\n"
     ]
    },
    {
     "data": {
      "text/html": [
       "== Status ==<br>Memory usage on this node: 5.2/15.5 GiB<br>Using FIFO scheduling algorithm.<br>Resources requested: 8.0/8 CPUs, 0/0 GPUs, 0.0/8.04 GiB heap, 0.0/4.02 GiB objects<br>Result logdir: /home/therealchainman/ray_results/train_mnist_2021-06-22_16-42-04<br>Number of trials: 20/20 (12 PENDING, 8 RUNNING)<br><table>\n",
       "<thead>\n",
       "<tr><th>Trial name             </th><th>status  </th><th>loc  </th><th style=\"text-align: right;\">         lr</th><th style=\"text-align: right;\">  momentum</th></tr>\n",
       "</thead>\n",
       "<tbody>\n",
       "<tr><td>train_mnist_af561_00000</td><td>RUNNING </td><td>     </td><td style=\"text-align: right;\">6.41811e-07</td><td style=\"text-align: right;\">  0.189627</td></tr>\n",
       "<tr><td>train_mnist_af561_00001</td><td>RUNNING </td><td>     </td><td style=\"text-align: right;\">2.92354e-09</td><td style=\"text-align: right;\">  0.501897</td></tr>\n",
       "<tr><td>train_mnist_af561_00002</td><td>RUNNING </td><td>     </td><td style=\"text-align: right;\">1.01225e-08</td><td style=\"text-align: right;\">  0.383448</td></tr>\n",
       "<tr><td>train_mnist_af561_00003</td><td>RUNNING </td><td>     </td><td style=\"text-align: right;\">1.55157e-06</td><td style=\"text-align: right;\">  0.778785</td></tr>\n",
       "<tr><td>train_mnist_af561_00004</td><td>RUNNING </td><td>     </td><td style=\"text-align: right;\">6.29387e-09</td><td style=\"text-align: right;\">  0.252046</td></tr>\n",
       "<tr><td>train_mnist_af561_00005</td><td>RUNNING </td><td>     </td><td style=\"text-align: right;\">2.83837e-05</td><td style=\"text-align: right;\">  0.635141</td></tr>\n",
       "<tr><td>train_mnist_af561_00006</td><td>RUNNING </td><td>     </td><td style=\"text-align: right;\">2.12237e-09</td><td style=\"text-align: right;\">  0.881509</td></tr>\n",
       "<tr><td>train_mnist_af561_00007</td><td>RUNNING </td><td>     </td><td style=\"text-align: right;\">3.41018e-08</td><td style=\"text-align: right;\">  0.485819</td></tr>\n",
       "<tr><td>train_mnist_af561_00008</td><td>PENDING </td><td>     </td><td style=\"text-align: right;\">8.61318e-08</td><td style=\"text-align: right;\">  0.189483</td></tr>\n",
       "<tr><td>train_mnist_af561_00009</td><td>PENDING </td><td>     </td><td style=\"text-align: right;\">0.00177473 </td><td style=\"text-align: right;\">  0.293255</td></tr>\n",
       "<tr><td>train_mnist_af561_00010</td><td>PENDING </td><td>     </td><td style=\"text-align: right;\">0.00564488 </td><td style=\"text-align: right;\">  0.869707</td></tr>\n",
       "<tr><td>train_mnist_af561_00011</td><td>PENDING </td><td>     </td><td style=\"text-align: right;\">0.158022   </td><td style=\"text-align: right;\">  0.285643</td></tr>\n",
       "<tr><td>train_mnist_af561_00012</td><td>PENDING </td><td>     </td><td style=\"text-align: right;\">4.68526e-05</td><td style=\"text-align: right;\">  0.233772</td></tr>\n",
       "<tr><td>train_mnist_af561_00013</td><td>PENDING </td><td>     </td><td style=\"text-align: right;\">1.47123e-08</td><td style=\"text-align: right;\">  0.773651</td></tr>\n",
       "<tr><td>train_mnist_af561_00014</td><td>PENDING </td><td>     </td><td style=\"text-align: right;\">1.25491e-10</td><td style=\"text-align: right;\">  0.838552</td></tr>\n",
       "<tr><td>train_mnist_af561_00015</td><td>PENDING </td><td>     </td><td style=\"text-align: right;\">3.72716e-09</td><td style=\"text-align: right;\">  0.462565</td></tr>\n",
       "<tr><td>train_mnist_af561_00016</td><td>PENDING </td><td>     </td><td style=\"text-align: right;\">3.09241e-07</td><td style=\"text-align: right;\">  0.21736 </td></tr>\n",
       "<tr><td>train_mnist_af561_00017</td><td>PENDING </td><td>     </td><td style=\"text-align: right;\">1.51156e-06</td><td style=\"text-align: right;\">  0.266795</td></tr>\n",
       "<tr><td>train_mnist_af561_00018</td><td>PENDING </td><td>     </td><td style=\"text-align: right;\">2.21039e-06</td><td style=\"text-align: right;\">  0.66885 </td></tr>\n",
       "<tr><td>train_mnist_af561_00019</td><td>PENDING </td><td>     </td><td style=\"text-align: right;\">6.47251e-05</td><td style=\"text-align: right;\">  0.821736</td></tr>\n",
       "</tbody>\n",
       "</table><br><br>"
      ],
      "text/plain": [
       "<IPython.core.display.HTML object>"
      ]
     },
     "metadata": {},
     "output_type": "display_data"
    },
    {
     "name": "stderr",
     "output_type": "stream",
     "text": [
      "  9%|▉         | 869376/9912422 [00:00<00:10, 825682.09it/s]\n",
      " 14%|█▎        | 1344512/9912422 [00:00<00:06, 1320538.58it/s]\n",
      "  5%|▍         | 455680/9912422 [00:00<00:19, 476403.59it/s]\n",
      "  6%|▋         | 625664/9912422 [00:00<00:14, 641219.72it/s]\n",
      "  7%|▋         | 713728/9912422 [00:00<00:11, 804845.13it/s]\n",
      "  9%|▊         | 854016/9912422 [00:00<00:09, 909579.58it/s]\n",
      " 10%|█         | 1008640/9912422 [00:01<00:09, 917734.43it/s]\n",
      " 10%|█         | 1036288/9912422 [00:01<00:10, 868553.86it/s]\n",
      " 15%|█▍        | 1470464/9912422 [00:01<00:05, 1422119.62it/s]\n",
      " 16%|█▌        | 1553408/9912422 [00:01<00:06, 1371141.66it/s]\n",
      "  5%|▌         | 526336/9912422 [00:01<00:19, 476632.16it/s]\n",
      "  8%|▊         | 802816/9912422 [00:00<00:11, 819917.81it/s]\n",
      "  8%|▊         | 764928/9912422 [00:01<00:12, 713018.25it/s]\n",
      " 10%|▉         | 975872/9912422 [00:01<00:09, 897925.04it/s]\n",
      " 12%|█▏        | 1146880/9912422 [00:01<00:08, 1009334.64it/s]\n",
      " 12%|█▏        | 1210368/9912422 [00:01<00:09, 942680.19it/s]\n",
      " 16%|█▋        | 1614848/9912422 [00:01<00:06, 1337586.96it/s]\n",
      " 18%|█▊        | 1744896/9912422 [00:01<00:06, 1322989.16it/s]\n",
      "  6%|▌         | 595968/9912422 [00:01<00:20, 464094.07it/s]\n",
      "  9%|▉         | 890880/9912422 [00:01<00:12, 723934.18it/s]\n",
      "  9%|▉         | 904192/9912422 [00:01<00:11, 752719.83it/s]\n",
      " 11%|█         | 1097728/9912422 [00:01<00:09, 966467.40it/s]\n",
      " 13%|█▎        | 1257472/9912422 [00:01<00:08, 980833.08it/s] \n",
      " 18%|█▊        | 1766400/9912422 [00:01<00:06, 1266964.11it/s]\n",
      " 14%|█▍        | 1384448/9912422 [00:01<00:08, 976667.95it/s]\n",
      " 19%|█▉        | 1901568/9912422 [00:01<00:05, 1383943.26it/s]\n",
      " 12%|█▏        | 1197056/9912422 [00:01<00:09, 888248.28it/s]\n",
      "  7%|▋         | 665600/9912422 [00:01<00:21, 436976.94it/s]\n",
      " 19%|█▉        | 1923072/9912422 [00:01<00:05, 1338387.28it/s]\n",
      " 10%|▉         | 974848/9912422 [00:01<00:13, 652534.36it/s]\n",
      " 10%|▉         | 986112/9912422 [00:01<00:13, 673545.99it/s]\n",
      " 14%|█▎        | 1362944/9912422 [00:01<00:09, 856767.87it/s]\n",
      " 15%|█▌        | 1523712/9912422 [00:01<00:07, 1071574.40it/s]\n",
      " 21%|██        | 2041856/9912422 [00:01<00:06, 1309216.97it/s]\n",
      " 21%|██        | 2060288/9912422 [00:01<00:06, 1249143.25it/s]\n",
      " 13%|█▎        | 1289216/9912422 [00:01<00:11, 780970.91it/s]\n",
      " 15%|█▍        | 1461248/9912422 [00:01<00:09, 855197.25it/s]\n",
      " 17%|█▋        | 1640448/9912422 [00:01<00:07, 1042354.54it/s]\n",
      " 11%|█         | 1114112/9912422 [00:01<00:12, 684759.86it/s]\n",
      " 16%|█▌        | 1565696/9912422 [00:01<00:09, 897986.46it/s]\n",
      " 23%|██▎       | 2249728/9912422 [00:01<00:06, 1270829.03it/s]\n",
      "  7%|▋         | 717824/9912422 [00:01<00:26, 344324.85it/s]\n",
      " 22%|██▏       | 2219008/9912422 [00:01<00:06, 1187226.18it/s]\n",
      " 11%|█         | 1113088/9912422 [00:01<00:13, 639566.65it/s]\n",
      " 14%|█▍        | 1411072/9912422 [00:01<00:10, 802846.62it/s]\n",
      " 18%|█▊        | 1767424/9912422 [00:01<00:08, 1018006.86it/s]\n",
      " 13%|█▎        | 1253376/9912422 [00:01<00:11, 768835.17it/s]\n",
      " 17%|█▋        | 1687552/9912422 [00:01<00:08, 974096.94it/s]\n",
      " 16%|█▌        | 1567744/9912422 [00:01<00:09, 926244.85it/s]\n",
      " 25%|██▌       | 2493440/9912422 [00:01<00:05, 1411290.69it/s]\n",
      "  8%|▊         | 804864/9912422 [00:01<00:23, 392647.43it/s]\n",
      " 25%|██▍       | 2462720/9912422 [00:01<00:05, 1337206.33it/s]\n",
      " 13%|█▎        | 1269760/9912422 [00:01<00:12, 704180.65it/s]\n",
      " 18%|█▊        | 1792000/9912422 [00:01<00:08, 907740.47it/s]\n",
      " 27%|██▋       | 2640896/9912422 [00:01<00:05, 1428830.30it/s]\n",
      " 20%|█▉        | 1976320/9912422 [00:01<00:07, 1028347.36it/s]\n",
      " 26%|██▋       | 2623488/9912422 [00:01<00:05, 1408259.41it/s]\n",
      " 14%|█▍        | 1410048/9912422 [00:01<00:10, 791517.68it/s]\n",
      " 17%|█▋        | 1672192/9912422 [00:01<00:09, 909523.22it/s]\n",
      " 14%|█▍        | 1426432/9912422 [00:01<00:11, 756862.98it/s]\n",
      " 19%|█▉        | 1913856/9912422 [00:02<00:08, 966785.07it/s]\n",
      " 28%|██▊       | 2788352/9912422 [00:01<00:05, 1381269.84it/s]\n",
      "  9%|▊         | 857088/9912422 [00:02<00:27, 331337.96it/s]\n",
      " 28%|██▊       | 2771968/9912422 [00:02<00:05, 1220559.66it/s]\n",
      " 16%|█▌        | 1548288/9912422 [00:01<00:09, 880986.58it/s]\n",
      " 18%|█▊        | 1770496/9912422 [00:01<00:09, 891638.62it/s]\n",
      " 30%|██▉       | 2930688/9912422 [00:02<00:05, 1383432.62it/s]\n",
      " 16%|█▌        | 1599488/9912422 [00:02<00:09, 891757.44it/s]\n",
      " 19%|█▉        | 1881088/9912422 [00:02<00:08, 943674.51it/s]\n",
      " 20%|██        | 2015232/9912422 [00:02<00:08, 894282.17it/s]\n",
      " 22%|██▏       | 2202624/9912422 [00:02<00:07, 994539.40it/s] \n",
      " 30%|███       | 2984960/9912422 [00:02<00:05, 1340264.19it/s]\n",
      " 17%|█▋        | 1643520/9912422 [00:02<00:10, 774080.86it/s]\n",
      " 22%|██▏       | 2174976/9912422 [00:02<00:07, 1025609.61it/s]\n",
      " 32%|███▏      | 3137536/9912422 [00:02<00:04, 1515541.23it/s]\n",
      "  9%|▉         | 926720/9912422 [00:02<00:25, 352887.48it/s]\n",
      " 17%|█▋        | 1701888/9912422 [00:02<00:09, 905047.95it/s]\n",
      " 20%|██        | 1985536/9912422 [00:02<00:08, 968037.91it/s]\n",
      " 33%|███▎      | 3246080/9912422 [00:02<00:04, 1547545.86it/s]\n",
      " 25%|██▍       | 2428928/9912422 [00:02<00:06, 1121590.00it/s]\n",
      " 18%|█▊        | 1740800/9912422 [00:02<00:10, 794772.34it/s]\n",
      " 21%|██        | 2089984/9912422 [00:02<00:08, 973585.85it/s]\n",
      " 33%|███▎      | 3295232/9912422 [00:02<00:04, 1514611.72it/s]\n",
      " 24%|██▎       | 2331648/9912422 [00:02<00:06, 1138388.60it/s]\n",
      " 10%|▉         | 978944/9912422 [00:02<00:26, 337518.84it/s]\n",
      " 35%|███▍      | 3420160/9912422 [00:02<00:04, 1584126.84it/s]\n",
      " 18%|█▊        | 1802240/9912422 [00:02<00:10, 795882.54it/s]\n",
      " 25%|██▍       | 2456576/9912422 [00:02<00:06, 1130952.18it/s]\n",
      " 35%|███▌      | 3485696/9912422 [00:02<00:04, 1601879.70it/s]\n",
      " 27%|██▋       | 2672640/9912422 [00:02<00:05, 1232703.63it/s]\n",
      " 19%|█▉        | 1914880/9912422 [00:02<00:09, 877355.97it/s]\n",
      " 23%|██▎       | 2264064/9912422 [00:02<00:07, 1058228.99it/s]\n",
      " 38%|███▊      | 3729408/9912422 [00:02<00:03, 1783132.72it/s]\n",
      " 11%|█         | 1048576/9912422 [00:02<00:23, 379057.67it/s]\n",
      " 36%|███▋      | 3594240/9912422 [00:02<00:03, 1618784.00it/s]\n",
      " 20%|██        | 1983488/9912422 [00:02<00:08, 902172.07it/s]\n",
      " 26%|██▋       | 2621440/9912422 [00:02<00:05, 1248562.42it/s]\n",
      " 29%|██▉       | 2916352/9912422 [00:02<00:04, 1410526.91it/s]\n",
      " 21%|██        | 2105344/9912422 [00:02<00:07, 1021435.57it/s]\n",
      " 25%|██▍       | 2472960/9912422 [00:02<00:06, 1131062.05it/s]\n",
      " 28%|██▊       | 2766848/9912422 [00:02<00:05, 1266430.73it/s]\n",
      " 40%|███▉      | 3938304/9912422 [00:02<00:03, 1748141.34it/s]\n",
      " 39%|███▉      | 3890176/9912422 [00:02<00:03, 1780404.17it/s]\n",
      " 11%|█▏        | 1118208/9912422 [00:02<00:23, 377348.73it/s]\n",
      " 41%|████      | 4080640/9912422 [00:02<00:03, 1787223.78it/s]\n",
      " 23%|██▎       | 2245632/9912422 [00:02<00:07, 1050764.77it/s]\n",
      " 22%|██▏       | 2174976/9912422 [00:02<00:08, 949175.76it/s]\n",
      " 26%|██▌       | 2590720/9912422 [00:02<00:06, 1112815.16it/s]\n",
      " 30%|██▉       | 2958336/9912422 [00:02<00:04, 1408983.31it/s]\n",
      " 43%|████▎     | 4216832/9912422 [00:02<00:02, 1959837.24it/s]\n",
      " 32%|███▏      | 3177472/9912422 [00:02<00:04, 1383744.43it/s]\n",
      " 45%|████▍     | 4426752/9912422 [00:02<00:02, 1886755.33it/s]\n",
      " 12%|█▏        | 1204224/9912422 [00:02<00:21, 401450.04it/s]\n",
      " 43%|████▎     | 4268032/9912422 [00:02<00:03, 1737768.81it/s]\n",
      " 24%|██▍       | 2360320/9912422 [00:02<00:08, 924407.88it/s] \n",
      " 28%|██▊       | 2734080/9912422 [00:02<00:06, 1135128.70it/s]\n",
      " 24%|██▍       | 2401280/9912422 [00:02<00:07, 1003073.74it/s]\n",
      " 31%|███▏      | 3108864/9912422 [00:02<00:05, 1319240.33it/s]\n",
      " 35%|███▍      | 3456000/9912422 [00:02<00:04, 1453005.94it/s]\n",
      " 26%|██▌       | 2541568/9912422 [00:02<00:06, 1079876.45it/s]\n",
      " 33%|███▎      | 3249152/9912422 [00:02<00:05, 1330562.58it/s]\n",
      " 47%|████▋     | 4625408/9912422 [00:02<00:02, 1852461.25it/s]\n",
      " 46%|████▌     | 4569088/9912422 [00:02<00:02, 1821022.37it/s]\n",
      " 30%|██▉       | 2942976/9912422 [00:02<00:05, 1213692.05it/s]\n",
      " 38%|███▊      | 3734528/9912422 [00:03<00:03, 1670645.96it/s]\n",
      " 34%|███▍      | 3393536/9912422 [00:03<00:04, 1352870.66it/s]\n",
      " 49%|████▉     | 4843520/9912422 [00:03<00:02, 1890236.88it/s]\n",
      " 13%|█▎        | 1274880/9912422 [00:03<00:21, 394826.94it/s]\n",
      " 49%|████▉     | 4847616/9912422 [00:03<00:02, 2030968.07it/s]\n",
      " 27%|██▋       | 2666496/9912422 [00:02<00:06, 1108736.97it/s]\n",
      " 26%|██▋       | 2610176/9912422 [00:02<00:06, 1057590.35it/s]\n",
      " 32%|███▏      | 3151872/9912422 [00:03<00:05, 1338050.16it/s]\n",
      " 40%|███▉      | 3919872/9912422 [00:03<00:03, 1645796.23it/s]\n",
      " 28%|██▊       | 2789376/9912422 [00:03<00:06, 1052662.03it/s]\n",
      " 28%|██▊       | 2801664/9912422 [00:03<00:05, 1219564.39it/s]\n",
      " 51%|█████     | 5062656/9912422 [00:03<00:02, 2012289.30it/s]\n",
      " 33%|███▎      | 3292160/9912422 [00:03<00:04, 1353685.00it/s]\n",
      " 36%|███▌      | 3532800/9912422 [00:03<00:04, 1298316.55it/s]\n",
      " 52%|█████▏    | 5139456/9912422 [00:03<00:02, 2057373.67it/s]\n",
      " 14%|█▎        | 1344512/9912422 [00:03<00:21, 402375.05it/s]\n",
      " 30%|██▉       | 2936832/9912422 [00:03<00:05, 1209412.86it/s]\n",
      " 41%|████▏     | 4097024/9912422 [00:03<00:03, 1553479.60it/s]\n",
      " 30%|██▉       | 2959360/9912422 [00:03<00:05, 1188008.13it/s]\n",
      " 38%|███▊      | 3776512/9912422 [00:03<00:04, 1441915.85it/s]\n",
      " 55%|█████▌    | 5487616/9912422 [00:03<00:01, 2302394.83it/s]\n",
      " 54%|█████▍    | 5335040/9912422 [00:03<00:02, 2176699.49it/s]\n",
      " 35%|███▌      | 3500032/9912422 [00:03<00:04, 1488774.82it/s]\n",
      " 14%|█▍        | 1431552/9912422 [00:03<00:19, 431478.81it/s]\n",
      " 44%|████▍     | 4378624/9912422 [00:03<00:03, 1710725.08it/s]\n",
      " 57%|█████▋    | 5691392/9912422 [00:03<00:01, 2464353.23it/s]\n",
      " 32%|███▏      | 3133440/9912422 [00:03<00:05, 1250263.72it/s]\n",
      " 31%|███       | 3097600/9912422 [00:03<00:05, 1195879.81it/s]\n",
      " 37%|███▋      | 3674112/9912422 [00:03<00:04, 1502851.23it/s]\n",
      " 40%|████      | 3985408/9912422 [00:03<00:03, 1568520.79it/s]\n",
      " 58%|█████▊    | 5733376/9912422 [00:03<00:01, 2156291.49it/s]\n",
      " 15%|█▌        | 1501184/9912422 [00:03<00:18, 451701.23it/s]\n",
      " 46%|████▌     | 4561920/9912422 [00:03<00:03, 1724162.26it/s]\n",
      " 33%|███▎      | 3268608/9912422 [00:03<00:05, 1237836.20it/s]\n",
      " 33%|███▎      | 3223552/9912422 [00:03<00:05, 1130179.77it/s]\n",
      " 39%|███▉      | 3848192/9912422 [00:03<00:04, 1472545.39it/s]\n",
      " 42%|████▏     | 4151296/9912422 [00:03<00:03, 1513077.92it/s]\n",
      " 60%|██████    | 5961728/9912422 [00:03<00:01, 2061532.75it/s]\n",
      " 48%|████▊     | 4743168/9912422 [00:03<00:03, 1675594.99it/s]\n",
      " 60%|██████    | 5957632/9912422 [00:03<00:01, 2055289.56it/s]\n",
      " 44%|████▍     | 4350976/9912422 [00:03<00:03, 1579402.60it/s]\n",
      " 64%|██████▍   | 6323200/9912422 [00:03<00:01, 2311665.46it/s]\n",
      " 63%|██████▎   | 6275072/9912422 [00:03<00:01, 2230224.51it/s]\n",
      " 35%|███▍      | 3429376/9912422 [00:03<00:05, 1255727.06it/s]\n",
      " 35%|███▌      | 3480576/9912422 [00:03<00:05, 1272712.89it/s]\n",
      " 41%|████      | 4039680/9912422 [00:03<00:03, 1580526.39it/s]\n",
      " 16%|█▌        | 1588224/9912422 [00:03<00:18, 455345.29it/s]\n",
      " 42%|████▏     | 4202496/9912422 [00:03<00:03, 1522271.17it/s]\n",
      " 46%|████▌     | 4577280/9912422 [00:03<00:03, 1602685.27it/s]\n",
      " 66%|██████▋   | 6571008/9912422 [00:03<00:01, 2296845.78it/s]\n",
      " 51%|█████▏    | 5092352/9912422 [00:03<00:02, 1681659.42it/s]\n",
      " 66%|██████▌   | 6553600/9912422 [00:03<00:01, 2181098.63it/s]\n",
      " 37%|███▋      | 3655680/9912422 [00:03<00:04, 1356209.78it/s]\n",
      " 37%|███▋      | 3637248/9912422 [00:03<00:04, 1270656.94it/s]\n",
      " 69%|██████▉   | 6827008/9912422 [00:03<00:01, 2369300.57it/s]\n",
      " 17%|█▋        | 1675264/9912422 [00:03<00:16, 497763.02it/s]\n",
      " 44%|████▍     | 4370432/9912422 [00:03<00:03, 1518462.14it/s]\n",
      " 38%|███▊      | 3812352/9912422 [00:03<00:04, 1292209.65it/s]\n",
      " 48%|████▊     | 4768768/9912422 [00:03<00:03, 1608929.78it/s]\n",
      " 69%|██████▉   | 6832128/9912422 [00:03<00:01, 2231732.24it/s]\n",
      " 39%|███▉      | 3863552/9912422 [00:03<00:04, 1375425.79it/s]\n",
      " 46%|████▌     | 4544512/9912422 [00:03<00:03, 1540455.50it/s]\n",
      " 71%|███████▏  | 7072768/9912422 [00:03<00:01, 2360455.48it/s]\n",
      " 55%|█████▌    | 5457920/9912422 [00:03<00:02, 1768330.84it/s]\n",
      " 17%|█▋        | 1727488/9912422 [00:03<00:19, 420771.64it/s]\n",
      " 51%|█████     | 5012480/9912422 [00:04<00:02, 1696715.60it/s]\n",
      " 72%|███████▏  | 7127040/9912422 [00:04<00:01, 2288407.12it/s]\n",
      " 40%|████      | 3969024/9912422 [00:03<00:04, 1274016.81it/s]\n",
      " 40%|████      | 4008960/9912422 [00:03<00:04, 1320006.82it/s]\n",
      " 74%|███████▍  | 7315456/9912422 [00:04<00:01, 2277375.83it/s]\n",
      " 18%|█▊        | 1779712/9912422 [00:04<00:18, 428402.60it/s]\n",
      " 58%|█████▊    | 5771264/9912422 [00:04<00:02, 1969138.12it/s]\n",
      " 42%|████▏     | 4212736/9912422 [00:04<00:03, 1436525.75it/s]\n",
      " 48%|████▊     | 4770816/9912422 [00:04<00:03, 1605593.86it/s]\n",
      " 75%|███████▌  | 7467008/9912422 [00:04<00:00, 2537048.46it/s]\n",
      " 53%|█████▎    | 5237760/9912422 [00:04<00:02, 1819413.06it/s]\n",
      " 78%|███████▊  | 7698432/9912422 [00:04<00:00, 2591213.75it/s]\n",
      " 61%|██████    | 5997568/9912422 [00:04<00:01, 2045241.62it/s]\n",
      " 42%|████▏     | 4211712/9912422 [00:04<00:04, 1328064.22it/s]\n",
      " 50%|█████     | 4996096/9912422 [00:04<00:02, 1755904.37it/s]\n",
      " 55%|█████▍    | 5447680/9912422 [00:04<00:02, 1823812.16it/s]\n",
      " 78%|███████▊  | 7737344/9912422 [00:04<00:00, 2507760.65it/s]\n",
      " 44%|████▍     | 4386816/9912422 [00:04<00:03, 1472805.28it/s]\n",
      " 44%|████▍     | 4368384/9912422 [00:04<00:03, 1386815.36it/s]\n",
      " 52%|█████▏    | 5187584/9912422 [00:04<00:02, 1755581.61it/s]\n",
      " 57%|█████▋    | 5639168/9912422 [00:04<00:02, 1836228.32it/s]\n",
      " 80%|████████  | 7975936/9912422 [00:04<00:00, 2525543.08it/s]\n",
      " 19%|█▉        | 1866752/9912422 [00:04<00:19, 415160.59it/s]\n",
      " 63%|██████▎   | 6258688/9912422 [00:04<00:01, 2033608.36it/s]\n",
      " 81%|████████  | 8033280/9912422 [00:04<00:00, 2551669.35it/s]\n",
      " 46%|████▌     | 4543488/9912422 [00:04<00:03, 1399355.58it/s]\n",
      " 83%|████████▎ | 8255488/9912422 [00:04<00:00, 2524608.16it/s]\n",
      " 46%|████▌     | 4577280/9912422 [00:04<00:03, 1525550.37it/s]\n",
      " 54%|█████▍    | 5380096/9912422 [00:04<00:02, 1790662.40it/s]\n",
      " 59%|█████▉    | 5830656/9912422 [00:04<00:02, 1763107.05it/s]\n",
      " 65%|██████▌   | 6467584/9912422 [00:04<00:01, 1846404.54it/s]\n",
      " 84%|████████▍ | 8311808/9912422 [00:04<00:00, 2485547.91it/s]\n",
      " 48%|████▊     | 4769792/9912422 [00:04<00:03, 1563769.42it/s]\n",
      " 20%|█▉        | 1953792/9912422 [00:04<00:17, 445488.96it/s]\n",
      " 61%|██████    | 6009856/9912422 [00:04<00:03, 1121380.17it/s]\n",
      " 86%|████████▌ | 8517632/9912422 [00:04<00:00, 1455597.47it/s]\n",
      " 67%|██████▋   | 6660096/9912422 [00:04<00:02, 1125541.71it/s]\n",
      " 86%|████████▋ | 8566784/9912422 [00:04<00:00, 1568664.36it/s]\n",
      " 48%|████▊     | 4737024/9912422 [00:04<00:06, 847840.26it/s] \n",
      " 56%|█████▌    | 5562368/9912422 [00:04<00:04, 1024858.90it/s]\n",
      " 20%|██        | 2000896/9912422 [00:04<00:28, 278084.30it/s]\n",
      " 50%|████▉     | 4936704/9912422 [00:04<00:05, 936766.71it/s] \n",
      " 62%|██████▏   | 6111232/9912422 [00:04<00:02, 1353428.13it/s]\n",
      " 93%|█████████▎| 9212928/9912422 [00:04<00:00, 1895610.66it/s]\n",
      " 52%|█████▏    | 5133312/9912422 [00:04<00:04, 1104017.57it/s]\n",
      " 65%|██████▌   | 6456320/9912422 [00:04<00:02, 1416468.57it/s]\n",
      " 92%|█████████▏| 9164800/9912422 [00:04<00:00, 1991369.19it/s]\n",
      " 21%|██        | 2075648/9912422 [00:04<00:24, 324570.05it/s]\n",
      " 72%|███████▏  | 7163904/9912422 [00:04<00:01, 1428934.07it/s]\n",
      " 53%|█████▎    | 5292032/9912422 [00:04<00:03, 1187528.56it/s]\n",
      " 21%|██▏       | 2117632/9912422 [00:05<00:22, 343506.18it/s]\n",
      " 75%|███████▍  | 7386112/9912422 [00:05<00:01, 1420072.53it/s]\n",
      " 96%|█████████▌| 9467904/9912422 [00:05<00:00, 1782799.36it/s]\n",
      " 54%|█████▍    | 5332992/9912422 [00:05<00:04, 1093000.62it/s]\n",
      " 67%|██████▋   | 6667264/9912422 [00:05<00:02, 1197851.47it/s]\n",
      " 96%|█████████▋| 9549824/9912422 [00:05<00:00, 1630234.33it/s]\n",
      " 55%|█████▌    | 5479424/9912422 [00:05<00:04, 1099655.53it/s]\n",
      " 64%|██████▍   | 6372352/9912422 [00:05<00:02, 1184084.84it/s]\n",
      " 22%|██▏       | 2159616/9912422 [00:05<00:23, 324321.93it/s]\n",
      " 56%|█████▌    | 5505024/9912422 [00:05<00:03, 1111780.78it/s]\n",
      " 69%|██████▉   | 6841344/9912422 [00:05<00:02, 1216069.66it/s]\n",
      " 77%|███████▋  | 7583744/9912422 [00:05<00:01, 1220632.54it/s]\n",
      " 98%|█████████▊| 9723904/9912422 [00:05<00:00, 1700813.09it/s]\n",
      " 99%|█████████▉| 9823232/9912422 [00:05<00:00, 1668798.66it/s]\n",
      " 66%|██████▋   | 6583296/9912422 [00:05<00:02, 1188332.38it/s]\n",
      " 71%|███████   | 7001088/9912422 [00:05<00:02, 1289218.66it/s]\n",
      "9913344it [00:05, 1844666.76it/s]                             \n",
      "9913344it [00:05, 1838795.46it/s]                             \n",
      " 57%|█████▋    | 5639168/9912422 [00:05<00:04, 994014.71it/s] \n",
      " 57%|█████▋    | 5660672/9912422 [00:05<00:04, 1040763.59it/s]\n",
      " 22%|██▏       | 2197504/9912422 [00:05<00:28, 274083.78it/s]\n",
      " 79%|███████▉  | 7877632/9912422 [00:05<00:01, 1431390.25it/s]\n",
      " 59%|█████▊    | 5814272/9912422 [00:05<00:03, 1141467.57it/s]\n",
      " 68%|██████▊   | 6766592/9912422 [00:05<00:02, 1323954.82it/s]\n",
      " 72%|███████▏  | 7171072/9912422 [00:05<00:01, 1380087.41it/s]\n"
     ]
    },
    {
     "name": "stdout",
     "output_type": "stream",
     "text": [
      "\u001b[2m\u001b[36m(pid=16305)\u001b[0m Extracting {cwd}/data/MNIST/raw/train-images-idx3-ubyte.gz to {cwd}/data/MNIST/raw\n",
      "\u001b[2m\u001b[36m(pid=16302)\u001b[0m Extracting {cwd}/data/MNIST/raw/train-images-idx3-ubyte.gz to {cwd}/data/MNIST/raw\n"
     ]
    },
    {
     "name": "stderr",
     "output_type": "stream",
     "text": [
      " 23%|██▎       | 2232320/9912422 [00:05<00:27, 283599.77it/s]\n",
      " 81%|████████▏ | 8066048/9912422 [00:05<00:01, 1509115.28it/s]\n",
      " 60%|██████    | 5961728/9912422 [00:05<00:03, 1152477.29it/s]\n",
      " 58%|█████▊    | 5796864/9912422 [00:05<00:03, 1048395.52it/s]\n",
      " 70%|███████   | 6949888/9912422 [00:05<00:02, 1345218.40it/s]\n",
      " 75%|███████▍  | 7397376/9912422 [00:05<00:01, 1553242.91it/s]\n",
      " 83%|████████▎ | 8250368/9912422 [00:05<00:01, 1564798.36it/s]\n",
      " 72%|███████▏  | 7141376/9912422 [00:05<00:01, 1477028.88it/s]\n",
      " 62%|██████▏   | 6110208/9912422 [00:05<00:03, 1207570.85it/s]\n",
      " 23%|██▎       | 2301952/9912422 [00:05<00:24, 315052.95it/s]\n",
      " 77%|███████▋  | 7588864/9912422 [00:05<00:01, 1636007.97it/s]\n",
      " 61%|██████    | 6055936/9912422 [00:05<00:03, 1156012.72it/s]\n",
      " 86%|████████▋ | 8573952/9912422 [00:05<00:00, 1827500.06it/s]\n",
      " 64%|██████▍   | 6371328/9912422 [00:05<00:02, 1427020.17it/s]\n",
      " 75%|███████▍  | 7424000/9912422 [00:05<00:01, 1723861.12it/s]\n",
      " 79%|███████▉  | 7849984/9912422 [00:05<00:01, 1768919.01it/s]\n",
      " 24%|██▍       | 2371584/9912422 [00:05<00:21, 346601.07it/s]\n",
      " 64%|██████▎   | 6318080/9912422 [00:05<00:02, 1263232.04it/s]\n",
      " 77%|███████▋  | 7632896/9912422 [00:05<00:01, 1811800.93it/s]\n",
      " 89%|████████▉ | 8835072/9912422 [00:05<00:00, 2004170.82it/s]\n",
      " 66%|██████▌   | 6545408/9912422 [00:05<00:02, 1501840.62it/s]\n",
      " 82%|████████▏ | 8163328/9912422 [00:05<00:00, 1971691.06it/s]\n",
      " 92%|█████████▏| 9096192/9912422 [00:05<00:00, 2140955.40it/s]\n",
      " 79%|███████▉  | 7852032/9912422 [00:05<00:01, 1887676.69it/s]\n",
      " 25%|██▍       | 2458624/9912422 [00:05<00:18, 395198.61it/s]\n",
      " 68%|██████▊   | 6736896/9912422 [00:05<00:01, 1594184.04it/s]\n",
      " 67%|██████▋   | 6596608/9912422 [00:05<00:02, 1389990.90it/s]\n"
     ]
    },
    {
     "data": {
      "text/html": [
       "== Status ==<br>Memory usage on this node: 5.2/15.5 GiB<br>Using FIFO scheduling algorithm.<br>Resources requested: 8.0/8 CPUs, 0/0 GPUs, 0.0/8.04 GiB heap, 0.0/4.02 GiB objects<br>Result logdir: /home/therealchainman/ray_results/train_mnist_2021-06-22_16-42-04<br>Number of trials: 20/20 (12 PENDING, 8 RUNNING)<br><table>\n",
       "<thead>\n",
       "<tr><th>Trial name             </th><th>status  </th><th>loc  </th><th style=\"text-align: right;\">         lr</th><th style=\"text-align: right;\">  momentum</th></tr>\n",
       "</thead>\n",
       "<tbody>\n",
       "<tr><td>train_mnist_af561_00000</td><td>RUNNING </td><td>     </td><td style=\"text-align: right;\">6.41811e-07</td><td style=\"text-align: right;\">  0.189627</td></tr>\n",
       "<tr><td>train_mnist_af561_00001</td><td>RUNNING </td><td>     </td><td style=\"text-align: right;\">2.92354e-09</td><td style=\"text-align: right;\">  0.501897</td></tr>\n",
       "<tr><td>train_mnist_af561_00002</td><td>RUNNING </td><td>     </td><td style=\"text-align: right;\">1.01225e-08</td><td style=\"text-align: right;\">  0.383448</td></tr>\n",
       "<tr><td>train_mnist_af561_00003</td><td>RUNNING </td><td>     </td><td style=\"text-align: right;\">1.55157e-06</td><td style=\"text-align: right;\">  0.778785</td></tr>\n",
       "<tr><td>train_mnist_af561_00004</td><td>RUNNING </td><td>     </td><td style=\"text-align: right;\">6.29387e-09</td><td style=\"text-align: right;\">  0.252046</td></tr>\n",
       "<tr><td>train_mnist_af561_00005</td><td>RUNNING </td><td>     </td><td style=\"text-align: right;\">2.83837e-05</td><td style=\"text-align: right;\">  0.635141</td></tr>\n",
       "<tr><td>train_mnist_af561_00006</td><td>RUNNING </td><td>     </td><td style=\"text-align: right;\">2.12237e-09</td><td style=\"text-align: right;\">  0.881509</td></tr>\n",
       "<tr><td>train_mnist_af561_00007</td><td>RUNNING </td><td>     </td><td style=\"text-align: right;\">3.41018e-08</td><td style=\"text-align: right;\">  0.485819</td></tr>\n",
       "<tr><td>train_mnist_af561_00008</td><td>PENDING </td><td>     </td><td style=\"text-align: right;\">8.61318e-08</td><td style=\"text-align: right;\">  0.189483</td></tr>\n",
       "<tr><td>train_mnist_af561_00009</td><td>PENDING </td><td>     </td><td style=\"text-align: right;\">0.00177473 </td><td style=\"text-align: right;\">  0.293255</td></tr>\n",
       "<tr><td>train_mnist_af561_00010</td><td>PENDING </td><td>     </td><td style=\"text-align: right;\">0.00564488 </td><td style=\"text-align: right;\">  0.869707</td></tr>\n",
       "<tr><td>train_mnist_af561_00011</td><td>PENDING </td><td>     </td><td style=\"text-align: right;\">0.158022   </td><td style=\"text-align: right;\">  0.285643</td></tr>\n",
       "<tr><td>train_mnist_af561_00012</td><td>PENDING </td><td>     </td><td style=\"text-align: right;\">4.68526e-05</td><td style=\"text-align: right;\">  0.233772</td></tr>\n",
       "<tr><td>train_mnist_af561_00013</td><td>PENDING </td><td>     </td><td style=\"text-align: right;\">1.47123e-08</td><td style=\"text-align: right;\">  0.773651</td></tr>\n",
       "<tr><td>train_mnist_af561_00014</td><td>PENDING </td><td>     </td><td style=\"text-align: right;\">1.25491e-10</td><td style=\"text-align: right;\">  0.838552</td></tr>\n",
       "<tr><td>train_mnist_af561_00015</td><td>PENDING </td><td>     </td><td style=\"text-align: right;\">3.72716e-09</td><td style=\"text-align: right;\">  0.462565</td></tr>\n",
       "<tr><td>train_mnist_af561_00016</td><td>PENDING </td><td>     </td><td style=\"text-align: right;\">3.09241e-07</td><td style=\"text-align: right;\">  0.21736 </td></tr>\n",
       "<tr><td>train_mnist_af561_00017</td><td>PENDING </td><td>     </td><td style=\"text-align: right;\">1.51156e-06</td><td style=\"text-align: right;\">  0.266795</td></tr>\n",
       "<tr><td>train_mnist_af561_00018</td><td>PENDING </td><td>     </td><td style=\"text-align: right;\">2.21039e-06</td><td style=\"text-align: right;\">  0.66885 </td></tr>\n",
       "<tr><td>train_mnist_af561_00019</td><td>PENDING </td><td>     </td><td style=\"text-align: right;\">6.47251e-05</td><td style=\"text-align: right;\">  0.821736</td></tr>\n",
       "</tbody>\n",
       "</table><br><br>"
      ],
      "text/plain": [
       "<IPython.core.display.HTML object>"
      ]
     },
     "metadata": {},
     "output_type": "display_data"
    },
    {
     "name": "stderr",
     "output_type": "stream",
     "text": [
      " 85%|████████▍ | 8378368/9912422 [00:06<00:00, 1965661.23it/s]\n",
      " 94%|█████████▍| 9333760/9912422 [00:06<00:00, 2187366.37it/s]\n",
      " 81%|████████▏ | 8077312/9912422 [00:06<00:00, 1930738.42it/s]\n",
      " 26%|██▌       | 2528256/9912422 [00:06<00:17, 415007.75it/s]\n",
      " 70%|██████▉   | 6928384/9912422 [00:05<00:01, 1625946.40it/s]\n",
      " 69%|██████▉   | 6857728/9912422 [00:06<00:01, 1602331.58it/s]\n",
      " 87%|████████▋ | 8650752/9912422 [00:06<00:00, 2112428.98it/s]\n",
      " 97%|█████████▋| 9635840/9912422 [00:06<00:00, 2339324.16it/s]\n",
      " 73%|███████▎  | 7189504/9912422 [00:06<00:01, 1829639.32it/s]\n",
      " 84%|████████▍ | 8339456/9912422 [00:06<00:00, 2092077.97it/s]\n",
      " 26%|██▌       | 2597888/9912422 [00:06<00:15, 462963.57it/s]\n",
      "9913344it [00:06, 1586567.78it/s]                             \n",
      " 72%|███████▏  | 7136256/9912422 [00:06<00:01, 1784954.48it/s]\n"
     ]
    },
    {
     "name": "stdout",
     "output_type": "stream",
     "text": [
      "\u001b[2m\u001b[36m(pid=16305)\u001b[0m \n",
      "\u001b[2m\u001b[36m(pid=16305)\u001b[0m Downloading http://yann.lecun.com/exdb/mnist/train-labels-idx1-ubyte.gz\n",
      "\u001b[2m\u001b[36m(pid=16302)\u001b[0m \n",
      "\u001b[2m\u001b[36m(pid=16302)\u001b[0m Downloading http://yann.lecun.com/exdb/mnist/train-labels-idx1-ubyte.gz\n",
      "\u001b[2m\u001b[36m(pid=16299)\u001b[0m Extracting {cwd}/data/MNIST/raw/train-images-idx3-ubyte.gz to {cwd}/data/MNIST/raw\n"
     ]
    },
    {
     "name": "stderr",
     "output_type": "stream",
     "text": [
      " 91%|█████████ | 8981504/9912422 [00:06<00:00, 2167427.93it/s]\n",
      " 75%|███████▍  | 7389184/9912422 [00:06<00:01, 1819507.73it/s]\n",
      " 87%|████████▋ | 8582144/9912422 [00:06<00:00, 2061048.97it/s]\n",
      " 27%|██▋       | 2684928/9912422 [00:06<00:13, 537359.77it/s]\n",
      " 74%|███████▍  | 7345152/9912422 [00:06<00:01, 1815751.44it/s]\n",
      " 95%|█████████▍| 9399296/9912422 [00:06<00:00, 2418914.55it/s]\n",
      " 91%|█████████ | 8983552/9912422 [00:06<00:00, 2301770.53it/s]\n",
      " 78%|███████▊  | 7729152/9912422 [00:06<00:01, 1893082.03it/s]\n",
      " 77%|███████▋  | 7641088/9912422 [00:06<00:01, 1912217.16it/s]\n"
     ]
    },
    {
     "name": "stdout",
     "output_type": "stream",
     "text": [
      "\u001b[2m\u001b[36m(pid=16305)\u001b[0m Downloading http://yann.lecun.com/exdb/mnist/train-labels-idx1-ubyte.gz to {cwd}/data/MNIST/raw/train-labels-idx1-ubyte.gz\n",
      "\u001b[2m\u001b[36m(pid=16302)\u001b[0m Downloading http://yann.lecun.com/exdb/mnist/train-labels-idx1-ubyte.gz to {cwd}/data/MNIST/raw/train-labels-idx1-ubyte.gz\n"
     ]
    },
    {
     "name": "stderr",
     "output_type": "stream",
     "text": [
      " 28%|██▊       | 2754560/9912422 [00:06<00:13, 524200.14it/s]\n",
      " 93%|█████████▎| 9230336/9912422 [00:06<00:00, 2311762.20it/s]\n",
      " 97%|█████████▋| 9657344/9912422 [00:06<00:00, 2237982.25it/s]\n",
      " 80%|████████  | 7955456/9912422 [00:06<00:00, 1980370.88it/s]\n",
      " 79%|███████▉  | 7844864/9912422 [00:06<00:01, 1935694.40it/s]\n",
      " 29%|██▊       | 2841600/9912422 [00:06<00:13, 540600.74it/s]\n",
      "  0%|          | 0/28881 [00:00<?, ?it/s]\n",
      "9913344it [00:06, 1489214.63it/s]                             \n",
      "29696it [00:00, 1387773.41it/s]          \n",
      " 83%|████████▎ | 8216576/9912422 [00:06<00:00, 2096893.44it/s]\n",
      " 81%|████████  | 8047616/9912422 [00:06<00:00, 1914680.04it/s]\n",
      " 96%|█████████▌| 9473024/9912422 [00:06<00:00, 2218297.35it/s]\n"
     ]
    },
    {
     "name": "stdout",
     "output_type": "stream",
     "text": [
      "\u001b[2m\u001b[36m(pid=16302)\u001b[0m Extracting {cwd}/data/MNIST/raw/train-labels-idx1-ubyte.gz to {cwd}/data/MNIST/raw\n",
      "\u001b[2m\u001b[36m(pid=16300)\u001b[0m Extracting {cwd}/data/MNIST/raw/train-images-idx3-ubyte.gz to {cwd}/data/MNIST/raw\n",
      "\u001b[2m\u001b[36m(pid=16302)\u001b[0m \n",
      "\u001b[2m\u001b[36m(pid=16302)\u001b[0m Downloading http://yann.lecun.com/exdb/mnist/t10k-images-idx3-ubyte.gz\n",
      "\u001b[2m\u001b[36m(pid=16299)\u001b[0m \n",
      "\u001b[2m\u001b[36m(pid=16299)\u001b[0m Downloading http://yann.lecun.com/exdb/mnist/train-labels-idx1-ubyte.gz\n",
      "\u001b[2m\u001b[36m(pid=16304)\u001b[0m Extracting {cwd}/data/MNIST/raw/train-images-idx3-ubyte.gz to {cwd}/data/MNIST/raw\n",
      "\u001b[2m\u001b[36m(pid=16305)\u001b[0m Extracting {cwd}/data/MNIST/raw/train-labels-idx1-ubyte.gz to {cwd}/data/MNIST/raw\n",
      "\u001b[2m\u001b[36m(pid=16305)\u001b[0m \n",
      "\u001b[2m\u001b[36m(pid=16305)\u001b[0m Downloading http://yann.lecun.com/exdb/mnist/t10k-images-idx3-ubyte.gz\n",
      "\u001b[2m\u001b[36m(pid=16302)\u001b[0m Downloading http://yann.lecun.com/exdb/mnist/t10k-images-idx3-ubyte.gz to {cwd}/data/MNIST/raw/t10k-images-idx3-ubyte.gz\n"
     ]
    },
    {
     "name": "stderr",
     "output_type": "stream",
     "text": [
      " 29%|██▉       | 2911232/9912422 [00:06<00:12, 555385.35it/s]\n",
      " 35%|███▌      | 10240/28881 [00:00<00:00, 98236.70it/s]\n",
      " 99%|█████████▉| 9852928/9912422 [00:06<00:00, 2484833.52it/s]\n",
      " 86%|████████▌ | 8512512/9912422 [00:06<00:00, 2257926.38it/s]\n",
      " 84%|████████▍ | 8337408/9912422 [00:06<00:00, 2089534.24it/s]\n",
      "9913344it [00:06, 1474851.14it/s]                             \n",
      " 31%|███       | 3066880/9912422 [00:06<00:09, 685196.14it/s]\n",
      "29696it [00:00, 145565.40it/s]                          \n",
      " 91%|█████████ | 8999936/9912422 [00:06<00:00, 2676604.33it/s]\n",
      " 90%|████████▉ | 8877056/9912422 [00:06<00:00, 2465121.49it/s]\n",
      " 32%|███▏      | 3172352/9912422 [00:07<00:10, 671847.72it/s]\n",
      " 94%|█████████▍| 9330688/9912422 [00:06<00:00, 2713975.16it/s]\n",
      " 93%|█████████▎| 9190400/9912422 [00:06<00:00, 2612257.88it/s]\n",
      "9913344it [00:07, 1415215.77it/s]                             \n"
     ]
    },
    {
     "name": "stdout",
     "output_type": "stream",
     "text": [
      "\u001b[2m\u001b[36m(pid=16299)\u001b[0m Downloading http://yann.lecun.com/exdb/mnist/train-labels-idx1-ubyte.gz to {cwd}/data/MNIST/raw/train-labels-idx1-ubyte.gz\n",
      "\u001b[2m\u001b[36m(pid=16305)\u001b[0m Downloading http://yann.lecun.com/exdb/mnist/t10k-images-idx3-ubyte.gz to {cwd}/data/MNIST/raw/t10k-images-idx3-ubyte.gz\n",
      "\u001b[2m\u001b[36m(pid=16302)\u001b[0m Failed to download (trying next):\n",
      "\u001b[2m\u001b[36m(pid=16302)\u001b[0m HTTP Error 503: Service Unavailable\n",
      "\u001b[2m\u001b[36m(pid=16302)\u001b[0m \n",
      "\u001b[2m\u001b[36m(pid=16302)\u001b[0m Downloading https://ossci-datasets.s3.amazonaws.com/mnist/t10k-images-idx3-ubyte.gz\n",
      "\u001b[2m\u001b[36m(pid=16299)\u001b[0m Failed to download (trying next):\n",
      "\u001b[2m\u001b[36m(pid=16299)\u001b[0m HTTP Error 503: Service Unavailable\n",
      "\u001b[2m\u001b[36m(pid=16299)\u001b[0m \n",
      "\u001b[2m\u001b[36m(pid=16299)\u001b[0m Downloading https://ossci-datasets.s3.amazonaws.com/mnist/train-labels-idx1-ubyte.gz\n",
      "\u001b[2m\u001b[36m(pid=16300)\u001b[0m \n",
      "\u001b[2m\u001b[36m(pid=16300)\u001b[0m Downloading http://yann.lecun.com/exdb/mnist/train-labels-idx1-ubyte.gz\n",
      "\u001b[2m\u001b[36m(pid=16305)\u001b[0m Failed to download (trying next):\n",
      "\u001b[2m\u001b[36m(pid=16305)\u001b[0m HTTP Error 503: Service Unavailable\n",
      "\u001b[2m\u001b[36m(pid=16305)\u001b[0m \n",
      "\u001b[2m\u001b[36m(pid=16305)\u001b[0m Downloading https://ossci-datasets.s3.amazonaws.com/mnist/t10k-images-idx3-ubyte.gz\n",
      "\u001b[2m\u001b[36m(pid=16301)\u001b[0m Extracting {cwd}/data/MNIST/raw/train-images-idx3-ubyte.gz to {cwd}/data/MNIST/raw\n"
     ]
    },
    {
     "name": "stderr",
     "output_type": "stream",
     "text": [
      " 34%|███▎      | 3329024/9912422 [00:07<00:08, 806869.22it/s]\n",
      "9913344it [00:07, 1398261.14it/s]                             \n",
      " 36%|███▌      | 3554304/9912422 [00:07<00:06, 998514.04it/s]\n"
     ]
    },
    {
     "name": "stdout",
     "output_type": "stream",
     "text": [
      "\u001b[2m\u001b[36m(pid=16304)\u001b[0m \n",
      "\u001b[2m\u001b[36m(pid=16304)\u001b[0m Downloading http://yann.lecun.com/exdb/mnist/train-labels-idx1-ubyte.gz\n",
      "\u001b[2m\u001b[36m(pid=16303)\u001b[0m Extracting {cwd}/data/MNIST/raw/train-images-idx3-ubyte.gz to {cwd}/data/MNIST/raw\n",
      "\u001b[2m\u001b[36m(pid=16304)\u001b[0m Failed to download (trying next):\n",
      "\u001b[2m\u001b[36m(pid=16304)\u001b[0m HTTP Error 503: Service Unavailable\n",
      "\u001b[2m\u001b[36m(pid=16304)\u001b[0m \n",
      "\u001b[2m\u001b[36m(pid=16304)\u001b[0m Downloading https://ossci-datasets.s3.amazonaws.com/mnist/train-labels-idx1-ubyte.gz\n",
      "\u001b[2m\u001b[36m(pid=16300)\u001b[0m Failed to download (trying next):\n",
      "\u001b[2m\u001b[36m(pid=16300)\u001b[0m HTTP Error 503: Service Unavailable\n",
      "\u001b[2m\u001b[36m(pid=16300)\u001b[0m \n",
      "\u001b[2m\u001b[36m(pid=16300)\u001b[0m Downloading https://ossci-datasets.s3.amazonaws.com/mnist/train-labels-idx1-ubyte.gz\n",
      "\u001b[2m\u001b[36m(pid=16299)\u001b[0m Downloading https://ossci-datasets.s3.amazonaws.com/mnist/train-labels-idx1-ubyte.gz to {cwd}/data/MNIST/raw/train-labels-idx1-ubyte.gz\n",
      "\u001b[2m\u001b[36m(pid=16302)\u001b[0m Downloading https://ossci-datasets.s3.amazonaws.com/mnist/t10k-images-idx3-ubyte.gz to {cwd}/data/MNIST/raw/t10k-images-idx3-ubyte.gz\n",
      "\u001b[2m\u001b[36m(pid=16305)\u001b[0m Downloading https://ossci-datasets.s3.amazonaws.com/mnist/t10k-images-idx3-ubyte.gz to {cwd}/data/MNIST/raw/t10k-images-idx3-ubyte.gz\n"
     ]
    },
    {
     "name": "stderr",
     "output_type": "stream",
     "text": [
      " 38%|███▊      | 3729408/9912422 [00:07<00:05, 1110905.91it/s]\n",
      "  0%|          | 0/1648877 [00:00<?, ?it/s]\n",
      " 40%|███▉      | 3938304/9912422 [00:07<00:04, 1254064.35it/s]\n",
      " 42%|████▏     | 4147200/9912422 [00:07<00:04, 1407543.37it/s]\n",
      "  0%|          | 0/28881 [00:00<?, ?it/s]\n"
     ]
    },
    {
     "name": "stdout",
     "output_type": "stream",
     "text": [
      "\u001b[2m\u001b[36m(pid=16300)\u001b[0m Downloading https://ossci-datasets.s3.amazonaws.com/mnist/train-labels-idx1-ubyte.gz to {cwd}/data/MNIST/raw/train-labels-idx1-ubyte.gz\n",
      "\u001b[2m\u001b[36m(pid=16304)\u001b[0m Downloading https://ossci-datasets.s3.amazonaws.com/mnist/train-labels-idx1-ubyte.gz to {cwd}/data/MNIST/raw/train-labels-idx1-ubyte.gz\n",
      "\u001b[2m\u001b[36m(pid=16301)\u001b[0m \n",
      "\u001b[2m\u001b[36m(pid=16301)\u001b[0m Downloading http://yann.lecun.com/exdb/mnist/train-labels-idx1-ubyte.gz\n",
      "\u001b[2m\u001b[36m(pid=16303)\u001b[0m \n",
      "\u001b[2m\u001b[36m(pid=16303)\u001b[0m Downloading http://yann.lecun.com/exdb/mnist/train-labels-idx1-ubyte.gz\n"
     ]
    },
    {
     "name": "stderr",
     "output_type": "stream",
     "text": [
      "29696it [00:00, 620554.88it/s]           \n",
      "  0%|          | 0/1648877 [00:00<?, ?it/s]\n",
      "  4%|▍         | 68608/1648877 [00:00<00:03, 523396.38it/s]\n",
      "  0%|          | 0/28881 [00:00<?, ?it/s]\n",
      " 44%|████▎     | 4321280/9912422 [00:07<00:03, 1427363.02it/s]\n",
      "  3%|▎         | 41984/1648877 [00:00<00:03, 403622.55it/s]\n",
      "29696it [00:00, 498732.89it/s]           \n",
      " 15%|█▍        | 242688/1648877 [00:00<00:02, 649566.05it/s]\n",
      "  0%|          | 0/28881 [00:00<?, ?it/s]\n",
      " 10%|▉         | 164864/1648877 [00:00<00:02, 505101.80it/s]\n",
      "29696it [00:00, 594391.06it/s]           \n"
     ]
    },
    {
     "name": "stdout",
     "output_type": "stream",
     "text": [
      "\u001b[2m\u001b[36m(pid=16301)\u001b[0m Failed to download (trying next):\n",
      "\u001b[2m\u001b[36m(pid=16301)\u001b[0m HTTP Error 503: Service Unavailable\n",
      "\u001b[2m\u001b[36m(pid=16301)\u001b[0m \n",
      "\u001b[2m\u001b[36m(pid=16301)\u001b[0m Downloading https://ossci-datasets.s3.amazonaws.com/mnist/train-labels-idx1-ubyte.gz\n",
      "\u001b[2m\u001b[36m(pid=16303)\u001b[0m Failed to download (trying next):\n",
      "\u001b[2m\u001b[36m(pid=16303)\u001b[0m HTTP Error 503: Service Unavailable\n",
      "\u001b[2m\u001b[36m(pid=16303)\u001b[0m \n",
      "\u001b[2m\u001b[36m(pid=16303)\u001b[0m Downloading https://ossci-datasets.s3.amazonaws.com/mnist/train-labels-idx1-ubyte.gz\n",
      "\u001b[2m\u001b[36m(pid=16300)\u001b[0m Extracting {cwd}/data/MNIST/raw/train-labels-idx1-ubyte.gz to {cwd}/data/MNIST/raw\n",
      "\u001b[2m\u001b[36m(pid=16300)\u001b[0m \n",
      "\u001b[2m\u001b[36m(pid=16300)\u001b[0m Downloading http://yann.lecun.com/exdb/mnist/t10k-images-idx3-ubyte.gz\n",
      "\u001b[2m\u001b[36m(pid=16299)\u001b[0m Extracting {cwd}/data/MNIST/raw/train-labels-idx1-ubyte.gz to {cwd}/data/MNIST/raw\n",
      "\u001b[2m\u001b[36m(pid=16299)\u001b[0m \n",
      "\u001b[2m\u001b[36m(pid=16299)\u001b[0m Downloading http://yann.lecun.com/exdb/mnist/t10k-images-idx3-ubyte.gz\n",
      "\u001b[2m\u001b[36m(pid=16304)\u001b[0m Extracting {cwd}/data/MNIST/raw/train-labels-idx1-ubyte.gz to {cwd}/data/MNIST/raw\n",
      "\u001b[2m\u001b[36m(pid=16304)\u001b[0m \n",
      "\u001b[2m\u001b[36m(pid=16304)\u001b[0m Downloading http://yann.lecun.com/exdb/mnist/t10k-images-idx3-ubyte.gz\n"
     ]
    },
    {
     "name": "stderr",
     "output_type": "stream",
     "text": [
      " 29%|██▉       | 486400/1648877 [00:00<00:01, 828375.53it/s]\n",
      " 45%|████▌     | 4495360/9912422 [00:07<00:03, 1405687.03it/s]\n",
      " 24%|██▎       | 391168/1648877 [00:00<00:01, 657910.45it/s]\n",
      " 53%|█████▎    | 869376/1648877 [00:00<00:00, 1078129.95it/s]\n",
      " 48%|████▊     | 4756480/9912422 [00:07<00:03, 1499729.25it/s]\n",
      " 43%|████▎     | 704512/1648877 [00:00<00:01, 857602.84it/s]\n",
      " 64%|██████▍   | 1060864/1648877 [00:00<00:00, 1237967.13it/s]\n"
     ]
    },
    {
     "name": "stdout",
     "output_type": "stream",
     "text": [
      "\u001b[2m\u001b[36m(pid=16304)\u001b[0m Failed to download (trying next):\n",
      "\u001b[2m\u001b[36m(pid=16304)\u001b[0m HTTP Error 503: Service Unavailable\n",
      "\u001b[2m\u001b[36m(pid=16304)\u001b[0m \n",
      "\u001b[2m\u001b[36m(pid=16304)\u001b[0m Downloading https://ossci-datasets.s3.amazonaws.com/mnist/t10k-images-idx3-ubyte.gz\n",
      "\u001b[2m\u001b[36m(pid=16301)\u001b[0m Downloading https://ossci-datasets.s3.amazonaws.com/mnist/train-labels-idx1-ubyte.gz to {cwd}/data/MNIST/raw/train-labels-idx1-ubyte.gz\n",
      "\u001b[2m\u001b[36m(pid=16300)\u001b[0m Downloading http://yann.lecun.com/exdb/mnist/t10k-images-idx3-ubyte.gz to {cwd}/data/MNIST/raw/t10k-images-idx3-ubyte.gz\n",
      "\u001b[2m\u001b[36m(pid=16299)\u001b[0m Failed to download (trying next):\n",
      "\u001b[2m\u001b[36m(pid=16299)\u001b[0m HTTP Error 503: Service Unavailable\n",
      "\u001b[2m\u001b[36m(pid=16299)\u001b[0m \n",
      "\u001b[2m\u001b[36m(pid=16299)\u001b[0m Downloading https://ossci-datasets.s3.amazonaws.com/mnist/t10k-images-idx3-ubyte.gz\n",
      "\u001b[2m\u001b[36m(pid=16303)\u001b[0m Downloading https://ossci-datasets.s3.amazonaws.com/mnist/train-labels-idx1-ubyte.gz to {cwd}/data/MNIST/raw/train-labels-idx1-ubyte.gz\n",
      "\u001b[2m\u001b[36m(pid=16300)\u001b[0m Failed to download (trying next):\n",
      "\u001b[2m\u001b[36m(pid=16300)\u001b[0m HTTP Error 503: Service Unavailable\n",
      "\u001b[2m\u001b[36m(pid=16300)\u001b[0m \n",
      "\u001b[2m\u001b[36m(pid=16300)\u001b[0m Downloading https://ossci-datasets.s3.amazonaws.com/mnist/t10k-images-idx3-ubyte.gz\n"
     ]
    },
    {
     "name": "stderr",
     "output_type": "stream",
     "text": [
      " 50%|████▉     | 4917248/9912422 [00:08<00:03, 1527042.61it/s]\n",
      " 54%|█████▍    | 896000/1648877 [00:00<00:00, 1027346.83it/s]\n",
      " 88%|████████▊ | 1443840/1648877 [00:00<00:00, 1550995.12it/s]\n",
      " 51%|█████▏    | 5087232/9912422 [00:08<00:03, 1541500.12it/s]\n",
      "1649664it [00:00, 2294574.26it/s]                             \n",
      "  0%|          | 0/28881 [00:00<?, ?it/s]\n",
      "  0%|          | 0/28881 [00:00<?, ?it/s]\n",
      " 78%|███████▊  | 1278976/1648877 [00:00<00:00, 1258233.74it/s]\n",
      "29696it [00:00, 464948.23it/s]           \n",
      "29696it [00:00, 547670.89it/s]           \n",
      " 53%|█████▎    | 5261312/9912422 [00:08<00:03, 1490878.84it/s]\n"
     ]
    },
    {
     "name": "stdout",
     "output_type": "stream",
     "text": [
      "\u001b[2m\u001b[36m(pid=16304)\u001b[0m Downloading https://ossci-datasets.s3.amazonaws.com/mnist/t10k-images-idx3-ubyte.gz to {cwd}/data/MNIST/raw/t10k-images-idx3-ubyte.gz\n",
      "\u001b[2m\u001b[36m(pid=16299)\u001b[0m Downloading https://ossci-datasets.s3.amazonaws.com/mnist/t10k-images-idx3-ubyte.gz to {cwd}/data/MNIST/raw/t10k-images-idx3-ubyte.gz\n",
      "\u001b[2m\u001b[36m(pid=16300)\u001b[0m Downloading https://ossci-datasets.s3.amazonaws.com/mnist/t10k-images-idx3-ubyte.gz to {cwd}/data/MNIST/raw/t10k-images-idx3-ubyte.gz\n",
      "\u001b[2m\u001b[36m(pid=16301)\u001b[0m Extracting {cwd}/data/MNIST/raw/train-labels-idx1-ubyte.gz to {cwd}/data/MNIST/raw\n",
      "\u001b[2m\u001b[36m(pid=16301)\u001b[0m \n",
      "\u001b[2m\u001b[36m(pid=16301)\u001b[0m Downloading http://yann.lecun.com/exdb/mnist/t10k-images-idx3-ubyte.gz\n",
      "\u001b[2m\u001b[36m(pid=16303)\u001b[0m Extracting {cwd}/data/MNIST/raw/train-labels-idx1-ubyte.gz to {cwd}/data/MNIST/raw\n",
      "\u001b[2m\u001b[36m(pid=16303)\u001b[0m \n",
      "\u001b[2m\u001b[36m(pid=16303)\u001b[0m Downloading http://yann.lecun.com/exdb/mnist/t10k-images-idx3-ubyte.gz\n"
     ]
    },
    {
     "name": "stderr",
     "output_type": "stream",
     "text": [
      "1649664it [00:00, 2161903.72it/s]                             \n",
      " 55%|█████▌    | 5470208/9912422 [00:08<00:02, 1599108.54it/s]\n",
      "  0%|          | 0/1648877 [00:00<?, ?it/s]\n",
      "  0%|          | 0/1648877 [00:00<?, ?it/s]\n",
      "  0%|          | 0/1648877 [00:00<?, ?it/s]\n",
      " 58%|█████▊    | 5711872/9912422 [00:08<00:02, 1779710.95it/s]\n",
      "  5%|▌         | 87040/1648877 [00:00<00:02, 642952.38it/s]\n"
     ]
    },
    {
     "name": "stdout",
     "output_type": "stream",
     "text": [
      "\u001b[2m\u001b[36m(pid=16305)\u001b[0m Extracting {cwd}/data/MNIST/raw/t10k-images-idx3-ubyte.gz to {cwd}/data/MNIST/raw\n",
      "\u001b[2m\u001b[36m(pid=16301)\u001b[0m Downloading http://yann.lecun.com/exdb/mnist/t10k-images-idx3-ubyte.gz to {cwd}/data/MNIST/raw/t10k-images-idx3-ubyte.gz\n",
      "\u001b[2m\u001b[36m(pid=16303)\u001b[0m Failed to download (trying next):\n",
      "\u001b[2m\u001b[36m(pid=16303)\u001b[0m HTTP Error 503: Service Unavailable\n",
      "\u001b[2m\u001b[36m(pid=16303)\u001b[0m \n",
      "\u001b[2m\u001b[36m(pid=16303)\u001b[0m Downloading https://ossci-datasets.s3.amazonaws.com/mnist/t10k-images-idx3-ubyte.gz\n",
      "\u001b[2m\u001b[36m(pid=16302)\u001b[0m Extracting {cwd}/data/MNIST/raw/t10k-images-idx3-ubyte.gz to {cwd}/data/MNIST/raw\n",
      "\u001b[2m\u001b[36m(pid=16302)\u001b[0m \n",
      "\u001b[2m\u001b[36m(pid=16302)\u001b[0m Downloading http://yann.lecun.com/exdb/mnist/t10k-labels-idx1-ubyte.gz\n",
      "\u001b[2m\u001b[36m(pid=16305)\u001b[0m \n",
      "\u001b[2m\u001b[36m(pid=16305)\u001b[0m Downloading http://yann.lecun.com/exdb/mnist/t10k-labels-idx1-ubyte.gz\n",
      "\u001b[2m\u001b[36m(pid=16301)\u001b[0m Failed to download (trying next):\n",
      "\u001b[2m\u001b[36m(pid=16301)\u001b[0m HTTP Error 503: Service Unavailable\n",
      "\u001b[2m\u001b[36m(pid=16301)\u001b[0m \n",
      "\u001b[2m\u001b[36m(pid=16301)\u001b[0m Downloading https://ossci-datasets.s3.amazonaws.com/mnist/t10k-images-idx3-ubyte.gz\n",
      "\u001b[2m\u001b[36m(pid=16303)\u001b[0m Downloading https://ossci-datasets.s3.amazonaws.com/mnist/t10k-images-idx3-ubyte.gz to {cwd}/data/MNIST/raw/t10k-images-idx3-ubyte.gz\n",
      "\u001b[2m\u001b[36m(pid=16302)\u001b[0m Failed to download (trying next):\n",
      "\u001b[2m\u001b[36m(pid=16302)\u001b[0m HTTP Error 503: Service Unavailable\n",
      "\u001b[2m\u001b[36m(pid=16302)\u001b[0m \n",
      "\u001b[2m\u001b[36m(pid=16302)\u001b[0m Downloading https://ossci-datasets.s3.amazonaws.com/mnist/t10k-labels-idx1-ubyte.gz\n",
      "\u001b[2m\u001b[36m(pid=16305)\u001b[0m Failed to download (trying next):\n",
      "\u001b[2m\u001b[36m(pid=16305)\u001b[0m HTTP Error 503: Service Unavailable\n",
      "\u001b[2m\u001b[36m(pid=16305)\u001b[0m \n",
      "\u001b[2m\u001b[36m(pid=16305)\u001b[0m Downloading https://ossci-datasets.s3.amazonaws.com/mnist/t10k-labels-idx1-ubyte.gz\n"
     ]
    },
    {
     "name": "stderr",
     "output_type": "stream",
     "text": [
      "  5%|▍         | 77824/1648877 [00:00<00:02, 604067.46it/s]\n",
      "  4%|▍         | 68608/1648877 [00:00<00:03, 515447.16it/s]\n",
      " 60%|█████▉    | 5900288/9912422 [00:08<00:02, 1654514.43it/s]\n",
      " 26%|██▋       | 434176/1648877 [00:00<00:01, 850931.17it/s]\n",
      " 19%|█▉        | 311296/1648877 [00:00<00:02, 659872.04it/s]\n",
      " 17%|█▋        | 286720/1648877 [00:00<00:01, 735061.90it/s]\n",
      " 53%|█████▎    | 870400/1648877 [00:00<00:00, 1103319.12it/s]\n",
      " 61%|██████▏   | 6075392/9912422 [00:08<00:02, 1403760.09it/s]\n",
      " 33%|███▎      | 537600/1648877 [00:00<00:01, 836951.84it/s]\n",
      " 31%|███       | 513024/1648877 [00:00<00:01, 905252.40it/s]\n",
      "1649664it [00:00, 3530942.38it/s]                             \n",
      " 57%|█████▋    | 939008/1648877 [00:00<00:00, 1076149.35it/s]\n",
      " 49%|████▉     | 808960/1648877 [00:00<00:00, 1142840.43it/s]\n",
      " 63%|██████▎   | 6228992/9912422 [00:08<00:02, 1360868.20it/s]\n",
      "  0%|          | 0/1648877 [00:00<?, ?it/s]\n"
     ]
    },
    {
     "name": "stdout",
     "output_type": "stream",
     "text": [
      "\u001b[2m\u001b[36m(pid=16304)\u001b[0m Extracting {cwd}/data/MNIST/raw/t10k-images-idx3-ubyte.gz to {cwd}/data/MNIST/raw\n",
      "\u001b[2m\u001b[36m(pid=16301)\u001b[0m Downloading https://ossci-datasets.s3.amazonaws.com/mnist/t10k-images-idx3-ubyte.gz to {cwd}/data/MNIST/raw/t10k-images-idx3-ubyte.gz\n",
      "\u001b[2m\u001b[36m(pid=16304)\u001b[0m \n",
      "\u001b[2m\u001b[36m(pid=16304)\u001b[0m Downloading http://yann.lecun.com/exdb/mnist/t10k-labels-idx1-ubyte.gz\n",
      "\u001b[2m\u001b[36m(pid=16302)\u001b[0m Downloading https://ossci-datasets.s3.amazonaws.com/mnist/t10k-labels-idx1-ubyte.gz to {cwd}/data/MNIST/raw/t10k-labels-idx1-ubyte.gz\n",
      "\u001b[2m\u001b[36m(pid=16305)\u001b[0m Downloading https://ossci-datasets.s3.amazonaws.com/mnist/t10k-labels-idx1-ubyte.gz to {cwd}/data/MNIST/raw/t10k-labels-idx1-ubyte.gz\n",
      "\u001b[2m\u001b[36m(pid=16299)\u001b[0m Extracting {cwd}/data/MNIST/raw/t10k-images-idx3-ubyte.gz to {cwd}/data/MNIST/raw\n",
      "\u001b[2m\u001b[36m(pid=16304)\u001b[0m Downloading http://yann.lecun.com/exdb/mnist/t10k-labels-idx1-ubyte.gz to {cwd}/data/MNIST/raw/t10k-labels-idx1-ubyte.gz\n"
     ]
    },
    {
     "name": "stderr",
     "output_type": "stream",
     "text": [
      "1649664it [00:00, 2674083.99it/s]                             \n",
      " 65%|██████▍   | 1070080/1648877 [00:00<00:00, 1347108.07it/s]\n",
      "  2%|▏         | 34816/1648877 [00:00<00:05, 297588.15it/s]\n",
      " 64%|██████▍   | 6392832/9912422 [00:09<00:02, 1346409.17it/s]\n",
      " 87%|████████▋ | 1435648/1648877 [00:00<00:00, 1654702.65it/s]\n",
      "  0%|          | 0/1648877 [00:00<?, ?it/s]\n",
      " 11%|█         | 174080/1648877 [00:00<00:03, 387785.37it/s]\n",
      "1649664it [00:00, 2206558.04it/s]                             \n",
      "5120it [00:00, 1108836.50it/s]          \n",
      " 67%|██████▋   | 6601728/9912422 [00:09<00:02, 1445649.91it/s]\n",
      "5120it [00:00, 12859183.52it/s]         \n",
      "\u001b[2m\u001b[36m(pid=16304)\u001b[0m /home/therealchainman/miniconda3/lib/python3.8/site-packages/torchvision/datasets/mnist.py:498: UserWarning: The given NumPy array is not writeable, and PyTorch does not support non-writeable tensors. This means you can write to the underlying (supposedly non-writeable) NumPy array using the tensor. You may want to copy the array to protect its data or make it writeable before converting it to a tensor. This type of warning will be suppressed for the rest of this program. (Triggered internally at  /pytorch/torch/csrc/utils/tensor_numpy.cpp:180.)\n",
      "\u001b[2m\u001b[36m(pid=16304)\u001b[0m   return torch.from_numpy(parsed.astype(m[2], copy=False)).view(*s)\n",
      "\u001b[2m\u001b[36m(pid=16302)\u001b[0m /home/therealchainman/miniconda3/lib/python3.8/site-packages/torchvision/datasets/mnist.py:498: UserWarning: The given NumPy array is not writeable, and PyTorch does not support non-writeable tensors. This means you can write to the underlying (supposedly non-writeable) NumPy array using the tensor. You may want to copy the array to protect its data or make it writeable before converting it to a tensor. This type of warning will be suppressed for the rest of this program. (Triggered internally at  /pytorch/torch/csrc/utils/tensor_numpy.cpp:180.)\n",
      "\u001b[2m\u001b[36m(pid=16302)\u001b[0m   return torch.from_numpy(parsed.astype(m[2], copy=False)).view(*s)\n"
     ]
    },
    {
     "name": "stdout",
     "output_type": "stream",
     "text": [
      "\u001b[2m\u001b[36m(pid=16299)\u001b[0m \n",
      "\u001b[2m\u001b[36m(pid=16299)\u001b[0m Downloading http://yann.lecun.com/exdb/mnist/t10k-labels-idx1-ubyte.gz\n",
      "\u001b[2m\u001b[36m(pid=16304)\u001b[0m Extracting {cwd}/data/MNIST/raw/t10k-labels-idx1-ubyte.gz to {cwd}/data/MNIST/raw\n",
      "\u001b[2m\u001b[36m(pid=16304)\u001b[0m \n",
      "\u001b[2m\u001b[36m(pid=16302)\u001b[0m Extracting {cwd}/data/MNIST/raw/t10k-labels-idx1-ubyte.gz to {cwd}/data/MNIST/raw\n",
      "\u001b[2m\u001b[36m(pid=16302)\u001b[0m \n",
      "\u001b[2m\u001b[36m(pid=16300)\u001b[0m Extracting {cwd}/data/MNIST/raw/t10k-images-idx3-ubyte.gz to {cwd}/data/MNIST/raw\n",
      "\u001b[2m\u001b[36m(pid=16299)\u001b[0m Downloading http://yann.lecun.com/exdb/mnist/t10k-labels-idx1-ubyte.gz to {cwd}/data/MNIST/raw/t10k-labels-idx1-ubyte.gz\n",
      "\u001b[2m\u001b[36m(pid=16305)\u001b[0m Extracting {cwd}/data/MNIST/raw/t10k-labels-idx1-ubyte.gz to {cwd}/data/MNIST/raw\n",
      "\u001b[2m\u001b[36m(pid=16305)\u001b[0m \n",
      "\u001b[2m\u001b[36m(pid=16300)\u001b[0m \n",
      "\u001b[2m\u001b[36m(pid=16300)\u001b[0m Downloading http://yann.lecun.com/exdb/mnist/t10k-labels-idx1-ubyte.gz\n"
     ]
    },
    {
     "name": "stderr",
     "output_type": "stream",
     "text": [
      "\u001b[2m\u001b[36m(pid=16302)\u001b[0m /home/therealchainman/miniconda3/lib/python3.8/site-packages/torch/nn/functional.py:718: UserWarning: Named tensors and all their associated APIs are an experimental feature and subject to change. Please do not use them for anything important until they are released as stable. (Triggered internally at  /pytorch/c10/core/TensorImpl.h:1156.)\n",
      "\u001b[2m\u001b[36m(pid=16302)\u001b[0m   return torch.max_pool2d(input, kernel_size, stride, padding, dilation, ceil_mode)\n",
      "5120it [00:00, 5702293.28it/s]          \n",
      "  5%|▍         | 77824/1648877 [00:00<00:02, 541381.83it/s]\n",
      " 41%|████      | 678912/1648877 [00:00<00:01, 535494.61it/s]\n",
      "\u001b[2m\u001b[36m(pid=16304)\u001b[0m /home/therealchainman/miniconda3/lib/python3.8/site-packages/torch/nn/functional.py:718: UserWarning: Named tensors and all their associated APIs are an experimental feature and subject to change. Please do not use them for anything important until they are released as stable. (Triggered internally at  /pytorch/c10/core/TensorImpl.h:1156.)\n",
      "\u001b[2m\u001b[36m(pid=16304)\u001b[0m   return torch.max_pool2d(input, kernel_size, stride, padding, dilation, ceil_mode)\n",
      " 69%|██████▊   | 6793216/9912422 [00:09<00:02, 1520931.47it/s]\n",
      "\u001b[2m\u001b[36m(pid=16305)\u001b[0m /home/therealchainman/miniconda3/lib/python3.8/site-packages/torchvision/datasets/mnist.py:498: UserWarning: The given NumPy array is not writeable, and PyTorch does not support non-writeable tensors. This means you can write to the underlying (supposedly non-writeable) NumPy array using the tensor. You may want to copy the array to protect its data or make it writeable before converting it to a tensor. This type of warning will be suppressed for the rest of this program. (Triggered internally at  /pytorch/torch/csrc/utils/tensor_numpy.cpp:180.)\n",
      "\u001b[2m\u001b[36m(pid=16305)\u001b[0m   return torch.from_numpy(parsed.astype(m[2], copy=False)).view(*s)\n",
      "\u001b[2m\u001b[36m(pid=16305)\u001b[0m /home/therealchainman/miniconda3/lib/python3.8/site-packages/torch/nn/functional.py:718: UserWarning: Named tensors and all their associated APIs are an experimental feature and subject to change. Please do not use them for anything important until they are released as stable. (Triggered internally at  /pytorch/c10/core/TensorImpl.h:1156.)\n",
      "\u001b[2m\u001b[36m(pid=16305)\u001b[0m   return torch.max_pool2d(input, kernel_size, stride, padding, dilation, ceil_mode)\n",
      "5120it [00:00, 38347922.29it/s]         \n",
      " 17%|█▋        | 286720/1648877 [00:00<00:01, 691565.98it/s]\n",
      " 65%|██████▌   | 1079296/1648877 [00:00<00:00, 723038.36it/s]\n",
      "\u001b[2m\u001b[36m(pid=16299)\u001b[0m /home/therealchainman/miniconda3/lib/python3.8/site-packages/torchvision/datasets/mnist.py:498: UserWarning: The given NumPy array is not writeable, and PyTorch does not support non-writeable tensors. This means you can write to the underlying (supposedly non-writeable) NumPy array using the tensor. You may want to copy the array to protect its data or make it writeable before converting it to a tensor. This type of warning will be suppressed for the rest of this program. (Triggered internally at  /pytorch/torch/csrc/utils/tensor_numpy.cpp:180.)\n",
      "\u001b[2m\u001b[36m(pid=16299)\u001b[0m   return torch.from_numpy(parsed.astype(m[2], copy=False)).view(*s)\n",
      "\u001b[2m\u001b[36m(pid=16299)\u001b[0m /home/therealchainman/miniconda3/lib/python3.8/site-packages/torch/nn/functional.py:718: UserWarning: Named tensors and all their associated APIs are an experimental feature and subject to change. Please do not use them for anything important until they are released as stable. (Triggered internally at  /pytorch/c10/core/TensorImpl.h:1156.)\n",
      "\u001b[2m\u001b[36m(pid=16299)\u001b[0m   return torch.max_pool2d(input, kernel_size, stride, padding, dilation, ceil_mode)\n",
      " 70%|███████   | 6967296/9912422 [00:09<00:02, 1316017.81it/s]\n"
     ]
    },
    {
     "name": "stdout",
     "output_type": "stream",
     "text": [
      "\u001b[2m\u001b[36m(pid=16299)\u001b[0m Extracting {cwd}/data/MNIST/raw/t10k-labels-idx1-ubyte.gz to {cwd}/data/MNIST/raw\n",
      "\u001b[2m\u001b[36m(pid=16299)\u001b[0m \n",
      "\u001b[2m\u001b[36m(pid=16300)\u001b[0m Downloading http://yann.lecun.com/exdb/mnist/t10k-labels-idx1-ubyte.gz to {cwd}/data/MNIST/raw/t10k-labels-idx1-ubyte.gz\n",
      "Result for train_mnist_af561_00005:\n",
      "  date: 2021-06-22_16-42-18\n",
      "  done: false\n",
      "  experiment_id: b368527f0fe245bfa332c2a99e5812f6\n",
      "  hostname: therealchainman\n",
      "  iterations_since_restore: 1\n",
      "  mean_accuracy: 0.075\n",
      "  node_ip: 192.168.1.106\n",
      "  pid: 16302\n",
      "  time_since_restore: 10.901713371276855\n",
      "  time_this_iter_s: 10.901713371276855\n",
      "  time_total_s: 10.901713371276855\n",
      "  timestamp: 1624398138\n",
      "  timesteps_since_restore: 0\n",
      "  training_iteration: 1\n",
      "  trial_id: af561_00005\n",
      "  \n",
      "Result for train_mnist_af561_00004:\n",
      "  date: 2021-06-22_16-42-18\n",
      "  done: false\n",
      "  experiment_id: 543c49bd46984f0f83ceb86affc3d6f1\n",
      "  hostname: therealchainman\n",
      "  iterations_since_restore: 1\n",
      "  mean_accuracy: 0.128125\n",
      "  node_ip: 192.168.1.106\n",
      "  pid: 16304\n",
      "  time_since_restore: 10.987253189086914\n",
      "  time_this_iter_s: 10.987253189086914\n",
      "  time_total_s: 10.987253189086914\n",
      "  timestamp: 1624398138\n",
      "  timesteps_since_restore: 0\n",
      "  training_iteration: 1\n",
      "  trial_id: af561_00004\n",
      "  \n",
      "\u001b[2m\u001b[36m(pid=16303)\u001b[0m Extracting {cwd}/data/MNIST/raw/t10k-images-idx3-ubyte.gz to {cwd}/data/MNIST/raw\n",
      "\u001b[2m\u001b[36m(pid=16300)\u001b[0m Extracting {cwd}/data/MNIST/raw/t10k-labels-idx1-ubyte.gz to {cwd}/data/MNIST/raw\n",
      "\u001b[2m\u001b[36m(pid=16300)\u001b[0m \n",
      "\u001b[2m\u001b[36m(pid=16303)\u001b[0m \n",
      "\u001b[2m\u001b[36m(pid=16303)\u001b[0m Downloading http://yann.lecun.com/exdb/mnist/t10k-labels-idx1-ubyte.gz\n"
     ]
    },
    {
     "name": "stderr",
     "output_type": "stream",
     "text": [
      "5120it [00:00, 14202934.18it/s]         \n",
      " 29%|██▉       | 478208/1648877 [00:00<00:01, 854728.83it/s]\n",
      "1649664it [00:00, 2968979.69it/s]                            \n",
      "\u001b[2m\u001b[36m(pid=16300)\u001b[0m /home/therealchainman/miniconda3/lib/python3.8/site-packages/torchvision/datasets/mnist.py:498: UserWarning: The given NumPy array is not writeable, and PyTorch does not support non-writeable tensors. This means you can write to the underlying (supposedly non-writeable) NumPy array using the tensor. You may want to copy the array to protect its data or make it writeable before converting it to a tensor. This type of warning will be suppressed for the rest of this program. (Triggered internally at  /pytorch/torch/csrc/utils/tensor_numpy.cpp:180.)\n",
      "\u001b[2m\u001b[36m(pid=16300)\u001b[0m   return torch.from_numpy(parsed.astype(m[2], copy=False)).view(*s)\n",
      " 73%|███████▎  | 7227392/9912422 [00:09<00:01, 1513103.54it/s]\n",
      " 49%|████▉     | 808960/1648877 [00:00<00:00, 1098871.20it/s]\n",
      "\u001b[2m\u001b[36m(pid=16300)\u001b[0m /home/therealchainman/miniconda3/lib/python3.8/site-packages/torch/nn/functional.py:718: UserWarning: Named tensors and all their associated APIs are an experimental feature and subject to change. Please do not use them for anything important until they are released as stable. (Triggered internally at  /pytorch/c10/core/TensorImpl.h:1156.)\n",
      "\u001b[2m\u001b[36m(pid=16300)\u001b[0m   return torch.max_pool2d(input, kernel_size, stride, padding, dilation, ceil_mode)\n",
      " 75%|███████▌  | 7472128/9912422 [00:09<00:01, 1651428.99it/s]\n",
      " 75%|███████▌  | 1243136/1648877 [00:00<00:00, 1410911.50it/s]\n"
     ]
    },
    {
     "name": "stdout",
     "output_type": "stream",
     "text": [
      "Result for train_mnist_af561_00002:\n",
      "  date: 2021-06-22_16-42-18\n",
      "  done: false\n",
      "  experiment_id: bd3664c68ff04387acbc03fe2d188f74\n",
      "  hostname: therealchainman\n",
      "  iterations_since_restore: 1\n",
      "  mean_accuracy: 0.103125\n",
      "  node_ip: 192.168.1.106\n",
      "  pid: 16305\n",
      "  time_since_restore: 11.171081304550171\n",
      "  time_this_iter_s: 11.171081304550171\n",
      "  time_total_s: 11.171081304550171\n",
      "  timestamp: 1624398138\n",
      "  timesteps_since_restore: 0\n",
      "  training_iteration: 1\n",
      "  trial_id: af561_00002\n",
      "  \n",
      "\u001b[2m\u001b[36m(pid=16303)\u001b[0m Downloading http://yann.lecun.com/exdb/mnist/t10k-labels-idx1-ubyte.gz to {cwd}/data/MNIST/raw/t10k-labels-idx1-ubyte.gz\n",
      "Result for train_mnist_af561_00003:\n",
      "  date: 2021-06-22_16-42-18\n",
      "  done: false\n",
      "  experiment_id: 4a7f2ed662d0436bb28bc72f7531431a\n",
      "  hostname: therealchainman\n",
      "  iterations_since_restore: 1\n",
      "  mean_accuracy: 0.096875\n",
      "  node_ip: 192.168.1.106\n",
      "  pid: 16299\n",
      "  time_since_restore: 11.443877935409546\n",
      "  time_this_iter_s: 11.443877935409546\n",
      "  time_total_s: 11.443877935409546\n",
      "  timestamp: 1624398138\n",
      "  timesteps_since_restore: 0\n",
      "  training_iteration: 1\n",
      "  trial_id: af561_00003\n",
      "  \n"
     ]
    },
    {
     "name": "stderr",
     "output_type": "stream",
     "text": [
      " 77%|███████▋  | 7681024/9912422 [00:09<00:01, 1727223.65it/s]\n",
      "1649664it [00:00, 2428622.73it/s]                             \n",
      "5120it [00:00, 23165950.90it/s]         \n"
     ]
    },
    {
     "name": "stdout",
     "output_type": "stream",
     "text": [
      "\u001b[2m\u001b[36m(pid=16301)\u001b[0m Extracting {cwd}/data/MNIST/raw/t10k-images-idx3-ubyte.gz to {cwd}/data/MNIST/raw\n",
      "\u001b[2m\u001b[36m(pid=16303)\u001b[0m Extracting {cwd}/data/MNIST/raw/t10k-labels-idx1-ubyte.gz to {cwd}/data/MNIST/raw\n",
      "\u001b[2m\u001b[36m(pid=16303)\u001b[0m \n",
      "\u001b[2m\u001b[36m(pid=16301)\u001b[0m \n",
      "\u001b[2m\u001b[36m(pid=16301)\u001b[0m Downloading http://yann.lecun.com/exdb/mnist/t10k-labels-idx1-ubyte.gz\n"
     ]
    },
    {
     "name": "stderr",
     "output_type": "stream",
     "text": [
      " 80%|████████  | 7959552/9912422 [00:09<00:01, 1886168.59it/s]\n",
      "\u001b[2m\u001b[36m(pid=16303)\u001b[0m /home/therealchainman/miniconda3/lib/python3.8/site-packages/torchvision/datasets/mnist.py:498: UserWarning: The given NumPy array is not writeable, and PyTorch does not support non-writeable tensors. This means you can write to the underlying (supposedly non-writeable) NumPy array using the tensor. You may want to copy the array to protect its data or make it writeable before converting it to a tensor. This type of warning will be suppressed for the rest of this program. (Triggered internally at  /pytorch/torch/csrc/utils/tensor_numpy.cpp:180.)\n",
      "\u001b[2m\u001b[36m(pid=16303)\u001b[0m   return torch.from_numpy(parsed.astype(m[2], copy=False)).view(*s)\n",
      " 83%|████████▎ | 8220672/9912422 [00:10<00:00, 2000369.51it/s]\n",
      "\u001b[2m\u001b[36m(pid=16303)\u001b[0m /home/therealchainman/miniconda3/lib/python3.8/site-packages/torch/nn/functional.py:718: UserWarning: Named tensors and all their associated APIs are an experimental feature and subject to change. Please do not use them for anything important until they are released as stable. (Triggered internally at  /pytorch/c10/core/TensorImpl.h:1156.)\n",
      "\u001b[2m\u001b[36m(pid=16303)\u001b[0m   return torch.max_pool2d(input, kernel_size, stride, padding, dilation, ceil_mode)\n",
      " 85%|████████▌ | 8464384/9912422 [00:10<00:00, 2113905.47it/s]\n"
     ]
    },
    {
     "name": "stdout",
     "output_type": "stream",
     "text": [
      "Result for train_mnist_af561_00007:\n",
      "  date: 2021-06-22_16-42-18\n",
      "  done: false\n",
      "  experiment_id: 44d4dccd5da441a1a79b3d5e6f63d5ab\n",
      "  hostname: therealchainman\n",
      "  iterations_since_restore: 1\n",
      "  mean_accuracy: 0.15\n",
      "  node_ip: 192.168.1.106\n",
      "  pid: 16300\n",
      "  time_since_restore: 11.472389698028564\n",
      "  time_this_iter_s: 11.472389698028564\n",
      "  time_total_s: 11.472389698028564\n",
      "  timestamp: 1624398138\n",
      "  timesteps_since_restore: 0\n",
      "  training_iteration: 1\n",
      "  trial_id: af561_00007\n",
      "  \n",
      "\u001b[2m\u001b[36m(pid=16301)\u001b[0m Downloading http://yann.lecun.com/exdb/mnist/t10k-labels-idx1-ubyte.gz to {cwd}/data/MNIST/raw/t10k-labels-idx1-ubyte.gz\n",
      "\u001b[2m\u001b[36m(pid=16301)\u001b[0m Extracting {cwd}/data/MNIST/raw/t10k-labels-idx1-ubyte.gz to {cwd}/data/MNIST/raw\n",
      "\u001b[2m\u001b[36m(pid=16301)\u001b[0m \n"
     ]
    },
    {
     "name": "stderr",
     "output_type": "stream",
     "text": [
      "5120it [00:00, 23066419.42it/s]         \n",
      " 88%|████████▊ | 8742912/9912422 [00:10<00:00, 2130334.10it/s]\n",
      "\u001b[2m\u001b[36m(pid=16301)\u001b[0m /home/therealchainman/miniconda3/lib/python3.8/site-packages/torchvision/datasets/mnist.py:498: UserWarning: The given NumPy array is not writeable, and PyTorch does not support non-writeable tensors. This means you can write to the underlying (supposedly non-writeable) NumPy array using the tensor. You may want to copy the array to protect its data or make it writeable before converting it to a tensor. This type of warning will be suppressed for the rest of this program. (Triggered internally at  /pytorch/torch/csrc/utils/tensor_numpy.cpp:180.)\n",
      "\u001b[2m\u001b[36m(pid=16301)\u001b[0m   return torch.from_numpy(parsed.astype(m[2], copy=False)).view(*s)\n",
      "\u001b[2m\u001b[36m(pid=16301)\u001b[0m /home/therealchainman/miniconda3/lib/python3.8/site-packages/torch/nn/functional.py:718: UserWarning: Named tensors and all their associated APIs are an experimental feature and subject to change. Please do not use them for anything important until they are released as stable. (Triggered internally at  /pytorch/c10/core/TensorImpl.h:1156.)\n",
      "\u001b[2m\u001b[36m(pid=16301)\u001b[0m   return torch.max_pool2d(input, kernel_size, stride, padding, dilation, ceil_mode)\n",
      " 91%|█████████ | 8986624/9912422 [00:10<00:00, 2196133.94it/s]\n",
      " 93%|█████████▎| 9259008/9912422 [00:10<00:00, 2327202.12it/s]\n",
      " 96%|█████████▋| 9543680/9912422 [00:10<00:00, 2442022.87it/s]\n"
     ]
    },
    {
     "name": "stdout",
     "output_type": "stream",
     "text": [
      "Result for train_mnist_af561_00001:\n",
      "  date: 2021-06-22_16-42-19\n",
      "  done: false\n",
      "  experiment_id: efc0481c25bb4f03ad15a94907336a14\n",
      "  hostname: therealchainman\n",
      "  iterations_since_restore: 1\n",
      "  mean_accuracy: 0.1125\n",
      "  node_ip: 192.168.1.106\n",
      "  pid: 16303\n",
      "  time_since_restore: 11.848498582839966\n",
      "  time_this_iter_s: 11.848498582839966\n",
      "  time_total_s: 11.848498582839966\n",
      "  timestamp: 1624398139\n",
      "  timesteps_since_restore: 0\n",
      "  training_iteration: 1\n",
      "  trial_id: af561_00001\n",
      "  \n"
     ]
    },
    {
     "name": "stderr",
     "output_type": "stream",
     "text": [
      "9913344it [00:10, 929054.20it/s]                              \n"
     ]
    },
    {
     "name": "stdout",
     "output_type": "stream",
     "text": [
      "\u001b[2m\u001b[36m(pid=16306)\u001b[0m Extracting {cwd}/data/MNIST/raw/train-images-idx3-ubyte.gz to {cwd}/data/MNIST/raw\n",
      "Result for train_mnist_af561_00000:\n",
      "  date: 2021-06-22_16-42-19\n",
      "  done: false\n",
      "  experiment_id: 19c4c717727640feae4cf750356b0d7c\n",
      "  hostname: therealchainman\n",
      "  iterations_since_restore: 1\n",
      "  mean_accuracy: 0.103125\n",
      "  node_ip: 192.168.1.106\n",
      "  pid: 16301\n",
      "  time_since_restore: 12.271330118179321\n",
      "  time_this_iter_s: 12.271330118179321\n",
      "  time_total_s: 12.271330118179321\n",
      "  timestamp: 1624398139\n",
      "  timesteps_since_restore: 0\n",
      "  training_iteration: 1\n",
      "  trial_id: af561_00000\n",
      "  \n"
     ]
    },
    {
     "data": {
      "text/html": [
       "== Status ==<br>Memory usage on this node: 5.6/15.5 GiB<br>Using FIFO scheduling algorithm.<br>Resources requested: 8.0/8 CPUs, 0/0 GPUs, 0.0/8.04 GiB heap, 0.0/4.02 GiB objects<br>Result logdir: /home/therealchainman/ray_results/train_mnist_2021-06-22_16-42-04<br>Number of trials: 20/20 (12 PENDING, 8 RUNNING)<br><table>\n",
       "<thead>\n",
       "<tr><th>Trial name             </th><th>status  </th><th>loc                </th><th style=\"text-align: right;\">         lr</th><th style=\"text-align: right;\">  momentum</th><th style=\"text-align: right;\">     acc</th><th style=\"text-align: right;\">  iter</th><th style=\"text-align: right;\">  total time (s)</th></tr>\n",
       "</thead>\n",
       "<tbody>\n",
       "<tr><td>train_mnist_af561_00000</td><td>RUNNING </td><td>192.168.1.106:16301</td><td style=\"text-align: right;\">6.41811e-07</td><td style=\"text-align: right;\">  0.189627</td><td style=\"text-align: right;\">0.103125</td><td style=\"text-align: right;\">     1</td><td style=\"text-align: right;\">         12.2713</td></tr>\n",
       "<tr><td>train_mnist_af561_00001</td><td>RUNNING </td><td>192.168.1.106:16303</td><td style=\"text-align: right;\">2.92354e-09</td><td style=\"text-align: right;\">  0.501897</td><td style=\"text-align: right;\">0.121875</td><td style=\"text-align: right;\">     2</td><td style=\"text-align: right;\">         12.3914</td></tr>\n",
       "<tr><td>train_mnist_af561_00002</td><td>RUNNING </td><td>192.168.1.106:16305</td><td style=\"text-align: right;\">1.01225e-08</td><td style=\"text-align: right;\">  0.383448</td><td style=\"text-align: right;\">0.096875</td><td style=\"text-align: right;\">     3</td><td style=\"text-align: right;\">         12.1652</td></tr>\n",
       "<tr><td>train_mnist_af561_00003</td><td>RUNNING </td><td>192.168.1.106:16299</td><td style=\"text-align: right;\">1.55157e-06</td><td style=\"text-align: right;\">  0.778785</td><td style=\"text-align: right;\">0.1     </td><td style=\"text-align: right;\">     3</td><td style=\"text-align: right;\">         12.4464</td></tr>\n",
       "<tr><td>train_mnist_af561_00004</td><td>RUNNING </td><td>192.168.1.106:16304</td><td style=\"text-align: right;\">6.29387e-09</td><td style=\"text-align: right;\">  0.252046</td><td style=\"text-align: right;\">0.1375  </td><td style=\"text-align: right;\">     4</td><td style=\"text-align: right;\">         12.4604</td></tr>\n",
       "<tr><td>train_mnist_af561_00005</td><td>RUNNING </td><td>192.168.1.106:16302</td><td style=\"text-align: right;\">2.83837e-05</td><td style=\"text-align: right;\">  0.635141</td><td style=\"text-align: right;\">0.075   </td><td style=\"text-align: right;\">     4</td><td style=\"text-align: right;\">         12.4742</td></tr>\n",
       "<tr><td>train_mnist_af561_00006</td><td>RUNNING </td><td>                   </td><td style=\"text-align: right;\">2.12237e-09</td><td style=\"text-align: right;\">  0.881509</td><td style=\"text-align: right;\">        </td><td style=\"text-align: right;\">      </td><td style=\"text-align: right;\">                </td></tr>\n",
       "<tr><td>train_mnist_af561_00007</td><td>RUNNING </td><td>192.168.1.106:16300</td><td style=\"text-align: right;\">3.41018e-08</td><td style=\"text-align: right;\">  0.485819</td><td style=\"text-align: right;\">0.159375</td><td style=\"text-align: right;\">     3</td><td style=\"text-align: right;\">         12.589 </td></tr>\n",
       "<tr><td>train_mnist_af561_00008</td><td>PENDING </td><td>                   </td><td style=\"text-align: right;\">8.61318e-08</td><td style=\"text-align: right;\">  0.189483</td><td style=\"text-align: right;\">        </td><td style=\"text-align: right;\">      </td><td style=\"text-align: right;\">                </td></tr>\n",
       "<tr><td>train_mnist_af561_00009</td><td>PENDING </td><td>                   </td><td style=\"text-align: right;\">0.00177473 </td><td style=\"text-align: right;\">  0.293255</td><td style=\"text-align: right;\">        </td><td style=\"text-align: right;\">      </td><td style=\"text-align: right;\">                </td></tr>\n",
       "<tr><td>train_mnist_af561_00010</td><td>PENDING </td><td>                   </td><td style=\"text-align: right;\">0.00564488 </td><td style=\"text-align: right;\">  0.869707</td><td style=\"text-align: right;\">        </td><td style=\"text-align: right;\">      </td><td style=\"text-align: right;\">                </td></tr>\n",
       "<tr><td>train_mnist_af561_00011</td><td>PENDING </td><td>                   </td><td style=\"text-align: right;\">0.158022   </td><td style=\"text-align: right;\">  0.285643</td><td style=\"text-align: right;\">        </td><td style=\"text-align: right;\">      </td><td style=\"text-align: right;\">                </td></tr>\n",
       "<tr><td>train_mnist_af561_00012</td><td>PENDING </td><td>                   </td><td style=\"text-align: right;\">4.68526e-05</td><td style=\"text-align: right;\">  0.233772</td><td style=\"text-align: right;\">        </td><td style=\"text-align: right;\">      </td><td style=\"text-align: right;\">                </td></tr>\n",
       "<tr><td>train_mnist_af561_00013</td><td>PENDING </td><td>                   </td><td style=\"text-align: right;\">1.47123e-08</td><td style=\"text-align: right;\">  0.773651</td><td style=\"text-align: right;\">        </td><td style=\"text-align: right;\">      </td><td style=\"text-align: right;\">                </td></tr>\n",
       "<tr><td>train_mnist_af561_00014</td><td>PENDING </td><td>                   </td><td style=\"text-align: right;\">1.25491e-10</td><td style=\"text-align: right;\">  0.838552</td><td style=\"text-align: right;\">        </td><td style=\"text-align: right;\">      </td><td style=\"text-align: right;\">                </td></tr>\n",
       "<tr><td>train_mnist_af561_00015</td><td>PENDING </td><td>                   </td><td style=\"text-align: right;\">3.72716e-09</td><td style=\"text-align: right;\">  0.462565</td><td style=\"text-align: right;\">        </td><td style=\"text-align: right;\">      </td><td style=\"text-align: right;\">                </td></tr>\n",
       "<tr><td>train_mnist_af561_00016</td><td>PENDING </td><td>                   </td><td style=\"text-align: right;\">3.09241e-07</td><td style=\"text-align: right;\">  0.21736 </td><td style=\"text-align: right;\">        </td><td style=\"text-align: right;\">      </td><td style=\"text-align: right;\">                </td></tr>\n",
       "<tr><td>train_mnist_af561_00017</td><td>PENDING </td><td>                   </td><td style=\"text-align: right;\">1.51156e-06</td><td style=\"text-align: right;\">  0.266795</td><td style=\"text-align: right;\">        </td><td style=\"text-align: right;\">      </td><td style=\"text-align: right;\">                </td></tr>\n",
       "<tr><td>train_mnist_af561_00018</td><td>PENDING </td><td>                   </td><td style=\"text-align: right;\">2.21039e-06</td><td style=\"text-align: right;\">  0.66885 </td><td style=\"text-align: right;\">        </td><td style=\"text-align: right;\">      </td><td style=\"text-align: right;\">                </td></tr>\n",
       "<tr><td>train_mnist_af561_00019</td><td>PENDING </td><td>                   </td><td style=\"text-align: right;\">6.47251e-05</td><td style=\"text-align: right;\">  0.821736</td><td style=\"text-align: right;\">        </td><td style=\"text-align: right;\">      </td><td style=\"text-align: right;\">                </td></tr>\n",
       "</tbody>\n",
       "</table><br><br>"
      ],
      "text/plain": [
       "<IPython.core.display.HTML object>"
      ]
     },
     "metadata": {},
     "output_type": "display_data"
    },
    {
     "name": "stdout",
     "output_type": "stream",
     "text": [
      "\u001b[2m\u001b[36m(pid=16306)\u001b[0m \n",
      "\u001b[2m\u001b[36m(pid=16306)\u001b[0m Downloading http://yann.lecun.com/exdb/mnist/train-labels-idx1-ubyte.gz\n",
      "\u001b[2m\u001b[36m(pid=16306)\u001b[0m Downloading http://yann.lecun.com/exdb/mnist/train-labels-idx1-ubyte.gz to {cwd}/data/MNIST/raw/train-labels-idx1-ubyte.gz\n"
     ]
    },
    {
     "name": "stderr",
     "output_type": "stream",
     "text": [
      "  0%|          | 0/28881 [00:00<?, ?it/s]\n",
      "29696it [00:00, 889627.32it/s]           \n"
     ]
    },
    {
     "name": "stdout",
     "output_type": "stream",
     "text": [
      "\u001b[2m\u001b[36m(pid=16306)\u001b[0m Extracting {cwd}/data/MNIST/raw/train-labels-idx1-ubyte.gz to {cwd}/data/MNIST/raw\n",
      "\u001b[2m\u001b[36m(pid=16306)\u001b[0m \n",
      "\u001b[2m\u001b[36m(pid=16306)\u001b[0m Downloading http://yann.lecun.com/exdb/mnist/t10k-images-idx3-ubyte.gz\n",
      "\u001b[2m\u001b[36m(pid=16306)\u001b[0m Downloading http://yann.lecun.com/exdb/mnist/t10k-images-idx3-ubyte.gz to {cwd}/data/MNIST/raw/t10k-images-idx3-ubyte.gz\n"
     ]
    },
    {
     "name": "stderr",
     "output_type": "stream",
     "text": [
      "  0%|          | 0/1648877 [00:00<?, ?it/s]\n",
      "  1%|          | 9216/1648877 [00:00<00:53, 30386.48it/s]\n",
      "  1%|          | 17408/1648877 [00:00<00:49, 32677.05it/s]\n",
      "  2%|▏         | 25600/1648877 [00:00<00:59, 27360.38it/s]\n",
      "  3%|▎         | 41984/1648877 [00:01<00:49, 32139.21it/s]\n",
      "  3%|▎         | 50176/1648877 [00:01<00:52, 30212.45it/s]\n",
      "  4%|▎         | 58368/1648877 [00:01<00:48, 32619.14it/s]\n",
      "  4%|▍         | 66560/1648877 [00:01<00:45, 34497.53it/s]\n",
      "  5%|▍         | 74752/1648877 [00:02<00:43, 36014.25it/s]\n",
      "  5%|▌         | 82944/1648877 [00:02<00:42, 37127.86it/s]\n",
      "  6%|▌         | 91136/1648877 [00:02<00:52, 29523.60it/s]\n"
     ]
    },
    {
     "name": "stdout",
     "output_type": "stream",
     "text": [
      "Result for train_mnist_af561_00002:\n",
      "  date: 2021-06-22_16-42-23\n",
      "  done: false\n",
      "  experiment_id: bd3664c68ff04387acbc03fe2d188f74\n",
      "  hostname: therealchainman\n",
      "  iterations_since_restore: 7\n",
      "  mean_accuracy: 0.109375\n",
      "  node_ip: 192.168.1.106\n",
      "  pid: 16305\n",
      "  time_since_restore: 16.56432819366455\n",
      "  time_this_iter_s: 1.349928617477417\n",
      "  time_total_s: 16.56432819366455\n",
      "  timestamp: 1624398143\n",
      "  timesteps_since_restore: 0\n",
      "  training_iteration: 7\n",
      "  trial_id: af561_00002\n",
      "  \n",
      "Result for train_mnist_af561_00004:\n",
      "  date: 2021-06-22_16-42-24\n",
      "  done: false\n",
      "  experiment_id: 543c49bd46984f0f83ceb86affc3d6f1\n",
      "  hostname: therealchainman\n",
      "  iterations_since_restore: 8\n",
      "  mean_accuracy: 0.109375\n",
      "  node_ip: 192.168.1.106\n",
      "  pid: 16304\n",
      "  time_since_restore: 16.702067852020264\n",
      "  time_this_iter_s: 1.780184030532837\n",
      "  time_total_s: 16.702067852020264\n",
      "  timestamp: 1624398144\n",
      "  timesteps_since_restore: 0\n",
      "  training_iteration: 8\n",
      "  trial_id: af561_00004\n",
      "  \n"
     ]
    },
    {
     "name": "stderr",
     "output_type": "stream",
     "text": [
      "  7%|▋         | 107520/1648877 [00:03<00:45, 34095.06it/s]\n",
      "  7%|▋         | 115712/1648877 [00:03<00:42, 35676.58it/s]\n"
     ]
    },
    {
     "name": "stdout",
     "output_type": "stream",
     "text": [
      "Result for train_mnist_af561_00005:\n",
      "  date: 2021-06-22_16-42-24\n",
      "  done: false\n",
      "  experiment_id: b368527f0fe245bfa332c2a99e5812f6\n",
      "  hostname: therealchainman\n",
      "  iterations_since_restore: 8\n",
      "  mean_accuracy: 0.065625\n",
      "  node_ip: 192.168.1.106\n",
      "  pid: 16302\n",
      "  time_since_restore: 16.92800807952881\n",
      "  time_this_iter_s: 1.5636568069458008\n",
      "  time_total_s: 16.92800807952881\n",
      "  timestamp: 1624398144\n",
      "  timesteps_since_restore: 0\n",
      "  training_iteration: 8\n",
      "  trial_id: af561_00005\n",
      "  \n",
      "Result for train_mnist_af561_00007:\n",
      "  date: 2021-06-22_16-42-24\n",
      "  done: false\n",
      "  experiment_id: 44d4dccd5da441a1a79b3d5e6f63d5ab\n",
      "  hostname: therealchainman\n",
      "  iterations_since_restore: 7\n",
      "  mean_accuracy: 0.15625\n",
      "  node_ip: 192.168.1.106\n",
      "  pid: 16300\n",
      "  time_since_restore: 17.044517040252686\n",
      "  time_this_iter_s: 1.3609929084777832\n",
      "  time_total_s: 17.044517040252686\n",
      "  timestamp: 1624398144\n",
      "  timesteps_since_restore: 0\n",
      "  training_iteration: 7\n",
      "  trial_id: af561_00007\n",
      "  \n"
     ]
    },
    {
     "name": "stderr",
     "output_type": "stream",
     "text": [
      "  8%|▊         | 123904/1648877 [00:03<00:41, 36877.86it/s]\n"
     ]
    },
    {
     "name": "stdout",
     "output_type": "stream",
     "text": [
      "Result for train_mnist_af561_00003:\n",
      "  date: 2021-06-22_16-42-24\n",
      "  done: false\n",
      "  experiment_id: 4a7f2ed662d0436bb28bc72f7531431a\n",
      "  hostname: therealchainman\n",
      "  iterations_since_restore: 8\n",
      "  mean_accuracy: 0.096875\n",
      "  node_ip: 192.168.1.106\n",
      "  pid: 16299\n",
      "  time_since_restore: 17.48655390739441\n",
      "  time_this_iter_s: 1.3827588558197021\n",
      "  time_total_s: 17.48655390739441\n",
      "  timestamp: 1624398144\n",
      "  timesteps_since_restore: 0\n",
      "  training_iteration: 8\n",
      "  trial_id: af561_00003\n",
      "  \n"
     ]
    },
    {
     "name": "stderr",
     "output_type": "stream",
     "text": [
      "  8%|▊         | 132096/1648877 [00:03<00:38, 39678.65it/s]\n"
     ]
    },
    {
     "name": "stdout",
     "output_type": "stream",
     "text": [
      "Result for train_mnist_af561_00000:\n",
      "  date: 2021-06-22_16-42-24\n",
      "  done: false\n",
      "  experiment_id: 19c4c717727640feae4cf750356b0d7c\n",
      "  hostname: therealchainman\n",
      "  iterations_since_restore: 6\n",
      "  mean_accuracy: 0.1\n",
      "  node_ip: 192.168.1.106\n",
      "  pid: 16301\n",
      "  time_since_restore: 17.464168071746826\n",
      "  time_this_iter_s: 1.5881075859069824\n",
      "  time_total_s: 17.464168071746826\n",
      "  timestamp: 1624398144\n",
      "  timesteps_since_restore: 0\n",
      "  training_iteration: 6\n",
      "  trial_id: af561_00000\n",
      "  \n",
      "Result for train_mnist_af561_00001:\n",
      "  date: 2021-06-22_16-42-25\n",
      "  done: false\n",
      "  experiment_id: efc0481c25bb4f03ad15a94907336a14\n",
      "  hostname: therealchainman\n",
      "  iterations_since_restore: 7\n",
      "  mean_accuracy: 0.125\n",
      "  node_ip: 192.168.1.106\n",
      "  pid: 16303\n",
      "  time_since_restore: 17.730502128601074\n",
      "  time_this_iter_s: 1.481266975402832\n",
      "  time_total_s: 17.730502128601074\n",
      "  timestamp: 1624398145\n",
      "  timesteps_since_restore: 0\n",
      "  training_iteration: 7\n",
      "  trial_id: af561_00001\n",
      "  \n"
     ]
    },
    {
     "name": "stderr",
     "output_type": "stream",
     "text": [
      "  9%|▊         | 140288/1648877 [00:03<00:45, 32942.29it/s]\n",
      "  9%|▉         | 148480/1648877 [00:04<00:37, 39975.41it/s]\n"
     ]
    },
    {
     "data": {
      "text/html": [
       "== Status ==<br>Memory usage on this node: 5.5/15.5 GiB<br>Using FIFO scheduling algorithm.<br>Resources requested: 8.0/8 CPUs, 0/0 GPUs, 0.0/8.04 GiB heap, 0.0/4.02 GiB objects<br>Result logdir: /home/therealchainman/ray_results/train_mnist_2021-06-22_16-42-04<br>Number of trials: 20/20 (12 PENDING, 8 RUNNING)<br><table>\n",
       "<thead>\n",
       "<tr><th>Trial name             </th><th>status  </th><th>loc                </th><th style=\"text-align: right;\">         lr</th><th style=\"text-align: right;\">  momentum</th><th style=\"text-align: right;\">     acc</th><th style=\"text-align: right;\">  iter</th><th style=\"text-align: right;\">  total time (s)</th></tr>\n",
       "</thead>\n",
       "<tbody>\n",
       "<tr><td>train_mnist_af561_00000</td><td>RUNNING </td><td>192.168.1.106:16301</td><td style=\"text-align: right;\">6.41811e-07</td><td style=\"text-align: right;\">  0.189627</td><td style=\"text-align: right;\">0.1     </td><td style=\"text-align: right;\">     6</td><td style=\"text-align: right;\">         17.4642</td></tr>\n",
       "<tr><td>train_mnist_af561_00001</td><td>RUNNING </td><td>192.168.1.106:16303</td><td style=\"text-align: right;\">2.92354e-09</td><td style=\"text-align: right;\">  0.501897</td><td style=\"text-align: right;\">0.125   </td><td style=\"text-align: right;\">     7</td><td style=\"text-align: right;\">         17.7305</td></tr>\n",
       "<tr><td>train_mnist_af561_00002</td><td>RUNNING </td><td>192.168.1.106:16305</td><td style=\"text-align: right;\">1.01225e-08</td><td style=\"text-align: right;\">  0.383448</td><td style=\"text-align: right;\">0.109375</td><td style=\"text-align: right;\">     7</td><td style=\"text-align: right;\">         16.5643</td></tr>\n",
       "<tr><td>train_mnist_af561_00003</td><td>RUNNING </td><td>192.168.1.106:16299</td><td style=\"text-align: right;\">1.55157e-06</td><td style=\"text-align: right;\">  0.778785</td><td style=\"text-align: right;\">0.096875</td><td style=\"text-align: right;\">     8</td><td style=\"text-align: right;\">         17.4866</td></tr>\n",
       "<tr><td>train_mnist_af561_00004</td><td>RUNNING </td><td>192.168.1.106:16304</td><td style=\"text-align: right;\">6.29387e-09</td><td style=\"text-align: right;\">  0.252046</td><td style=\"text-align: right;\">0.109375</td><td style=\"text-align: right;\">     8</td><td style=\"text-align: right;\">         16.7021</td></tr>\n",
       "<tr><td>train_mnist_af561_00005</td><td>RUNNING </td><td>192.168.1.106:16302</td><td style=\"text-align: right;\">2.83837e-05</td><td style=\"text-align: right;\">  0.635141</td><td style=\"text-align: right;\">0.065625</td><td style=\"text-align: right;\">     8</td><td style=\"text-align: right;\">         16.928 </td></tr>\n",
       "<tr><td>train_mnist_af561_00006</td><td>RUNNING </td><td>                   </td><td style=\"text-align: right;\">2.12237e-09</td><td style=\"text-align: right;\">  0.881509</td><td style=\"text-align: right;\">        </td><td style=\"text-align: right;\">      </td><td style=\"text-align: right;\">                </td></tr>\n",
       "<tr><td>train_mnist_af561_00007</td><td>RUNNING </td><td>192.168.1.106:16300</td><td style=\"text-align: right;\">3.41018e-08</td><td style=\"text-align: right;\">  0.485819</td><td style=\"text-align: right;\">0.15625 </td><td style=\"text-align: right;\">     7</td><td style=\"text-align: right;\">         17.0445</td></tr>\n",
       "<tr><td>train_mnist_af561_00008</td><td>PENDING </td><td>                   </td><td style=\"text-align: right;\">8.61318e-08</td><td style=\"text-align: right;\">  0.189483</td><td style=\"text-align: right;\">        </td><td style=\"text-align: right;\">      </td><td style=\"text-align: right;\">                </td></tr>\n",
       "<tr><td>train_mnist_af561_00009</td><td>PENDING </td><td>                   </td><td style=\"text-align: right;\">0.00177473 </td><td style=\"text-align: right;\">  0.293255</td><td style=\"text-align: right;\">        </td><td style=\"text-align: right;\">      </td><td style=\"text-align: right;\">                </td></tr>\n",
       "<tr><td>train_mnist_af561_00010</td><td>PENDING </td><td>                   </td><td style=\"text-align: right;\">0.00564488 </td><td style=\"text-align: right;\">  0.869707</td><td style=\"text-align: right;\">        </td><td style=\"text-align: right;\">      </td><td style=\"text-align: right;\">                </td></tr>\n",
       "<tr><td>train_mnist_af561_00011</td><td>PENDING </td><td>                   </td><td style=\"text-align: right;\">0.158022   </td><td style=\"text-align: right;\">  0.285643</td><td style=\"text-align: right;\">        </td><td style=\"text-align: right;\">      </td><td style=\"text-align: right;\">                </td></tr>\n",
       "<tr><td>train_mnist_af561_00012</td><td>PENDING </td><td>                   </td><td style=\"text-align: right;\">4.68526e-05</td><td style=\"text-align: right;\">  0.233772</td><td style=\"text-align: right;\">        </td><td style=\"text-align: right;\">      </td><td style=\"text-align: right;\">                </td></tr>\n",
       "<tr><td>train_mnist_af561_00013</td><td>PENDING </td><td>                   </td><td style=\"text-align: right;\">1.47123e-08</td><td style=\"text-align: right;\">  0.773651</td><td style=\"text-align: right;\">        </td><td style=\"text-align: right;\">      </td><td style=\"text-align: right;\">                </td></tr>\n",
       "<tr><td>train_mnist_af561_00014</td><td>PENDING </td><td>                   </td><td style=\"text-align: right;\">1.25491e-10</td><td style=\"text-align: right;\">  0.838552</td><td style=\"text-align: right;\">        </td><td style=\"text-align: right;\">      </td><td style=\"text-align: right;\">                </td></tr>\n",
       "<tr><td>train_mnist_af561_00015</td><td>PENDING </td><td>                   </td><td style=\"text-align: right;\">3.72716e-09</td><td style=\"text-align: right;\">  0.462565</td><td style=\"text-align: right;\">        </td><td style=\"text-align: right;\">      </td><td style=\"text-align: right;\">                </td></tr>\n",
       "<tr><td>train_mnist_af561_00016</td><td>PENDING </td><td>                   </td><td style=\"text-align: right;\">3.09241e-07</td><td style=\"text-align: right;\">  0.21736 </td><td style=\"text-align: right;\">        </td><td style=\"text-align: right;\">      </td><td style=\"text-align: right;\">                </td></tr>\n",
       "<tr><td>train_mnist_af561_00017</td><td>PENDING </td><td>                   </td><td style=\"text-align: right;\">1.51156e-06</td><td style=\"text-align: right;\">  0.266795</td><td style=\"text-align: right;\">        </td><td style=\"text-align: right;\">      </td><td style=\"text-align: right;\">                </td></tr>\n",
       "<tr><td>train_mnist_af561_00018</td><td>PENDING </td><td>                   </td><td style=\"text-align: right;\">2.21039e-06</td><td style=\"text-align: right;\">  0.66885 </td><td style=\"text-align: right;\">        </td><td style=\"text-align: right;\">      </td><td style=\"text-align: right;\">                </td></tr>\n",
       "<tr><td>train_mnist_af561_00019</td><td>PENDING </td><td>                   </td><td style=\"text-align: right;\">6.47251e-05</td><td style=\"text-align: right;\">  0.821736</td><td style=\"text-align: right;\">        </td><td style=\"text-align: right;\">      </td><td style=\"text-align: right;\">                </td></tr>\n",
       "</tbody>\n",
       "</table><br><br>"
      ],
      "text/plain": [
       "<IPython.core.display.HTML object>"
      ]
     },
     "metadata": {},
     "output_type": "display_data"
    },
    {
     "name": "stderr",
     "output_type": "stream",
     "text": [
      " 10%|▉         | 156672/1648877 [00:04<00:53, 27743.72it/s]\n",
      " 10%|█         | 173056/1648877 [00:04<00:42, 34476.72it/s]\n",
      " 11%|█         | 181248/1648877 [00:05<00:51, 28409.81it/s]\n",
      " 12%|█▏        | 197632/1648877 [00:05<00:43, 33004.77it/s]\n",
      " 12%|█▏        | 205824/1648877 [00:05<00:41, 34825.80it/s]\n",
      " 13%|█▎        | 214016/1648877 [00:05<00:39, 36214.93it/s]\n"
     ]
    },
    {
     "name": "stdout",
     "output_type": "stream",
     "text": [
      "Result for train_mnist_af561_00004:\n",
      "  date: 2021-06-22_16-42-27\n",
      "  done: true\n",
      "  experiment_id: 543c49bd46984f0f83ceb86affc3d6f1\n",
      "  experiment_tag: 4_lr=6.2939e-09,momentum=0.25205\n",
      "  hostname: therealchainman\n",
      "  iterations_since_restore: 10\n",
      "  mean_accuracy: 0.1125\n",
      "  node_ip: 192.168.1.106\n",
      "  pid: 16304\n",
      "  time_since_restore: 19.83563232421875\n",
      "  time_this_iter_s: 1.4210944175720215\n",
      "  time_total_s: 19.83563232421875\n",
      "  timestamp: 1624398147\n",
      "  timesteps_since_restore: 0\n",
      "  training_iteration: 10\n",
      "  trial_id: af561_00004\n",
      "  \n"
     ]
    },
    {
     "name": "stderr",
     "output_type": "stream",
     "text": [
      " 13%|█▎        | 222208/1648877 [00:06<00:54, 26306.71it/s]\n",
      " 14%|█▍        | 238592/1648877 [00:06<00:42, 32908.71it/s]\n"
     ]
    },
    {
     "name": "stdout",
     "output_type": "stream",
     "text": [
      "Result for train_mnist_af561_00005:\n",
      "  date: 2021-06-22_16-42-27\n",
      "  done: true\n",
      "  experiment_id: b368527f0fe245bfa332c2a99e5812f6\n",
      "  experiment_tag: 5_lr=2.8384e-05,momentum=0.63514\n",
      "  hostname: therealchainman\n",
      "  iterations_since_restore: 10\n",
      "  mean_accuracy: 0.05\n",
      "  node_ip: 192.168.1.106\n",
      "  pid: 16302\n",
      "  time_since_restore: 20.04179859161377\n",
      "  time_this_iter_s: 1.2941436767578125\n",
      "  time_total_s: 20.04179859161377\n",
      "  timestamp: 1624398147\n",
      "  timesteps_since_restore: 0\n",
      "  training_iteration: 10\n",
      "  trial_id: af561_00005\n",
      "  \n",
      "Result for train_mnist_af561_00003:\n",
      "  date: 2021-06-22_16-42-27\n",
      "  done: true\n",
      "  experiment_id: 4a7f2ed662d0436bb28bc72f7531431a\n",
      "  experiment_tag: 3_lr=1.5516e-06,momentum=0.77879\n",
      "  hostname: therealchainman\n",
      "  iterations_since_restore: 10\n",
      "  mean_accuracy: 0.10625\n",
      "  node_ip: 192.168.1.106\n",
      "  pid: 16299\n",
      "  time_since_restore: 20.514113187789917\n",
      "  time_this_iter_s: 1.413985252380371\n",
      "  time_total_s: 20.514113187789917\n",
      "  timestamp: 1624398147\n",
      "  timesteps_since_restore: 0\n",
      "  training_iteration: 10\n",
      "  trial_id: af561_00003\n",
      "  \n"
     ]
    },
    {
     "name": "stderr",
     "output_type": "stream",
     "text": [
      " 15%|█▍        | 246784/1648877 [00:06<00:40, 34750.68it/s]\n"
     ]
    },
    {
     "name": "stdout",
     "output_type": "stream",
     "text": [
      "Result for train_mnist_af561_00002:\n",
      "  date: 2021-06-22_16-42-27\n",
      "  done: true\n",
      "  experiment_id: bd3664c68ff04387acbc03fe2d188f74\n",
      "  experiment_tag: 2_lr=1.0123e-08,momentum=0.38345\n",
      "  hostname: therealchainman\n",
      "  iterations_since_restore: 10\n",
      "  mean_accuracy: 0.084375\n",
      "  node_ip: 192.168.1.106\n",
      "  pid: 16305\n",
      "  time_since_restore: 20.61041522026062\n",
      "  time_this_iter_s: 1.0848157405853271\n",
      "  time_total_s: 20.61041522026062\n",
      "  timestamp: 1624398147\n",
      "  timesteps_since_restore: 0\n",
      "  training_iteration: 10\n",
      "  trial_id: af561_00002\n",
      "  \n"
     ]
    },
    {
     "name": "stderr",
     "output_type": "stream",
     "text": [
      " 15%|█▌        | 254976/1648877 [00:07<00:54, 25775.82it/s]\n",
      "\u001b[2m\u001b[33m(raylet)\u001b[0m /home/therealchainman/miniconda3/lib/python3.8/site-packages/ray/autoscaler/_private/cli_logger.py:57: FutureWarning: Not all Ray CLI dependencies were found. In Ray 1.4+, the Ray CLI, autoscaler, and dashboard will only be usable via `pip install 'ray[default]'`. Please update your install command.\n",
      "\u001b[2m\u001b[33m(raylet)\u001b[0m   warnings.warn(\n",
      "\u001b[2m\u001b[33m(raylet)\u001b[0m /home/therealchainman/miniconda3/lib/python3.8/site-packages/ray/autoscaler/_private/cli_logger.py:57: FutureWarning: Not all Ray CLI dependencies were found. In Ray 1.4+, the Ray CLI, autoscaler, and dashboard will only be usable via `pip install 'ray[default]'`. Please update your install command.\n",
      "\u001b[2m\u001b[33m(raylet)\u001b[0m   warnings.warn(\n",
      " 16%|█▋        | 271360/1648877 [00:07<00:42, 32212.57it/s]\n"
     ]
    },
    {
     "name": "stdout",
     "output_type": "stream",
     "text": [
      "Result for train_mnist_af561_00007:\n",
      "  date: 2021-06-22_16-42-28\n",
      "  done: true\n",
      "  experiment_id: 44d4dccd5da441a1a79b3d5e6f63d5ab\n",
      "  experiment_tag: 7_lr=3.4102e-08,momentum=0.48582\n",
      "  hostname: therealchainman\n",
      "  iterations_since_restore: 10\n",
      "  mean_accuracy: 0.171875\n",
      "  node_ip: 192.168.1.106\n",
      "  pid: 16300\n",
      "  time_since_restore: 21.04267144203186\n",
      "  time_this_iter_s: 0.9284188747406006\n",
      "  time_total_s: 21.04267144203186\n",
      "  timestamp: 1624398148\n",
      "  timesteps_since_restore: 0\n",
      "  training_iteration: 10\n",
      "  trial_id: af561_00007\n",
      "  \n",
      "Result for train_mnist_af561_00001:\n",
      "  date: 2021-06-22_16-42-28\n",
      "  done: true\n",
      "  experiment_id: efc0481c25bb4f03ad15a94907336a14\n",
      "  experiment_tag: 1_lr=2.9235e-09,momentum=0.5019\n",
      "  hostname: therealchainman\n",
      "  iterations_since_restore: 10\n",
      "  mean_accuracy: 0.1\n",
      "  node_ip: 192.168.1.106\n",
      "  pid: 16303\n",
      "  time_since_restore: 21.135441064834595\n",
      "  time_this_iter_s: 0.6235072612762451\n",
      "  time_total_s: 21.135441064834595\n",
      "  timestamp: 1624398148\n",
      "  timesteps_since_restore: 0\n",
      "  training_iteration: 10\n",
      "  trial_id: af561_00001\n",
      "  \n"
     ]
    },
    {
     "name": "stderr",
     "output_type": "stream",
     "text": [
      "\u001b[2m\u001b[33m(raylet)\u001b[0m /home/therealchainman/miniconda3/lib/python3.8/site-packages/ray/autoscaler/_private/cli_logger.py:57: FutureWarning: Not all Ray CLI dependencies were found. In Ray 1.4+, the Ray CLI, autoscaler, and dashboard will only be usable via `pip install 'ray[default]'`. Please update your install command.\n",
      "\u001b[2m\u001b[33m(raylet)\u001b[0m   warnings.warn(\n",
      "\u001b[2m\u001b[33m(raylet)\u001b[0m /home/therealchainman/miniconda3/lib/python3.8/site-packages/ray/autoscaler/_private/cli_logger.py:57: FutureWarning: Not all Ray CLI dependencies were found. In Ray 1.4+, the Ray CLI, autoscaler, and dashboard will only be usable via `pip install 'ray[default]'`. Please update your install command.\n",
      "\u001b[2m\u001b[33m(raylet)\u001b[0m   warnings.warn(\n",
      "\u001b[2m\u001b[33m(raylet)\u001b[0m /home/therealchainman/miniconda3/lib/python3.8/site-packages/ray/autoscaler/_private/cli_logger.py:57: FutureWarning: Not all Ray CLI dependencies were found. In Ray 1.4+, the Ray CLI, autoscaler, and dashboard will only be usable via `pip install 'ray[default]'`. Please update your install command.\n",
      "\u001b[2m\u001b[33m(raylet)\u001b[0m   warnings.warn(\n"
     ]
    },
    {
     "name": "stdout",
     "output_type": "stream",
     "text": [
      "Result for train_mnist_af561_00000:\n",
      "  date: 2021-06-22_16-42-28\n",
      "  done: true\n",
      "  experiment_id: 19c4c717727640feae4cf750356b0d7c\n",
      "  experiment_tag: 0_lr=6.4181e-07,momentum=0.18963\n",
      "  hostname: therealchainman\n",
      "  iterations_since_restore: 10\n",
      "  mean_accuracy: 0.11875\n",
      "  node_ip: 192.168.1.106\n",
      "  pid: 16301\n",
      "  time_since_restore: 21.384572982788086\n",
      "  time_this_iter_s: 0.4729793071746826\n",
      "  time_total_s: 21.384572982788086\n",
      "  timestamp: 1624398148\n",
      "  timesteps_since_restore: 0\n",
      "  training_iteration: 10\n",
      "  trial_id: af561_00000\n",
      "  \n"
     ]
    },
    {
     "name": "stderr",
     "output_type": "stream",
     "text": [
      " 17%|█▋        | 279552/1648877 [00:07<00:50, 27196.54it/s]\n",
      "\u001b[2m\u001b[33m(raylet)\u001b[0m /home/therealchainman/miniconda3/lib/python3.8/site-packages/ray/autoscaler/_private/cli_logger.py:57: FutureWarning: Not all Ray CLI dependencies were found. In Ray 1.4+, the Ray CLI, autoscaler, and dashboard will only be usable via `pip install 'ray[default]'`. Please update your install command.\n",
      "\u001b[2m\u001b[33m(raylet)\u001b[0m   warnings.warn(\n",
      "\u001b[2m\u001b[33m(raylet)\u001b[0m /home/therealchainman/miniconda3/lib/python3.8/site-packages/ray/autoscaler/_private/cli_logger.py:57: FutureWarning: Not all Ray CLI dependencies were found. In Ray 1.4+, the Ray CLI, autoscaler, and dashboard will only be usable via `pip install 'ray[default]'`. Please update your install command.\n",
      "\u001b[2m\u001b[33m(raylet)\u001b[0m   warnings.warn(\n",
      " 18%|█▊        | 295936/1648877 [00:08<00:43, 31336.63it/s]\n",
      "\u001b[2m\u001b[33m(raylet)\u001b[0m /home/therealchainman/miniconda3/lib/python3.8/site-packages/ray/autoscaler/_private/cli_logger.py:57: FutureWarning: Not all Ray CLI dependencies were found. In Ray 1.4+, the Ray CLI, autoscaler, and dashboard will only be usable via `pip install 'ray[default]'`. Please update your install command.\n",
      "\u001b[2m\u001b[33m(raylet)\u001b[0m   warnings.warn(\n",
      " 18%|█▊        | 304128/1648877 [00:08<00:38, 34747.61it/s]\n",
      "\u001b[2m\u001b[33m(raylet)\u001b[0m /home/therealchainman/miniconda3/lib/python3.8/site-packages/ray/autoscaler/_private/cli_logger.py:57: FutureWarning: Not all Ray CLI dependencies were found. In Ray 1.4+, the Ray CLI, autoscaler, and dashboard will only be usable via `pip install 'ray[default]'`. Please update your install command.\n",
      "\u001b[2m\u001b[33m(raylet)\u001b[0m   warnings.warn(\n",
      "\u001b[2m\u001b[33m(raylet)\u001b[0m /home/therealchainman/miniconda3/lib/python3.8/site-packages/ray/autoscaler/_private/cli_logger.py:57: FutureWarning: Not all Ray CLI dependencies were found. In Ray 1.4+, the Ray CLI, autoscaler, and dashboard will only be usable via `pip install 'ray[default]'`. Please update your install command.\n",
      "\u001b[2m\u001b[33m(raylet)\u001b[0m   warnings.warn(\n",
      "\u001b[2m\u001b[33m(raylet)\u001b[0m /home/therealchainman/miniconda3/lib/python3.8/site-packages/ray/autoscaler/_private/cli_logger.py:57: FutureWarning: Not all Ray CLI dependencies were found. In Ray 1.4+, the Ray CLI, autoscaler, and dashboard will only be usable via `pip install 'ray[default]'`. Please update your install command.\n",
      "\u001b[2m\u001b[33m(raylet)\u001b[0m   warnings.warn(\n",
      " 19%|█▉        | 312320/1648877 [00:08<00:46, 28490.07it/s]\n",
      "\u001b[2m\u001b[33m(raylet)\u001b[0m /home/therealchainman/miniconda3/lib/python3.8/site-packages/ray/autoscaler/_private/cli_logger.py:57: FutureWarning: Not all Ray CLI dependencies were found. In Ray 1.4+, the Ray CLI, autoscaler, and dashboard will only be usable via `pip install 'ray[default]'`. Please update your install command.\n",
      "\u001b[2m\u001b[33m(raylet)\u001b[0m   warnings.warn(\n",
      " 20%|█▉        | 328704/1648877 [00:09<00:39, 33280.55it/s]\n",
      "\u001b[2m\u001b[33m(raylet)\u001b[0m /home/therealchainman/miniconda3/lib/python3.8/site-packages/ray/autoscaler/_private/cli_logger.py:57: FutureWarning: Not all Ray CLI dependencies were found. In Ray 1.4+, the Ray CLI, autoscaler, and dashboard will only be usable via `pip install 'ray[default]'`. Please update your install command.\n",
      "\u001b[2m\u001b[33m(raylet)\u001b[0m   warnings.warn(\n",
      "\u001b[2m\u001b[33m(raylet)\u001b[0m /home/therealchainman/miniconda3/lib/python3.8/site-packages/ray/autoscaler/_private/cli_logger.py:57: FutureWarning: Not all Ray CLI dependencies were found. In Ray 1.4+, the Ray CLI, autoscaler, and dashboard will only be usable via `pip install 'ray[default]'`. Please update your install command.\n",
      "\u001b[2m\u001b[33m(raylet)\u001b[0m   warnings.warn(\n",
      " 20%|██        | 336896/1648877 [00:09<00:42, 30881.28it/s]\n",
      " 21%|██        | 345088/1648877 [00:09<00:36, 36171.08it/s]\n",
      " 21%|██▏       | 353280/1648877 [00:10<00:47, 27110.08it/s]\n",
      " 22%|██▏       | 369664/1648877 [00:10<00:40, 31711.42it/s]\n",
      " 23%|██▎       | 377856/1648877 [00:10<00:42, 30201.60it/s]\n",
      " 23%|██▎       | 386048/1648877 [00:10<00:34, 36715.84it/s]\n"
     ]
    },
    {
     "name": "stdout",
     "output_type": "stream",
     "text": [
      "\u001b[2m\u001b[36m(pid=16582)\u001b[0m Downloading http://yann.lecun.com/exdb/mnist/train-images-idx3-ubyte.gz\n",
      "\u001b[2m\u001b[36m(pid=16587)\u001b[0m Downloading http://yann.lecun.com/exdb/mnist/train-images-idx3-ubyte.gz\n",
      "\u001b[2m\u001b[36m(pid=16582)\u001b[0m Failed to download (trying next):\n",
      "\u001b[2m\u001b[36m(pid=16582)\u001b[0m HTTP Error 503: Service Unavailable\n",
      "\u001b[2m\u001b[36m(pid=16582)\u001b[0m \n",
      "\u001b[2m\u001b[36m(pid=16582)\u001b[0m Downloading https://ossci-datasets.s3.amazonaws.com/mnist/train-images-idx3-ubyte.gz\n",
      "\u001b[2m\u001b[36m(pid=16587)\u001b[0m Downloading http://yann.lecun.com/exdb/mnist/train-images-idx3-ubyte.gz to {cwd}/data/MNIST/raw/train-images-idx3-ubyte.gz\n",
      "\u001b[2m\u001b[36m(pid=16587)\u001b[0m Failed to download (trying next):\n",
      "\u001b[2m\u001b[36m(pid=16587)\u001b[0m HTTP Error 503: Service Unavailable\n",
      "\u001b[2m\u001b[36m(pid=16587)\u001b[0m \n",
      "\u001b[2m\u001b[36m(pid=16587)\u001b[0m Downloading https://ossci-datasets.s3.amazonaws.com/mnist/train-images-idx3-ubyte.gz\n",
      "\u001b[2m\u001b[36m(pid=16584)\u001b[0m Downloading http://yann.lecun.com/exdb/mnist/train-images-idx3-ubyte.gz\n",
      "\u001b[2m\u001b[36m(pid=16588)\u001b[0m Downloading http://yann.lecun.com/exdb/mnist/train-images-idx3-ubyte.gz\n",
      "\u001b[2m\u001b[36m(pid=16590)\u001b[0m Downloading http://yann.lecun.com/exdb/mnist/train-images-idx3-ubyte.gz\n"
     ]
    },
    {
     "name": "stderr",
     "output_type": "stream",
     "text": [
      " 24%|██▍       | 394240/1648877 [00:11<00:35, 35846.77it/s]\n",
      " 24%|██▍       | 402432/1648877 [00:11<00:36, 34375.43it/s]\n"
     ]
    },
    {
     "name": "stdout",
     "output_type": "stream",
     "text": [
      "\u001b[2m\u001b[36m(pid=16582)\u001b[0m Downloading https://ossci-datasets.s3.amazonaws.com/mnist/train-images-idx3-ubyte.gz to {cwd}/data/MNIST/raw/train-images-idx3-ubyte.gz\n",
      "\u001b[2m\u001b[36m(pid=16584)\u001b[0m Failed to download (trying next):\n",
      "\u001b[2m\u001b[36m(pid=16584)\u001b[0m HTTP Error 503: Service Unavailable\n",
      "\u001b[2m\u001b[36m(pid=16584)\u001b[0m \n",
      "\u001b[2m\u001b[36m(pid=16584)\u001b[0m Downloading https://ossci-datasets.s3.amazonaws.com/mnist/train-images-idx3-ubyte.gz\n",
      "\u001b[2m\u001b[36m(pid=16588)\u001b[0m Failed to download (trying next):\n",
      "\u001b[2m\u001b[36m(pid=16588)\u001b[0m HTTP Error 503: Service Unavailable\n",
      "\u001b[2m\u001b[36m(pid=16588)\u001b[0m \n",
      "\u001b[2m\u001b[36m(pid=16588)\u001b[0m Downloading https://ossci-datasets.s3.amazonaws.com/mnist/train-images-idx3-ubyte.gz\n",
      "\u001b[2m\u001b[36m(pid=16590)\u001b[0m Failed to download (trying next):\n",
      "\u001b[2m\u001b[36m(pid=16590)\u001b[0m HTTP Error 503: Service Unavailable\n",
      "\u001b[2m\u001b[36m(pid=16590)\u001b[0m \n",
      "\u001b[2m\u001b[36m(pid=16590)\u001b[0m Downloading https://ossci-datasets.s3.amazonaws.com/mnist/train-images-idx3-ubyte.gz\n",
      "\u001b[2m\u001b[36m(pid=16587)\u001b[0m Downloading https://ossci-datasets.s3.amazonaws.com/mnist/train-images-idx3-ubyte.gz to {cwd}/data/MNIST/raw/train-images-idx3-ubyte.gz\n"
     ]
    },
    {
     "name": "stderr",
     "output_type": "stream",
     "text": [
      " 25%|██▍       | 410624/1648877 [00:11<00:36, 33875.30it/s]\n",
      "  0%|          | 0/9912422 [00:00<?, ?it/s]\n",
      "  0%|          | 0/9912422 [00:00<?, ?it/s]\n"
     ]
    },
    {
     "name": "stdout",
     "output_type": "stream",
     "text": [
      "\u001b[2m\u001b[36m(pid=16588)\u001b[0m Downloading https://ossci-datasets.s3.amazonaws.com/mnist/train-images-idx3-ubyte.gz to {cwd}/data/MNIST/raw/train-images-idx3-ubyte.gz\n",
      "\u001b[2m\u001b[36m(pid=16590)\u001b[0m Downloading https://ossci-datasets.s3.amazonaws.com/mnist/train-images-idx3-ubyte.gz to {cwd}/data/MNIST/raw/train-images-idx3-ubyte.gz\n",
      "\u001b[2m\u001b[36m(pid=16597)\u001b[0m Downloading http://yann.lecun.com/exdb/mnist/train-images-idx3-ubyte.gz\n",
      "\u001b[2m\u001b[36m(pid=16584)\u001b[0m Downloading https://ossci-datasets.s3.amazonaws.com/mnist/train-images-idx3-ubyte.gz to {cwd}/data/MNIST/raw/train-images-idx3-ubyte.gz\n",
      "\u001b[2m\u001b[36m(pid=16595)\u001b[0m Downloading http://yann.lecun.com/exdb/mnist/train-images-idx3-ubyte.gz\n",
      "\u001b[2m\u001b[36m(pid=16597)\u001b[0m Downloading http://yann.lecun.com/exdb/mnist/train-images-idx3-ubyte.gz to {cwd}/data/MNIST/raw/train-images-idx3-ubyte.gz\n",
      "\u001b[2m\u001b[36m(pid=16595)\u001b[0m Failed to download (trying next):\n",
      "\u001b[2m\u001b[36m(pid=16595)\u001b[0m HTTP Error 503: Service Unavailable\n",
      "\u001b[2m\u001b[36m(pid=16595)\u001b[0m \n",
      "\u001b[2m\u001b[36m(pid=16595)\u001b[0m Downloading https://ossci-datasets.s3.amazonaws.com/mnist/train-images-idx3-ubyte.gz\n"
     ]
    },
    {
     "name": "stderr",
     "output_type": "stream",
     "text": [
      " 25%|██▌       | 418816/1648877 [00:11<00:36, 33311.03it/s]\n",
      "  1%|          | 68608/9912422 [00:00<00:18, 519134.15it/s]\n",
      "  1%|          | 69632/9912422 [00:00<00:16, 586374.27it/s]\n",
      "  3%|▎         | 277504/9912422 [00:00<00:14, 667212.42it/s]\n",
      "  4%|▎         | 365568/9912422 [00:00<00:12, 771115.56it/s]\n",
      "  0%|          | 0/9912422 [00:00<?, ?it/s]\n",
      "  0%|          | 0/9912422 [00:00<?, ?it/s]\n",
      "  0%|          | 0/9912422 [00:00<?, ?it/s]\n",
      "  0%|          | 34816/9912422 [00:00<00:31, 314925.12it/s]\n"
     ]
    },
    {
     "name": "stdout",
     "output_type": "stream",
     "text": [
      "\u001b[2m\u001b[36m(pid=16597)\u001b[0m Failed to download (trying next):\n",
      "\u001b[2m\u001b[36m(pid=16597)\u001b[0m HTTP Error 503: Service Unavailable\n",
      "\u001b[2m\u001b[36m(pid=16597)\u001b[0m \n",
      "\u001b[2m\u001b[36m(pid=16597)\u001b[0m Downloading https://ossci-datasets.s3.amazonaws.com/mnist/train-images-idx3-ubyte.gz\n"
     ]
    },
    {
     "name": "stderr",
     "output_type": "stream",
     "text": [
      " 26%|██▌       | 427008/1648877 [00:12<00:37, 32731.19it/s]\n",
      "  9%|▊         | 851968/9912422 [00:00<00:10, 889229.22it/s]\n",
      " 13%|█▎        | 1270784/9912422 [00:00<00:08, 1044621.33it/s]\n",
      "  0%|          | 34816/9912422 [00:00<00:38, 256742.80it/s]\n",
      "  0%|          | 25600/9912422 [00:00<00:53, 183319.67it/s]\n",
      "  1%|          | 104448/9912422 [00:00<00:27, 362646.97it/s]\n",
      " 12%|█▏        | 1147904/9912422 [00:00<00:07, 1125141.96it/s]\n",
      " 20%|██        | 2020352/9912422 [00:00<00:05, 1397621.41it/s]\n",
      "  1%|          | 87040/9912422 [00:00<00:33, 294005.21it/s]\n",
      "  1%|          | 95232/9912422 [00:00<00:44, 221984.41it/s]\n",
      "  2%|▏         | 190464/9912422 [00:00<00:22, 436691.18it/s]\n",
      " 14%|█▎        | 1354752/9912422 [00:00<00:06, 1300334.72it/s]\n",
      " 29%|██▊       | 2847744/9912422 [00:00<00:03, 1861723.05it/s]\n",
      "  1%|▏         | 139264/9912422 [00:00<00:29, 335858.82it/s]\n",
      "  2%|▏         | 164864/9912422 [00:00<00:35, 270865.68it/s]\n",
      " 26%|██▋       | 435200/1648877 [00:12<00:37, 32546.14it/s]\n",
      " 35%|███▌      | 3516416/9912422 [00:00<00:02, 2375928.08it/s]\n",
      "  3%|▎         | 278528/9912422 [00:00<00:20, 481187.45it/s]\n",
      " 17%|█▋        | 1722368/9912422 [00:00<00:05, 1522651.66it/s]\n",
      "  2%|▏         | 208896/9912422 [00:00<00:25, 386020.87it/s]\n",
      " 41%|████      | 4074496/9912422 [00:00<00:02, 2858272.62it/s]\n",
      "  3%|▎         | 251904/9912422 [00:00<00:29, 330096.52it/s]\n",
      "  4%|▎         | 365568/9912422 [00:00<00:17, 550296.64it/s]\n"
     ]
    },
    {
     "name": "stdout",
     "output_type": "stream",
     "text": [
      "\u001b[2m\u001b[36m(pid=16595)\u001b[0m Downloading https://ossci-datasets.s3.amazonaws.com/mnist/train-images-idx3-ubyte.gz to {cwd}/data/MNIST/raw/train-images-idx3-ubyte.gz\n",
      "\u001b[2m\u001b[36m(pid=16597)\u001b[0m Downloading https://ossci-datasets.s3.amazonaws.com/mnist/train-images-idx3-ubyte.gz to {cwd}/data/MNIST/raw/train-images-idx3-ubyte.gz\n"
     ]
    },
    {
     "name": "stderr",
     "output_type": "stream",
     "text": [
      "  3%|▎         | 261120/9912422 [00:00<00:24, 386302.53it/s]\n",
      " 22%|██▏       | 2140160/9912422 [00:00<00:04, 1768370.25it/s]\n",
      " 49%|████▉     | 4838400/9912422 [00:00<00:01, 3492684.94it/s]\n",
      "  5%|▍         | 452608/9912422 [00:00<00:15, 608622.49it/s]\n",
      " 27%|██▋       | 443392/1648877 [00:12<00:37, 32440.99it/s]\n",
      "  4%|▎         | 356352/9912422 [00:00<00:23, 399096.30it/s]\n",
      " 26%|██▌       | 2575360/9912422 [00:01<00:03, 2073818.38it/s]\n",
      " 57%|█████▋    | 5624832/9912422 [00:00<00:01, 4187701.80it/s]\n",
      "  3%|▎         | 330752/9912422 [00:00<00:22, 425375.92it/s]\n",
      "  4%|▍         | 443392/9912422 [00:00<00:20, 458351.04it/s]\n",
      "  6%|▌         | 557056/9912422 [00:00<00:14, 668029.06it/s]\n",
      " 30%|███       | 2975744/9912422 [00:01<00:02, 2399399.41it/s]\n",
      " 63%|██████▎   | 6283264/9912422 [00:01<00:00, 4661988.75it/s]\n",
      "  6%|▋         | 644096/9912422 [00:00<00:12, 716628.45it/s]\n",
      "  4%|▍         | 400384/9912422 [00:00<00:21, 447127.47it/s]\n",
      " 27%|██▋       | 451584/1648877 [00:12<00:37, 32289.79it/s]\n",
      " 71%|███████   | 7033856/9912422 [00:01<00:00, 5253693.20it/s]\n",
      "  6%|▌         | 547840/9912422 [00:00<00:17, 526432.03it/s]\n",
      " 34%|███▍      | 3353600/9912422 [00:01<00:02, 2693952.86it/s]\n",
      "  7%|▋         | 731136/9912422 [00:01<00:12, 744606.66it/s]\n",
      "  5%|▍         | 470016/9912422 [00:00<00:19, 474579.64it/s]\n",
      "  7%|▋         | 652288/9912422 [00:01<00:15, 579216.46it/s]\n",
      " 37%|███▋      | 3680256/9912422 [00:01<00:02, 2810640.40it/s]\n",
      " 80%|████████  | 7967744/9912422 [00:01<00:00, 5761338.64it/s]\n",
      "  8%|▊         | 808960/9912422 [00:01<00:12, 747741.29it/s]\n",
      "  0%|          | 0/9912422 [00:00<?, ?it/s]\n",
      " 28%|██▊       | 459776/1648877 [00:13<00:36, 32713.74it/s]\n",
      " 90%|█████████ | 8967168/9912422 [00:01<00:00, 6548993.43it/s]\n",
      "  6%|▌         | 557056/9912422 [00:01<00:18, 507757.38it/s]\n",
      "  8%|▊         | 756736/9912422 [00:01<00:14, 644838.51it/s]\n",
      " 40%|████      | 4002816/9912422 [00:01<00:02, 2729072.78it/s]\n",
      "  9%|▉         | 922624/9912422 [00:01<00:11, 770531.57it/s]\n",
      "  0%|          | 9216/9912422 [00:00<02:45, 59904.98it/s]\n",
      "  8%|▊         | 830464/9912422 [00:01<00:13, 656903.50it/s]\n",
      " 45%|████▍     | 4455424/9912422 [00:01<00:01, 2881928.70it/s]\n",
      "9913344it [00:01, 6262612.85it/s]                             \n",
      "  6%|▋         | 626688/9912422 [00:01<00:19, 475439.71it/s]\n",
      " 10%|█         | 1027072/9912422 [00:01<00:11, 804006.72it/s]\n",
      "  0%|          | 0/9912422 [00:00<?, ?it/s]\n",
      " 28%|██▊       | 467968/1648877 [00:13<00:35, 33077.11it/s]\n",
      "  8%|▊         | 765952/9912422 [00:01<00:15, 584832.53it/s]\n",
      " 10%|▉         | 948224/9912422 [00:01<00:12, 719495.32it/s]\n",
      "  0%|          | 26624/9912422 [00:00<02:14, 73370.93it/s]\n",
      " 51%|█████▏    | 5082112/9912422 [00:01<00:01, 3410109.50it/s]\n",
      " 12%|█▏        | 1218560/9912422 [00:01<00:09, 943820.36it/s]\n",
      " 11%|█▏        | 1122304/9912422 [00:01<00:10, 860635.78it/s]\n",
      "  0%|          | 34816/9912422 [00:00<00:42, 232661.60it/s]\n",
      "  2%|▏         | 165888/9912422 [00:00<01:36, 101425.12it/s]\n",
      " 58%|█████▊    | 5706752/9912422 [00:01<00:01, 3930799.45it/s]\n"
     ]
    },
    {
     "name": "stdout",
     "output_type": "stream",
     "text": [
      "\u001b[2m\u001b[36m(pid=16587)\u001b[0m Extracting {cwd}/data/MNIST/raw/train-images-idx3-ubyte.gz to {cwd}/data/MNIST/raw\n"
     ]
    },
    {
     "name": "stderr",
     "output_type": "stream",
     "text": [
      "  9%|▉         | 887808/9912422 [00:01<00:14, 643697.60it/s]\n",
      " 14%|█▍        | 1426432/9912422 [00:01<00:07, 1098930.58it/s]\n",
      "  1%|          | 100352/9912422 [00:00<00:34, 288469.50it/s]\n",
      " 29%|██▉       | 476160/1648877 [00:13<00:35, 33437.06it/s]\n",
      " 63%|██████▎   | 6263808/9912422 [00:01<00:00, 4269145.15it/s]\n",
      " 13%|█▎        | 1261568/9912422 [00:01<00:09, 941882.04it/s]\n",
      "  3%|▎         | 270336/9912422 [00:00<01:09, 139092.23it/s]\n",
      " 68%|██████▊   | 6763520/9912422 [00:01<00:00, 4463950.84it/s]\n",
      " 10%|█         | 992256/9912422 [00:01<00:13, 668078.84it/s]\n",
      " 14%|█▍        | 1370112/9912422 [00:01<00:08, 974134.22it/s]\n",
      " 16%|█▌        | 1566720/9912422 [00:01<00:07, 1064722.10it/s]\n",
      "  2%|▏         | 191488/9912422 [00:00<00:27, 350985.01it/s]\n",
      " 29%|██▉       | 484352/1648877 [00:13<00:34, 33517.41it/s]\n",
      " 15%|█▍        | 1477632/9912422 [00:01<00:09, 888136.31it/s]\n",
      "  4%|▍         | 382976/9912422 [00:00<00:20, 457079.55it/s]\n",
      " 17%|█▋        | 1685504/9912422 [00:01<00:09, 853674.45it/s] \n",
      "  4%|▍         | 374784/9912422 [00:00<00:55, 171311.23it/s]\n",
      " 11%|█         | 1068032/9912422 [00:01<00:16, 542352.94it/s]\n",
      " 73%|███████▎  | 7251968/9912422 [00:02<00:00, 3499973.22it/s]\n",
      "  6%|▌         | 574464/9912422 [00:00<00:15, 592144.88it/s]\n",
      " 12%|█▏        | 1218560/9912422 [00:02<00:13, 667293.82it/s]\n",
      " 17%|█▋        | 1644544/9912422 [00:02<00:08, 953780.51it/s]\n",
      " 19%|█▉        | 1897472/9912422 [00:02<00:07, 1034583.87it/s]\n",
      "  6%|▌         | 548864/9912422 [00:00<00:39, 234554.77it/s]\n",
      " 81%|████████  | 8016896/9912422 [00:02<00:00, 4146012.11it/s]\n",
      " 30%|██▉       | 492544/1648877 [00:14<00:34, 33848.87it/s]\n",
      " 13%|█▎        | 1323008/9912422 [00:02<00:11, 744814.21it/s]\n",
      " 21%|██        | 2099200/9912422 [00:02<00:06, 1211641.20it/s]\n",
      "  8%|▊         | 783360/9912422 [00:00<00:12, 707769.55it/s]\n",
      " 86%|████████▌ | 8523776/9912422 [00:02<00:00, 4358377.52it/s]\n",
      " 18%|█▊        | 1783808/9912422 [00:02<00:08, 991338.71it/s]\n",
      "  7%|▋         | 653312/9912422 [00:01<00:31, 296502.32it/s]\n",
      " 91%|█████████ | 9027584/9912422 [00:02<00:00, 4464159.77it/s]\n",
      " 14%|█▍        | 1416192/9912422 [00:02<00:10, 787854.17it/s]\n",
      " 19%|█▉        | 1904640/9912422 [00:02<00:07, 1027542.76it/s]\n",
      "  8%|▊         | 775168/9912422 [00:01<00:23, 380849.87it/s]\n",
      "  9%|▉         | 940032/9912422 [00:00<00:10, 846539.11it/s]\n",
      " 23%|██▎       | 2252800/9912422 [00:02<00:07, 1078578.64it/s]\n",
      " 11%|█▏        | 1131520/9912422 [00:00<00:08, 1016618.14it/s]\n",
      " 30%|███       | 500736/1648877 [00:14<00:34, 33689.92it/s]\n",
      " 20%|██        | 2012160/9912422 [00:02<00:08, 959594.31it/s] \n",
      "  9%|▊         | 867328/9912422 [00:01<00:20, 442613.43it/s]\n",
      " 96%|█████████▌| 9522176/9912422 [00:02<00:00, 4053904.76it/s]\n",
      " 15%|█▌        | 1514496/9912422 [00:02<00:12, 659371.47it/s]\n",
      " 24%|██▍       | 2385920/9912422 [00:02<00:07, 1055435.77it/s]\n",
      " 13%|█▎        | 1288192/9912422 [00:01<00:07, 1098264.24it/s]\n",
      "9913344it [00:02, 3600848.59it/s]                             \n",
      " 16%|█▋        | 1612800/9912422 [00:02<00:11, 731615.39it/s]\n",
      " 21%|██▏       | 2114560/9912422 [00:02<00:09, 857947.28it/s]\n",
      " 25%|██▌       | 2509824/9912422 [00:02<00:06, 1103793.44it/s]\n",
      " 10%|▉         | 953344/9912422 [00:01<00:18, 483733.04it/s]\n",
      " 15%|█▍        | 1479680/9912422 [00:01<00:06, 1224736.84it/s]\n",
      " 31%|███       | 508928/1648877 [00:14<00:33, 34411.10it/s]\n",
      " 17%|█▋        | 1705984/9912422 [00:02<00:10, 773697.30it/s]\n",
      " 27%|██▋       | 2715648/9912422 [00:02<00:05, 1272856.20it/s]\n",
      " 11%|█         | 1071104/9912422 [00:01<00:15, 585140.12it/s]\n",
      " 17%|█▋        | 1723392/9912422 [00:01<00:05, 1394729.31it/s]\n",
      " 18%|█▊        | 1793024/9912422 [00:02<00:10, 785775.88it/s]\n",
      " 23%|██▎       | 2306048/9912422 [00:02<00:08, 869421.12it/s]\n",
      " 29%|██▉       | 2862080/9912422 [00:02<00:05, 1293149.34it/s]\n",
      " 12%|█▏        | 1161216/9912422 [00:01<00:13, 652040.44it/s]\n"
     ]
    },
    {
     "name": "stdout",
     "output_type": "stream",
     "text": [
      "\u001b[2m\u001b[36m(pid=16582)\u001b[0m Extracting {cwd}/data/MNIST/raw/train-images-idx3-ubyte.gz to {cwd}/data/MNIST/raw\n"
     ]
    },
    {
     "name": "stderr",
     "output_type": "stream",
     "text": [
      " 31%|███▏      | 517120/1648877 [00:14<00:32, 34378.65it/s]\n",
      " 20%|██        | 1984512/9912422 [00:01<00:05, 1576038.74it/s]\n",
      " 19%|█▉        | 1914880/9912422 [00:02<00:09, 870470.90it/s]\n",
      " 30%|███       | 3011584/9912422 [00:02<00:05, 1311067.04it/s]\n",
      " 13%|█▎        | 1280000/9912422 [00:01<00:11, 730149.27it/s]\n",
      " 23%|██▎       | 2280448/9912422 [00:01<00:04, 1817815.58it/s]\n",
      " 26%|██▌       | 2567168/9912422 [00:02<00:07, 993544.80it/s]\n",
      " 21%|██        | 2036736/9912422 [00:02<00:08, 916012.53it/s]\n",
      " 32%|███▏      | 3168256/9912422 [00:02<00:04, 1377852.91it/s]\n",
      " 14%|█▍        | 1419264/9912422 [00:01<00:10, 829272.58it/s]\n",
      " 26%|██▌       | 2576384/9912422 [00:01<00:03, 2055682.09it/s]\n"
     ]
    },
    {
     "name": "stdout",
     "output_type": "stream",
     "text": [
      "\u001b[2m\u001b[36m(pid=16587)\u001b[0m \n",
      "\u001b[2m\u001b[36m(pid=16587)\u001b[0m Downloading http://yann.lecun.com/exdb/mnist/train-labels-idx1-ubyte.gz\n",
      "\u001b[2m\u001b[36m(pid=16587)\u001b[0m Downloading http://yann.lecun.com/exdb/mnist/train-labels-idx1-ubyte.gz to {cwd}/data/MNIST/raw/train-labels-idx1-ubyte.gz\n"
     ]
    },
    {
     "name": "stderr",
     "output_type": "stream",
     "text": [
      " 32%|███▏      | 525312/1648877 [00:15<00:31, 35827.91it/s]\n",
      " 22%|██▏       | 2134016/9912422 [00:03<00:08, 898186.82it/s]\n",
      " 28%|██▊       | 2793472/9912422 [00:03<00:06, 1183669.44it/s]\n",
      " 34%|███▎      | 3324928/9912422 [00:03<00:04, 1350598.03it/s]\n",
      " 15%|█▌        | 1523712/9912422 [00:01<00:09, 855520.43it/s]\n",
      " 30%|██▉       | 2933760/9912422 [00:03<00:05, 1227252.29it/s]\n",
      " 28%|██▊       | 2816000/9912422 [00:01<00:03, 2049615.86it/s]\n",
      "29696it [00:00, 810856.54it/s]           \n",
      " 17%|█▋        | 1680384/9912422 [00:02<00:08, 990305.97it/s]\n",
      " 23%|██▎       | 2297856/9912422 [00:03<00:08, 930501.71it/s]\n",
      " 36%|███▌      | 3586048/9912422 [00:03<00:04, 1425671.36it/s]\n",
      " 32%|███▏      | 3203072/9912422 [00:01<00:02, 2263417.49it/s]\n"
     ]
    },
    {
     "name": "stdout",
     "output_type": "stream",
     "text": [
      "\u001b[2m\u001b[36m(pid=16587)\u001b[0m Extracting {cwd}/data/MNIST/raw/train-labels-idx1-ubyte.gz to {cwd}/data/MNIST/raw\n",
      "\u001b[2m\u001b[36m(pid=16587)\u001b[0m \n",
      "\u001b[2m\u001b[36m(pid=16587)\u001b[0m Downloading http://yann.lecun.com/exdb/mnist/t10k-images-idx3-ubyte.gz\n"
     ]
    },
    {
     "name": "stderr",
     "output_type": "stream",
     "text": [
      " 32%|███▏      | 533504/1648877 [00:15<00:30, 36088.30it/s]\n",
      " 31%|███       | 3072000/9912422 [00:03<00:06, 1130497.65it/s]\n",
      " 24%|██▍       | 2402304/9912422 [00:03<00:07, 952621.26it/s]\n",
      " 38%|███▊      | 3776512/9912422 [00:03<00:04, 1441456.68it/s]\n",
      " 18%|█▊        | 1801216/9912422 [00:02<00:08, 917065.70it/s]\n",
      " 35%|███▌      | 3516416/9912422 [00:01<00:02, 2441252.71it/s]\n",
      " 32%|███▏      | 3197952/9912422 [00:03<00:05, 1134736.33it/s]\n",
      " 25%|██▌       | 2524160/9912422 [00:03<00:07, 999440.07it/s]\n",
      " 40%|███▉      | 3934208/9912422 [00:03<00:04, 1469499.83it/s]\n",
      " 20%|█▉        | 1976320/9912422 [00:02<00:07, 1065135.86it/s]\n",
      " 39%|███▉      | 3881984/9912422 [00:02<00:02, 2705314.69it/s]\n"
     ]
    },
    {
     "name": "stdout",
     "output_type": "stream",
     "text": [
      "\u001b[2m\u001b[36m(pid=16587)\u001b[0m Downloading http://yann.lecun.com/exdb/mnist/t10k-images-idx3-ubyte.gz to {cwd}/data/MNIST/raw/t10k-images-idx3-ubyte.gz\n"
     ]
    },
    {
     "name": "stderr",
     "output_type": "stream",
     "text": [
      " 33%|███▎      | 541696/1648877 [00:15<00:31, 35407.30it/s]\n",
      " 34%|███▍      | 3354624/9912422 [00:03<00:05, 1237030.49it/s]\n",
      " 27%|██▋       | 2672640/9912422 [00:03<00:06, 1107972.81it/s]\n",
      " 44%|████▎     | 4319232/9912422 [00:02<00:01, 3054505.91it/s]\n",
      " 42%|████▏     | 4195328/9912422 [00:03<00:03, 1688386.64it/s]\n",
      " 21%|██        | 2101248/9912422 [00:02<00:07, 1019856.37it/s]\n",
      " 35%|███▌      | 3507200/9912422 [00:03<00:05, 1164051.34it/s]\n",
      " 48%|████▊     | 4752384/9912422 [00:02<00:01, 3286165.21it/s]\n",
      " 28%|██▊       | 2789376/9912422 [00:03<00:06, 1026691.29it/s]\n",
      " 44%|████▍     | 4377600/9912422 [00:03<00:03, 1600294.36it/s]\n",
      " 23%|██▎       | 2289664/9912422 [00:02<00:06, 1111928.61it/s]\n"
     ]
    },
    {
     "name": "stdout",
     "output_type": "stream",
     "text": [
      "\u001b[2m\u001b[36m(pid=16587)\u001b[0m Failed to download (trying next):\n",
      "\u001b[2m\u001b[36m(pid=16587)\u001b[0m HTTP Error 503: Service Unavailable\n",
      "\u001b[2m\u001b[36m(pid=16587)\u001b[0m \n",
      "\u001b[2m\u001b[36m(pid=16587)\u001b[0m Downloading https://ossci-datasets.s3.amazonaws.com/mnist/t10k-images-idx3-ubyte.gz\n"
     ]
    },
    {
     "name": "stderr",
     "output_type": "stream",
     "text": [
      " 33%|███▎      | 549888/1648877 [00:15<00:31, 34346.74it/s]\n",
      " 30%|██▉       | 2924544/9912422 [00:03<00:06, 1073317.81it/s]\n",
      " 38%|███▊      | 3733504/9912422 [00:03<00:04, 1286483.54it/s]\n",
      " 46%|████▌     | 4578304/9912422 [00:03<00:03, 1697586.08it/s]\n",
      " 52%|█████▏    | 5187584/9912422 [00:02<00:01, 3445083.02it/s]\n",
      " 24%|██▍       | 2412544/9912422 [00:02<00:06, 1103474.94it/s]\n",
      " 39%|███▉      | 3890176/9912422 [00:03<00:04, 1322081.84it/s]\n",
      " 48%|████▊     | 4769792/9912422 [00:03<00:02, 1742061.86it/s]\n",
      " 57%|█████▋    | 5675008/9912422 [00:02<00:01, 3759234.33it/s]\n",
      " 31%|███       | 3063808/9912422 [00:03<00:06, 1122336.01it/s]\n",
      " 26%|██▌       | 2541568/9912422 [00:02<00:06, 1153375.77it/s]\n",
      " 41%|████      | 4064256/9912422 [00:04<00:04, 1382031.09it/s]\n",
      " 63%|██████▎   | 6197248/9912422 [00:02<00:00, 4079478.86it/s]\n",
      " 34%|███▍      | 558080/1648877 [00:15<00:32, 33682.70it/s]\n",
      " 32%|███▏      | 3185664/9912422 [00:04<00:05, 1121652.11it/s]\n",
      " 50%|█████     | 4978688/9912422 [00:04<00:02, 1761536.83it/s]\n",
      " 27%|██▋       | 2663424/9912422 [00:02<00:06, 1168567.49it/s]\n",
      " 67%|██████▋   | 6632448/9912422 [00:02<00:00, 4106135.26it/s]\n",
      " 43%|████▎     | 4220928/9912422 [00:04<00:03, 1423234.99it/s]\n",
      " 52%|█████▏    | 5187584/9912422 [00:04<00:02, 1639099.00it/s]\n",
      " 34%|███▎      | 3342336/9912422 [00:04<00:06, 1073029.97it/s]\n",
      " 29%|██▊       | 2829312/9912422 [00:03<00:06, 1122587.99it/s]\n",
      " 71%|███████   | 7060480/9912422 [00:02<00:00, 3902936.69it/s]\n"
     ]
    },
    {
     "name": "stdout",
     "output_type": "stream",
     "text": [
      "\u001b[2m\u001b[36m(pid=16582)\u001b[0m \n",
      "\u001b[2m\u001b[36m(pid=16582)\u001b[0m Downloading http://yann.lecun.com/exdb/mnist/train-labels-idx1-ubyte.gz\n",
      "\u001b[2m\u001b[36m(pid=16582)\u001b[0m Failed to download (trying next):\n",
      "\u001b[2m\u001b[36m(pid=16582)\u001b[0m HTTP Error 503: Service Unavailable\n",
      "\u001b[2m\u001b[36m(pid=16582)\u001b[0m \n",
      "\u001b[2m\u001b[36m(pid=16582)\u001b[0m Downloading https://ossci-datasets.s3.amazonaws.com/mnist/train-labels-idx1-ubyte.gz\n",
      "\u001b[2m\u001b[36m(pid=16587)\u001b[0m Downloading https://ossci-datasets.s3.amazonaws.com/mnist/t10k-images-idx3-ubyte.gz to {cwd}/data/MNIST/raw/t10k-images-idx3-ubyte.gz\n"
     ]
    },
    {
     "name": "stderr",
     "output_type": "stream",
     "text": [
      " 44%|████▍     | 4367360/9912422 [00:04<00:04, 1215796.92it/s]\n",
      " 34%|███▍      | 566272/1648877 [00:16<00:32, 32995.81it/s]\n",
      " 54%|█████▍    | 5356544/9912422 [00:04<00:02, 1575827.77it/s]\n",
      " 35%|███▍      | 3451904/9912422 [00:04<00:06, 1034408.77it/s]\n",
      " 30%|██▉       | 2946048/9912422 [00:03<00:06, 1088072.80it/s]\n",
      " 75%|███████▌  | 7468032/9912422 [00:02<00:00, 3942158.14it/s]\n",
      " 45%|████▌     | 4499456/9912422 [00:04<00:04, 1215384.05it/s]\n",
      " 36%|███▌      | 3557376/9912422 [00:04<00:06, 984265.38it/s] \n",
      " 56%|█████▌    | 5518336/9912422 [00:04<00:02, 1526997.02it/s]\n",
      " 31%|███       | 3057664/9912422 [00:03<00:06, 1016799.60it/s]\n",
      " 79%|███████▉  | 7872512/9912422 [00:03<00:00, 3968082.97it/s]\n",
      " 47%|████▋     | 4627456/9912422 [00:04<00:04, 1207483.12it/s]\n",
      " 57%|█████▋    | 5675008/9912422 [00:04<00:02, 1473334.89it/s]\n",
      " 84%|████████▍ | 8338432/9912422 [00:03<00:00, 4134760.15it/s]\n",
      " 35%|███▍      | 574464/1648877 [00:16<00:32, 32763.97it/s]\n",
      " 37%|███▋      | 3657728/9912422 [00:04<00:06, 951596.56it/s]\n",
      " 32%|███▏      | 3163136/9912422 [00:03<00:06, 1016662.61it/s]\n",
      " 48%|████▊     | 4752384/9912422 [00:04<00:04, 1196711.39it/s]\n",
      " 90%|████████▉ | 8895488/9912422 [00:03<00:00, 4478412.32it/s]\n",
      " 59%|█████▉    | 5883904/9912422 [00:04<00:02, 1607362.25it/s]\n",
      " 38%|███▊      | 3794944/9912422 [00:04<00:06, 962526.69it/s]\n",
      " 33%|███▎      | 3299328/9912422 [00:03<00:06, 979424.33it/s] \n",
      " 49%|████▉     | 4882432/9912422 [00:04<00:04, 1194113.71it/s]\n",
      " 35%|███▌      | 582656/1648877 [00:16<00:32, 33212.86it/s]\n",
      " 94%|█████████▍| 9356288/9912422 [00:03<00:00, 3958303.48it/s]\n",
      " 39%|███▉      | 3893248/9912422 [00:04<00:08, 729849.62it/s]\n",
      " 61%|██████    | 6050816/9912422 [00:04<00:03, 1134288.34it/s]\n",
      " 34%|███▍      | 3399680/9912422 [00:03<00:08, 767884.13it/s]\n",
      "  0%|          | 0/1648877 [00:00<?, ?it/s]\n",
      " 50%|█████     | 5004288/9912422 [00:04<00:05, 933683.97it/s] \n",
      "9913344it [00:03, 2791240.20it/s]                             \n"
     ]
    },
    {
     "name": "stdout",
     "output_type": "stream",
     "text": [
      "\u001b[2m\u001b[36m(pid=16582)\u001b[0m Downloading https://ossci-datasets.s3.amazonaws.com/mnist/train-labels-idx1-ubyte.gz to {cwd}/data/MNIST/raw/train-labels-idx1-ubyte.gz\n",
      "\u001b[2m\u001b[36m(pid=16597)\u001b[0m Extracting {cwd}/data/MNIST/raw/train-images-idx3-ubyte.gz to {cwd}/data/MNIST/raw\n"
     ]
    },
    {
     "name": "stderr",
     "output_type": "stream",
     "text": [
      " 40%|████      | 3986432/9912422 [00:04<00:07, 775541.07it/s]\n",
      " 63%|██████▎   | 6197248/9912422 [00:05<00:03, 1184336.99it/s]\n",
      " 35%|███▌      | 3490816/9912422 [00:03<00:08, 798478.27it/s]\n",
      " 36%|███▌      | 590848/1648877 [00:16<00:32, 32973.69it/s]\n",
      " 52%|█████▏    | 5160960/9912422 [00:05<00:04, 1017150.35it/s]\n",
      "  2%|▏         | 33792/1648877 [00:00<00:07, 212291.25it/s]\n",
      " 42%|████▏     | 4195328/9912422 [00:05<00:06, 944816.79it/s]\n",
      " 37%|███▋      | 3717120/9912422 [00:03<00:06, 986917.50it/s]\n",
      " 55%|█████▍    | 5422080/9912422 [00:05<00:03, 1147850.88it/s]\n",
      " 44%|████▎     | 4334592/9912422 [00:05<00:05, 996484.27it/s]\n",
      " 39%|███▉      | 3844096/9912422 [00:04<00:05, 1036829.42it/s]\n",
      " 36%|███▋      | 599040/1648877 [00:17<00:31, 33726.19it/s]\n",
      " 13%|█▎        | 207872/1648877 [00:00<00:05, 279909.00it/s]\n",
      " 57%|█████▋    | 5666816/9912422 [00:05<00:03, 1365329.63it/s]\n",
      "  0%|          | 0/28881 [00:00<?, ?it/s]\n",
      " 40%|████      | 4013056/9912422 [00:04<00:05, 1147074.34it/s]\n",
      " 22%|██▏       | 364544/1648877 [00:00<00:03, 369565.11it/s]\n",
      " 45%|████▌     | 4491264/9912422 [00:05<00:05, 1044037.91it/s]\n",
      " 59%|█████▉    | 5829632/9912422 [00:05<00:02, 1387778.19it/s]\n"
     ]
    },
    {
     "name": "stdout",
     "output_type": "stream",
     "text": [
      "\u001b[2m\u001b[36m(pid=16597)\u001b[0m \n",
      "\u001b[2m\u001b[36m(pid=16597)\u001b[0m Downloading http://yann.lecun.com/exdb/mnist/train-labels-idx1-ubyte.gz\n",
      "\u001b[2m\u001b[36m(pid=16582)\u001b[0m Extracting {cwd}/data/MNIST/raw/train-labels-idx1-ubyte.gz to {cwd}/data/MNIST/raw\n",
      "\u001b[2m\u001b[36m(pid=16582)\u001b[0m \n",
      "\u001b[2m\u001b[36m(pid=16582)\u001b[0m Downloading http://yann.lecun.com/exdb/mnist/t10k-images-idx3-ubyte.gz\n"
     ]
    },
    {
     "name": "stderr",
     "output_type": "stream",
     "text": [
      "29696it [00:00, 227915.18it/s]                         \n",
      " 47%|████▋     | 4647936/9912422 [00:05<00:04, 1147873.63it/s]\n",
      " 65%|██████▍   | 6423552/9912422 [00:05<00:04, 856905.61it/s] \n",
      " 42%|████▏     | 4146176/9912422 [00:04<00:04, 1165293.90it/s]\n",
      " 37%|███▋      | 607232/1648877 [00:17<00:31, 33124.56it/s]\n",
      " 42%|████▏     | 695296/1648877 [00:00<00:01, 491783.47it/s]\n",
      " 44%|████▎     | 4326400/9912422 [00:04<00:04, 1262625.70it/s]\n",
      " 61%|██████    | 6013952/9912422 [00:05<00:02, 1347999.24it/s]\n",
      " 48%|████▊     | 4787200/9912422 [00:05<00:04, 1193960.65it/s]\n",
      " 68%|██████▊   | 6771712/9912422 [00:05<00:02, 1071199.51it/s]\n",
      " 56%|█████▌    | 921600/1648877 [00:00<00:01, 642391.35it/s]\n"
     ]
    },
    {
     "name": "stdout",
     "output_type": "stream",
     "text": [
      "\u001b[2m\u001b[36m(pid=16582)\u001b[0m Failed to download (trying next):\n",
      "\u001b[2m\u001b[36m(pid=16582)\u001b[0m HTTP Error 503: Service Unavailable\n",
      "\u001b[2m\u001b[36m(pid=16582)\u001b[0m \n",
      "\u001b[2m\u001b[36m(pid=16582)\u001b[0m Downloading https://ossci-datasets.s3.amazonaws.com/mnist/t10k-images-idx3-ubyte.gz\n",
      "\u001b[2m\u001b[36m(pid=16597)\u001b[0m Failed to download (trying next):\n",
      "\u001b[2m\u001b[36m(pid=16597)\u001b[0m HTTP Error 503: Service Unavailable\n",
      "\u001b[2m\u001b[36m(pid=16597)\u001b[0m \n",
      "\u001b[2m\u001b[36m(pid=16597)\u001b[0m Downloading https://ossci-datasets.s3.amazonaws.com/mnist/train-labels-idx1-ubyte.gz\n"
     ]
    },
    {
     "name": "stderr",
     "output_type": "stream",
     "text": [
      " 63%|██████▎   | 6257664/9912422 [00:05<00:02, 1552798.46it/s]\n",
      " 72%|███████▏  | 7152640/9912422 [00:05<00:02, 1365689.93it/s]\n",
      " 65%|██████▌   | 1078272/1648877 [00:00<00:00, 776799.83it/s]\n",
      " 50%|█████     | 4961280/9912422 [00:05<00:04, 1207029.90it/s]\n",
      " 45%|████▌     | 4500480/9912422 [00:04<00:04, 1176357.46it/s]\n",
      " 37%|███▋      | 615424/1648877 [00:17<00:31, 32520.97it/s]\n",
      " 65%|██████▍   | 6433792/9912422 [00:05<00:02, 1548452.21it/s]\n",
      " 74%|███████▍  | 7375872/9912422 [00:05<00:01, 1515805.08it/s]\n",
      " 84%|████████▍ | 1382400/1648877 [00:00<00:00, 1000186.54it/s]\n",
      " 51%|█████▏    | 5088256/9912422 [00:05<00:04, 1188784.20it/s]\n",
      " 48%|████▊     | 4709376/9912422 [00:04<00:03, 1303203.42it/s]\n",
      " 67%|██████▋   | 6603776/9912422 [00:05<00:02, 1580818.55it/s]\n",
      " 77%|███████▋  | 7624704/9912422 [00:05<00:01, 1570114.21it/s]\n",
      " 68%|██████▊   | 6772736/9912422 [00:05<00:02, 1510608.81it/s]\n",
      " 38%|███▊      | 623616/1648877 [00:18<00:32, 31438.53it/s]\n",
      " 53%|█████▎    | 5222400/9912422 [00:06<00:05, 876090.45it/s] \n",
      " 71%|███████   | 7023616/9912422 [00:06<00:01, 1702635.97it/s]\n"
     ]
    },
    {
     "name": "stdout",
     "output_type": "stream",
     "text": [
      "\u001b[2m\u001b[36m(pid=16582)\u001b[0m Downloading https://ossci-datasets.s3.amazonaws.com/mnist/t10k-images-idx3-ubyte.gz to {cwd}/data/MNIST/raw/t10k-images-idx3-ubyte.gz\n",
      "\u001b[2m\u001b[36m(pid=16597)\u001b[0m Downloading https://ossci-datasets.s3.amazonaws.com/mnist/train-labels-idx1-ubyte.gz to {cwd}/data/MNIST/raw/train-labels-idx1-ubyte.gz\n"
     ]
    },
    {
     "name": "stderr",
     "output_type": "stream",
     "text": [
      " 79%|███████▉  | 7828480/9912422 [00:06<00:01, 1313626.65it/s]\n",
      " 49%|████▉     | 4850688/9912422 [00:04<00:05, 866680.79it/s] \n",
      " 54%|█████▍    | 5344256/9912422 [00:06<00:05, 904861.00it/s]\n",
      " 73%|███████▎  | 7207936/9912422 [00:06<00:01, 1693775.21it/s]\n",
      "  0%|          | 0/1648877 [00:00<?, ?it/s]\n",
      " 81%|████████  | 8007680/9912422 [00:06<00:01, 1329882.50it/s]\n",
      " 51%|█████     | 5022720/9912422 [00:05<00:04, 994985.57it/s]\n",
      "  0%|          | 0/28881 [00:00<?, ?it/s]\n",
      " 38%|███▊      | 631808/1648877 [00:18<00:32, 31544.09it/s]\n",
      " 75%|███████▍  | 7389184/9912422 [00:06<00:01, 1611216.16it/s]\n",
      "29696it [00:00, 431170.86it/s]           \n"
     ]
    },
    {
     "name": "stdout",
     "output_type": "stream",
     "text": [
      "\u001b[2m\u001b[36m(pid=16597)\u001b[0m Extracting {cwd}/data/MNIST/raw/train-labels-idx1-ubyte.gz to {cwd}/data/MNIST/raw\n",
      "\u001b[2m\u001b[36m(pid=16597)\u001b[0m \n",
      "\u001b[2m\u001b[36m(pid=16597)\u001b[0m Downloading http://yann.lecun.com/exdb/mnist/t10k-images-idx3-ubyte.gz\n",
      "\u001b[2m\u001b[36m(pid=16597)\u001b[0m Failed to download (trying next):\n",
      "\u001b[2m\u001b[36m(pid=16597)\u001b[0m HTTP Error 503: Service Unavailable\n",
      "\u001b[2m\u001b[36m(pid=16597)\u001b[0m \n",
      "\u001b[2m\u001b[36m(pid=16597)\u001b[0m Downloading https://ossci-datasets.s3.amazonaws.com/mnist/t10k-images-idx3-ubyte.gz\n"
     ]
    },
    {
     "name": "stderr",
     "output_type": "stream",
     "text": [
      "  2%|▏         | 33792/1648877 [00:00<00:07, 218780.89it/s]\n",
      " 55%|█████▌    | 5500928/9912422 [00:06<00:04, 900844.55it/s]\n",
      " 83%|████████▎ | 8199168/9912422 [00:06<00:01, 1319526.26it/s]\n",
      " 52%|█████▏    | 5147648/9912422 [00:05<00:05, 802930.09it/s]\n",
      " 57%|█████▋    | 5657600/9912422 [00:06<00:04, 953008.63it/s]\n",
      " 77%|███████▋  | 7649280/9912422 [00:06<00:01, 1651797.79it/s]\n",
      " 86%|████████▌ | 8495104/9912422 [00:06<00:00, 1573501.38it/s]\n",
      " 39%|███▉      | 640000/1648877 [00:18<00:30, 32993.78it/s]\n",
      " 10%|█         | 173056/1648877 [00:00<00:05, 281820.33it/s]\n",
      " 79%|███████▉  | 7824384/9912422 [00:06<00:01, 1652434.79it/s]\n",
      " 17%|█▋        | 277504/1648877 [00:00<00:03, 359287.02it/s]\n",
      " 53%|█████▎    | 5283840/9912422 [00:05<00:05, 867029.55it/s]\n",
      " 23%|██▎       | 381952/1648877 [00:00<00:02, 446639.64it/s]\n",
      " 58%|█████▊    | 5758976/9912422 [00:06<00:05, 711618.84it/s]\n",
      " 88%|████████▊ | 8687616/9912422 [00:06<00:00, 1255292.38it/s]\n",
      " 54%|█████▍    | 5389312/9912422 [00:05<00:05, 818340.99it/s]\n",
      " 39%|███▉      | 648192/1648877 [00:18<00:30, 32622.43it/s]\n",
      " 96%|█████████▌| 1577984/1648877 [00:01<00:00, 440872.83it/s] \n",
      " 59%|█████▉    | 5843968/9912422 [00:06<00:05, 733658.92it/s]\n",
      " 90%|████████▉ | 8878080/9912422 [00:06<00:00, 1383564.54it/s]\n",
      " 55%|█████▌    | 5492736/9912422 [00:05<00:05, 854026.22it/s]\n",
      " 27%|██▋       | 449536/1648877 [00:00<00:02, 428168.87it/s]\n",
      "1649664it [00:02, 818433.31it/s]                             \n",
      " 60%|██████    | 5953536/9912422 [00:06<00:04, 793407.48it/s]\n",
      " 91%|█████████ | 9044992/9912422 [00:06<00:00, 1425801.28it/s]\n",
      " 57%|█████▋    | 5621760/9912422 [00:05<00:04, 950388.27it/s]\n",
      " 58%|█████▊    | 5727232/9912422 [00:05<00:04, 975830.62it/s]\n"
     ]
    },
    {
     "name": "stdout",
     "output_type": "stream",
     "text": [
      "\u001b[2m\u001b[36m(pid=16587)\u001b[0m Extracting {cwd}/data/MNIST/raw/t10k-images-idx3-ubyte.gz to {cwd}/data/MNIST/raw\n",
      "\u001b[2m\u001b[36m(pid=16597)\u001b[0m Downloading https://ossci-datasets.s3.amazonaws.com/mnist/t10k-images-idx3-ubyte.gz to {cwd}/data/MNIST/raw/t10k-images-idx3-ubyte.gz\n",
      "\u001b[2m\u001b[36m(pid=16587)\u001b[0m \n",
      "\u001b[2m\u001b[36m(pid=16587)\u001b[0m Downloading http://yann.lecun.com/exdb/mnist/t10k-labels-idx1-ubyte.gz\n"
     ]
    },
    {
     "name": "stderr",
     "output_type": "stream",
     "text": [
      " 40%|███▉      | 656384/1648877 [00:19<00:30, 32433.14it/s]\n",
      " 31%|███       | 508928/1648877 [00:00<00:02, 419971.55it/s]\n",
      " 61%|██████    | 6041600/9912422 [00:07<00:04, 814705.92it/s]\n",
      " 82%|████████▏ | 8085504/9912422 [00:07<00:01, 1023880.02it/s]\n",
      " 93%|█████████▎| 9207808/9912422 [00:07<00:00, 1179252.01it/s]\n",
      " 59%|█████▉    | 5832704/9912422 [00:06<00:04, 992633.37it/s]\n",
      " 37%|███▋      | 608256/1648877 [00:00<00:02, 483926.05it/s]\n"
     ]
    },
    {
     "name": "stdout",
     "output_type": "stream",
     "text": [
      "\u001b[2m\u001b[36m(pid=16587)\u001b[0m Failed to download (trying next):\n",
      "\u001b[2m\u001b[36m(pid=16587)\u001b[0m HTTP Error 503: Service Unavailable\n",
      "\u001b[2m\u001b[36m(pid=16587)\u001b[0m \n",
      "\u001b[2m\u001b[36m(pid=16587)\u001b[0m Downloading https://ossci-datasets.s3.amazonaws.com/mnist/t10k-labels-idx1-ubyte.gz\n"
     ]
    },
    {
     "name": "stderr",
     "output_type": "stream",
     "text": [
      " 40%|████      | 664576/1648877 [00:19<00:30, 32297.88it/s]\n",
      " 62%|██████▏   | 6129664/9912422 [00:07<00:06, 604410.24it/s]\n",
      " 94%|█████████▍| 9347072/9912422 [00:07<00:00, 996608.68it/s] \n",
      " 60%|█████▉    | 5937152/9912422 [00:06<00:04, 802800.15it/s]\n",
      " 46%|████▋     | 764928/1648877 [00:01<00:01, 576119.59it/s]\n",
      "  0%|          | 0/1648877 [00:00<?, ?it/s]\n",
      " 57%|█████▋    | 939008/1648877 [00:01<00:01, 690429.80it/s]\n",
      " 63%|██████▎   | 6232064/9912422 [00:07<00:06, 585180.84it/s]\n",
      " 96%|█████████▌| 9466880/9912422 [00:07<00:00, 855400.77it/s]\n",
      " 61%|██████    | 6049792/9912422 [00:06<00:05, 734709.12it/s]\n",
      "  1%|          | 18432/1648877 [00:00<00:15, 107263.34it/s]\n",
      " 41%|████      | 672768/1648877 [00:19<00:30, 32113.95it/s]\n",
      " 69%|██████▊   | 1130496/1648877 [00:01<00:00, 811078.30it/s]\n",
      " 62%|██████▏   | 6136832/9912422 [00:06<00:05, 735771.94it/s]\n",
      " 64%|██████▍   | 6371328/9912422 [00:07<00:05, 612079.77it/s]\n",
      " 83%|████████▎ | 8220672/9912422 [00:07<00:03, 478109.61it/s] \n",
      " 97%|█████████▋| 9570304/9912422 [00:07<00:00, 786067.13it/s]\n"
     ]
    },
    {
     "name": "stdout",
     "output_type": "stream",
     "text": [
      "\u001b[2m\u001b[36m(pid=16587)\u001b[0m Downloading https://ossci-datasets.s3.amazonaws.com/mnist/t10k-labels-idx1-ubyte.gz to {cwd}/data/MNIST/raw/t10k-labels-idx1-ubyte.gz\n"
     ]
    },
    {
     "name": "stderr",
     "output_type": "stream",
     "text": [
      " 78%|███████▊  | 1287168/1648877 [00:01<00:00, 872972.51it/s]\n",
      " 63%|██████▎   | 6216704/9912422 [00:06<00:05, 707439.33it/s]\n",
      " 41%|████▏     | 680960/1648877 [00:19<00:30, 32104.95it/s]\n",
      " 65%|██████▌   | 6458368/9912422 [00:07<00:05, 636950.83it/s]\n",
      " 97%|█████████▋| 9662464/9912422 [00:07<00:00, 767261.99it/s]\n",
      " 84%|████████▍ | 1392640/1648877 [00:01<00:00, 781258.19it/s]\n",
      " 66%|██████▌   | 6562816/9912422 [00:07<00:04, 683121.78it/s]\n",
      " 98%|█████████▊| 9749504/9912422 [00:07<00:00, 745562.56it/s]\n",
      " 64%|██████▍   | 6345728/9912422 [00:06<00:04, 722882.04it/s]\n",
      "  3%|▎         | 53248/1648877 [00:00<00:16, 97299.56it/s] \n",
      " 67%|██████▋   | 6649856/9912422 [00:08<00:04, 669553.05it/s]\n",
      "9913344it [00:08, 1225045.98it/s]                            \n",
      " 65%|██████▌   | 6467584/9912422 [00:06<00:04, 766040.72it/s]\n",
      " 90%|█████████ | 1484800/1648877 [00:01<00:00, 749498.21it/s]\n",
      " 42%|████▏     | 689152/1648877 [00:20<00:29, 32046.91it/s]\n"
     ]
    },
    {
     "name": "stdout",
     "output_type": "stream",
     "text": [
      "\u001b[2m\u001b[36m(pid=16590)\u001b[0m Extracting {cwd}/data/MNIST/raw/train-images-idx3-ubyte.gz to {cwd}/data/MNIST/raw\n",
      "\u001b[2m\u001b[36m(pid=16582)\u001b[0m Extracting {cwd}/data/MNIST/raw/t10k-images-idx3-ubyte.gz to {cwd}/data/MNIST/raw\n"
     ]
    },
    {
     "name": "stderr",
     "output_type": "stream",
     "text": [
      " 95%|█████████▌| 1569792/1648877 [00:01<00:00, 706975.98it/s]\n",
      " 68%|██████▊   | 6754304/9912422 [00:08<00:04, 696524.13it/s]\n",
      " 66%|██████▋   | 6589440/9912422 [00:07<00:04, 794047.88it/s]\n",
      "  4%|▍         | 70656/1648877 [00:00<00:17, 87773.93it/s]\n",
      "1649664it [00:02, 811980.35it/s]                             \n",
      "  0%|          | 0/4542 [00:00<?, ?it/s]\n",
      " 42%|████▏     | 697344/1648877 [00:20<00:29, 31993.85it/s]\n",
      "5120it [00:00, 124592.92it/s]           \n",
      "\u001b[2m\u001b[36m(pid=16587)\u001b[0m /home/therealchainman/miniconda3/lib/python3.8/site-packages/torchvision/datasets/mnist.py:498: UserWarning: The given NumPy array is not writeable, and PyTorch does not support non-writeable tensors. This means you can write to the underlying (supposedly non-writeable) NumPy array using the tensor. You may want to copy the array to protect its data or make it writeable before converting it to a tensor. This type of warning will be suppressed for the rest of this program. (Triggered internally at  /pytorch/torch/csrc/utils/tensor_numpy.cpp:180.)\n",
      "\u001b[2m\u001b[36m(pid=16587)\u001b[0m   return torch.from_numpy(parsed.astype(m[2], copy=False)).view(*s)\n",
      " 70%|██████▉   | 6910976/9912422 [00:08<00:03, 801410.61it/s]\n",
      " 84%|████████▍ | 8322048/9912422 [00:08<00:05, 296745.76it/s]\n",
      " 68%|██████▊   | 6763520/9912422 [00:07<00:03, 900475.00it/s]\n",
      "  6%|▋         | 105472/1648877 [00:00<00:14, 109822.80it/s]\n",
      "\u001b[2m\u001b[36m(pid=16587)\u001b[0m /home/therealchainman/miniconda3/lib/python3.8/site-packages/torch/nn/functional.py:718: UserWarning: Named tensors and all their associated APIs are an experimental feature and subject to change. Please do not use them for anything important until they are released as stable. (Triggered internally at  /pytorch/c10/core/TensorImpl.h:1156.)\n",
      "\u001b[2m\u001b[36m(pid=16587)\u001b[0m   return torch.max_pool2d(input, kernel_size, stride, padding, dilation, ceil_mode)\n"
     ]
    },
    {
     "name": "stdout",
     "output_type": "stream",
     "text": [
      "\u001b[2m\u001b[36m(pid=16582)\u001b[0m \n",
      "\u001b[2m\u001b[36m(pid=16582)\u001b[0m Downloading http://yann.lecun.com/exdb/mnist/t10k-labels-idx1-ubyte.gz\n",
      "\u001b[2m\u001b[36m(pid=16587)\u001b[0m Extracting {cwd}/data/MNIST/raw/t10k-labels-idx1-ubyte.gz to {cwd}/data/MNIST/raw\n",
      "\u001b[2m\u001b[36m(pid=16587)\u001b[0m \n",
      "\u001b[2m\u001b[36m(pid=16582)\u001b[0m Failed to download (trying next):\n",
      "\u001b[2m\u001b[36m(pid=16582)\u001b[0m HTTP Error 503: Service Unavailable\n",
      "\u001b[2m\u001b[36m(pid=16582)\u001b[0m \n",
      "\u001b[2m\u001b[36m(pid=16582)\u001b[0m Downloading https://ossci-datasets.s3.amazonaws.com/mnist/t10k-labels-idx1-ubyte.gz\n",
      "\u001b[2m\u001b[36m(pid=16590)\u001b[0m \n",
      "\u001b[2m\u001b[36m(pid=16590)\u001b[0m Downloading http://yann.lecun.com/exdb/mnist/train-labels-idx1-ubyte.gz\n",
      "\u001b[2m\u001b[36m(pid=16590)\u001b[0m Failed to download (trying next):\n",
      "\u001b[2m\u001b[36m(pid=16590)\u001b[0m HTTP Error 503: Service Unavailable\n",
      "\u001b[2m\u001b[36m(pid=16590)\u001b[0m \n",
      "\u001b[2m\u001b[36m(pid=16590)\u001b[0m Downloading https://ossci-datasets.s3.amazonaws.com/mnist/train-labels-idx1-ubyte.gz\n",
      "Result for train_mnist_af561_00011:\n",
      "  date: 2021-06-22_16-42-41\n",
      "  done: false\n",
      "  experiment_id: d5aea06b3a92425ba3e1e39889317bee\n",
      "  hostname: therealchainman\n",
      "  iterations_since_restore: 1\n",
      "  mean_accuracy: 0.453125\n",
      "  node_ip: 192.168.1.106\n",
      "  pid: 16587\n",
      "  time_since_restore: 9.84758734703064\n",
      "  time_this_iter_s: 9.84758734703064\n",
      "  time_total_s: 9.84758734703064\n",
      "  timestamp: 1624398161\n",
      "  timesteps_since_restore: 0\n",
      "  training_iteration: 1\n",
      "  trial_id: af561_00011\n",
      "  \n"
     ]
    },
    {
     "name": "stderr",
     "output_type": "stream",
     "text": [
      " 85%|████████▍ | 8416256/9912422 [00:08<00:04, 365209.53it/s]\n",
      " 71%|███████   | 6999040/9912422 [00:08<00:04, 710895.14it/s]\n",
      " 69%|██████▉   | 6866944/9912422 [00:07<00:03, 823952.53it/s]\n",
      " 72%|███████▏  | 7102464/9912422 [00:08<00:03, 728954.32it/s]\n",
      " 87%|████████▋ | 8625152/9912422 [00:08<00:02, 473549.00it/s]\n",
      " 70%|███████   | 6956032/9912422 [00:07<00:03, 836242.04it/s]\n"
     ]
    },
    {
     "data": {
      "text/html": [
       "== Status ==<br>Memory usage on this node: 5.2/15.5 GiB<br>Using FIFO scheduling algorithm.<br>Resources requested: 8.0/8 CPUs, 0/0 GPUs, 0.0/8.04 GiB heap, 0.0/4.02 GiB objects<br>Result logdir: /home/therealchainman/ray_results/train_mnist_2021-06-22_16-42-04<br>Number of trials: 20/20 (5 PENDING, 8 RUNNING, 7 TERMINATED)<br><table>\n",
       "<thead>\n",
       "<tr><th>Trial name             </th><th>status    </th><th>loc                </th><th style=\"text-align: right;\">         lr</th><th style=\"text-align: right;\">  momentum</th><th style=\"text-align: right;\">     acc</th><th style=\"text-align: right;\">  iter</th><th style=\"text-align: right;\">  total time (s)</th></tr>\n",
       "</thead>\n",
       "<tbody>\n",
       "<tr><td>train_mnist_af561_00006</td><td>RUNNING   </td><td>                   </td><td style=\"text-align: right;\">2.12237e-09</td><td style=\"text-align: right;\">  0.881509</td><td style=\"text-align: right;\">        </td><td style=\"text-align: right;\">      </td><td style=\"text-align: right;\">                </td></tr>\n",
       "<tr><td>train_mnist_af561_00008</td><td>RUNNING   </td><td>                   </td><td style=\"text-align: right;\">8.61318e-08</td><td style=\"text-align: right;\">  0.189483</td><td style=\"text-align: right;\">        </td><td style=\"text-align: right;\">      </td><td style=\"text-align: right;\">                </td></tr>\n",
       "<tr><td>train_mnist_af561_00009</td><td>RUNNING   </td><td>                   </td><td style=\"text-align: right;\">0.00177473 </td><td style=\"text-align: right;\">  0.293255</td><td style=\"text-align: right;\">        </td><td style=\"text-align: right;\">      </td><td style=\"text-align: right;\">                </td></tr>\n",
       "<tr><td>train_mnist_af561_00010</td><td>RUNNING   </td><td>                   </td><td style=\"text-align: right;\">0.00564488 </td><td style=\"text-align: right;\">  0.869707</td><td style=\"text-align: right;\">        </td><td style=\"text-align: right;\">      </td><td style=\"text-align: right;\">                </td></tr>\n",
       "<tr><td>train_mnist_af561_00011</td><td>RUNNING   </td><td>192.168.1.106:16587</td><td style=\"text-align: right;\">0.158022   </td><td style=\"text-align: right;\">  0.285643</td><td style=\"text-align: right;\">0.453125</td><td style=\"text-align: right;\">     1</td><td style=\"text-align: right;\">         9.84759</td></tr>\n",
       "<tr><td>train_mnist_af561_00012</td><td>RUNNING   </td><td>                   </td><td style=\"text-align: right;\">4.68526e-05</td><td style=\"text-align: right;\">  0.233772</td><td style=\"text-align: right;\">        </td><td style=\"text-align: right;\">      </td><td style=\"text-align: right;\">                </td></tr>\n",
       "<tr><td>train_mnist_af561_00013</td><td>RUNNING   </td><td>                   </td><td style=\"text-align: right;\">1.47123e-08</td><td style=\"text-align: right;\">  0.773651</td><td style=\"text-align: right;\">        </td><td style=\"text-align: right;\">      </td><td style=\"text-align: right;\">                </td></tr>\n",
       "<tr><td>train_mnist_af561_00014</td><td>RUNNING   </td><td>                   </td><td style=\"text-align: right;\">1.25491e-10</td><td style=\"text-align: right;\">  0.838552</td><td style=\"text-align: right;\">        </td><td style=\"text-align: right;\">      </td><td style=\"text-align: right;\">                </td></tr>\n",
       "<tr><td>train_mnist_af561_00015</td><td>PENDING   </td><td>                   </td><td style=\"text-align: right;\">3.72716e-09</td><td style=\"text-align: right;\">  0.462565</td><td style=\"text-align: right;\">        </td><td style=\"text-align: right;\">      </td><td style=\"text-align: right;\">                </td></tr>\n",
       "<tr><td>train_mnist_af561_00016</td><td>PENDING   </td><td>                   </td><td style=\"text-align: right;\">3.09241e-07</td><td style=\"text-align: right;\">  0.21736 </td><td style=\"text-align: right;\">        </td><td style=\"text-align: right;\">      </td><td style=\"text-align: right;\">                </td></tr>\n",
       "<tr><td>train_mnist_af561_00017</td><td>PENDING   </td><td>                   </td><td style=\"text-align: right;\">1.51156e-06</td><td style=\"text-align: right;\">  0.266795</td><td style=\"text-align: right;\">        </td><td style=\"text-align: right;\">      </td><td style=\"text-align: right;\">                </td></tr>\n",
       "<tr><td>train_mnist_af561_00018</td><td>PENDING   </td><td>                   </td><td style=\"text-align: right;\">2.21039e-06</td><td style=\"text-align: right;\">  0.66885 </td><td style=\"text-align: right;\">        </td><td style=\"text-align: right;\">      </td><td style=\"text-align: right;\">                </td></tr>\n",
       "<tr><td>train_mnist_af561_00019</td><td>PENDING   </td><td>                   </td><td style=\"text-align: right;\">6.47251e-05</td><td style=\"text-align: right;\">  0.821736</td><td style=\"text-align: right;\">        </td><td style=\"text-align: right;\">      </td><td style=\"text-align: right;\">                </td></tr>\n",
       "<tr><td>train_mnist_af561_00000</td><td>TERMINATED</td><td>                   </td><td style=\"text-align: right;\">6.41811e-07</td><td style=\"text-align: right;\">  0.189627</td><td style=\"text-align: right;\">0.11875 </td><td style=\"text-align: right;\">    10</td><td style=\"text-align: right;\">        21.3846 </td></tr>\n",
       "<tr><td>train_mnist_af561_00001</td><td>TERMINATED</td><td>                   </td><td style=\"text-align: right;\">2.92354e-09</td><td style=\"text-align: right;\">  0.501897</td><td style=\"text-align: right;\">0.1     </td><td style=\"text-align: right;\">    10</td><td style=\"text-align: right;\">        21.1354 </td></tr>\n",
       "<tr><td>train_mnist_af561_00002</td><td>TERMINATED</td><td>                   </td><td style=\"text-align: right;\">1.01225e-08</td><td style=\"text-align: right;\">  0.383448</td><td style=\"text-align: right;\">0.084375</td><td style=\"text-align: right;\">    10</td><td style=\"text-align: right;\">        20.6104 </td></tr>\n",
       "<tr><td>train_mnist_af561_00003</td><td>TERMINATED</td><td>                   </td><td style=\"text-align: right;\">1.55157e-06</td><td style=\"text-align: right;\">  0.778785</td><td style=\"text-align: right;\">0.10625 </td><td style=\"text-align: right;\">    10</td><td style=\"text-align: right;\">        20.5141 </td></tr>\n",
       "<tr><td>train_mnist_af561_00004</td><td>TERMINATED</td><td>                   </td><td style=\"text-align: right;\">6.29387e-09</td><td style=\"text-align: right;\">  0.252046</td><td style=\"text-align: right;\">0.1125  </td><td style=\"text-align: right;\">    10</td><td style=\"text-align: right;\">        19.8356 </td></tr>\n",
       "<tr><td>train_mnist_af561_00005</td><td>TERMINATED</td><td>                   </td><td style=\"text-align: right;\">2.83837e-05</td><td style=\"text-align: right;\">  0.635141</td><td style=\"text-align: right;\">0.05    </td><td style=\"text-align: right;\">    10</td><td style=\"text-align: right;\">        20.0418 </td></tr>\n",
       "<tr><td>train_mnist_af561_00007</td><td>TERMINATED</td><td>                   </td><td style=\"text-align: right;\">3.41018e-08</td><td style=\"text-align: right;\">  0.485819</td><td style=\"text-align: right;\">0.171875</td><td style=\"text-align: right;\">    10</td><td style=\"text-align: right;\">        21.0427 </td></tr>\n",
       "</tbody>\n",
       "</table><br><br>"
      ],
      "text/plain": [
       "<IPython.core.display.HTML object>"
      ]
     },
     "metadata": {},
     "output_type": "display_data"
    },
    {
     "name": "stderr",
     "output_type": "stream",
     "text": [
      " 43%|████▎     | 705536/1648877 [00:20<00:32, 29153.03it/s]\n",
      " 89%|████████▉ | 8868864/9912422 [00:08<00:01, 606383.11it/s]\n",
      " 71%|███████   | 7044096/9912422 [00:07<00:04, 704588.97it/s]\n",
      "  7%|▋         | 122880/1648877 [00:01<00:21, 72121.43it/s] \n",
      " 43%|████▎     | 713728/1648877 [00:20<00:28, 32802.39it/s]\n",
      " 72%|███████▏  | 7181312/9912422 [00:08<00:05, 545177.64it/s]\n",
      " 92%|█████████▏| 9129984/9912422 [00:08<00:01, 774900.11it/s]\n"
     ]
    },
    {
     "name": "stdout",
     "output_type": "stream",
     "text": [
      "\u001b[2m\u001b[36m(pid=16582)\u001b[0m Downloading https://ossci-datasets.s3.amazonaws.com/mnist/t10k-labels-idx1-ubyte.gz to {cwd}/data/MNIST/raw/t10k-labels-idx1-ubyte.gz\n",
      "\u001b[2m\u001b[36m(pid=16590)\u001b[0m Downloading https://ossci-datasets.s3.amazonaws.com/mnist/train-labels-idx1-ubyte.gz to {cwd}/data/MNIST/raw/train-labels-idx1-ubyte.gz\n"
     ]
    },
    {
     "name": "stderr",
     "output_type": "stream",
     "text": [
      " 72%|███████▏  | 7129088/9912422 [00:07<00:04, 683369.05it/s]\n",
      " 94%|█████████▎| 9282560/9912422 [00:08<00:00, 854270.11it/s]\n",
      " 10%|▉         | 157696/1648877 [00:01<00:17, 86997.19it/s]\n",
      " 73%|███████▎  | 7246848/9912422 [00:09<00:05, 474613.94it/s]\n",
      " 73%|███████▎  | 7202816/9912422 [00:07<00:04, 633575.98it/s]\n",
      " 44%|████▍     | 721920/1648877 [00:21<00:29, 31944.12it/s]\n",
      " 96%|█████████▌| 9530368/9912422 [00:09<00:00, 1006608.38it/s]\n",
      "  0%|          | 0/28881 [00:00<?, ?it/s]\n",
      " 74%|███████▎  | 7304192/9912422 [00:09<00:05, 443202.82it/s]\n",
      "29696it [00:00, 567708.24it/s]           \n",
      " 73%|███████▎  | 7270400/9912422 [00:08<00:04, 565909.72it/s]\n",
      " 13%|█▎        | 208896/1648877 [00:01<00:13, 108326.10it/s]\n",
      " 98%|█████████▊| 9756672/9912422 [00:09<00:00, 1191398.41it/s]\n"
     ]
    },
    {
     "name": "stdout",
     "output_type": "stream",
     "text": [
      "\u001b[2m\u001b[36m(pid=16590)\u001b[0m Extracting {cwd}/data/MNIST/raw/train-labels-idx1-ubyte.gz to {cwd}/data/MNIST/raw\n",
      "\u001b[2m\u001b[36m(pid=16590)\u001b[0m \n",
      "\u001b[2m\u001b[36m(pid=16590)\u001b[0m Downloading http://yann.lecun.com/exdb/mnist/t10k-images-idx3-ubyte.gz\n",
      "\u001b[2m\u001b[36m(pid=16588)\u001b[0m Extracting {cwd}/data/MNIST/raw/train-images-idx3-ubyte.gz to {cwd}/data/MNIST/raw\n",
      "\u001b[2m\u001b[36m(pid=16590)\u001b[0m Failed to download (trying next):\n",
      "\u001b[2m\u001b[36m(pid=16590)\u001b[0m HTTP Error 503: Service Unavailable\n",
      "\u001b[2m\u001b[36m(pid=16590)\u001b[0m \n",
      "\u001b[2m\u001b[36m(pid=16590)\u001b[0m Downloading https://ossci-datasets.s3.amazonaws.com/mnist/t10k-images-idx3-ubyte.gz\n"
     ]
    },
    {
     "name": "stderr",
     "output_type": "stream",
     "text": [
      " 44%|████▍     | 730112/1648877 [00:21<00:28, 32746.54it/s]\n",
      " 74%|███████▍  | 7363584/9912422 [00:09<00:05, 433316.78it/s]\n",
      "9913344it [00:09, 1061639.59it/s]                             \n",
      " 74%|███████▍  | 7355392/9912422 [00:08<00:04, 569556.88it/s]\n",
      " 14%|█▍        | 227328/1648877 [00:01<00:12, 115536.45it/s]\n",
      " 75%|███████▌  | 7450624/9912422 [00:09<00:05, 478299.25it/s]\n",
      " 17%|█▋        | 279552/1648877 [00:02<00:09, 145960.38it/s]\n",
      " 75%|███████▌  | 7459840/9912422 [00:08<00:04, 576132.56it/s]\n",
      " 45%|████▍     | 738304/1648877 [00:21<00:28, 32463.66it/s]\n",
      " 76%|███████▌  | 7537664/9912422 [00:09<00:04, 510348.41it/s]\n",
      " 76%|███████▋  | 7564288/9912422 [00:08<00:03, 613499.40it/s]\n",
      " 20%|██        | 331776/1648877 [00:02<00:07, 169949.29it/s]\n",
      " 77%|███████▋  | 7624704/9912422 [00:09<00:04, 513221.63it/s]\n",
      " 77%|███████▋  | 7651328/9912422 [00:08<00:03, 637617.44it/s]\n",
      " 22%|██▏       | 366592/1648877 [00:02<00:06, 193051.19it/s]\n"
     ]
    },
    {
     "name": "stdout",
     "output_type": "stream",
     "text": [
      "\u001b[2m\u001b[36m(pid=16590)\u001b[0m Downloading https://ossci-datasets.s3.amazonaws.com/mnist/t10k-images-idx3-ubyte.gz to {cwd}/data/MNIST/raw/t10k-images-idx3-ubyte.gz\n",
      "\u001b[2m\u001b[36m(pid=16588)\u001b[0m \n",
      "\u001b[2m\u001b[36m(pid=16588)\u001b[0m Downloading http://yann.lecun.com/exdb/mnist/train-labels-idx1-ubyte.gz\n",
      "\u001b[2m\u001b[36m(pid=16588)\u001b[0m Failed to download (trying next):\n",
      "\u001b[2m\u001b[36m(pid=16588)\u001b[0m HTTP Error 503: Service Unavailable\n",
      "\u001b[2m\u001b[36m(pid=16588)\u001b[0m \n",
      "\u001b[2m\u001b[36m(pid=16588)\u001b[0m Downloading https://ossci-datasets.s3.amazonaws.com/mnist/train-labels-idx1-ubyte.gz\n"
     ]
    },
    {
     "name": "stderr",
     "output_type": "stream",
     "text": [
      "  0%|          | 0/1648877 [00:00<?, ?it/s]\n",
      " 45%|████▌     | 746496/1648877 [00:21<00:28, 31135.78it/s]\n",
      " 78%|███████▊  | 7694336/9912422 [00:09<00:04, 509692.42it/s]\n",
      " 78%|███████▊  | 7737344/9912422 [00:08<00:03, 633170.59it/s]\n",
      " 24%|██▍       | 401408/1648877 [00:02<00:06, 207833.23it/s]\n",
      "  2%|▏         | 33792/1648877 [00:00<00:05, 269319.42it/s]\n",
      " 78%|███████▊  | 7763968/9912422 [00:10<00:04, 507580.78it/s]\n",
      " 79%|███████▉  | 7825408/9912422 [00:08<00:03, 632997.82it/s]\n",
      " 28%|██▊       | 453632/1648877 [00:02<00:05, 238417.81it/s]\n",
      " 46%|████▌     | 754688/1648877 [00:22<00:27, 32589.58it/s]\n",
      "  0%|          | 0/4542 [00:00<?, ?it/s]\n",
      " 79%|███████▉  | 7816192/9912422 [00:10<00:04, 499122.05it/s]\n",
      " 12%|█▏        | 190464/1648877 [00:00<00:04, 335512.45it/s]\n",
      " 80%|███████▉  | 7895040/9912422 [00:09<00:03, 634116.53it/s]\n",
      " 29%|██▉       | 482304/1648877 [00:02<00:04, 246743.69it/s]\n",
      "5120it [00:00, 42983.11it/s]                         \n"
     ]
    },
    {
     "name": "stdout",
     "output_type": "stream",
     "text": [
      "\u001b[2m\u001b[36m(pid=16588)\u001b[0m Downloading https://ossci-datasets.s3.amazonaws.com/mnist/train-labels-idx1-ubyte.gz to {cwd}/data/MNIST/raw/train-labels-idx1-ubyte.gz\n",
      "\u001b[2m\u001b[36m(pid=16582)\u001b[0m Extracting {cwd}/data/MNIST/raw/t10k-labels-idx1-ubyte.gz to {cwd}/data/MNIST/raw\n",
      "\u001b[2m\u001b[36m(pid=16582)\u001b[0m \n"
     ]
    },
    {
     "name": "stderr",
     "output_type": "stream",
     "text": [
      "\u001b[2m\u001b[36m(pid=16582)\u001b[0m /home/therealchainman/miniconda3/lib/python3.8/site-packages/torchvision/datasets/mnist.py:498: UserWarning: The given NumPy array is not writeable, and PyTorch does not support non-writeable tensors. This means you can write to the underlying (supposedly non-writeable) NumPy array using the tensor. You may want to copy the array to protect its data or make it writeable before converting it to a tensor. This type of warning will be suppressed for the rest of this program. (Triggered internally at  /pytorch/torch/csrc/utils/tensor_numpy.cpp:180.)\n",
      "\u001b[2m\u001b[36m(pid=16582)\u001b[0m   return torch.from_numpy(parsed.astype(m[2], copy=False)).view(*s)\n",
      " 80%|███████▉  | 7885824/9912422 [00:10<00:04, 497711.70it/s]\n",
      " 32%|███▏      | 521216/1648877 [00:00<00:02, 450235.77it/s]\n",
      " 80%|████████  | 7964672/9912422 [00:09<00:03, 586808.05it/s]\n",
      " 31%|███       | 510976/1648877 [00:02<00:04, 228507.25it/s]\n",
      "\u001b[2m\u001b[36m(pid=16582)\u001b[0m /home/therealchainman/miniconda3/lib/python3.8/site-packages/torch/nn/functional.py:718: UserWarning: Named tensors and all their associated APIs are an experimental feature and subject to change. Please do not use them for anything important until they are released as stable. (Triggered internally at  /pytorch/c10/core/TensorImpl.h:1156.)\n",
      "\u001b[2m\u001b[36m(pid=16582)\u001b[0m   return torch.max_pool2d(input, kernel_size, stride, padding, dilation, ceil_mode)\n",
      " 46%|████▋     | 762880/1648877 [00:22<00:27, 32342.67it/s]\n",
      " 80%|████████  | 7938048/9912422 [00:10<00:04, 468041.03it/s]\n",
      " 42%|████▏     | 695296/1648877 [00:00<00:01, 568004.19it/s]\n",
      " 81%|████████  | 8034304/9912422 [00:09<00:03, 570948.60it/s]\n",
      " 33%|███▎      | 540672/1648877 [00:03<00:04, 232061.12it/s]\n"
     ]
    },
    {
     "name": "stdout",
     "output_type": "stream",
     "text": [
      "Result for train_mnist_af561_00011:\n",
      "  date: 2021-06-22_16-42-43\n",
      "  done: true\n",
      "  experiment_id: d5aea06b3a92425ba3e1e39889317bee\n",
      "  experiment_tag: 11_lr=0.15802,momentum=0.28564\n",
      "  hostname: therealchainman\n",
      "  iterations_since_restore: 10\n",
      "  mean_accuracy: 0.91875\n",
      "  node_ip: 192.168.1.106\n",
      "  pid: 16587\n",
      "  time_since_restore: 11.68274712562561\n",
      "  time_this_iter_s: 0.1975698471069336\n",
      "  time_total_s: 11.68274712562561\n",
      "  timestamp: 1624398163\n",
      "  timesteps_since_restore: 0\n",
      "  training_iteration: 10\n",
      "  trial_id: af561_00011\n",
      "  \n",
      "Result for train_mnist_af561_00013:\n",
      "  date: 2021-06-22_16-42-43\n",
      "  done: false\n",
      "  experiment_id: 321cbd5e542a42c1bef296765e312688\n",
      "  hostname: therealchainman\n",
      "  iterations_since_restore: 1\n",
      "  mean_accuracy: 0.10625\n",
      "  node_ip: 192.168.1.106\n",
      "  pid: 16582\n",
      "  time_since_restore: 11.749846935272217\n",
      "  time_this_iter_s: 11.749846935272217\n",
      "  time_total_s: 11.749846935272217\n",
      "  timestamp: 1624398163\n",
      "  timesteps_since_restore: 0\n",
      "  training_iteration: 1\n",
      "  trial_id: af561_00013\n",
      "  \n"
     ]
    },
    {
     "name": "stderr",
     "output_type": "stream",
     "text": [
      " 81%|████████  | 7986176/9912422 [00:10<00:04, 471927.13it/s]\n",
      " 50%|████▉     | 817152/1648877 [00:00<00:01, 674164.72it/s]\n",
      " 82%|████████▏ | 8092672/9912422 [00:09<00:03, 571741.50it/s]\n",
      " 34%|███▍      | 566272/1648877 [00:03<00:04, 236494.04it/s]\n",
      " 81%|████████  | 8034304/9912422 [00:10<00:03, 471018.62it/s]\n",
      "  0%|          | 0/28881 [00:00<?, ?it/s]\n",
      " 64%|██████▍   | 1060864/1648877 [00:00<00:00, 860807.26it/s]\n",
      " 47%|████▋     | 771072/1648877 [00:22<00:28, 30624.72it/s]\n",
      " 82%|████████▏ | 8151040/9912422 [00:09<00:03, 481503.83it/s]\n",
      " 37%|███▋      | 610304/1648877 [00:03<00:04, 244979.98it/s]\n",
      " 82%|████████▏ | 8094720/9912422 [00:10<00:03, 496921.14it/s]\n",
      "  4%|▎         | 1024/28881 [00:00<00:04, 6000.41it/s]\n",
      " 74%|███████▍  | 1217536/1648877 [00:00<00:00, 907069.25it/s]\n",
      " 39%|███▉      | 645120/1648877 [00:03<00:04, 250112.13it/s]\n",
      "\u001b[2m\u001b[33m(raylet)\u001b[0m /home/therealchainman/miniconda3/lib/python3.8/site-packages/ray/autoscaler/_private/cli_logger.py:57: FutureWarning: Not all Ray CLI dependencies were found. In Ray 1.4+, the Ray CLI, autoscaler, and dashboard will only be usable via `pip install 'ray[default]'`. Please update your install command.\n",
      "\u001b[2m\u001b[33m(raylet)\u001b[0m   warnings.warn(\n",
      " 82%|████████▏ | 8164352/9912422 [00:10<00:03, 490755.53it/s]\n",
      "29696it [00:00, 104502.53it/s]                         \n",
      " 85%|████████▌ | 1409024/1648877 [00:01<00:00, 1074434.62it/s]\n",
      " 83%|████████▎ | 8208384/9912422 [00:09<00:04, 411207.13it/s]\n",
      " 47%|████▋     | 779264/1648877 [00:22<00:26, 32213.03it/s]\n"
     ]
    },
    {
     "name": "stdout",
     "output_type": "stream",
     "text": [
      "\u001b[2m\u001b[36m(pid=16588)\u001b[0m Extracting {cwd}/data/MNIST/raw/train-labels-idx1-ubyte.gz to {cwd}/data/MNIST/raw\n",
      "\u001b[2m\u001b[36m(pid=16588)\u001b[0m \n",
      "\u001b[2m\u001b[36m(pid=16588)\u001b[0m Downloading http://yann.lecun.com/exdb/mnist/t10k-images-idx3-ubyte.gz\n",
      "\u001b[2m\u001b[36m(pid=16590)\u001b[0m Extracting {cwd}/data/MNIST/raw/t10k-images-idx3-ubyte.gz to {cwd}/data/MNIST/raw\n"
     ]
    },
    {
     "name": "stderr",
     "output_type": "stream",
     "text": [
      " 41%|████      | 679936/1648877 [00:03<00:03, 246513.65it/s]\n",
      " 83%|████████▎ | 8233984/9912422 [00:10<00:03, 494115.85it/s]\n",
      "1649664it [00:01, 1379447.41it/s]                             \n",
      " 83%|████████▎ | 8260608/9912422 [00:09<00:04, 405598.26it/s]\n",
      " 44%|████▍     | 732160/1648877 [00:03<00:03, 276042.91it/s]\n",
      " 48%|████▊     | 787456/1648877 [00:23<00:26, 32300.82it/s]\n",
      " 84%|████████▍ | 8347648/9912422 [00:10<00:03, 444630.26it/s]\n"
     ]
    },
    {
     "name": "stdout",
     "output_type": "stream",
     "text": [
      "\u001b[2m\u001b[36m(pid=16588)\u001b[0m Failed to download (trying next):\n",
      "\u001b[2m\u001b[36m(pid=16588)\u001b[0m HTTP Error 503: Service Unavailable\n",
      "\u001b[2m\u001b[36m(pid=16588)\u001b[0m \n",
      "\u001b[2m\u001b[36m(pid=16588)\u001b[0m Downloading https://ossci-datasets.s3.amazonaws.com/mnist/t10k-images-idx3-ubyte.gz\n",
      "\u001b[2m\u001b[36m(pid=16590)\u001b[0m \n",
      "\u001b[2m\u001b[36m(pid=16590)\u001b[0m Downloading http://yann.lecun.com/exdb/mnist/t10k-labels-idx1-ubyte.gz\n"
     ]
    },
    {
     "name": "stderr",
     "output_type": "stream",
     "text": [
      " 84%|████████▍ | 8338432/9912422 [00:11<00:03, 508817.29it/s]\n",
      " 47%|████▋     | 766976/1648877 [00:03<00:03, 266078.97it/s]\n",
      " 85%|████████▍ | 8408064/9912422 [00:11<00:02, 504586.99it/s]\n",
      " 85%|████████▍ | 8417280/9912422 [00:10<00:03, 421113.20it/s]\n",
      " 49%|████▊     | 801792/1648877 [00:03<00:02, 285332.82it/s]\n"
     ]
    },
    {
     "name": "stdout",
     "output_type": "stream",
     "text": [
      "\u001b[2m\u001b[36m(pid=16590)\u001b[0m Failed to download (trying next):\n",
      "\u001b[2m\u001b[36m(pid=16590)\u001b[0m HTTP Error 503: Service Unavailable\n",
      "\u001b[2m\u001b[36m(pid=16590)\u001b[0m \n",
      "\u001b[2m\u001b[36m(pid=16590)\u001b[0m Downloading https://ossci-datasets.s3.amazonaws.com/mnist/t10k-labels-idx1-ubyte.gz\n",
      "\u001b[2m\u001b[36m(pid=16588)\u001b[0m Downloading https://ossci-datasets.s3.amazonaws.com/mnist/t10k-images-idx3-ubyte.gz to {cwd}/data/MNIST/raw/t10k-images-idx3-ubyte.gz\n"
     ]
    },
    {
     "name": "stderr",
     "output_type": "stream",
     "text": [
      " 48%|████▊     | 795648/1648877 [00:23<00:27, 31389.28it/s]\n",
      " 86%|████████▌ | 8495104/9912422 [00:11<00:02, 535132.99it/s]\n",
      " 86%|████████▌ | 8486912/9912422 [00:10<00:03, 444176.42it/s]\n",
      " 51%|█████     | 836608/1648877 [00:04<00:02, 277108.71it/s]\n",
      " 87%|████████▋ | 8581120/9912422 [00:11<00:02, 577677.29it/s]\n",
      " 86%|████████▋ | 8556544/9912422 [00:10<00:02, 473669.19it/s]\n",
      " 53%|█████▎    | 871424/1648877 [00:04<00:02, 278100.47it/s]\n",
      " 49%|████▉     | 803840/1648877 [00:23<00:25, 32712.69it/s]\n",
      "  0%|          | 0/1648877 [00:00<?, ?it/s]\n",
      " 88%|████████▊ | 8686592/9912422 [00:11<00:01, 618441.90it/s]\n",
      " 87%|████████▋ | 8660992/9912422 [00:10<00:02, 530093.53it/s]\n",
      " 56%|█████▌    | 923648/1648877 [00:04<00:02, 303231.12it/s]\n",
      "  2%|▏         | 38912/1648877 [00:00<00:05, 297350.33it/s]\n"
     ]
    },
    {
     "name": "stdout",
     "output_type": "stream",
     "text": [
      "\u001b[2m\u001b[36m(pid=16590)\u001b[0m Downloading https://ossci-datasets.s3.amazonaws.com/mnist/t10k-labels-idx1-ubyte.gz to {cwd}/data/MNIST/raw/t10k-labels-idx1-ubyte.gz\n"
     ]
    },
    {
     "name": "stderr",
     "output_type": "stream",
     "text": [
      " 89%|████████▊ | 8773632/9912422 [00:11<00:01, 624183.38it/s]\n",
      " 88%|████████▊ | 8730624/9912422 [00:10<00:02, 523801.75it/s]\n",
      " 49%|████▉     | 812032/1648877 [00:23<00:25, 32336.84it/s]\n",
      " 59%|█████▉    | 975872/1648877 [00:04<00:02, 318307.35it/s]\n",
      " 10%|▉         | 160768/1648877 [00:00<00:04, 358157.51it/s]\n",
      "  0%|          | 0/4542 [00:00<?, ?it/s]\n",
      " 90%|████████▉ | 8912896/9912422 [00:12<00:01, 706199.15it/s]\n",
      " 89%|████████▉ | 8835072/9912422 [00:10<00:01, 593902.13it/s]\n"
     ]
    },
    {
     "name": "stdout",
     "output_type": "stream",
     "text": [
      "\u001b[2m\u001b[36m(pid=16899)\u001b[0m Downloading http://yann.lecun.com/exdb/mnist/train-images-idx3-ubyte.gz\n",
      "\u001b[2m\u001b[36m(pid=16899)\u001b[0m Failed to download (trying next):\n",
      "\u001b[2m\u001b[36m(pid=16899)\u001b[0m HTTP Error 503: Service Unavailable\n",
      "\u001b[2m\u001b[36m(pid=16899)\u001b[0m \n",
      "\u001b[2m\u001b[36m(pid=16899)\u001b[0m Downloading https://ossci-datasets.s3.amazonaws.com/mnist/train-images-idx3-ubyte.gz\n"
     ]
    },
    {
     "name": "stderr",
     "output_type": "stream",
     "text": [
      " 29%|██▉       | 474112/1648877 [00:00<00:02, 486802.11it/s]\n",
      " 64%|██████▍   | 1062912/1648877 [00:04<00:01, 351733.01it/s]\n",
      " 91%|█████████ | 8999936/9912422 [00:12<00:01, 736660.57it/s]\n",
      " 90%|█████████ | 8922112/9912422 [00:10<00:01, 625643.15it/s]\n",
      " 50%|████▉     | 820224/1648877 [00:24<00:26, 30849.79it/s]\n",
      " 92%|█████████▏| 9077760/9912422 [00:12<00:01, 746370.55it/s]\n",
      " 35%|███▌      | 583680/1648877 [00:00<00:01, 540293.19it/s]\n",
      " 67%|██████▋   | 1100800/1648877 [00:04<00:01, 314176.27it/s]\n",
      " 91%|█████████ | 8991744/9912422 [00:11<00:01, 587275.39it/s]\n"
     ]
    },
    {
     "name": "stdout",
     "output_type": "stream",
     "text": [
      "\u001b[2m\u001b[36m(pid=16899)\u001b[0m Downloading https://ossci-datasets.s3.amazonaws.com/mnist/train-images-idx3-ubyte.gz to {cwd}/data/MNIST/raw/train-images-idx3-ubyte.gz\n",
      "Result for train_mnist_af561_00013:\n",
      "  date: 2021-06-22_16-42-45\n",
      "  done: true\n",
      "  experiment_id: 321cbd5e542a42c1bef296765e312688\n",
      "  experiment_tag: 13_lr=1.4712e-08,momentum=0.77365\n",
      "  hostname: therealchainman\n",
      "  iterations_since_restore: 10\n",
      "  mean_accuracy: 0.11875\n",
      "  node_ip: 192.168.1.106\n",
      "  pid: 16582\n",
      "  time_since_restore: 13.724916696548462\n",
      "  time_this_iter_s: 0.18441033363342285\n",
      "  time_total_s: 13.724916696548462\n",
      "  timestamp: 1624398165\n",
      "  timesteps_since_restore: 0\n",
      "  training_iteration: 10\n",
      "  trial_id: af561_00013\n",
      "  \n"
     ]
    },
    {
     "name": "stderr",
     "output_type": "stream",
     "text": [
      " 92%|█████████▏| 9156608/9912422 [00:12<00:01, 694079.52it/s]\n",
      " 46%|████▌     | 752640/1648877 [00:00<00:01, 655646.50it/s]\n",
      " 70%|██████▉   | 1149952/1648877 [00:05<00:01, 327183.05it/s]\n",
      " 50%|█████     | 828416/1648877 [00:24<00:25, 32661.17it/s]\n",
      " 92%|█████████▏| 9078784/9912422 [00:11<00:01, 598825.85it/s]\n",
      " 52%|█████▏    | 861184/1648877 [00:00<00:01, 738531.66it/s]\n",
      " 94%|█████████▎| 9278464/9912422 [00:12<00:00, 707370.46it/s]\n",
      " 92%|█████████▏| 9165824/9912422 [00:11<00:01, 629036.06it/s]\n",
      " 72%|███████▏  | 1184768/1648877 [00:05<00:01, 280695.73it/s]\n",
      " 61%|██████▏   | 1013760/1648877 [00:00<00:00, 847888.96it/s]\n",
      "  0%|          | 0/9912422 [00:00<?, ?it/s]\n",
      " 94%|█████████▍| 9351168/9912422 [00:12<00:00, 635703.93it/s]\n",
      " 93%|█████████▎| 9252864/9912422 [00:11<00:01, 627855.27it/s]\n",
      " 74%|███████▍  | 1218560/1648877 [00:05<00:01, 266207.71it/s]\n",
      " 51%|█████     | 836608/1648877 [00:24<00:25, 32463.18it/s]\n",
      " 70%|██████▉   | 1153024/1648877 [00:01<00:00, 897932.71it/s]\n",
      "\u001b[2m\u001b[33m(raylet)\u001b[0m /home/therealchainman/miniconda3/lib/python3.8/site-packages/ray/autoscaler/_private/cli_logger.py:57: FutureWarning: Not all Ray CLI dependencies were found. In Ray 1.4+, the Ray CLI, autoscaler, and dashboard will only be usable via `pip install 'ray[default]'`. Please update your install command.\n",
      "\u001b[2m\u001b[33m(raylet)\u001b[0m   warnings.warn(\n",
      " 95%|█████████▌| 9417728/9912422 [00:12<00:00, 584212.04it/s]\n",
      "5120it [00:00, 6041.04it/s]                          \n",
      "\u001b[2m\u001b[36m(pid=16590)\u001b[0m /home/therealchainman/miniconda3/lib/python3.8/site-packages/torchvision/datasets/mnist.py:498: UserWarning: The given NumPy array is not writeable, and PyTorch does not support non-writeable tensors. This means you can write to the underlying (supposedly non-writeable) NumPy array using the tensor. You may want to copy the array to protect its data or make it writeable before converting it to a tensor. This type of warning will be suppressed for the rest of this program. (Triggered internally at  /pytorch/torch/csrc/utils/tensor_numpy.cpp:180.)\n",
      "\u001b[2m\u001b[36m(pid=16590)\u001b[0m   return torch.from_numpy(parsed.astype(m[2], copy=False)).view(*s)\n",
      " 95%|█████████▍| 9392128/9912422 [00:11<00:00, 695283.53it/s]\n",
      " 76%|███████▌  | 1247232/1648877 [00:05<00:01, 247075.58it/s]\n",
      "  0%|          | 19456/9912422 [00:00<01:44, 95052.17it/s]\n",
      " 78%|███████▊  | 1292288/1648877 [00:01<00:00, 921971.50it/s]\n",
      " 96%|█████████▌| 9504768/9912422 [00:12<00:00, 643673.08it/s]\n",
      "\u001b[2m\u001b[36m(pid=16590)\u001b[0m /home/therealchainman/miniconda3/lib/python3.8/site-packages/torch/nn/functional.py:718: UserWarning: Named tensors and all their associated APIs are an experimental feature and subject to change. Please do not use them for anything important until they are released as stable. (Triggered internally at  /pytorch/c10/core/TensorImpl.h:1156.)\n",
      "\u001b[2m\u001b[36m(pid=16590)\u001b[0m   return torch.max_pool2d(input, kernel_size, stride, padding, dilation, ceil_mode)\n",
      " 77%|███████▋  | 1273856/1648877 [00:05<00:01, 248466.48it/s]\n",
      "  1%|          | 89088/9912422 [00:00<01:16, 128054.79it/s]\n",
      " 51%|█████     | 844800/1648877 [00:24<00:24, 32322.03it/s]\n",
      " 96%|█████████▌| 9496576/9912422 [00:11<00:00, 758226.19it/s]\n",
      " 88%|████████▊ | 1448960/1648877 [00:01<00:00, 958831.43it/s]\n"
     ]
    },
    {
     "name": "stdout",
     "output_type": "stream",
     "text": [
      "\u001b[2m\u001b[36m(pid=16590)\u001b[0m Extracting {cwd}/data/MNIST/raw/t10k-labels-idx1-ubyte.gz to {cwd}/data/MNIST/raw\n",
      "\u001b[2m\u001b[36m(pid=16590)\u001b[0m \n",
      "Result for train_mnist_af561_00014:\n",
      "  date: 2021-06-22_16-42-46\n",
      "  done: false\n",
      "  experiment_id: b97f616e065a442fb72e4b78faeb1fb1\n",
      "  hostname: therealchainman\n",
      "  iterations_since_restore: 1\n",
      "  mean_accuracy: 0.046875\n",
      "  node_ip: 192.168.1.106\n",
      "  pid: 16590\n",
      "  time_since_restore: 13.893491506576538\n",
      "  time_this_iter_s: 13.893491506576538\n",
      "  time_total_s: 13.893491506576538\n",
      "  timestamp: 1624398166\n",
      "  timesteps_since_restore: 0\n",
      "  training_iteration: 1\n",
      "  trial_id: af561_00014\n",
      "  \n",
      "\u001b[2m\u001b[36m(pid=16588)\u001b[0m Extracting {cwd}/data/MNIST/raw/t10k-images-idx3-ubyte.gz to {cwd}/data/MNIST/raw\n",
      "\u001b[2m\u001b[36m(pid=16588)\u001b[0m \n",
      "\u001b[2m\u001b[36m(pid=16588)\u001b[0m Downloading http://yann.lecun.com/exdb/mnist/t10k-labels-idx1-ubyte.gz\n"
     ]
    },
    {
     "name": "stderr",
     "output_type": "stream",
     "text": [
      "  1%|▏         | 141312/9912422 [00:00<01:01, 158304.04it/s]\n",
      " 97%|█████████▋| 9574400/9912422 [00:13<00:00, 477566.28it/s]\n",
      "1649664it [00:01, 1115693.56it/s]                             \n",
      " 97%|█████████▋| 9583616/9912422 [00:12<00:00, 597991.28it/s]\n",
      " 79%|███████▉  | 1306624/1648877 [00:05<00:01, 202822.55it/s]\n",
      "  2%|▏         | 210944/9912422 [00:00<00:48, 200379.13it/s]\n",
      " 52%|█████▏    | 852992/1648877 [00:25<00:24, 31957.07it/s]\n",
      " 98%|█████████▊| 9678848/9912422 [00:13<00:00, 536288.38it/s]\n",
      " 98%|█████████▊| 9670656/9912422 [00:12<00:00, 606306.67it/s]\n",
      " 81%|████████▏ | 1341440/1648877 [00:05<00:01, 214026.70it/s]\n",
      " 52%|█████▏    | 861184/1648877 [00:25<00:24, 32056.65it/s]\n",
      " 98%|█████████▊| 9741312/9912422 [00:13<00:00, 432663.15it/s]\n",
      " 98%|█████████▊| 9737216/9912422 [00:12<00:00, 480217.77it/s]\n",
      " 83%|████████▎ | 1364992/1648877 [00:06<00:01, 170005.85it/s]\n",
      "  3%|▎         | 280576/9912422 [00:00<00:46, 208959.76it/s]\n",
      " 99%|█████████▉| 9794560/9912422 [00:13<00:00, 415334.63it/s]\n",
      " 99%|█████████▉| 9800704/9912422 [00:12<00:00, 518066.94it/s]\n",
      " 85%|████████▍ | 1393664/1648877 [00:06<00:01, 179211.54it/s]\n",
      "  4%|▎         | 350208/9912422 [00:01<00:37, 252909.46it/s]\n"
     ]
    },
    {
     "data": {
      "text/html": [
       "== Status ==<br>Memory usage on this node: 5.1/15.5 GiB<br>Using FIFO scheduling algorithm.<br>Resources requested: 8.0/8 CPUs, 0/0 GPUs, 0.0/8.04 GiB heap, 0.0/4.02 GiB objects<br>Result logdir: /home/therealchainman/ray_results/train_mnist_2021-06-22_16-42-04<br>Number of trials: 20/20 (3 PENDING, 8 RUNNING, 9 TERMINATED)<br><table>\n",
       "<thead>\n",
       "<tr><th>Trial name             </th><th>status    </th><th>loc                </th><th style=\"text-align: right;\">         lr</th><th style=\"text-align: right;\">  momentum</th><th style=\"text-align: right;\">     acc</th><th style=\"text-align: right;\">  iter</th><th style=\"text-align: right;\">  total time (s)</th></tr>\n",
       "</thead>\n",
       "<tbody>\n",
       "<tr><td>train_mnist_af561_00006</td><td>RUNNING   </td><td>                   </td><td style=\"text-align: right;\">2.12237e-09</td><td style=\"text-align: right;\">  0.881509</td><td style=\"text-align: right;\">        </td><td style=\"text-align: right;\">      </td><td style=\"text-align: right;\">                </td></tr>\n",
       "<tr><td>train_mnist_af561_00008</td><td>RUNNING   </td><td>                   </td><td style=\"text-align: right;\">8.61318e-08</td><td style=\"text-align: right;\">  0.189483</td><td style=\"text-align: right;\">        </td><td style=\"text-align: right;\">      </td><td style=\"text-align: right;\">                </td></tr>\n",
       "<tr><td>train_mnist_af561_00009</td><td>RUNNING   </td><td>                   </td><td style=\"text-align: right;\">0.00177473 </td><td style=\"text-align: right;\">  0.293255</td><td style=\"text-align: right;\">        </td><td style=\"text-align: right;\">      </td><td style=\"text-align: right;\">                </td></tr>\n",
       "<tr><td>train_mnist_af561_00010</td><td>RUNNING   </td><td>                   </td><td style=\"text-align: right;\">0.00564488 </td><td style=\"text-align: right;\">  0.869707</td><td style=\"text-align: right;\">        </td><td style=\"text-align: right;\">      </td><td style=\"text-align: right;\">                </td></tr>\n",
       "<tr><td>train_mnist_af561_00012</td><td>RUNNING   </td><td>                   </td><td style=\"text-align: right;\">4.68526e-05</td><td style=\"text-align: right;\">  0.233772</td><td style=\"text-align: right;\">        </td><td style=\"text-align: right;\">      </td><td style=\"text-align: right;\">                </td></tr>\n",
       "<tr><td>train_mnist_af561_00014</td><td>RUNNING   </td><td>192.168.1.106:16590</td><td style=\"text-align: right;\">1.25491e-10</td><td style=\"text-align: right;\">  0.838552</td><td style=\"text-align: right;\">0.078125</td><td style=\"text-align: right;\">     4</td><td style=\"text-align: right;\">         14.541 </td></tr>\n",
       "<tr><td>train_mnist_af561_00015</td><td>RUNNING   </td><td>                   </td><td style=\"text-align: right;\">3.72716e-09</td><td style=\"text-align: right;\">  0.462565</td><td style=\"text-align: right;\">        </td><td style=\"text-align: right;\">      </td><td style=\"text-align: right;\">                </td></tr>\n",
       "<tr><td>train_mnist_af561_00016</td><td>RUNNING   </td><td>                   </td><td style=\"text-align: right;\">3.09241e-07</td><td style=\"text-align: right;\">  0.21736 </td><td style=\"text-align: right;\">        </td><td style=\"text-align: right;\">      </td><td style=\"text-align: right;\">                </td></tr>\n",
       "<tr><td>train_mnist_af561_00017</td><td>PENDING   </td><td>                   </td><td style=\"text-align: right;\">1.51156e-06</td><td style=\"text-align: right;\">  0.266795</td><td style=\"text-align: right;\">        </td><td style=\"text-align: right;\">      </td><td style=\"text-align: right;\">                </td></tr>\n",
       "<tr><td>train_mnist_af561_00018</td><td>PENDING   </td><td>                   </td><td style=\"text-align: right;\">2.21039e-06</td><td style=\"text-align: right;\">  0.66885 </td><td style=\"text-align: right;\">        </td><td style=\"text-align: right;\">      </td><td style=\"text-align: right;\">                </td></tr>\n",
       "<tr><td>train_mnist_af561_00019</td><td>PENDING   </td><td>                   </td><td style=\"text-align: right;\">6.47251e-05</td><td style=\"text-align: right;\">  0.821736</td><td style=\"text-align: right;\">        </td><td style=\"text-align: right;\">      </td><td style=\"text-align: right;\">                </td></tr>\n",
       "<tr><td>train_mnist_af561_00000</td><td>TERMINATED</td><td>                   </td><td style=\"text-align: right;\">6.41811e-07</td><td style=\"text-align: right;\">  0.189627</td><td style=\"text-align: right;\">0.11875 </td><td style=\"text-align: right;\">    10</td><td style=\"text-align: right;\">         21.3846</td></tr>\n",
       "<tr><td>train_mnist_af561_00001</td><td>TERMINATED</td><td>                   </td><td style=\"text-align: right;\">2.92354e-09</td><td style=\"text-align: right;\">  0.501897</td><td style=\"text-align: right;\">0.1     </td><td style=\"text-align: right;\">    10</td><td style=\"text-align: right;\">         21.1354</td></tr>\n",
       "<tr><td>train_mnist_af561_00002</td><td>TERMINATED</td><td>                   </td><td style=\"text-align: right;\">1.01225e-08</td><td style=\"text-align: right;\">  0.383448</td><td style=\"text-align: right;\">0.084375</td><td style=\"text-align: right;\">    10</td><td style=\"text-align: right;\">         20.6104</td></tr>\n",
       "<tr><td>train_mnist_af561_00003</td><td>TERMINATED</td><td>                   </td><td style=\"text-align: right;\">1.55157e-06</td><td style=\"text-align: right;\">  0.778785</td><td style=\"text-align: right;\">0.10625 </td><td style=\"text-align: right;\">    10</td><td style=\"text-align: right;\">         20.5141</td></tr>\n",
       "<tr><td>train_mnist_af561_00004</td><td>TERMINATED</td><td>                   </td><td style=\"text-align: right;\">6.29387e-09</td><td style=\"text-align: right;\">  0.252046</td><td style=\"text-align: right;\">0.1125  </td><td style=\"text-align: right;\">    10</td><td style=\"text-align: right;\">         19.8356</td></tr>\n",
       "<tr><td>train_mnist_af561_00005</td><td>TERMINATED</td><td>                   </td><td style=\"text-align: right;\">2.83837e-05</td><td style=\"text-align: right;\">  0.635141</td><td style=\"text-align: right;\">0.05    </td><td style=\"text-align: right;\">    10</td><td style=\"text-align: right;\">         20.0418</td></tr>\n",
       "<tr><td>train_mnist_af561_00007</td><td>TERMINATED</td><td>                   </td><td style=\"text-align: right;\">3.41018e-08</td><td style=\"text-align: right;\">  0.485819</td><td style=\"text-align: right;\">0.171875</td><td style=\"text-align: right;\">    10</td><td style=\"text-align: right;\">         21.0427</td></tr>\n",
       "<tr><td>train_mnist_af561_00011</td><td>TERMINATED</td><td>                   </td><td style=\"text-align: right;\">0.158022   </td><td style=\"text-align: right;\">  0.285643</td><td style=\"text-align: right;\">0.91875 </td><td style=\"text-align: right;\">    10</td><td style=\"text-align: right;\">         11.6827</td></tr>\n",
       "<tr><td>train_mnist_af561_00013</td><td>TERMINATED</td><td>                   </td><td style=\"text-align: right;\">1.47123e-08</td><td style=\"text-align: right;\">  0.773651</td><td style=\"text-align: right;\">0.11875 </td><td style=\"text-align: right;\">    10</td><td style=\"text-align: right;\">         13.7249</td></tr>\n",
       "</tbody>\n",
       "</table><br><br>"
      ],
      "text/plain": [
       "<IPython.core.display.HTML object>"
      ]
     },
     "metadata": {},
     "output_type": "display_data"
    },
    {
     "name": "stderr",
     "output_type": "stream",
     "text": [
      " 53%|█████▎    | 869376/1648877 [00:25<00:24, 31835.20it/s]\n",
      " 99%|█████████▉| 9852928/9912422 [00:13<00:00, 418875.50it/s]\n",
      "9913344it [00:12, 784412.88it/s]                             \n",
      " 87%|████████▋ | 1428480/1648877 [00:06<00:01, 195906.21it/s]\n",
      "  4%|▍         | 437248/9912422 [00:01<00:30, 307709.99it/s]\n",
      "9913344it [00:13, 718866.69it/s]                             \n"
     ]
    },
    {
     "name": "stdout",
     "output_type": "stream",
     "text": [
      "\u001b[2m\u001b[36m(pid=16595)\u001b[0m Extracting {cwd}/data/MNIST/raw/train-images-idx3-ubyte.gz to {cwd}/data/MNIST/raw\n",
      "\u001b[2m\u001b[36m(pid=16925)\u001b[0m Downloading http://yann.lecun.com/exdb/mnist/train-images-idx3-ubyte.gz\n",
      "\u001b[2m\u001b[36m(pid=16584)\u001b[0m Extracting {cwd}/data/MNIST/raw/train-images-idx3-ubyte.gz to {cwd}/data/MNIST/raw\n",
      "\u001b[2m\u001b[36m(pid=16925)\u001b[0m Failed to download (trying next):\n",
      "\u001b[2m\u001b[36m(pid=16925)\u001b[0m HTTP Error 503: Service Unavailable\n",
      "\u001b[2m\u001b[36m(pid=16925)\u001b[0m \n",
      "\u001b[2m\u001b[36m(pid=16925)\u001b[0m Downloading https://ossci-datasets.s3.amazonaws.com/mnist/train-images-idx3-ubyte.gz\n"
     ]
    },
    {
     "name": "stderr",
     "output_type": "stream",
     "text": [
      " 90%|████████▉ | 1480704/1648877 [00:06<00:00, 224762.94it/s]\n",
      "  5%|▌         | 541696/9912422 [00:01<00:25, 368211.47it/s]\n",
      " 53%|█████▎    | 877568/1648877 [00:25<00:23, 32212.69it/s]\n",
      " 93%|█████████▎| 1532928/1648877 [00:06<00:00, 254899.78it/s]\n",
      "  6%|▋         | 628736/9912422 [00:01<00:22, 418951.61it/s]\n"
     ]
    },
    {
     "name": "stdout",
     "output_type": "stream",
     "text": [
      "\u001b[2m\u001b[36m(pid=16595)\u001b[0m \n",
      "\u001b[2m\u001b[36m(pid=16595)\u001b[0m Downloading http://yann.lecun.com/exdb/mnist/train-labels-idx1-ubyte.gz\n",
      "\u001b[2m\u001b[36m(pid=16584)\u001b[0m \n",
      "\u001b[2m\u001b[36m(pid=16584)\u001b[0m Downloading http://yann.lecun.com/exdb/mnist/train-labels-idx1-ubyte.gz\n",
      "\u001b[2m\u001b[36m(pid=16925)\u001b[0m Downloading https://ossci-datasets.s3.amazonaws.com/mnist/train-images-idx3-ubyte.gz to {cwd}/data/MNIST/raw/train-images-idx3-ubyte.gz\n",
      "\u001b[2m\u001b[36m(pid=16584)\u001b[0m Failed to download (trying next):\n",
      "\u001b[2m\u001b[36m(pid=16584)\u001b[0m HTTP Error 503: Service Unavailable\n",
      "\u001b[2m\u001b[36m(pid=16584)\u001b[0m \n",
      "\u001b[2m\u001b[36m(pid=16584)\u001b[0m Downloading https://ossci-datasets.s3.amazonaws.com/mnist/train-labels-idx1-ubyte.gz\n",
      "\u001b[2m\u001b[36m(pid=16588)\u001b[0m Failed to download (trying next):\n",
      "\u001b[2m\u001b[36m(pid=16588)\u001b[0m HTTP Error 503: Service Unavailable\n",
      "\u001b[2m\u001b[36m(pid=16588)\u001b[0m \n",
      "\u001b[2m\u001b[36m(pid=16588)\u001b[0m Downloading https://ossci-datasets.s3.amazonaws.com/mnist/t10k-labels-idx1-ubyte.gz\n",
      "\u001b[2m\u001b[36m(pid=16597)\u001b[0m Extracting {cwd}/data/MNIST/raw/t10k-images-idx3-ubyte.gz to {cwd}/data/MNIST/raw\n",
      "\u001b[2m\u001b[36m(pid=16595)\u001b[0m Failed to download (trying next):\n",
      "\u001b[2m\u001b[36m(pid=16595)\u001b[0m HTTP Error 503: Service Unavailable\n",
      "\u001b[2m\u001b[36m(pid=16595)\u001b[0m \n",
      "\u001b[2m\u001b[36m(pid=16595)\u001b[0m Downloading https://ossci-datasets.s3.amazonaws.com/mnist/train-labels-idx1-ubyte.gz\n"
     ]
    },
    {
     "name": "stderr",
     "output_type": "stream",
     "text": [
      " 54%|█████▎    | 885760/1648877 [00:26<00:23, 31911.29it/s]\n",
      " 96%|█████████▌| 1585152/1648877 [00:06<00:00, 265177.66it/s]\n",
      "  8%|▊         | 750592/9912422 [00:01<00:19, 473560.09it/s]\n",
      "1649664it [00:06, 236331.82it/s]                             \n",
      "  9%|▉         | 872448/9912422 [00:01<00:16, 554171.77it/s]\n"
     ]
    },
    {
     "name": "stdout",
     "output_type": "stream",
     "text": [
      "\u001b[2m\u001b[36m(pid=16597)\u001b[0m \n",
      "\u001b[2m\u001b[36m(pid=16597)\u001b[0m Downloading http://yann.lecun.com/exdb/mnist/t10k-labels-idx1-ubyte.gz\n",
      "\u001b[2m\u001b[36m(pid=16597)\u001b[0m Failed to download (trying next):\n",
      "\u001b[2m\u001b[36m(pid=16597)\u001b[0m HTTP Error 503: Service Unavailable\n",
      "\u001b[2m\u001b[36m(pid=16597)\u001b[0m \n",
      "\u001b[2m\u001b[36m(pid=16597)\u001b[0m Downloading https://ossci-datasets.s3.amazonaws.com/mnist/t10k-labels-idx1-ubyte.gz\n",
      "\u001b[2m\u001b[36m(pid=16584)\u001b[0m Downloading https://ossci-datasets.s3.amazonaws.com/mnist/train-labels-idx1-ubyte.gz to {cwd}/data/MNIST/raw/train-labels-idx1-ubyte.gz\n",
      "\u001b[2m\u001b[36m(pid=16588)\u001b[0m Downloading https://ossci-datasets.s3.amazonaws.com/mnist/t10k-labels-idx1-ubyte.gz to {cwd}/data/MNIST/raw/t10k-labels-idx1-ubyte.gz\n",
      "\u001b[2m\u001b[36m(pid=16595)\u001b[0m Downloading https://ossci-datasets.s3.amazonaws.com/mnist/train-labels-idx1-ubyte.gz to {cwd}/data/MNIST/raw/train-labels-idx1-ubyte.gz\n"
     ]
    },
    {
     "name": "stderr",
     "output_type": "stream",
     "text": [
      "  0%|          | 0/9912422 [00:00<?, ?it/s]\n",
      " 54%|█████▍    | 893952/1648877 [00:26<00:23, 32021.49it/s]\n",
      " 10%|█         | 994304/9912422 [00:01<00:14, 621489.93it/s]\n",
      "  1%|          | 73728/9912422 [00:00<00:16, 583052.52it/s]\n",
      " 11%|█▏        | 1133568/9912422 [00:02<00:12, 705135.42it/s]\n",
      "  4%|▎         | 352256/9912422 [00:00<00:12, 764298.00it/s]\n",
      " 55%|█████▍    | 902144/1648877 [00:26<00:23, 31673.05it/s]\n",
      "  0%|          | 0/28881 [00:00<?, ?it/s]\n",
      "5120it [00:00, 5348651.68it/s]          \n",
      "\u001b[2m\u001b[36m(pid=16588)\u001b[0m /home/therealchainman/miniconda3/lib/python3.8/site-packages/torchvision/datasets/mnist.py:498: UserWarning: The given NumPy array is not writeable, and PyTorch does not support non-writeable tensors. This means you can write to the underlying (supposedly non-writeable) NumPy array using the tensor. You may want to copy the array to protect its data or make it writeable before converting it to a tensor. This type of warning will be suppressed for the rest of this program. (Triggered internally at  /pytorch/torch/csrc/utils/tensor_numpy.cpp:180.)\n",
      "\u001b[2m\u001b[36m(pid=16588)\u001b[0m   return torch.from_numpy(parsed.astype(m[2], copy=False)).view(*s)\n",
      "  0%|          | 0/28881 [00:00<?, ?it/s]\n",
      " 13%|█▎        | 1272832/9912422 [00:02<00:11, 779218.54it/s]\n",
      "  9%|▉         | 891904/9912422 [00:00<00:08, 1029190.34it/s]\n",
      "29696it [00:00, 725594.21it/s]           \n",
      "\u001b[2m\u001b[36m(pid=16588)\u001b[0m /home/therealchainman/miniconda3/lib/python3.8/site-packages/torch/nn/functional.py:718: UserWarning: Named tensors and all their associated APIs are an experimental feature and subject to change. Please do not use them for anything important until they are released as stable. (Triggered internally at  /pytorch/c10/core/TensorImpl.h:1156.)\n",
      "\u001b[2m\u001b[36m(pid=16588)\u001b[0m   return torch.max_pool2d(input, kernel_size, stride, padding, dilation, ceil_mode)\n",
      "29696it [00:00, 706890.19it/s]           \n"
     ]
    },
    {
     "name": "stdout",
     "output_type": "stream",
     "text": [
      "\u001b[2m\u001b[36m(pid=16588)\u001b[0m Extracting {cwd}/data/MNIST/raw/t10k-labels-idx1-ubyte.gz to {cwd}/data/MNIST/raw\n",
      "\u001b[2m\u001b[36m(pid=16588)\u001b[0m \n",
      "\u001b[2m\u001b[36m(pid=16597)\u001b[0m Downloading https://ossci-datasets.s3.amazonaws.com/mnist/t10k-labels-idx1-ubyte.gz to {cwd}/data/MNIST/raw/t10k-labels-idx1-ubyte.gz\n",
      "\u001b[2m\u001b[36m(pid=16584)\u001b[0m Extracting {cwd}/data/MNIST/raw/train-labels-idx1-ubyte.gz to {cwd}/data/MNIST/raw\n",
      "\u001b[2m\u001b[36m(pid=16584)\u001b[0m \n",
      "\u001b[2m\u001b[36m(pid=16584)\u001b[0m Downloading http://yann.lecun.com/exdb/mnist/t10k-images-idx3-ubyte.gz\n",
      "\u001b[2m\u001b[36m(pid=16595)\u001b[0m Extracting {cwd}/data/MNIST/raw/train-labels-idx1-ubyte.gz to {cwd}/data/MNIST/raw\n",
      "\u001b[2m\u001b[36m(pid=16595)\u001b[0m \n",
      "\u001b[2m\u001b[36m(pid=16595)\u001b[0m Downloading http://yann.lecun.com/exdb/mnist/t10k-images-idx3-ubyte.gz\n",
      "\u001b[2m\u001b[36m(pid=16584)\u001b[0m Failed to download (trying next):\n",
      "\u001b[2m\u001b[36m(pid=16584)\u001b[0m HTTP Error 503: Service Unavailable\n",
      "\u001b[2m\u001b[36m(pid=16584)\u001b[0m \n",
      "\u001b[2m\u001b[36m(pid=16584)\u001b[0m Downloading https://ossci-datasets.s3.amazonaws.com/mnist/t10k-images-idx3-ubyte.gz\n",
      "\u001b[2m\u001b[36m(pid=16595)\u001b[0m Downloading http://yann.lecun.com/exdb/mnist/t10k-images-idx3-ubyte.gz to {cwd}/data/MNIST/raw/t10k-images-idx3-ubyte.gz\n"
     ]
    },
    {
     "name": "stderr",
     "output_type": "stream",
     "text": [
      " 14%|█▍        | 1377280/9912422 [00:02<00:10, 835922.04it/s]\n",
      " 15%|█▍        | 1447936/9912422 [00:00<00:06, 1354266.76it/s]\n",
      " 55%|█████▌    | 910336/1648877 [00:26<00:22, 32816.37it/s]\n",
      "5120it [00:00, 6010309.68it/s]          \n",
      "\u001b[2m\u001b[36m(pid=16597)\u001b[0m /home/therealchainman/miniconda3/lib/python3.8/site-packages/torchvision/datasets/mnist.py:498: UserWarning: The given NumPy array is not writeable, and PyTorch does not support non-writeable tensors. This means you can write to the underlying (supposedly non-writeable) NumPy array using the tensor. You may want to copy the array to protect its data or make it writeable before converting it to a tensor. This type of warning will be suppressed for the rest of this program. (Triggered internally at  /pytorch/torch/csrc/utils/tensor_numpy.cpp:180.)\n",
      "\u001b[2m\u001b[36m(pid=16597)\u001b[0m   return torch.from_numpy(parsed.astype(m[2], copy=False)).view(*s)\n",
      " 20%|██        | 2006016/9912422 [00:00<00:04, 1750269.90it/s]\n",
      " 15%|█▌        | 1533952/9912422 [00:02<00:09, 916542.66it/s]\n",
      "\u001b[2m\u001b[36m(pid=16597)\u001b[0m /home/therealchainman/miniconda3/lib/python3.8/site-packages/torch/nn/functional.py:718: UserWarning: Named tensors and all their associated APIs are an experimental feature and subject to change. Please do not use them for anything important until they are released as stable. (Triggered internally at  /pytorch/c10/core/TensorImpl.h:1156.)\n",
      "\u001b[2m\u001b[36m(pid=16597)\u001b[0m   return torch.max_pool2d(input, kernel_size, stride, padding, dilation, ceil_mode)\n"
     ]
    },
    {
     "name": "stdout",
     "output_type": "stream",
     "text": [
      "\u001b[2m\u001b[36m(pid=16597)\u001b[0m Extracting {cwd}/data/MNIST/raw/t10k-labels-idx1-ubyte.gz to {cwd}/data/MNIST/raw\n",
      "\u001b[2m\u001b[36m(pid=16597)\u001b[0m \n",
      "Result for train_mnist_af561_00010:\n",
      "  date: 2021-06-22_16-42-48\n",
      "  done: false\n",
      "  experiment_id: 178151aa21a344d59c80395d36554edb\n",
      "  hostname: therealchainman\n",
      "  iterations_since_restore: 1\n",
      "  mean_accuracy: 0.303125\n",
      "  node_ip: 192.168.1.106\n",
      "  pid: 16588\n",
      "  time_since_restore: 15.98899507522583\n",
      "  time_this_iter_s: 15.98899507522583\n",
      "  time_total_s: 15.98899507522583\n",
      "  timestamp: 1624398168\n",
      "  timesteps_since_restore: 0\n",
      "  training_iteration: 1\n",
      "  trial_id: af561_00010\n",
      "  \n",
      "\u001b[2m\u001b[36m(pid=16595)\u001b[0m Failed to download (trying next):\n",
      "\u001b[2m\u001b[36m(pid=16595)\u001b[0m HTTP Error 503: Service Unavailable\n",
      "\u001b[2m\u001b[36m(pid=16595)\u001b[0m \n",
      "\u001b[2m\u001b[36m(pid=16595)\u001b[0m Downloading https://ossci-datasets.s3.amazonaws.com/mnist/t10k-images-idx3-ubyte.gz\n",
      "Result for train_mnist_af561_00014:\n",
      "  date: 2021-06-22_16-42-48\n",
      "  done: true\n",
      "  experiment_id: b97f616e065a442fb72e4b78faeb1fb1\n",
      "  experiment_tag: 14_lr=1.2549e-10,momentum=0.83855\n",
      "  hostname: therealchainman\n",
      "  iterations_since_restore: 10\n",
      "  mean_accuracy: 0.0625\n",
      "  node_ip: 192.168.1.106\n",
      "  pid: 16590\n",
      "  time_since_restore: 15.97334361076355\n",
      "  time_this_iter_s: 0.26303815841674805\n",
      "  time_total_s: 15.97334361076355\n",
      "  timestamp: 1624398168\n",
      "  timesteps_since_restore: 0\n",
      "  training_iteration: 10\n",
      "  trial_id: af561_00014\n",
      "  \n"
     ]
    },
    {
     "name": "stderr",
     "output_type": "stream",
     "text": [
      " 17%|█▋        | 1638400/9912422 [00:02<00:08, 950262.50it/s]\n",
      " 27%|██▋       | 2650112/9912422 [00:00<00:03, 2212831.59it/s]\n",
      " 56%|█████▌    | 918528/1648877 [00:27<00:22, 32546.41it/s]\n",
      " 18%|█▊        | 1777664/9912422 [00:02<00:07, 1048437.59it/s]\n",
      " 35%|███▍      | 3433472/9912422 [00:00<00:02, 2816151.11it/s]\n"
     ]
    },
    {
     "name": "stdout",
     "output_type": "stream",
     "text": [
      "\u001b[2m\u001b[36m(pid=16584)\u001b[0m Downloading https://ossci-datasets.s3.amazonaws.com/mnist/t10k-images-idx3-ubyte.gz to {cwd}/data/MNIST/raw/t10k-images-idx3-ubyte.gz\n",
      "Result for train_mnist_af561_00008:\n",
      "  date: 2021-06-22_16-42-48\n",
      "  done: false\n",
      "  experiment_id: b9d189b89aa54866958d98d7f567524f\n",
      "  hostname: therealchainman\n",
      "  iterations_since_restore: 1\n",
      "  mean_accuracy: 0.040625\n",
      "  node_ip: 192.168.1.106\n",
      "  pid: 16597\n",
      "  time_since_restore: 15.57449197769165\n",
      "  time_this_iter_s: 15.57449197769165\n",
      "  time_total_s: 15.57449197769165\n",
      "  timestamp: 1624398168\n",
      "  timesteps_since_restore: 0\n",
      "  training_iteration: 1\n",
      "  trial_id: af561_00008\n",
      "  \n",
      "\u001b[2m\u001b[36m(pid=16595)\u001b[0m Downloading https://ossci-datasets.s3.amazonaws.com/mnist/t10k-images-idx3-ubyte.gz to {cwd}/data/MNIST/raw/t10k-images-idx3-ubyte.gz\n"
     ]
    },
    {
     "name": "stderr",
     "output_type": "stream",
     "text": [
      " 19%|█▉        | 1916928/9912422 [00:02<00:07, 1066576.20it/s]\n",
      " 42%|████▏     | 4129792/9912422 [00:00<00:01, 3408269.28it/s]\n",
      " 48%|████▊     | 4710400/9912422 [00:00<00:01, 3845070.23it/s]\n",
      "  0%|          | 0/1648877 [00:00<?, ?it/s]\n",
      " 20%|██        | 2029568/9912422 [00:02<00:07, 1073204.37it/s]\n",
      " 56%|█████▌    | 926720/1648877 [00:27<00:22, 32218.11it/s]\n",
      " 55%|█████▍    | 5417984/9912422 [00:01<00:01, 4439110.55it/s]\n",
      "  2%|▏         | 38912/1648877 [00:00<00:04, 343457.11it/s]\n",
      " 22%|██▏       | 2141184/9912422 [00:02<00:07, 1022991.49it/s]\n",
      " 61%|██████    | 6062080/9912422 [00:01<00:00, 4884954.64it/s]\n",
      "  9%|▊         | 143360/1648877 [00:00<00:03, 424692.45it/s]\n",
      " 23%|██▎       | 2246656/9912422 [00:03<00:07, 967291.94it/s] \n",
      " 57%|█████▋    | 934912/1648877 [00:27<00:22, 32249.21it/s]\n",
      "  0%|          | 0/1648877 [00:00<?, ?it/s]\n",
      " 67%|██████▋   | 6679552/9912422 [00:01<00:00, 5194922.88it/s]\n",
      " 25%|██▍       | 404480/1648877 [00:00<00:02, 564287.52it/s]\n",
      " 24%|██▎       | 2352128/9912422 [00:03<00:07, 975528.50it/s]\n",
      " 77%|███████▋  | 7610368/9912422 [00:01<00:00, 5988514.96it/s]\n",
      "  2%|▏         | 33792/1648877 [00:00<00:05, 294275.40it/s]\n",
      " 43%|████▎     | 710656/1648877 [00:00<00:01, 747104.01it/s]\n",
      " 25%|██▍       | 2473984/9912422 [00:03<00:07, 988869.04it/s]\n",
      " 87%|████████▋ | 8607744/9912422 [00:01<00:00, 6625953.56it/s]\n",
      " 57%|█████▋    | 943104/1648877 [00:27<00:21, 32608.82it/s]\n",
      " 55%|█████▌    | 908288/1648877 [00:00<00:00, 911104.25it/s]\n",
      "  9%|▉         | 155648/1648877 [00:00<00:04, 372478.33it/s]\n",
      " 26%|██▌       | 2595840/9912422 [00:03<00:06, 1045829.10it/s]\n",
      " 96%|█████████▌| 9474048/9912422 [00:01<00:00, 7128807.16it/s]\n",
      "\u001b[2m\u001b[33m(raylet)\u001b[0m /home/therealchainman/miniconda3/lib/python3.8/site-packages/ray/autoscaler/_private/cli_logger.py:57: FutureWarning: Not all Ray CLI dependencies were found. In Ray 1.4+, the Ray CLI, autoscaler, and dashboard will only be usable via `pip install 'ray[default]'`. Please update your install command.\n",
      "\u001b[2m\u001b[33m(raylet)\u001b[0m   warnings.warn(\n",
      "9913344it [00:01, 6095647.87it/s]                             \n",
      " 76%|███████▋  | 1257472/1648877 [00:00<00:00, 1129141.07it/s]\n",
      " 32%|███▏      | 521216/1648877 [00:00<00:02, 499677.02it/s]\n",
      " 27%|██▋       | 2702336/9912422 [00:03<00:07, 998788.95it/s] \n",
      " 58%|█████▊    | 951296/1648877 [00:28<00:21, 33135.78it/s]\n",
      "1649664it [00:00, 2187783.13it/s]                             \n",
      " 58%|█████▊    | 956416/1648877 [00:00<00:01, 677181.92it/s]\n",
      " 28%|██▊       | 2822144/9912422 [00:03<00:06, 1020210.97it/s]\n"
     ]
    },
    {
     "name": "stdout",
     "output_type": "stream",
     "text": [
      "\u001b[2m\u001b[36m(pid=16925)\u001b[0m Extracting {cwd}/data/MNIST/raw/train-images-idx3-ubyte.gz to {cwd}/data/MNIST/raw\n",
      "\u001b[2m\u001b[36m(pid=16584)\u001b[0m Extracting {cwd}/data/MNIST/raw/t10k-images-idx3-ubyte.gz to {cwd}/data/MNIST/raw\n"
     ]
    },
    {
     "name": "stderr",
     "output_type": "stream",
     "text": [
      " 88%|████████▊ | 1444864/1648877 [00:00<00:00, 913051.32it/s]\n",
      " 31%|███       | 3027968/9912422 [00:03<00:05, 1202075.79it/s]\n",
      "1649664it [00:00, 2625740.92it/s]                            \n",
      " 58%|█████▊    | 959488/1648877 [00:28<00:20, 33434.07it/s]\n",
      " 32%|███▏      | 3170304/9912422 [00:03<00:05, 1155179.27it/s]\n"
     ]
    },
    {
     "name": "stdout",
     "output_type": "stream",
     "text": [
      "\u001b[2m\u001b[36m(pid=16584)\u001b[0m \n",
      "\u001b[2m\u001b[36m(pid=16584)\u001b[0m Downloading http://yann.lecun.com/exdb/mnist/t10k-labels-idx1-ubyte.gz\n",
      "\u001b[2m\u001b[36m(pid=16584)\u001b[0m Failed to download (trying next):\n",
      "\u001b[2m\u001b[36m(pid=16584)\u001b[0m HTTP Error 503: Service Unavailable\n",
      "\u001b[2m\u001b[36m(pid=16584)\u001b[0m \n",
      "\u001b[2m\u001b[36m(pid=16584)\u001b[0m Downloading https://ossci-datasets.s3.amazonaws.com/mnist/t10k-labels-idx1-ubyte.gz\n"
     ]
    },
    {
     "name": "stderr",
     "output_type": "stream",
     "text": [
      " 34%|███▍      | 3395584/9912422 [00:04<00:05, 1280874.63it/s]\n",
      " 59%|█████▊    | 967680/1648877 [00:28<00:20, 33720.49it/s]\n",
      " 37%|███▋      | 3622912/9912422 [00:04<00:04, 1379345.20it/s]\n"
     ]
    },
    {
     "name": "stdout",
     "output_type": "stream",
     "text": [
      "\u001b[2m\u001b[36m(pid=16584)\u001b[0m Downloading https://ossci-datasets.s3.amazonaws.com/mnist/t10k-labels-idx1-ubyte.gz to {cwd}/data/MNIST/raw/t10k-labels-idx1-ubyte.gz\n",
      "\u001b[2m\u001b[36m(pid=16595)\u001b[0m Extracting {cwd}/data/MNIST/raw/t10k-images-idx3-ubyte.gz to {cwd}/data/MNIST/raw\n"
     ]
    },
    {
     "name": "stderr",
     "output_type": "stream",
     "text": [
      " 39%|███▉      | 3849216/9912422 [00:04<00:04, 1497741.59it/s]\n",
      " 59%|█████▉    | 975872/1648877 [00:28<00:20, 32908.32it/s]\n",
      " 41%|████      | 4023296/9912422 [00:04<00:03, 1534736.95it/s]\n",
      " 43%|████▎     | 4249600/9912422 [00:04<00:03, 1692698.92it/s]\n"
     ]
    },
    {
     "name": "stdout",
     "output_type": "stream",
     "text": [
      "\u001b[2m\u001b[36m(pid=16584)\u001b[0m Extracting {cwd}/data/MNIST/raw/t10k-labels-idx1-ubyte.gz to {cwd}/data/MNIST/raw\n",
      "\u001b[2m\u001b[36m(pid=16584)\u001b[0m \n",
      "\u001b[2m\u001b[36m(pid=16595)\u001b[0m \n",
      "\u001b[2m\u001b[36m(pid=16595)\u001b[0m Downloading http://yann.lecun.com/exdb/mnist/t10k-labels-idx1-ubyte.gz\n"
     ]
    },
    {
     "name": "stderr",
     "output_type": "stream",
     "text": [
      "5120it [00:00, 918120.41it/s]           \n",
      " 45%|████▍     | 4440064/9912422 [00:04<00:03, 1692883.85it/s]\n",
      " 60%|█████▉    | 984064/1648877 [00:29<00:20, 32805.20it/s]\n",
      "\u001b[2m\u001b[36m(pid=16584)\u001b[0m /home/therealchainman/miniconda3/lib/python3.8/site-packages/torchvision/datasets/mnist.py:498: UserWarning: The given NumPy array is not writeable, and PyTorch does not support non-writeable tensors. This means you can write to the underlying (supposedly non-writeable) NumPy array using the tensor. You may want to copy the array to protect its data or make it writeable before converting it to a tensor. This type of warning will be suppressed for the rest of this program. (Triggered internally at  /pytorch/torch/csrc/utils/tensor_numpy.cpp:180.)\n",
      "\u001b[2m\u001b[36m(pid=16584)\u001b[0m   return torch.from_numpy(parsed.astype(m[2], copy=False)).view(*s)\n",
      " 47%|████▋     | 4684800/9912422 [00:04<00:02, 1765567.24it/s]\n",
      "\u001b[2m\u001b[36m(pid=16584)\u001b[0m /home/therealchainman/miniconda3/lib/python3.8/site-packages/torch/nn/functional.py:718: UserWarning: Named tensors and all their associated APIs are an experimental feature and subject to change. Please do not use them for anything important until they are released as stable. (Triggered internally at  /pytorch/c10/core/TensorImpl.h:1156.)\n",
      "\u001b[2m\u001b[36m(pid=16584)\u001b[0m   return torch.max_pool2d(input, kernel_size, stride, padding, dilation, ceil_mode)\n",
      " 50%|████▉     | 4911104/9912422 [00:04<00:02, 1890104.59it/s]\n",
      " 60%|██████    | 992256/1648877 [00:29<00:20, 32574.13it/s]\n",
      " 52%|█████▏    | 5136384/9912422 [00:04<00:02, 1958420.27it/s]\n"
     ]
    },
    {
     "name": "stdout",
     "output_type": "stream",
     "text": [
      "\u001b[2m\u001b[36m(pid=16595)\u001b[0m Failed to download (trying next):\n",
      "\u001b[2m\u001b[36m(pid=16595)\u001b[0m HTTP Error 503: Service Unavailable\n",
      "\u001b[2m\u001b[36m(pid=16595)\u001b[0m \n",
      "\u001b[2m\u001b[36m(pid=16595)\u001b[0m Downloading https://ossci-datasets.s3.amazonaws.com/mnist/t10k-labels-idx1-ubyte.gz\n"
     ]
    },
    {
     "name": "stderr",
     "output_type": "stream",
     "text": [
      " 54%|█████▍    | 5338112/9912422 [00:05<00:02, 1915619.42it/s]\n",
      " 61%|██████    | 1000448/1648877 [00:29<00:20, 32332.61it/s]\n",
      " 56%|█████▋    | 5580800/9912422 [00:05<00:02, 2041263.18it/s]\n"
     ]
    },
    {
     "name": "stdout",
     "output_type": "stream",
     "text": [
      "\u001b[2m\u001b[36m(pid=16595)\u001b[0m Downloading https://ossci-datasets.s3.amazonaws.com/mnist/t10k-labels-idx1-ubyte.gz to {cwd}/data/MNIST/raw/t10k-labels-idx1-ubyte.gz\n",
      "\u001b[2m\u001b[36m(pid=16925)\u001b[0m \n",
      "\u001b[2m\u001b[36m(pid=16925)\u001b[0m Downloading http://yann.lecun.com/exdb/mnist/train-labels-idx1-ubyte.gz\n"
     ]
    },
    {
     "name": "stderr",
     "output_type": "stream",
     "text": [
      " 59%|█████▊    | 5798912/9912422 [00:05<00:02, 1995764.22it/s]\n",
      " 61%|██████    | 1008640/1648877 [00:29<00:19, 32872.82it/s]\n",
      "5120it [00:00, 1341841.82it/s]          \n",
      " 61%|██████▏   | 6077440/9912422 [00:05<00:01, 2054385.29it/s]\n",
      " 64%|██████▎   | 6303744/9912422 [00:05<00:01, 2105154.58it/s]\n",
      "\u001b[2m\u001b[36m(pid=16595)\u001b[0m /home/therealchainman/miniconda3/lib/python3.8/site-packages/torchvision/datasets/mnist.py:498: UserWarning: The given NumPy array is not writeable, and PyTorch does not support non-writeable tensors. This means you can write to the underlying (supposedly non-writeable) NumPy array using the tensor. You may want to copy the array to protect its data or make it writeable before converting it to a tensor. This type of warning will be suppressed for the rest of this program. (Triggered internally at  /pytorch/torch/csrc/utils/tensor_numpy.cpp:180.)\n",
      "\u001b[2m\u001b[36m(pid=16595)\u001b[0m   return torch.from_numpy(parsed.astype(m[2], copy=False)).view(*s)\n"
     ]
    },
    {
     "name": "stdout",
     "output_type": "stream",
     "text": [
      "\u001b[2m\u001b[36m(pid=16595)\u001b[0m Extracting {cwd}/data/MNIST/raw/t10k-labels-idx1-ubyte.gz to {cwd}/data/MNIST/raw\n",
      "\u001b[2m\u001b[36m(pid=16595)\u001b[0m \n",
      "\u001b[2m\u001b[36m(pid=16925)\u001b[0m Downloading http://yann.lecun.com/exdb/mnist/train-labels-idx1-ubyte.gz to {cwd}/data/MNIST/raw/train-labels-idx1-ubyte.gz\n",
      "\u001b[2m\u001b[36m(pid=16925)\u001b[0m Extracting {cwd}/data/MNIST/raw/train-labels-idx1-ubyte.gz to {cwd}/data/MNIST/raw\n",
      "\u001b[2m\u001b[36m(pid=16925)\u001b[0m \n",
      "\u001b[2m\u001b[36m(pid=16925)\u001b[0m Downloading http://yann.lecun.com/exdb/mnist/t10k-images-idx3-ubyte.gz\n"
     ]
    },
    {
     "name": "stderr",
     "output_type": "stream",
     "text": [
      "29696it [00:00, 845684.14it/s]           \n",
      "\u001b[2m\u001b[36m(pid=16595)\u001b[0m /home/therealchainman/miniconda3/lib/python3.8/site-packages/torch/nn/functional.py:718: UserWarning: Named tensors and all their associated APIs are an experimental feature and subject to change. Please do not use them for anything important until they are released as stable. (Triggered internally at  /pytorch/c10/core/TensorImpl.h:1156.)\n",
      "\u001b[2m\u001b[36m(pid=16595)\u001b[0m   return torch.max_pool2d(input, kernel_size, stride, padding, dilation, ceil_mode)\n",
      " 66%|██████▋   | 6582272/9912422 [00:05<00:01, 2244644.24it/s]\n",
      " 62%|██████▏   | 1016832/1648877 [00:30<00:19, 33264.38it/s]\n",
      " 69%|██████▊   | 6811648/9912422 [00:05<00:01, 2113513.35it/s]\n"
     ]
    },
    {
     "name": "stdout",
     "output_type": "stream",
     "text": [
      "\u001b[2m\u001b[36m(pid=16925)\u001b[0m Downloading http://yann.lecun.com/exdb/mnist/t10k-images-idx3-ubyte.gz to {cwd}/data/MNIST/raw/t10k-images-idx3-ubyte.gz\n",
      "\u001b[2m\u001b[36m(pid=16925)\u001b[0m Failed to download (trying next):\n",
      "\u001b[2m\u001b[36m(pid=16925)\u001b[0m HTTP Error 503: Service Unavailable\n",
      "\u001b[2m\u001b[36m(pid=16925)\u001b[0m \n",
      "\u001b[2m\u001b[36m(pid=16925)\u001b[0m Downloading https://ossci-datasets.s3.amazonaws.com/mnist/t10k-images-idx3-ubyte.gz\n"
     ]
    },
    {
     "name": "stderr",
     "output_type": "stream",
     "text": [
      " 62%|██████▏   | 1025024/1648877 [00:30<00:18, 33421.31it/s]\n",
      " 72%|███████▏  | 7121920/9912422 [00:05<00:01, 2199665.72it/s]\n",
      " 75%|███████▌  | 7435264/9912422 [00:05<00:01, 2334585.90it/s]\n",
      " 77%|███████▋  | 7673856/9912422 [00:06<00:00, 2347250.04it/s]\n"
     ]
    },
    {
     "name": "stdout",
     "output_type": "stream",
     "text": [
      "Result for train_mnist_af561_00012:\n",
      "  date: 2021-06-22_16-42-51\n",
      "  done: false\n",
      "  experiment_id: 65ef7b4d08084fadb81f8c48ff894224\n",
      "  hostname: therealchainman\n",
      "  iterations_since_restore: 1\n",
      "  mean_accuracy: 0.090625\n",
      "  node_ip: 192.168.1.106\n",
      "  pid: 16584\n",
      "  time_since_restore: 19.4814236164093\n",
      "  time_this_iter_s: 19.4814236164093\n",
      "  time_total_s: 19.4814236164093\n",
      "  timestamp: 1624398171\n",
      "  timesteps_since_restore: 0\n",
      "  training_iteration: 1\n",
      "  trial_id: af561_00012\n",
      "  \n",
      "\u001b[2m\u001b[36m(pid=16925)\u001b[0m Downloading https://ossci-datasets.s3.amazonaws.com/mnist/t10k-images-idx3-ubyte.gz to {cwd}/data/MNIST/raw/t10k-images-idx3-ubyte.gz\n"
     ]
    },
    {
     "name": "stderr",
     "output_type": "stream",
     "text": [
      " 63%|██████▎   | 1033216/1648877 [00:30<00:18, 32811.00it/s]\n",
      " 80%|███████▉  | 7912448/9912422 [00:06<00:00, 2333622.94it/s]\n",
      " 83%|████████▎ | 8218624/9912422 [00:06<00:00, 2323122.78it/s]\n",
      " 63%|██████▎   | 1041408/1648877 [00:30<00:18, 32760.50it/s]\n",
      " 86%|████████▋ | 8566784/9912422 [00:06<00:00, 2415760.47it/s]\n",
      "  0%|          | 0/1648877 [00:00<?, ?it/s]\n",
      " 90%|████████▉ | 8879104/9912422 [00:06<00:00, 2591743.91it/s]\n",
      "  4%|▎         | 60416/1648877 [00:00<00:03, 454084.24it/s]\n",
      " 64%|██████▎   | 1049600/1648877 [00:31<00:18, 32364.09it/s]\n",
      " 92%|█████████▏| 9144320/9912422 [00:06<00:00, 2504623.00it/s]\n",
      " 21%|██        | 338944/1648877 [00:00<00:02, 602569.63it/s]\n",
      " 83%|████████▎ | 1366016/1648877 [00:00<00:00, 839371.17it/s]\n",
      " 95%|█████████▍| 9399296/9912422 [00:06<00:00, 2462673.13it/s]\n",
      "1649664it [00:00, 4389459.19it/s]                            \n",
      " 64%|██████▍   | 1057792/1648877 [00:31<00:17, 33027.63it/s]\n",
      " 98%|█████████▊| 9680896/9912422 [00:06<00:00, 2511799.05it/s]\n",
      "9913344it [00:06, 1432089.64it/s]                             \n"
     ]
    },
    {
     "name": "stdout",
     "output_type": "stream",
     "text": [
      "\u001b[2m\u001b[36m(pid=16899)\u001b[0m Extracting {cwd}/data/MNIST/raw/train-images-idx3-ubyte.gz to {cwd}/data/MNIST/raw\n",
      "\u001b[2m\u001b[36m(pid=16925)\u001b[0m Extracting {cwd}/data/MNIST/raw/t10k-images-idx3-ubyte.gz to {cwd}/data/MNIST/raw\n"
     ]
    },
    {
     "data": {
      "text/html": [
       "== Status ==<br>Memory usage on this node: 5.3/15.5 GiB<br>Using FIFO scheduling algorithm.<br>Resources requested: 8.0/8 CPUs, 0/0 GPUs, 0.0/8.04 GiB heap, 0.0/4.02 GiB objects<br>Result logdir: /home/therealchainman/ray_results/train_mnist_2021-06-22_16-42-04<br>Number of trials: 20/20 (2 PENDING, 8 RUNNING, 10 TERMINATED)<br><table>\n",
       "<thead>\n",
       "<tr><th>Trial name             </th><th>status    </th><th>loc                </th><th style=\"text-align: right;\">         lr</th><th style=\"text-align: right;\">  momentum</th><th style=\"text-align: right;\">     acc</th><th style=\"text-align: right;\">  iter</th><th style=\"text-align: right;\">  total time (s)</th></tr>\n",
       "</thead>\n",
       "<tbody>\n",
       "<tr><td>train_mnist_af561_00006</td><td>RUNNING   </td><td>                   </td><td style=\"text-align: right;\">2.12237e-09</td><td style=\"text-align: right;\">  0.881509</td><td style=\"text-align: right;\">        </td><td style=\"text-align: right;\">      </td><td style=\"text-align: right;\">                </td></tr>\n",
       "<tr><td>train_mnist_af561_00008</td><td>RUNNING   </td><td>192.168.1.106:16597</td><td style=\"text-align: right;\">8.61318e-08</td><td style=\"text-align: right;\">  0.189483</td><td style=\"text-align: right;\">0.06875 </td><td style=\"text-align: right;\">     6</td><td style=\"text-align: right;\">         19.8638</td></tr>\n",
       "<tr><td>train_mnist_af561_00009</td><td>RUNNING   </td><td>                   </td><td style=\"text-align: right;\">0.00177473 </td><td style=\"text-align: right;\">  0.293255</td><td style=\"text-align: right;\">        </td><td style=\"text-align: right;\">      </td><td style=\"text-align: right;\">                </td></tr>\n",
       "<tr><td>train_mnist_af561_00010</td><td>RUNNING   </td><td>192.168.1.106:16588</td><td style=\"text-align: right;\">0.00564488 </td><td style=\"text-align: right;\">  0.869707</td><td style=\"text-align: right;\">0.815625</td><td style=\"text-align: right;\">     6</td><td style=\"text-align: right;\">         18.9847</td></tr>\n",
       "<tr><td>train_mnist_af561_00012</td><td>RUNNING   </td><td>192.168.1.106:16584</td><td style=\"text-align: right;\">4.68526e-05</td><td style=\"text-align: right;\">  0.233772</td><td style=\"text-align: right;\">0.090625</td><td style=\"text-align: right;\">     1</td><td style=\"text-align: right;\">         19.4814</td></tr>\n",
       "<tr><td>train_mnist_af561_00015</td><td>RUNNING   </td><td>                   </td><td style=\"text-align: right;\">3.72716e-09</td><td style=\"text-align: right;\">  0.462565</td><td style=\"text-align: right;\">        </td><td style=\"text-align: right;\">      </td><td style=\"text-align: right;\">                </td></tr>\n",
       "<tr><td>train_mnist_af561_00016</td><td>RUNNING   </td><td>                   </td><td style=\"text-align: right;\">3.09241e-07</td><td style=\"text-align: right;\">  0.21736 </td><td style=\"text-align: right;\">        </td><td style=\"text-align: right;\">      </td><td style=\"text-align: right;\">                </td></tr>\n",
       "<tr><td>train_mnist_af561_00017</td><td>RUNNING   </td><td>                   </td><td style=\"text-align: right;\">1.51156e-06</td><td style=\"text-align: right;\">  0.266795</td><td style=\"text-align: right;\">        </td><td style=\"text-align: right;\">      </td><td style=\"text-align: right;\">                </td></tr>\n",
       "<tr><td>train_mnist_af561_00018</td><td>PENDING   </td><td>                   </td><td style=\"text-align: right;\">2.21039e-06</td><td style=\"text-align: right;\">  0.66885 </td><td style=\"text-align: right;\">        </td><td style=\"text-align: right;\">      </td><td style=\"text-align: right;\">                </td></tr>\n",
       "<tr><td>train_mnist_af561_00019</td><td>PENDING   </td><td>                   </td><td style=\"text-align: right;\">6.47251e-05</td><td style=\"text-align: right;\">  0.821736</td><td style=\"text-align: right;\">        </td><td style=\"text-align: right;\">      </td><td style=\"text-align: right;\">                </td></tr>\n",
       "<tr><td>train_mnist_af561_00000</td><td>TERMINATED</td><td>                   </td><td style=\"text-align: right;\">6.41811e-07</td><td style=\"text-align: right;\">  0.189627</td><td style=\"text-align: right;\">0.11875 </td><td style=\"text-align: right;\">    10</td><td style=\"text-align: right;\">         21.3846</td></tr>\n",
       "<tr><td>train_mnist_af561_00001</td><td>TERMINATED</td><td>                   </td><td style=\"text-align: right;\">2.92354e-09</td><td style=\"text-align: right;\">  0.501897</td><td style=\"text-align: right;\">0.1     </td><td style=\"text-align: right;\">    10</td><td style=\"text-align: right;\">         21.1354</td></tr>\n",
       "<tr><td>train_mnist_af561_00002</td><td>TERMINATED</td><td>                   </td><td style=\"text-align: right;\">1.01225e-08</td><td style=\"text-align: right;\">  0.383448</td><td style=\"text-align: right;\">0.084375</td><td style=\"text-align: right;\">    10</td><td style=\"text-align: right;\">         20.6104</td></tr>\n",
       "<tr><td>train_mnist_af561_00003</td><td>TERMINATED</td><td>                   </td><td style=\"text-align: right;\">1.55157e-06</td><td style=\"text-align: right;\">  0.778785</td><td style=\"text-align: right;\">0.10625 </td><td style=\"text-align: right;\">    10</td><td style=\"text-align: right;\">         20.5141</td></tr>\n",
       "<tr><td>train_mnist_af561_00004</td><td>TERMINATED</td><td>                   </td><td style=\"text-align: right;\">6.29387e-09</td><td style=\"text-align: right;\">  0.252046</td><td style=\"text-align: right;\">0.1125  </td><td style=\"text-align: right;\">    10</td><td style=\"text-align: right;\">         19.8356</td></tr>\n",
       "<tr><td>train_mnist_af561_00005</td><td>TERMINATED</td><td>                   </td><td style=\"text-align: right;\">2.83837e-05</td><td style=\"text-align: right;\">  0.635141</td><td style=\"text-align: right;\">0.05    </td><td style=\"text-align: right;\">    10</td><td style=\"text-align: right;\">         20.0418</td></tr>\n",
       "<tr><td>train_mnist_af561_00007</td><td>TERMINATED</td><td>                   </td><td style=\"text-align: right;\">3.41018e-08</td><td style=\"text-align: right;\">  0.485819</td><td style=\"text-align: right;\">0.171875</td><td style=\"text-align: right;\">    10</td><td style=\"text-align: right;\">         21.0427</td></tr>\n",
       "<tr><td>train_mnist_af561_00011</td><td>TERMINATED</td><td>                   </td><td style=\"text-align: right;\">0.158022   </td><td style=\"text-align: right;\">  0.285643</td><td style=\"text-align: right;\">0.91875 </td><td style=\"text-align: right;\">    10</td><td style=\"text-align: right;\">         11.6827</td></tr>\n",
       "<tr><td>train_mnist_af561_00013</td><td>TERMINATED</td><td>                   </td><td style=\"text-align: right;\">1.47123e-08</td><td style=\"text-align: right;\">  0.773651</td><td style=\"text-align: right;\">0.11875 </td><td style=\"text-align: right;\">    10</td><td style=\"text-align: right;\">         13.7249</td></tr>\n",
       "<tr><td>train_mnist_af561_00014</td><td>TERMINATED</td><td>                   </td><td style=\"text-align: right;\">1.25491e-10</td><td style=\"text-align: right;\">  0.838552</td><td style=\"text-align: right;\">0.0625  </td><td style=\"text-align: right;\">    10</td><td style=\"text-align: right;\">         15.9733</td></tr>\n",
       "</tbody>\n",
       "</table><br><br>"
      ],
      "text/plain": [
       "<IPython.core.display.HTML object>"
      ]
     },
     "metadata": {},
     "output_type": "display_data"
    },
    {
     "name": "stdout",
     "output_type": "stream",
     "text": [
      "Result for train_mnist_af561_00009:\n",
      "  date: 2021-06-22_16-42-52\n",
      "  done: false\n",
      "  experiment_id: b55773f34e6040fbb81fda0609bb4340\n",
      "  hostname: therealchainman\n",
      "  iterations_since_restore: 1\n",
      "  mean_accuracy: 0.13125\n",
      "  node_ip: 192.168.1.106\n",
      "  pid: 16595\n",
      "  time_since_restore: 19.905707597732544\n",
      "  time_this_iter_s: 19.905707597732544\n",
      "  time_total_s: 19.905707597732544\n",
      "  timestamp: 1624398172\n",
      "  timesteps_since_restore: 0\n",
      "  training_iteration: 1\n",
      "  trial_id: af561_00009\n",
      "  \n",
      "\u001b[2m\u001b[36m(pid=16925)\u001b[0m \n",
      "\u001b[2m\u001b[36m(pid=16925)\u001b[0m Downloading http://yann.lecun.com/exdb/mnist/t10k-labels-idx1-ubyte.gz\n"
     ]
    },
    {
     "name": "stderr",
     "output_type": "stream",
     "text": [
      " 65%|██████▍   | 1065984/1648877 [00:31<00:23, 24997.03it/s]\n",
      " 66%|██████▌   | 1082368/1648877 [00:32<00:18, 31441.45it/s]\n"
     ]
    },
    {
     "name": "stdout",
     "output_type": "stream",
     "text": [
      "\u001b[2m\u001b[36m(pid=16925)\u001b[0m Downloading http://yann.lecun.com/exdb/mnist/t10k-labels-idx1-ubyte.gz to {cwd}/data/MNIST/raw/t10k-labels-idx1-ubyte.gz\n",
      "\u001b[2m\u001b[36m(pid=16925)\u001b[0m Extracting {cwd}/data/MNIST/raw/t10k-labels-idx1-ubyte.gz to {cwd}/data/MNIST/raw\n",
      "\u001b[2m\u001b[36m(pid=16925)\u001b[0m \n",
      "\u001b[2m\u001b[36m(pid=16958)\u001b[0m Downloading http://yann.lecun.com/exdb/mnist/train-images-idx3-ubyte.gz\n"
     ]
    },
    {
     "name": "stderr",
     "output_type": "stream",
     "text": [
      "5120it [00:00, 8428114.79it/s]          \n",
      "\u001b[2m\u001b[36m(pid=16925)\u001b[0m /home/therealchainman/miniconda3/lib/python3.8/site-packages/torchvision/datasets/mnist.py:498: UserWarning: The given NumPy array is not writeable, and PyTorch does not support non-writeable tensors. This means you can write to the underlying (supposedly non-writeable) NumPy array using the tensor. You may want to copy the array to protect its data or make it writeable before converting it to a tensor. This type of warning will be suppressed for the rest of this program. (Triggered internally at  /pytorch/torch/csrc/utils/tensor_numpy.cpp:180.)\n",
      "\u001b[2m\u001b[36m(pid=16925)\u001b[0m   return torch.from_numpy(parsed.astype(m[2], copy=False)).view(*s)\n",
      " 66%|██████▌   | 1090560/1648877 [00:32<00:18, 30090.45it/s]\n",
      "\u001b[2m\u001b[36m(pid=16925)\u001b[0m /home/therealchainman/miniconda3/lib/python3.8/site-packages/torch/nn/functional.py:718: UserWarning: Named tensors and all their associated APIs are an experimental feature and subject to change. Please do not use them for anything important until they are released as stable. (Triggered internally at  /pytorch/c10/core/TensorImpl.h:1156.)\n",
      "\u001b[2m\u001b[36m(pid=16925)\u001b[0m   return torch.max_pool2d(input, kernel_size, stride, padding, dilation, ceil_mode)\n",
      " 67%|██████▋   | 1098752/1648877 [00:32<00:16, 32493.75it/s]\n"
     ]
    },
    {
     "name": "stdout",
     "output_type": "stream",
     "text": [
      "\u001b[2m\u001b[36m(pid=16958)\u001b[0m Downloading http://yann.lecun.com/exdb/mnist/train-images-idx3-ubyte.gz to {cwd}/data/MNIST/raw/train-images-idx3-ubyte.gz\n",
      "\u001b[2m\u001b[36m(pid=16958)\u001b[0m Failed to download (trying next):\n",
      "\u001b[2m\u001b[36m(pid=16958)\u001b[0m HTTP Error 503: Service Unavailable\n",
      "\u001b[2m\u001b[36m(pid=16958)\u001b[0m \n",
      "\u001b[2m\u001b[36m(pid=16958)\u001b[0m Downloading https://ossci-datasets.s3.amazonaws.com/mnist/train-images-idx3-ubyte.gz\n"
     ]
    },
    {
     "name": "stderr",
     "output_type": "stream",
     "text": [
      " 67%|██████▋   | 1106944/1648877 [00:32<00:16, 32638.07it/s]\n"
     ]
    },
    {
     "name": "stdout",
     "output_type": "stream",
     "text": [
      "\u001b[2m\u001b[36m(pid=16958)\u001b[0m Downloading https://ossci-datasets.s3.amazonaws.com/mnist/train-images-idx3-ubyte.gz to {cwd}/data/MNIST/raw/train-images-idx3-ubyte.gz\n",
      "Result for train_mnist_af561_00008:\n",
      "  date: 2021-06-22_16-42-54\n",
      "  done: false\n",
      "  experiment_id: b9d189b89aa54866958d98d7f567524f\n",
      "  hostname: therealchainman\n",
      "  iterations_since_restore: 7\n",
      "  mean_accuracy: 0.06875\n",
      "  node_ip: 192.168.1.106\n",
      "  pid: 16597\n",
      "  time_since_restore: 21.466676950454712\n",
      "  time_this_iter_s: 1.6029210090637207\n",
      "  time_total_s: 21.466676950454712\n",
      "  timestamp: 1624398174\n",
      "  timesteps_since_restore: 0\n",
      "  training_iteration: 7\n",
      "  trial_id: af561_00008\n",
      "  \n"
     ]
    },
    {
     "name": "stderr",
     "output_type": "stream",
     "text": [
      " 68%|██████▊   | 1115136/1648877 [00:33<00:16, 32359.21it/s]\n",
      "  0%|          | 0/9912422 [00:00<?, ?it/s]\n",
      "  1%|          | 68608/9912422 [00:00<00:15, 650907.18it/s]\n"
     ]
    },
    {
     "name": "stdout",
     "output_type": "stream",
     "text": [
      "Result for train_mnist_af561_00010:\n",
      "  date: 2021-06-22_16-42-54\n",
      "  done: false\n",
      "  experiment_id: 178151aa21a344d59c80395d36554edb\n",
      "  hostname: therealchainman\n",
      "  iterations_since_restore: 8\n",
      "  mean_accuracy: 0.815625\n",
      "  node_ip: 192.168.1.106\n",
      "  pid: 16588\n",
      "  time_since_restore: 22.255030870437622\n",
      "  time_this_iter_s: 1.7796757221221924\n",
      "  time_total_s: 22.255030870437622\n",
      "  timestamp: 1624398174\n",
      "  timesteps_since_restore: 0\n",
      "  training_iteration: 8\n",
      "  trial_id: af561_00010\n",
      "  \n",
      "\u001b[2m\u001b[36m(pid=16899)\u001b[0m \n",
      "\u001b[2m\u001b[36m(pid=16899)\u001b[0m Downloading http://yann.lecun.com/exdb/mnist/train-labels-idx1-ubyte.gz\n"
     ]
    },
    {
     "name": "stderr",
     "output_type": "stream",
     "text": [
      " 68%|██████▊   | 1123328/1648877 [00:33<00:16, 32314.73it/s]\n",
      "  5%|▌         | 508928/9912422 [00:00<00:10, 874457.83it/s]\n",
      " 14%|█▍        | 1427456/9912422 [00:00<00:07, 1200245.66it/s]\n"
     ]
    },
    {
     "name": "stdout",
     "output_type": "stream",
     "text": [
      "\u001b[2m\u001b[36m(pid=16899)\u001b[0m Downloading http://yann.lecun.com/exdb/mnist/train-labels-idx1-ubyte.gz to {cwd}/data/MNIST/raw/train-labels-idx1-ubyte.gz\n",
      "Result for train_mnist_af561_00016:\n",
      "  date: 2021-06-22_16-42-54\n",
      "  done: false\n",
      "  experiment_id: 13993b8386f34a68afc4a6981918d056\n",
      "  hostname: therealchainman\n",
      "  iterations_since_restore: 1\n",
      "  mean_accuracy: 0.146875\n",
      "  node_ip: 192.168.1.106\n",
      "  pid: 16925\n",
      "  time_since_restore: 7.968432903289795\n",
      "  time_this_iter_s: 7.968432903289795\n",
      "  time_total_s: 7.968432903289795\n",
      "  timestamp: 1624398174\n",
      "  timesteps_since_restore: 0\n",
      "  training_iteration: 1\n",
      "  trial_id: af561_00016\n",
      "  \n"
     ]
    },
    {
     "name": "stderr",
     "output_type": "stream",
     "text": [
      " 69%|██████▊   | 1131520/1648877 [00:33<00:15, 32556.01it/s]\n",
      " 26%|██▌       | 2580480/9912422 [00:00<00:04, 1630917.43it/s]\n",
      "29696it [00:00, 696007.66it/s]           \n",
      " 37%|███▋      | 3686400/9912422 [00:00<00:02, 2172461.24it/s]\n"
     ]
    },
    {
     "name": "stdout",
     "output_type": "stream",
     "text": [
      "\u001b[2m\u001b[36m(pid=16899)\u001b[0m Extracting {cwd}/data/MNIST/raw/train-labels-idx1-ubyte.gz to {cwd}/data/MNIST/raw\n",
      "\u001b[2m\u001b[36m(pid=16899)\u001b[0m \n",
      "\u001b[2m\u001b[36m(pid=16899)\u001b[0m Downloading http://yann.lecun.com/exdb/mnist/t10k-images-idx3-ubyte.gz\n",
      "\u001b[2m\u001b[36m(pid=16899)\u001b[0m Downloading http://yann.lecun.com/exdb/mnist/t10k-images-idx3-ubyte.gz to {cwd}/data/MNIST/raw/t10k-images-idx3-ubyte.gz\n"
     ]
    },
    {
     "name": "stderr",
     "output_type": "stream",
     "text": [
      " 69%|██████▉   | 1139712/1648877 [00:33<00:15, 33112.18it/s]\n",
      " 52%|█████▏    | 5167104/9912422 [00:00<00:01, 2919870.29it/s]\n",
      " 75%|███████▌  | 7447552/9912422 [00:00<00:00, 3954244.31it/s]\n",
      " 93%|█████████▎| 9199616/9912422 [00:00<00:00, 5130275.40it/s]\n",
      " 70%|██████▉   | 1147904/1648877 [00:34<00:14, 34165.86it/s]\n",
      "9913344it [00:00, 11011220.12it/s]                            \n",
      "  0%|          | 0/1648877 [00:00<?, ?it/s]\n",
      " 70%|███████   | 1156096/1648877 [00:34<00:14, 32900.04it/s]\n",
      "  1%|          | 9216/1648877 [00:00<00:46, 35123.24it/s]\n",
      " 71%|███████   | 1164288/1648877 [00:34<00:14, 33884.24it/s]\n",
      "  1%|          | 17408/1648877 [00:00<00:47, 34594.34it/s]\n"
     ]
    },
    {
     "name": "stdout",
     "output_type": "stream",
     "text": [
      "\u001b[2m\u001b[36m(pid=16958)\u001b[0m Extracting {cwd}/data/MNIST/raw/train-images-idx3-ubyte.gz to {cwd}/data/MNIST/raw\n",
      "Result for train_mnist_af561_00010:\n",
      "  date: 2021-06-22_16-42-56\n",
      "  done: true\n",
      "  experiment_id: 178151aa21a344d59c80395d36554edb\n",
      "  experiment_tag: 10_lr=0.0056449,momentum=0.86971\n",
      "  hostname: therealchainman\n",
      "  iterations_since_restore: 10\n",
      "  mean_accuracy: 0.88125\n",
      "  node_ip: 192.168.1.106\n",
      "  pid: 16588\n",
      "  time_since_restore: 24.03054118156433\n",
      "  time_this_iter_s: 0.44087696075439453\n",
      "  time_total_s: 24.03054118156433\n",
      "  timestamp: 1624398176\n",
      "  timesteps_since_restore: 0\n",
      "  training_iteration: 10\n",
      "  trial_id: af561_00010\n",
      "  \n"
     ]
    },
    {
     "name": "stderr",
     "output_type": "stream",
     "text": [
      " 71%|███████   | 1172480/1648877 [00:35<00:18, 25818.57it/s]\n",
      "  2%|▏         | 25600/1648877 [00:00<00:59, 27113.39it/s]\n"
     ]
    },
    {
     "name": "stdout",
     "output_type": "stream",
     "text": [
      "Result for train_mnist_af561_00008:\n",
      "  date: 2021-06-22_16-42-56\n",
      "  done: true\n",
      "  experiment_id: b9d189b89aa54866958d98d7f567524f\n",
      "  experiment_tag: 8_lr=8.6132e-08,momentum=0.18948\n",
      "  hostname: therealchainman\n",
      "  iterations_since_restore: 10\n",
      "  mean_accuracy: 0.0375\n",
      "  node_ip: 192.168.1.106\n",
      "  pid: 16597\n",
      "  time_since_restore: 23.69987154006958\n",
      "  time_this_iter_s: 0.2780275344848633\n",
      "  time_total_s: 23.69987154006958\n",
      "  timestamp: 1624398176\n",
      "  timesteps_since_restore: 0\n",
      "  training_iteration: 10\n",
      "  trial_id: af561_00008\n",
      "  \n",
      "\u001b[2m\u001b[36m(pid=16958)\u001b[0m \n",
      "\u001b[2m\u001b[36m(pid=16958)\u001b[0m Downloading http://yann.lecun.com/exdb/mnist/train-labels-idx1-ubyte.gz\n"
     ]
    },
    {
     "name": "stderr",
     "output_type": "stream",
     "text": [
      "\u001b[2m\u001b[33m(raylet)\u001b[0m /home/therealchainman/miniconda3/lib/python3.8/site-packages/ray/autoscaler/_private/cli_logger.py:57: FutureWarning: Not all Ray CLI dependencies were found. In Ray 1.4+, the Ray CLI, autoscaler, and dashboard will only be usable via `pip install 'ray[default]'`. Please update your install command.\n",
      "\u001b[2m\u001b[33m(raylet)\u001b[0m   warnings.warn(\n",
      " 72%|███████▏  | 1188864/1648877 [00:35<00:16, 28168.40it/s]\n",
      "  3%|▎         | 41984/1648877 [00:01<00:54, 29217.86it/s]\n"
     ]
    },
    {
     "name": "stdout",
     "output_type": "stream",
     "text": [
      "\u001b[2m\u001b[36m(pid=16958)\u001b[0m Downloading http://yann.lecun.com/exdb/mnist/train-labels-idx1-ubyte.gz to {cwd}/data/MNIST/raw/train-labels-idx1-ubyte.gz\n"
     ]
    },
    {
     "name": "stderr",
     "output_type": "stream",
     "text": [
      " 73%|███████▎  | 1205248/1648877 [00:35<00:13, 33265.94it/s]\n",
      "  0%|          | 0/28881 [00:00<?, ?it/s]\n",
      "  4%|▎         | 58368/1648877 [00:01<00:47, 33807.53it/s]\n",
      "29696it [00:00, 234992.13it/s]                           \n"
     ]
    },
    {
     "name": "stdout",
     "output_type": "stream",
     "text": [
      "\u001b[2m\u001b[36m(pid=16958)\u001b[0m Extracting {cwd}/data/MNIST/raw/train-labels-idx1-ubyte.gz to {cwd}/data/MNIST/raw\n",
      "\u001b[2m\u001b[36m(pid=16958)\u001b[0m \n",
      "\u001b[2m\u001b[36m(pid=16958)\u001b[0m Downloading http://yann.lecun.com/exdb/mnist/t10k-images-idx3-ubyte.gz\n"
     ]
    },
    {
     "name": "stderr",
     "output_type": "stream",
     "text": [
      "\u001b[2m\u001b[33m(raylet)\u001b[0m /home/therealchainman/miniconda3/lib/python3.8/site-packages/ray/autoscaler/_private/cli_logger.py:57: FutureWarning: Not all Ray CLI dependencies were found. In Ray 1.4+, the Ray CLI, autoscaler, and dashboard will only be usable via `pip install 'ray[default]'`. Please update your install command.\n",
      "\u001b[2m\u001b[33m(raylet)\u001b[0m   warnings.warn(\n",
      " 74%|███████▎  | 1213440/1648877 [00:36<00:13, 31879.77it/s]\n",
      "  4%|▍         | 66560/1648877 [00:01<00:47, 33186.18it/s]\n",
      "\u001b[2m\u001b[33m(raylet)\u001b[0m /home/therealchainman/miniconda3/lib/python3.8/site-packages/ray/autoscaler/_private/cli_logger.py:57: FutureWarning: Not all Ray CLI dependencies were found. In Ray 1.4+, the Ray CLI, autoscaler, and dashboard will only be usable via `pip install 'ray[default]'`. Please update your install command.\n",
      "\u001b[2m\u001b[33m(raylet)\u001b[0m   warnings.warn(\n",
      "\u001b[2m\u001b[33m(raylet)\u001b[0m /home/therealchainman/miniconda3/lib/python3.8/site-packages/ray/autoscaler/_private/cli_logger.py:57: FutureWarning: Not all Ray CLI dependencies were found. In Ray 1.4+, the Ray CLI, autoscaler, and dashboard will only be usable via `pip install 'ray[default]'`. Please update your install command.\n",
      "\u001b[2m\u001b[33m(raylet)\u001b[0m   warnings.warn(\n",
      " 74%|███████▍  | 1221632/1648877 [00:36<00:12, 33497.88it/s]\n",
      "  5%|▍         | 74752/1648877 [00:02<00:47, 33468.60it/s]\n"
     ]
    },
    {
     "name": "stdout",
     "output_type": "stream",
     "text": [
      "\u001b[2m\u001b[36m(pid=16958)\u001b[0m Downloading http://yann.lecun.com/exdb/mnist/t10k-images-idx3-ubyte.gz to {cwd}/data/MNIST/raw/t10k-images-idx3-ubyte.gz\n",
      "\u001b[2m\u001b[36m(pid=16958)\u001b[0m Failed to download (trying next):\n",
      "\u001b[2m\u001b[36m(pid=16958)\u001b[0m HTTP Error 503: Service Unavailable\n",
      "\u001b[2m\u001b[36m(pid=16958)\u001b[0m \n",
      "\u001b[2m\u001b[36m(pid=16958)\u001b[0m Downloading https://ossci-datasets.s3.amazonaws.com/mnist/t10k-images-idx3-ubyte.gz\n",
      "Result for train_mnist_af561_00012:\n",
      "  date: 2021-06-22_16-42-57\n",
      "  done: false\n",
      "  experiment_id: 65ef7b4d08084fadb81f8c48ff894224\n",
      "  hostname: therealchainman\n",
      "  iterations_since_restore: 7\n",
      "  mean_accuracy: 0.109375\n",
      "  node_ip: 192.168.1.106\n",
      "  pid: 16584\n",
      "  time_since_restore: 25.292006015777588\n",
      "  time_this_iter_s: 0.9074921607971191\n",
      "  time_total_s: 25.292006015777588\n",
      "  timestamp: 1624398177\n",
      "  timesteps_since_restore: 0\n",
      "  training_iteration: 7\n",
      "  trial_id: af561_00012\n",
      "  \n",
      "\u001b[2m\u001b[36m(pid=16958)\u001b[0m Downloading https://ossci-datasets.s3.amazonaws.com/mnist/t10k-images-idx3-ubyte.gz to {cwd}/data/MNIST/raw/t10k-images-idx3-ubyte.gz\n"
     ]
    },
    {
     "name": "stderr",
     "output_type": "stream",
     "text": [
      " 75%|███████▍  | 1229824/1648877 [00:36<00:12, 33088.19it/s]\n",
      "  5%|▌         | 82944/1648877 [00:02<00:47, 32987.04it/s]\n",
      "  0%|          | 0/1648877 [00:00<?, ?it/s]\n",
      " 75%|███████▌  | 1238016/1648877 [00:36<00:12, 32757.15it/s]\n",
      "  4%|▍         | 68608/1648877 [00:00<00:03, 497179.14it/s]\n"
     ]
    },
    {
     "data": {
      "text/html": [
       "== Status ==<br>Memory usage on this node: 5.3/15.5 GiB<br>Using FIFO scheduling algorithm.<br>Resources requested: 8.0/8 CPUs, 0/0 GPUs, 0.0/8.04 GiB heap, 0.0/4.02 GiB objects<br>Result logdir: /home/therealchainman/ray_results/train_mnist_2021-06-22_16-42-04<br>Number of trials: 20/20 (8 RUNNING, 12 TERMINATED)<br><table>\n",
       "<thead>\n",
       "<tr><th>Trial name             </th><th>status    </th><th>loc                </th><th style=\"text-align: right;\">         lr</th><th style=\"text-align: right;\">  momentum</th><th style=\"text-align: right;\">     acc</th><th style=\"text-align: right;\">  iter</th><th style=\"text-align: right;\">  total time (s)</th></tr>\n",
       "</thead>\n",
       "<tbody>\n",
       "<tr><td>train_mnist_af561_00006</td><td>RUNNING   </td><td>                   </td><td style=\"text-align: right;\">2.12237e-09</td><td style=\"text-align: right;\">  0.881509</td><td style=\"text-align: right;\">        </td><td style=\"text-align: right;\">      </td><td style=\"text-align: right;\">                </td></tr>\n",
       "<tr><td>train_mnist_af561_00009</td><td>RUNNING   </td><td>192.168.1.106:16595</td><td style=\"text-align: right;\">0.00177473 </td><td style=\"text-align: right;\">  0.293255</td><td style=\"text-align: right;\">0.209375</td><td style=\"text-align: right;\">     8</td><td style=\"text-align: right;\">         25.2147</td></tr>\n",
       "<tr><td>train_mnist_af561_00012</td><td>RUNNING   </td><td>192.168.1.106:16584</td><td style=\"text-align: right;\">4.68526e-05</td><td style=\"text-align: right;\">  0.233772</td><td style=\"text-align: right;\">0.08125 </td><td style=\"text-align: right;\">     8</td><td style=\"text-align: right;\">         25.6924</td></tr>\n",
       "<tr><td>train_mnist_af561_00015</td><td>RUNNING   </td><td>                   </td><td style=\"text-align: right;\">3.72716e-09</td><td style=\"text-align: right;\">  0.462565</td><td style=\"text-align: right;\">        </td><td style=\"text-align: right;\">      </td><td style=\"text-align: right;\">                </td></tr>\n",
       "<tr><td>train_mnist_af561_00016</td><td>RUNNING   </td><td>192.168.1.106:16925</td><td style=\"text-align: right;\">3.09241e-07</td><td style=\"text-align: right;\">  0.21736 </td><td style=\"text-align: right;\">0.14375 </td><td style=\"text-align: right;\">     6</td><td style=\"text-align: right;\">         11.0249</td></tr>\n",
       "<tr><td>train_mnist_af561_00017</td><td>RUNNING   </td><td>                   </td><td style=\"text-align: right;\">1.51156e-06</td><td style=\"text-align: right;\">  0.266795</td><td style=\"text-align: right;\">        </td><td style=\"text-align: right;\">      </td><td style=\"text-align: right;\">                </td></tr>\n",
       "<tr><td>train_mnist_af561_00018</td><td>RUNNING   </td><td>                   </td><td style=\"text-align: right;\">2.21039e-06</td><td style=\"text-align: right;\">  0.66885 </td><td style=\"text-align: right;\">        </td><td style=\"text-align: right;\">      </td><td style=\"text-align: right;\">                </td></tr>\n",
       "<tr><td>train_mnist_af561_00019</td><td>RUNNING   </td><td>                   </td><td style=\"text-align: right;\">6.47251e-05</td><td style=\"text-align: right;\">  0.821736</td><td style=\"text-align: right;\">        </td><td style=\"text-align: right;\">      </td><td style=\"text-align: right;\">                </td></tr>\n",
       "<tr><td>train_mnist_af561_00000</td><td>TERMINATED</td><td>                   </td><td style=\"text-align: right;\">6.41811e-07</td><td style=\"text-align: right;\">  0.189627</td><td style=\"text-align: right;\">0.11875 </td><td style=\"text-align: right;\">    10</td><td style=\"text-align: right;\">         21.3846</td></tr>\n",
       "<tr><td>train_mnist_af561_00001</td><td>TERMINATED</td><td>                   </td><td style=\"text-align: right;\">2.92354e-09</td><td style=\"text-align: right;\">  0.501897</td><td style=\"text-align: right;\">0.1     </td><td style=\"text-align: right;\">    10</td><td style=\"text-align: right;\">         21.1354</td></tr>\n",
       "<tr><td>train_mnist_af561_00002</td><td>TERMINATED</td><td>                   </td><td style=\"text-align: right;\">1.01225e-08</td><td style=\"text-align: right;\">  0.383448</td><td style=\"text-align: right;\">0.084375</td><td style=\"text-align: right;\">    10</td><td style=\"text-align: right;\">         20.6104</td></tr>\n",
       "<tr><td>train_mnist_af561_00003</td><td>TERMINATED</td><td>                   </td><td style=\"text-align: right;\">1.55157e-06</td><td style=\"text-align: right;\">  0.778785</td><td style=\"text-align: right;\">0.10625 </td><td style=\"text-align: right;\">    10</td><td style=\"text-align: right;\">         20.5141</td></tr>\n",
       "<tr><td>train_mnist_af561_00004</td><td>TERMINATED</td><td>                   </td><td style=\"text-align: right;\">6.29387e-09</td><td style=\"text-align: right;\">  0.252046</td><td style=\"text-align: right;\">0.1125  </td><td style=\"text-align: right;\">    10</td><td style=\"text-align: right;\">         19.8356</td></tr>\n",
       "<tr><td>train_mnist_af561_00005</td><td>TERMINATED</td><td>                   </td><td style=\"text-align: right;\">2.83837e-05</td><td style=\"text-align: right;\">  0.635141</td><td style=\"text-align: right;\">0.05    </td><td style=\"text-align: right;\">    10</td><td style=\"text-align: right;\">         20.0418</td></tr>\n",
       "<tr><td>train_mnist_af561_00007</td><td>TERMINATED</td><td>                   </td><td style=\"text-align: right;\">3.41018e-08</td><td style=\"text-align: right;\">  0.485819</td><td style=\"text-align: right;\">0.171875</td><td style=\"text-align: right;\">    10</td><td style=\"text-align: right;\">         21.0427</td></tr>\n",
       "<tr><td>train_mnist_af561_00008</td><td>TERMINATED</td><td>                   </td><td style=\"text-align: right;\">8.61318e-08</td><td style=\"text-align: right;\">  0.189483</td><td style=\"text-align: right;\">0.0375  </td><td style=\"text-align: right;\">    10</td><td style=\"text-align: right;\">         23.6999</td></tr>\n",
       "<tr><td>train_mnist_af561_00010</td><td>TERMINATED</td><td>                   </td><td style=\"text-align: right;\">0.00564488 </td><td style=\"text-align: right;\">  0.869707</td><td style=\"text-align: right;\">0.88125 </td><td style=\"text-align: right;\">    10</td><td style=\"text-align: right;\">         24.0305</td></tr>\n",
       "<tr><td>train_mnist_af561_00011</td><td>TERMINATED</td><td>                   </td><td style=\"text-align: right;\">0.158022   </td><td style=\"text-align: right;\">  0.285643</td><td style=\"text-align: right;\">0.91875 </td><td style=\"text-align: right;\">    10</td><td style=\"text-align: right;\">         11.6827</td></tr>\n",
       "<tr><td>train_mnist_af561_00013</td><td>TERMINATED</td><td>                   </td><td style=\"text-align: right;\">1.47123e-08</td><td style=\"text-align: right;\">  0.773651</td><td style=\"text-align: right;\">0.11875 </td><td style=\"text-align: right;\">    10</td><td style=\"text-align: right;\">         13.7249</td></tr>\n",
       "<tr><td>train_mnist_af561_00014</td><td>TERMINATED</td><td>                   </td><td style=\"text-align: right;\">1.25491e-10</td><td style=\"text-align: right;\">  0.838552</td><td style=\"text-align: right;\">0.0625  </td><td style=\"text-align: right;\">    10</td><td style=\"text-align: right;\">         15.9733</td></tr>\n",
       "</tbody>\n",
       "</table><br><br>"
      ],
      "text/plain": [
       "<IPython.core.display.HTML object>"
      ]
     },
     "metadata": {},
     "output_type": "display_data"
    },
    {
     "name": "stderr",
     "output_type": "stream",
     "text": [
      "  6%|▌         | 91136/1648877 [00:02<00:49, 31665.72it/s]\n",
      " 25%|██▌       | 416768/1648877 [00:00<00:01, 664711.00it/s]\n",
      " 59%|█████▉    | 973824/1648877 [00:00<00:00, 901582.43it/s]\n",
      " 76%|███████▌  | 1246208/1648877 [00:37<00:12, 32323.83it/s]\n",
      "1649664it [00:00, 3791969.90it/s]                           \n",
      "  6%|▌         | 99328/1648877 [00:03<00:47, 32476.90it/s]\n"
     ]
    },
    {
     "name": "stdout",
     "output_type": "stream",
     "text": [
      "\u001b[2m\u001b[36m(pid=16991)\u001b[0m Downloading http://yann.lecun.com/exdb/mnist/train-images-idx3-ubyte.gz\n",
      "Result for train_mnist_af561_00009:\n",
      "  date: 2021-06-22_16-42-58\n",
      "  done: false\n",
      "  experiment_id: b55773f34e6040fbb81fda0609bb4340\n",
      "  hostname: therealchainman\n",
      "  iterations_since_restore: 9\n",
      "  mean_accuracy: 0.23125\n",
      "  node_ip: 192.168.1.106\n",
      "  pid: 16595\n",
      "  time_since_restore: 25.608336687088013\n",
      "  time_this_iter_s: 0.39366722106933594\n",
      "  time_total_s: 25.608336687088013\n",
      "  timestamp: 1624398178\n",
      "  timesteps_since_restore: 0\n",
      "  training_iteration: 9\n",
      "  trial_id: af561_00009\n",
      "  \n",
      "\u001b[2m\u001b[36m(pid=16991)\u001b[0m Downloading http://yann.lecun.com/exdb/mnist/train-images-idx3-ubyte.gz to {cwd}/data/MNIST/raw/train-images-idx3-ubyte.gz\n"
     ]
    },
    {
     "name": "stderr",
     "output_type": "stream",
     "text": [
      " 76%|███████▌  | 1254400/1648877 [00:37<00:11, 32920.34it/s]\n",
      "  7%|▋         | 107520/1648877 [00:03<00:46, 33224.01it/s]\n"
     ]
    },
    {
     "name": "stdout",
     "output_type": "stream",
     "text": [
      "Result for train_mnist_af561_00012:\n",
      "  date: 2021-06-22_16-42-58\n",
      "  done: true\n",
      "  experiment_id: 65ef7b4d08084fadb81f8c48ff894224\n",
      "  experiment_tag: 12_lr=4.6853e-05,momentum=0.23377\n",
      "  hostname: therealchainman\n",
      "  iterations_since_restore: 10\n",
      "  mean_accuracy: 0.09375\n",
      "  node_ip: 192.168.1.106\n",
      "  pid: 16584\n",
      "  time_since_restore: 26.420426607131958\n",
      "  time_this_iter_s: 0.33348584175109863\n",
      "  time_total_s: 26.420426607131958\n",
      "  timestamp: 1624398178\n",
      "  timesteps_since_restore: 0\n",
      "  training_iteration: 10\n",
      "  trial_id: af561_00012\n",
      "  \n",
      "\u001b[2m\u001b[36m(pid=16958)\u001b[0m Extracting {cwd}/data/MNIST/raw/t10k-images-idx3-ubyte.gz to {cwd}/data/MNIST/raw\n",
      "\u001b[2m\u001b[36m(pid=16991)\u001b[0m Failed to download (trying next):\n",
      "\u001b[2m\u001b[36m(pid=16991)\u001b[0m HTTP Error 503: Service Unavailable\n",
      "\u001b[2m\u001b[36m(pid=16991)\u001b[0m \n",
      "\u001b[2m\u001b[36m(pid=16991)\u001b[0m Downloading https://ossci-datasets.s3.amazonaws.com/mnist/train-images-idx3-ubyte.gz\n",
      "Result for train_mnist_af561_00009:\n",
      "  date: 2021-06-22_16-42-58\n",
      "  done: true\n",
      "  experiment_id: b55773f34e6040fbb81fda0609bb4340\n",
      "  experiment_tag: 9_lr=0.0017747,momentum=0.29326\n",
      "  hostname: therealchainman\n",
      "  iterations_since_restore: 10\n",
      "  mean_accuracy: 0.171875\n",
      "  node_ip: 192.168.1.106\n",
      "  pid: 16595\n",
      "  time_since_restore: 25.829628944396973\n",
      "  time_this_iter_s: 0.22129225730895996\n",
      "  time_total_s: 25.829628944396973\n",
      "  timestamp: 1624398178\n",
      "  timesteps_since_restore: 0\n",
      "  training_iteration: 10\n",
      "  trial_id: af561_00009\n",
      "  \n",
      "\u001b[2m\u001b[36m(pid=16958)\u001b[0m \n",
      "\u001b[2m\u001b[36m(pid=16958)\u001b[0m Downloading http://yann.lecun.com/exdb/mnist/t10k-labels-idx1-ubyte.gz\n",
      "\u001b[2m\u001b[36m(pid=17007)\u001b[0m Downloading http://yann.lecun.com/exdb/mnist/train-images-idx3-ubyte.gz\n"
     ]
    },
    {
     "name": "stderr",
     "output_type": "stream",
     "text": [
      " 77%|███████▋  | 1262592/1648877 [00:37<00:11, 33404.66it/s]\n",
      "  7%|▋         | 115712/1648877 [00:03<00:46, 32828.23it/s]\n"
     ]
    },
    {
     "name": "stdout",
     "output_type": "stream",
     "text": [
      "\u001b[2m\u001b[36m(pid=16958)\u001b[0m Failed to download (trying next):\n",
      "\u001b[2m\u001b[36m(pid=16958)\u001b[0m HTTP Error 503: Service Unavailable\n",
      "\u001b[2m\u001b[36m(pid=16958)\u001b[0m \n",
      "\u001b[2m\u001b[36m(pid=16958)\u001b[0m Downloading https://ossci-datasets.s3.amazonaws.com/mnist/t10k-labels-idx1-ubyte.gz\n",
      "\u001b[2m\u001b[36m(pid=17007)\u001b[0m Failed to download (trying next):\n",
      "\u001b[2m\u001b[36m(pid=17007)\u001b[0m HTTP Error 503: Service Unavailable\n",
      "\u001b[2m\u001b[36m(pid=17007)\u001b[0m \n",
      "\u001b[2m\u001b[36m(pid=17007)\u001b[0m Downloading https://ossci-datasets.s3.amazonaws.com/mnist/train-images-idx3-ubyte.gz\n",
      "\u001b[2m\u001b[36m(pid=16991)\u001b[0m Downloading https://ossci-datasets.s3.amazonaws.com/mnist/train-images-idx3-ubyte.gz to {cwd}/data/MNIST/raw/train-images-idx3-ubyte.gz\n",
      "\u001b[2m\u001b[36m(pid=16958)\u001b[0m Downloading https://ossci-datasets.s3.amazonaws.com/mnist/t10k-labels-idx1-ubyte.gz to {cwd}/data/MNIST/raw/t10k-labels-idx1-ubyte.gz\n",
      "\u001b[2m\u001b[36m(pid=17007)\u001b[0m Downloading https://ossci-datasets.s3.amazonaws.com/mnist/train-images-idx3-ubyte.gz to {cwd}/data/MNIST/raw/train-images-idx3-ubyte.gz\n"
     ]
    },
    {
     "name": "stderr",
     "output_type": "stream",
     "text": [
      " 77%|███████▋  | 1270784/1648877 [00:37<00:11, 32943.17it/s]\n",
      "  8%|▊         | 123904/1648877 [00:03<00:47, 32383.57it/s]\n",
      "  0%|          | 0/9912422 [00:00<?, ?it/s]\n",
      "  1%|          | 68608/9912422 [00:00<00:16, 594648.32it/s]\n",
      "  0%|          | 0/9912422 [00:00<?, ?it/s]\n",
      "5120it [00:00, 1704216.85it/s]          \n",
      " 78%|███████▊  | 1278976/1648877 [00:38<00:11, 32630.03it/s]\n",
      "  8%|▊         | 132096/1648877 [00:04<00:46, 32477.03it/s]\n",
      "\u001b[2m\u001b[36m(pid=16958)\u001b[0m /home/therealchainman/miniconda3/lib/python3.8/site-packages/torchvision/datasets/mnist.py:498: UserWarning: The given NumPy array is not writeable, and PyTorch does not support non-writeable tensors. This means you can write to the underlying (supposedly non-writeable) NumPy array using the tensor. You may want to copy the array to protect its data or make it writeable before converting it to a tensor. This type of warning will be suppressed for the rest of this program. (Triggered internally at  /pytorch/torch/csrc/utils/tensor_numpy.cpp:180.)\n",
      "\u001b[2m\u001b[36m(pid=16958)\u001b[0m   return torch.from_numpy(parsed.astype(m[2], copy=False)).view(*s)\n",
      "  5%|▌         | 503808/9912422 [00:00<00:11, 802400.12it/s]\n",
      "  1%|          | 69632/9912422 [00:00<00:16, 596623.16it/s]\n"
     ]
    },
    {
     "name": "stdout",
     "output_type": "stream",
     "text": [
      "\u001b[2m\u001b[36m(pid=16958)\u001b[0m Extracting {cwd}/data/MNIST/raw/t10k-labels-idx1-ubyte.gz to {cwd}/data/MNIST/raw\n",
      "\u001b[2m\u001b[36m(pid=16958)\u001b[0m \n"
     ]
    },
    {
     "name": "stderr",
     "output_type": "stream",
     "text": [
      "\u001b[2m\u001b[36m(pid=16958)\u001b[0m /home/therealchainman/miniconda3/lib/python3.8/site-packages/torch/nn/functional.py:718: UserWarning: Named tensors and all their associated APIs are an experimental feature and subject to change. Please do not use them for anything important until they are released as stable. (Triggered internally at  /pytorch/c10/core/TensorImpl.h:1156.)\n",
      "\u001b[2m\u001b[36m(pid=16958)\u001b[0m   return torch.max_pool2d(input, kernel_size, stride, padding, dilation, ceil_mode)\n",
      " 15%|█▌        | 1506304/9912422 [00:00<00:07, 1108268.32it/s]\n",
      "  3%|▎         | 330752/9912422 [00:00<00:12, 754370.52it/s]\n",
      " 78%|███████▊  | 1287168/1648877 [00:38<00:11, 32357.38it/s]\n",
      " 28%|██▊       | 2769920/9912422 [00:00<00:04, 1525070.74it/s]\n",
      "  9%|▊         | 140288/1648877 [00:04<00:48, 30791.22it/s]\n",
      " 40%|███▉      | 3917824/9912422 [00:00<00:02, 2061295.84it/s]\n",
      "  5%|▌         | 539648/9912422 [00:00<00:10, 903846.59it/s]\n"
     ]
    },
    {
     "name": "stdout",
     "output_type": "stream",
     "text": [
      "Result for train_mnist_af561_00016:\n",
      "  date: 2021-06-22_16-42-59\n",
      "  done: true\n",
      "  experiment_id: 13993b8386f34a68afc4a6981918d056\n",
      "  experiment_tag: 16_lr=3.0924e-07,momentum=0.21736\n",
      "  hostname: therealchainman\n",
      "  iterations_since_restore: 10\n",
      "  mean_accuracy: 0.16875\n",
      "  node_ip: 192.168.1.106\n",
      "  pid: 16925\n",
      "  time_since_restore: 12.82810354232788\n",
      "  time_this_iter_s: 0.8866028785705566\n",
      "  time_total_s: 12.82810354232788\n",
      "  timestamp: 1624398179\n",
      "  timesteps_since_restore: 0\n",
      "  training_iteration: 10\n",
      "  trial_id: af561_00016\n",
      "  \n"
     ]
    },
    {
     "name": "stderr",
     "output_type": "stream",
     "text": [
      " 79%|███████▊  | 1295360/1648877 [00:38<00:10, 32268.37it/s]\n",
      " 53%|█████▎    | 5211136/9912422 [00:00<00:01, 2755352.95it/s]\n",
      "  8%|▊         | 765952/9912422 [00:00<00:08, 1055445.27it/s]\n",
      "  9%|▉         | 148480/1648877 [00:04<00:50, 29660.18it/s]\n",
      " 62%|██████▏   | 6158336/9912422 [00:00<00:01, 3417252.37it/s]\n",
      " 10%|█         | 1009664/9912422 [00:00<00:07, 1130899.65it/s]\n",
      " 72%|███████▏  | 7144448/9912422 [00:00<00:00, 4249930.24it/s]\n",
      " 79%|███████▉  | 1303552/1648877 [00:38<00:10, 32695.90it/s]\n",
      " 86%|████████▋ | 8553472/9912422 [00:00<00:00, 5314413.78it/s]\n",
      " 13%|█▎        | 1253376/9912422 [00:00<00:06, 1268198.37it/s]\n",
      " 10%|▉         | 156672/1648877 [00:04<00:48, 30948.95it/s]\n",
      " 99%|█████████▉| 9824256/9912422 [00:01<00:00, 6437621.89it/s]\n",
      " 15%|█▌        | 1514496/9912422 [00:00<00:05, 1440712.66it/s]\n",
      "9913344it [00:01, 9325934.95it/s]                             \n",
      " 80%|███████▉  | 1311744/1648877 [00:39<00:10, 33217.21it/s]\n",
      " 10%|▉         | 164864/1648877 [00:04<00:41, 35641.47it/s]\n",
      " 21%|██▏       | 2115584/9912422 [00:01<00:04, 1866138.54it/s]\n",
      " 27%|██▋       | 2663424/9912422 [00:01<00:03, 2311365.81it/s]\n"
     ]
    },
    {
     "name": "stdout",
     "output_type": "stream",
     "text": [
      "Result for train_mnist_af561_00017:\n",
      "  date: 2021-06-22_16-43-00\n",
      "  done: false\n",
      "  experiment_id: 86a155c36dc24bf588d7bd6197f655e1\n",
      "  hostname: therealchainman\n",
      "  iterations_since_restore: 1\n",
      "  mean_accuracy: 0.10625\n",
      "  node_ip: 192.168.1.106\n",
      "  pid: 16958\n",
      "  time_since_restore: 6.992556571960449\n",
      "  time_this_iter_s: 6.992556571960449\n",
      "  time_total_s: 6.992556571960449\n",
      "  timestamp: 1624398180\n",
      "  timesteps_since_restore: 0\n",
      "  training_iteration: 1\n",
      "  trial_id: af561_00017\n",
      "  \n"
     ]
    },
    {
     "name": "stderr",
     "output_type": "stream",
     "text": [
      " 80%|████████  | 1319936/1648877 [00:39<00:09, 33371.05it/s]\n",
      " 10%|█         | 173056/1648877 [00:05<00:41, 35322.15it/s]\n",
      " 34%|███▍      | 3415040/9912422 [00:01<00:02, 2917427.97it/s]\n",
      " 43%|████▎     | 4232192/9912422 [00:01<00:01, 3614535.57it/s]\n",
      " 81%|████████  | 1328128/1648877 [00:39<00:09, 33678.81it/s]\n",
      " 52%|█████▏    | 5151744/9912422 [00:01<00:01, 4419083.75it/s]\n",
      " 11%|█         | 181248/1648877 [00:05<00:41, 35075.95it/s]\n",
      " 62%|██████▏   | 6192128/9912422 [00:01<00:00, 5340581.03it/s]\n",
      " 71%|███████   | 7031808/9912422 [00:01<00:00, 5978180.60it/s]\n",
      " 81%|████████  | 1336320/1648877 [00:39<00:09, 33808.54it/s]\n",
      " 82%|████████▏ | 8094720/9912422 [00:01<00:00, 6872659.61it/s]\n",
      " 11%|█▏        | 189440/1648877 [00:05<00:42, 34592.20it/s]\n",
      " 95%|█████████▍| 9406464/9912422 [00:01<00:00, 8017698.21it/s]\n",
      "9913344it [00:01, 5228782.74it/s]                             \n"
     ]
    },
    {
     "name": "stdout",
     "output_type": "stream",
     "text": [
      "\u001b[2m\u001b[36m(pid=16991)\u001b[0m Extracting {cwd}/data/MNIST/raw/train-images-idx3-ubyte.gz to {cwd}/data/MNIST/raw\n",
      "\u001b[2m\u001b[36m(pid=17007)\u001b[0m Extracting {cwd}/data/MNIST/raw/train-images-idx3-ubyte.gz to {cwd}/data/MNIST/raw\n"
     ]
    },
    {
     "name": "stderr",
     "output_type": "stream",
     "text": [
      " 82%|████████▏ | 1344512/1648877 [00:40<00:09, 33817.91it/s]\n",
      " 12%|█▏        | 197632/1648877 [00:05<00:42, 34397.87it/s]\n",
      " 82%|████████▏ | 1352704/1648877 [00:40<00:11, 26377.05it/s]\n",
      " 12%|█▏        | 205824/1648877 [00:06<00:52, 27398.99it/s]\n",
      " 83%|████████▎ | 1369088/1648877 [00:40<00:09, 31003.47it/s]\n",
      " 13%|█▎        | 222208/1648877 [00:06<00:44, 31871.95it/s]\n",
      " 84%|████████▎ | 1377280/1648877 [00:41<00:09, 29712.24it/s]\n",
      " 14%|█▍        | 230400/1648877 [00:07<00:46, 30474.01it/s]\n",
      " 84%|████████▍ | 1385472/1648877 [00:41<00:08, 32204.46it/s]\n",
      " 14%|█▍        | 238592/1648877 [00:07<00:42, 32826.67it/s]\n",
      " 85%|████████▍ | 1393664/1648877 [00:41<00:06, 36498.86it/s]\n"
     ]
    },
    {
     "name": "stdout",
     "output_type": "stream",
     "text": [
      "\u001b[2m\u001b[36m(pid=16991)\u001b[0m \n",
      "\u001b[2m\u001b[36m(pid=16991)\u001b[0m Downloading http://yann.lecun.com/exdb/mnist/train-labels-idx1-ubyte.gz\n",
      "\u001b[2m\u001b[36m(pid=17007)\u001b[0m \n",
      "\u001b[2m\u001b[36m(pid=17007)\u001b[0m Downloading http://yann.lecun.com/exdb/mnist/train-labels-idx1-ubyte.gz\n",
      "\u001b[2m\u001b[36m(pid=16991)\u001b[0m Downloading http://yann.lecun.com/exdb/mnist/train-labels-idx1-ubyte.gz to {cwd}/data/MNIST/raw/train-labels-idx1-ubyte.gz\n",
      "\u001b[2m\u001b[36m(pid=17007)\u001b[0m Downloading http://yann.lecun.com/exdb/mnist/train-labels-idx1-ubyte.gz to {cwd}/data/MNIST/raw/train-labels-idx1-ubyte.gz\n"
     ]
    },
    {
     "name": "stderr",
     "output_type": "stream",
     "text": [
      " 15%|█▍        | 246784/1648877 [00:07<00:39, 35718.13it/s]\n",
      "29696it [00:00, 1270622.61it/s]          \n",
      "  0%|          | 0/28881 [00:00<?, ?it/s]\n",
      " 85%|████████▌ | 1401856/1648877 [00:41<00:06, 35848.59it/s]\n"
     ]
    },
    {
     "name": "stdout",
     "output_type": "stream",
     "text": [
      "\u001b[2m\u001b[36m(pid=16991)\u001b[0m Extracting {cwd}/data/MNIST/raw/train-labels-idx1-ubyte.gz to {cwd}/data/MNIST/raw\n",
      "\u001b[2m\u001b[36m(pid=16991)\u001b[0m \n",
      "\u001b[2m\u001b[36m(pid=16991)\u001b[0m Downloading http://yann.lecun.com/exdb/mnist/t10k-images-idx3-ubyte.gz\n",
      "\u001b[2m\u001b[36m(pid=17007)\u001b[0m Extracting {cwd}/data/MNIST/raw/train-labels-idx1-ubyte.gz to {cwd}/data/MNIST/raw\n",
      "\u001b[2m\u001b[36m(pid=17007)\u001b[0m \n",
      "\u001b[2m\u001b[36m(pid=17007)\u001b[0m Downloading http://yann.lecun.com/exdb/mnist/t10k-images-idx3-ubyte.gz\n",
      "\u001b[2m\u001b[36m(pid=16991)\u001b[0m Downloading http://yann.lecun.com/exdb/mnist/t10k-images-idx3-ubyte.gz to {cwd}/data/MNIST/raw/t10k-images-idx3-ubyte.gz\n",
      "\u001b[2m\u001b[36m(pid=17007)\u001b[0m Failed to download (trying next):\n",
      "\u001b[2m\u001b[36m(pid=17007)\u001b[0m HTTP Error 503: Service Unavailable\n",
      "\u001b[2m\u001b[36m(pid=17007)\u001b[0m \n",
      "\u001b[2m\u001b[36m(pid=17007)\u001b[0m Downloading https://ossci-datasets.s3.amazonaws.com/mnist/t10k-images-idx3-ubyte.gz\n"
     ]
    },
    {
     "name": "stderr",
     "output_type": "stream",
     "text": [
      " 15%|█▌        | 254976/1648877 [00:07<00:39, 35363.81it/s]\n",
      "29696it [00:00, 722006.43it/s]           \n",
      " 86%|████████▌ | 1410048/1648877 [00:42<00:06, 35319.10it/s]\n"
     ]
    },
    {
     "name": "stdout",
     "output_type": "stream",
     "text": [
      "\u001b[2m\u001b[36m(pid=16991)\u001b[0m Failed to download (trying next):\n",
      "\u001b[2m\u001b[36m(pid=16991)\u001b[0m HTTP Error 503: Service Unavailable\n",
      "\u001b[2m\u001b[36m(pid=16991)\u001b[0m \n",
      "\u001b[2m\u001b[36m(pid=16991)\u001b[0m Downloading https://ossci-datasets.s3.amazonaws.com/mnist/t10k-images-idx3-ubyte.gz\n",
      "\u001b[2m\u001b[36m(pid=17007)\u001b[0m Downloading https://ossci-datasets.s3.amazonaws.com/mnist/t10k-images-idx3-ubyte.gz to {cwd}/data/MNIST/raw/t10k-images-idx3-ubyte.gz\n"
     ]
    },
    {
     "name": "stderr",
     "output_type": "stream",
     "text": [
      " 16%|█▌        | 263168/1648877 [00:07<00:39, 34954.23it/s]\n",
      " 86%|████████▌ | 1418240/1648877 [00:42<00:06, 34128.11it/s]\n",
      " 16%|█▋        | 271360/1648877 [00:08<00:40, 33899.65it/s]\n"
     ]
    },
    {
     "name": "stdout",
     "output_type": "stream",
     "text": [
      "\u001b[2m\u001b[36m(pid=16991)\u001b[0m Downloading https://ossci-datasets.s3.amazonaws.com/mnist/t10k-images-idx3-ubyte.gz to {cwd}/data/MNIST/raw/t10k-images-idx3-ubyte.gz\n"
     ]
    },
    {
     "data": {
      "text/html": [
       "== Status ==<br>Memory usage on this node: 4.8/15.5 GiB<br>Using FIFO scheduling algorithm.<br>Resources requested: 5.0/8 CPUs, 0/0 GPUs, 0.0/8.04 GiB heap, 0.0/4.02 GiB objects<br>Result logdir: /home/therealchainman/ray_results/train_mnist_2021-06-22_16-42-04<br>Number of trials: 20/20 (5 RUNNING, 15 TERMINATED)<br><table>\n",
       "<thead>\n",
       "<tr><th>Trial name             </th><th>status    </th><th>loc                </th><th style=\"text-align: right;\">         lr</th><th style=\"text-align: right;\">  momentum</th><th style=\"text-align: right;\">     acc</th><th style=\"text-align: right;\">  iter</th><th style=\"text-align: right;\">  total time (s)</th></tr>\n",
       "</thead>\n",
       "<tbody>\n",
       "<tr><td>train_mnist_af561_00006</td><td>RUNNING   </td><td>                   </td><td style=\"text-align: right;\">2.12237e-09</td><td style=\"text-align: right;\">  0.881509</td><td style=\"text-align: right;\">        </td><td style=\"text-align: right;\">      </td><td style=\"text-align: right;\">                </td></tr>\n",
       "<tr><td>train_mnist_af561_00015</td><td>RUNNING   </td><td>                   </td><td style=\"text-align: right;\">3.72716e-09</td><td style=\"text-align: right;\">  0.462565</td><td style=\"text-align: right;\">        </td><td style=\"text-align: right;\">      </td><td style=\"text-align: right;\">                </td></tr>\n",
       "<tr><td>train_mnist_af561_00017</td><td>RUNNING   </td><td>192.168.1.106:16958</td><td style=\"text-align: right;\">1.51156e-06</td><td style=\"text-align: right;\">  0.266795</td><td style=\"text-align: right;\">0.13125 </td><td style=\"text-align: right;\">     4</td><td style=\"text-align: right;\">         9.81872</td></tr>\n",
       "<tr><td>train_mnist_af561_00018</td><td>RUNNING   </td><td>                   </td><td style=\"text-align: right;\">2.21039e-06</td><td style=\"text-align: right;\">  0.66885 </td><td style=\"text-align: right;\">        </td><td style=\"text-align: right;\">      </td><td style=\"text-align: right;\">                </td></tr>\n",
       "<tr><td>train_mnist_af561_00019</td><td>RUNNING   </td><td>                   </td><td style=\"text-align: right;\">6.47251e-05</td><td style=\"text-align: right;\">  0.821736</td><td style=\"text-align: right;\">        </td><td style=\"text-align: right;\">      </td><td style=\"text-align: right;\">                </td></tr>\n",
       "<tr><td>train_mnist_af561_00000</td><td>TERMINATED</td><td>                   </td><td style=\"text-align: right;\">6.41811e-07</td><td style=\"text-align: right;\">  0.189627</td><td style=\"text-align: right;\">0.11875 </td><td style=\"text-align: right;\">    10</td><td style=\"text-align: right;\">        21.3846 </td></tr>\n",
       "<tr><td>train_mnist_af561_00001</td><td>TERMINATED</td><td>                   </td><td style=\"text-align: right;\">2.92354e-09</td><td style=\"text-align: right;\">  0.501897</td><td style=\"text-align: right;\">0.1     </td><td style=\"text-align: right;\">    10</td><td style=\"text-align: right;\">        21.1354 </td></tr>\n",
       "<tr><td>train_mnist_af561_00002</td><td>TERMINATED</td><td>                   </td><td style=\"text-align: right;\">1.01225e-08</td><td style=\"text-align: right;\">  0.383448</td><td style=\"text-align: right;\">0.084375</td><td style=\"text-align: right;\">    10</td><td style=\"text-align: right;\">        20.6104 </td></tr>\n",
       "<tr><td>train_mnist_af561_00003</td><td>TERMINATED</td><td>                   </td><td style=\"text-align: right;\">1.55157e-06</td><td style=\"text-align: right;\">  0.778785</td><td style=\"text-align: right;\">0.10625 </td><td style=\"text-align: right;\">    10</td><td style=\"text-align: right;\">        20.5141 </td></tr>\n",
       "<tr><td>train_mnist_af561_00004</td><td>TERMINATED</td><td>                   </td><td style=\"text-align: right;\">6.29387e-09</td><td style=\"text-align: right;\">  0.252046</td><td style=\"text-align: right;\">0.1125  </td><td style=\"text-align: right;\">    10</td><td style=\"text-align: right;\">        19.8356 </td></tr>\n",
       "<tr><td>train_mnist_af561_00005</td><td>TERMINATED</td><td>                   </td><td style=\"text-align: right;\">2.83837e-05</td><td style=\"text-align: right;\">  0.635141</td><td style=\"text-align: right;\">0.05    </td><td style=\"text-align: right;\">    10</td><td style=\"text-align: right;\">        20.0418 </td></tr>\n",
       "<tr><td>train_mnist_af561_00007</td><td>TERMINATED</td><td>                   </td><td style=\"text-align: right;\">3.41018e-08</td><td style=\"text-align: right;\">  0.485819</td><td style=\"text-align: right;\">0.171875</td><td style=\"text-align: right;\">    10</td><td style=\"text-align: right;\">        21.0427 </td></tr>\n",
       "<tr><td>train_mnist_af561_00008</td><td>TERMINATED</td><td>                   </td><td style=\"text-align: right;\">8.61318e-08</td><td style=\"text-align: right;\">  0.189483</td><td style=\"text-align: right;\">0.0375  </td><td style=\"text-align: right;\">    10</td><td style=\"text-align: right;\">        23.6999 </td></tr>\n",
       "<tr><td>train_mnist_af561_00009</td><td>TERMINATED</td><td>                   </td><td style=\"text-align: right;\">0.00177473 </td><td style=\"text-align: right;\">  0.293255</td><td style=\"text-align: right;\">0.171875</td><td style=\"text-align: right;\">    10</td><td style=\"text-align: right;\">        25.8296 </td></tr>\n",
       "<tr><td>train_mnist_af561_00010</td><td>TERMINATED</td><td>                   </td><td style=\"text-align: right;\">0.00564488 </td><td style=\"text-align: right;\">  0.869707</td><td style=\"text-align: right;\">0.88125 </td><td style=\"text-align: right;\">    10</td><td style=\"text-align: right;\">        24.0305 </td></tr>\n",
       "<tr><td>train_mnist_af561_00011</td><td>TERMINATED</td><td>                   </td><td style=\"text-align: right;\">0.158022   </td><td style=\"text-align: right;\">  0.285643</td><td style=\"text-align: right;\">0.91875 </td><td style=\"text-align: right;\">    10</td><td style=\"text-align: right;\">        11.6827 </td></tr>\n",
       "<tr><td>train_mnist_af561_00012</td><td>TERMINATED</td><td>                   </td><td style=\"text-align: right;\">4.68526e-05</td><td style=\"text-align: right;\">  0.233772</td><td style=\"text-align: right;\">0.09375 </td><td style=\"text-align: right;\">    10</td><td style=\"text-align: right;\">        26.4204 </td></tr>\n",
       "<tr><td>train_mnist_af561_00013</td><td>TERMINATED</td><td>                   </td><td style=\"text-align: right;\">1.47123e-08</td><td style=\"text-align: right;\">  0.773651</td><td style=\"text-align: right;\">0.11875 </td><td style=\"text-align: right;\">    10</td><td style=\"text-align: right;\">        13.7249 </td></tr>\n",
       "<tr><td>train_mnist_af561_00014</td><td>TERMINATED</td><td>                   </td><td style=\"text-align: right;\">1.25491e-10</td><td style=\"text-align: right;\">  0.838552</td><td style=\"text-align: right;\">0.0625  </td><td style=\"text-align: right;\">    10</td><td style=\"text-align: right;\">        15.9733 </td></tr>\n",
       "<tr><td>train_mnist_af561_00016</td><td>TERMINATED</td><td>                   </td><td style=\"text-align: right;\">3.09241e-07</td><td style=\"text-align: right;\">  0.21736 </td><td style=\"text-align: right;\">0.16875 </td><td style=\"text-align: right;\">    10</td><td style=\"text-align: right;\">        12.8281 </td></tr>\n",
       "</tbody>\n",
       "</table><br><br>"
      ],
      "text/plain": [
       "<IPython.core.display.HTML object>"
      ]
     },
     "metadata": {},
     "output_type": "display_data"
    },
    {
     "name": "stderr",
     "output_type": "stream",
     "text": [
      " 87%|████████▋ | 1426432/1648877 [00:42<00:06, 33290.96it/s]\n",
      " 17%|█▋        | 279552/1648877 [00:08<00:40, 33448.12it/s]\n",
      "  0%|          | 0/1648877 [00:00<?, ?it/s]\n",
      "  0%|          | 0/1648877 [00:00<?, ?it/s]\n",
      " 87%|████████▋ | 1434624/1648877 [00:42<00:06, 31895.65it/s]\n",
      " 17%|█▋        | 283648/1648877 [00:08<00:57, 23760.95it/s]\n",
      "  0%|          | 6144/1648877 [00:00<01:15, 21866.97it/s]\n",
      "  0%|          | 6144/1648877 [00:00<01:15, 21874.61it/s]\n",
      " 11%|█         | 182272/1648877 [00:00<00:47, 31023.46it/s]\n",
      " 10%|▉         | 156672/1648877 [00:00<00:48, 31038.01it/s]\n",
      " 88%|████████▊ | 1442816/1648877 [00:43<00:06, 33003.30it/s]\n",
      " 36%|███▌      | 590848/1648877 [00:00<00:23, 44202.90it/s]\n",
      " 18%|█▊        | 295936/1648877 [00:08<00:47, 28567.07it/s]\n",
      " 47%|████▋     | 774144/1648877 [00:00<00:19, 44216.92it/s]\n"
     ]
    },
    {
     "name": "stdout",
     "output_type": "stream",
     "text": [
      "\u001b[2m\u001b[36m(pid=16991)\u001b[0m Extracting {cwd}/data/MNIST/raw/t10k-images-idx3-ubyte.gz to {cwd}/data/MNIST/raw\n",
      "\u001b[2m\u001b[36m(pid=17007)\u001b[0m Extracting {cwd}/data/MNIST/raw/t10k-images-idx3-ubyte.gz to {cwd}/data/MNIST/raw\n"
     ]
    },
    {
     "name": "stderr",
     "output_type": "stream",
     "text": [
      "1649664it [00:00, 2642311.91it/s]                           \n",
      " 54%|█████▍    | 887808/1648877 [00:00<00:12, 62676.82it/s]\n",
      " 88%|████████▊ | 1451008/1648877 [00:43<00:05, 33435.14it/s]\n",
      " 18%|█▊        | 304128/1648877 [00:09<00:44, 30110.91it/s]\n",
      "1649664it [00:00, 2238624.57it/s]                           \n"
     ]
    },
    {
     "name": "stdout",
     "output_type": "stream",
     "text": [
      "\u001b[2m\u001b[36m(pid=16991)\u001b[0m \n",
      "\u001b[2m\u001b[36m(pid=16991)\u001b[0m Downloading http://yann.lecun.com/exdb/mnist/t10k-labels-idx1-ubyte.gz\n",
      "\u001b[2m\u001b[36m(pid=17007)\u001b[0m \n",
      "\u001b[2m\u001b[36m(pid=17007)\u001b[0m Downloading http://yann.lecun.com/exdb/mnist/t10k-labels-idx1-ubyte.gz\n",
      "\u001b[2m\u001b[36m(pid=16991)\u001b[0m Downloading http://yann.lecun.com/exdb/mnist/t10k-labels-idx1-ubyte.gz to {cwd}/data/MNIST/raw/t10k-labels-idx1-ubyte.gz\n",
      "\u001b[2m\u001b[36m(pid=17007)\u001b[0m Downloading http://yann.lecun.com/exdb/mnist/t10k-labels-idx1-ubyte.gz to {cwd}/data/MNIST/raw/t10k-labels-idx1-ubyte.gz\n"
     ]
    },
    {
     "name": "stderr",
     "output_type": "stream",
     "text": [
      " 88%|████████▊ | 1459200/1648877 [00:43<00:05, 33419.73it/s]\n",
      " 19%|█▉        | 312320/1648877 [00:09<00:42, 31210.78it/s]\n",
      "5120it [00:00, 8910720.53it/s]          \n"
     ]
    },
    {
     "name": "stdout",
     "output_type": "stream",
     "text": [
      "\u001b[2m\u001b[36m(pid=16991)\u001b[0m Extracting {cwd}/data/MNIST/raw/t10k-labels-idx1-ubyte.gz to {cwd}/data/MNIST/raw\n",
      "\u001b[2m\u001b[36m(pid=16991)\u001b[0m \n",
      "\u001b[2m\u001b[36m(pid=17007)\u001b[0m Extracting {cwd}/data/MNIST/raw/t10k-labels-idx1-ubyte.gz to {cwd}/data/MNIST/raw\n",
      "\u001b[2m\u001b[36m(pid=17007)\u001b[0m \n"
     ]
    },
    {
     "name": "stderr",
     "output_type": "stream",
     "text": [
      " 89%|████████▉ | 1467392/1648877 [00:43<00:05, 33561.32it/s]\n",
      " 19%|█▉        | 320512/1648877 [00:09<00:41, 31860.85it/s]\n",
      "\u001b[2m\u001b[36m(pid=16991)\u001b[0m /home/therealchainman/miniconda3/lib/python3.8/site-packages/torchvision/datasets/mnist.py:498: UserWarning: The given NumPy array is not writeable, and PyTorch does not support non-writeable tensors. This means you can write to the underlying (supposedly non-writeable) NumPy array using the tensor. You may want to copy the array to protect its data or make it writeable before converting it to a tensor. This type of warning will be suppressed for the rest of this program. (Triggered internally at  /pytorch/torch/csrc/utils/tensor_numpy.cpp:180.)\n",
      "\u001b[2m\u001b[36m(pid=16991)\u001b[0m   return torch.from_numpy(parsed.astype(m[2], copy=False)).view(*s)\n",
      "5120it [00:00, 10444959.38it/s]         \n",
      "\u001b[2m\u001b[36m(pid=17007)\u001b[0m /home/therealchainman/miniconda3/lib/python3.8/site-packages/torchvision/datasets/mnist.py:498: UserWarning: The given NumPy array is not writeable, and PyTorch does not support non-writeable tensors. This means you can write to the underlying (supposedly non-writeable) NumPy array using the tensor. You may want to copy the array to protect its data or make it writeable before converting it to a tensor. This type of warning will be suppressed for the rest of this program. (Triggered internally at  /pytorch/torch/csrc/utils/tensor_numpy.cpp:180.)\n",
      "\u001b[2m\u001b[36m(pid=17007)\u001b[0m   return torch.from_numpy(parsed.astype(m[2], copy=False)).view(*s)\n",
      "\u001b[2m\u001b[36m(pid=16991)\u001b[0m /home/therealchainman/miniconda3/lib/python3.8/site-packages/torch/nn/functional.py:718: UserWarning: Named tensors and all their associated APIs are an experimental feature and subject to change. Please do not use them for anything important until they are released as stable. (Triggered internally at  /pytorch/c10/core/TensorImpl.h:1156.)\n",
      "\u001b[2m\u001b[36m(pid=16991)\u001b[0m   return torch.max_pool2d(input, kernel_size, stride, padding, dilation, ceil_mode)\n",
      "\u001b[2m\u001b[36m(pid=17007)\u001b[0m /home/therealchainman/miniconda3/lib/python3.8/site-packages/torch/nn/functional.py:718: UserWarning: Named tensors and all their associated APIs are an experimental feature and subject to change. Please do not use them for anything important until they are released as stable. (Triggered internally at  /pytorch/c10/core/TensorImpl.h:1156.)\n",
      "\u001b[2m\u001b[36m(pid=17007)\u001b[0m   return torch.max_pool2d(input, kernel_size, stride, padding, dilation, ceil_mode)\n",
      " 89%|████████▉ | 1475584/1648877 [00:44<00:06, 26015.20it/s]\n",
      " 20%|█▉        | 328704/1648877 [00:10<00:51, 25829.33it/s]\n",
      " 90%|█████████ | 1491968/1648877 [00:44<00:05, 30726.92it/s]\n",
      " 21%|██        | 345088/1648877 [00:10<00:42, 30545.90it/s]\n"
     ]
    },
    {
     "name": "stdout",
     "output_type": "stream",
     "text": [
      "Result for train_mnist_af561_00017:\n",
      "  date: 2021-06-22_16-43-05\n",
      "  done: false\n",
      "  experiment_id: 86a155c36dc24bf588d7bd6197f655e1\n",
      "  hostname: therealchainman\n",
      "  iterations_since_restore: 7\n",
      "  mean_accuracy: 0.09375\n",
      "  node_ip: 192.168.1.106\n",
      "  pid: 16958\n",
      "  time_since_restore: 12.476001977920532\n",
      "  time_this_iter_s: 0.9350771903991699\n",
      "  time_total_s: 12.476001977920532\n",
      "  timestamp: 1624398185\n",
      "  timesteps_since_restore: 0\n",
      "  training_iteration: 7\n",
      "  trial_id: af561_00017\n",
      "  \n",
      "Result for train_mnist_af561_00019:\n",
      "  date: 2021-06-22_16-43-05\n",
      "  done: false\n",
      "  experiment_id: da4edee2d57947b7bfd632096e16ece7\n",
      "  hostname: therealchainman\n",
      "  iterations_since_restore: 1\n",
      "  mean_accuracy: 0.121875\n",
      "  node_ip: 192.168.1.106\n",
      "  pid: 16991\n",
      "  time_since_restore: 7.505829334259033\n",
      "  time_this_iter_s: 7.505829334259033\n",
      "  time_total_s: 7.505829334259033\n",
      "  timestamp: 1624398185\n",
      "  timesteps_since_restore: 0\n",
      "  training_iteration: 1\n",
      "  trial_id: af561_00019\n",
      "  \n",
      "Result for train_mnist_af561_00018:\n",
      "  date: 2021-06-22_16-43-05\n",
      "  done: false\n",
      "  experiment_id: 8c750620a9e444b29cf2e68d39d5d80d\n",
      "  hostname: therealchainman\n",
      "  iterations_since_restore: 1\n",
      "  mean_accuracy: 0.078125\n",
      "  node_ip: 192.168.1.106\n",
      "  pid: 17007\n",
      "  time_since_restore: 7.258823394775391\n",
      "  time_this_iter_s: 7.258823394775391\n",
      "  time_total_s: 7.258823394775391\n",
      "  timestamp: 1624398185\n",
      "  timesteps_since_restore: 0\n",
      "  training_iteration: 1\n",
      "  trial_id: af561_00018\n",
      "  \n"
     ]
    },
    {
     "name": "stderr",
     "output_type": "stream",
     "text": [
      " 91%|█████████ | 1500160/1648877 [00:44<00:05, 29225.20it/s]\n",
      " 21%|██▏       | 353280/1648877 [00:10<00:44, 29100.43it/s]\n",
      " 22%|██▏       | 361472/1648877 [00:10<00:36, 35098.69it/s]\n"
     ]
    },
    {
     "name": "stdout",
     "output_type": "stream",
     "text": [
      "Result for train_mnist_af561_00017:\n",
      "  date: 2021-06-22_16-43-06\n",
      "  done: true\n",
      "  experiment_id: 86a155c36dc24bf588d7bd6197f655e1\n",
      "  experiment_tag: 17_lr=1.5116e-06,momentum=0.2668\n",
      "  hostname: therealchainman\n",
      "  iterations_since_restore: 10\n",
      "  mean_accuracy: 0.140625\n",
      "  node_ip: 192.168.1.106\n",
      "  pid: 16958\n",
      "  time_since_restore: 13.160701990127563\n",
      "  time_this_iter_s: 0.19457268714904785\n",
      "  time_total_s: 13.160701990127563\n",
      "  timestamp: 1624398186\n",
      "  timesteps_since_restore: 0\n",
      "  training_iteration: 10\n",
      "  trial_id: af561_00017\n",
      "  \n"
     ]
    },
    {
     "name": "stderr",
     "output_type": "stream",
     "text": [
      " 92%|█████████▏| 1516544/1648877 [00:45<00:04, 28501.19it/s]\n",
      " 22%|██▏       | 369664/1648877 [00:11<00:48, 26462.99it/s]\n",
      " 93%|█████████▎| 1532928/1648877 [00:45<00:03, 33099.55it/s]\n",
      " 23%|██▎       | 386048/1648877 [00:11<00:40, 31163.16it/s]\n",
      " 93%|█████████▎| 1541120/1648877 [00:45<00:03, 34915.17it/s]\n",
      " 24%|██▍       | 394240/1648877 [00:11<00:37, 33388.34it/s]\n",
      " 94%|█████████▍| 1549312/1648877 [00:46<00:03, 28577.44it/s]\n",
      " 24%|██▍       | 402432/1648877 [00:12<00:44, 27832.35it/s]\n"
     ]
    },
    {
     "name": "stdout",
     "output_type": "stream",
     "text": [
      "Result for train_mnist_af561_00018:\n",
      "  date: 2021-06-22_16-43-07\n",
      "  done: true\n",
      "  experiment_id: 8c750620a9e444b29cf2e68d39d5d80d\n",
      "  experiment_tag: 18_lr=2.2104e-06,momentum=0.66885\n",
      "  hostname: therealchainman\n",
      "  iterations_since_restore: 10\n",
      "  mean_accuracy: 0.078125\n",
      "  node_ip: 192.168.1.106\n",
      "  pid: 17007\n",
      "  time_since_restore: 9.014971494674683\n",
      "  time_this_iter_s: 0.1693875789642334\n",
      "  time_total_s: 9.014971494674683\n",
      "  timestamp: 1624398187\n",
      "  timesteps_since_restore: 0\n",
      "  training_iteration: 10\n",
      "  trial_id: af561_00018\n",
      "  \n",
      "Result for train_mnist_af561_00019:\n",
      "  date: 2021-06-22_16-43-07\n",
      "  done: true\n",
      "  experiment_id: da4edee2d57947b7bfd632096e16ece7\n",
      "  experiment_tag: 19_lr=6.4725e-05,momentum=0.82174\n",
      "  hostname: therealchainman\n",
      "  iterations_since_restore: 10\n",
      "  mean_accuracy: 0.11875\n",
      "  node_ip: 192.168.1.106\n",
      "  pid: 16991\n",
      "  time_since_restore: 9.335988998413086\n",
      "  time_this_iter_s: 0.17473506927490234\n",
      "  time_total_s: 9.335988998413086\n",
      "  timestamp: 1624398187\n",
      "  timesteps_since_restore: 0\n",
      "  training_iteration: 10\n",
      "  trial_id: af561_00019\n",
      "  \n"
     ]
    },
    {
     "name": "stderr",
     "output_type": "stream",
     "text": [
      " 95%|█████████▍| 1565696/1648877 [00:46<00:02, 33161.82it/s]\n",
      " 25%|██▌       | 418816/1648877 [00:12<00:37, 32453.54it/s]\n",
      " 95%|█████████▌| 1573888/1648877 [00:46<00:02, 34965.49it/s]\n",
      " 26%|██▌       | 427008/1648877 [00:12<00:35, 34413.99it/s]\n",
      " 96%|█████████▌| 1582080/1648877 [00:47<00:01, 36337.34it/s]\n",
      " 26%|██▋       | 435200/1648877 [00:12<00:33, 35957.62it/s]\n",
      " 96%|█████████▋| 1590272/1648877 [00:47<00:01, 37438.48it/s]\n",
      " 27%|██▋       | 443392/1648877 [00:13<00:32, 37131.04it/s]\n",
      " 97%|█████████▋| 1598464/1648877 [00:47<00:01, 33287.28it/s]\n",
      " 27%|██▋       | 451584/1648877 [00:13<00:36, 33133.34it/s]\n",
      " 97%|█████████▋| 1606656/1648877 [00:47<00:01, 40144.78it/s]\n",
      " 28%|██▊       | 459776/1648877 [00:13<00:30, 38477.72it/s]\n",
      " 98%|█████████▊| 1614848/1648877 [00:48<00:01, 27798.41it/s]\n",
      " 28%|██▊       | 467968/1648877 [00:14<00:42, 27934.05it/s]\n",
      " 99%|█████████▉| 1631232/1648877 [00:48<00:00, 34543.00it/s]\n",
      " 29%|██▉       | 484352/1648877 [00:14<00:33, 34711.46it/s]\n",
      " 99%|█████████▉| 1639424/1648877 [00:48<00:00, 28184.32it/s]\n",
      " 30%|██▉       | 492544/1648877 [00:14<00:40, 28272.38it/s]\n",
      "1649664it [00:48, 33728.05it/s]                             \n"
     ]
    },
    {
     "name": "stdout",
     "output_type": "stream",
     "text": [
      "\u001b[2m\u001b[36m(pid=16306)\u001b[0m Extracting {cwd}/data/MNIST/raw/t10k-images-idx3-ubyte.gz to {cwd}/data/MNIST/raw\n",
      "\u001b[2m\u001b[36m(pid=16306)\u001b[0m \n",
      "\u001b[2m\u001b[36m(pid=16306)\u001b[0m Downloading http://yann.lecun.com/exdb/mnist/t10k-labels-idx1-ubyte.gz\n"
     ]
    },
    {
     "name": "stderr",
     "output_type": "stream",
     "text": [
      " 31%|███       | 508928/1648877 [00:14<00:33, 33658.69it/s]\n",
      " 31%|███▏      | 517120/1648877 [00:15<00:37, 30207.94it/s]\n",
      "5120it [00:00, 15505297.10it/s]         \n"
     ]
    },
    {
     "name": "stdout",
     "output_type": "stream",
     "text": [
      "\u001b[2m\u001b[36m(pid=16306)\u001b[0m Downloading http://yann.lecun.com/exdb/mnist/t10k-labels-idx1-ubyte.gz to {cwd}/data/MNIST/raw/t10k-labels-idx1-ubyte.gz\n",
      "\u001b[2m\u001b[36m(pid=16306)\u001b[0m Extracting {cwd}/data/MNIST/raw/t10k-labels-idx1-ubyte.gz to {cwd}/data/MNIST/raw\n",
      "\u001b[2m\u001b[36m(pid=16306)\u001b[0m \n"
     ]
    },
    {
     "name": "stderr",
     "output_type": "stream",
     "text": [
      "\u001b[2m\u001b[36m(pid=16306)\u001b[0m /home/therealchainman/miniconda3/lib/python3.8/site-packages/torchvision/datasets/mnist.py:498: UserWarning: The given NumPy array is not writeable, and PyTorch does not support non-writeable tensors. This means you can write to the underlying (supposedly non-writeable) NumPy array using the tensor. You may want to copy the array to protect its data or make it writeable before converting it to a tensor. This type of warning will be suppressed for the rest of this program. (Triggered internally at  /pytorch/torch/csrc/utils/tensor_numpy.cpp:180.)\n",
      "\u001b[2m\u001b[36m(pid=16306)\u001b[0m   return torch.from_numpy(parsed.astype(m[2], copy=False)).view(*s)\n",
      " 32%|███▏      | 533504/1648877 [00:15<00:31, 35478.37it/s]\n",
      "\u001b[2m\u001b[36m(pid=16306)\u001b[0m /home/therealchainman/miniconda3/lib/python3.8/site-packages/torch/nn/functional.py:718: UserWarning: Named tensors and all their associated APIs are an experimental feature and subject to change. Please do not use them for anything important until they are released as stable. (Triggered internally at  /pytorch/c10/core/TensorImpl.h:1156.)\n",
      "\u001b[2m\u001b[36m(pid=16306)\u001b[0m   return torch.max_pool2d(input, kernel_size, stride, padding, dilation, ceil_mode)\n",
      " 33%|███▎      | 541696/1648877 [00:15<00:35, 30806.81it/s]\n"
     ]
    },
    {
     "name": "stdout",
     "output_type": "stream",
     "text": [
      "Result for train_mnist_af561_00006:\n",
      "  date: 2021-06-22_16-43-11\n",
      "  done: false\n",
      "  experiment_id: 40629c8858e14602b5f0da306a7ff127\n",
      "  hostname: therealchainman\n",
      "  iterations_since_restore: 1\n",
      "  mean_accuracy: 0.0375\n",
      "  node_ip: 192.168.1.106\n",
      "  pid: 16306\n",
      "  time_since_restore: 64.0999825000763\n",
      "  time_this_iter_s: 64.0999825000763\n",
      "  time_total_s: 64.0999825000763\n",
      "  timestamp: 1624398191\n",
      "  timesteps_since_restore: 0\n",
      "  training_iteration: 1\n",
      "  trial_id: af561_00006\n",
      "  \n"
     ]
    },
    {
     "name": "stderr",
     "output_type": "stream",
     "text": [
      " 34%|███▍      | 558080/1648877 [00:16<00:30, 35438.21it/s]\n"
     ]
    },
    {
     "data": {
      "text/html": [
       "== Status ==<br>Memory usage on this node: 4.4/15.5 GiB<br>Using FIFO scheduling algorithm.<br>Resources requested: 2.0/8 CPUs, 0/0 GPUs, 0.0/8.04 GiB heap, 0.0/4.02 GiB objects<br>Result logdir: /home/therealchainman/ray_results/train_mnist_2021-06-22_16-42-04<br>Number of trials: 20/20 (2 RUNNING, 18 TERMINATED)<br><table>\n",
       "<thead>\n",
       "<tr><th>Trial name             </th><th>status    </th><th>loc                </th><th style=\"text-align: right;\">         lr</th><th style=\"text-align: right;\">  momentum</th><th style=\"text-align: right;\">     acc</th><th style=\"text-align: right;\">  iter</th><th style=\"text-align: right;\">  total time (s)</th></tr>\n",
       "</thead>\n",
       "<tbody>\n",
       "<tr><td>train_mnist_af561_00006</td><td>RUNNING   </td><td>192.168.1.106:16306</td><td style=\"text-align: right;\">2.12237e-09</td><td style=\"text-align: right;\">  0.881509</td><td style=\"text-align: right;\">0.0375  </td><td style=\"text-align: right;\">     1</td><td style=\"text-align: right;\">        64.1    </td></tr>\n",
       "<tr><td>train_mnist_af561_00015</td><td>RUNNING   </td><td>                   </td><td style=\"text-align: right;\">3.72716e-09</td><td style=\"text-align: right;\">  0.462565</td><td style=\"text-align: right;\">        </td><td style=\"text-align: right;\">      </td><td style=\"text-align: right;\">                </td></tr>\n",
       "<tr><td>train_mnist_af561_00000</td><td>TERMINATED</td><td>                   </td><td style=\"text-align: right;\">6.41811e-07</td><td style=\"text-align: right;\">  0.189627</td><td style=\"text-align: right;\">0.11875 </td><td style=\"text-align: right;\">    10</td><td style=\"text-align: right;\">        21.3846 </td></tr>\n",
       "<tr><td>train_mnist_af561_00001</td><td>TERMINATED</td><td>                   </td><td style=\"text-align: right;\">2.92354e-09</td><td style=\"text-align: right;\">  0.501897</td><td style=\"text-align: right;\">0.1     </td><td style=\"text-align: right;\">    10</td><td style=\"text-align: right;\">        21.1354 </td></tr>\n",
       "<tr><td>train_mnist_af561_00002</td><td>TERMINATED</td><td>                   </td><td style=\"text-align: right;\">1.01225e-08</td><td style=\"text-align: right;\">  0.383448</td><td style=\"text-align: right;\">0.084375</td><td style=\"text-align: right;\">    10</td><td style=\"text-align: right;\">        20.6104 </td></tr>\n",
       "<tr><td>train_mnist_af561_00003</td><td>TERMINATED</td><td>                   </td><td style=\"text-align: right;\">1.55157e-06</td><td style=\"text-align: right;\">  0.778785</td><td style=\"text-align: right;\">0.10625 </td><td style=\"text-align: right;\">    10</td><td style=\"text-align: right;\">        20.5141 </td></tr>\n",
       "<tr><td>train_mnist_af561_00004</td><td>TERMINATED</td><td>                   </td><td style=\"text-align: right;\">6.29387e-09</td><td style=\"text-align: right;\">  0.252046</td><td style=\"text-align: right;\">0.1125  </td><td style=\"text-align: right;\">    10</td><td style=\"text-align: right;\">        19.8356 </td></tr>\n",
       "<tr><td>train_mnist_af561_00005</td><td>TERMINATED</td><td>                   </td><td style=\"text-align: right;\">2.83837e-05</td><td style=\"text-align: right;\">  0.635141</td><td style=\"text-align: right;\">0.05    </td><td style=\"text-align: right;\">    10</td><td style=\"text-align: right;\">        20.0418 </td></tr>\n",
       "<tr><td>train_mnist_af561_00007</td><td>TERMINATED</td><td>                   </td><td style=\"text-align: right;\">3.41018e-08</td><td style=\"text-align: right;\">  0.485819</td><td style=\"text-align: right;\">0.171875</td><td style=\"text-align: right;\">    10</td><td style=\"text-align: right;\">        21.0427 </td></tr>\n",
       "<tr><td>train_mnist_af561_00008</td><td>TERMINATED</td><td>                   </td><td style=\"text-align: right;\">8.61318e-08</td><td style=\"text-align: right;\">  0.189483</td><td style=\"text-align: right;\">0.0375  </td><td style=\"text-align: right;\">    10</td><td style=\"text-align: right;\">        23.6999 </td></tr>\n",
       "<tr><td>train_mnist_af561_00009</td><td>TERMINATED</td><td>                   </td><td style=\"text-align: right;\">0.00177473 </td><td style=\"text-align: right;\">  0.293255</td><td style=\"text-align: right;\">0.171875</td><td style=\"text-align: right;\">    10</td><td style=\"text-align: right;\">        25.8296 </td></tr>\n",
       "<tr><td>train_mnist_af561_00010</td><td>TERMINATED</td><td>                   </td><td style=\"text-align: right;\">0.00564488 </td><td style=\"text-align: right;\">  0.869707</td><td style=\"text-align: right;\">0.88125 </td><td style=\"text-align: right;\">    10</td><td style=\"text-align: right;\">        24.0305 </td></tr>\n",
       "<tr><td>train_mnist_af561_00011</td><td>TERMINATED</td><td>                   </td><td style=\"text-align: right;\">0.158022   </td><td style=\"text-align: right;\">  0.285643</td><td style=\"text-align: right;\">0.91875 </td><td style=\"text-align: right;\">    10</td><td style=\"text-align: right;\">        11.6827 </td></tr>\n",
       "<tr><td>train_mnist_af561_00012</td><td>TERMINATED</td><td>                   </td><td style=\"text-align: right;\">4.68526e-05</td><td style=\"text-align: right;\">  0.233772</td><td style=\"text-align: right;\">0.09375 </td><td style=\"text-align: right;\">    10</td><td style=\"text-align: right;\">        26.4204 </td></tr>\n",
       "<tr><td>train_mnist_af561_00013</td><td>TERMINATED</td><td>                   </td><td style=\"text-align: right;\">1.47123e-08</td><td style=\"text-align: right;\">  0.773651</td><td style=\"text-align: right;\">0.11875 </td><td style=\"text-align: right;\">    10</td><td style=\"text-align: right;\">        13.7249 </td></tr>\n",
       "<tr><td>train_mnist_af561_00014</td><td>TERMINATED</td><td>                   </td><td style=\"text-align: right;\">1.25491e-10</td><td style=\"text-align: right;\">  0.838552</td><td style=\"text-align: right;\">0.0625  </td><td style=\"text-align: right;\">    10</td><td style=\"text-align: right;\">        15.9733 </td></tr>\n",
       "<tr><td>train_mnist_af561_00016</td><td>TERMINATED</td><td>                   </td><td style=\"text-align: right;\">3.09241e-07</td><td style=\"text-align: right;\">  0.21736 </td><td style=\"text-align: right;\">0.16875 </td><td style=\"text-align: right;\">    10</td><td style=\"text-align: right;\">        12.8281 </td></tr>\n",
       "<tr><td>train_mnist_af561_00017</td><td>TERMINATED</td><td>                   </td><td style=\"text-align: right;\">1.51156e-06</td><td style=\"text-align: right;\">  0.266795</td><td style=\"text-align: right;\">0.140625</td><td style=\"text-align: right;\">    10</td><td style=\"text-align: right;\">        13.1607 </td></tr>\n",
       "<tr><td>train_mnist_af561_00018</td><td>TERMINATED</td><td>                   </td><td style=\"text-align: right;\">2.21039e-06</td><td style=\"text-align: right;\">  0.66885 </td><td style=\"text-align: right;\">0.078125</td><td style=\"text-align: right;\">    10</td><td style=\"text-align: right;\">         9.01497</td></tr>\n",
       "<tr><td>train_mnist_af561_00019</td><td>TERMINATED</td><td>                   </td><td style=\"text-align: right;\">6.47251e-05</td><td style=\"text-align: right;\">  0.821736</td><td style=\"text-align: right;\">0.11875 </td><td style=\"text-align: right;\">    10</td><td style=\"text-align: right;\">         9.33599</td></tr>\n",
       "</tbody>\n",
       "</table><br><br>"
      ],
      "text/plain": [
       "<IPython.core.display.HTML object>"
      ]
     },
     "metadata": {},
     "output_type": "display_data"
    },
    {
     "name": "stderr",
     "output_type": "stream",
     "text": [
      " 34%|███▍      | 566272/1648877 [00:16<00:29, 36253.24it/s]\n",
      " 35%|███▍      | 574464/1648877 [00:16<00:36, 29189.21it/s]\n",
      " 36%|███▌      | 590848/1648877 [00:17<00:37, 28466.74it/s]\n",
      " 37%|███▋      | 607232/1648877 [00:17<00:29, 35283.60it/s]\n",
      " 37%|███▋      | 615424/1648877 [00:17<00:28, 36593.67it/s]\n",
      " 38%|███▊      | 623616/1648877 [00:18<00:27, 37282.80it/s]\n",
      " 38%|███▊      | 631808/1648877 [00:18<00:30, 33603.24it/s]\n",
      " 39%|███▉      | 644096/1648877 [00:18<00:38, 25792.13it/s]\n",
      " 40%|███▉      | 656384/1648877 [00:18<00:30, 32425.51it/s]\n",
      " 40%|████      | 664576/1648877 [00:19<00:28, 34377.76it/s]\n",
      " 41%|████      | 672768/1648877 [00:19<00:34, 28271.86it/s]\n",
      " 42%|████▏     | 689152/1648877 [00:19<00:29, 32817.51it/s]\n",
      " 42%|████▏     | 697344/1648877 [00:20<00:27, 34917.07it/s]\n",
      " 43%|████▎     | 705536/1648877 [00:20<00:25, 36289.34it/s]\n",
      " 43%|████▎     | 713728/1648877 [00:20<00:24, 38541.44it/s]\n"
     ]
    },
    {
     "name": "stdout",
     "output_type": "stream",
     "text": [
      "Result for train_mnist_af561_00006:\n",
      "  date: 2021-06-22_16-43-15\n",
      "  done: true\n",
      "  experiment_id: 40629c8858e14602b5f0da306a7ff127\n",
      "  experiment_tag: 6_lr=2.1224e-09,momentum=0.88151\n",
      "  hostname: therealchainman\n",
      "  iterations_since_restore: 10\n",
      "  mean_accuracy: 0.021875\n",
      "  node_ip: 192.168.1.106\n",
      "  pid: 16306\n",
      "  time_since_restore: 68.26844549179077\n",
      "  time_this_iter_s: 0.20087313652038574\n",
      "  time_total_s: 68.26844549179077\n",
      "  timestamp: 1624398195\n",
      "  timesteps_since_restore: 0\n",
      "  training_iteration: 10\n",
      "  trial_id: af561_00006\n",
      "  \n"
     ]
    },
    {
     "name": "stderr",
     "output_type": "stream",
     "text": [
      " 44%|████▍     | 721920/1648877 [00:20<00:28, 32829.47it/s]\n",
      " 44%|████▍     | 730112/1648877 [00:21<00:26, 34926.54it/s]\n",
      " 45%|████▍     | 738304/1648877 [00:21<00:25, 36310.04it/s]\n",
      " 45%|████▌     | 746496/1648877 [00:21<00:24, 37363.48it/s]\n",
      " 46%|████▌     | 754688/1648877 [00:21<00:26, 33134.77it/s]\n",
      " 47%|████▋     | 771072/1648877 [00:22<00:28, 30961.97it/s]\n",
      " 48%|████▊     | 787456/1648877 [00:22<00:21, 40262.19it/s]\n",
      " 48%|████▊     | 795648/1648877 [00:22<00:30, 28207.27it/s]\n",
      " 49%|████▉     | 812032/1648877 [00:23<00:22, 36739.75it/s]\n",
      " 50%|█████     | 826368/1648877 [00:23<00:30, 27205.97it/s]\n",
      " 51%|█████     | 844800/1648877 [00:24<00:25, 31230.06it/s]\n",
      " 52%|█████▏    | 861184/1648877 [00:24<00:20, 39362.09it/s]\n",
      " 53%|█████▎    | 869376/1648877 [00:24<00:19, 39545.11it/s]\n",
      " 53%|█████▎    | 877568/1648877 [00:24<00:20, 37092.76it/s]\n",
      " 54%|█████▎    | 885760/1648877 [00:25<00:25, 30457.68it/s]\n",
      " 55%|█████▍    | 902144/1648877 [00:25<00:20, 36833.81it/s]\n",
      " 55%|█████▌    | 910336/1648877 [00:25<00:19, 37955.39it/s]\n",
      " 56%|█████▌    | 918528/1648877 [00:26<00:24, 29786.05it/s]\n",
      " 57%|█████▋    | 934912/1648877 [00:26<00:20, 34313.58it/s]\n",
      " 57%|█████▋    | 943104/1648877 [00:26<00:17, 39458.35it/s]\n",
      " 58%|█████▊    | 951296/1648877 [00:26<00:24, 28308.80it/s]\n",
      " 59%|█████▊    | 967680/1648877 [00:27<00:21, 31804.88it/s]\n",
      " 60%|█████▉    | 984064/1648877 [00:27<00:22, 30050.21it/s]\n",
      " 61%|██████    | 1000448/1648877 [00:28<00:16, 39567.38it/s]\n",
      " 61%|██████    | 1008640/1648877 [00:28<00:21, 29429.84it/s]\n",
      " 62%|██████▏   | 1025024/1648877 [00:28<00:19, 32759.62it/s]\n",
      " 63%|██████▎   | 1041408/1648877 [00:29<00:16, 36018.62it/s]\n",
      " 64%|██████▎   | 1049600/1648877 [00:29<00:15, 39852.67it/s]\n",
      " 64%|██████▍   | 1057792/1648877 [00:29<00:19, 30386.40it/s]\n",
      " 65%|██████▌   | 1074176/1648877 [00:30<00:16, 34917.82it/s]\n",
      " 66%|██████▌   | 1082368/1648877 [00:30<00:14, 39790.19it/s]\n",
      " 66%|██████▌   | 1090560/1648877 [00:30<00:19, 28525.21it/s]\n",
      " 67%|██████▋   | 1106944/1648877 [00:30<00:14, 37179.97it/s]\n",
      " 68%|██████▊   | 1115136/1648877 [00:31<00:14, 37245.39it/s]\n",
      " 68%|██████▊   | 1123328/1648877 [00:31<00:13, 38141.39it/s]\n",
      " 69%|██████▊   | 1131520/1648877 [00:31<00:13, 38587.31it/s]\n",
      " 69%|██████▉   | 1139712/1648877 [00:31<00:13, 38986.27it/s]\n",
      " 70%|██████▉   | 1147904/1648877 [00:31<00:10, 46171.72it/s]\n",
      " 70%|███████   | 1156096/1648877 [00:32<00:14, 33162.54it/s]\n",
      " 71%|███████   | 1172480/1648877 [00:32<00:11, 40182.30it/s]\n",
      " 72%|███████▏  | 1180672/1648877 [00:32<00:11, 40057.80it/s]\n",
      " 72%|███████▏  | 1188864/1648877 [00:32<00:11, 39828.61it/s]\n",
      " 73%|███████▎  | 1197056/1648877 [00:33<00:11, 40170.39it/s]\n",
      " 73%|███████▎  | 1205248/1648877 [00:33<00:11, 40125.15it/s]\n",
      " 74%|███████▎  | 1213440/1648877 [00:33<00:10, 40035.03it/s]\n",
      " 74%|███████▍  | 1221632/1648877 [00:33<00:10, 40011.05it/s]\n",
      " 75%|███████▍  | 1229824/1648877 [00:33<00:10, 40060.94it/s]\n",
      " 75%|███████▌  | 1238016/1648877 [00:34<00:14, 27617.22it/s]\n",
      " 77%|███████▋  | 1262592/1648877 [00:34<00:12, 30350.32it/s]\n",
      " 78%|███████▊  | 1287168/1648877 [00:35<00:11, 32819.21it/s]\n",
      " 79%|███████▉  | 1303552/1648877 [00:35<00:08, 39854.91it/s]\n",
      " 80%|███████▉  | 1311744/1648877 [00:35<00:08, 39973.21it/s]\n",
      " 80%|████████  | 1319936/1648877 [00:36<00:08, 39668.09it/s]\n",
      " 81%|████████  | 1328128/1648877 [00:36<00:08, 40081.29it/s]\n",
      " 81%|████████  | 1336320/1648877 [00:36<00:07, 40047.39it/s]\n",
      " 81%|████████▏ | 1341440/1648877 [00:36<00:10, 28581.42it/s]\n",
      " 83%|████████▎ | 1360896/1648877 [00:37<00:09, 30749.78it/s]\n",
      " 84%|████████▎ | 1377280/1648877 [00:37<00:07, 37732.26it/s]\n",
      " 84%|████████▍ | 1385472/1648877 [00:37<00:06, 38363.18it/s]\n",
      " 85%|████████▍ | 1393664/1648877 [00:38<00:06, 38578.39it/s]\n",
      " 85%|████████▌ | 1401856/1648877 [00:38<00:06, 39248.93it/s]\n",
      " 86%|████████▌ | 1410048/1648877 [00:38<00:06, 39469.99it/s]\n",
      " 86%|████████▌ | 1418240/1648877 [00:38<00:08, 27265.55it/s]\n",
      " 87%|████████▋ | 1434624/1648877 [00:39<00:06, 34100.07it/s]\n",
      " 88%|████████▊ | 1442816/1648877 [00:39<00:07, 28131.93it/s]\n",
      " 88%|████████▊ | 1459200/1648877 [00:39<00:05, 32684.13it/s]\n",
      " 89%|████████▉ | 1467392/1648877 [00:40<00:05, 34824.36it/s]\n",
      " 89%|████████▉ | 1475584/1648877 [00:40<00:04, 36211.92it/s]\n",
      " 90%|████████▉ | 1483776/1648877 [00:40<00:06, 26109.05it/s]\n",
      " 91%|█████████ | 1500160/1648877 [00:41<00:04, 30971.80it/s]\n",
      " 91%|█████████▏| 1508352/1648877 [00:41<00:04, 33165.18it/s]\n",
      " 92%|█████████▏| 1516544/1648877 [00:41<00:04, 27490.81it/s]\n",
      " 93%|█████████▎| 1532928/1648877 [00:42<00:03, 32324.47it/s]\n",
      " 93%|█████████▎| 1541120/1648877 [00:42<00:03, 34224.42it/s]\n",
      " 94%|█████████▍| 1549312/1648877 [00:42<00:03, 28191.47it/s]\n",
      " 95%|█████████▍| 1565696/1648877 [00:42<00:02, 32759.97it/s]\n",
      " 95%|█████████▌| 1573888/1648877 [00:43<00:02, 30905.19it/s]\n",
      " 96%|█████████▌| 1582080/1648877 [00:43<00:02, 33086.98it/s]\n",
      " 96%|█████████▋| 1590272/1648877 [00:43<00:01, 34847.39it/s]\n",
      " 97%|█████████▋| 1598464/1648877 [00:44<00:01, 25783.16it/s]\n",
      " 98%|█████████▊| 1614848/1648877 [00:44<00:01, 32355.48it/s]\n",
      " 98%|█████████▊| 1623040/1648877 [00:44<00:00, 27143.27it/s]\n",
      " 99%|█████████▉| 1639424/1648877 [00:45<00:00, 32670.88it/s]\n"
     ]
    },
    {
     "name": "stdout",
     "output_type": "stream",
     "text": [
      "\u001b[2m\u001b[36m(pid=16899)\u001b[0m Extracting {cwd}/data/MNIST/raw/t10k-images-idx3-ubyte.gz to {cwd}/data/MNIST/raw\n",
      "\u001b[2m\u001b[36m(pid=16899)\u001b[0m \n",
      "\u001b[2m\u001b[36m(pid=16899)\u001b[0m Downloading http://yann.lecun.com/exdb/mnist/t10k-labels-idx1-ubyte.gz\n",
      "\u001b[2m\u001b[36m(pid=16899)\u001b[0m Downloading http://yann.lecun.com/exdb/mnist/t10k-labels-idx1-ubyte.gz to {cwd}/data/MNIST/raw/t10k-labels-idx1-ubyte.gz\n"
     ]
    },
    {
     "name": "stderr",
     "output_type": "stream",
     "text": [
      "1649664it [00:45, 36332.95it/s]                             \n"
     ]
    },
    {
     "name": "stdout",
     "output_type": "stream",
     "text": [
      "\u001b[2m\u001b[36m(pid=16899)\u001b[0m Extracting {cwd}/data/MNIST/raw/t10k-labels-idx1-ubyte.gz to {cwd}/data/MNIST/raw\n",
      "\u001b[2m\u001b[36m(pid=16899)\u001b[0m \n"
     ]
    },
    {
     "name": "stderr",
     "output_type": "stream",
     "text": [
      "5120it [00:00, 6381823.62it/s]          \n",
      "\u001b[2m\u001b[36m(pid=16899)\u001b[0m /home/therealchainman/miniconda3/lib/python3.8/site-packages/torchvision/datasets/mnist.py:498: UserWarning: The given NumPy array is not writeable, and PyTorch does not support non-writeable tensors. This means you can write to the underlying (supposedly non-writeable) NumPy array using the tensor. You may want to copy the array to protect its data or make it writeable before converting it to a tensor. This type of warning will be suppressed for the rest of this program. (Triggered internally at  /pytorch/torch/csrc/utils/tensor_numpy.cpp:180.)\n",
      "\u001b[2m\u001b[36m(pid=16899)\u001b[0m   return torch.from_numpy(parsed.astype(m[2], copy=False)).view(*s)\n",
      "\u001b[2m\u001b[36m(pid=16899)\u001b[0m /home/therealchainman/miniconda3/lib/python3.8/site-packages/torch/nn/functional.py:718: UserWarning: Named tensors and all their associated APIs are an experimental feature and subject to change. Please do not use them for anything important until they are released as stable. (Triggered internally at  /pytorch/c10/core/TensorImpl.h:1156.)\n",
      "\u001b[2m\u001b[36m(pid=16899)\u001b[0m   return torch.max_pool2d(input, kernel_size, stride, padding, dilation, ceil_mode)\n"
     ]
    },
    {
     "name": "stdout",
     "output_type": "stream",
     "text": [
      "Result for train_mnist_af561_00015:\n",
      "  date: 2021-06-22_16-43-41\n",
      "  done: false\n",
      "  experiment_id: e044f6ae8bb946b1b0d3996e93e42c7d\n",
      "  hostname: therealchainman\n",
      "  iterations_since_restore: 1\n",
      "  mean_accuracy: 0.11875\n",
      "  node_ip: 192.168.1.106\n",
      "  pid: 16899\n",
      "  time_since_restore: 56.5519654750824\n",
      "  time_this_iter_s: 56.5519654750824\n",
      "  time_total_s: 56.5519654750824\n",
      "  timestamp: 1624398221\n",
      "  timesteps_since_restore: 0\n",
      "  training_iteration: 1\n",
      "  trial_id: af561_00015\n",
      "  \n"
     ]
    },
    {
     "data": {
      "text/html": [
       "== Status ==<br>Memory usage on this node: 4.3/15.5 GiB<br>Using FIFO scheduling algorithm.<br>Resources requested: 1.0/8 CPUs, 0/0 GPUs, 0.0/8.04 GiB heap, 0.0/4.02 GiB objects<br>Result logdir: /home/therealchainman/ray_results/train_mnist_2021-06-22_16-42-04<br>Number of trials: 20/20 (1 RUNNING, 19 TERMINATED)<br><table>\n",
       "<thead>\n",
       "<tr><th>Trial name             </th><th>status    </th><th>loc                </th><th style=\"text-align: right;\">         lr</th><th style=\"text-align: right;\">  momentum</th><th style=\"text-align: right;\">     acc</th><th style=\"text-align: right;\">  iter</th><th style=\"text-align: right;\">  total time (s)</th></tr>\n",
       "</thead>\n",
       "<tbody>\n",
       "<tr><td>train_mnist_af561_00015</td><td>RUNNING   </td><td>192.168.1.106:16899</td><td style=\"text-align: right;\">3.72716e-09</td><td style=\"text-align: right;\">  0.462565</td><td style=\"text-align: right;\">0.11875 </td><td style=\"text-align: right;\">     1</td><td style=\"text-align: right;\">        56.552  </td></tr>\n",
       "<tr><td>train_mnist_af561_00000</td><td>TERMINATED</td><td>                   </td><td style=\"text-align: right;\">6.41811e-07</td><td style=\"text-align: right;\">  0.189627</td><td style=\"text-align: right;\">0.11875 </td><td style=\"text-align: right;\">    10</td><td style=\"text-align: right;\">        21.3846 </td></tr>\n",
       "<tr><td>train_mnist_af561_00001</td><td>TERMINATED</td><td>                   </td><td style=\"text-align: right;\">2.92354e-09</td><td style=\"text-align: right;\">  0.501897</td><td style=\"text-align: right;\">0.1     </td><td style=\"text-align: right;\">    10</td><td style=\"text-align: right;\">        21.1354 </td></tr>\n",
       "<tr><td>train_mnist_af561_00002</td><td>TERMINATED</td><td>                   </td><td style=\"text-align: right;\">1.01225e-08</td><td style=\"text-align: right;\">  0.383448</td><td style=\"text-align: right;\">0.084375</td><td style=\"text-align: right;\">    10</td><td style=\"text-align: right;\">        20.6104 </td></tr>\n",
       "<tr><td>train_mnist_af561_00003</td><td>TERMINATED</td><td>                   </td><td style=\"text-align: right;\">1.55157e-06</td><td style=\"text-align: right;\">  0.778785</td><td style=\"text-align: right;\">0.10625 </td><td style=\"text-align: right;\">    10</td><td style=\"text-align: right;\">        20.5141 </td></tr>\n",
       "<tr><td>train_mnist_af561_00004</td><td>TERMINATED</td><td>                   </td><td style=\"text-align: right;\">6.29387e-09</td><td style=\"text-align: right;\">  0.252046</td><td style=\"text-align: right;\">0.1125  </td><td style=\"text-align: right;\">    10</td><td style=\"text-align: right;\">        19.8356 </td></tr>\n",
       "<tr><td>train_mnist_af561_00005</td><td>TERMINATED</td><td>                   </td><td style=\"text-align: right;\">2.83837e-05</td><td style=\"text-align: right;\">  0.635141</td><td style=\"text-align: right;\">0.05    </td><td style=\"text-align: right;\">    10</td><td style=\"text-align: right;\">        20.0418 </td></tr>\n",
       "<tr><td>train_mnist_af561_00006</td><td>TERMINATED</td><td>                   </td><td style=\"text-align: right;\">2.12237e-09</td><td style=\"text-align: right;\">  0.881509</td><td style=\"text-align: right;\">0.021875</td><td style=\"text-align: right;\">    10</td><td style=\"text-align: right;\">        68.2684 </td></tr>\n",
       "<tr><td>train_mnist_af561_00007</td><td>TERMINATED</td><td>                   </td><td style=\"text-align: right;\">3.41018e-08</td><td style=\"text-align: right;\">  0.485819</td><td style=\"text-align: right;\">0.171875</td><td style=\"text-align: right;\">    10</td><td style=\"text-align: right;\">        21.0427 </td></tr>\n",
       "<tr><td>train_mnist_af561_00008</td><td>TERMINATED</td><td>                   </td><td style=\"text-align: right;\">8.61318e-08</td><td style=\"text-align: right;\">  0.189483</td><td style=\"text-align: right;\">0.0375  </td><td style=\"text-align: right;\">    10</td><td style=\"text-align: right;\">        23.6999 </td></tr>\n",
       "<tr><td>train_mnist_af561_00009</td><td>TERMINATED</td><td>                   </td><td style=\"text-align: right;\">0.00177473 </td><td style=\"text-align: right;\">  0.293255</td><td style=\"text-align: right;\">0.171875</td><td style=\"text-align: right;\">    10</td><td style=\"text-align: right;\">        25.8296 </td></tr>\n",
       "<tr><td>train_mnist_af561_00010</td><td>TERMINATED</td><td>                   </td><td style=\"text-align: right;\">0.00564488 </td><td style=\"text-align: right;\">  0.869707</td><td style=\"text-align: right;\">0.88125 </td><td style=\"text-align: right;\">    10</td><td style=\"text-align: right;\">        24.0305 </td></tr>\n",
       "<tr><td>train_mnist_af561_00011</td><td>TERMINATED</td><td>                   </td><td style=\"text-align: right;\">0.158022   </td><td style=\"text-align: right;\">  0.285643</td><td style=\"text-align: right;\">0.91875 </td><td style=\"text-align: right;\">    10</td><td style=\"text-align: right;\">        11.6827 </td></tr>\n",
       "<tr><td>train_mnist_af561_00012</td><td>TERMINATED</td><td>                   </td><td style=\"text-align: right;\">4.68526e-05</td><td style=\"text-align: right;\">  0.233772</td><td style=\"text-align: right;\">0.09375 </td><td style=\"text-align: right;\">    10</td><td style=\"text-align: right;\">        26.4204 </td></tr>\n",
       "<tr><td>train_mnist_af561_00013</td><td>TERMINATED</td><td>                   </td><td style=\"text-align: right;\">1.47123e-08</td><td style=\"text-align: right;\">  0.773651</td><td style=\"text-align: right;\">0.11875 </td><td style=\"text-align: right;\">    10</td><td style=\"text-align: right;\">        13.7249 </td></tr>\n",
       "<tr><td>train_mnist_af561_00014</td><td>TERMINATED</td><td>                   </td><td style=\"text-align: right;\">1.25491e-10</td><td style=\"text-align: right;\">  0.838552</td><td style=\"text-align: right;\">0.0625  </td><td style=\"text-align: right;\">    10</td><td style=\"text-align: right;\">        15.9733 </td></tr>\n",
       "<tr><td>train_mnist_af561_00016</td><td>TERMINATED</td><td>                   </td><td style=\"text-align: right;\">3.09241e-07</td><td style=\"text-align: right;\">  0.21736 </td><td style=\"text-align: right;\">0.16875 </td><td style=\"text-align: right;\">    10</td><td style=\"text-align: right;\">        12.8281 </td></tr>\n",
       "<tr><td>train_mnist_af561_00017</td><td>TERMINATED</td><td>                   </td><td style=\"text-align: right;\">1.51156e-06</td><td style=\"text-align: right;\">  0.266795</td><td style=\"text-align: right;\">0.140625</td><td style=\"text-align: right;\">    10</td><td style=\"text-align: right;\">        13.1607 </td></tr>\n",
       "<tr><td>train_mnist_af561_00018</td><td>TERMINATED</td><td>                   </td><td style=\"text-align: right;\">2.21039e-06</td><td style=\"text-align: right;\">  0.66885 </td><td style=\"text-align: right;\">0.078125</td><td style=\"text-align: right;\">    10</td><td style=\"text-align: right;\">         9.01497</td></tr>\n",
       "<tr><td>train_mnist_af561_00019</td><td>TERMINATED</td><td>                   </td><td style=\"text-align: right;\">6.47251e-05</td><td style=\"text-align: right;\">  0.821736</td><td style=\"text-align: right;\">0.11875 </td><td style=\"text-align: right;\">    10</td><td style=\"text-align: right;\">         9.33599</td></tr>\n",
       "</tbody>\n",
       "</table><br><br>"
      ],
      "text/plain": [
       "<IPython.core.display.HTML object>"
      ]
     },
     "metadata": {},
     "output_type": "display_data"
    },
    {
     "name": "stdout",
     "output_type": "stream",
     "text": [
      "Result for train_mnist_af561_00015:\n",
      "  date: 2021-06-22_16-43-46\n",
      "  done: false\n",
      "  experiment_id: e044f6ae8bb946b1b0d3996e93e42c7d\n",
      "  hostname: therealchainman\n",
      "  iterations_since_restore: 10\n",
      "  mean_accuracy: 0.08125\n",
      "  node_ip: 192.168.1.106\n",
      "  pid: 16899\n",
      "  time_since_restore: 61.71138262748718\n",
      "  time_this_iter_s: 1.1641185283660889\n",
      "  time_total_s: 61.71138262748718\n",
      "  timestamp: 1624398226\n",
      "  timesteps_since_restore: 0\n",
      "  training_iteration: 10\n",
      "  trial_id: af561_00015\n",
      "  \n"
     ]
    },
    {
     "data": {
      "text/html": [
       "== Status ==<br>Memory usage on this node: 4.3/15.5 GiB<br>Using FIFO scheduling algorithm.<br>Resources requested: 1.0/8 CPUs, 0/0 GPUs, 0.0/8.04 GiB heap, 0.0/4.02 GiB objects<br>Result logdir: /home/therealchainman/ray_results/train_mnist_2021-06-22_16-42-04<br>Number of trials: 20/20 (1 RUNNING, 19 TERMINATED)<br><table>\n",
       "<thead>\n",
       "<tr><th>Trial name             </th><th>status    </th><th>loc                </th><th style=\"text-align: right;\">         lr</th><th style=\"text-align: right;\">  momentum</th><th style=\"text-align: right;\">     acc</th><th style=\"text-align: right;\">  iter</th><th style=\"text-align: right;\">  total time (s)</th></tr>\n",
       "</thead>\n",
       "<tbody>\n",
       "<tr><td>train_mnist_af561_00015</td><td>RUNNING   </td><td>192.168.1.106:16899</td><td style=\"text-align: right;\">3.72716e-09</td><td style=\"text-align: right;\">  0.462565</td><td style=\"text-align: right;\">0.08125 </td><td style=\"text-align: right;\">    10</td><td style=\"text-align: right;\">        61.7114 </td></tr>\n",
       "<tr><td>train_mnist_af561_00000</td><td>TERMINATED</td><td>                   </td><td style=\"text-align: right;\">6.41811e-07</td><td style=\"text-align: right;\">  0.189627</td><td style=\"text-align: right;\">0.11875 </td><td style=\"text-align: right;\">    10</td><td style=\"text-align: right;\">        21.3846 </td></tr>\n",
       "<tr><td>train_mnist_af561_00001</td><td>TERMINATED</td><td>                   </td><td style=\"text-align: right;\">2.92354e-09</td><td style=\"text-align: right;\">  0.501897</td><td style=\"text-align: right;\">0.1     </td><td style=\"text-align: right;\">    10</td><td style=\"text-align: right;\">        21.1354 </td></tr>\n",
       "<tr><td>train_mnist_af561_00002</td><td>TERMINATED</td><td>                   </td><td style=\"text-align: right;\">1.01225e-08</td><td style=\"text-align: right;\">  0.383448</td><td style=\"text-align: right;\">0.084375</td><td style=\"text-align: right;\">    10</td><td style=\"text-align: right;\">        20.6104 </td></tr>\n",
       "<tr><td>train_mnist_af561_00003</td><td>TERMINATED</td><td>                   </td><td style=\"text-align: right;\">1.55157e-06</td><td style=\"text-align: right;\">  0.778785</td><td style=\"text-align: right;\">0.10625 </td><td style=\"text-align: right;\">    10</td><td style=\"text-align: right;\">        20.5141 </td></tr>\n",
       "<tr><td>train_mnist_af561_00004</td><td>TERMINATED</td><td>                   </td><td style=\"text-align: right;\">6.29387e-09</td><td style=\"text-align: right;\">  0.252046</td><td style=\"text-align: right;\">0.1125  </td><td style=\"text-align: right;\">    10</td><td style=\"text-align: right;\">        19.8356 </td></tr>\n",
       "<tr><td>train_mnist_af561_00005</td><td>TERMINATED</td><td>                   </td><td style=\"text-align: right;\">2.83837e-05</td><td style=\"text-align: right;\">  0.635141</td><td style=\"text-align: right;\">0.05    </td><td style=\"text-align: right;\">    10</td><td style=\"text-align: right;\">        20.0418 </td></tr>\n",
       "<tr><td>train_mnist_af561_00006</td><td>TERMINATED</td><td>                   </td><td style=\"text-align: right;\">2.12237e-09</td><td style=\"text-align: right;\">  0.881509</td><td style=\"text-align: right;\">0.021875</td><td style=\"text-align: right;\">    10</td><td style=\"text-align: right;\">        68.2684 </td></tr>\n",
       "<tr><td>train_mnist_af561_00007</td><td>TERMINATED</td><td>                   </td><td style=\"text-align: right;\">3.41018e-08</td><td style=\"text-align: right;\">  0.485819</td><td style=\"text-align: right;\">0.171875</td><td style=\"text-align: right;\">    10</td><td style=\"text-align: right;\">        21.0427 </td></tr>\n",
       "<tr><td>train_mnist_af561_00008</td><td>TERMINATED</td><td>                   </td><td style=\"text-align: right;\">8.61318e-08</td><td style=\"text-align: right;\">  0.189483</td><td style=\"text-align: right;\">0.0375  </td><td style=\"text-align: right;\">    10</td><td style=\"text-align: right;\">        23.6999 </td></tr>\n",
       "<tr><td>train_mnist_af561_00009</td><td>TERMINATED</td><td>                   </td><td style=\"text-align: right;\">0.00177473 </td><td style=\"text-align: right;\">  0.293255</td><td style=\"text-align: right;\">0.171875</td><td style=\"text-align: right;\">    10</td><td style=\"text-align: right;\">        25.8296 </td></tr>\n",
       "<tr><td>train_mnist_af561_00010</td><td>TERMINATED</td><td>                   </td><td style=\"text-align: right;\">0.00564488 </td><td style=\"text-align: right;\">  0.869707</td><td style=\"text-align: right;\">0.88125 </td><td style=\"text-align: right;\">    10</td><td style=\"text-align: right;\">        24.0305 </td></tr>\n",
       "<tr><td>train_mnist_af561_00011</td><td>TERMINATED</td><td>                   </td><td style=\"text-align: right;\">0.158022   </td><td style=\"text-align: right;\">  0.285643</td><td style=\"text-align: right;\">0.91875 </td><td style=\"text-align: right;\">    10</td><td style=\"text-align: right;\">        11.6827 </td></tr>\n",
       "<tr><td>train_mnist_af561_00012</td><td>TERMINATED</td><td>                   </td><td style=\"text-align: right;\">4.68526e-05</td><td style=\"text-align: right;\">  0.233772</td><td style=\"text-align: right;\">0.09375 </td><td style=\"text-align: right;\">    10</td><td style=\"text-align: right;\">        26.4204 </td></tr>\n",
       "<tr><td>train_mnist_af561_00013</td><td>TERMINATED</td><td>                   </td><td style=\"text-align: right;\">1.47123e-08</td><td style=\"text-align: right;\">  0.773651</td><td style=\"text-align: right;\">0.11875 </td><td style=\"text-align: right;\">    10</td><td style=\"text-align: right;\">        13.7249 </td></tr>\n",
       "<tr><td>train_mnist_af561_00014</td><td>TERMINATED</td><td>                   </td><td style=\"text-align: right;\">1.25491e-10</td><td style=\"text-align: right;\">  0.838552</td><td style=\"text-align: right;\">0.0625  </td><td style=\"text-align: right;\">    10</td><td style=\"text-align: right;\">        15.9733 </td></tr>\n",
       "<tr><td>train_mnist_af561_00016</td><td>TERMINATED</td><td>                   </td><td style=\"text-align: right;\">3.09241e-07</td><td style=\"text-align: right;\">  0.21736 </td><td style=\"text-align: right;\">0.16875 </td><td style=\"text-align: right;\">    10</td><td style=\"text-align: right;\">        12.8281 </td></tr>\n",
       "<tr><td>train_mnist_af561_00017</td><td>TERMINATED</td><td>                   </td><td style=\"text-align: right;\">1.51156e-06</td><td style=\"text-align: right;\">  0.266795</td><td style=\"text-align: right;\">0.140625</td><td style=\"text-align: right;\">    10</td><td style=\"text-align: right;\">        13.1607 </td></tr>\n",
       "<tr><td>train_mnist_af561_00018</td><td>TERMINATED</td><td>                   </td><td style=\"text-align: right;\">2.21039e-06</td><td style=\"text-align: right;\">  0.66885 </td><td style=\"text-align: right;\">0.078125</td><td style=\"text-align: right;\">    10</td><td style=\"text-align: right;\">         9.01497</td></tr>\n",
       "<tr><td>train_mnist_af561_00019</td><td>TERMINATED</td><td>                   </td><td style=\"text-align: right;\">6.47251e-05</td><td style=\"text-align: right;\">  0.821736</td><td style=\"text-align: right;\">0.11875 </td><td style=\"text-align: right;\">    10</td><td style=\"text-align: right;\">         9.33599</td></tr>\n",
       "</tbody>\n",
       "</table><br><br>"
      ],
      "text/plain": [
       "<IPython.core.display.HTML object>"
      ]
     },
     "metadata": {},
     "output_type": "display_data"
    },
    {
     "name": "stdout",
     "output_type": "stream",
     "text": [
      "Result for train_mnist_af561_00015:\n",
      "  date: 2021-06-22_16-43-46\n",
      "  done: true\n",
      "  experiment_id: e044f6ae8bb946b1b0d3996e93e42c7d\n",
      "  experiment_tag: 15_lr=3.7272e-09,momentum=0.46256\n",
      "  hostname: therealchainman\n",
      "  iterations_since_restore: 10\n",
      "  mean_accuracy: 0.08125\n",
      "  node_ip: 192.168.1.106\n",
      "  pid: 16899\n",
      "  time_since_restore: 61.71138262748718\n",
      "  time_this_iter_s: 1.1641185283660889\n",
      "  time_total_s: 61.71138262748718\n",
      "  timestamp: 1624398226\n",
      "  timesteps_since_restore: 0\n",
      "  training_iteration: 10\n",
      "  trial_id: af561_00015\n",
      "  \n"
     ]
    },
    {
     "data": {
      "text/html": [
       "== Status ==<br>Memory usage on this node: 4.2/15.5 GiB<br>Using FIFO scheduling algorithm.<br>Resources requested: 0/8 CPUs, 0/0 GPUs, 0.0/8.04 GiB heap, 0.0/4.02 GiB objects<br>Result logdir: /home/therealchainman/ray_results/train_mnist_2021-06-22_16-42-04<br>Number of trials: 20/20 (20 TERMINATED)<br><table>\n",
       "<thead>\n",
       "<tr><th>Trial name             </th><th>status    </th><th>loc  </th><th style=\"text-align: right;\">         lr</th><th style=\"text-align: right;\">  momentum</th><th style=\"text-align: right;\">     acc</th><th style=\"text-align: right;\">  iter</th><th style=\"text-align: right;\">  total time (s)</th></tr>\n",
       "</thead>\n",
       "<tbody>\n",
       "<tr><td>train_mnist_af561_00000</td><td>TERMINATED</td><td>     </td><td style=\"text-align: right;\">6.41811e-07</td><td style=\"text-align: right;\">  0.189627</td><td style=\"text-align: right;\">0.11875 </td><td style=\"text-align: right;\">    10</td><td style=\"text-align: right;\">        21.3846 </td></tr>\n",
       "<tr><td>train_mnist_af561_00001</td><td>TERMINATED</td><td>     </td><td style=\"text-align: right;\">2.92354e-09</td><td style=\"text-align: right;\">  0.501897</td><td style=\"text-align: right;\">0.1     </td><td style=\"text-align: right;\">    10</td><td style=\"text-align: right;\">        21.1354 </td></tr>\n",
       "<tr><td>train_mnist_af561_00002</td><td>TERMINATED</td><td>     </td><td style=\"text-align: right;\">1.01225e-08</td><td style=\"text-align: right;\">  0.383448</td><td style=\"text-align: right;\">0.084375</td><td style=\"text-align: right;\">    10</td><td style=\"text-align: right;\">        20.6104 </td></tr>\n",
       "<tr><td>train_mnist_af561_00003</td><td>TERMINATED</td><td>     </td><td style=\"text-align: right;\">1.55157e-06</td><td style=\"text-align: right;\">  0.778785</td><td style=\"text-align: right;\">0.10625 </td><td style=\"text-align: right;\">    10</td><td style=\"text-align: right;\">        20.5141 </td></tr>\n",
       "<tr><td>train_mnist_af561_00004</td><td>TERMINATED</td><td>     </td><td style=\"text-align: right;\">6.29387e-09</td><td style=\"text-align: right;\">  0.252046</td><td style=\"text-align: right;\">0.1125  </td><td style=\"text-align: right;\">    10</td><td style=\"text-align: right;\">        19.8356 </td></tr>\n",
       "<tr><td>train_mnist_af561_00005</td><td>TERMINATED</td><td>     </td><td style=\"text-align: right;\">2.83837e-05</td><td style=\"text-align: right;\">  0.635141</td><td style=\"text-align: right;\">0.05    </td><td style=\"text-align: right;\">    10</td><td style=\"text-align: right;\">        20.0418 </td></tr>\n",
       "<tr><td>train_mnist_af561_00006</td><td>TERMINATED</td><td>     </td><td style=\"text-align: right;\">2.12237e-09</td><td style=\"text-align: right;\">  0.881509</td><td style=\"text-align: right;\">0.021875</td><td style=\"text-align: right;\">    10</td><td style=\"text-align: right;\">        68.2684 </td></tr>\n",
       "<tr><td>train_mnist_af561_00007</td><td>TERMINATED</td><td>     </td><td style=\"text-align: right;\">3.41018e-08</td><td style=\"text-align: right;\">  0.485819</td><td style=\"text-align: right;\">0.171875</td><td style=\"text-align: right;\">    10</td><td style=\"text-align: right;\">        21.0427 </td></tr>\n",
       "<tr><td>train_mnist_af561_00008</td><td>TERMINATED</td><td>     </td><td style=\"text-align: right;\">8.61318e-08</td><td style=\"text-align: right;\">  0.189483</td><td style=\"text-align: right;\">0.0375  </td><td style=\"text-align: right;\">    10</td><td style=\"text-align: right;\">        23.6999 </td></tr>\n",
       "<tr><td>train_mnist_af561_00009</td><td>TERMINATED</td><td>     </td><td style=\"text-align: right;\">0.00177473 </td><td style=\"text-align: right;\">  0.293255</td><td style=\"text-align: right;\">0.171875</td><td style=\"text-align: right;\">    10</td><td style=\"text-align: right;\">        25.8296 </td></tr>\n",
       "<tr><td>train_mnist_af561_00010</td><td>TERMINATED</td><td>     </td><td style=\"text-align: right;\">0.00564488 </td><td style=\"text-align: right;\">  0.869707</td><td style=\"text-align: right;\">0.88125 </td><td style=\"text-align: right;\">    10</td><td style=\"text-align: right;\">        24.0305 </td></tr>\n",
       "<tr><td>train_mnist_af561_00011</td><td>TERMINATED</td><td>     </td><td style=\"text-align: right;\">0.158022   </td><td style=\"text-align: right;\">  0.285643</td><td style=\"text-align: right;\">0.91875 </td><td style=\"text-align: right;\">    10</td><td style=\"text-align: right;\">        11.6827 </td></tr>\n",
       "<tr><td>train_mnist_af561_00012</td><td>TERMINATED</td><td>     </td><td style=\"text-align: right;\">4.68526e-05</td><td style=\"text-align: right;\">  0.233772</td><td style=\"text-align: right;\">0.09375 </td><td style=\"text-align: right;\">    10</td><td style=\"text-align: right;\">        26.4204 </td></tr>\n",
       "<tr><td>train_mnist_af561_00013</td><td>TERMINATED</td><td>     </td><td style=\"text-align: right;\">1.47123e-08</td><td style=\"text-align: right;\">  0.773651</td><td style=\"text-align: right;\">0.11875 </td><td style=\"text-align: right;\">    10</td><td style=\"text-align: right;\">        13.7249 </td></tr>\n",
       "<tr><td>train_mnist_af561_00014</td><td>TERMINATED</td><td>     </td><td style=\"text-align: right;\">1.25491e-10</td><td style=\"text-align: right;\">  0.838552</td><td style=\"text-align: right;\">0.0625  </td><td style=\"text-align: right;\">    10</td><td style=\"text-align: right;\">        15.9733 </td></tr>\n",
       "<tr><td>train_mnist_af561_00015</td><td>TERMINATED</td><td>     </td><td style=\"text-align: right;\">3.72716e-09</td><td style=\"text-align: right;\">  0.462565</td><td style=\"text-align: right;\">0.08125 </td><td style=\"text-align: right;\">    10</td><td style=\"text-align: right;\">        61.7114 </td></tr>\n",
       "<tr><td>train_mnist_af561_00016</td><td>TERMINATED</td><td>     </td><td style=\"text-align: right;\">3.09241e-07</td><td style=\"text-align: right;\">  0.21736 </td><td style=\"text-align: right;\">0.16875 </td><td style=\"text-align: right;\">    10</td><td style=\"text-align: right;\">        12.8281 </td></tr>\n",
       "<tr><td>train_mnist_af561_00017</td><td>TERMINATED</td><td>     </td><td style=\"text-align: right;\">1.51156e-06</td><td style=\"text-align: right;\">  0.266795</td><td style=\"text-align: right;\">0.140625</td><td style=\"text-align: right;\">    10</td><td style=\"text-align: right;\">        13.1607 </td></tr>\n",
       "<tr><td>train_mnist_af561_00018</td><td>TERMINATED</td><td>     </td><td style=\"text-align: right;\">2.21039e-06</td><td style=\"text-align: right;\">  0.66885 </td><td style=\"text-align: right;\">0.078125</td><td style=\"text-align: right;\">    10</td><td style=\"text-align: right;\">         9.01497</td></tr>\n",
       "<tr><td>train_mnist_af561_00019</td><td>TERMINATED</td><td>     </td><td style=\"text-align: right;\">6.47251e-05</td><td style=\"text-align: right;\">  0.821736</td><td style=\"text-align: right;\">0.11875 </td><td style=\"text-align: right;\">    10</td><td style=\"text-align: right;\">         9.33599</td></tr>\n",
       "</tbody>\n",
       "</table><br><br>"
      ],
      "text/plain": [
       "<IPython.core.display.HTML object>"
      ]
     },
     "metadata": {},
     "output_type": "display_data"
    },
    {
     "name": "stderr",
     "output_type": "stream",
     "text": [
      "2021-06-22 16:43:46,986\tINFO tune.py:549 -- Total run time: 102.53 seconds (102.24 seconds for the tuning loop).\n"
     ]
    }
   ],
   "source": [
    "import time\n",
    "times = []\n",
    "start = time.time()\n",
    "analysis = tune.run(\n",
    "    train_mnist,\n",
    "    num_samples=20,\n",
    "#     scheduler=ASHAScheduler(metric=\"mean_accuracy\", mode=\"max\"),\n",
    "    config=search_space)\n",
    "times.append(start-time.time())"
   ]
  },
  {
   "cell_type": "code",
   "execution_count": 31,
   "id": "c3229de3-2427-4896-ad49-086ce60f9b19",
   "metadata": {
    "collapsed": true,
    "jupyter": {
     "outputs_hidden": true
    }
   },
   "outputs": [],
   "source": [
    "ray.shutdown()"
   ]
  },
  {
   "cell_type": "code",
   "execution_count": 36,
   "id": "46f68d81-3c41-4cbc-bf6a-e58ded130915",
   "metadata": {
    "collapsed": true,
    "jupyter": {
     "outputs_hidden": true
    },
    "tags": []
   },
   "outputs": [
    {
     "name": "stderr",
     "output_type": "stream",
     "text": [
      "2021-06-22 16:52:03,260\tINFO tune.py:661 -- Initializing Ray automatically.For cluster usage or custom Ray initialization, call `ray.init(...)` before `tune.run`.\n",
      "2021-06-22 16:52:04,319\tINFO services.py:1272 -- View the Ray dashboard at \u001b[1m\u001b[32mhttp://127.0.0.1:8265\u001b[39m\u001b[22m\n"
     ]
    },
    {
     "data": {
      "text/html": [
       "== Status ==<br>Memory usage on this node: 4.4/15.5 GiB<br>Using FIFO scheduling algorithm.<br>Resources requested: 1.0/8 CPUs, 0/0 GPUs, 0.0/7.91 GiB heap, 0.0/3.95 GiB objects<br>Result logdir: /home/therealchainman/ray_results/train_mnist_2021-06-22_16-52-06<br>Number of trials: 16/20 (15 PENDING, 1 RUNNING)<br><table>\n",
       "<thead>\n",
       "<tr><th>Trial name             </th><th>status  </th><th>loc  </th><th style=\"text-align: right;\">         lr</th><th style=\"text-align: right;\">  momentum</th></tr>\n",
       "</thead>\n",
       "<tbody>\n",
       "<tr><td>train_mnist_16247_00000</td><td>RUNNING </td><td>     </td><td style=\"text-align: right;\">0.041874   </td><td style=\"text-align: right;\">  0.16155 </td></tr>\n",
       "<tr><td>train_mnist_16247_00001</td><td>PENDING </td><td>     </td><td style=\"text-align: right;\">4.13676e-05</td><td style=\"text-align: right;\">  0.719126</td></tr>\n",
       "<tr><td>train_mnist_16247_00002</td><td>PENDING </td><td>     </td><td style=\"text-align: right;\">1.7824e-08 </td><td style=\"text-align: right;\">  0.79312 </td></tr>\n",
       "<tr><td>train_mnist_16247_00003</td><td>PENDING </td><td>     </td><td style=\"text-align: right;\">9.69164e-08</td><td style=\"text-align: right;\">  0.558845</td></tr>\n",
       "<tr><td>train_mnist_16247_00004</td><td>PENDING </td><td>     </td><td style=\"text-align: right;\">0.00134643 </td><td style=\"text-align: right;\">  0.28525 </td></tr>\n",
       "<tr><td>train_mnist_16247_00005</td><td>PENDING </td><td>     </td><td style=\"text-align: right;\">0.187656   </td><td style=\"text-align: right;\">  0.486429</td></tr>\n",
       "<tr><td>train_mnist_16247_00006</td><td>PENDING </td><td>     </td><td style=\"text-align: right;\">0.00119145 </td><td style=\"text-align: right;\">  0.632457</td></tr>\n",
       "<tr><td>train_mnist_16247_00007</td><td>PENDING </td><td>     </td><td style=\"text-align: right;\">0.000179996</td><td style=\"text-align: right;\">  0.173796</td></tr>\n",
       "<tr><td>train_mnist_16247_00008</td><td>PENDING </td><td>     </td><td style=\"text-align: right;\">2.06622e-08</td><td style=\"text-align: right;\">  0.859587</td></tr>\n",
       "<tr><td>train_mnist_16247_00009</td><td>PENDING </td><td>     </td><td style=\"text-align: right;\">1.31715e-09</td><td style=\"text-align: right;\">  0.207752</td></tr>\n",
       "<tr><td>train_mnist_16247_00010</td><td>PENDING </td><td>     </td><td style=\"text-align: right;\">1.18271e-05</td><td style=\"text-align: right;\">  0.480522</td></tr>\n",
       "<tr><td>train_mnist_16247_00011</td><td>PENDING </td><td>     </td><td style=\"text-align: right;\">0.0395415  </td><td style=\"text-align: right;\">  0.42925 </td></tr>\n",
       "<tr><td>train_mnist_16247_00012</td><td>PENDING </td><td>     </td><td style=\"text-align: right;\">0.039147   </td><td style=\"text-align: right;\">  0.670937</td></tr>\n",
       "<tr><td>train_mnist_16247_00013</td><td>PENDING </td><td>     </td><td style=\"text-align: right;\">0.000138393</td><td style=\"text-align: right;\">  0.132696</td></tr>\n",
       "<tr><td>train_mnist_16247_00014</td><td>PENDING </td><td>     </td><td style=\"text-align: right;\">0.000306374</td><td style=\"text-align: right;\">  0.866248</td></tr>\n",
       "<tr><td>train_mnist_16247_00015</td><td>PENDING </td><td>     </td><td style=\"text-align: right;\">2.32236e-08</td><td style=\"text-align: right;\">  0.306971</td></tr>\n",
       "</tbody>\n",
       "</table><br><br>"
      ],
      "text/plain": [
       "<IPython.core.display.HTML object>"
      ]
     },
     "metadata": {},
     "output_type": "display_data"
    },
    {
     "name": "stdout",
     "output_type": "stream",
     "text": [
      "\u001b[2m\u001b[36m(pid=18939)\u001b[0m Downloading http://yann.lecun.com/exdb/mnist/train-images-idx3-ubyte.gz\n",
      "\u001b[2m\u001b[36m(pid=18933)\u001b[0m Downloading http://yann.lecun.com/exdb/mnist/train-images-idx3-ubyte.gz\n",
      "\u001b[2m\u001b[36m(pid=18935)\u001b[0m Downloading http://yann.lecun.com/exdb/mnist/train-images-idx3-ubyte.gz\n",
      "\u001b[2m\u001b[36m(pid=18938)\u001b[0m Downloading http://yann.lecun.com/exdb/mnist/train-images-idx3-ubyte.gz\n",
      "\u001b[2m\u001b[36m(pid=18939)\u001b[0m Downloading http://yann.lecun.com/exdb/mnist/train-images-idx3-ubyte.gz to {cwd}/data/MNIST/raw/train-images-idx3-ubyte.gz\n",
      "\u001b[2m\u001b[36m(pid=18933)\u001b[0m Failed to download (trying next):\n",
      "\u001b[2m\u001b[36m(pid=18933)\u001b[0m HTTP Error 503: Service Unavailable\n",
      "\u001b[2m\u001b[36m(pid=18933)\u001b[0m \n",
      "\u001b[2m\u001b[36m(pid=18933)\u001b[0m Downloading https://ossci-datasets.s3.amazonaws.com/mnist/train-images-idx3-ubyte.gz\n",
      "\u001b[2m\u001b[36m(pid=18936)\u001b[0m Downloading http://yann.lecun.com/exdb/mnist/train-images-idx3-ubyte.gz\n",
      "\u001b[2m\u001b[36m(pid=18940)\u001b[0m Downloading http://yann.lecun.com/exdb/mnist/train-images-idx3-ubyte.gz\n",
      "\u001b[2m\u001b[36m(pid=18935)\u001b[0m Failed to download (trying next):\n",
      "\u001b[2m\u001b[36m(pid=18935)\u001b[0m HTTP Error 503: Service Unavailable\n",
      "\u001b[2m\u001b[36m(pid=18935)\u001b[0m \n",
      "\u001b[2m\u001b[36m(pid=18935)\u001b[0m Downloading https://ossci-datasets.s3.amazonaws.com/mnist/train-images-idx3-ubyte.gz\n",
      "\u001b[2m\u001b[36m(pid=18934)\u001b[0m Downloading http://yann.lecun.com/exdb/mnist/train-images-idx3-ubyte.gz\n",
      "\u001b[2m\u001b[36m(pid=18937)\u001b[0m Downloading http://yann.lecun.com/exdb/mnist/train-images-idx3-ubyte.gz\n",
      "\u001b[2m\u001b[36m(pid=18939)\u001b[0m Failed to download (trying next):\n",
      "\u001b[2m\u001b[36m(pid=18939)\u001b[0m HTTP Error 503: Service Unavailable\n",
      "\u001b[2m\u001b[36m(pid=18939)\u001b[0m \n",
      "\u001b[2m\u001b[36m(pid=18939)\u001b[0m Downloading https://ossci-datasets.s3.amazonaws.com/mnist/train-images-idx3-ubyte.gz\n",
      "\u001b[2m\u001b[36m(pid=18938)\u001b[0m Failed to download (trying next):\n",
      "\u001b[2m\u001b[36m(pid=18938)\u001b[0m HTTP Error 503: Service Unavailable\n",
      "\u001b[2m\u001b[36m(pid=18938)\u001b[0m \n",
      "\u001b[2m\u001b[36m(pid=18938)\u001b[0m Downloading https://ossci-datasets.s3.amazonaws.com/mnist/train-images-idx3-ubyte.gz\n",
      "\u001b[2m\u001b[36m(pid=18936)\u001b[0m Failed to download (trying next):\n",
      "\u001b[2m\u001b[36m(pid=18936)\u001b[0m HTTP Error 503: Service Unavailable\n",
      "\u001b[2m\u001b[36m(pid=18936)\u001b[0m \n",
      "\u001b[2m\u001b[36m(pid=18936)\u001b[0m Downloading https://ossci-datasets.s3.amazonaws.com/mnist/train-images-idx3-ubyte.gz\n",
      "\u001b[2m\u001b[36m(pid=18940)\u001b[0m Failed to download (trying next):\n",
      "\u001b[2m\u001b[36m(pid=18940)\u001b[0m HTTP Error 503: Service Unavailable\n",
      "\u001b[2m\u001b[36m(pid=18940)\u001b[0m \n",
      "\u001b[2m\u001b[36m(pid=18940)\u001b[0m Downloading https://ossci-datasets.s3.amazonaws.com/mnist/train-images-idx3-ubyte.gz\n",
      "\u001b[2m\u001b[36m(pid=18934)\u001b[0m Failed to download (trying next):\n",
      "\u001b[2m\u001b[36m(pid=18934)\u001b[0m HTTP Error 503: Service Unavailable\n",
      "\u001b[2m\u001b[36m(pid=18934)\u001b[0m \n",
      "\u001b[2m\u001b[36m(pid=18934)\u001b[0m Downloading https://ossci-datasets.s3.amazonaws.com/mnist/train-images-idx3-ubyte.gz\n",
      "\u001b[2m\u001b[36m(pid=18937)\u001b[0m Failed to download (trying next):\n",
      "\u001b[2m\u001b[36m(pid=18937)\u001b[0m HTTP Error 503: Service Unavailable\n",
      "\u001b[2m\u001b[36m(pid=18937)\u001b[0m \n",
      "\u001b[2m\u001b[36m(pid=18937)\u001b[0m Downloading https://ossci-datasets.s3.amazonaws.com/mnist/train-images-idx3-ubyte.gz\n",
      "\u001b[2m\u001b[36m(pid=18933)\u001b[0m Downloading https://ossci-datasets.s3.amazonaws.com/mnist/train-images-idx3-ubyte.gz to {cwd}/data/MNIST/raw/train-images-idx3-ubyte.gz\n",
      "\u001b[2m\u001b[36m(pid=18935)\u001b[0m Downloading https://ossci-datasets.s3.amazonaws.com/mnist/train-images-idx3-ubyte.gz to {cwd}/data/MNIST/raw/train-images-idx3-ubyte.gz\n",
      "\u001b[2m\u001b[36m(pid=18939)\u001b[0m Downloading https://ossci-datasets.s3.amazonaws.com/mnist/train-images-idx3-ubyte.gz to {cwd}/data/MNIST/raw/train-images-idx3-ubyte.gz\n",
      "\u001b[2m\u001b[36m(pid=18938)\u001b[0m Downloading https://ossci-datasets.s3.amazonaws.com/mnist/train-images-idx3-ubyte.gz to {cwd}/data/MNIST/raw/train-images-idx3-ubyte.gz\n",
      "\u001b[2m\u001b[36m(pid=18936)\u001b[0m Downloading https://ossci-datasets.s3.amazonaws.com/mnist/train-images-idx3-ubyte.gz to {cwd}/data/MNIST/raw/train-images-idx3-ubyte.gz\n",
      "\u001b[2m\u001b[36m(pid=18940)\u001b[0m Downloading https://ossci-datasets.s3.amazonaws.com/mnist/train-images-idx3-ubyte.gz to {cwd}/data/MNIST/raw/train-images-idx3-ubyte.gz\n",
      "\u001b[2m\u001b[36m(pid=18934)\u001b[0m Downloading https://ossci-datasets.s3.amazonaws.com/mnist/train-images-idx3-ubyte.gz to {cwd}/data/MNIST/raw/train-images-idx3-ubyte.gz\n",
      "\u001b[2m\u001b[36m(pid=18937)\u001b[0m Downloading https://ossci-datasets.s3.amazonaws.com/mnist/train-images-idx3-ubyte.gz to {cwd}/data/MNIST/raw/train-images-idx3-ubyte.gz\n"
     ]
    },
    {
     "name": "stderr",
     "output_type": "stream",
     "text": [
      "  0%|          | 0/9912422 [00:00<?, ?it/s]\n",
      "  0%|          | 0/9912422 [00:00<?, ?it/s]\n",
      "  0%|          | 0/9912422 [00:00<?, ?it/s]\n",
      "  1%|          | 77824/9912422 [00:00<00:15, 643571.46it/s]\n",
      "  0%|          | 0/9912422 [00:00<?, ?it/s]\n",
      "  0%|          | 0/9912422 [00:00<?, ?it/s]\n",
      "  0%|          | 0/9912422 [00:00<?, ?it/s]\n",
      "  0%|          | 0/9912422 [00:00<?, ?it/s]\n",
      "  1%|          | 91136/9912422 [00:00<00:13, 705446.98it/s]\n",
      "  0%|          | 0/9912422 [00:00<?, ?it/s]\n",
      "  1%|          | 87040/9912422 [00:00<00:14, 698742.93it/s]\n",
      "  1%|          | 87040/9912422 [00:00<00:14, 701456.28it/s]\n",
      "  1%|          | 69632/9912422 [00:00<00:18, 533581.15it/s]\n",
      "  0%|          | 36864/9912422 [00:00<00:26, 366247.77it/s]\n",
      "  4%|▍         | 425984/9912422 [00:00<00:11, 826380.90it/s]\n",
      "  4%|▎         | 352256/9912422 [00:00<00:10, 888707.48it/s]\n",
      "  1%|          | 60416/9912422 [00:00<00:24, 404596.88it/s]\n",
      "  1%|          | 69632/9912422 [00:00<00:20, 487420.17it/s]\n",
      "  3%|▎         | 330752/9912422 [00:00<00:10, 879721.77it/s]\n",
      "  3%|▎         | 261120/9912422 [00:00<00:14, 668968.24it/s]\n",
      "  4%|▍         | 382976/9912422 [00:00<00:10, 897002.06it/s]\n",
      "  2%|▏         | 193536/9912422 [00:00<00:21, 454668.22it/s]\n",
      "  7%|▋         | 704512/9912422 [00:00<00:09, 994428.11it/s]\n",
      "  5%|▌         | 504832/9912422 [00:00<00:11, 854770.31it/s]\n",
      "  2%|▏         | 217088/9912422 [00:00<00:19, 495359.29it/s]\n",
      "  2%|▏         | 174080/9912422 [00:00<00:18, 537513.46it/s]\n",
      "  9%|▊         | 861184/9912422 [00:00<00:08, 1115701.73it/s]\n",
      "  7%|▋         | 665600/9912422 [00:00<00:08, 1031632.83it/s]\n",
      "  6%|▋         | 626688/9912422 [00:00<00:09, 1030116.33it/s]\n",
      "  7%|▋         | 713728/9912422 [00:00<00:08, 1110846.94it/s]\n",
      "  3%|▎         | 296960/9912422 [00:00<00:17, 542451.90it/s]\n",
      "  6%|▋         | 620544/9912422 [00:00<00:10, 919813.23it/s]\n",
      "  3%|▎         | 321536/9912422 [00:00<00:16, 581202.75it/s]\n",
      "  2%|▏         | 243712/9912422 [00:00<00:16, 573041.87it/s]\n",
      " 10%|█         | 1000448/9912422 [00:00<00:07, 1175862.76it/s]\n",
      " 10%|▉         | 944128/9912422 [00:00<00:07, 1218599.54it/s]\n",
      "  9%|▉         | 922624/9912422 [00:00<00:07, 1236422.66it/s]\n",
      " 10%|█         | 1027072/9912422 [00:00<00:06, 1339834.08it/s]\n",
      "  8%|▊         | 748544/9912422 [00:00<00:09, 985544.32it/s]\n",
      "  4%|▍         | 443392/9912422 [00:00<00:14, 674944.71it/s]\n",
      "  4%|▍         | 437248/9912422 [00:00<00:15, 625469.19it/s]\n",
      "  3%|▎         | 313344/9912422 [00:00<00:16, 572406.15it/s]\n",
      " 12%|█▏        | 1226752/9912422 [00:00<00:06, 1335097.48it/s]\n",
      " 11%|█▏        | 1131520/9912422 [00:00<00:06, 1257983.46it/s]\n",
      " 15%|█▍        | 1462272/9912422 [00:00<00:05, 1594261.39it/s]\n",
      "  9%|▉         | 905216/9912422 [00:00<00:08, 1070934.10it/s]\n",
      "  5%|▌         | 530432/9912422 [00:00<00:13, 699220.40it/s]\n",
      "  4%|▍         | 382976/9912422 [00:00<00:16, 582929.92it/s]\n",
      " 12%|█▏        | 1187840/9912422 [00:00<00:07, 1223773.49it/s]\n",
      "  6%|▋         | 628736/9912422 [00:00<00:13, 705184.02it/s]\n",
      " 14%|█▍        | 1375232/9912422 [00:00<00:05, 1451711.66it/s]\n",
      " 19%|█▉        | 1880064/9912422 [00:00<00:04, 1933759.70it/s]\n",
      " 14%|█▍        | 1400832/9912422 [00:00<00:07, 1131807.69it/s]\n",
      " 11%|█         | 1096704/9912422 [00:00<00:07, 1134909.10it/s]\n",
      "  7%|▋         | 669696/9912422 [00:00<00:12, 748030.11it/s]\n",
      "  5%|▌         | 504832/9912422 [00:00<00:14, 649682.98it/s]\n",
      " 14%|█▍        | 1379328/9912422 [00:00<00:06, 1226947.91it/s]\n",
      " 17%|█▋        | 1671168/9912422 [00:00<00:04, 1712695.77it/s]\n",
      "  7%|▋         | 707584/9912422 [00:00<00:14, 652533.01it/s]\n",
      " 18%|█▊        | 1748992/9912422 [00:01<00:05, 1413479.35it/s]\n",
      " 22%|██▏       | 2210816/9912422 [00:00<00:03, 2033622.89it/s]\n",
      " 13%|█▎        | 1305600/9912422 [00:00<00:06, 1295870.94it/s]\n",
      "  8%|▊         | 774144/9912422 [00:00<00:11, 817459.54it/s]\n",
      "  6%|▌         | 609280/9912422 [00:00<00:13, 690525.16it/s]\n",
      " 15%|█▌        | 1510400/9912422 [00:01<00:07, 1168327.17it/s]\n",
      " 19%|█▉        | 1876992/9912422 [00:01<00:04, 1774119.77it/s]\n",
      " 27%|██▋       | 2633728/9912422 [00:00<00:03, 2408730.90it/s]\n",
      "  8%|▊         | 779264/9912422 [00:00<00:14, 635805.51it/s]\n",
      " 16%|█▌        | 1548288/9912422 [00:01<00:05, 1506414.97it/s]\n",
      "  9%|▉         | 913408/9912422 [00:00<00:09, 914785.76it/s]\n",
      "  7%|▋         | 696320/9912422 [00:01<00:12, 724125.15it/s]\n",
      " 20%|█▉        | 1941504/9912422 [00:01<00:05, 1334408.02it/s]\n",
      " 17%|█▋        | 1710080/9912422 [00:01<00:06, 1328164.15it/s]\n",
      " 30%|███       | 3011584/9912422 [00:01<00:02, 2686397.30it/s]\n",
      " 18%|█▊        | 1740800/9912422 [00:01<00:05, 1594952.08it/s]\n",
      "  9%|▊         | 847872/9912422 [00:01<00:14, 645886.34it/s]\n",
      " 22%|██▏       | 2158592/9912422 [00:01<00:04, 1786038.95it/s]\n",
      " 11%|█         | 1104896/9912422 [00:01<00:08, 1042558.47it/s]\n",
      "  8%|▊         | 800768/9912422 [00:01<00:11, 781696.75it/s]\n",
      " 22%|██▏       | 2131968/9912422 [00:01<00:05, 1457038.04it/s]\n",
      " 34%|███▎      | 3335168/9912422 [00:01<00:02, 2802613.21it/s]\n",
      " 10%|▉         | 983040/9912422 [00:01<00:11, 765840.56it/s]\n",
      " 19%|█▉        | 1901568/9912422 [00:01<00:06, 1253043.27it/s]\n",
      " 25%|██▌       | 2489344/9912422 [00:01<00:03, 2062368.41it/s]\n",
      " 20%|██        | 2019328/9912422 [00:01<00:04, 1741090.14it/s]\n",
      " 13%|█▎        | 1244160/9912422 [00:01<00:08, 1059105.56it/s]\n",
      "  9%|▉         | 922624/9912422 [00:01<00:10, 871380.14it/s]\n",
      " 39%|███▉      | 3847168/9912422 [00:01<00:01, 3237854.82it/s]\n",
      " 11%|█         | 1071104/9912422 [00:01<00:11, 774371.92it/s]\n",
      " 23%|██▎       | 2323456/9912422 [00:01<00:05, 1323931.88it/s]\n",
      " 21%|██        | 2058240/9912422 [00:01<00:06, 1258842.59it/s]\n",
      " 28%|██▊       | 2802688/9912422 [00:01<00:03, 2120160.13it/s]\n",
      " 23%|██▎       | 2263040/9912422 [00:01<00:04, 1738057.85it/s]\n",
      " 14%|█▍        | 1366016/9912422 [00:01<00:07, 1086519.28it/s]\n",
      " 10%|█         | 1014784/9912422 [00:01<00:10, 824808.85it/s]\n",
      " 43%|████▎     | 4224000/9912422 [00:01<00:01, 3281111.43it/s]\n",
      " 12%|█▏        | 1157120/9912422 [00:01<00:12, 695097.39it/s]\n",
      " 32%|███▏      | 3168256/9912422 [00:01<00:02, 2259717.01it/s]\n",
      " 25%|██▌       | 2489344/9912422 [00:01<00:04, 1761171.33it/s]\n",
      " 15%|█▌        | 1522688/9912422 [00:01<00:07, 1116972.08it/s]\n",
      " 25%|██▌       | 2480128/9912422 [00:01<00:05, 1253437.68it/s]\n",
      " 22%|██▏       | 2214912/9912422 [00:01<00:06, 1178444.76it/s]\n",
      " 46%|████▋     | 4589568/9912422 [00:01<00:01, 3170203.03it/s]\n",
      " 11%|█         | 1114112/9912422 [00:01<00:11, 759722.14it/s]\n",
      " 28%|██▊       | 2776064/9912422 [00:01<00:04, 1433065.97it/s]\n",
      " 24%|██▎       | 2338816/9912422 [00:01<00:06, 1094819.68it/s]\n",
      " 34%|███▍      | 3410944/9912422 [00:01<00:03, 1968957.41it/s]\n",
      " 50%|████▉     | 4933632/9912422 [00:01<00:01, 3080220.82it/s]\n",
      " 27%|██▋       | 2698240/9912422 [00:01<00:04, 1614155.09it/s]\n",
      " 17%|█▋        | 1644544/9912422 [00:01<00:08, 996651.39it/s] \n",
      " 12%|█▏        | 1233920/9912422 [00:01<00:16, 534284.16it/s]\n",
      " 12%|█▏        | 1218560/9912422 [00:01<00:10, 812856.75it/s]\n",
      " 30%|██▉       | 2952192/9912422 [00:01<00:04, 1517918.35it/s]\n",
      " 26%|██▌       | 2528256/9912422 [00:01<00:05, 1251931.07it/s]\n",
      " 54%|█████▍    | 5379072/9912422 [00:01<00:01, 3393644.59it/s]\n",
      " 31%|███▏      | 3116032/9912422 [00:01<00:03, 1954919.47it/s]\n",
      " 20%|█▉        | 1940480/9912422 [00:01<00:06, 1230101.11it/s]\n",
      " 14%|█▎        | 1342464/9912422 [00:01<00:13, 629956.90it/s]\n",
      " 13%|█▎        | 1305600/9912422 [00:01<00:11, 776550.77it/s]\n",
      " 39%|███▉      | 3881984/9912422 [00:01<00:02, 2236906.76it/s]\n",
      " 31%|███▏      | 3120128/9912422 [00:01<00:04, 1552183.06it/s]\n",
      " 27%|██▋       | 2665472/9912422 [00:01<00:05, 1221730.24it/s]\n",
      " 14%|█▍        | 1420288/9912422 [00:01<00:13, 648545.75it/s]\n",
      " 42%|████▏     | 4160512/9912422 [00:01<00:02, 2357950.45it/s]\n",
      " 58%|█████▊    | 5741568/9912422 [00:01<00:01, 3000123.13it/s]\n",
      " 34%|███▍      | 3350528/9912422 [00:01<00:03, 1798927.81it/s]\n",
      " 21%|██        | 2096128/9912422 [00:01<00:06, 1181106.14it/s]\n",
      " 14%|█▍        | 1392640/9912422 [00:01<00:12, 703460.15it/s]\n",
      " 33%|███▎      | 3315712/9912422 [00:02<00:04, 1580208.88it/s]\n",
      " 15%|█▌        | 1516544/9912422 [00:01<00:11, 718132.83it/s]\n",
      " 29%|██▊       | 2841600/9912422 [00:02<00:05, 1238882.11it/s]\n",
      " 45%|████▌     | 4508672/9912422 [00:02<00:02, 2552813.71it/s]\n",
      " 62%|██████▏   | 6179840/9912422 [00:02<00:01, 3285895.84it/s]\n",
      " 37%|███▋      | 3638272/9912422 [00:02<00:03, 1997406.56it/s]\n",
      " 23%|██▎       | 2237440/9912422 [00:02<00:06, 1217629.29it/s]\n",
      " 16%|█▌        | 1549312/9912422 [00:01<00:10, 829346.09it/s]\n",
      " 36%|███▌      | 3576832/9912422 [00:02<00:03, 1721959.36it/s]\n",
      " 16%|█▋        | 1620992/9912422 [00:02<00:11, 749429.65it/s]\n",
      " 30%|███       | 2980864/9912422 [00:02<00:05, 1259695.34it/s]\n",
      " 48%|████▊     | 4783104/9912422 [00:02<00:02, 2463280.94it/s]\n",
      " 24%|██▍       | 2393088/9912422 [00:02<00:05, 1289341.65it/s]\n",
      " 17%|█▋        | 1653760/9912422 [00:02<00:09, 868350.20it/s]\n",
      " 38%|███▊      | 3759104/9912422 [00:02<00:03, 1713935.13it/s]\n",
      " 66%|██████▌   | 6534144/9912422 [00:02<00:01, 3027574.55it/s]\n",
      " 39%|███▉      | 3866624/9912422 [00:02<00:03, 1903583.96it/s]\n",
      " 32%|███▏      | 3137536/9912422 [00:02<00:05, 1318686.00it/s]\n",
      " 51%|█████     | 5047296/9912422 [00:02<00:01, 2509049.47it/s]\n",
      " 41%|████▏     | 4090880/9912422 [00:02<00:02, 1988906.05it/s]\n",
      " 26%|██▌       | 2535424/9912422 [00:02<00:05, 1241309.32it/s]\n",
      " 17%|█▋        | 1708032/9912422 [00:02<00:10, 754590.47it/s]\n",
      " 18%|█▊        | 1748992/9912422 [00:02<00:10, 814260.21it/s]\n",
      " 41%|████      | 4046848/9912422 [00:02<00:03, 1906779.21it/s]\n",
      " 69%|██████▉   | 6858752/9912422 [00:02<00:01, 2950498.56it/s]\n",
      " 55%|█████▍    | 5413888/9912422 [00:02<00:01, 2733696.52it/s]\n",
      " 44%|████▍     | 4352000/9912422 [00:02<00:02, 2132512.20it/s]\n",
      " 27%|██▋       | 2722816/9912422 [00:02<00:05, 1339416.28it/s]\n",
      " 19%|█▊        | 1845248/9912422 [00:02<00:09, 841063.83it/s]\n",
      " 34%|███▎      | 3329024/9912422 [00:02<00:05, 1292475.51it/s]\n",
      " 19%|█▉        | 1864704/9912422 [00:02<00:10, 794028.97it/s]\n",
      " 43%|████▎     | 4249600/9912422 [00:02<00:03, 1778771.09it/s]\n",
      " 72%|███████▏  | 7170048/9912422 [00:02<00:01, 2576512.05it/s]\n",
      " 58%|█████▊    | 5709824/9912422 [00:02<00:01, 2471096.25it/s]\n",
      " 46%|████▋     | 4595712/9912422 [00:02<00:02, 2024197.86it/s]\n",
      " 29%|██▉       | 2866176/9912422 [00:02<00:05, 1219791.02it/s]\n",
      " 20%|█▉        | 1934336/9912422 [00:02<00:10, 778112.39it/s]\n",
      " 45%|████▍     | 4438016/9912422 [00:02<00:03, 1749224.21it/s]\n",
      " 35%|███▍      | 3468288/9912422 [00:02<00:05, 1119585.26it/s]\n",
      " 75%|███████▌  | 7447552/9912422 [00:02<00:01, 2272209.35it/s]\n",
      " 20%|█▉        | 1951744/9912422 [00:02<00:11, 681641.88it/s]\n",
      " 61%|██████    | 6023168/9912422 [00:02<00:01, 2430901.27it/s]\n",
      " 20%|██        | 2019328/9912422 [00:02<00:11, 701107.60it/s]\n",
      " 30%|███       | 3019776/9912422 [00:02<00:05, 1160719.25it/s]\n",
      " 47%|████▋     | 4620288/9912422 [00:02<00:03, 1631568.78it/s]\n",
      " 49%|████▉     | 4839424/9912422 [00:02<00:02, 1858398.86it/s]\n",
      " 64%|██████▎   | 6301696/9912422 [00:02<00:01, 2503260.95it/s]\n",
      " 21%|██        | 2038784/9912422 [00:02<00:12, 641491.00it/s]\n",
      " 48%|████▊     | 4790272/9912422 [00:02<00:03, 1580886.34it/s]\n",
      " 78%|███████▊  | 7695360/9912422 [00:02<00:01, 1863234.68it/s]\n",
      " 51%|█████     | 5048320/9912422 [00:02<00:02, 1802142.57it/s]\n",
      " 32%|███▏      | 3159040/9912422 [00:02<00:05, 1138833.92it/s]\n",
      " 21%|██        | 2106368/9912422 [00:02<00:11, 689317.17it/s]\n",
      " 36%|███▌      | 3590144/9912422 [00:02<00:08, 764218.17it/s] \n",
      " 66%|██████▋   | 6580224/9912422 [00:02<00:01, 2538807.75it/s]\n",
      " 21%|██▏       | 2125824/9912422 [00:02<00:11, 665722.16it/s]\n",
      " 51%|█████     | 5039104/9912422 [00:03<00:02, 1773772.65it/s]\n",
      " 80%|████████  | 7938048/9912422 [00:02<00:01, 1963846.89it/s]\n",
      " 54%|█████▎    | 5323776/9912422 [00:02<00:02, 2010695.35it/s]\n",
      " 34%|███▍      | 3350528/9912422 [00:02<00:05, 1274975.78it/s]\n",
      " 22%|██▏       | 2228224/9912422 [00:02<00:09, 780303.82it/s]\n"
     ]
    },
    {
     "data": {
      "text/html": [
       "== Status ==<br>Memory usage on this node: 5.1/15.5 GiB<br>Using FIFO scheduling algorithm.<br>Resources requested: 8.0/8 CPUs, 0/0 GPUs, 0.0/7.91 GiB heap, 0.0/3.95 GiB objects<br>Result logdir: /home/therealchainman/ray_results/train_mnist_2021-06-22_16-52-06<br>Number of trials: 20/20 (12 PENDING, 8 RUNNING)<br><table>\n",
       "<thead>\n",
       "<tr><th>Trial name             </th><th>status  </th><th>loc  </th><th style=\"text-align: right;\">         lr</th><th style=\"text-align: right;\">  momentum</th></tr>\n",
       "</thead>\n",
       "<tbody>\n",
       "<tr><td>train_mnist_16247_00000</td><td>RUNNING </td><td>     </td><td style=\"text-align: right;\">0.041874   </td><td style=\"text-align: right;\">  0.16155 </td></tr>\n",
       "<tr><td>train_mnist_16247_00001</td><td>RUNNING </td><td>     </td><td style=\"text-align: right;\">4.13676e-05</td><td style=\"text-align: right;\">  0.719126</td></tr>\n",
       "<tr><td>train_mnist_16247_00002</td><td>RUNNING </td><td>     </td><td style=\"text-align: right;\">1.7824e-08 </td><td style=\"text-align: right;\">  0.79312 </td></tr>\n",
       "<tr><td>train_mnist_16247_00003</td><td>RUNNING </td><td>     </td><td style=\"text-align: right;\">9.69164e-08</td><td style=\"text-align: right;\">  0.558845</td></tr>\n",
       "<tr><td>train_mnist_16247_00004</td><td>RUNNING </td><td>     </td><td style=\"text-align: right;\">0.00134643 </td><td style=\"text-align: right;\">  0.28525 </td></tr>\n",
       "<tr><td>train_mnist_16247_00005</td><td>RUNNING </td><td>     </td><td style=\"text-align: right;\">0.187656   </td><td style=\"text-align: right;\">  0.486429</td></tr>\n",
       "<tr><td>train_mnist_16247_00006</td><td>RUNNING </td><td>     </td><td style=\"text-align: right;\">0.00119145 </td><td style=\"text-align: right;\">  0.632457</td></tr>\n",
       "<tr><td>train_mnist_16247_00007</td><td>RUNNING </td><td>     </td><td style=\"text-align: right;\">0.000179996</td><td style=\"text-align: right;\">  0.173796</td></tr>\n",
       "<tr><td>train_mnist_16247_00008</td><td>PENDING </td><td>     </td><td style=\"text-align: right;\">2.06622e-08</td><td style=\"text-align: right;\">  0.859587</td></tr>\n",
       "<tr><td>train_mnist_16247_00009</td><td>PENDING </td><td>     </td><td style=\"text-align: right;\">1.31715e-09</td><td style=\"text-align: right;\">  0.207752</td></tr>\n",
       "<tr><td>train_mnist_16247_00010</td><td>PENDING </td><td>     </td><td style=\"text-align: right;\">1.18271e-05</td><td style=\"text-align: right;\">  0.480522</td></tr>\n",
       "<tr><td>train_mnist_16247_00011</td><td>PENDING </td><td>     </td><td style=\"text-align: right;\">0.0395415  </td><td style=\"text-align: right;\">  0.42925 </td></tr>\n",
       "<tr><td>train_mnist_16247_00012</td><td>PENDING </td><td>     </td><td style=\"text-align: right;\">0.039147   </td><td style=\"text-align: right;\">  0.670937</td></tr>\n",
       "<tr><td>train_mnist_16247_00013</td><td>PENDING </td><td>     </td><td style=\"text-align: right;\">0.000138393</td><td style=\"text-align: right;\">  0.132696</td></tr>\n",
       "<tr><td>train_mnist_16247_00014</td><td>PENDING </td><td>     </td><td style=\"text-align: right;\">0.000306374</td><td style=\"text-align: right;\">  0.866248</td></tr>\n",
       "<tr><td>train_mnist_16247_00015</td><td>PENDING </td><td>     </td><td style=\"text-align: right;\">2.32236e-08</td><td style=\"text-align: right;\">  0.306971</td></tr>\n",
       "<tr><td>train_mnist_16247_00016</td><td>PENDING </td><td>     </td><td style=\"text-align: right;\">0.00699487 </td><td style=\"text-align: right;\">  0.786069</td></tr>\n",
       "<tr><td>train_mnist_16247_00017</td><td>PENDING </td><td>     </td><td style=\"text-align: right;\">3.13833e-10</td><td style=\"text-align: right;\">  0.311705</td></tr>\n",
       "<tr><td>train_mnist_16247_00018</td><td>PENDING </td><td>     </td><td style=\"text-align: right;\">0.0502922  </td><td style=\"text-align: right;\">  0.27041 </td></tr>\n",
       "<tr><td>train_mnist_16247_00019</td><td>PENDING </td><td>     </td><td style=\"text-align: right;\">1.0712e-07 </td><td style=\"text-align: right;\">  0.877289</td></tr>\n",
       "</tbody>\n",
       "</table><br><br>"
      ],
      "text/plain": [
       "<IPython.core.display.HTML object>"
      ]
     },
     "metadata": {},
     "output_type": "display_data"
    },
    {
     "name": "stderr",
     "output_type": "stream",
     "text": [
      " 70%|███████   | 6945792/9912422 [00:02<00:01, 2787987.71it/s]\n",
      " 53%|█████▎    | 5228544/9912422 [00:03<00:02, 1769692.33it/s]\n",
      " 39%|███▉      | 3850240/9912422 [00:03<00:06, 875989.42it/s]\n",
      " 82%|████████▏ | 8155136/9912422 [00:03<00:00, 1898731.55it/s]\n",
      " 56%|█████▌    | 5569536/9912422 [00:03<00:02, 2010831.34it/s]\n",
      " 35%|███▌      | 3489792/9912422 [00:02<00:05, 1229020.21it/s]\n",
      " 23%|██▎       | 2313216/9912422 [00:02<00:09, 773120.40it/s]\n",
      " 73%|███████▎  | 7236608/9912422 [00:03<00:00, 2702393.21it/s]\n",
      " 23%|██▎       | 2299904/9912422 [00:03<00:10, 718017.79it/s]\n",
      " 55%|█████▍    | 5438464/9912422 [00:03<00:02, 1850086.18it/s]\n",
      " 85%|████████▍ | 8408064/9912422 [00:03<00:00, 2030377.99it/s]\n",
      " 59%|█████▉    | 5830656/9912422 [00:03<00:01, 2128281.34it/s]\n",
      " 37%|███▋      | 3619840/9912422 [00:03<00:05, 1243471.11it/s]\n",
      " 24%|██▍       | 2386944/9912422 [00:03<00:10, 752299.09it/s]\n",
      " 24%|██▍       | 2402304/9912422 [00:03<00:09, 759535.47it/s]\n",
      " 40%|███▉      | 3957760/9912422 [00:03<00:06, 902558.93it/s]\n",
      " 76%|███████▌  | 7516160/9912422 [00:03<00:00, 2635441.82it/s]\n",
      " 57%|█████▋    | 5630976/9912422 [00:03<00:02, 1858523.11it/s]\n",
      " 87%|████████▋ | 8624128/9912422 [00:03<00:00, 2057679.96it/s]\n",
      " 61%|██████    | 6051840/9912422 [00:03<00:01, 2135156.64it/s]\n",
      " 38%|███▊      | 3803136/9912422 [00:03<00:04, 1374788.12it/s]\n",
      " 25%|██▌       | 2508800/9912422 [00:03<00:08, 844745.28it/s]\n",
      " 25%|██▌       | 2506752/9912422 [00:03<00:09, 799340.32it/s]\n",
      " 42%|████▏     | 4129792/9912422 [00:03<00:06, 947559.08it/s]\n",
      " 80%|███████▉  | 7903232/9912422 [00:03<00:00, 2906018.78it/s]\n",
      " 59%|█████▉    | 5839872/9912422 [00:03<00:02, 1893431.61it/s]\n",
      " 89%|████████▉ | 8843264/9912422 [00:03<00:00, 2010401.97it/s]\n",
      " 64%|██████▍   | 6353920/9912422 [00:03<00:01, 2313418.09it/s]\n",
      " 40%|████      | 3994624/9912422 [00:03<00:03, 1483630.15it/s]\n",
      " 26%|██▋       | 2611200/9912422 [00:03<00:08, 851659.53it/s]\n",
      " 83%|████████▎ | 8235008/9912422 [00:03<00:00, 3018019.33it/s]\n",
      " 27%|██▋       | 2648064/9912422 [00:03<00:08, 871587.76it/s]\n",
      " 61%|██████    | 6048768/9912422 [00:03<00:02, 1781665.72it/s]\n",
      " 44%|████▎     | 4321280/9912422 [00:03<00:05, 1009950.78it/s]\n",
      " 91%|█████████▏| 9051136/9912422 [00:03<00:00, 1955893.66it/s]\n",
      " 67%|██████▋   | 6632448/9912422 [00:03<00:01, 2265294.04it/s]\n",
      " 86%|████████▌ | 8547328/9912422 [00:03<00:00, 2746334.80it/s]\n",
      " 42%|████▏     | 4168704/9912422 [00:03<00:04, 1340163.56it/s]\n",
      " 27%|██▋       | 2699264/9912422 [00:03<00:09, 786010.70it/s]\n",
      " 28%|██▊       | 2740224/9912422 [00:03<00:09, 795694.54it/s]\n",
      " 63%|██████▎   | 6274048/9912422 [00:03<00:01, 1895069.62it/s]\n",
      " 94%|█████████▍| 9295872/9912422 [00:03<00:00, 2073321.98it/s]\n",
      " 69%|██████▉   | 6876160/9912422 [00:03<00:01, 2278076.39it/s]\n",
      " 44%|████▍     | 4360192/9912422 [00:03<00:03, 1461217.14it/s]\n",
      " 28%|██▊       | 2802688/9912422 [00:03<00:08, 843670.20it/s]\n",
      " 45%|████▍     | 4430848/9912422 [00:03<00:05, 942396.24it/s] \n",
      " 89%|████████▉ | 8860672/9912422 [00:03<00:00, 2808847.57it/s]\n",
      " 28%|██▊       | 2824192/9912422 [00:03<00:08, 799500.37it/s]\n",
      " 65%|██████▌   | 6468608/9912422 [00:03<00:01, 1900218.24it/s]\n",
      " 96%|█████████▌| 9508864/9912422 [00:03<00:00, 2056361.73it/s]\n",
      " 72%|███████▏  | 7108608/9912422 [00:03<00:01, 2248764.57it/s]\n",
      " 46%|████▌     | 4534272/9912422 [00:03<00:03, 1490425.41it/s]\n",
      " 29%|██▉       | 2906112/9912422 [00:03<00:07, 890357.33it/s]\n",
      " 46%|████▌     | 4532224/9912422 [00:03<00:05, 933370.27it/s]\n",
      " 92%|█████████▏| 9150464/9912422 [00:03<00:00, 2768887.69it/s]\n",
      " 29%|██▉       | 2909184/9912422 [00:03<00:08, 806676.82it/s]\n",
      " 67%|██████▋   | 6662144/9912422 [00:03<00:01, 1710233.83it/s]\n",
      " 98%|█████████▊| 9718784/9912422 [00:03<00:00, 1889434.78it/s]\n",
      " 74%|███████▍  | 7336960/9912422 [00:03<00:01, 2064772.88it/s]\n",
      " 47%|████▋     | 4651008/9912422 [00:03<00:05, 925745.85it/s]\n",
      " 95%|█████████▌| 9434112/9912422 [00:03<00:00, 2655390.40it/s]\n",
      " 47%|████▋     | 4689920/9912422 [00:03<00:03, 1363791.07it/s]\n",
      " 30%|███       | 2992128/9912422 [00:03<00:08, 790089.18it/s]\n",
      " 30%|███       | 2998272/9912422 [00:03<00:09, 748156.76it/s]\n",
      "9913344it [00:03, 2564517.63it/s]                             \n",
      " 70%|██████▉   | 6919168/9912422 [00:04<00:01, 1738421.97it/s]\n",
      " 77%|███████▋  | 7589888/9912422 [00:03<00:01, 1991426.09it/s]\n",
      " 49%|████▉     | 4833280/9912422 [00:03<00:03, 1327605.13it/s]\n",
      " 31%|███       | 3079168/9912422 [00:03<00:09, 747805.45it/s]\n",
      " 48%|████▊     | 4756480/9912422 [00:04<00:05, 901447.49it/s]\n",
      " 98%|█████████▊| 9705472/9912422 [00:04<00:00, 2360484.40it/s]\n",
      " 31%|███       | 3073024/9912422 [00:03<00:09, 757779.66it/s]\n"
     ]
    },
    {
     "name": "stdout",
     "output_type": "stream",
     "text": [
      "\u001b[2m\u001b[36m(pid=18939)\u001b[0m Extracting {cwd}/data/MNIST/raw/train-images-idx3-ubyte.gz to {cwd}/data/MNIST/raw\n",
      "\u001b[2m\u001b[36m(pid=18938)\u001b[0m Extracting {cwd}/data/MNIST/raw/train-images-idx3-ubyte.gz to {cwd}/data/MNIST/raw\n"
     ]
    },
    {
     "name": "stderr",
     "output_type": "stream",
     "text": [
      " 72%|███████▏  | 7182336/9912422 [00:04<00:01, 1935396.52it/s]\n",
      "9913344it [00:04, 2448570.14it/s]                             \n",
      " 80%|████████  | 7955456/9912422 [00:04<00:00, 2272605.25it/s]\n",
      " 33%|███▎      | 3239936/9912422 [00:04<00:07, 903784.52it/s]\n",
      " 32%|███▏      | 3185664/9912422 [00:04<00:08, 806770.42it/s]\n",
      " 51%|█████     | 5056512/9912422 [00:04<00:03, 1454726.68it/s]\n",
      " 50%|█████     | 4965376/9912422 [00:04<00:04, 1018539.98it/s]\n",
      " 75%|███████▌  | 7476224/9912422 [00:04<00:01, 2112258.72it/s]\n",
      " 84%|████████▍ | 8341504/9912422 [00:04<00:00, 2591643.16it/s]\n",
      " 34%|███▎      | 3344384/9912422 [00:04<00:07, 935703.38it/s]\n",
      " 34%|███▎      | 3341312/9912422 [00:04<00:07, 936209.45it/s]\n",
      " 54%|█████▍    | 5352448/9912422 [00:04<00:02, 1675562.14it/s]\n",
      " 52%|█████▏    | 5174272/9912422 [00:04<00:04, 1154019.51it/s]\n",
      " 88%|████████▊ | 8738816/9912422 [00:04<00:00, 2875044.35it/s]\n",
      " 79%|███████▉  | 7841792/9912422 [00:04<00:00, 2115574.98it/s]\n",
      " 56%|█████▋    | 5578752/9912422 [00:04<00:02, 1713421.29it/s]\n",
      " 35%|███▍      | 3464192/9912422 [00:04<00:07, 920577.90it/s]\n",
      " 53%|█████▎    | 5301248/9912422 [00:04<00:04, 1130791.30it/s]\n",
      " 91%|█████████▏| 9055232/9912422 [00:04<00:00, 2745896.48it/s]\n",
      " 35%|███▌      | 3501056/9912422 [00:04<00:06, 917698.88it/s]\n",
      " 82%|████████▏ | 8085504/9912422 [00:04<00:00, 2153881.63it/s]\n",
      " 58%|█████▊    | 5787648/9912422 [00:04<00:02, 1713385.07it/s]\n",
      " 36%|███▌      | 3586048/9912422 [00:04<00:06, 932102.14it/s]\n"
     ]
    },
    {
     "name": "stdout",
     "output_type": "stream",
     "text": [
      "\u001b[2m\u001b[36m(pid=18939)\u001b[0m \n",
      "\u001b[2m\u001b[36m(pid=18939)\u001b[0m Downloading http://yann.lecun.com/exdb/mnist/train-labels-idx1-ubyte.gz\n",
      "\u001b[2m\u001b[36m(pid=18938)\u001b[0m \n",
      "\u001b[2m\u001b[36m(pid=18938)\u001b[0m Downloading http://yann.lecun.com/exdb/mnist/train-labels-idx1-ubyte.gz\n"
     ]
    },
    {
     "name": "stderr",
     "output_type": "stream",
     "text": [
      " 55%|█████▍    | 5422080/9912422 [00:04<00:04, 1067938.50it/s]\n",
      " 94%|█████████▍| 9365504/9912422 [00:04<00:00, 2832137.13it/s]\n",
      " 36%|███▋      | 3600384/9912422 [00:04<00:07, 874931.09it/s]\n",
      " 84%|████████▍ | 8346624/9912422 [00:04<00:00, 2257647.31it/s]\n",
      " 61%|██████    | 6048768/9912422 [00:04<00:02, 1887768.69it/s]\n",
      " 97%|█████████▋| 9664512/9912422 [00:04<00:00, 2780142.35it/s]\n",
      " 38%|███▊      | 3742720/9912422 [00:04<00:06, 1020157.56it/s]\n",
      " 88%|████████▊ | 8694784/9912422 [00:04<00:00, 2503409.55it/s]\n",
      " 57%|█████▋    | 5626880/9912422 [00:04<00:03, 1155581.84it/s]\n",
      "9913344it [00:04, 2129896.76it/s]                             \n",
      " 64%|██████▍   | 6327296/9912422 [00:04<00:01, 2085413.44it/s]\n",
      " 38%|███▊      | 3762176/9912422 [00:04<00:06, 931169.18it/s]\n"
     ]
    },
    {
     "name": "stdout",
     "output_type": "stream",
     "text": [
      "\u001b[2m\u001b[36m(pid=18939)\u001b[0m Failed to download (trying next):\n",
      "\u001b[2m\u001b[36m(pid=18939)\u001b[0m HTTP Error 503: Service Unavailable\n",
      "\u001b[2m\u001b[36m(pid=18939)\u001b[0m \n",
      "\u001b[2m\u001b[36m(pid=18939)\u001b[0m Downloading https://ossci-datasets.s3.amazonaws.com/mnist/train-labels-idx1-ubyte.gz\n",
      "\u001b[2m\u001b[36m(pid=18938)\u001b[0m Failed to download (trying next):\n",
      "\u001b[2m\u001b[36m(pid=18938)\u001b[0m HTTP Error 503: Service Unavailable\n",
      "\u001b[2m\u001b[36m(pid=18938)\u001b[0m \n",
      "\u001b[2m\u001b[36m(pid=18938)\u001b[0m Downloading https://ossci-datasets.s3.amazonaws.com/mnist/train-labels-idx1-ubyte.gz\n",
      "\u001b[2m\u001b[36m(pid=18936)\u001b[0m Extracting {cwd}/data/MNIST/raw/train-images-idx3-ubyte.gz to {cwd}/data/MNIST/raw\n"
     ]
    },
    {
     "name": "stderr",
     "output_type": "stream",
     "text": [
      " 40%|███▉      | 3916800/9912422 [00:04<00:05, 1092933.70it/s]\n",
      " 91%|█████████ | 8996864/9912422 [00:04<00:00, 2638963.70it/s]\n",
      " 66%|██████▌   | 6553600/9912422 [00:04<00:01, 2120911.91it/s]\n",
      " 39%|███▉      | 3866624/9912422 [00:04<00:06, 944107.48it/s]\n",
      " 41%|████      | 4038656/9912422 [00:04<00:05, 1126447.69it/s]\n",
      " 58%|█████▊    | 5749760/9912422 [00:04<00:04, 939083.71it/s] \n",
      " 94%|█████████▎| 9271296/9912422 [00:04<00:00, 2343797.07it/s]\n",
      " 68%|██████▊   | 6776832/9912422 [00:04<00:01, 1952944.07it/s]\n",
      " 40%|███▉      | 3964928/9912422 [00:04<00:07, 813327.77it/s]\n",
      " 60%|██████    | 5956608/9912422 [00:05<00:03, 1042063.32it/s]\n",
      " 42%|████▏     | 4177920/9912422 [00:04<00:05, 1110044.83it/s]\n",
      " 97%|█████████▋| 9617408/9912422 [00:05<00:00, 2562803.93it/s]\n",
      " 71%|███████   | 7006208/9912422 [00:04<00:01, 2025841.83it/s]\n",
      " 42%|████▏     | 4145152/9912422 [00:04<00:06, 940245.43it/s]\n",
      " 62%|██████▏   | 6114304/9912422 [00:05<00:03, 1130277.56it/s]\n",
      " 44%|████▍     | 4369408/9912422 [00:04<00:04, 1254917.84it/s]\n"
     ]
    },
    {
     "name": "stdout",
     "output_type": "stream",
     "text": [
      "\u001b[2m\u001b[36m(pid=18936)\u001b[0m \n",
      "\u001b[2m\u001b[36m(pid=18936)\u001b[0m Downloading http://yann.lecun.com/exdb/mnist/train-labels-idx1-ubyte.gz\n",
      "\u001b[2m\u001b[36m(pid=18939)\u001b[0m Downloading https://ossci-datasets.s3.amazonaws.com/mnist/train-labels-idx1-ubyte.gz to {cwd}/data/MNIST/raw/train-labels-idx1-ubyte.gz\n",
      "\u001b[2m\u001b[36m(pid=18938)\u001b[0m Downloading https://ossci-datasets.s3.amazonaws.com/mnist/train-labels-idx1-ubyte.gz to {cwd}/data/MNIST/raw/train-labels-idx1-ubyte.gz\n",
      "\u001b[2m\u001b[36m(pid=18933)\u001b[0m Extracting {cwd}/data/MNIST/raw/train-images-idx3-ubyte.gz to {cwd}/data/MNIST/raw\n"
     ]
    },
    {
     "name": "stderr",
     "output_type": "stream",
     "text": [
      "9913344it [00:05, 1909444.32it/s]                             \n",
      " 74%|███████▎  | 7302144/9912422 [00:05<00:01, 2162575.15it/s]\n",
      " 44%|████▎     | 4336640/9912422 [00:05<00:05, 1084976.96it/s]\n",
      " 46%|████▌     | 4543488/9912422 [00:05<00:03, 1365969.39it/s]\n",
      " 63%|██████▎   | 6253568/9912422 [00:05<00:03, 1195493.04it/s]\n",
      " 78%|███████▊  | 7685120/9912422 [00:05<00:00, 2483004.76it/s]\n",
      " 46%|████▌     | 4562944/9912422 [00:05<00:04, 1276414.13it/s]\n",
      "  0%|          | 0/28881 [00:00<?, ?it/s]\n",
      "  0%|          | 0/28881 [00:00<?, ?it/s]\n",
      " 48%|████▊     | 4752384/9912422 [00:05<00:03, 1503418.75it/s]\n"
     ]
    },
    {
     "name": "stdout",
     "output_type": "stream",
     "text": [
      "\u001b[2m\u001b[36m(pid=18939)\u001b[0m Extracting {cwd}/data/MNIST/raw/train-labels-idx1-ubyte.gz to {cwd}/data/MNIST/raw\n",
      "\u001b[2m\u001b[36m(pid=18939)\u001b[0m \n",
      "\u001b[2m\u001b[36m(pid=18939)\u001b[0m Downloading http://yann.lecun.com/exdb/mnist/t10k-images-idx3-ubyte.gz\n",
      "\u001b[2m\u001b[36m(pid=18938)\u001b[0m Extracting {cwd}/data/MNIST/raw/train-labels-idx1-ubyte.gz to {cwd}/data/MNIST/raw\n",
      "\u001b[2m\u001b[36m(pid=18938)\u001b[0m \n",
      "\u001b[2m\u001b[36m(pid=18938)\u001b[0m Downloading http://yann.lecun.com/exdb/mnist/t10k-images-idx3-ubyte.gz\n",
      "\u001b[2m\u001b[36m(pid=18933)\u001b[0m \n",
      "\u001b[2m\u001b[36m(pid=18933)\u001b[0m Downloading http://yann.lecun.com/exdb/mnist/train-labels-idx1-ubyte.gz\n"
     ]
    },
    {
     "name": "stderr",
     "output_type": "stream",
     "text": [
      " 65%|██████▍   | 6410240/9912422 [00:05<00:02, 1196071.93it/s]\n",
      "29696it [00:00, 668272.96it/s]           \n",
      "29696it [00:00, 640160.21it/s]           \n",
      " 81%|████████  | 8034304/9912422 [00:05<00:00, 2718573.18it/s]\n",
      " 48%|████▊     | 4771840/9912422 [00:05<00:03, 1427562.72it/s]\n",
      " 50%|█████     | 4996096/9912422 [00:05<00:02, 1675794.77it/s]\n",
      " 84%|████████▍ | 8364032/9912422 [00:05<00:00, 2567716.19it/s]\n",
      " 50%|█████     | 4963328/9912422 [00:05<00:03, 1511344.77it/s]\n",
      " 67%|██████▋   | 6601728/9912422 [00:05<00:02, 1203044.14it/s]\n",
      " 53%|█████▎    | 5204992/9912422 [00:05<00:02, 1742434.19it/s]\n",
      " 88%|████████▊ | 8694784/9912422 [00:05<00:00, 2748681.97it/s]\n",
      " 52%|█████▏    | 5172224/9912422 [00:05<00:02, 1644745.87it/s]\n",
      " 69%|██████▊   | 6793216/9912422 [00:05<00:02, 1244644.78it/s]\n",
      " 55%|█████▍    | 5431296/9912422 [00:05<00:02, 1856353.30it/s]\n",
      " 55%|█████▍    | 5433344/9912422 [00:05<00:02, 1827696.13it/s]\n",
      " 57%|█████▋    | 5640192/9912422 [00:05<00:02, 1896513.09it/s]\n",
      " 91%|█████████ | 8985600/9912422 [00:05<00:00, 2654681.18it/s]\n"
     ]
    },
    {
     "name": "stdout",
     "output_type": "stream",
     "text": [
      "\u001b[2m\u001b[36m(pid=18936)\u001b[0m Failed to download (trying next):\n",
      "\u001b[2m\u001b[36m(pid=18936)\u001b[0m HTTP Error 503: Service Unavailable\n",
      "\u001b[2m\u001b[36m(pid=18936)\u001b[0m \n",
      "\u001b[2m\u001b[36m(pid=18936)\u001b[0m Downloading https://ossci-datasets.s3.amazonaws.com/mnist/train-labels-idx1-ubyte.gz\n",
      "\u001b[2m\u001b[36m(pid=18938)\u001b[0m Failed to download (trying next):\n",
      "\u001b[2m\u001b[36m(pid=18938)\u001b[0m HTTP Error 503: Service Unavailable\n",
      "\u001b[2m\u001b[36m(pid=18938)\u001b[0m \n",
      "\u001b[2m\u001b[36m(pid=18938)\u001b[0m Downloading https://ossci-datasets.s3.amazonaws.com/mnist/t10k-images-idx3-ubyte.gz\n",
      "\u001b[2m\u001b[36m(pid=18939)\u001b[0m Failed to download (trying next):\n",
      "\u001b[2m\u001b[36m(pid=18939)\u001b[0m HTTP Error 503: Service Unavailable\n",
      "\u001b[2m\u001b[36m(pid=18939)\u001b[0m \n",
      "\u001b[2m\u001b[36m(pid=18939)\u001b[0m Downloading https://ossci-datasets.s3.amazonaws.com/mnist/t10k-images-idx3-ubyte.gz\n"
     ]
    },
    {
     "name": "stderr",
     "output_type": "stream",
     "text": [
      " 70%|███████   | 6984704/9912422 [00:05<00:02, 1283432.66it/s]\n",
      " 93%|█████████▎| 9263104/9912422 [00:05<00:00, 2655280.14it/s]\n",
      " 57%|█████▋    | 5694464/9912422 [00:05<00:02, 1898446.16it/s]\n",
      " 60%|█████▉    | 5918720/9912422 [00:05<00:01, 2024938.53it/s]\n",
      " 72%|███████▏  | 7158784/9912422 [00:05<00:01, 1385186.35it/s]\n",
      " 62%|██████▏   | 6162432/9912422 [00:05<00:01, 2110962.75it/s]\n",
      " 96%|█████████▌| 9537536/9912422 [00:05<00:00, 2523025.38it/s]\n",
      " 60%|██████    | 5955584/9912422 [00:05<00:01, 2051098.00it/s]\n"
     ]
    },
    {
     "name": "stdout",
     "output_type": "stream",
     "text": [
      "\u001b[2m\u001b[36m(pid=18936)\u001b[0m Downloading https://ossci-datasets.s3.amazonaws.com/mnist/train-labels-idx1-ubyte.gz to {cwd}/data/MNIST/raw/train-labels-idx1-ubyte.gz\n",
      "\u001b[2m\u001b[36m(pid=18939)\u001b[0m Downloading https://ossci-datasets.s3.amazonaws.com/mnist/t10k-images-idx3-ubyte.gz to {cwd}/data/MNIST/raw/t10k-images-idx3-ubyte.gz\n",
      "\u001b[2m\u001b[36m(pid=18938)\u001b[0m Downloading https://ossci-datasets.s3.amazonaws.com/mnist/t10k-images-idx3-ubyte.gz to {cwd}/data/MNIST/raw/t10k-images-idx3-ubyte.gz\n",
      "\u001b[2m\u001b[36m(pid=18937)\u001b[0m Extracting {cwd}/data/MNIST/raw/train-images-idx3-ubyte.gz to {cwd}/data/MNIST/raw\n"
     ]
    },
    {
     "name": "stderr",
     "output_type": "stream",
     "text": [
      " 74%|███████▍  | 7332864/9912422 [00:06<00:01, 1392034.04it/s]\n",
      "9913344it [00:05, 1652729.56it/s]                             \n",
      " 62%|██████▏   | 6173696/9912422 [00:05<00:01, 1889448.50it/s]\n",
      " 65%|██████▍   | 6423552/9912422 [00:05<00:01, 2180683.01it/s]\n",
      " 76%|███████▌  | 7489536/9912422 [00:06<00:01, 1423267.72it/s]\n",
      "  0%|          | 0/28881 [00:00<?, ?it/s]\n",
      " 64%|██████▍   | 6374400/9912422 [00:06<00:01, 1916630.34it/s]\n",
      " 67%|██████▋   | 6646784/9912422 [00:06<00:01, 2174726.86it/s]\n"
     ]
    },
    {
     "name": "stdout",
     "output_type": "stream",
     "text": [
      "\u001b[2m\u001b[36m(pid=18936)\u001b[0m Extracting {cwd}/data/MNIST/raw/train-labels-idx1-ubyte.gz to {cwd}/data/MNIST/raw\n",
      "\u001b[2m\u001b[36m(pid=18936)\u001b[0m \n",
      "\u001b[2m\u001b[36m(pid=18936)\u001b[0m Downloading http://yann.lecun.com/exdb/mnist/t10k-images-idx3-ubyte.gz\n",
      "\u001b[2m\u001b[36m(pid=18937)\u001b[0m \n",
      "\u001b[2m\u001b[36m(pid=18937)\u001b[0m Downloading http://yann.lecun.com/exdb/mnist/train-labels-idx1-ubyte.gz\n",
      "\u001b[2m\u001b[36m(pid=18933)\u001b[0m Failed to download (trying next):\n",
      "\u001b[2m\u001b[36m(pid=18933)\u001b[0m HTTP Error 503: Service Unavailable\n",
      "\u001b[2m\u001b[36m(pid=18933)\u001b[0m \n",
      "\u001b[2m\u001b[36m(pid=18933)\u001b[0m Downloading https://ossci-datasets.s3.amazonaws.com/mnist/train-labels-idx1-ubyte.gz\n",
      "\u001b[2m\u001b[36m(pid=18937)\u001b[0m Failed to download (trying next):\n",
      "\u001b[2m\u001b[36m(pid=18937)\u001b[0m HTTP Error 503: Service Unavailable\n",
      "\u001b[2m\u001b[36m(pid=18937)\u001b[0m \n",
      "\u001b[2m\u001b[36m(pid=18937)\u001b[0m Downloading https://ossci-datasets.s3.amazonaws.com/mnist/train-labels-idx1-ubyte.gz\n",
      "\u001b[2m\u001b[36m(pid=18936)\u001b[0m Failed to download (trying next):\n",
      "\u001b[2m\u001b[36m(pid=18936)\u001b[0m HTTP Error 503: Service Unavailable\n",
      "\u001b[2m\u001b[36m(pid=18936)\u001b[0m \n",
      "\u001b[2m\u001b[36m(pid=18936)\u001b[0m Downloading https://ossci-datasets.s3.amazonaws.com/mnist/t10k-images-idx3-ubyte.gz\n"
     ]
    },
    {
     "name": "stderr",
     "output_type": "stream",
     "text": [
      " 77%|███████▋  | 7634944/9912422 [00:06<00:02, 870519.08it/s] \n",
      "29696it [00:00, 104236.48it/s]                        \n",
      "  0%|          | 0/1648877 [00:00<?, ?it/s]\n",
      "  0%|          | 0/1648877 [00:00<?, ?it/s]\n",
      " 69%|██████▉   | 6867968/9912422 [00:06<00:02, 1255522.47it/s]\n",
      " 78%|███████▊  | 7768064/9912422 [00:06<00:02, 934656.91it/s]\n",
      "  0%|          | 1024/1648877 [00:00<02:47, 9843.41it/s]\n",
      "  3%|▎         | 43008/1648877 [00:00<00:03, 422147.35it/s]\n",
      " 66%|██████▋   | 6574080/9912422 [00:06<00:03, 1046189.92it/s]\n",
      " 71%|███████   | 7042048/9912422 [00:06<00:02, 1340043.05it/s]\n",
      " 80%|███████▉  | 7924736/9912422 [00:06<00:01, 1044676.48it/s]\n",
      "  9%|▉         | 147456/1648877 [00:00<00:02, 504923.25it/s]\n",
      "  2%|▏         | 33792/1648877 [00:00<01:56, 13817.20it/s]\n",
      " 73%|███████▎  | 7212032/9912422 [00:06<00:01, 1395490.12it/s]\n",
      " 68%|██████▊   | 6729728/9912422 [00:06<00:03, 972806.62it/s] \n",
      " 82%|████████▏ | 8081408/9912422 [00:06<00:01, 1114764.45it/s]\n"
     ]
    },
    {
     "name": "stdout",
     "output_type": "stream",
     "text": [
      "\u001b[2m\u001b[36m(pid=18933)\u001b[0m Downloading https://ossci-datasets.s3.amazonaws.com/mnist/train-labels-idx1-ubyte.gz to {cwd}/data/MNIST/raw/train-labels-idx1-ubyte.gz\n",
      "\u001b[2m\u001b[36m(pid=18936)\u001b[0m Downloading https://ossci-datasets.s3.amazonaws.com/mnist/t10k-images-idx3-ubyte.gz to {cwd}/data/MNIST/raw/t10k-images-idx3-ubyte.gz\n",
      "\u001b[2m\u001b[36m(pid=18937)\u001b[0m Downloading https://ossci-datasets.s3.amazonaws.com/mnist/train-labels-idx1-ubyte.gz to {cwd}/data/MNIST/raw/train-labels-idx1-ubyte.gz\n"
     ]
    },
    {
     "name": "stderr",
     "output_type": "stream",
     "text": [
      " 33%|███▎      | 547840/1648877 [00:00<00:01, 646573.19it/s]\n",
      "  4%|▍         | 68608/1648877 [00:00<01:22, 19113.96it/s]\n",
      " 74%|███████▍  | 7376896/9912422 [00:06<00:02, 1251327.48it/s]\n",
      " 83%|████████▎ | 8207360/9912422 [00:06<00:01, 1009271.34it/s]\n",
      " 69%|██████▉   | 6863872/9912422 [00:06<00:03, 817126.45it/s]\n",
      " 73%|███████▎  | 1203200/1648877 [00:00<00:00, 886193.45it/s]\n",
      "  6%|▋         | 103424/1648877 [00:00<00:58, 26493.93it/s]\n",
      " 76%|███████▌  | 7523328/9912422 [00:06<00:01, 1238692.06it/s]\n",
      " 84%|████████▍ | 8359936/9912422 [00:07<00:01, 1037087.22it/s]\n",
      "1649664it [00:00, 2860793.46it/s]                            \n"
     ]
    },
    {
     "name": "stdout",
     "output_type": "stream",
     "text": [
      "\u001b[2m\u001b[36m(pid=18938)\u001b[0m Extracting {cwd}/data/MNIST/raw/t10k-images-idx3-ubyte.gz to {cwd}/data/MNIST/raw\n",
      "\u001b[2m\u001b[36m(pid=18938)\u001b[0m \n",
      "\u001b[2m\u001b[36m(pid=18938)\u001b[0m Downloading http://yann.lecun.com/exdb/mnist/t10k-labels-idx1-ubyte.gz\n",
      "\u001b[2m\u001b[36m(pid=18933)\u001b[0m Extracting {cwd}/data/MNIST/raw/train-labels-idx1-ubyte.gz to {cwd}/data/MNIST/raw\n",
      "\u001b[2m\u001b[36m(pid=18933)\u001b[0m \n",
      "\u001b[2m\u001b[36m(pid=18933)\u001b[0m Downloading http://yann.lecun.com/exdb/mnist/t10k-images-idx3-ubyte.gz\n",
      "\u001b[2m\u001b[36m(pid=18938)\u001b[0m Failed to download (trying next):\n",
      "\u001b[2m\u001b[36m(pid=18938)\u001b[0m HTTP Error 503: Service Unavailable\n",
      "\u001b[2m\u001b[36m(pid=18938)\u001b[0m \n",
      "\u001b[2m\u001b[36m(pid=18938)\u001b[0m Downloading https://ossci-datasets.s3.amazonaws.com/mnist/t10k-labels-idx1-ubyte.gz\n"
     ]
    },
    {
     "name": "stderr",
     "output_type": "stream",
     "text": [
      "  0%|          | 0/28881 [00:00<?, ?it/s]\n",
      " 70%|███████   | 6975488/9912422 [00:07<00:03, 857811.46it/s]\n",
      " 78%|███████▊  | 7729152/9912422 [00:07<00:01, 1364716.26it/s]\n",
      "29696it [00:00, 711627.64it/s]           \n",
      " 86%|████████▌ | 8534016/9912422 [00:07<00:01, 1154479.23it/s]\n",
      "  9%|▉         | 155648/1648877 [00:00<00:40, 36740.82it/s]\n",
      "  0%|          | 0/1648877 [00:00<?, ?it/s]\n",
      "  0%|          | 0/28881 [00:00<?, ?it/s]\n",
      " 71%|███████▏  | 7083008/9912422 [00:07<00:03, 909717.23it/s]\n",
      " 80%|████████  | 7955456/9912422 [00:07<00:01, 1531854.62it/s]\n",
      " 13%|█▎        | 207872/1648877 [00:00<00:28, 50555.83it/s]\n",
      "29696it [00:00, 664703.05it/s]           \n",
      " 73%|███████▎  | 7208960/9912422 [00:07<00:02, 986720.51it/s]\n"
     ]
    },
    {
     "name": "stdout",
     "output_type": "stream",
     "text": [
      "\u001b[2m\u001b[36m(pid=18937)\u001b[0m Extracting {cwd}/data/MNIST/raw/train-labels-idx1-ubyte.gz to {cwd}/data/MNIST/raw\n",
      "\u001b[2m\u001b[36m(pid=18937)\u001b[0m \n",
      "\u001b[2m\u001b[36m(pid=18937)\u001b[0m Downloading http://yann.lecun.com/exdb/mnist/t10k-images-idx3-ubyte.gz\n",
      "\u001b[2m\u001b[36m(pid=18933)\u001b[0m Failed to download (trying next):\n",
      "\u001b[2m\u001b[36m(pid=18933)\u001b[0m HTTP Error 503: Service Unavailable\n",
      "\u001b[2m\u001b[36m(pid=18933)\u001b[0m \n",
      "\u001b[2m\u001b[36m(pid=18933)\u001b[0m Downloading https://ossci-datasets.s3.amazonaws.com/mnist/t10k-images-idx3-ubyte.gz\n",
      "\u001b[2m\u001b[36m(pid=18937)\u001b[0m Failed to download (trying next):\n",
      "\u001b[2m\u001b[36m(pid=18937)\u001b[0m HTTP Error 503: Service Unavailable\n",
      "\u001b[2m\u001b[36m(pid=18937)\u001b[0m \n",
      "\u001b[2m\u001b[36m(pid=18937)\u001b[0m Downloading https://ossci-datasets.s3.amazonaws.com/mnist/t10k-images-idx3-ubyte.gz\n",
      "\u001b[2m\u001b[36m(pid=18938)\u001b[0m Downloading https://ossci-datasets.s3.amazonaws.com/mnist/t10k-labels-idx1-ubyte.gz to {cwd}/data/MNIST/raw/t10k-labels-idx1-ubyte.gz\n"
     ]
    },
    {
     "name": "stderr",
     "output_type": "stream",
     "text": [
      " 88%|████████▊ | 8760320/9912422 [00:07<00:00, 1275293.76it/s]\n",
      " 83%|████████▎ | 8199168/9912422 [00:07<00:01, 1685505.94it/s]\n",
      "  5%|▍         | 77824/1648877 [00:00<00:03, 514452.46it/s]\n",
      " 90%|████████▉ | 8899584/9912422 [00:07<00:00, 1233096.88it/s]\n",
      " 17%|█▋        | 277504/1648877 [00:00<00:19, 69145.10it/s]\n",
      " 74%|███████▍  | 7365632/9912422 [00:07<00:02, 1004763.41it/s]\n",
      " 85%|████████▍ | 8425472/9912422 [00:07<00:00, 1819756.37it/s]\n",
      " 23%|██▎       | 373760/1648877 [00:00<00:01, 677312.84it/s]\n"
     ]
    },
    {
     "name": "stdout",
     "output_type": "stream",
     "text": [
      "\u001b[2m\u001b[36m(pid=18933)\u001b[0m Downloading https://ossci-datasets.s3.amazonaws.com/mnist/t10k-images-idx3-ubyte.gz to {cwd}/data/MNIST/raw/t10k-images-idx3-ubyte.gz\n",
      "\u001b[2m\u001b[36m(pid=18937)\u001b[0m Downloading https://ossci-datasets.s3.amazonaws.com/mnist/t10k-images-idx3-ubyte.gz to {cwd}/data/MNIST/raw/t10k-images-idx3-ubyte.gz\n",
      "\u001b[2m\u001b[36m(pid=18938)\u001b[0m Extracting {cwd}/data/MNIST/raw/t10k-labels-idx1-ubyte.gz to {cwd}/data/MNIST/raw\n",
      "\u001b[2m\u001b[36m(pid=18938)\u001b[0m \n",
      "\u001b[2m\u001b[36m(pid=18936)\u001b[0m Extracting {cwd}/data/MNIST/raw/t10k-images-idx3-ubyte.gz to {cwd}/data/MNIST/raw\n"
     ]
    },
    {
     "name": "stderr",
     "output_type": "stream",
     "text": [
      " 91%|█████████ | 9038848/9912422 [00:07<00:00, 1265309.95it/s]\n",
      " 20%|█▉        | 329728/1648877 [00:01<00:14, 93166.44it/s]\n",
      " 76%|███████▌  | 7504896/9912422 [00:07<00:02, 1089141.05it/s]\n",
      " 87%|████████▋ | 8622080/9912422 [00:07<00:00, 1846184.52it/s]\n",
      " 66%|██████▌   | 1087488/1648877 [00:00<00:00, 928774.09it/s]\n",
      " 93%|█████████▎| 9171968/9912422 [00:07<00:00, 1225793.65it/s]\n",
      " 24%|██▍       | 399360/1648877 [00:01<00:10, 124804.13it/s]\n",
      "1649664it [00:00, 3675338.53it/s]                            \n",
      " 89%|████████▉ | 8817664/9912422 [00:07<00:00, 1785369.40it/s]\n",
      "5120it [00:00, 4207452.29it/s]          \n",
      " 77%|███████▋  | 7622656/9912422 [00:07<00:02, 918478.81it/s] \n"
     ]
    },
    {
     "name": "stdout",
     "output_type": "stream",
     "text": [
      "\u001b[2m\u001b[36m(pid=18936)\u001b[0m \n",
      "\u001b[2m\u001b[36m(pid=18936)\u001b[0m Downloading http://yann.lecun.com/exdb/mnist/t10k-labels-idx1-ubyte.gz\n"
     ]
    },
    {
     "name": "stderr",
     "output_type": "stream",
     "text": [
      " 94%|█████████▍| 9298944/9912422 [00:07<00:00, 1191424.62it/s]\n",
      "\u001b[2m\u001b[36m(pid=18938)\u001b[0m /home/therealchainman/miniconda3/lib/python3.8/site-packages/torchvision/datasets/mnist.py:498: UserWarning: The given NumPy array is not writeable, and PyTorch does not support non-writeable tensors. This means you can write to the underlying (supposedly non-writeable) NumPy array using the tensor. You may want to copy the array to protect its data or make it writeable before converting it to a tensor. This type of warning will be suppressed for the rest of this program. (Triggered internally at  /pytorch/torch/csrc/utils/tensor_numpy.cpp:180.)\n",
      "\u001b[2m\u001b[36m(pid=18938)\u001b[0m   return torch.from_numpy(parsed.astype(m[2], copy=False)).view(*s)\n",
      " 28%|██▊       | 467968/1648877 [00:01<00:07, 165121.63it/s]\n",
      " 91%|█████████ | 9004032/9912422 [00:07<00:00, 1736118.72it/s]\n",
      "\u001b[2m\u001b[36m(pid=18938)\u001b[0m /home/therealchainman/miniconda3/lib/python3.8/site-packages/torch/nn/functional.py:718: UserWarning: Named tensors and all their associated APIs are an experimental feature and subject to change. Please do not use them for anything important until they are released as stable. (Triggered internally at  /pytorch/c10/core/TensorImpl.h:1156.)\n",
      "\u001b[2m\u001b[36m(pid=18938)\u001b[0m   return torch.max_pool2d(input, kernel_size, stride, padding, dilation, ceil_mode)\n"
     ]
    },
    {
     "name": "stdout",
     "output_type": "stream",
     "text": [
      "Result for train_mnist_16247_00005:\n",
      "  date: 2021-06-22_16-52-16\n",
      "  done: false\n",
      "  experiment_id: 9816bad73af34debb1f795fcf9bb9021\n",
      "  hostname: therealchainman\n",
      "  iterations_since_restore: 1\n",
      "  mean_accuracy: 0.003125\n",
      "  node_ip: 192.168.1.106\n",
      "  pid: 18938\n",
      "  time_since_restore: 8.559513807296753\n",
      "  time_this_iter_s: 8.559513807296753\n",
      "  time_total_s: 8.559513807296753\n",
      "  timestamp: 1624398736\n",
      "  timesteps_since_restore: 0\n",
      "  training_iteration: 1\n",
      "  trial_id: '16247_00005'\n",
      "  \n"
     ]
    },
    {
     "data": {
      "text/html": [
       "== Status ==<br>Memory usage on this node: 5.1/15.5 GiB<br>Using FIFO scheduling algorithm.<br>Resources requested: 8.0/8 CPUs, 0/0 GPUs, 0.0/7.91 GiB heap, 0.0/3.95 GiB objects<br>Result logdir: /home/therealchainman/ray_results/train_mnist_2021-06-22_16-52-06<br>Number of trials: 20/20 (12 PENDING, 8 RUNNING)<br><table>\n",
       "<thead>\n",
       "<tr><th>Trial name             </th><th>status  </th><th>loc                </th><th style=\"text-align: right;\">         lr</th><th style=\"text-align: right;\">  momentum</th><th style=\"text-align: right;\">     acc</th><th style=\"text-align: right;\">  iter</th><th style=\"text-align: right;\">  total time (s)</th></tr>\n",
       "</thead>\n",
       "<tbody>\n",
       "<tr><td>train_mnist_16247_00000</td><td>RUNNING </td><td>                   </td><td style=\"text-align: right;\">0.041874   </td><td style=\"text-align: right;\">  0.16155 </td><td style=\"text-align: right;\">        </td><td style=\"text-align: right;\">      </td><td style=\"text-align: right;\">                </td></tr>\n",
       "<tr><td>train_mnist_16247_00001</td><td>RUNNING </td><td>                   </td><td style=\"text-align: right;\">4.13676e-05</td><td style=\"text-align: right;\">  0.719126</td><td style=\"text-align: right;\">        </td><td style=\"text-align: right;\">      </td><td style=\"text-align: right;\">                </td></tr>\n",
       "<tr><td>train_mnist_16247_00002</td><td>RUNNING </td><td>                   </td><td style=\"text-align: right;\">1.7824e-08 </td><td style=\"text-align: right;\">  0.79312 </td><td style=\"text-align: right;\">        </td><td style=\"text-align: right;\">      </td><td style=\"text-align: right;\">                </td></tr>\n",
       "<tr><td>train_mnist_16247_00003</td><td>RUNNING </td><td>                   </td><td style=\"text-align: right;\">9.69164e-08</td><td style=\"text-align: right;\">  0.558845</td><td style=\"text-align: right;\">        </td><td style=\"text-align: right;\">      </td><td style=\"text-align: right;\">                </td></tr>\n",
       "<tr><td>train_mnist_16247_00004</td><td>RUNNING </td><td>                   </td><td style=\"text-align: right;\">0.00134643 </td><td style=\"text-align: right;\">  0.28525 </td><td style=\"text-align: right;\">        </td><td style=\"text-align: right;\">      </td><td style=\"text-align: right;\">                </td></tr>\n",
       "<tr><td>train_mnist_16247_00005</td><td>RUNNING </td><td>192.168.1.106:18938</td><td style=\"text-align: right;\">0.187656   </td><td style=\"text-align: right;\">  0.486429</td><td style=\"text-align: right;\">0.003125</td><td style=\"text-align: right;\">     1</td><td style=\"text-align: right;\">         8.55951</td></tr>\n",
       "<tr><td>train_mnist_16247_00006</td><td>RUNNING </td><td>                   </td><td style=\"text-align: right;\">0.00119145 </td><td style=\"text-align: right;\">  0.632457</td><td style=\"text-align: right;\">        </td><td style=\"text-align: right;\">      </td><td style=\"text-align: right;\">                </td></tr>\n",
       "<tr><td>train_mnist_16247_00007</td><td>RUNNING </td><td>                   </td><td style=\"text-align: right;\">0.000179996</td><td style=\"text-align: right;\">  0.173796</td><td style=\"text-align: right;\">        </td><td style=\"text-align: right;\">      </td><td style=\"text-align: right;\">                </td></tr>\n",
       "<tr><td>train_mnist_16247_00008</td><td>PENDING </td><td>                   </td><td style=\"text-align: right;\">2.06622e-08</td><td style=\"text-align: right;\">  0.859587</td><td style=\"text-align: right;\">        </td><td style=\"text-align: right;\">      </td><td style=\"text-align: right;\">                </td></tr>\n",
       "<tr><td>train_mnist_16247_00009</td><td>PENDING </td><td>                   </td><td style=\"text-align: right;\">1.31715e-09</td><td style=\"text-align: right;\">  0.207752</td><td style=\"text-align: right;\">        </td><td style=\"text-align: right;\">      </td><td style=\"text-align: right;\">                </td></tr>\n",
       "<tr><td>train_mnist_16247_00010</td><td>PENDING </td><td>                   </td><td style=\"text-align: right;\">1.18271e-05</td><td style=\"text-align: right;\">  0.480522</td><td style=\"text-align: right;\">        </td><td style=\"text-align: right;\">      </td><td style=\"text-align: right;\">                </td></tr>\n",
       "<tr><td>train_mnist_16247_00011</td><td>PENDING </td><td>                   </td><td style=\"text-align: right;\">0.0395415  </td><td style=\"text-align: right;\">  0.42925 </td><td style=\"text-align: right;\">        </td><td style=\"text-align: right;\">      </td><td style=\"text-align: right;\">                </td></tr>\n",
       "<tr><td>train_mnist_16247_00012</td><td>PENDING </td><td>                   </td><td style=\"text-align: right;\">0.039147   </td><td style=\"text-align: right;\">  0.670937</td><td style=\"text-align: right;\">        </td><td style=\"text-align: right;\">      </td><td style=\"text-align: right;\">                </td></tr>\n",
       "<tr><td>train_mnist_16247_00013</td><td>PENDING </td><td>                   </td><td style=\"text-align: right;\">0.000138393</td><td style=\"text-align: right;\">  0.132696</td><td style=\"text-align: right;\">        </td><td style=\"text-align: right;\">      </td><td style=\"text-align: right;\">                </td></tr>\n",
       "<tr><td>train_mnist_16247_00014</td><td>PENDING </td><td>                   </td><td style=\"text-align: right;\">0.000306374</td><td style=\"text-align: right;\">  0.866248</td><td style=\"text-align: right;\">        </td><td style=\"text-align: right;\">      </td><td style=\"text-align: right;\">                </td></tr>\n",
       "<tr><td>train_mnist_16247_00015</td><td>PENDING </td><td>                   </td><td style=\"text-align: right;\">2.32236e-08</td><td style=\"text-align: right;\">  0.306971</td><td style=\"text-align: right;\">        </td><td style=\"text-align: right;\">      </td><td style=\"text-align: right;\">                </td></tr>\n",
       "<tr><td>train_mnist_16247_00016</td><td>PENDING </td><td>                   </td><td style=\"text-align: right;\">0.00699487 </td><td style=\"text-align: right;\">  0.786069</td><td style=\"text-align: right;\">        </td><td style=\"text-align: right;\">      </td><td style=\"text-align: right;\">                </td></tr>\n",
       "<tr><td>train_mnist_16247_00017</td><td>PENDING </td><td>                   </td><td style=\"text-align: right;\">3.13833e-10</td><td style=\"text-align: right;\">  0.311705</td><td style=\"text-align: right;\">        </td><td style=\"text-align: right;\">      </td><td style=\"text-align: right;\">                </td></tr>\n",
       "<tr><td>train_mnist_16247_00018</td><td>PENDING </td><td>                   </td><td style=\"text-align: right;\">0.0502922  </td><td style=\"text-align: right;\">  0.27041 </td><td style=\"text-align: right;\">        </td><td style=\"text-align: right;\">      </td><td style=\"text-align: right;\">                </td></tr>\n",
       "<tr><td>train_mnist_16247_00019</td><td>PENDING </td><td>                   </td><td style=\"text-align: right;\">1.0712e-07 </td><td style=\"text-align: right;\">  0.877289</td><td style=\"text-align: right;\">        </td><td style=\"text-align: right;\">      </td><td style=\"text-align: right;\">                </td></tr>\n",
       "</tbody>\n",
       "</table><br><br>"
      ],
      "text/plain": [
       "<IPython.core.display.HTML object>"
      ]
     },
     "metadata": {},
     "output_type": "display_data"
    },
    {
     "name": "stdout",
     "output_type": "stream",
     "text": [
      "\u001b[2m\u001b[36m(pid=18936)\u001b[0m Failed to download (trying next):\n",
      "\u001b[2m\u001b[36m(pid=18936)\u001b[0m HTTP Error 503: Service Unavailable\n",
      "\u001b[2m\u001b[36m(pid=18936)\u001b[0m \n",
      "\u001b[2m\u001b[36m(pid=18936)\u001b[0m Downloading https://ossci-datasets.s3.amazonaws.com/mnist/t10k-labels-idx1-ubyte.gz\n"
     ]
    },
    {
     "name": "stderr",
     "output_type": "stream",
     "text": [
      "  0%|          | 0/1648877 [00:00<?, ?it/s]\n",
      " 32%|███▏      | 520192/1648877 [00:01<00:06, 176453.12it/s]\n",
      " 78%|███████▊  | 7748608/9912422 [00:07<00:03, 689725.93it/s]\n",
      " 93%|█████████▎| 9184256/9912422 [00:07<00:00, 1241090.98it/s]\n",
      " 95%|█████████▌| 9421824/9912422 [00:08<00:00, 776453.30it/s] \n",
      " 37%|███▋      | 608256/1648877 [00:01<00:04, 224823.95it/s]\n",
      " 79%|███████▉  | 7853056/9912422 [00:08<00:02, 756776.09it/s]\n",
      " 94%|█████████▍| 9365504/9912422 [00:08<00:00, 1366565.02it/s]\n",
      "  6%|▌         | 95232/1648877 [00:00<00:02, 643175.56it/s]\n",
      " 96%|█████████▋| 9543680/9912422 [00:08<00:00, 861089.38it/s]\n",
      " 42%|████▏     | 695296/1648877 [00:01<00:03, 288812.10it/s]\n",
      " 80%|████████  | 7957504/9912422 [00:08<00:02, 798036.30it/s]\n",
      " 97%|█████████▋| 9591808/9912422 [00:08<00:00, 1483443.35it/s]\n",
      " 33%|███▎      | 547840/1648877 [00:00<00:01, 857261.95it/s]\n",
      " 98%|█████████▊| 9682944/9912422 [00:08<00:00, 934523.28it/s]\n",
      "1649664it [00:00, 4705317.09it/s]                           \n",
      " 47%|████▋     | 782336/1648877 [00:01<00:02, 350994.58it/s]\n",
      " 81%|████████▏ | 8061952/9912422 [00:08<00:02, 782756.27it/s]\n",
      " 99%|█████████▉| 9800704/9912422 [00:08<00:00, 1502487.78it/s]\n",
      "9913344it [00:08, 1177913.56it/s]                             \n",
      "9913344it [00:08, 1196588.38it/s]                             \n"
     ]
    },
    {
     "name": "stdout",
     "output_type": "stream",
     "text": [
      "\u001b[2m\u001b[36m(pid=18933)\u001b[0m Extracting {cwd}/data/MNIST/raw/t10k-images-idx3-ubyte.gz to {cwd}/data/MNIST/raw\n",
      "\u001b[2m\u001b[36m(pid=18936)\u001b[0m Downloading https://ossci-datasets.s3.amazonaws.com/mnist/t10k-labels-idx1-ubyte.gz to {cwd}/data/MNIST/raw/t10k-labels-idx1-ubyte.gz\n",
      "\u001b[2m\u001b[36m(pid=18933)\u001b[0m \n",
      "\u001b[2m\u001b[36m(pid=18933)\u001b[0m Downloading http://yann.lecun.com/exdb/mnist/t10k-labels-idx1-ubyte.gz\n",
      "\u001b[2m\u001b[36m(pid=18934)\u001b[0m Extracting {cwd}/data/MNIST/raw/train-images-idx3-ubyte.gz to {cwd}/data/MNIST/raw\n",
      "\u001b[2m\u001b[36m(pid=18935)\u001b[0m Extracting {cwd}/data/MNIST/raw/train-images-idx3-ubyte.gz to {cwd}/data/MNIST/raw\n"
     ]
    },
    {
     "name": "stderr",
     "output_type": "stream",
     "text": [
      " 83%|████████▎ | 8201216/9912422 [00:08<00:01, 899330.95it/s]\n",
      " 57%|█████▋    | 939008/1648877 [00:02<00:01, 445454.93it/s]\n",
      "5120it [00:00, 758854.96it/s]           \n",
      " 69%|██████▊   | 1130496/1648877 [00:02<00:00, 565427.13it/s]\n",
      "\u001b[2m\u001b[36m(pid=18936)\u001b[0m /home/therealchainman/miniconda3/lib/python3.8/site-packages/torchvision/datasets/mnist.py:498: UserWarning: The given NumPy array is not writeable, and PyTorch does not support non-writeable tensors. This means you can write to the underlying (supposedly non-writeable) NumPy array using the tensor. You may want to copy the array to protect its data or make it writeable before converting it to a tensor. This type of warning will be suppressed for the rest of this program. (Triggered internally at  /pytorch/torch/csrc/utils/tensor_numpy.cpp:180.)\n",
      "\u001b[2m\u001b[36m(pid=18936)\u001b[0m   return torch.from_numpy(parsed.astype(m[2], copy=False)).view(*s)\n",
      " 84%|████████▍ | 8357888/9912422 [00:08<00:01, 976990.20it/s]\n",
      "\u001b[2m\u001b[36m(pid=18936)\u001b[0m /home/therealchainman/miniconda3/lib/python3.8/site-packages/torch/nn/functional.py:718: UserWarning: Named tensors and all their associated APIs are an experimental feature and subject to change. Please do not use them for anything important until they are released as stable. (Triggered internally at  /pytorch/c10/core/TensorImpl.h:1156.)\n",
      "\u001b[2m\u001b[36m(pid=18936)\u001b[0m   return torch.max_pool2d(input, kernel_size, stride, padding, dilation, ceil_mode)\n"
     ]
    },
    {
     "name": "stdout",
     "output_type": "stream",
     "text": [
      "\u001b[2m\u001b[36m(pid=18933)\u001b[0m Failed to download (trying next):\n",
      "\u001b[2m\u001b[36m(pid=18933)\u001b[0m HTTP Error 503: Service Unavailable\n",
      "\u001b[2m\u001b[36m(pid=18933)\u001b[0m \n",
      "\u001b[2m\u001b[36m(pid=18933)\u001b[0m Downloading https://ossci-datasets.s3.amazonaws.com/mnist/t10k-labels-idx1-ubyte.gz\n",
      "\u001b[2m\u001b[36m(pid=18936)\u001b[0m Extracting {cwd}/data/MNIST/raw/t10k-labels-idx1-ubyte.gz to {cwd}/data/MNIST/raw\n",
      "\u001b[2m\u001b[36m(pid=18936)\u001b[0m \n"
     ]
    },
    {
     "name": "stderr",
     "output_type": "stream",
     "text": [
      " 86%|████████▌ | 8497152/9912422 [00:08<00:01, 1061897.69it/s]\n",
      " 81%|████████  | 1339392/1648877 [00:02<00:00, 696331.03it/s]\n",
      " 87%|████████▋ | 8653824/9912422 [00:08<00:01, 1141836.98it/s]\n",
      "1649664it [00:02, 675945.42it/s]                             \n"
     ]
    },
    {
     "name": "stdout",
     "output_type": "stream",
     "text": [
      "\u001b[2m\u001b[36m(pid=18933)\u001b[0m Downloading https://ossci-datasets.s3.amazonaws.com/mnist/t10k-labels-idx1-ubyte.gz to {cwd}/data/MNIST/raw/t10k-labels-idx1-ubyte.gz\n",
      "\u001b[2m\u001b[36m(pid=18934)\u001b[0m \n",
      "\u001b[2m\u001b[36m(pid=18934)\u001b[0m Downloading http://yann.lecun.com/exdb/mnist/train-labels-idx1-ubyte.gz\n",
      "\u001b[2m\u001b[36m(pid=18939)\u001b[0m Extracting {cwd}/data/MNIST/raw/t10k-images-idx3-ubyte.gz to {cwd}/data/MNIST/raw\n",
      "Result for train_mnist_16247_00006:\n",
      "  date: 2021-06-22_16-52-17\n",
      "  done: false\n",
      "  experiment_id: 11423ef032884acbbd5f135a547b1dbd\n",
      "  hostname: therealchainman\n",
      "  iterations_since_restore: 1\n",
      "  mean_accuracy: 0.05625\n",
      "  node_ip: 192.168.1.106\n",
      "  pid: 18936\n",
      "  time_since_restore: 9.454012393951416\n",
      "  time_this_iter_s: 9.454012393951416\n",
      "  time_total_s: 9.454012393951416\n",
      "  timestamp: 1624398737\n",
      "  timesteps_since_restore: 0\n",
      "  training_iteration: 1\n",
      "  trial_id: '16247_00006'\n",
      "  \n",
      "\u001b[2m\u001b[36m(pid=18935)\u001b[0m \n",
      "\u001b[2m\u001b[36m(pid=18935)\u001b[0m Downloading http://yann.lecun.com/exdb/mnist/train-labels-idx1-ubyte.gz\n"
     ]
    },
    {
     "name": "stderr",
     "output_type": "stream",
     "text": [
      " 89%|████████▉ | 8810496/9912422 [00:08<00:00, 1207252.68it/s]\n",
      "5120it [00:00, 2210937.56it/s]          \n",
      "  0%|          | 0/1648877 [00:00<?, ?it/s]\n",
      "\u001b[2m\u001b[36m(pid=18933)\u001b[0m /home/therealchainman/miniconda3/lib/python3.8/site-packages/torchvision/datasets/mnist.py:498: UserWarning: The given NumPy array is not writeable, and PyTorch does not support non-writeable tensors. This means you can write to the underlying (supposedly non-writeable) NumPy array using the tensor. You may want to copy the array to protect its data or make it writeable before converting it to a tensor. This type of warning will be suppressed for the rest of this program. (Triggered internally at  /pytorch/torch/csrc/utils/tensor_numpy.cpp:180.)\n",
      "\u001b[2m\u001b[36m(pid=18933)\u001b[0m   return torch.from_numpy(parsed.astype(m[2], copy=False)).view(*s)\n",
      "\u001b[2m\u001b[36m(pid=18933)\u001b[0m /home/therealchainman/miniconda3/lib/python3.8/site-packages/torch/nn/functional.py:718: UserWarning: Named tensors and all their associated APIs are an experimental feature and subject to change. Please do not use them for anything important until they are released as stable. (Triggered internally at  /pytorch/c10/core/TensorImpl.h:1156.)\n",
      "\u001b[2m\u001b[36m(pid=18933)\u001b[0m   return torch.max_pool2d(input, kernel_size, stride, padding, dilation, ceil_mode)\n",
      " 90%|█████████ | 8967168/9912422 [00:08<00:00, 1208018.03it/s]\n",
      "  4%|▍         | 69632/1648877 [00:00<00:03, 508386.33it/s]\n"
     ]
    },
    {
     "name": "stdout",
     "output_type": "stream",
     "text": [
      "\u001b[2m\u001b[36m(pid=18939)\u001b[0m \n",
      "\u001b[2m\u001b[36m(pid=18939)\u001b[0m Downloading http://yann.lecun.com/exdb/mnist/t10k-labels-idx1-ubyte.gz\n",
      "\u001b[2m\u001b[36m(pid=18933)\u001b[0m Extracting {cwd}/data/MNIST/raw/t10k-labels-idx1-ubyte.gz to {cwd}/data/MNIST/raw\n",
      "\u001b[2m\u001b[36m(pid=18933)\u001b[0m \n",
      "\u001b[2m\u001b[36m(pid=18935)\u001b[0m Failed to download (trying next):\n",
      "\u001b[2m\u001b[36m(pid=18935)\u001b[0m HTTP Error 503: Service Unavailable\n",
      "\u001b[2m\u001b[36m(pid=18935)\u001b[0m \n",
      "\u001b[2m\u001b[36m(pid=18935)\u001b[0m Downloading https://ossci-datasets.s3.amazonaws.com/mnist/train-labels-idx1-ubyte.gz\n",
      "\u001b[2m\u001b[36m(pid=18939)\u001b[0m Failed to download (trying next):\n",
      "\u001b[2m\u001b[36m(pid=18939)\u001b[0m HTTP Error 503: Service Unavailable\n",
      "\u001b[2m\u001b[36m(pid=18939)\u001b[0m \n",
      "\u001b[2m\u001b[36m(pid=18939)\u001b[0m Downloading https://ossci-datasets.s3.amazonaws.com/mnist/t10k-labels-idx1-ubyte.gz\n",
      "\u001b[2m\u001b[36m(pid=18934)\u001b[0m Failed to download (trying next):\n",
      "\u001b[2m\u001b[36m(pid=18934)\u001b[0m HTTP Error 503: Service Unavailable\n",
      "\u001b[2m\u001b[36m(pid=18934)\u001b[0m \n",
      "\u001b[2m\u001b[36m(pid=18934)\u001b[0m Downloading https://ossci-datasets.s3.amazonaws.com/mnist/train-labels-idx1-ubyte.gz\n"
     ]
    },
    {
     "name": "stderr",
     "output_type": "stream",
     "text": [
      " 92%|█████████▏| 9093120/9912422 [00:09<00:00, 1159340.72it/s]\n",
      " 19%|█▉        | 313344/1648877 [00:00<00:02, 654582.27it/s]\n",
      " 93%|█████████▎| 9228288/9912422 [00:09<00:00, 1128595.16it/s]\n",
      " 56%|█████▌    | 922624/1648877 [00:00<00:00, 892374.72it/s]\n"
     ]
    },
    {
     "name": "stdout",
     "output_type": "stream",
     "text": [
      "Result for train_mnist_16247_00003:\n",
      "  date: 2021-06-22_16-52-18\n",
      "  done: false\n",
      "  experiment_id: b4484b2fe8404b6bbe0a9fa80c74f0a5\n",
      "  hostname: therealchainman\n",
      "  iterations_since_restore: 1\n",
      "  mean_accuracy: 0.1\n",
      "  node_ip: 192.168.1.106\n",
      "  pid: 18933\n",
      "  time_since_restore: 9.972182989120483\n",
      "  time_this_iter_s: 9.972182989120483\n",
      "  time_total_s: 9.972182989120483\n",
      "  timestamp: 1624398738\n",
      "  timesteps_since_restore: 0\n",
      "  training_iteration: 1\n",
      "  trial_id: '16247_00003'\n",
      "  \n",
      "\u001b[2m\u001b[36m(pid=18935)\u001b[0m Downloading https://ossci-datasets.s3.amazonaws.com/mnist/train-labels-idx1-ubyte.gz to {cwd}/data/MNIST/raw/train-labels-idx1-ubyte.gz\n",
      "\u001b[2m\u001b[36m(pid=18934)\u001b[0m Downloading https://ossci-datasets.s3.amazonaws.com/mnist/train-labels-idx1-ubyte.gz to {cwd}/data/MNIST/raw/train-labels-idx1-ubyte.gz\n",
      "\u001b[2m\u001b[36m(pid=18939)\u001b[0m Downloading https://ossci-datasets.s3.amazonaws.com/mnist/t10k-labels-idx1-ubyte.gz to {cwd}/data/MNIST/raw/t10k-labels-idx1-ubyte.gz\n",
      "\u001b[2m\u001b[36m(pid=18937)\u001b[0m Extracting {cwd}/data/MNIST/raw/t10k-images-idx3-ubyte.gz to {cwd}/data/MNIST/raw\n"
     ]
    },
    {
     "name": "stderr",
     "output_type": "stream",
     "text": [
      "1649664it [00:00, 3529413.25it/s]                             \n",
      " 95%|█████████▌| 9419776/9912422 [00:09<00:00, 1183702.63it/s]\n",
      "  0%|          | 0/28881 [00:00<?, ?it/s]\n",
      "5120it [00:00, 1709235.63it/s]          \n",
      " 97%|█████████▋| 9611264/9912422 [00:09<00:00, 1233239.14it/s]\n",
      "  0%|          | 0/28881 [00:00<?, ?it/s]\n",
      "29696it [00:00, 565083.69it/s]           \n",
      "\u001b[2m\u001b[36m(pid=18935)\u001b[0m \n",
      "\u001b[2m\u001b[36m(pid=18939)\u001b[0m /home/therealchainman/miniconda3/lib/python3.8/site-packages/torchvision/datasets/mnist.py:498: UserWarning: The given NumPy array is not writeable, and PyTorch does not support non-writeable tensors. This means you can write to the underlying (supposedly non-writeable) NumPy array using the tensor. You may want to copy the array to protect its data or make it writeable before converting it to a tensor. This type of warning will be suppressed for the rest of this program. (Triggered internally at  /pytorch/torch/csrc/utils/tensor_numpy.cpp:180.)\n",
      "\u001b[2m\u001b[36m(pid=18939)\u001b[0m   return torch.from_numpy(parsed.astype(m[2], copy=False)).view(*s)\n",
      "\u001b[2m\u001b[36m(pid=18939)\u001b[0m /home/therealchainman/miniconda3/lib/python3.8/site-packages/torch/nn/functional.py:718: UserWarning: Named tensors and all their associated APIs are an experimental feature and subject to change. Please do not use them for anything important until they are released as stable. (Triggered internally at  /pytorch/c10/core/TensorImpl.h:1156.)\n",
      "\u001b[2m\u001b[36m(pid=18939)\u001b[0m   return torch.max_pool2d(input, kernel_size, stride, padding, dilation, ceil_mode)\n",
      "29696it [00:00, 719254.68it/s]           \n"
     ]
    },
    {
     "name": "stdout",
     "output_type": "stream",
     "text": [
      "\u001b[2m\u001b[36m(pid=18937)\u001b[0m \n",
      "\u001b[2m\u001b[36m(pid=18937)\u001b[0m Downloading http://yann.lecun.com/exdb/mnist/t10k-labels-idx1-ubyte.gz\n",
      "\u001b[2m\u001b[36m(pid=18939)\u001b[0m Extracting {cwd}/data/MNIST/raw/t10k-labels-idx1-ubyte.gz to {cwd}/data/MNIST/raw\n",
      "\u001b[2m\u001b[36m(pid=18939)\u001b[0m \n",
      "\u001b[2m\u001b[36m(pid=18935)\u001b[0m Extracting {cwd}/data/MNIST/raw/train-labels-idx1-ubyte.gz to {cwd}/data/MNIST/raw\n",
      "\u001b[2m\u001b[36m(pid=18935)\u001b[0m \n",
      "\u001b[2m\u001b[36m(pid=18935)\u001b[0m Downloading http://yann.lecun.com/exdb/mnist/t10k-images-idx3-ubyte.gz\n",
      "\u001b[2m\u001b[36m(pid=18934)\u001b[0m Extracting {cwd}/data/MNIST/raw/train-labels-idx1-ubyte.gz to {cwd}/data/MNIST/raw\n",
      "\u001b[2m\u001b[36m(pid=18934)\u001b[0m \n",
      "\u001b[2m\u001b[36m(pid=18934)\u001b[0m Downloading http://yann.lecun.com/exdb/mnist/t10k-images-idx3-ubyte.gz\n"
     ]
    },
    {
     "name": "stderr",
     "output_type": "stream",
     "text": [
      " 99%|█████████▉| 9802752/9912422 [00:09<00:00, 1374344.96it/s]\n",
      "9913344it [00:09, 1021320.53it/s]                             \n"
     ]
    },
    {
     "name": "stdout",
     "output_type": "stream",
     "text": [
      "\u001b[2m\u001b[36m(pid=18935)\u001b[0m Failed to download (trying next):\n",
      "\u001b[2m\u001b[36m(pid=18935)\u001b[0m HTTP Error 503: Service Unavailable\n",
      "\u001b[2m\u001b[36m(pid=18935)\u001b[0m \n",
      "\u001b[2m\u001b[36m(pid=18935)\u001b[0m Downloading https://ossci-datasets.s3.amazonaws.com/mnist/t10k-images-idx3-ubyte.gz\n",
      "\u001b[2m\u001b[36m(pid=18934)\u001b[0m Failed to download (trying next):\n",
      "\u001b[2m\u001b[36m(pid=18934)\u001b[0m HTTP Error 503: Service Unavailable\n",
      "\u001b[2m\u001b[36m(pid=18934)\u001b[0m \n",
      "\u001b[2m\u001b[36m(pid=18934)\u001b[0m Downloading https://ossci-datasets.s3.amazonaws.com/mnist/t10k-images-idx3-ubyte.gz\n",
      "\u001b[2m\u001b[36m(pid=18940)\u001b[0m Extracting {cwd}/data/MNIST/raw/train-images-idx3-ubyte.gz to {cwd}/data/MNIST/raw\n",
      "Result for train_mnist_16247_00000:\n",
      "  date: 2021-06-22_16-52-18\n",
      "  done: false\n",
      "  experiment_id: dc69ba9545b34bb6bfbfdaff8990e5f2\n",
      "  hostname: therealchainman\n",
      "  iterations_since_restore: 1\n",
      "  mean_accuracy: 0.309375\n",
      "  node_ip: 192.168.1.106\n",
      "  pid: 18939\n",
      "  time_since_restore: 10.612043142318726\n",
      "  time_this_iter_s: 10.612043142318726\n",
      "  time_total_s: 10.612043142318726\n",
      "  timestamp: 1624398738\n",
      "  timesteps_since_restore: 0\n",
      "  training_iteration: 1\n",
      "  trial_id: '16247_00000'\n",
      "  \n",
      "\u001b[2m\u001b[36m(pid=18937)\u001b[0m Failed to download (trying next):\n",
      "\u001b[2m\u001b[36m(pid=18937)\u001b[0m HTTP Error 503: Service Unavailable\n",
      "\u001b[2m\u001b[36m(pid=18937)\u001b[0m \n",
      "\u001b[2m\u001b[36m(pid=18937)\u001b[0m Downloading https://ossci-datasets.s3.amazonaws.com/mnist/t10k-labels-idx1-ubyte.gz\n",
      "\u001b[2m\u001b[36m(pid=18935)\u001b[0m Downloading https://ossci-datasets.s3.amazonaws.com/mnist/t10k-images-idx3-ubyte.gz to {cwd}/data/MNIST/raw/t10k-images-idx3-ubyte.gz\n",
      "\u001b[2m\u001b[36m(pid=18934)\u001b[0m Downloading https://ossci-datasets.s3.amazonaws.com/mnist/t10k-images-idx3-ubyte.gz to {cwd}/data/MNIST/raw/t10k-images-idx3-ubyte.gz\n",
      "\u001b[2m\u001b[36m(pid=18937)\u001b[0m Downloading https://ossci-datasets.s3.amazonaws.com/mnist/t10k-labels-idx1-ubyte.gz to {cwd}/data/MNIST/raw/t10k-labels-idx1-ubyte.gz\n"
     ]
    },
    {
     "name": "stderr",
     "output_type": "stream",
     "text": [
      "  0%|          | 0/1648877 [00:00<?, ?it/s]\n",
      "  0%|          | 0/1648877 [00:00<?, ?it/s]\n",
      "  4%|▍         | 68608/1648877 [00:00<00:02, 545718.47it/s]\n",
      "5120it [00:00, 2420518.09it/s]          \n",
      "  4%|▍         | 68608/1648877 [00:00<00:02, 537285.91it/s]\n",
      "\u001b[2m\u001b[36m(pid=18937)\u001b[0m /home/therealchainman/miniconda3/lib/python3.8/site-packages/torchvision/datasets/mnist.py:498: UserWarning: The given NumPy array is not writeable, and PyTorch does not support non-writeable tensors. This means you can write to the underlying (supposedly non-writeable) NumPy array using the tensor. You may want to copy the array to protect its data or make it writeable before converting it to a tensor. This type of warning will be suppressed for the rest of this program. (Triggered internally at  /pytorch/torch/csrc/utils/tensor_numpy.cpp:180.)\n",
      "\u001b[2m\u001b[36m(pid=18937)\u001b[0m   return torch.from_numpy(parsed.astype(m[2], copy=False)).view(*s)\n"
     ]
    },
    {
     "name": "stdout",
     "output_type": "stream",
     "text": [
      "\u001b[2m\u001b[36m(pid=18937)\u001b[0m Extracting {cwd}/data/MNIST/raw/t10k-labels-idx1-ubyte.gz to {cwd}/data/MNIST/raw\n",
      "\u001b[2m\u001b[36m(pid=18937)\u001b[0m \n",
      "\u001b[2m\u001b[36m(pid=18940)\u001b[0m \n",
      "\u001b[2m\u001b[36m(pid=18940)\u001b[0m Downloading http://yann.lecun.com/exdb/mnist/train-labels-idx1-ubyte.gz\n"
     ]
    },
    {
     "name": "stderr",
     "output_type": "stream",
     "text": [
      " 18%|█▊        | 294912/1648877 [00:00<00:01, 699736.23it/s]\n",
      "\u001b[2m\u001b[36m(pid=18937)\u001b[0m /home/therealchainman/miniconda3/lib/python3.8/site-packages/torch/nn/functional.py:718: UserWarning: Named tensors and all their associated APIs are an experimental feature and subject to change. Please do not use them for anything important until they are released as stable. (Triggered internally at  /pytorch/c10/core/TensorImpl.h:1156.)\n",
      "\u001b[2m\u001b[36m(pid=18937)\u001b[0m   return torch.max_pool2d(input, kernel_size, stride, padding, dilation, ceil_mode)\n",
      " 78%|███████▊  | 1277952/1648877 [00:00<00:00, 969968.65it/s]\n",
      " 16%|█▌        | 260096/1648877 [00:00<00:02, 668261.01it/s]\n",
      "1649664it [00:00, 4187425.07it/s]                            \n"
     ]
    },
    {
     "name": "stdout",
     "output_type": "stream",
     "text": [
      "\u001b[2m\u001b[36m(pid=18940)\u001b[0m Failed to download (trying next):\n",
      "\u001b[2m\u001b[36m(pid=18940)\u001b[0m HTTP Error 503: Service Unavailable\n",
      "\u001b[2m\u001b[36m(pid=18940)\u001b[0m \n",
      "\u001b[2m\u001b[36m(pid=18940)\u001b[0m Downloading https://ossci-datasets.s3.amazonaws.com/mnist/train-labels-idx1-ubyte.gz\n",
      "\u001b[2m\u001b[36m(pid=18935)\u001b[0m Extracting {cwd}/data/MNIST/raw/t10k-images-idx3-ubyte.gz to {cwd}/data/MNIST/raw\n",
      "\u001b[2m\u001b[36m(pid=18935)\u001b[0m \n",
      "\u001b[2m\u001b[36m(pid=18935)\u001b[0m \n",
      "\u001b[2m\u001b[36m(pid=18935)\u001b[0m Downloading http://yann.lecun.com/exdb/mnist/t10k-labels-idx1-ubyte.gz\n",
      "\u001b[2m\u001b[36m(pid=18934)\u001b[0m Extracting {cwd}/data/MNIST/raw/t10k-images-idx3-ubyte.gz to {cwd}/data/MNIST/raw\n"
     ]
    },
    {
     "name": "stderr",
     "output_type": "stream",
     "text": [
      " 50%|████▉     | 817152/1648877 [00:00<00:00, 906407.52it/s]\n",
      "1649664it [00:00, 3370298.42it/s]                             \n"
     ]
    },
    {
     "name": "stdout",
     "output_type": "stream",
     "text": [
      "\u001b[2m\u001b[36m(pid=18940)\u001b[0m Downloading https://ossci-datasets.s3.amazonaws.com/mnist/train-labels-idx1-ubyte.gz to {cwd}/data/MNIST/raw/train-labels-idx1-ubyte.gz\n",
      "\u001b[2m\u001b[36m(pid=18935)\u001b[0m Failed to download (trying next):\n",
      "\u001b[2m\u001b[36m(pid=18935)\u001b[0m HTTP Error 503: Service Unavailable\n",
      "\u001b[2m\u001b[36m(pid=18935)\u001b[0m \n",
      "\u001b[2m\u001b[36m(pid=18935)\u001b[0m Downloading https://ossci-datasets.s3.amazonaws.com/mnist/t10k-labels-idx1-ubyte.gz\n",
      "\u001b[2m\u001b[36m(pid=18934)\u001b[0m \n",
      "\u001b[2m\u001b[36m(pid=18934)\u001b[0m Downloading http://yann.lecun.com/exdb/mnist/t10k-labels-idx1-ubyte.gz\n",
      "\u001b[2m\u001b[36m(pid=18934)\u001b[0m Failed to download (trying next):\n",
      "\u001b[2m\u001b[36m(pid=18934)\u001b[0m HTTP Error 503: Service Unavailable\n",
      "\u001b[2m\u001b[36m(pid=18934)\u001b[0m \n",
      "\u001b[2m\u001b[36m(pid=18934)\u001b[0m Downloading https://ossci-datasets.s3.amazonaws.com/mnist/t10k-labels-idx1-ubyte.gz\n",
      "\u001b[2m\u001b[36m(pid=18940)\u001b[0m Extracting {cwd}/data/MNIST/raw/train-labels-idx1-ubyte.gz to {cwd}/data/MNIST/raw\n",
      "Result for train_mnist_16247_00004:\n",
      "  date: 2021-06-22_16-52-19\n",
      "  done: false\n",
      "  experiment_id: 2b152c59a42a4069ad350efbd7dd6255\n",
      "  hostname: therealchainman\n",
      "  iterations_since_restore: 1\n",
      "  mean_accuracy: 0.021875\n",
      "  node_ip: 192.168.1.106\n",
      "  pid: 18937\n",
      "  time_since_restore: 11.64173150062561\n",
      "  time_this_iter_s: 11.64173150062561\n",
      "  time_total_s: 11.64173150062561\n",
      "  timestamp: 1624398739\n",
      "  timesteps_since_restore: 0\n",
      "  training_iteration: 1\n",
      "  trial_id: '16247_00004'\n",
      "  \n",
      "\u001b[2m\u001b[36m(pid=18935)\u001b[0m Downloading https://ossci-datasets.s3.amazonaws.com/mnist/t10k-labels-idx1-ubyte.gz to {cwd}/data/MNIST/raw/t10k-labels-idx1-ubyte.gz\n",
      "\u001b[2m\u001b[36m(pid=18940)\u001b[0m \n",
      "\u001b[2m\u001b[36m(pid=18940)\u001b[0m Downloading http://yann.lecun.com/exdb/mnist/t10k-images-idx3-ubyte.gz\n"
     ]
    },
    {
     "name": "stderr",
     "output_type": "stream",
     "text": [
      "  0%|          | 0/28881 [00:00<?, ?it/s]\n",
      "29696it [00:00, 421665.39it/s]           \n"
     ]
    },
    {
     "name": "stdout",
     "output_type": "stream",
     "text": [
      "\u001b[2m\u001b[36m(pid=18940)\u001b[0m Failed to download (trying next):\n",
      "\u001b[2m\u001b[36m(pid=18940)\u001b[0m HTTP Error 503: Service Unavailable\n",
      "\u001b[2m\u001b[36m(pid=18940)\u001b[0m \n",
      "\u001b[2m\u001b[36m(pid=18940)\u001b[0m Downloading https://ossci-datasets.s3.amazonaws.com/mnist/t10k-images-idx3-ubyte.gz\n",
      "Result for train_mnist_16247_00005:\n",
      "  date: 2021-06-22_16-52-20\n",
      "  done: true\n",
      "  experiment_id: 9816bad73af34debb1f795fcf9bb9021\n",
      "  experiment_tag: 5_lr=0.18766,momentum=0.48643\n",
      "  hostname: therealchainman\n",
      "  iterations_since_restore: 10\n",
      "  mean_accuracy: 0.81875\n",
      "  node_ip: 192.168.1.106\n",
      "  pid: 18938\n",
      "  time_since_restore: 11.888347864151001\n",
      "  time_this_iter_s: 0.7570366859436035\n",
      "  time_total_s: 11.888347864151001\n",
      "  timestamp: 1624398740\n",
      "  timesteps_since_restore: 0\n",
      "  training_iteration: 10\n",
      "  trial_id: '16247_00005'\n",
      "  \n",
      "\u001b[2m\u001b[36m(pid=18934)\u001b[0m Downloading https://ossci-datasets.s3.amazonaws.com/mnist/t10k-labels-idx1-ubyte.gz to {cwd}/data/MNIST/raw/t10k-labels-idx1-ubyte.gz\n",
      "\u001b[2m\u001b[36m(pid=18935)\u001b[0m Extracting {cwd}/data/MNIST/raw/t10k-labels-idx1-ubyte.gz to {cwd}/data/MNIST/raw\n",
      "\u001b[2m\u001b[36m(pid=18935)\u001b[0m \n"
     ]
    },
    {
     "name": "stderr",
     "output_type": "stream",
     "text": [
      "5120it [00:00, 4667428.05it/s]          \n",
      "\u001b[2m\u001b[36m(pid=18935)\u001b[0m /home/therealchainman/miniconda3/lib/python3.8/site-packages/torchvision/datasets/mnist.py:498: UserWarning: The given NumPy array is not writeable, and PyTorch does not support non-writeable tensors. This means you can write to the underlying (supposedly non-writeable) NumPy array using the tensor. You may want to copy the array to protect its data or make it writeable before converting it to a tensor. This type of warning will be suppressed for the rest of this program. (Triggered internally at  /pytorch/torch/csrc/utils/tensor_numpy.cpp:180.)\n",
      "\u001b[2m\u001b[36m(pid=18935)\u001b[0m   return torch.from_numpy(parsed.astype(m[2], copy=False)).view(*s)\n",
      "5120it [00:00, 1263522.97it/s]          \n"
     ]
    },
    {
     "name": "stdout",
     "output_type": "stream",
     "text": [
      "\u001b[2m\u001b[36m(pid=18940)\u001b[0m Downloading https://ossci-datasets.s3.amazonaws.com/mnist/t10k-images-idx3-ubyte.gz to {cwd}/data/MNIST/raw/t10k-images-idx3-ubyte.gz\n",
      "\u001b[2m\u001b[36m(pid=18934)\u001b[0m Extracting {cwd}/data/MNIST/raw/t10k-labels-idx1-ubyte.gz to {cwd}/data/MNIST/raw\n",
      "\u001b[2m\u001b[36m(pid=18934)\u001b[0m \n"
     ]
    },
    {
     "name": "stderr",
     "output_type": "stream",
     "text": [
      "\u001b[2m\u001b[36m(pid=18934)\u001b[0m /home/therealchainman/miniconda3/lib/python3.8/site-packages/torchvision/datasets/mnist.py:498: UserWarning: The given NumPy array is not writeable, and PyTorch does not support non-writeable tensors. This means you can write to the underlying (supposedly non-writeable) NumPy array using the tensor. You may want to copy the array to protect its data or make it writeable before converting it to a tensor. This type of warning will be suppressed for the rest of this program. (Triggered internally at  /pytorch/torch/csrc/utils/tensor_numpy.cpp:180.)\n",
      "\u001b[2m\u001b[36m(pid=18934)\u001b[0m   return torch.from_numpy(parsed.astype(m[2], copy=False)).view(*s)\n",
      "\u001b[2m\u001b[36m(pid=18935)\u001b[0m /home/therealchainman/miniconda3/lib/python3.8/site-packages/torch/nn/functional.py:718: UserWarning: Named tensors and all their associated APIs are an experimental feature and subject to change. Please do not use them for anything important until they are released as stable. (Triggered internally at  /pytorch/c10/core/TensorImpl.h:1156.)\n",
      "\u001b[2m\u001b[36m(pid=18935)\u001b[0m   return torch.max_pool2d(input, kernel_size, stride, padding, dilation, ceil_mode)\n",
      "  0%|          | 0/1648877 [00:00<?, ?it/s]\n",
      "  4%|▍         | 69632/1648877 [00:00<00:02, 562860.80it/s]\n",
      " 31%|███       | 513024/1648877 [00:00<00:01, 762587.95it/s]\n",
      "\u001b[2m\u001b[36m(pid=18934)\u001b[0m /home/therealchainman/miniconda3/lib/python3.8/site-packages/torch/nn/functional.py:718: UserWarning: Named tensors and all their associated APIs are an experimental feature and subject to change. Please do not use them for anything important until they are released as stable. (Triggered internally at  /pytorch/c10/core/TensorImpl.h:1156.)\n",
      "\u001b[2m\u001b[36m(pid=18934)\u001b[0m   return torch.max_pool2d(input, kernel_size, stride, padding, dilation, ceil_mode)\n",
      " 62%|██████▏   | 1030144/1648877 [00:00<00:00, 1023088.73it/s]\n",
      "1649664it [00:00, 3818639.96it/s]                             \n"
     ]
    },
    {
     "name": "stdout",
     "output_type": "stream",
     "text": [
      "\u001b[2m\u001b[36m(pid=18940)\u001b[0m Extracting {cwd}/data/MNIST/raw/t10k-images-idx3-ubyte.gz to {cwd}/data/MNIST/raw\n",
      "\u001b[2m\u001b[36m(pid=18940)\u001b[0m \n",
      "\u001b[2m\u001b[36m(pid=18940)\u001b[0m Downloading http://yann.lecun.com/exdb/mnist/t10k-labels-idx1-ubyte.gz\n",
      "\u001b[2m\u001b[36m(pid=18940)\u001b[0m Downloading http://yann.lecun.com/exdb/mnist/t10k-labels-idx1-ubyte.gz to {cwd}/data/MNIST/raw/t10k-labels-idx1-ubyte.gz\n",
      "\u001b[2m\u001b[36m(pid=18940)\u001b[0m Extracting {cwd}/data/MNIST/raw/t10k-labels-idx1-ubyte.gz to {cwd}/data/MNIST/raw\n",
      "\u001b[2m\u001b[36m(pid=18940)\u001b[0m \n"
     ]
    },
    {
     "name": "stderr",
     "output_type": "stream",
     "text": [
      "5120it [00:00, 8313912.69it/s]          \n",
      "\u001b[2m\u001b[36m(pid=18940)\u001b[0m /home/therealchainman/miniconda3/lib/python3.8/site-packages/torchvision/datasets/mnist.py:498: UserWarning: The given NumPy array is not writeable, and PyTorch does not support non-writeable tensors. This means you can write to the underlying (supposedly non-writeable) NumPy array using the tensor. You may want to copy the array to protect its data or make it writeable before converting it to a tensor. This type of warning will be suppressed for the rest of this program. (Triggered internally at  /pytorch/torch/csrc/utils/tensor_numpy.cpp:180.)\n",
      "\u001b[2m\u001b[36m(pid=18940)\u001b[0m   return torch.from_numpy(parsed.astype(m[2], copy=False)).view(*s)\n",
      "\u001b[2m\u001b[36m(pid=18940)\u001b[0m /home/therealchainman/miniconda3/lib/python3.8/site-packages/torch/nn/functional.py:718: UserWarning: Named tensors and all their associated APIs are an experimental feature and subject to change. Please do not use them for anything important until they are released as stable. (Triggered internally at  /pytorch/c10/core/TensorImpl.h:1156.)\n",
      "\u001b[2m\u001b[36m(pid=18940)\u001b[0m   return torch.max_pool2d(input, kernel_size, stride, padding, dilation, ceil_mode)\n",
      "\u001b[2m\u001b[33m(raylet)\u001b[0m /home/therealchainman/miniconda3/lib/python3.8/site-packages/ray/autoscaler/_private/cli_logger.py:57: FutureWarning: Not all Ray CLI dependencies were found. In Ray 1.4+, the Ray CLI, autoscaler, and dashboard will only be usable via `pip install 'ray[default]'`. Please update your install command.\n",
      "\u001b[2m\u001b[33m(raylet)\u001b[0m   warnings.warn(\n"
     ]
    },
    {
     "data": {
      "text/html": [
       "== Status ==<br>Memory usage on this node: 5.4/15.5 GiB<br>Using FIFO scheduling algorithm.<br>Resources requested: 8.0/8 CPUs, 0/0 GPUs, 0.0/7.91 GiB heap, 0.0/3.95 GiB objects<br>Result logdir: /home/therealchainman/ray_results/train_mnist_2021-06-22_16-52-06<br>Number of trials: 20/20 (11 PENDING, 8 RUNNING, 1 TERMINATED)<br><table>\n",
       "<thead>\n",
       "<tr><th>Trial name             </th><th>status    </th><th>loc                </th><th style=\"text-align: right;\">         lr</th><th style=\"text-align: right;\">  momentum</th><th style=\"text-align: right;\">     acc</th><th style=\"text-align: right;\">  iter</th><th style=\"text-align: right;\">  total time (s)</th></tr>\n",
       "</thead>\n",
       "<tbody>\n",
       "<tr><td>train_mnist_16247_00000</td><td>RUNNING   </td><td>192.168.1.106:18939</td><td style=\"text-align: right;\">0.041874   </td><td style=\"text-align: right;\">  0.16155 </td><td style=\"text-align: right;\">0.815625</td><td style=\"text-align: right;\">     4</td><td style=\"text-align: right;\">         12.878 </td></tr>\n",
       "<tr><td>train_mnist_16247_00001</td><td>RUNNING   </td><td>                   </td><td style=\"text-align: right;\">4.13676e-05</td><td style=\"text-align: right;\">  0.719126</td><td style=\"text-align: right;\">        </td><td style=\"text-align: right;\">      </td><td style=\"text-align: right;\">                </td></tr>\n",
       "<tr><td>train_mnist_16247_00002</td><td>RUNNING   </td><td>                   </td><td style=\"text-align: right;\">1.7824e-08 </td><td style=\"text-align: right;\">  0.79312 </td><td style=\"text-align: right;\">        </td><td style=\"text-align: right;\">      </td><td style=\"text-align: right;\">                </td></tr>\n",
       "<tr><td>train_mnist_16247_00003</td><td>RUNNING   </td><td>192.168.1.106:18933</td><td style=\"text-align: right;\">9.69164e-08</td><td style=\"text-align: right;\">  0.558845</td><td style=\"text-align: right;\">0.0875  </td><td style=\"text-align: right;\">     6</td><td style=\"text-align: right;\">         13.3965</td></tr>\n",
       "<tr><td>train_mnist_16247_00004</td><td>RUNNING   </td><td>192.168.1.106:18937</td><td style=\"text-align: right;\">0.00134643 </td><td style=\"text-align: right;\">  0.28525 </td><td style=\"text-align: right;\">0.028125</td><td style=\"text-align: right;\">     2</td><td style=\"text-align: right;\">         12.9645</td></tr>\n",
       "<tr><td>train_mnist_16247_00006</td><td>RUNNING   </td><td>192.168.1.106:18936</td><td style=\"text-align: right;\">0.00119145 </td><td style=\"text-align: right;\">  0.632457</td><td style=\"text-align: right;\">0.309375</td><td style=\"text-align: right;\">     8</td><td style=\"text-align: right;\">         14.4394</td></tr>\n",
       "<tr><td>train_mnist_16247_00007</td><td>RUNNING   </td><td>                   </td><td style=\"text-align: right;\">0.000179996</td><td style=\"text-align: right;\">  0.173796</td><td style=\"text-align: right;\">        </td><td style=\"text-align: right;\">      </td><td style=\"text-align: right;\">                </td></tr>\n",
       "<tr><td>train_mnist_16247_00008</td><td>RUNNING   </td><td>                   </td><td style=\"text-align: right;\">2.06622e-08</td><td style=\"text-align: right;\">  0.859587</td><td style=\"text-align: right;\">        </td><td style=\"text-align: right;\">      </td><td style=\"text-align: right;\">                </td></tr>\n",
       "<tr><td>train_mnist_16247_00009</td><td>PENDING   </td><td>                   </td><td style=\"text-align: right;\">1.31715e-09</td><td style=\"text-align: right;\">  0.207752</td><td style=\"text-align: right;\">        </td><td style=\"text-align: right;\">      </td><td style=\"text-align: right;\">                </td></tr>\n",
       "<tr><td>train_mnist_16247_00010</td><td>PENDING   </td><td>                   </td><td style=\"text-align: right;\">1.18271e-05</td><td style=\"text-align: right;\">  0.480522</td><td style=\"text-align: right;\">        </td><td style=\"text-align: right;\">      </td><td style=\"text-align: right;\">                </td></tr>\n",
       "<tr><td>train_mnist_16247_00011</td><td>PENDING   </td><td>                   </td><td style=\"text-align: right;\">0.0395415  </td><td style=\"text-align: right;\">  0.42925 </td><td style=\"text-align: right;\">        </td><td style=\"text-align: right;\">      </td><td style=\"text-align: right;\">                </td></tr>\n",
       "<tr><td>train_mnist_16247_00012</td><td>PENDING   </td><td>                   </td><td style=\"text-align: right;\">0.039147   </td><td style=\"text-align: right;\">  0.670937</td><td style=\"text-align: right;\">        </td><td style=\"text-align: right;\">      </td><td style=\"text-align: right;\">                </td></tr>\n",
       "<tr><td>train_mnist_16247_00013</td><td>PENDING   </td><td>                   </td><td style=\"text-align: right;\">0.000138393</td><td style=\"text-align: right;\">  0.132696</td><td style=\"text-align: right;\">        </td><td style=\"text-align: right;\">      </td><td style=\"text-align: right;\">                </td></tr>\n",
       "<tr><td>train_mnist_16247_00014</td><td>PENDING   </td><td>                   </td><td style=\"text-align: right;\">0.000306374</td><td style=\"text-align: right;\">  0.866248</td><td style=\"text-align: right;\">        </td><td style=\"text-align: right;\">      </td><td style=\"text-align: right;\">                </td></tr>\n",
       "<tr><td>train_mnist_16247_00015</td><td>PENDING   </td><td>                   </td><td style=\"text-align: right;\">2.32236e-08</td><td style=\"text-align: right;\">  0.306971</td><td style=\"text-align: right;\">        </td><td style=\"text-align: right;\">      </td><td style=\"text-align: right;\">                </td></tr>\n",
       "<tr><td>train_mnist_16247_00016</td><td>PENDING   </td><td>                   </td><td style=\"text-align: right;\">0.00699487 </td><td style=\"text-align: right;\">  0.786069</td><td style=\"text-align: right;\">        </td><td style=\"text-align: right;\">      </td><td style=\"text-align: right;\">                </td></tr>\n",
       "<tr><td>train_mnist_16247_00017</td><td>PENDING   </td><td>                   </td><td style=\"text-align: right;\">3.13833e-10</td><td style=\"text-align: right;\">  0.311705</td><td style=\"text-align: right;\">        </td><td style=\"text-align: right;\">      </td><td style=\"text-align: right;\">                </td></tr>\n",
       "<tr><td>train_mnist_16247_00018</td><td>PENDING   </td><td>                   </td><td style=\"text-align: right;\">0.0502922  </td><td style=\"text-align: right;\">  0.27041 </td><td style=\"text-align: right;\">        </td><td style=\"text-align: right;\">      </td><td style=\"text-align: right;\">                </td></tr>\n",
       "<tr><td>train_mnist_16247_00019</td><td>PENDING   </td><td>                   </td><td style=\"text-align: right;\">1.0712e-07 </td><td style=\"text-align: right;\">  0.877289</td><td style=\"text-align: right;\">        </td><td style=\"text-align: right;\">      </td><td style=\"text-align: right;\">                </td></tr>\n",
       "<tr><td>train_mnist_16247_00005</td><td>TERMINATED</td><td>                   </td><td style=\"text-align: right;\">0.187656   </td><td style=\"text-align: right;\">  0.486429</td><td style=\"text-align: right;\">0.81875 </td><td style=\"text-align: right;\">    10</td><td style=\"text-align: right;\">         11.8883</td></tr>\n",
       "</tbody>\n",
       "</table><br><br>"
      ],
      "text/plain": [
       "<IPython.core.display.HTML object>"
      ]
     },
     "metadata": {},
     "output_type": "display_data"
    },
    {
     "name": "stdout",
     "output_type": "stream",
     "text": [
      "Result for train_mnist_16247_00002:\n",
      "  date: 2021-06-22_16-52-22\n",
      "  done: false\n",
      "  experiment_id: 8e08f9686c2248b2ac3910ef13d395db\n",
      "  hostname: therealchainman\n",
      "  iterations_since_restore: 1\n",
      "  mean_accuracy: 0.11875\n",
      "  node_ip: 192.168.1.106\n",
      "  pid: 18935\n",
      "  time_since_restore: 14.503193855285645\n",
      "  time_this_iter_s: 14.503193855285645\n",
      "  time_total_s: 14.503193855285645\n",
      "  timestamp: 1624398742\n",
      "  timesteps_since_restore: 0\n",
      "  training_iteration: 1\n",
      "  trial_id: '16247_00002'\n",
      "  \n",
      "Result for train_mnist_16247_00003:\n",
      "  date: 2021-06-22_16-52-23\n",
      "  done: false\n",
      "  experiment_id: b4484b2fe8404b6bbe0a9fa80c74f0a5\n",
      "  hostname: therealchainman\n",
      "  iterations_since_restore: 7\n",
      "  mean_accuracy: 0.10625\n",
      "  node_ip: 192.168.1.106\n",
      "  pid: 18933\n",
      "  time_since_restore: 15.013895511627197\n",
      "  time_this_iter_s: 1.617431879043579\n",
      "  time_total_s: 15.013895511627197\n",
      "  timestamp: 1624398743\n",
      "  timesteps_since_restore: 0\n",
      "  training_iteration: 7\n",
      "  trial_id: '16247_00003'\n",
      "  \n",
      "Result for train_mnist_16247_00007:\n",
      "  date: 2021-06-22_16-52-23\n",
      "  done: false\n",
      "  experiment_id: 1ac683d71a0044df9bde82740150b409\n",
      "  hostname: therealchainman\n",
      "  iterations_since_restore: 1\n",
      "  mean_accuracy: 0.09375\n",
      "  node_ip: 192.168.1.106\n",
      "  pid: 18934\n",
      "  time_since_restore: 14.915875911712646\n",
      "  time_this_iter_s: 14.915875911712646\n",
      "  time_total_s: 14.915875911712646\n",
      "  timestamp: 1624398743\n",
      "  timesteps_since_restore: 0\n",
      "  training_iteration: 1\n",
      "  trial_id: '16247_00007'\n",
      "  \n",
      "Result for train_mnist_16247_00006:\n",
      "  date: 2021-06-22_16-52-24\n",
      "  done: false\n",
      "  experiment_id: 11423ef032884acbbd5f135a547b1dbd\n",
      "  hostname: therealchainman\n",
      "  iterations_since_restore: 9\n",
      "  mean_accuracy: 0.359375\n",
      "  node_ip: 192.168.1.106\n",
      "  pid: 18936\n",
      "  time_since_restore: 16.014416456222534\n",
      "  time_this_iter_s: 1.5750601291656494\n",
      "  time_total_s: 16.014416456222534\n",
      "  timestamp: 1624398744\n",
      "  timesteps_since_restore: 0\n",
      "  training_iteration: 9\n",
      "  trial_id: '16247_00006'\n",
      "  \n",
      "Result for train_mnist_16247_00001:\n",
      "  date: 2021-06-22_16-52-24\n",
      "  done: false\n",
      "  experiment_id: 3aa5ea2afe674c778a2950cd33b101fb\n",
      "  hostname: therealchainman\n",
      "  iterations_since_restore: 1\n",
      "  mean_accuracy: 0.075\n",
      "  node_ip: 192.168.1.106\n",
      "  pid: 18940\n",
      "  time_since_restore: 16.068029642105103\n",
      "  time_this_iter_s: 16.068029642105103\n",
      "  time_total_s: 16.068029642105103\n",
      "  timestamp: 1624398744\n",
      "  timesteps_since_restore: 0\n",
      "  training_iteration: 1\n",
      "  trial_id: '16247_00001'\n",
      "  \n",
      "Result for train_mnist_16247_00000:\n",
      "  date: 2021-06-22_16-52-25\n",
      "  done: false\n",
      "  experiment_id: dc69ba9545b34bb6bfbfdaff8990e5f2\n",
      "  hostname: therealchainman\n",
      "  iterations_since_restore: 6\n",
      "  mean_accuracy: 0.828125\n",
      "  node_ip: 192.168.1.106\n",
      "  pid: 18939\n",
      "  time_since_restore: 16.862438201904297\n",
      "  time_this_iter_s: 1.816265344619751\n",
      "  time_total_s: 16.862438201904297\n",
      "  timestamp: 1624398745\n",
      "  timesteps_since_restore: 0\n",
      "  training_iteration: 6\n",
      "  trial_id: '16247_00000'\n",
      "  \n",
      "Result for train_mnist_16247_00006:\n",
      "  date: 2021-06-22_16-52-25\n",
      "  done: true\n",
      "  experiment_id: 11423ef032884acbbd5f135a547b1dbd\n",
      "  experiment_tag: 6_lr=0.0011915,momentum=0.63246\n",
      "  hostname: therealchainman\n",
      "  iterations_since_restore: 10\n",
      "  mean_accuracy: 0.409375\n",
      "  node_ip: 192.168.1.106\n",
      "  pid: 18936\n",
      "  time_since_restore: 17.63365626335144\n",
      "  time_this_iter_s: 1.6192398071289062\n",
      "  time_total_s: 17.63365626335144\n",
      "  timestamp: 1624398745\n",
      "  timesteps_since_restore: 0\n",
      "  training_iteration: 10\n",
      "  trial_id: '16247_00006'\n",
      "  \n",
      "Result for train_mnist_16247_00004:\n",
      "  date: 2021-06-22_16-52-26\n",
      "  done: false\n",
      "  experiment_id: 2b152c59a42a4069ad350efbd7dd6255\n",
      "  hostname: therealchainman\n",
      "  iterations_since_restore: 5\n",
      "  mean_accuracy: 0.0625\n",
      "  node_ip: 192.168.1.106\n",
      "  pid: 18937\n",
      "  time_since_restore: 17.800748825073242\n",
      "  time_this_iter_s: 1.5727479457855225\n",
      "  time_total_s: 17.800748825073242\n",
      "  timestamp: 1624398746\n",
      "  timesteps_since_restore: 0\n",
      "  training_iteration: 5\n",
      "  trial_id: '16247_00004'\n",
      "  \n",
      "\u001b[2m\u001b[36m(pid=19168)\u001b[0m Downloading http://yann.lecun.com/exdb/mnist/train-images-idx3-ubyte.gz\n",
      "\u001b[2m\u001b[36m(pid=19168)\u001b[0m Failed to download (trying next):\n",
      "\u001b[2m\u001b[36m(pid=19168)\u001b[0m HTTP Error 503: Service Unavailable\n",
      "\u001b[2m\u001b[36m(pid=19168)\u001b[0m \n",
      "\u001b[2m\u001b[36m(pid=19168)\u001b[0m Downloading https://ossci-datasets.s3.amazonaws.com/mnist/train-images-idx3-ubyte.gz\n"
     ]
    },
    {
     "name": "stderr",
     "output_type": "stream",
     "text": [
      "\u001b[2m\u001b[33m(raylet)\u001b[0m /home/therealchainman/miniconda3/lib/python3.8/site-packages/ray/autoscaler/_private/cli_logger.py:57: FutureWarning: Not all Ray CLI dependencies were found. In Ray 1.4+, the Ray CLI, autoscaler, and dashboard will only be usable via `pip install 'ray[default]'`. Please update your install command.\n",
      "\u001b[2m\u001b[33m(raylet)\u001b[0m   warnings.warn(\n"
     ]
    },
    {
     "name": "stdout",
     "output_type": "stream",
     "text": [
      "\u001b[2m\u001b[36m(pid=19168)\u001b[0m Downloading https://ossci-datasets.s3.amazonaws.com/mnist/train-images-idx3-ubyte.gz to {cwd}/data/MNIST/raw/train-images-idx3-ubyte.gz\n",
      "Result for train_mnist_16247_00003:\n",
      "  date: 2021-06-22_16-52-27\n",
      "  done: true\n",
      "  experiment_id: b4484b2fe8404b6bbe0a9fa80c74f0a5\n",
      "  experiment_tag: 3_lr=9.6916e-08,momentum=0.55885\n",
      "  hostname: therealchainman\n",
      "  iterations_since_restore: 10\n",
      "  mean_accuracy: 0.090625\n",
      "  node_ip: 192.168.1.106\n",
      "  pid: 18933\n",
      "  time_since_restore: 19.540570735931396\n",
      "  time_this_iter_s: 0.9343879222869873\n",
      "  time_total_s: 19.540570735931396\n",
      "  timestamp: 1624398747\n",
      "  timesteps_since_restore: 0\n",
      "  training_iteration: 10\n",
      "  trial_id: '16247_00003'\n",
      "  \n"
     ]
    },
    {
     "data": {
      "text/html": [
       "== Status ==<br>Memory usage on this node: 5.4/15.5 GiB<br>Using FIFO scheduling algorithm.<br>Resources requested: 7.0/8 CPUs, 0/0 GPUs, 0.0/7.91 GiB heap, 0.0/3.95 GiB objects<br>Result logdir: /home/therealchainman/ray_results/train_mnist_2021-06-22_16-52-06<br>Number of trials: 20/20 (10 PENDING, 7 RUNNING, 3 TERMINATED)<br><table>\n",
       "<thead>\n",
       "<tr><th>Trial name             </th><th>status    </th><th>loc                </th><th style=\"text-align: right;\">         lr</th><th style=\"text-align: right;\">  momentum</th><th style=\"text-align: right;\">     acc</th><th style=\"text-align: right;\">  iter</th><th style=\"text-align: right;\">  total time (s)</th></tr>\n",
       "</thead>\n",
       "<tbody>\n",
       "<tr><td>train_mnist_16247_00000</td><td>RUNNING   </td><td>192.168.1.106:18939</td><td style=\"text-align: right;\">0.041874   </td><td style=\"text-align: right;\">  0.16155 </td><td style=\"text-align: right;\">0.85    </td><td style=\"text-align: right;\">     7</td><td style=\"text-align: right;\">         18.6033</td></tr>\n",
       "<tr><td>train_mnist_16247_00001</td><td>RUNNING   </td><td>192.168.1.106:18940</td><td style=\"text-align: right;\">4.13676e-05</td><td style=\"text-align: right;\">  0.719126</td><td style=\"text-align: right;\">0.10625 </td><td style=\"text-align: right;\">     3</td><td style=\"text-align: right;\">         18.7813</td></tr>\n",
       "<tr><td>train_mnist_16247_00002</td><td>RUNNING   </td><td>192.168.1.106:18935</td><td style=\"text-align: right;\">1.7824e-08 </td><td style=\"text-align: right;\">  0.79312 </td><td style=\"text-align: right;\">0.10625 </td><td style=\"text-align: right;\">     4</td><td style=\"text-align: right;\">         19.4146</td></tr>\n",
       "<tr><td>train_mnist_16247_00004</td><td>RUNNING   </td><td>192.168.1.106:18937</td><td style=\"text-align: right;\">0.00134643 </td><td style=\"text-align: right;\">  0.28525 </td><td style=\"text-align: right;\">0.053125</td><td style=\"text-align: right;\">     6</td><td style=\"text-align: right;\">         19.1974</td></tr>\n",
       "<tr><td>train_mnist_16247_00007</td><td>RUNNING   </td><td>192.168.1.106:18934</td><td style=\"text-align: right;\">0.000179996</td><td style=\"text-align: right;\">  0.173796</td><td style=\"text-align: right;\">0.096875</td><td style=\"text-align: right;\">     3</td><td style=\"text-align: right;\">         18.511 </td></tr>\n",
       "<tr><td>train_mnist_16247_00008</td><td>RUNNING   </td><td>                   </td><td style=\"text-align: right;\">2.06622e-08</td><td style=\"text-align: right;\">  0.859587</td><td style=\"text-align: right;\">        </td><td style=\"text-align: right;\">      </td><td style=\"text-align: right;\">                </td></tr>\n",
       "<tr><td>train_mnist_16247_00009</td><td>RUNNING   </td><td>                   </td><td style=\"text-align: right;\">1.31715e-09</td><td style=\"text-align: right;\">  0.207752</td><td style=\"text-align: right;\">        </td><td style=\"text-align: right;\">      </td><td style=\"text-align: right;\">                </td></tr>\n",
       "<tr><td>train_mnist_16247_00010</td><td>PENDING   </td><td>                   </td><td style=\"text-align: right;\">1.18271e-05</td><td style=\"text-align: right;\">  0.480522</td><td style=\"text-align: right;\">        </td><td style=\"text-align: right;\">      </td><td style=\"text-align: right;\">                </td></tr>\n",
       "<tr><td>train_mnist_16247_00011</td><td>PENDING   </td><td>                   </td><td style=\"text-align: right;\">0.0395415  </td><td style=\"text-align: right;\">  0.42925 </td><td style=\"text-align: right;\">        </td><td style=\"text-align: right;\">      </td><td style=\"text-align: right;\">                </td></tr>\n",
       "<tr><td>train_mnist_16247_00012</td><td>PENDING   </td><td>                   </td><td style=\"text-align: right;\">0.039147   </td><td style=\"text-align: right;\">  0.670937</td><td style=\"text-align: right;\">        </td><td style=\"text-align: right;\">      </td><td style=\"text-align: right;\">                </td></tr>\n",
       "<tr><td>train_mnist_16247_00013</td><td>PENDING   </td><td>                   </td><td style=\"text-align: right;\">0.000138393</td><td style=\"text-align: right;\">  0.132696</td><td style=\"text-align: right;\">        </td><td style=\"text-align: right;\">      </td><td style=\"text-align: right;\">                </td></tr>\n",
       "<tr><td>train_mnist_16247_00014</td><td>PENDING   </td><td>                   </td><td style=\"text-align: right;\">0.000306374</td><td style=\"text-align: right;\">  0.866248</td><td style=\"text-align: right;\">        </td><td style=\"text-align: right;\">      </td><td style=\"text-align: right;\">                </td></tr>\n",
       "<tr><td>train_mnist_16247_00015</td><td>PENDING   </td><td>                   </td><td style=\"text-align: right;\">2.32236e-08</td><td style=\"text-align: right;\">  0.306971</td><td style=\"text-align: right;\">        </td><td style=\"text-align: right;\">      </td><td style=\"text-align: right;\">                </td></tr>\n",
       "<tr><td>train_mnist_16247_00016</td><td>PENDING   </td><td>                   </td><td style=\"text-align: right;\">0.00699487 </td><td style=\"text-align: right;\">  0.786069</td><td style=\"text-align: right;\">        </td><td style=\"text-align: right;\">      </td><td style=\"text-align: right;\">                </td></tr>\n",
       "<tr><td>train_mnist_16247_00017</td><td>PENDING   </td><td>                   </td><td style=\"text-align: right;\">3.13833e-10</td><td style=\"text-align: right;\">  0.311705</td><td style=\"text-align: right;\">        </td><td style=\"text-align: right;\">      </td><td style=\"text-align: right;\">                </td></tr>\n",
       "<tr><td>train_mnist_16247_00018</td><td>PENDING   </td><td>                   </td><td style=\"text-align: right;\">0.0502922  </td><td style=\"text-align: right;\">  0.27041 </td><td style=\"text-align: right;\">        </td><td style=\"text-align: right;\">      </td><td style=\"text-align: right;\">                </td></tr>\n",
       "<tr><td>train_mnist_16247_00019</td><td>PENDING   </td><td>                   </td><td style=\"text-align: right;\">1.0712e-07 </td><td style=\"text-align: right;\">  0.877289</td><td style=\"text-align: right;\">        </td><td style=\"text-align: right;\">      </td><td style=\"text-align: right;\">                </td></tr>\n",
       "<tr><td>train_mnist_16247_00003</td><td>TERMINATED</td><td>                   </td><td style=\"text-align: right;\">9.69164e-08</td><td style=\"text-align: right;\">  0.558845</td><td style=\"text-align: right;\">0.090625</td><td style=\"text-align: right;\">    10</td><td style=\"text-align: right;\">         19.5406</td></tr>\n",
       "<tr><td>train_mnist_16247_00005</td><td>TERMINATED</td><td>                   </td><td style=\"text-align: right;\">0.187656   </td><td style=\"text-align: right;\">  0.486429</td><td style=\"text-align: right;\">0.81875 </td><td style=\"text-align: right;\">    10</td><td style=\"text-align: right;\">         11.8883</td></tr>\n",
       "<tr><td>train_mnist_16247_00006</td><td>TERMINATED</td><td>                   </td><td style=\"text-align: right;\">0.00119145 </td><td style=\"text-align: right;\">  0.632457</td><td style=\"text-align: right;\">0.409375</td><td style=\"text-align: right;\">    10</td><td style=\"text-align: right;\">         17.6337</td></tr>\n",
       "</tbody>\n",
       "</table><br><br>"
      ],
      "text/plain": [
       "<IPython.core.display.HTML object>"
      ]
     },
     "metadata": {},
     "output_type": "display_data"
    },
    {
     "name": "stderr",
     "output_type": "stream",
     "text": [
      "  0%|          | 0/9912422 [00:00<?, ?it/s]\n",
      "  1%|          | 86016/9912422 [00:00<00:15, 654935.75it/s]\n",
      "  4%|▎         | 364544/9912422 [00:00<00:11, 849072.90it/s]\n",
      "\u001b[2m\u001b[33m(raylet)\u001b[0m /home/therealchainman/miniconda3/lib/python3.8/site-packages/ray/autoscaler/_private/cli_logger.py:57: FutureWarning: Not all Ray CLI dependencies were found. In Ray 1.4+, the Ray CLI, autoscaler, and dashboard will only be usable via `pip install 'ray[default]'`. Please update your install command.\n",
      "\u001b[2m\u001b[33m(raylet)\u001b[0m   warnings.warn(\n",
      "2021-06-22 16:52:28,273\tWARNING tune.py:506 -- SIGINT received (e.g. via Ctrl+C), ending Ray Tune run. This will try to checkpoint the experiment state one last time. Press CTRL+C one more time (or send SIGINT/SIGKILL/SIGTERM) to skip. \n",
      "  7%|▋         | 677888/9912422 [00:00<00:08, 1080328.69it/s]\n"
     ]
    },
    {
     "data": {
      "text/html": [
       "== Status ==<br>Memory usage on this node: 5.3/15.5 GiB<br>Using FIFO scheduling algorithm.<br>Resources requested: 8.0/8 CPUs, 0/0 GPUs, 0.0/7.91 GiB heap, 0.0/3.95 GiB objects<br>Result logdir: /home/therealchainman/ray_results/train_mnist_2021-06-22_16-52-06<br>Number of trials: 20/20 (9 PENDING, 8 RUNNING, 3 TERMINATED)<br><table>\n",
       "<thead>\n",
       "<tr><th>Trial name             </th><th>status    </th><th>loc                </th><th style=\"text-align: right;\">         lr</th><th style=\"text-align: right;\">  momentum</th><th style=\"text-align: right;\">     acc</th><th style=\"text-align: right;\">  iter</th><th style=\"text-align: right;\">  total time (s)</th></tr>\n",
       "</thead>\n",
       "<tbody>\n",
       "<tr><td>train_mnist_16247_00000</td><td>RUNNING   </td><td>192.168.1.106:18939</td><td style=\"text-align: right;\">0.041874   </td><td style=\"text-align: right;\">  0.16155 </td><td style=\"text-align: right;\">0.7875  </td><td style=\"text-align: right;\">     8</td><td style=\"text-align: right;\">         19.7072</td></tr>\n",
       "<tr><td>train_mnist_16247_00001</td><td>RUNNING   </td><td>192.168.1.106:18940</td><td style=\"text-align: right;\">4.13676e-05</td><td style=\"text-align: right;\">  0.719126</td><td style=\"text-align: right;\">0.109375</td><td style=\"text-align: right;\">     4</td><td style=\"text-align: right;\">         19.7772</td></tr>\n",
       "<tr><td>train_mnist_16247_00002</td><td>RUNNING   </td><td>192.168.1.106:18935</td><td style=\"text-align: right;\">1.7824e-08 </td><td style=\"text-align: right;\">  0.79312 </td><td style=\"text-align: right;\">0.10625 </td><td style=\"text-align: right;\">     4</td><td style=\"text-align: right;\">         19.4146</td></tr>\n",
       "<tr><td>train_mnist_16247_00004</td><td>RUNNING   </td><td>192.168.1.106:18937</td><td style=\"text-align: right;\">0.00134643 </td><td style=\"text-align: right;\">  0.28525 </td><td style=\"text-align: right;\">0.065625</td><td style=\"text-align: right;\">     7</td><td style=\"text-align: right;\">         19.9359</td></tr>\n",
       "<tr><td>train_mnist_16247_00007</td><td>RUNNING   </td><td>192.168.1.106:18934</td><td style=\"text-align: right;\">0.000179996</td><td style=\"text-align: right;\">  0.173796</td><td style=\"text-align: right;\">0.09375 </td><td style=\"text-align: right;\">     4</td><td style=\"text-align: right;\">         19.5726</td></tr>\n",
       "<tr><td>train_mnist_16247_00008</td><td>RUNNING   </td><td>                   </td><td style=\"text-align: right;\">2.06622e-08</td><td style=\"text-align: right;\">  0.859587</td><td style=\"text-align: right;\">        </td><td style=\"text-align: right;\">      </td><td style=\"text-align: right;\">                </td></tr>\n",
       "<tr><td>train_mnist_16247_00009</td><td>RUNNING   </td><td>                   </td><td style=\"text-align: right;\">1.31715e-09</td><td style=\"text-align: right;\">  0.207752</td><td style=\"text-align: right;\">        </td><td style=\"text-align: right;\">      </td><td style=\"text-align: right;\">                </td></tr>\n",
       "<tr><td>train_mnist_16247_00010</td><td>RUNNING   </td><td>                   </td><td style=\"text-align: right;\">1.18271e-05</td><td style=\"text-align: right;\">  0.480522</td><td style=\"text-align: right;\">        </td><td style=\"text-align: right;\">      </td><td style=\"text-align: right;\">                </td></tr>\n",
       "<tr><td>train_mnist_16247_00011</td><td>PENDING   </td><td>                   </td><td style=\"text-align: right;\">0.0395415  </td><td style=\"text-align: right;\">  0.42925 </td><td style=\"text-align: right;\">        </td><td style=\"text-align: right;\">      </td><td style=\"text-align: right;\">                </td></tr>\n",
       "<tr><td>train_mnist_16247_00012</td><td>PENDING   </td><td>                   </td><td style=\"text-align: right;\">0.039147   </td><td style=\"text-align: right;\">  0.670937</td><td style=\"text-align: right;\">        </td><td style=\"text-align: right;\">      </td><td style=\"text-align: right;\">                </td></tr>\n",
       "<tr><td>train_mnist_16247_00013</td><td>PENDING   </td><td>                   </td><td style=\"text-align: right;\">0.000138393</td><td style=\"text-align: right;\">  0.132696</td><td style=\"text-align: right;\">        </td><td style=\"text-align: right;\">      </td><td style=\"text-align: right;\">                </td></tr>\n",
       "<tr><td>train_mnist_16247_00014</td><td>PENDING   </td><td>                   </td><td style=\"text-align: right;\">0.000306374</td><td style=\"text-align: right;\">  0.866248</td><td style=\"text-align: right;\">        </td><td style=\"text-align: right;\">      </td><td style=\"text-align: right;\">                </td></tr>\n",
       "<tr><td>train_mnist_16247_00015</td><td>PENDING   </td><td>                   </td><td style=\"text-align: right;\">2.32236e-08</td><td style=\"text-align: right;\">  0.306971</td><td style=\"text-align: right;\">        </td><td style=\"text-align: right;\">      </td><td style=\"text-align: right;\">                </td></tr>\n",
       "<tr><td>train_mnist_16247_00016</td><td>PENDING   </td><td>                   </td><td style=\"text-align: right;\">0.00699487 </td><td style=\"text-align: right;\">  0.786069</td><td style=\"text-align: right;\">        </td><td style=\"text-align: right;\">      </td><td style=\"text-align: right;\">                </td></tr>\n",
       "<tr><td>train_mnist_16247_00017</td><td>PENDING   </td><td>                   </td><td style=\"text-align: right;\">3.13833e-10</td><td style=\"text-align: right;\">  0.311705</td><td style=\"text-align: right;\">        </td><td style=\"text-align: right;\">      </td><td style=\"text-align: right;\">                </td></tr>\n",
       "<tr><td>train_mnist_16247_00018</td><td>PENDING   </td><td>                   </td><td style=\"text-align: right;\">0.0502922  </td><td style=\"text-align: right;\">  0.27041 </td><td style=\"text-align: right;\">        </td><td style=\"text-align: right;\">      </td><td style=\"text-align: right;\">                </td></tr>\n",
       "<tr><td>train_mnist_16247_00019</td><td>PENDING   </td><td>                   </td><td style=\"text-align: right;\">1.0712e-07 </td><td style=\"text-align: right;\">  0.877289</td><td style=\"text-align: right;\">        </td><td style=\"text-align: right;\">      </td><td style=\"text-align: right;\">                </td></tr>\n",
       "<tr><td>train_mnist_16247_00003</td><td>TERMINATED</td><td>                   </td><td style=\"text-align: right;\">9.69164e-08</td><td style=\"text-align: right;\">  0.558845</td><td style=\"text-align: right;\">0.090625</td><td style=\"text-align: right;\">    10</td><td style=\"text-align: right;\">         19.5406</td></tr>\n",
       "<tr><td>train_mnist_16247_00005</td><td>TERMINATED</td><td>                   </td><td style=\"text-align: right;\">0.187656   </td><td style=\"text-align: right;\">  0.486429</td><td style=\"text-align: right;\">0.81875 </td><td style=\"text-align: right;\">    10</td><td style=\"text-align: right;\">         11.8883</td></tr>\n",
       "<tr><td>train_mnist_16247_00006</td><td>TERMINATED</td><td>                   </td><td style=\"text-align: right;\">0.00119145 </td><td style=\"text-align: right;\">  0.632457</td><td style=\"text-align: right;\">0.409375</td><td style=\"text-align: right;\">    10</td><td style=\"text-align: right;\">         17.6337</td></tr>\n",
       "</tbody>\n",
       "</table><br><br>"
      ],
      "text/plain": [
       "<IPython.core.display.HTML object>"
      ]
     },
     "metadata": {},
     "output_type": "display_data"
    },
    {
     "name": "stderr",
     "output_type": "stream",
     "text": [
      "\u001b[2m\u001b[36m(pid=18934)\u001b[0m 2021-06-22 16:52:28,382\tERROR worker.py:409 -- SystemExit was raised from the worker\n",
      "\u001b[2m\u001b[36m(pid=18934)\u001b[0m Traceback (most recent call last):\n",
      "\u001b[2m\u001b[36m(pid=18934)\u001b[0m   File \"python/ray/_raylet.pyx\", line 595, in ray._raylet.task_execution_handler\n",
      "\u001b[2m\u001b[36m(pid=18934)\u001b[0m   File \"python/ray/_raylet.pyx\", line 453, in ray._raylet.execute_task\n",
      "\u001b[2m\u001b[36m(pid=18934)\u001b[0m   File \"python/ray/_raylet.pyx\", line 490, in ray._raylet.execute_task\n",
      "\u001b[2m\u001b[36m(pid=18934)\u001b[0m   File \"python/ray/_raylet.pyx\", line 497, in ray._raylet.execute_task\n",
      "\u001b[2m\u001b[36m(pid=18934)\u001b[0m   File \"python/ray/_raylet.pyx\", line 501, in ray._raylet.execute_task\n",
      "\u001b[2m\u001b[36m(pid=18934)\u001b[0m   File \"python/ray/_raylet.pyx\", line 451, in ray._raylet.execute_task.function_executor\n",
      "\u001b[2m\u001b[36m(pid=18934)\u001b[0m   File \"/home/therealchainman/miniconda3/lib/python3.8/site-packages/ray/_private/function_manager.py\", line 563, in actor_method_executor\n",
      "\u001b[2m\u001b[36m(pid=18934)\u001b[0m     return method(__ray_actor, *args, **kwargs)\n",
      "\u001b[2m\u001b[36m(pid=18934)\u001b[0m   File \"/home/therealchainman/miniconda3/lib/python3.8/site-packages/ray/tune/trainable.py\", line 173, in train_buffered\n",
      "\u001b[2m\u001b[36m(pid=18934)\u001b[0m     result = self.train()\n",
      "\u001b[2m\u001b[36m(pid=18934)\u001b[0m   File \"/home/therealchainman/miniconda3/lib/python3.8/site-packages/ray/tune/trainable.py\", line 232, in train\n",
      "\u001b[2m\u001b[36m(pid=18934)\u001b[0m     result = self.step()\n",
      "\u001b[2m\u001b[36m(pid=18934)\u001b[0m   File \"/home/therealchainman/miniconda3/lib/python3.8/site-packages/ray/tune/function_runner.py\", line 348, in step\n",
      "\u001b[2m\u001b[36m(pid=18934)\u001b[0m     result = self._results_queue.get(\n",
      "\u001b[2m\u001b[36m(pid=18934)\u001b[0m   File \"/home/therealchainman/miniconda3/lib/python3.8/queue.py\", line 179, in get\n",
      "\u001b[2m\u001b[36m(pid=18934)\u001b[0m     self.not_empty.wait(remaining)\n",
      "\u001b[2m\u001b[36m(pid=18934)\u001b[0m   File \"/home/therealchainman/miniconda3/lib/python3.8/threading.py\", line 306, in wait\n",
      "\u001b[2m\u001b[36m(pid=18934)\u001b[0m     gotit = waiter.acquire(True, timeout)\n",
      "\u001b[2m\u001b[36m(pid=18934)\u001b[0m   File \"/home/therealchainman/miniconda3/lib/python3.8/site-packages/ray/worker.py\", line 406, in sigterm_handler\n",
      "\u001b[2m\u001b[36m(pid=18934)\u001b[0m     sys.exit(1)\n",
      "\u001b[2m\u001b[36m(pid=18934)\u001b[0m SystemExit: 1\n",
      "\u001b[2m\u001b[36m(pid=19168)\u001b[0m 2021-06-22 16:52:28,388\tERROR worker.py:409 -- SystemExit was raised from the worker\n",
      "\u001b[2m\u001b[36m(pid=19168)\u001b[0m Traceback (most recent call last):\n",
      "\u001b[2m\u001b[36m(pid=19168)\u001b[0m   File \"python/ray/_raylet.pyx\", line 595, in ray._raylet.task_execution_handler\n",
      "\u001b[2m\u001b[36m(pid=19168)\u001b[0m   File \"python/ray/_raylet.pyx\", line 453, in ray._raylet.execute_task\n",
      "\u001b[2m\u001b[36m(pid=19168)\u001b[0m   File \"python/ray/_raylet.pyx\", line 490, in ray._raylet.execute_task\n",
      "\u001b[2m\u001b[36m(pid=19168)\u001b[0m   File \"python/ray/_raylet.pyx\", line 497, in ray._raylet.execute_task\n",
      "\u001b[2m\u001b[36m(pid=19168)\u001b[0m   File \"python/ray/_raylet.pyx\", line 501, in ray._raylet.execute_task\n",
      "\u001b[2m\u001b[36m(pid=19168)\u001b[0m   File \"python/ray/_raylet.pyx\", line 451, in ray._raylet.execute_task.function_executor\n",
      "\u001b[2m\u001b[36m(pid=19168)\u001b[0m   File \"/home/therealchainman/miniconda3/lib/python3.8/site-packages/ray/_private/function_manager.py\", line 563, in actor_method_executor\n",
      "\u001b[2m\u001b[36m(pid=19168)\u001b[0m     return method(__ray_actor, *args, **kwargs)\n",
      "\u001b[2m\u001b[36m(pid=19168)\u001b[0m   File \"/home/therealchainman/miniconda3/lib/python3.8/site-packages/ray/tune/trainable.py\", line 173, in train_buffered\n",
      "\u001b[2m\u001b[36m(pid=19168)\u001b[0m     result = self.train()\n",
      "\u001b[2m\u001b[36m(pid=19168)\u001b[0m   File \"/home/therealchainman/miniconda3/lib/python3.8/site-packages/ray/tune/trainable.py\", line 232, in train\n",
      "\u001b[2m\u001b[36m(pid=19168)\u001b[0m     result = self.step()\n",
      "\u001b[2m\u001b[36m(pid=19168)\u001b[0m   File \"/home/therealchainman/miniconda3/lib/python3.8/site-packages/ray/tune/function_runner.py\", line 348, in step\n",
      "\u001b[2m\u001b[36m(pid=19168)\u001b[0m     result = self._results_queue.get(\n",
      "\u001b[2m\u001b[36m(pid=19168)\u001b[0m   File \"/home/therealchainman/miniconda3/lib/python3.8/queue.py\", line 179, in get\n",
      "\u001b[2m\u001b[36m(pid=19168)\u001b[0m     self.not_empty.wait(remaining)\n",
      "\u001b[2m\u001b[36m(pid=19168)\u001b[0m   File \"/home/therealchainman/miniconda3/lib/python3.8/threading.py\", line 306, in wait\n",
      "\u001b[2m\u001b[36m(pid=19168)\u001b[0m     gotit = waiter.acquire(True, timeout)\n",
      "\u001b[2m\u001b[36m(pid=19168)\u001b[0m   File \"/home/therealchainman/miniconda3/lib/python3.8/site-packages/ray/worker.py\", line 406, in sigterm_handler\n",
      "\u001b[2m\u001b[36m(pid=19168)\u001b[0m     sys.exit(1)\n",
      "\u001b[2m\u001b[36m(pid=19168)\u001b[0m SystemExit: 1\n",
      " 10%|█         | 1008640/9912422 [00:00<00:06, 1328450.78it/s]\n",
      "\u001b[2m\u001b[36m(pid=18935)\u001b[0m 2021-06-22 16:52:28,433\tERROR worker.py:409 -- SystemExit was raised from the worker\n",
      "\u001b[2m\u001b[36m(pid=18935)\u001b[0m Traceback (most recent call last):\n",
      "\u001b[2m\u001b[36m(pid=18935)\u001b[0m   File \"python/ray/_raylet.pyx\", line 595, in ray._raylet.task_execution_handler\n",
      "\u001b[2m\u001b[36m(pid=18935)\u001b[0m   File \"python/ray/_raylet.pyx\", line 453, in ray._raylet.execute_task\n",
      "\u001b[2m\u001b[36m(pid=18935)\u001b[0m   File \"python/ray/_raylet.pyx\", line 490, in ray._raylet.execute_task\n",
      "\u001b[2m\u001b[36m(pid=18935)\u001b[0m   File \"python/ray/_raylet.pyx\", line 497, in ray._raylet.execute_task\n",
      "\u001b[2m\u001b[36m(pid=18935)\u001b[0m   File \"python/ray/_raylet.pyx\", line 501, in ray._raylet.execute_task\n",
      "\u001b[2m\u001b[36m(pid=18935)\u001b[0m   File \"python/ray/_raylet.pyx\", line 451, in ray._raylet.execute_task.function_executor\n",
      "\u001b[2m\u001b[36m(pid=18935)\u001b[0m   File \"/home/therealchainman/miniconda3/lib/python3.8/site-packages/ray/_private/function_manager.py\", line 563, in actor_method_executor\n",
      "\u001b[2m\u001b[36m(pid=18935)\u001b[0m     return method(__ray_actor, *args, **kwargs)\n",
      "\u001b[2m\u001b[36m(pid=18935)\u001b[0m   File \"/home/therealchainman/miniconda3/lib/python3.8/site-packages/ray/tune/trainable.py\", line 173, in train_buffered\n",
      "\u001b[2m\u001b[36m(pid=18935)\u001b[0m     result = self.train()\n",
      "\u001b[2m\u001b[36m(pid=18935)\u001b[0m   File \"/home/therealchainman/miniconda3/lib/python3.8/site-packages/ray/tune/trainable.py\", line 232, in train\n",
      "\u001b[2m\u001b[36m(pid=18935)\u001b[0m     result = self.step()\n",
      "\u001b[2m\u001b[36m(pid=18935)\u001b[0m   File \"/home/therealchainman/miniconda3/lib/python3.8/site-packages/ray/tune/function_runner.py\", line 348, in step\n",
      "\u001b[2m\u001b[36m(pid=18935)\u001b[0m     result = self._results_queue.get(\n",
      "\u001b[2m\u001b[36m(pid=18935)\u001b[0m   File \"/home/therealchainman/miniconda3/lib/python3.8/queue.py\", line 179, in get\n",
      "\u001b[2m\u001b[36m(pid=18935)\u001b[0m     self.not_empty.wait(remaining)\n",
      "\u001b[2m\u001b[36m(pid=18935)\u001b[0m   File \"/home/therealchainman/miniconda3/lib/python3.8/threading.py\", line 306, in wait\n",
      "\u001b[2m\u001b[36m(pid=18935)\u001b[0m     gotit = waiter.acquire(True, timeout)\n",
      "\u001b[2m\u001b[36m(pid=18935)\u001b[0m   File \"/home/therealchainman/miniconda3/lib/python3.8/site-packages/ray/worker.py\", line 406, in sigterm_handler\n",
      "\u001b[2m\u001b[36m(pid=18935)\u001b[0m     sys.exit(1)\n",
      "\u001b[2m\u001b[36m(pid=18935)\u001b[0m SystemExit: 1\n",
      "\u001b[2m\u001b[36m(pid=18939)\u001b[0m 2021-06-22 16:52:28,438\tERROR worker.py:409 -- SystemExit was raised from the worker\n",
      "\u001b[2m\u001b[36m(pid=18939)\u001b[0m Traceback (most recent call last):\n",
      "\u001b[2m\u001b[36m(pid=18939)\u001b[0m   File \"python/ray/_raylet.pyx\", line 595, in ray._raylet.task_execution_handler\n",
      "\u001b[2m\u001b[36m(pid=18939)\u001b[0m   File \"python/ray/_raylet.pyx\", line 453, in ray._raylet.execute_task\n",
      "\u001b[2m\u001b[36m(pid=18939)\u001b[0m   File \"python/ray/_raylet.pyx\", line 490, in ray._raylet.execute_task\n",
      "\u001b[2m\u001b[36m(pid=18939)\u001b[0m   File \"python/ray/_raylet.pyx\", line 497, in ray._raylet.execute_task\n",
      "\u001b[2m\u001b[36m(pid=18939)\u001b[0m   File \"python/ray/_raylet.pyx\", line 501, in ray._raylet.execute_task\n",
      "\u001b[2m\u001b[36m(pid=18939)\u001b[0m   File \"python/ray/_raylet.pyx\", line 451, in ray._raylet.execute_task.function_executor\n",
      "\u001b[2m\u001b[36m(pid=18939)\u001b[0m   File \"/home/therealchainman/miniconda3/lib/python3.8/site-packages/ray/_private/function_manager.py\", line 563, in actor_method_executor\n",
      "\u001b[2m\u001b[36m(pid=18939)\u001b[0m     return method(__ray_actor, *args, **kwargs)\n",
      "\u001b[2m\u001b[36m(pid=18939)\u001b[0m   File \"/home/therealchainman/miniconda3/lib/python3.8/site-packages/ray/tune/trainable.py\", line 173, in train_buffered\n",
      "\u001b[2m\u001b[36m(pid=18939)\u001b[0m     result = self.train()\n",
      "\u001b[2m\u001b[36m(pid=18939)\u001b[0m   File \"/home/therealchainman/miniconda3/lib/python3.8/site-packages/ray/tune/trainable.py\", line 232, in train\n",
      "\u001b[2m\u001b[36m(pid=18939)\u001b[0m     result = self.step()\n",
      "\u001b[2m\u001b[36m(pid=18939)\u001b[0m   File \"/home/therealchainman/miniconda3/lib/python3.8/site-packages/ray/tune/function_runner.py\", line 348, in step\n",
      "\u001b[2m\u001b[36m(pid=18939)\u001b[0m     result = self._results_queue.get(\n",
      "\u001b[2m\u001b[36m(pid=18939)\u001b[0m   File \"/home/therealchainman/miniconda3/lib/python3.8/queue.py\", line 179, in get\n",
      "\u001b[2m\u001b[36m(pid=18939)\u001b[0m     self.not_empty.wait(remaining)\n",
      "\u001b[2m\u001b[36m(pid=18939)\u001b[0m   File \"/home/therealchainman/miniconda3/lib/python3.8/threading.py\", line 306, in wait\n",
      "\u001b[2m\u001b[36m(pid=18939)\u001b[0m     gotit = waiter.acquire(True, timeout)\n",
      "\u001b[2m\u001b[36m(pid=18939)\u001b[0m   File \"/home/therealchainman/miniconda3/lib/python3.8/site-packages/ray/worker.py\", line 406, in sigterm_handler\n",
      "\u001b[2m\u001b[36m(pid=18939)\u001b[0m     sys.exit(1)\n",
      "\u001b[2m\u001b[36m(pid=18939)\u001b[0m SystemExit: 1\n",
      "\u001b[2m\u001b[36m(pid=18937)\u001b[0m 2021-06-22 16:52:28,437\tERROR worker.py:409 -- SystemExit was raised from the worker\n",
      "\u001b[2m\u001b[36m(pid=18937)\u001b[0m Traceback (most recent call last):\n",
      "\u001b[2m\u001b[36m(pid=18937)\u001b[0m   File \"python/ray/_raylet.pyx\", line 595, in ray._raylet.task_execution_handler\n",
      "\u001b[2m\u001b[36m(pid=18937)\u001b[0m   File \"python/ray/_raylet.pyx\", line 453, in ray._raylet.execute_task\n",
      "\u001b[2m\u001b[36m(pid=18937)\u001b[0m   File \"python/ray/_raylet.pyx\", line 490, in ray._raylet.execute_task\n",
      "\u001b[2m\u001b[36m(pid=18937)\u001b[0m   File \"python/ray/_raylet.pyx\", line 497, in ray._raylet.execute_task\n",
      "\u001b[2m\u001b[36m(pid=18937)\u001b[0m   File \"python/ray/_raylet.pyx\", line 501, in ray._raylet.execute_task\n",
      "\u001b[2m\u001b[36m(pid=18937)\u001b[0m   File \"python/ray/_raylet.pyx\", line 451, in ray._raylet.execute_task.function_executor\n",
      "\u001b[2m\u001b[36m(pid=18937)\u001b[0m   File \"/home/therealchainman/miniconda3/lib/python3.8/site-packages/ray/_private/function_manager.py\", line 563, in actor_method_executor\n",
      "\u001b[2m\u001b[36m(pid=18937)\u001b[0m     return method(__ray_actor, *args, **kwargs)\n",
      "\u001b[2m\u001b[36m(pid=18937)\u001b[0m   File \"/home/therealchainman/miniconda3/lib/python3.8/site-packages/ray/tune/trainable.py\", line 173, in train_buffered\n",
      "\u001b[2m\u001b[36m(pid=18937)\u001b[0m     result = self.train()\n",
      "\u001b[2m\u001b[36m(pid=18937)\u001b[0m   File \"/home/therealchainman/miniconda3/lib/python3.8/site-packages/ray/tune/trainable.py\", line 232, in train\n",
      "\u001b[2m\u001b[36m(pid=18937)\u001b[0m     result = self.step()\n",
      "\u001b[2m\u001b[36m(pid=18937)\u001b[0m   File \"/home/therealchainman/miniconda3/lib/python3.8/site-packages/ray/tune/function_runner.py\", line 348, in step\n",
      "\u001b[2m\u001b[36m(pid=18937)\u001b[0m     result = self._results_queue.get(\n",
      "\u001b[2m\u001b[36m(pid=18937)\u001b[0m   File \"/home/therealchainman/miniconda3/lib/python3.8/queue.py\", line 179, in get\n",
      "\u001b[2m\u001b[36m(pid=18937)\u001b[0m     self.not_empty.wait(remaining)\n",
      "\u001b[2m\u001b[36m(pid=18937)\u001b[0m   File \"/home/therealchainman/miniconda3/lib/python3.8/threading.py\", line 306, in wait\n",
      "\u001b[2m\u001b[36m(pid=18937)\u001b[0m     gotit = waiter.acquire(True, timeout)\n",
      "\u001b[2m\u001b[36m(pid=18937)\u001b[0m   File \"/home/therealchainman/miniconda3/lib/python3.8/site-packages/ray/worker.py\", line 406, in sigterm_handler\n",
      "\u001b[2m\u001b[36m(pid=18937)\u001b[0m     sys.exit(1)\n",
      "\u001b[2m\u001b[36m(pid=18937)\u001b[0m SystemExit: 1\n",
      "\u001b[2m\u001b[36m(pid=18940)\u001b[0m 2021-06-22 16:52:28,435\tERROR worker.py:409 -- SystemExit was raised from the worker\n",
      "\u001b[2m\u001b[36m(pid=18940)\u001b[0m Traceback (most recent call last):\n",
      "\u001b[2m\u001b[36m(pid=18940)\u001b[0m   File \"python/ray/_raylet.pyx\", line 595, in ray._raylet.task_execution_handler\n",
      "\u001b[2m\u001b[36m(pid=18940)\u001b[0m   File \"python/ray/_raylet.pyx\", line 453, in ray._raylet.execute_task\n",
      "\u001b[2m\u001b[36m(pid=18940)\u001b[0m   File \"python/ray/_raylet.pyx\", line 490, in ray._raylet.execute_task\n",
      "\u001b[2m\u001b[36m(pid=18940)\u001b[0m   File \"python/ray/_raylet.pyx\", line 497, in ray._raylet.execute_task\n",
      "\u001b[2m\u001b[36m(pid=18940)\u001b[0m   File \"python/ray/_raylet.pyx\", line 501, in ray._raylet.execute_task\n",
      "\u001b[2m\u001b[36m(pid=18940)\u001b[0m   File \"python/ray/_raylet.pyx\", line 451, in ray._raylet.execute_task.function_executor\n",
      "\u001b[2m\u001b[36m(pid=18940)\u001b[0m   File \"/home/therealchainman/miniconda3/lib/python3.8/site-packages/ray/_private/function_manager.py\", line 563, in actor_method_executor\n",
      "\u001b[2m\u001b[36m(pid=18940)\u001b[0m     return method(__ray_actor, *args, **kwargs)\n",
      "\u001b[2m\u001b[36m(pid=18940)\u001b[0m   File \"/home/therealchainman/miniconda3/lib/python3.8/site-packages/ray/tune/trainable.py\", line 173, in train_buffered\n",
      "\u001b[2m\u001b[36m(pid=18940)\u001b[0m     result = self.train()\n",
      "\u001b[2m\u001b[36m(pid=18940)\u001b[0m   File \"/home/therealchainman/miniconda3/lib/python3.8/site-packages/ray/tune/trainable.py\", line 232, in train\n",
      "\u001b[2m\u001b[36m(pid=18940)\u001b[0m     result = self.step()\n",
      "\u001b[2m\u001b[36m(pid=18940)\u001b[0m   File \"/home/therealchainman/miniconda3/lib/python3.8/site-packages/ray/tune/function_runner.py\", line 348, in step\n",
      "\u001b[2m\u001b[36m(pid=18940)\u001b[0m     result = self._results_queue.get(\n",
      "\u001b[2m\u001b[36m(pid=18940)\u001b[0m   File \"/home/therealchainman/miniconda3/lib/python3.8/queue.py\", line 179, in get\n",
      "\u001b[2m\u001b[36m(pid=18940)\u001b[0m     self.not_empty.wait(remaining)\n",
      "\u001b[2m\u001b[36m(pid=18940)\u001b[0m   File \"/home/therealchainman/miniconda3/lib/python3.8/threading.py\", line 306, in wait\n",
      "\u001b[2m\u001b[36m(pid=18940)\u001b[0m     gotit = waiter.acquire(True, timeout)\n",
      "\u001b[2m\u001b[36m(pid=18940)\u001b[0m   File \"/home/therealchainman/miniconda3/lib/python3.8/site-packages/ray/worker.py\", line 406, in sigterm_handler\n",
      "\u001b[2m\u001b[36m(pid=18940)\u001b[0m     sys.exit(1)\n",
      "\u001b[2m\u001b[36m(pid=18940)\u001b[0m SystemExit: 1\n",
      "\u001b[2m\u001b[36m(pid=19195)\u001b[0m 2021-06-22 16:52:28,416\tERROR worker.py:409 -- SystemExit was raised from the worker\n",
      "\u001b[2m\u001b[36m(pid=19195)\u001b[0m Traceback (most recent call last):\n",
      "\u001b[2m\u001b[36m(pid=19195)\u001b[0m   File \"<frozen importlib._bootstrap_external>\", line 93, in _path_is_mode_type\n",
      "\u001b[2m\u001b[36m(pid=19195)\u001b[0m   File \"<frozen importlib._bootstrap_external>\", line 87, in _path_stat\n",
      "\u001b[2m\u001b[36m(pid=19195)\u001b[0m FileNotFoundError: [Errno 2] No such file or directory: '/home/therealchainman/miniconda3/lib/python3.8/site-packages/requests/__init__.cpython-38-x86_64-linux-gnu.so'\n",
      "\u001b[2m\u001b[36m(pid=19195)\u001b[0m \n",
      "\u001b[2m\u001b[36m(pid=19195)\u001b[0m During handling of the above exception, another exception occurred:\n",
      "\u001b[2m\u001b[36m(pid=19195)\u001b[0m \n",
      "\u001b[2m\u001b[36m(pid=19195)\u001b[0m Traceback (most recent call last):\n",
      "\u001b[2m\u001b[36m(pid=19195)\u001b[0m   File \"python/ray/_raylet.pyx\", line 595, in ray._raylet.task_execution_handler\n",
      "\u001b[2m\u001b[36m(pid=19195)\u001b[0m   File \"python/ray/_raylet.pyx\", line 394, in ray._raylet.execute_task\n",
      "\u001b[2m\u001b[36m(pid=19195)\u001b[0m   File \"/home/therealchainman/miniconda3/lib/python3.8/site-packages/ray/_private/function_manager.py\", line 402, in load_actor_class\n",
      "\u001b[2m\u001b[36m(pid=19195)\u001b[0m     actor_class = self._load_actor_class_from_gcs(\n",
      "\u001b[2m\u001b[36m(pid=19195)\u001b[0m   File \"/home/therealchainman/miniconda3/lib/python3.8/site-packages/ray/_private/function_manager.py\", line 503, in _load_actor_class_from_gcs\n",
      "\u001b[2m\u001b[36m(pid=19195)\u001b[0m     actor_class = pickle.loads(pickled_class)\n",
      "\u001b[2m\u001b[36m(pid=19195)\u001b[0m   File \"/home/therealchainman/miniconda3/lib/python3.8/site-packages/ray/tune/__init__.py\", line 2, in <module>\n",
      "\u001b[2m\u001b[36m(pid=19195)\u001b[0m     from ray.tune.tune import run_experiments, run\n",
      "\u001b[2m\u001b[36m(pid=19195)\u001b[0m   File \"/home/therealchainman/miniconda3/lib/python3.8/site-packages/ray/tune/tune.py\", line 29, in <module>\n",
      "\u001b[2m\u001b[36m(pid=19195)\u001b[0m     from ray.tune.trial_runner import TrialRunner\n",
      "\u001b[2m\u001b[36m(pid=19195)\u001b[0m   File \"/home/therealchainman/miniconda3/lib/python3.8/site-packages/ray/tune/trial_runner.py\", line 28, in <module>\n",
      "\u001b[2m\u001b[36m(pid=19195)\u001b[0m     from ray.tune.web_server import TuneServer\n",
      "\u001b[2m\u001b[36m(pid=19195)\u001b[0m   File \"/home/therealchainman/miniconda3/lib/python3.8/site-packages/ray/tune/web_server.py\", line 16, in <module>\n",
      "\u001b[2m\u001b[36m(pid=19195)\u001b[0m     import requests  # `requests` is not part of stdlib.\n",
      "\u001b[2m\u001b[36m(pid=19195)\u001b[0m   File \"<frozen importlib._bootstrap>\", line 991, in _find_and_load\n",
      "\u001b[2m\u001b[36m(pid=19195)\u001b[0m   File \"<frozen importlib._bootstrap>\", line 971, in _find_and_load_unlocked\n",
      "\u001b[2m\u001b[36m(pid=19195)\u001b[0m   File \"<frozen importlib._bootstrap>\", line 914, in _find_spec\n",
      "\u001b[2m\u001b[36m(pid=19195)\u001b[0m   File \"<frozen importlib._bootstrap_external>\", line 1342, in find_spec\n",
      "\u001b[2m\u001b[36m(pid=19195)\u001b[0m   File \"<frozen importlib._bootstrap_external>\", line 1314, in _get_spec\n",
      "\u001b[2m\u001b[36m(pid=19195)\u001b[0m   File \"<frozen importlib._bootstrap_external>\", line 1458, in find_spec\n",
      "\u001b[2m\u001b[36m(pid=19195)\u001b[0m   File \"<frozen importlib._bootstrap_external>\", line 101, in _path_isfile\n",
      "\u001b[2m\u001b[36m(pid=19195)\u001b[0m   File \"<frozen importlib._bootstrap_external>\", line 93, in _path_is_mode_type\n",
      "\u001b[2m\u001b[36m(pid=19195)\u001b[0m   File \"/home/therealchainman/miniconda3/lib/python3.8/site-packages/ray/worker.py\", line 406, in sigterm_handler\n",
      "\u001b[2m\u001b[36m(pid=19195)\u001b[0m     sys.exit(1)\n",
      "\u001b[2m\u001b[36m(pid=19195)\u001b[0m SystemExit: 1\n",
      "2021-06-22 16:52:28,630\tERROR tune.py:545 -- Trials did not complete: [train_mnist_16247_00000, train_mnist_16247_00001, train_mnist_16247_00002, train_mnist_16247_00004, train_mnist_16247_00007, train_mnist_16247_00008, train_mnist_16247_00009, train_mnist_16247_00010, train_mnist_16247_00011, train_mnist_16247_00012, train_mnist_16247_00013, train_mnist_16247_00014, train_mnist_16247_00015, train_mnist_16247_00016, train_mnist_16247_00017, train_mnist_16247_00018, train_mnist_16247_00019]\n",
      "2021-06-22 16:52:28,636\tINFO tune.py:549 -- Total run time: 22.23 seconds (21.82 seconds for the tuning loop).\n",
      "2021-06-22 16:52:28,637\tWARNING tune.py:553 -- Experiment has been interrupted, but the most recent state was saved. You can continue running this experiment by passing `resume=True` to `tune.run()`\n",
      "\u001b[2m\u001b[33m(raylet)\u001b[0m /home/therealchainman/miniconda3/lib/python3.8/site-packages/ray/autoscaler/_private/cli_logger.py:57: FutureWarning: Not all Ray CLI dependencies were found. In Ray 1.4+, the Ray CLI, autoscaler, and dashboard will only be usable via `pip install 'ray[default]'`. Please update your install command.\n",
      "\u001b[2m\u001b[33m(raylet)\u001b[0m   warnings.warn(\n",
      "\u001b[2m\u001b[33m(raylet)\u001b[0m /home/therealchainman/miniconda3/lib/python3.8/site-packages/ray/autoscaler/_private/cli_logger.py:57: FutureWarning: Not all Ray CLI dependencies were found. In Ray 1.4+, the Ray CLI, autoscaler, and dashboard will only be usable via `pip install 'ray[default]'`. Please update your install command.\n",
      "\u001b[2m\u001b[33m(raylet)\u001b[0m   warnings.warn(\n",
      "\u001b[2m\u001b[33m(raylet)\u001b[0m /home/therealchainman/miniconda3/lib/python3.8/site-packages/ray/autoscaler/_private/cli_logger.py:57: FutureWarning: Not all Ray CLI dependencies were found. In Ray 1.4+, the Ray CLI, autoscaler, and dashboard will only be usable via `pip install 'ray[default]'`. Please update your install command.\n",
      "\u001b[2m\u001b[33m(raylet)\u001b[0m   warnings.warn(\n",
      "\u001b[2m\u001b[33m(raylet)\u001b[0m /home/therealchainman/miniconda3/lib/python3.8/site-packages/ray/autoscaler/_private/cli_logger.py:57: FutureWarning: Not all Ray CLI dependencies were found. In Ray 1.4+, the Ray CLI, autoscaler, and dashboard will only be usable via `pip install 'ray[default]'`. Please update your install command.\n",
      "\u001b[2m\u001b[33m(raylet)\u001b[0m   warnings.warn(\n",
      "\u001b[2m\u001b[33m(raylet)\u001b[0m /home/therealchainman/miniconda3/lib/python3.8/site-packages/ray/autoscaler/_private/cli_logger.py:57: FutureWarning: Not all Ray CLI dependencies were found. In Ray 1.4+, the Ray CLI, autoscaler, and dashboard will only be usable via `pip install 'ray[default]'`. Please update your install command.\n",
      "\u001b[2m\u001b[33m(raylet)\u001b[0m   warnings.warn(\n",
      "\u001b[2m\u001b[33m(raylet)\u001b[0m /home/therealchainman/miniconda3/lib/python3.8/site-packages/ray/autoscaler/_private/cli_logger.py:57: FutureWarning: Not all Ray CLI dependencies were found. In Ray 1.4+, the Ray CLI, autoscaler, and dashboard will only be usable via `pip install 'ray[default]'`. Please update your install command.\n",
      "\u001b[2m\u001b[33m(raylet)\u001b[0m   warnings.warn(\n",
      "\u001b[2m\u001b[33m(raylet)\u001b[0m /home/therealchainman/miniconda3/lib/python3.8/site-packages/ray/autoscaler/_private/cli_logger.py:57: FutureWarning: Not all Ray CLI dependencies were found. In Ray 1.4+, the Ray CLI, autoscaler, and dashboard will only be usable via `pip install 'ray[default]'`. Please update your install command.\n",
      "\u001b[2m\u001b[33m(raylet)\u001b[0m   warnings.warn(\n"
     ]
    }
   ],
   "source": [
    "start = time.time()\n",
    "analysis = tune.run(\n",
    "    train_mnist,\n",
    "    num_samples=20,\n",
    "#     scheduler=ASHAScheduler(metric=\"mean_accuracy\", mode=\"max\"),\n",
    "    config=search_space)\n",
    "times.append(start-time.time())"
   ]
  },
  {
   "cell_type": "code",
   "execution_count": 30,
   "id": "9b13a566-ffcf-4a82-86a7-406b78f11034",
   "metadata": {
    "collapsed": true,
    "jupyter": {
     "outputs_hidden": true
    }
   },
   "outputs": [
    {
     "ename": "RuntimeError",
     "evalue": "Maybe you called ray.init twice by accident? This error can be suppressed by passing in 'ignore_reinit_error=True' or by calling 'ray.shutdown()' prior to 'ray.init()'.",
     "output_type": "error",
     "traceback": [
      "\u001b[0;31m---------------------------------------------------------------------------\u001b[0m",
      "\u001b[0;31mRuntimeError\u001b[0m                              Traceback (most recent call last)",
      "\u001b[0;32m<ipython-input-30-a76b6a36b535>\u001b[0m in \u001b[0;36m<module>\u001b[0;34m\u001b[0m\n\u001b[0;32m----> 1\u001b[0;31m \u001b[0mray\u001b[0m\u001b[0;34m.\u001b[0m\u001b[0minit\u001b[0m\u001b[0;34m(\u001b[0m\u001b[0;34m)\u001b[0m\u001b[0;34m\u001b[0m\u001b[0;34m\u001b[0m\u001b[0m\n\u001b[0m\u001b[1;32m      2\u001b[0m \u001b[0mstart\u001b[0m \u001b[0;34m=\u001b[0m \u001b[0mtime\u001b[0m\u001b[0;34m.\u001b[0m\u001b[0mtime\u001b[0m\u001b[0;34m(\u001b[0m\u001b[0;34m)\u001b[0m\u001b[0;34m\u001b[0m\u001b[0;34m\u001b[0m\u001b[0m\n\u001b[1;32m      3\u001b[0m analysis = tune.run(\n\u001b[1;32m      4\u001b[0m     \u001b[0mtrain_mnist\u001b[0m\u001b[0;34m,\u001b[0m\u001b[0;34m\u001b[0m\u001b[0;34m\u001b[0m\u001b[0m\n\u001b[1;32m      5\u001b[0m     \u001b[0mnum_samples\u001b[0m\u001b[0;34m=\u001b[0m\u001b[0;36m20\u001b[0m\u001b[0;34m,\u001b[0m\u001b[0;34m\u001b[0m\u001b[0;34m\u001b[0m\u001b[0m\n",
      "\u001b[0;32m~/miniconda3/lib/python3.8/site-packages/ray/_private/client_mode_hook.py\u001b[0m in \u001b[0;36mwrapper\u001b[0;34m(*args, **kwargs)\u001b[0m\n\u001b[1;32m     60\u001b[0m         \u001b[0;32mif\u001b[0m \u001b[0mclient_mode_should_convert\u001b[0m\u001b[0;34m(\u001b[0m\u001b[0;34m)\u001b[0m\u001b[0;34m:\u001b[0m\u001b[0;34m\u001b[0m\u001b[0;34m\u001b[0m\u001b[0m\n\u001b[1;32m     61\u001b[0m             \u001b[0;32mreturn\u001b[0m \u001b[0mgetattr\u001b[0m\u001b[0;34m(\u001b[0m\u001b[0mray\u001b[0m\u001b[0;34m,\u001b[0m \u001b[0mfunc\u001b[0m\u001b[0;34m.\u001b[0m\u001b[0m__name__\u001b[0m\u001b[0;34m)\u001b[0m\u001b[0;34m(\u001b[0m\u001b[0;34m*\u001b[0m\u001b[0margs\u001b[0m\u001b[0;34m,\u001b[0m \u001b[0;34m**\u001b[0m\u001b[0mkwargs\u001b[0m\u001b[0;34m)\u001b[0m\u001b[0;34m\u001b[0m\u001b[0;34m\u001b[0m\u001b[0m\n\u001b[0;32m---> 62\u001b[0;31m         \u001b[0;32mreturn\u001b[0m \u001b[0mfunc\u001b[0m\u001b[0;34m(\u001b[0m\u001b[0;34m*\u001b[0m\u001b[0margs\u001b[0m\u001b[0;34m,\u001b[0m \u001b[0;34m**\u001b[0m\u001b[0mkwargs\u001b[0m\u001b[0;34m)\u001b[0m\u001b[0;34m\u001b[0m\u001b[0;34m\u001b[0m\u001b[0m\n\u001b[0m\u001b[1;32m     63\u001b[0m \u001b[0;34m\u001b[0m\u001b[0m\n\u001b[1;32m     64\u001b[0m     \u001b[0;32mreturn\u001b[0m \u001b[0mwrapper\u001b[0m\u001b[0;34m\u001b[0m\u001b[0;34m\u001b[0m\u001b[0m\n",
      "\u001b[0;32m~/miniconda3/lib/python3.8/site-packages/ray/worker.py\u001b[0m in \u001b[0;36minit\u001b[0;34m(address, num_cpus, num_gpus, resources, object_store_memory, local_mode, ignore_reinit_error, include_dashboard, dashboard_host, dashboard_port, job_config, configure_logging, logging_level, logging_format, log_to_driver, namespace, _enable_object_reconstruction, _redis_max_memory, _plasma_directory, _node_ip_address, _driver_object_store_memory, _memory, _redis_password, _temp_dir, _lru_evict, _metrics_export_port, _system_config, _tracing_startup_hook)\u001b[0m\n\u001b[1;32m    738\u001b[0m             \u001b[0;32mreturn\u001b[0m\u001b[0;34m\u001b[0m\u001b[0;34m\u001b[0m\u001b[0m\n\u001b[1;32m    739\u001b[0m         \u001b[0;32melse\u001b[0m\u001b[0;34m:\u001b[0m\u001b[0;34m\u001b[0m\u001b[0;34m\u001b[0m\u001b[0m\n\u001b[0;32m--> 740\u001b[0;31m             raise RuntimeError(\"Maybe you called ray.init twice by accident? \"\n\u001b[0m\u001b[1;32m    741\u001b[0m                                \u001b[0;34m\"This error can be suppressed by passing in \"\u001b[0m\u001b[0;34m\u001b[0m\u001b[0;34m\u001b[0m\u001b[0m\n\u001b[1;32m    742\u001b[0m                                \u001b[0;34m\"'ignore_reinit_error=True' or by calling \"\u001b[0m\u001b[0;34m\u001b[0m\u001b[0;34m\u001b[0m\u001b[0m\n",
      "\u001b[0;31mRuntimeError\u001b[0m: Maybe you called ray.init twice by accident? This error can be suppressed by passing in 'ignore_reinit_error=True' or by calling 'ray.shutdown()' prior to 'ray.init()'."
     ]
    }
   ],
   "source": [
    "\n",
    "start = time.time()\n",
    "analysis = tune.run(\n",
    "    train_mnist,\n",
    "    num_samples=20,\n",
    "    scheduler=ASHAScheduler(metric=\"mean_accuracy\", mode=\"max\"),\n",
    "    config=search_space)\n",
    "times.append(start-time.time())"
   ]
  },
  {
   "cell_type": "code",
   "execution_count": 35,
   "id": "7f023429-48f2-4917-a84a-74c9dbbb64c6",
   "metadata": {
    "collapsed": true,
    "jupyter": {
     "outputs_hidden": true
    },
    "tags": []
   },
   "outputs": [],
   "source": [
    "ray.shutdown()"
   ]
  },
  {
   "cell_type": "code",
   "execution_count": 37,
   "id": "87afd42f-0869-477f-9286-810b453a107e",
   "metadata": {
    "tags": []
   },
   "outputs": [
    {
     "name": "stdout",
     "output_type": "stream",
     "text": [
      "The times in seconds\n",
      "with ray: -102.90832924842834, without ray: -119.4882664680481, with ray and scheduler: -94.66664123535156\n"
     ]
    }
   ],
   "source": [
    "print(\"The times in seconds\")\n",
    "print(f\"with ray: {times[0]}, without ray: {times[1]}, with ray and scheduler: {times[2]}\")"
   ]
  },
  {
   "cell_type": "code",
   "execution_count": null,
   "id": "96fefe58-861d-4984-9805-53400d9a7fbb",
   "metadata": {
    "collapsed": true,
    "jupyter": {
     "outputs_hidden": true
    },
    "tags": []
   },
   "outputs": [],
   "source": []
  }
 ],
 "metadata": {
  "kernelspec": {
   "display_name": "Python 3",
   "language": "python",
   "name": "python3"
  },
  "language_info": {
   "codemirror_mode": {
    "name": "ipython",
    "version": 3
   },
   "file_extension": ".py",
   "mimetype": "text/x-python",
   "name": "python",
   "nbconvert_exporter": "python",
   "pygments_lexer": "ipython3",
   "version": "3.8.5"
  }
 },
 "nbformat": 4,
 "nbformat_minor": 5
}
